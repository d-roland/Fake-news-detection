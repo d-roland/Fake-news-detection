{
  "nbformat": 4,
  "nbformat_minor": 0,
  "metadata": {
    "colab": {
      "name": "CS221 - Fake news detection.ipynb",
      "provenance": [],
      "collapsed_sections": [],
      "toc_visible": true
    },
    "kernelspec": {
      "name": "python3",
      "display_name": "Python 3"
    }
  },
  "cells": [
    {
      "cell_type": "code",
      "metadata": {
        "id": "Mf5CXgzbgWXl",
        "colab_type": "code",
        "outputId": "694ad4e4-8dcf-4a6e-9ffa-db76285fff24",
        "colab": {
          "base_uri": "https://localhost:8080/",
          "height": 35
        }
      },
      "source": [
        "%tensorflow_version 1.x"
      ],
      "execution_count": 0,
      "outputs": [
        {
          "output_type": "stream",
          "text": [
            "TensorFlow 1.x selected.\n"
          ],
          "name": "stdout"
        }
      ]
    },
    {
      "cell_type": "code",
      "metadata": {
        "id": "c_ENWtf9TBnA",
        "colab_type": "code",
        "outputId": "7720945c-b898-49fb-eb48-22c22db83b41",
        "colab": {
          "base_uri": "https://localhost:8080/",
          "height": 129
        }
      },
      "source": [
        "import warnings\n",
        "warnings.filterwarnings('ignore')\n",
        "import pandas as pd\n",
        "import matplotlib.pyplot as plt\n",
        "import numpy as np\n",
        "import seaborn as sns\n",
        "import re\n",
        "import csv\n",
        "from collections import Counter, defaultdict\n",
        "from wordcloud import WordCloud\n",
        "import nltk\n",
        "nltk.download(\"stopwords\")\n",
        "nltk.download('wordnet')\n",
        "nltk.download('punkt')\n",
        "from nltk.stem import WordNetLemmatizer\n",
        "import gensim\n",
        "import tensorflow as tf\n",
        "import tensorflow_hub as hub\n",
        "from tensorflow import keras\n",
        "from tensorflow.keras.preprocessing.text import Tokenizer\n",
        "from tensorflow.keras.preprocessing.sequence import pad_sequences\n",
        "from tensorflow.keras.models import Sequential\n",
        "from tensorflow.keras.layers import Dense, Embedding, LSTM, Conv1D, MaxPool1D\n",
        "from sklearn.model_selection import train_test_split\n",
        "from sklearn.metrics import classification_report, accuracy_score, confusion_matrix\n",
        "from sklearn import metrics\n",
        "from sklearn.cluster import KMeans, MiniBatchKMeans\n",
        "from datetime import datetime\n",
        "from statistics import mean"
      ],
      "execution_count": 0,
      "outputs": [
        {
          "output_type": "stream",
          "text": [
            "[nltk_data] Downloading package stopwords to /root/nltk_data...\n",
            "[nltk_data]   Unzipping corpora/stopwords.zip.\n",
            "[nltk_data] Downloading package wordnet to /root/nltk_data...\n",
            "[nltk_data]   Unzipping corpora/wordnet.zip.\n",
            "[nltk_data] Downloading package punkt to /root/nltk_data...\n",
            "[nltk_data]   Unzipping tokenizers/punkt.zip.\n"
          ],
          "name": "stdout"
        }
      ]
    },
    {
      "cell_type": "code",
      "metadata": {
        "id": "vMTDJKlAQJOV",
        "colab_type": "code",
        "outputId": "aefac5e1-1d6e-4c49-8eb2-e5ec1a791e0f",
        "colab": {
          "base_uri": "https://localhost:8080/",
          "height": 130
        }
      },
      "source": [
        "from google.colab import auth\n",
        "from oauth2client.client import GoogleCredentials\n",
        "from google.colab import drive\n",
        "drive.mount('/content/drive')"
      ],
      "execution_count": 0,
      "outputs": [
        {
          "output_type": "stream",
          "text": [
            "Go to this URL in a browser: https://accounts.google.com/o/oauth2/auth?client_id=947318989803-6bn6qk8qdgf4n4g3pfee6491hc0brc4i.apps.googleusercontent.com&redirect_uri=urn%3aietf%3awg%3aoauth%3a2.0%3aoob&response_type=code&scope=email%20https%3a%2f%2fwww.googleapis.com%2fauth%2fdocs.test%20https%3a%2f%2fwww.googleapis.com%2fauth%2fdrive%20https%3a%2f%2fwww.googleapis.com%2fauth%2fdrive.photos.readonly%20https%3a%2f%2fwww.googleapis.com%2fauth%2fpeopleapi.readonly\n",
            "\n",
            "Enter your authorization code:\n",
            "··········\n",
            "Mounted at /content/drive\n"
          ],
          "name": "stdout"
        }
      ]
    },
    {
      "cell_type": "markdown",
      "metadata": {
        "id": "NjaWZbnT1caV",
        "colab_type": "text"
      },
      "source": [
        "# **Gathering data**"
      ]
    },
    {
      "cell_type": "markdown",
      "metadata": {
        "id": "GHHOy9lxriat",
        "colab_type": "text"
      },
      "source": [
        "## Integrating BuzzFeed Real News"
      ]
    },
    {
      "cell_type": "code",
      "metadata": {
        "id": "NpT6U87aPqxq",
        "colab_type": "code",
        "outputId": "9cdae11d-f57b-44dc-b81a-05481b668437",
        "colab": {
          "base_uri": "https://localhost:8080/",
          "height": 35
        }
      },
      "source": [
        "bfreal = pd.read_csv('/content/drive/My Drive/CS221_Project/BuzzFeed_real_news_content.csv')\n",
        "bfreal.shape"
      ],
      "execution_count": 0,
      "outputs": [
        {
          "output_type": "execute_result",
          "data": {
            "text/plain": [
              "(91, 12)"
            ]
          },
          "metadata": {
            "tags": []
          },
          "execution_count": 4
        }
      ]
    },
    {
      "cell_type": "code",
      "metadata": {
        "id": "Ep9fqbUZSkSV",
        "colab_type": "code",
        "outputId": "8552ef02-2008-4f8e-f96f-42035e03053a",
        "colab": {
          "base_uri": "https://localhost:8080/",
          "height": 604
        }
      },
      "source": [
        "bfreal.head()"
      ],
      "execution_count": 0,
      "outputs": [
        {
          "output_type": "execute_result",
          "data": {
            "text/html": [
              "<div>\n",
              "<style scoped>\n",
              "    .dataframe tbody tr th:only-of-type {\n",
              "        vertical-align: middle;\n",
              "    }\n",
              "\n",
              "    .dataframe tbody tr th {\n",
              "        vertical-align: top;\n",
              "    }\n",
              "\n",
              "    .dataframe thead th {\n",
              "        text-align: right;\n",
              "    }\n",
              "</style>\n",
              "<table border=\"1\" class=\"dataframe\">\n",
              "  <thead>\n",
              "    <tr style=\"text-align: right;\">\n",
              "      <th></th>\n",
              "      <th>id</th>\n",
              "      <th>title</th>\n",
              "      <th>text</th>\n",
              "      <th>url</th>\n",
              "      <th>top_img</th>\n",
              "      <th>authors</th>\n",
              "      <th>source</th>\n",
              "      <th>publish_date</th>\n",
              "      <th>movies</th>\n",
              "      <th>images</th>\n",
              "      <th>canonical_link</th>\n",
              "      <th>meta_data</th>\n",
              "    </tr>\n",
              "  </thead>\n",
              "  <tbody>\n",
              "    <tr>\n",
              "      <th>0</th>\n",
              "      <td>Real_1-Webpage</td>\n",
              "      <td>Another Terrorist Attack in NYC…Why Are we STI...</td>\n",
              "      <td>On Saturday, September 17 at 8:30 pm EST, an e...</td>\n",
              "      <td>http://eaglerising.com/36942/another-terrorist...</td>\n",
              "      <td>http://eaglerising.com/wp-content/uploads/2016...</td>\n",
              "      <td>View All Posts,Leonora Cravotta</td>\n",
              "      <td>http://eaglerising.com</td>\n",
              "      <td>{'$date': 1474528230000}</td>\n",
              "      <td>NaN</td>\n",
              "      <td>http://constitution.com/wp-content/uploads/201...</td>\n",
              "      <td>http://eaglerising.com/36942/another-terrorist...</td>\n",
              "      <td>{\"description\": \"\\u201cWe believe at this poin...</td>\n",
              "    </tr>\n",
              "    <tr>\n",
              "      <th>1</th>\n",
              "      <td>Real_10-Webpage</td>\n",
              "      <td>Donald Trump: Drugs a 'Very, Very Big Factor' ...</td>\n",
              "      <td>Less than a day after protests over the police...</td>\n",
              "      <td>http://abcn.ws/2d4lNn9</td>\n",
              "      <td>http://a.abcnews.com/images/Politics/AP_donald...</td>\n",
              "      <td>More Candace,Adam Kelsey,Abc News,More Adam</td>\n",
              "      <td>http://abcn.ws</td>\n",
              "      <td>NaN</td>\n",
              "      <td>NaN</td>\n",
              "      <td>http://www.googleadservices.com/pagead/convers...</td>\n",
              "      <td>http://abcnews.go.com/Politics/donald-trump-dr...</td>\n",
              "      <td>{\"fb_title\": \"Trump: Drugs a 'Very, Very Big F...</td>\n",
              "    </tr>\n",
              "    <tr>\n",
              "      <th>2</th>\n",
              "      <td>Real_11-Webpage</td>\n",
              "      <td>Obama To UN: ‘Giving Up Liberty, Enhances Secu...</td>\n",
              "      <td>Obama To UN: ‘Giving Up Liberty, Enhances Secu...</td>\n",
              "      <td>http://rightwingnews.com/barack-obama/obama-un...</td>\n",
              "      <td>http://rightwingnews.com/wp-content/uploads/20...</td>\n",
              "      <td>Cassy Fiano</td>\n",
              "      <td>http://rightwingnews.com</td>\n",
              "      <td>{'$date': 1474476044000}</td>\n",
              "      <td>https://www.youtube.com/embed/ji6pl5Vwrvk</td>\n",
              "      <td>http://rightwingnews.com/wp-content/uploads/20...</td>\n",
              "      <td>http://rightwingnews.com/barack-obama/obama-un...</td>\n",
              "      <td>{\"googlebot\": \"noimageindex\", \"og\": {\"site_nam...</td>\n",
              "    </tr>\n",
              "    <tr>\n",
              "      <th>3</th>\n",
              "      <td>Real_12-Webpage</td>\n",
              "      <td>Trump vs. Clinton: A Fundamental Clash over Ho...</td>\n",
              "      <td>Getty Images Wealth Of Nations Trump vs. Clint...</td>\n",
              "      <td>http://politi.co/2de2qs0</td>\n",
              "      <td>http://static.politico.com/e9/11/6144cdc24e319...</td>\n",
              "      <td>Jack Shafer,Erick Trickey,Zachary Karabell</td>\n",
              "      <td>http://politi.co</td>\n",
              "      <td>{'$date': 1474974420000}</td>\n",
              "      <td>NaN</td>\n",
              "      <td>https://static.politico.com/dims4/default/8a1c...</td>\n",
              "      <td>http://www.politico.com/magazine/story/2016/09...</td>\n",
              "      <td>{\"description\": \"He sees it as zero-sum. She b...</td>\n",
              "    </tr>\n",
              "    <tr>\n",
              "      <th>4</th>\n",
              "      <td>Real_13-Webpage</td>\n",
              "      <td>President Obama Vetoes 9/11 Victims Bill, Sett...</td>\n",
              "      <td>President Obama today vetoed a bill that would...</td>\n",
              "      <td>http://abcn.ws/2dh2NFs</td>\n",
              "      <td>http://a.abcnews.com/images/US/AP_Obama_BM_201...</td>\n",
              "      <td>John Parkinson,More John,Abc News,More Alexander</td>\n",
              "      <td>http://abcn.ws</td>\n",
              "      <td>NaN</td>\n",
              "      <td>NaN</td>\n",
              "      <td>http://www.googleadservices.com/pagead/convers...</td>\n",
              "      <td>http://abcnews.go.com/Politics/president-obama...</td>\n",
              "      <td>{\"fb_title\": \"President Obama Vetoes 9/11 Vict...</td>\n",
              "    </tr>\n",
              "  </tbody>\n",
              "</table>\n",
              "</div>"
            ],
            "text/plain": [
              "                id  ...                                          meta_data\n",
              "0   Real_1-Webpage  ...  {\"description\": \"\\u201cWe believe at this poin...\n",
              "1  Real_10-Webpage  ...  {\"fb_title\": \"Trump: Drugs a 'Very, Very Big F...\n",
              "2  Real_11-Webpage  ...  {\"googlebot\": \"noimageindex\", \"og\": {\"site_nam...\n",
              "3  Real_12-Webpage  ...  {\"description\": \"He sees it as zero-sum. She b...\n",
              "4  Real_13-Webpage  ...  {\"fb_title\": \"President Obama Vetoes 9/11 Vict...\n",
              "\n",
              "[5 rows x 12 columns]"
            ]
          },
          "metadata": {
            "tags": []
          },
          "execution_count": 5
        }
      ]
    },
    {
      "cell_type": "code",
      "metadata": {
        "id": "rDI-ARiSwxBL",
        "colab_type": "code",
        "outputId": "e731627e-9d84-425d-de1f-e60cb1484406",
        "colab": {
          "base_uri": "https://localhost:8080/",
          "height": 290
        }
      },
      "source": [
        "bfreal.describe()"
      ],
      "execution_count": 0,
      "outputs": [
        {
          "output_type": "execute_result",
          "data": {
            "text/html": [
              "<div>\n",
              "<style scoped>\n",
              "    .dataframe tbody tr th:only-of-type {\n",
              "        vertical-align: middle;\n",
              "    }\n",
              "\n",
              "    .dataframe tbody tr th {\n",
              "        vertical-align: top;\n",
              "    }\n",
              "\n",
              "    .dataframe thead th {\n",
              "        text-align: right;\n",
              "    }\n",
              "</style>\n",
              "<table border=\"1\" class=\"dataframe\">\n",
              "  <thead>\n",
              "    <tr style=\"text-align: right;\">\n",
              "      <th></th>\n",
              "      <th>id</th>\n",
              "      <th>title</th>\n",
              "      <th>text</th>\n",
              "      <th>url</th>\n",
              "      <th>top_img</th>\n",
              "      <th>authors</th>\n",
              "      <th>source</th>\n",
              "      <th>publish_date</th>\n",
              "      <th>movies</th>\n",
              "      <th>images</th>\n",
              "      <th>canonical_link</th>\n",
              "      <th>meta_data</th>\n",
              "    </tr>\n",
              "  </thead>\n",
              "  <tbody>\n",
              "    <tr>\n",
              "      <th>count</th>\n",
              "      <td>91</td>\n",
              "      <td>91</td>\n",
              "      <td>91</td>\n",
              "      <td>91</td>\n",
              "      <td>91</td>\n",
              "      <td>84</td>\n",
              "      <td>91</td>\n",
              "      <td>56</td>\n",
              "      <td>4</td>\n",
              "      <td>91</td>\n",
              "      <td>90</td>\n",
              "      <td>91</td>\n",
              "    </tr>\n",
              "    <tr>\n",
              "      <th>unique</th>\n",
              "      <td>91</td>\n",
              "      <td>91</td>\n",
              "      <td>91</td>\n",
              "      <td>91</td>\n",
              "      <td>87</td>\n",
              "      <td>65</td>\n",
              "      <td>14</td>\n",
              "      <td>53</td>\n",
              "      <td>4</td>\n",
              "      <td>90</td>\n",
              "      <td>90</td>\n",
              "      <td>91</td>\n",
              "    </tr>\n",
              "    <tr>\n",
              "      <th>top</th>\n",
              "      <td>Real_67-Webpage</td>\n",
              "      <td>More Milestone Moments for Donald Trump! – Eag...</td>\n",
              "      <td>CHAOS! NC Protest MOB Ambushes Female Truck Dr...</td>\n",
              "      <td>http://politi.co/2da5pR0</td>\n",
              "      <td>http://static.politico.com/da/f5/44342c424c68b...</td>\n",
              "      <td>Jack Shafer,Louis Nelson</td>\n",
              "      <td>http://politi.co</td>\n",
              "      <td>{'$date': 1474329600000}</td>\n",
              "      <td>https://www.youtube.com/embed/7LUv7x5bXV4</td>\n",
              "      <td>http://static.politico.com/da/f5/44342c424c68b...</td>\n",
              "      <td>http://www.cnn.com/2016/09/20/politics/electio...</td>\n",
              "      <td>{\"googlebot\": \"noimageindex\", \"og\": {\"site_nam...</td>\n",
              "    </tr>\n",
              "    <tr>\n",
              "      <th>freq</th>\n",
              "      <td>1</td>\n",
              "      <td>1</td>\n",
              "      <td>1</td>\n",
              "      <td>1</td>\n",
              "      <td>3</td>\n",
              "      <td>5</td>\n",
              "      <td>32</td>\n",
              "      <td>2</td>\n",
              "      <td>1</td>\n",
              "      <td>2</td>\n",
              "      <td>1</td>\n",
              "      <td>1</td>\n",
              "    </tr>\n",
              "  </tbody>\n",
              "</table>\n",
              "</div>"
            ],
            "text/plain": [
              "                     id  ...                                          meta_data\n",
              "count                91  ...                                                 91\n",
              "unique               91  ...                                                 91\n",
              "top     Real_67-Webpage  ...  {\"googlebot\": \"noimageindex\", \"og\": {\"site_nam...\n",
              "freq                  1  ...                                                  1\n",
              "\n",
              "[4 rows x 12 columns]"
            ]
          },
          "metadata": {
            "tags": []
          },
          "execution_count": 6
        }
      ]
    },
    {
      "cell_type": "code",
      "metadata": {
        "id": "K_XfCyQvnVM0",
        "colab_type": "code",
        "outputId": "1c001071-a792-4c04-ea21-8a2f105c5970",
        "colab": {
          "base_uri": "https://localhost:8080/",
          "height": 298
        }
      },
      "source": [
        "for key,count in bfreal.source.value_counts().iteritems():\n",
        "    print(\"{}:\\t{}\".format(key, count))\n",
        "    \n",
        "print(\"Total Records:\\t{}\".format(bfreal.shape[0]))"
      ],
      "execution_count": 0,
      "outputs": [
        {
          "output_type": "stream",
          "text": [
            "http://politi.co:\t32\n",
            "http://cnn.it:\t23\n",
            "http://abcn.ws:\t9\n",
            "http://rightwingnews.com:\t7\n",
            "http://eaglerising.com:\t7\n",
            "http://www.addictinginfo.org:\t3\n",
            "http://www.ifyouonlynews.com:\t2\n",
            "http://addictinginfo.org:\t2\n",
            "http://freedomdaily.com:\t1\n",
            "http://winningdemocrats.com:\t1\n",
            "http://conservativebyte.com:\t1\n",
            "http://www.opposingviews.com:\t1\n",
            "https://www.washingtonpost.com:\t1\n",
            "http://occupydemocrats.com:\t1\n",
            "Total Records:\t91\n"
          ],
          "name": "stdout"
        }
      ]
    },
    {
      "cell_type": "code",
      "metadata": {
        "id": "B3Eawn-ApE3o",
        "colab_type": "code",
        "outputId": "a2a82650-74a5-445c-869b-e5dc57aeac82",
        "colab": {
          "base_uri": "https://localhost:8080/",
          "height": 448
        }
      },
      "source": [
        "plt.figure(figsize=(20,5))\n",
        "chart = sns.countplot(\"source\", data=bfreal)\n",
        "chart.set_xticklabels(chart.get_xticklabels(), rotation=45)\n",
        "plt.show()"
      ],
      "execution_count": 0,
      "outputs": [
        {
          "output_type": "display_data",
          "data": {
            "image/png": "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\n",
