{
  "nbformat": 4,
  "nbformat_minor": 0,
  "metadata": {
    "colab": {
      "name": "CS221_Fake_news_detection.ipynb",
      "provenance": [],
      "collapsed_sections": [],
      "toc_visible": true,
      "include_colab_link": true
    },
    "kernelspec": {
      "name": "python3",
      "display_name": "Python 3"
    },
    "accelerator": "GPU"
  },
  "cells": [
    {
      "cell_type": "markdown",
      "metadata": {
        "id": "view-in-github",
        "colab_type": "text"
      },
      "source": [
        "<a href=\"https://colab.research.google.com/github/d-roland/Fake-news-detection/blob/master/CS221_Fake_news_detection.ipynb\" target=\"_parent\"><img src=\"https://colab.research.google.com/assets/colab-badge.svg\" alt=\"Open In Colab\"/></a>"
      ]
    },
    {
      "cell_type": "code",
      "metadata": {
        "id": "Mf5CXgzbgWXl",
        "colab_type": "code",
        "outputId": "4710b774-72db-41e4-c64f-162306f248c1",
        "colab": {
          "base_uri": "https://localhost:8080/",
          "height": 35
        }
      },
      "source": [
        "%tensorflow_version 1.x"
      ],
      "execution_count": 1,
      "outputs": [
        {
          "output_type": "stream",
          "text": [
            "TensorFlow 1.x selected.\n"
          ],
          "name": "stdout"
        }
      ]
    },
    {
      "cell_type": "code",
      "metadata": {
        "id": "c_ENWtf9TBnA",
        "colab_type": "code",
        "outputId": "6edc3670-dda6-4483-da46-b7289de1b310",
        "colab": {
          "base_uri": "https://localhost:8080/",
          "height": 129
        }
      },
      "source": [
        "import warnings\n",
        "warnings.filterwarnings('ignore')\n",
        "import pandas as pd\n",
        "import matplotlib.pyplot as plt\n",
        "import numpy as np\n",
        "import seaborn as sns\n",
        "import re\n",
        "import csv\n",
        "from collections import Counter, defaultdict\n",
        "from wordcloud import WordCloud\n",
        "import nltk\n",
        "nltk.download(\"stopwords\")\n",
        "nltk.download('wordnet')\n",
        "nltk.download('punkt')\n",
        "from nltk.stem import WordNetLemmatizer\n",
        "import gensim\n",
        "import tensorflow as tf\n",
        "import tensorflow_hub as hub\n",
        "from tensorflow import keras\n",
        "from tensorflow.keras.preprocessing.text import Tokenizer\n",
        "from tensorflow.keras.preprocessing.sequence import pad_sequences\n",
        "from tensorflow.keras.models import Sequential\n",
        "from tensorflow.keras.layers import Dense, Embedding, LSTM, Conv1D, MaxPool1D\n",
        "from sklearn.model_selection import train_test_split\n",
        "from sklearn.metrics import classification_report, accuracy_score, confusion_matrix\n",
        "from sklearn import metrics\n",
        "from sklearn.cluster import KMeans, MiniBatchKMeans\n",
        "from datetime import datetime\n",
        "from statistics import mean\n",
        "import random"
      ],
      "execution_count": 94,
      "outputs": [
        {
          "output_type": "stream",
          "text": [
            "[nltk_data] Downloading package stopwords to /root/nltk_data...\n",
            "[nltk_data]   Package stopwords is already up-to-date!\n",
            "[nltk_data] Downloading package wordnet to /root/nltk_data...\n",
            "[nltk_data]   Package wordnet is already up-to-date!\n",
            "[nltk_data] Downloading package punkt to /root/nltk_data...\n",
            "[nltk_data]   Package punkt is already up-to-date!\n"
          ],
          "name": "stdout"
        }
      ]
    },
    {
      "cell_type": "code",
      "metadata": {
        "id": "vMTDJKlAQJOV",
        "colab_type": "code",
        "outputId": "00506029-93be-44e5-8783-ae7c4b801c4f",
        "colab": {
          "base_uri": "https://localhost:8080/",
          "height": 130
        }
      },
      "source": [
        "from google.colab import auth\n",
        "from oauth2client.client import GoogleCredentials\n",
        "from google.colab import drive\n",
        "drive.mount('/content/drive')"
      ],
      "execution_count": 3,
      "outputs": [
        {
          "output_type": "stream",
          "text": [
            "Go to this URL in a browser: https://accounts.google.com/o/oauth2/auth?client_id=947318989803-6bn6qk8qdgf4n4g3pfee6491hc0brc4i.apps.googleusercontent.com&redirect_uri=urn%3aietf%3awg%3aoauth%3a2.0%3aoob&response_type=code&scope=email%20https%3a%2f%2fwww.googleapis.com%2fauth%2fdocs.test%20https%3a%2f%2fwww.googleapis.com%2fauth%2fdrive%20https%3a%2f%2fwww.googleapis.com%2fauth%2fdrive.photos.readonly%20https%3a%2f%2fwww.googleapis.com%2fauth%2fpeopleapi.readonly\n",
            "\n",
            "Enter your authorization code:\n",
            "··········\n",
            "Mounted at /content/drive\n"
          ],
          "name": "stdout"
        }
      ]
    },
    {
      "cell_type": "markdown",
      "metadata": {
        "id": "NjaWZbnT1caV",
        "colab_type": "text"
      },
      "source": [
        "# **Gathering data**"
      ]
    },
    {
      "cell_type": "markdown",
      "metadata": {
        "id": "GHHOy9lxriat",
        "colab_type": "text"
      },
      "source": [
        "## Integrating BuzzFeed Real News"
      ]
    },
    {
      "cell_type": "code",
      "metadata": {
        "id": "NpT6U87aPqxq",
        "colab_type": "code",
        "outputId": "91bfa102-e9b1-4ad0-a4eb-3221166a7680",
        "colab": {
          "base_uri": "https://localhost:8080/",
          "height": 35
        }
      },
      "source": [
        "bfreal = pd.read_csv('/content/drive/My Drive/CS221_Project/BuzzFeed_real_news_content.csv')\n",
        "bfreal.shape"
      ],
      "execution_count": 4,
      "outputs": [
        {
          "output_type": "execute_result",
          "data": {
            "text/plain": [
              "(91, 12)"
            ]
          },
          "metadata": {
            "tags": []
          },
          "execution_count": 4
        }
      ]
    },
    {
      "cell_type": "code",
      "metadata": {
        "id": "Ep9fqbUZSkSV",
        "colab_type": "code",
        "outputId": "3426f37e-6ad2-4575-d553-70dd7d737916",
        "colab": {
          "base_uri": "https://localhost:8080/",
          "height": 604
        }
      },
      "source": [
        "bfreal.head()"
      ],
      "execution_count": 5,
      "outputs": [
        {
          "output_type": "execute_result",
          "data": {
            "text/html": [
              "<div>\n",
              "<style scoped>\n",
              "    .dataframe tbody tr th:only-of-type {\n",
              "        vertical-align: middle;\n",
              "    }\n",
              "\n",
              "    .dataframe tbody tr th {\n",
              "        vertical-align: top;\n",
              "    }\n",
              "\n",
              "    .dataframe thead th {\n",
              "        text-align: right;\n",
              "    }\n",
              "</style>\n",
              "<table border=\"1\" class=\"dataframe\">\n",
              "  <thead>\n",
              "    <tr style=\"text-align: right;\">\n",
              "      <th></th>\n",
              "      <th>id</th>\n",
              "      <th>title</th>\n",
              "      <th>text</th>\n",
              "      <th>url</th>\n",
              "      <th>top_img</th>\n",
              "      <th>authors</th>\n",
              "      <th>source</th>\n",
              "      <th>publish_date</th>\n",
              "      <th>movies</th>\n",
              "      <th>images</th>\n",
              "      <th>canonical_link</th>\n",
              "      <th>meta_data</th>\n",
              "    </tr>\n",
              "  </thead>\n",
              "  <tbody>\n",
              "    <tr>\n",
              "      <th>0</th>\n",
              "      <td>Real_1-Webpage</td>\n",
              "      <td>Another Terrorist Attack in NYC…Why Are we STI...</td>\n",
              "      <td>On Saturday, September 17 at 8:30 pm EST, an e...</td>\n",
              "      <td>http://eaglerising.com/36942/another-terrorist...</td>\n",
              "      <td>http://eaglerising.com/wp-content/uploads/2016...</td>\n",
              "      <td>View All Posts,Leonora Cravotta</td>\n",
              "      <td>http://eaglerising.com</td>\n",
              "      <td>{'$date': 1474528230000}</td>\n",
              "      <td>NaN</td>\n",
              "      <td>http://constitution.com/wp-content/uploads/201...</td>\n",
              "      <td>http://eaglerising.com/36942/another-terrorist...</td>\n",
              "      <td>{\"description\": \"\\u201cWe believe at this poin...</td>\n",
              "    </tr>\n",
              "    <tr>\n",
              "      <th>1</th>\n",
              "      <td>Real_10-Webpage</td>\n",
              "      <td>Donald Trump: Drugs a 'Very, Very Big Factor' ...</td>\n",
              "      <td>Less than a day after protests over the police...</td>\n",
              "      <td>http://abcn.ws/2d4lNn9</td>\n",
              "      <td>http://a.abcnews.com/images/Politics/AP_donald...</td>\n",
              "      <td>More Candace,Adam Kelsey,Abc News,More Adam</td>\n",
              "      <td>http://abcn.ws</td>\n",
              "      <td>NaN</td>\n",
              "      <td>NaN</td>\n",
              "      <td>http://www.googleadservices.com/pagead/convers...</td>\n",
              "      <td>http://abcnews.go.com/Politics/donald-trump-dr...</td>\n",
              "      <td>{\"fb_title\": \"Trump: Drugs a 'Very, Very Big F...</td>\n",
              "    </tr>\n",
              "    <tr>\n",
              "      <th>2</th>\n",
              "      <td>Real_11-Webpage</td>\n",
              "      <td>Obama To UN: ‘Giving Up Liberty, Enhances Secu...</td>\n",
              "      <td>Obama To UN: ‘Giving Up Liberty, Enhances Secu...</td>\n",
              "      <td>http://rightwingnews.com/barack-obama/obama-un...</td>\n",
              "      <td>http://rightwingnews.com/wp-content/uploads/20...</td>\n",
              "      <td>Cassy Fiano</td>\n",
              "      <td>http://rightwingnews.com</td>\n",
              "      <td>{'$date': 1474476044000}</td>\n",
              "      <td>https://www.youtube.com/embed/ji6pl5Vwrvk</td>\n",
              "      <td>http://rightwingnews.com/wp-content/uploads/20...</td>\n",
              "      <td>http://rightwingnews.com/barack-obama/obama-un...</td>\n",
              "      <td>{\"googlebot\": \"noimageindex\", \"og\": {\"site_nam...</td>\n",
              "    </tr>\n",
              "    <tr>\n",
              "      <th>3</th>\n",
              "      <td>Real_12-Webpage</td>\n",
              "      <td>Trump vs. Clinton: A Fundamental Clash over Ho...</td>\n",
              "      <td>Getty Images Wealth Of Nations Trump vs. Clint...</td>\n",
              "      <td>http://politi.co/2de2qs0</td>\n",
              "      <td>http://static.politico.com/e9/11/6144cdc24e319...</td>\n",
              "      <td>Jack Shafer,Erick Trickey,Zachary Karabell</td>\n",
              "      <td>http://politi.co</td>\n",
              "      <td>{'$date': 1474974420000}</td>\n",
              "      <td>NaN</td>\n",
              "      <td>https://static.politico.com/dims4/default/8a1c...</td>\n",
              "      <td>http://www.politico.com/magazine/story/2016/09...</td>\n",
              "      <td>{\"description\": \"He sees it as zero-sum. She b...</td>\n",
              "    </tr>\n",
              "    <tr>\n",
              "      <th>4</th>\n",
              "      <td>Real_13-Webpage</td>\n",
              "      <td>President Obama Vetoes 9/11 Victims Bill, Sett...</td>\n",
              "      <td>President Obama today vetoed a bill that would...</td>\n",
              "      <td>http://abcn.ws/2dh2NFs</td>\n",
              "      <td>http://a.abcnews.com/images/US/AP_Obama_BM_201...</td>\n",
              "      <td>John Parkinson,More John,Abc News,More Alexander</td>\n",
              "      <td>http://abcn.ws</td>\n",
              "      <td>NaN</td>\n",
              "      <td>NaN</td>\n",
              "      <td>http://www.googleadservices.com/pagead/convers...</td>\n",
              "      <td>http://abcnews.go.com/Politics/president-obama...</td>\n",
              "      <td>{\"fb_title\": \"President Obama Vetoes 9/11 Vict...</td>\n",
              "    </tr>\n",
              "  </tbody>\n",
              "</table>\n",
              "</div>"
            ],
            "text/plain": [
              "                id  ...                                          meta_data\n",
              "0   Real_1-Webpage  ...  {\"description\": \"\\u201cWe believe at this poin...\n",
              "1  Real_10-Webpage  ...  {\"fb_title\": \"Trump: Drugs a 'Very, Very Big F...\n",
              "2  Real_11-Webpage  ...  {\"googlebot\": \"noimageindex\", \"og\": {\"site_nam...\n",
              "3  Real_12-Webpage  ...  {\"description\": \"He sees it as zero-sum. She b...\n",
              "4  Real_13-Webpage  ...  {\"fb_title\": \"President Obama Vetoes 9/11 Vict...\n",
              "\n",
              "[5 rows x 12 columns]"
            ]
          },
          "metadata": {
            "tags": []
          },
          "execution_count": 5
        }
      ]
    },
    {
      "cell_type": "code",
      "metadata": {
        "id": "rDI-ARiSwxBL",
        "colab_type": "code",
        "outputId": "5cb05877-667f-4d6a-fc83-67211e397b77",
        "colab": {
          "base_uri": "https://localhost:8080/",
          "height": 290
        }
      },
      "source": [
        "bfreal.describe()"
      ],
      "execution_count": 6,
      "outputs": [
        {
          "output_type": "execute_result",
          "data": {
            "text/html": [
              "<div>\n",
              "<style scoped>\n",
              "    .dataframe tbody tr th:only-of-type {\n",
              "        vertical-align: middle;\n",
              "    }\n",
              "\n",
              "    .dataframe tbody tr th {\n",
              "        vertical-align: top;\n",
              "    }\n",
              "\n",
              "    .dataframe thead th {\n",
              "        text-align: right;\n",
              "    }\n",
              "</style>\n",
              "<table border=\"1\" class=\"dataframe\">\n",
              "  <thead>\n",
              "    <tr style=\"text-align: right;\">\n",
              "      <th></th>\n",
              "      <th>id</th>\n",
              "      <th>title</th>\n",
              "      <th>text</th>\n",
              "      <th>url</th>\n",
              "      <th>top_img</th>\n",
              "      <th>authors</th>\n",
              "      <th>source</th>\n",
              "      <th>publish_date</th>\n",
              "      <th>movies</th>\n",
              "      <th>images</th>\n",
              "      <th>canonical_link</th>\n",
              "      <th>meta_data</th>\n",
              "    </tr>\n",
              "  </thead>\n",
              "  <tbody>\n",
              "    <tr>\n",
              "      <th>count</th>\n",
              "      <td>91</td>\n",
              "      <td>91</td>\n",
              "      <td>91</td>\n",
              "      <td>91</td>\n",
              "      <td>91</td>\n",
              "      <td>84</td>\n",
              "      <td>91</td>\n",
              "      <td>56</td>\n",
              "      <td>4</td>\n",
              "      <td>91</td>\n",
              "      <td>90</td>\n",
              "      <td>91</td>\n",
              "    </tr>\n",
              "    <tr>\n",
              "      <th>unique</th>\n",
              "      <td>91</td>\n",
              "      <td>91</td>\n",
              "      <td>91</td>\n",
              "      <td>91</td>\n",
              "      <td>87</td>\n",
              "      <td>65</td>\n",
              "      <td>14</td>\n",
              "      <td>53</td>\n",
              "      <td>4</td>\n",
              "      <td>90</td>\n",
              "      <td>90</td>\n",
              "      <td>91</td>\n",
              "    </tr>\n",
              "    <tr>\n",
              "      <th>top</th>\n",
              "      <td>Real_47-Webpage</td>\n",
              "      <td>One Critically Wounded As Charlotte Police End...</td>\n",
              "      <td>Milwaukee Sheriff David A. Clarke Jr. has been...</td>\n",
              "      <td>http://rightwingnews.com/top-news/charlotte-po...</td>\n",
              "      <td>http://static.politico.com/da/f5/44342c424c68b...</td>\n",
              "      <td>Jack Shafer,Louis Nelson</td>\n",
              "      <td>http://politi.co</td>\n",
              "      <td>{'$date': 1474329600000}</td>\n",
              "      <td>https://www.youtube.com/embed/TxBcCSaBtXc?feat...</td>\n",
              "      <td>http://static.politico.com/da/f5/44342c424c68b...</td>\n",
              "      <td>http://abcnews.go.com/Politics/anthony-weiner-...</td>\n",
              "      <td>{\"description\": \"Jeb Bush will be a guest lect...</td>\n",
              "    </tr>\n",
              "    <tr>\n",
              "      <th>freq</th>\n",
              "      <td>1</td>\n",
              "      <td>1</td>\n",
              "      <td>1</td>\n",
              "      <td>1</td>\n",
              "      <td>3</td>\n",
              "      <td>5</td>\n",
              "      <td>32</td>\n",
              "      <td>2</td>\n",
              "      <td>1</td>\n",
              "      <td>2</td>\n",
              "      <td>1</td>\n",
              "      <td>1</td>\n",
              "    </tr>\n",
              "  </tbody>\n",
              "</table>\n",
              "</div>"
            ],
            "text/plain": [
              "                     id  ...                                          meta_data\n",
              "count                91  ...                                                 91\n",
              "unique               91  ...                                                 91\n",
              "top     Real_47-Webpage  ...  {\"description\": \"Jeb Bush will be a guest lect...\n",
              "freq                  1  ...                                                  1\n",
              "\n",
              "[4 rows x 12 columns]"
            ]
          },
          "metadata": {
            "tags": []
          },
          "execution_count": 6
        }
      ]
    },
    {
      "cell_type": "code",
      "metadata": {
        "id": "K_XfCyQvnVM0",
        "colab_type": "code",
        "outputId": "7626dfae-bbd2-4475-bfc3-4463462439d5",
        "colab": {
          "base_uri": "https://localhost:8080/",
          "height": 298
        }
      },
      "source": [
        "for key,count in bfreal.source.value_counts().iteritems():\n",
        "    print(\"{}:\\t{}\".format(key, count))\n",
        "    \n",
        "print(\"Total Records:\\t{}\".format(bfreal.shape[0]))"
      ],
      "execution_count": 7,
      "outputs": [
        {
          "output_type": "stream",
          "text": [
            "http://politi.co:\t32\n",
            "http://cnn.it:\t23\n",
            "http://abcn.ws:\t9\n",
            "http://rightwingnews.com:\t7\n",
            "http://eaglerising.com:\t7\n",
            "http://www.addictinginfo.org:\t3\n",
            "http://addictinginfo.org:\t2\n",
            "http://www.ifyouonlynews.com:\t2\n",
            "http://freedomdaily.com:\t1\n",
            "http://www.opposingviews.com:\t1\n",
            "https://www.washingtonpost.com:\t1\n",
            "http://conservativebyte.com:\t1\n",
            "http://winningdemocrats.com:\t1\n",
            "http://occupydemocrats.com:\t1\n",
            "Total Records:\t91\n"
          ],
          "name": "stdout"
        }
      ]
    },
    {
      "cell_type": "code",
      "metadata": {
        "id": "B3Eawn-ApE3o",
        "colab_type": "code",
        "outputId": "ccbf6b71-acff-49e5-8468-78e6ec97caa7",
        "colab": {
          "base_uri": "https://localhost:8080/",
          "height": 448
        }
      },
      "source": [
        "plt.figure(figsize=(20,5))\n",
        "chart = sns.countplot(\"source\", data=bfreal)\n",
        "chart.set_xticklabels(chart.get_xticklabels(), rotation=45)\n",
        "plt.show()"
      ],
      "execution_count": 8,
      "outputs": [
        {
          "output_type": "display_data",
          "data": {
            "image/png": "[encoded data removed]",
            "text/plain": [
              "<Figure size 1440x360 with 1 Axes>"
            ]
          },
          "metadata": {
            "tags": [],
            "needs_background": "light"
          }
        }
      ]
    },
    {
      "cell_type": "code",
      "metadata": {
        "id": "Tx0p7sEZOm61",
        "colab_type": "code",
        "outputId": "57e75e39-ba6e-46be-de85-11d2fd81aedd",
        "colab": {
          "base_uri": "https://localhost:8080/",
          "height": 35
        }
      },
      "source": [
        "#checking for rows with empty text\n",
        "[index for index,text in enumerate(bfreal.text.values) if str(text).strip() == '']"
      ],
      "execution_count": 9,
      "outputs": [
        {
          "output_type": "execute_result",
          "data": {
            "text/plain": [
              "[]"
            ]
          },
          "metadata": {
            "tags": []
          },
          "execution_count": 9
        }
      ]
    },
    {
      "cell_type": "markdown",
      "metadata": {
        "id": "V5Jywb1Bb3e4",
        "colab_type": "text"
      },
      "source": [
        "Adding class indication, and an empty subject column, prior to merging with Fake-and-real-news dataset."
      ]
    },
    {
      "cell_type": "code",
      "metadata": {
        "id": "vhLABQwdcD0m",
        "colab_type": "code",
        "outputId": "b72f83f7-ad7d-4a4d-f4b1-97d8cf39d749",
        "colab": {
          "base_uri": "https://localhost:8080/",
          "height": 604
        }
      },
      "source": [
        "bfreal[\"class\"]=1\n",
        "bfreal[\"subject\"]=''\n",
        "bfreal.head()"
      ],
      "execution_count": 10,
      "outputs": [
        {
          "output_type": "execute_result",
          "data": {
            "text/html": [
              "<div>\n",
              "<style scoped>\n",
              "    .dataframe tbody tr th:only-of-type {\n",
              "        vertical-align: middle;\n",
              "    }\n",
              "\n",
              "    .dataframe tbody tr th {\n",
              "        vertical-align: top;\n",
              "    }\n",
              "\n",
              "    .dataframe thead th {\n",
              "        text-align: right;\n",
              "    }\n",
              "</style>\n",
              "<table border=\"1\" class=\"dataframe\">\n",
              "  <thead>\n",
              "    <tr style=\"text-align: right;\">\n",
              "      <th></th>\n",
              "      <th>id</th>\n",
              "      <th>title</th>\n",
              "      <th>text</th>\n",
              "      <th>url</th>\n",
              "      <th>top_img</th>\n",
              "      <th>authors</th>\n",
              "      <th>source</th>\n",
              "      <th>publish_date</th>\n",
              "      <th>movies</th>\n",
              "      <th>images</th>\n",
              "      <th>canonical_link</th>\n",
              "      <th>meta_data</th>\n",
              "      <th>class</th>\n",
              "      <th>subject</th>\n",
              "    </tr>\n",
              "  </thead>\n",
              "  <tbody>\n",
              "    <tr>\n",
              "      <th>0</th>\n",
              "      <td>Real_1-Webpage</td>\n",
              "      <td>Another Terrorist Attack in NYC…Why Are we STI...</td>\n",
              "      <td>On Saturday, September 17 at 8:30 pm EST, an e...</td>\n",
              "      <td>http://eaglerising.com/36942/another-terrorist...</td>\n",
              "      <td>http://eaglerising.com/wp-content/uploads/2016...</td>\n",
              "      <td>View All Posts,Leonora Cravotta</td>\n",
              "      <td>http://eaglerising.com</td>\n",
              "      <td>{'$date': 1474528230000}</td>\n",
              "      <td>NaN</td>\n",
              "      <td>http://constitution.com/wp-content/uploads/201...</td>\n",
              "      <td>http://eaglerising.com/36942/another-terrorist...</td>\n",
              "      <td>{\"description\": \"\\u201cWe believe at this poin...</td>\n",
              "      <td>1</td>\n",
              "      <td></td>\n",
              "    </tr>\n",
              "    <tr>\n",
              "      <th>1</th>\n",
              "      <td>Real_10-Webpage</td>\n",
              "      <td>Donald Trump: Drugs a 'Very, Very Big Factor' ...</td>\n",
              "      <td>Less than a day after protests over the police...</td>\n",
              "      <td>http://abcn.ws/2d4lNn9</td>\n",
              "      <td>http://a.abcnews.com/images/Politics/AP_donald...</td>\n",
              "      <td>More Candace,Adam Kelsey,Abc News,More Adam</td>\n",
              "      <td>http://abcn.ws</td>\n",
              "      <td>NaN</td>\n",
              "      <td>NaN</td>\n",
              "      <td>http://www.googleadservices.com/pagead/convers...</td>\n",
              "      <td>http://abcnews.go.com/Politics/donald-trump-dr...</td>\n",
              "      <td>{\"fb_title\": \"Trump: Drugs a 'Very, Very Big F...</td>\n",
              "      <td>1</td>\n",
              "      <td></td>\n",
              "    </tr>\n",
              "    <tr>\n",
              "      <th>2</th>\n",
              "      <td>Real_11-Webpage</td>\n",
              "      <td>Obama To UN: ‘Giving Up Liberty, Enhances Secu...</td>\n",
              "      <td>Obama To UN: ‘Giving Up Liberty, Enhances Secu...</td>\n",
              "      <td>http://rightwingnews.com/barack-obama/obama-un...</td>\n",
              "      <td>http://rightwingnews.com/wp-content/uploads/20...</td>\n",
              "      <td>Cassy Fiano</td>\n",
              "      <td>http://rightwingnews.com</td>\n",
              "      <td>{'$date': 1474476044000}</td>\n",
              "      <td>https://www.youtube.com/embed/ji6pl5Vwrvk</td>\n",
              "      <td>http://rightwingnews.com/wp-content/uploads/20...</td>\n",
              "      <td>http://rightwingnews.com/barack-obama/obama-un...</td>\n",
              "      <td>{\"googlebot\": \"noimageindex\", \"og\": {\"site_nam...</td>\n",
              "      <td>1</td>\n",
              "      <td></td>\n",
              "    </tr>\n",
              "    <tr>\n",
              "      <th>3</th>\n",
              "      <td>Real_12-Webpage</td>\n",
              "      <td>Trump vs. Clinton: A Fundamental Clash over Ho...</td>\n",
              "      <td>Getty Images Wealth Of Nations Trump vs. Clint...</td>\n",
              "      <td>http://politi.co/2de2qs0</td>\n",
              "      <td>http://static.politico.com/e9/11/6144cdc24e319...</td>\n",
              "      <td>Jack Shafer,Erick Trickey,Zachary Karabell</td>\n",
              "      <td>http://politi.co</td>\n",
              "      <td>{'$date': 1474974420000}</td>\n",
              "      <td>NaN</td>\n",
              "      <td>https://static.politico.com/dims4/default/8a1c...</td>\n",
              "      <td>http://www.politico.com/magazine/story/2016/09...</td>\n",
              "      <td>{\"description\": \"He sees it as zero-sum. She b...</td>\n",
              "      <td>1</td>\n",
              "      <td></td>\n",
              "    </tr>\n",
              "    <tr>\n",
              "      <th>4</th>\n",
              "      <td>Real_13-Webpage</td>\n",
              "      <td>President Obama Vetoes 9/11 Victims Bill, Sett...</td>\n",
              "      <td>President Obama today vetoed a bill that would...</td>\n",
              "      <td>http://abcn.ws/2dh2NFs</td>\n",
              "      <td>http://a.abcnews.com/images/US/AP_Obama_BM_201...</td>\n",
              "      <td>John Parkinson,More John,Abc News,More Alexander</td>\n",
              "      <td>http://abcn.ws</td>\n",
              "      <td>NaN</td>\n",
              "      <td>NaN</td>\n",
              "      <td>http://www.googleadservices.com/pagead/convers...</td>\n",
              "      <td>http://abcnews.go.com/Politics/president-obama...</td>\n",
              "      <td>{\"fb_title\": \"President Obama Vetoes 9/11 Vict...</td>\n",
              "      <td>1</td>\n",
              "      <td></td>\n",
              "    </tr>\n",
              "  </tbody>\n",
              "</table>\n",
              "</div>"
            ],
            "text/plain": [
              "                id  ... subject\n",
              "0   Real_1-Webpage  ...        \n",
              "1  Real_10-Webpage  ...        \n",
              "2  Real_11-Webpage  ...        \n",
              "3  Real_12-Webpage  ...        \n",
              "4  Real_13-Webpage  ...        \n",
              "\n",
              "[5 rows x 14 columns]"
            ]
          },
          "metadata": {
            "tags": []
          },
          "execution_count": 10
        }
      ]
    },
    {
      "cell_type": "markdown",
      "metadata": {
        "id": "JKKp8qu7iWWa",
        "colab_type": "text"
      },
      "source": [
        "Removing all polluting expressions in both text and title"
      ]
    },
    {
      "cell_type": "code",
      "metadata": {
        "id": "ye--vphRiaNJ",
        "colab_type": "code",
        "colab": {}
      },
      "source": [
        "#Seperating Publication info, from actual text\n",
        "pollution_real = [\"⋆ US Herald\",\"– Eagle Rising\", \"The views expressed in this opinion article are solely those of their author and are not necessarily either shared or endorsed by EagleRising.com\", \" ⋆ Freedom Daily\",\"Read More\", \"Authors:\"]\n",
        "for i in pollution_real:\n",
        "    bfreal['title'] = bfreal['title'].str.replace(i , '')\n",
        "    bfreal['text'] = bfreal['text'].str.replace(i , '')"
      ],
      "execution_count": 0,
      "outputs": []
    },
    {
      "cell_type": "markdown",
      "metadata": {
        "id": "D4tEVKf-r59v",
        "colab_type": "text"
      },
      "source": [
        "## Integrating BuzzFeed Fake News"
      ]
    },
    {
      "cell_type": "code",
      "metadata": {
        "id": "HNGVdlP2r-XF",
        "colab_type": "code",
        "outputId": "b7152d8c-d337-400b-ca45-4bcbfeb76748",
        "colab": {
          "base_uri": "https://localhost:8080/",
          "height": 35
        }
      },
      "source": [
        "bffake = pd.read_csv('/content/drive/My Drive/CS221_Project/BuzzFeed_fake_news_content.csv')\n",
        "bffake.shape"
      ],
      "execution_count": 12,
      "outputs": [
        {
          "output_type": "execute_result",
          "data": {
            "text/plain": [
              "(91, 12)"
            ]
          },
          "metadata": {
            "tags": []
          },
          "execution_count": 12
        }
      ]
    },
    {
      "cell_type": "code",
      "metadata": {
        "id": "dVDFkAXjsCch",
        "colab_type": "code",
        "outputId": "0177c274-8450-4fe0-8738-51ea9ba0c9c9",
        "colab": {
          "base_uri": "https://localhost:8080/",
          "height": 537
        }
      },
      "source": [
        "bffake.head()"
      ],
      "execution_count": 13,
      "outputs": [
        {
          "output_type": "execute_result",
          "data": {
            "text/html": [
              "<div>\n",
              "<style scoped>\n",
              "    .dataframe tbody tr th:only-of-type {\n",
              "        vertical-align: middle;\n",
              "    }\n",
              "\n",
              "    .dataframe tbody tr th {\n",
              "        vertical-align: top;\n",
              "    }\n",
              "\n",
              "    .dataframe thead th {\n",
              "        text-align: right;\n",
              "    }\n",
              "</style>\n",
              "<table border=\"1\" class=\"dataframe\">\n",
              "  <thead>\n",
              "    <tr style=\"text-align: right;\">\n",
              "      <th></th>\n",
              "      <th>id</th>\n",
              "      <th>title</th>\n",
              "      <th>text</th>\n",
              "      <th>url</th>\n",
              "      <th>top_img</th>\n",
              "      <th>authors</th>\n",
              "      <th>source</th>\n",
              "      <th>publish_date</th>\n",
              "      <th>movies</th>\n",
              "      <th>images</th>\n",
              "      <th>canonical_link</th>\n",
              "      <th>meta_data</th>\n",
              "    </tr>\n",
              "  </thead>\n",
              "  <tbody>\n",
              "    <tr>\n",
              "      <th>0</th>\n",
              "      <td>Fake_1-Webpage</td>\n",
              "      <td>Proof The Mainstream Media Is Manipulating The...</td>\n",
              "      <td>I woke up this morning to find a variation of ...</td>\n",
              "      <td>http://www.addictinginfo.org/2016/09/19/proof-...</td>\n",
              "      <td>http://addictinginfo.addictinginfoent.netdna-c...</td>\n",
              "      <td>Wendy Gittleson</td>\n",
              "      <td>http://www.addictinginfo.org</td>\n",
              "      <td>{'$date': 1474243200000}</td>\n",
              "      <td>NaN</td>\n",
              "      <td>http://i.imgur.com/JeqZLhj.png,http://addictin...</td>\n",
              "      <td>http://addictinginfo.com/2016/09/19/proof-the-...</td>\n",
              "      <td>{\"publisher\": \"Addicting Info | The Knowledge ...</td>\n",
              "    </tr>\n",
              "    <tr>\n",
              "      <th>1</th>\n",
              "      <td>Fake_10-Webpage</td>\n",
              "      <td>Charity: Clinton Foundation Distributed “Water...</td>\n",
              "      <td>Former President Bill Clinton and his Clinton ...</td>\n",
              "      <td>http://eaglerising.com/36899/charity-clinton-f...</td>\n",
              "      <td>http://eaglerising.com/wp-content/uploads/2016...</td>\n",
              "      <td>View All Posts</td>\n",
              "      <td>http://eaglerising.com</td>\n",
              "      <td>{'$date': 1474416521000}</td>\n",
              "      <td>NaN</td>\n",
              "      <td>http://constitution.com/wp-content/uploads/201...</td>\n",
              "      <td>http://eaglerising.com/36899/charity-clinton-f...</td>\n",
              "      <td>{\"description\": \"The possibility that CHAI dis...</td>\n",
              "    </tr>\n",
              "    <tr>\n",
              "      <th>2</th>\n",
              "      <td>Fake_11-Webpage</td>\n",
              "      <td>A Hillary Clinton Administration May be Entire...</td>\n",
              "      <td>After collapsing just before trying to step in...</td>\n",
              "      <td>http://eaglerising.com/36880/a-hillary-clinton...</td>\n",
              "      <td>http://eaglerising.com/wp-content/uploads/2016...</td>\n",
              "      <td>View All Posts,Tony Elliott</td>\n",
              "      <td>http://eaglerising.com</td>\n",
              "      <td>{'$date': 1474416638000}</td>\n",
              "      <td>NaN</td>\n",
              "      <td>http://constitution.com/wp-content/uploads/201...</td>\n",
              "      <td>http://eaglerising.com/36880/a-hillary-clinton...</td>\n",
              "      <td>{\"description\": \"Hillary Clinton may be the fi...</td>\n",
              "    </tr>\n",
              "    <tr>\n",
              "      <th>3</th>\n",
              "      <td>Fake_12-Webpage</td>\n",
              "      <td>Trump’s Latest Campaign Promise May Be His Mos...</td>\n",
              "      <td>Donald Trump is, well, deplorable. He’s sugges...</td>\n",
              "      <td>http://www.addictinginfo.org/2016/09/19/trumps...</td>\n",
              "      <td>http://addictinginfo.addictinginfoent.netdna-c...</td>\n",
              "      <td>John Prager</td>\n",
              "      <td>http://www.addictinginfo.org</td>\n",
              "      <td>{'$date': 1474243200000}</td>\n",
              "      <td>NaN</td>\n",
              "      <td>http://i.imgur.com/JeqZLhj.png,http://2.gravat...</td>\n",
              "      <td>http://addictinginfo.com/2016/09/19/trumps-lat...</td>\n",
              "      <td>{\"publisher\": \"Addicting Info | The Knowledge ...</td>\n",
              "    </tr>\n",
              "    <tr>\n",
              "      <th>4</th>\n",
              "      <td>Fake_13-Webpage</td>\n",
              "      <td>Website is Down For Maintenance</td>\n",
              "      <td>Website is Down For Maintenance</td>\n",
              "      <td>http://www.proudcons.com/clinton-foundation-ca...</td>\n",
              "      <td>NaN</td>\n",
              "      <td>NaN</td>\n",
              "      <td>http://www.proudcons.com</td>\n",
              "      <td>NaN</td>\n",
              "      <td>NaN</td>\n",
              "      <td>NaN</td>\n",
              "      <td>NaN</td>\n",
              "      <td>{\"og\": {\"url\": \"http://www.proudcons.com\", \"ty...</td>\n",
              "    </tr>\n",
              "  </tbody>\n",
              "</table>\n",
              "</div>"
            ],
            "text/plain": [
              "                id  ...                                          meta_data\n",
              "0   Fake_1-Webpage  ...  {\"publisher\": \"Addicting Info | The Knowledge ...\n",
              "1  Fake_10-Webpage  ...  {\"description\": \"The possibility that CHAI dis...\n",
              "2  Fake_11-Webpage  ...  {\"description\": \"Hillary Clinton may be the fi...\n",
              "3  Fake_12-Webpage  ...  {\"publisher\": \"Addicting Info | The Knowledge ...\n",
              "4  Fake_13-Webpage  ...  {\"og\": {\"url\": \"http://www.proudcons.com\", \"ty...\n",
              "\n",
              "[5 rows x 12 columns]"
            ]
          },
          "metadata": {
            "tags": []
          },
          "execution_count": 13
        }
      ]
    },
    {
      "cell_type": "code",
      "metadata": {
        "id": "OOm8aSbwwpTz",
        "colab_type": "code",
        "outputId": "c362e41f-6950-47f7-98f5-eb7551ec4f7d",
        "colab": {
          "base_uri": "https://localhost:8080/",
          "height": 307
        }
      },
      "source": [
        "bffake.describe()"
      ],
      "execution_count": 14,
      "outputs": [
        {
          "output_type": "execute_result",
          "data": {
            "text/html": [
              "<div>\n",
              "<style scoped>\n",
              "    .dataframe tbody tr th:only-of-type {\n",
              "        vertical-align: middle;\n",
              "    }\n",
              "\n",
              "    .dataframe tbody tr th {\n",
              "        vertical-align: top;\n",
              "    }\n",
              "\n",
              "    .dataframe thead th {\n",
              "        text-align: right;\n",
              "    }\n",
              "</style>\n",
              "<table border=\"1\" class=\"dataframe\">\n",
              "  <thead>\n",
              "    <tr style=\"text-align: right;\">\n",
              "      <th></th>\n",
              "      <th>id</th>\n",
              "      <th>title</th>\n",
              "      <th>text</th>\n",
              "      <th>url</th>\n",
              "      <th>top_img</th>\n",
              "      <th>authors</th>\n",
              "      <th>source</th>\n",
              "      <th>publish_date</th>\n",
              "      <th>movies</th>\n",
              "      <th>images</th>\n",
              "      <th>canonical_link</th>\n",
              "      <th>meta_data</th>\n",
              "    </tr>\n",
              "  </thead>\n",
              "  <tbody>\n",
              "    <tr>\n",
              "      <th>count</th>\n",
              "      <td>91</td>\n",
              "      <td>91</td>\n",
              "      <td>91</td>\n",
              "      <td>83</td>\n",
              "      <td>81</td>\n",
              "      <td>57</td>\n",
              "      <td>83</td>\n",
              "      <td>77</td>\n",
              "      <td>21</td>\n",
              "      <td>81</td>\n",
              "      <td>80</td>\n",
              "      <td>91</td>\n",
              "    </tr>\n",
              "    <tr>\n",
              "      <th>unique</th>\n",
              "      <td>91</td>\n",
              "      <td>87</td>\n",
              "      <td>87</td>\n",
              "      <td>80</td>\n",
              "      <td>79</td>\n",
              "      <td>30</td>\n",
              "      <td>22</td>\n",
              "      <td>69</td>\n",
              "      <td>21</td>\n",
              "      <td>79</td>\n",
              "      <td>78</td>\n",
              "      <td>81</td>\n",
              "    </tr>\n",
              "    <tr>\n",
              "      <th>top</th>\n",
              "      <td>Fake_39-Webpage</td>\n",
              "      <td>CNN’s Post-Debate Rigged Poll Busted…Here Are ...</td>\n",
              "      <td>After collapsing just before trying to step in...</td>\n",
              "      <td>http://eaglerising.com/36847/clinton-foundatio...</td>\n",
              "      <td>http://eaglerising.com/wp-content/uploads/2016...</td>\n",
              "      <td>Terresa Monroe-hamilton</td>\n",
              "      <td>http://rightwingnews.com</td>\n",
              "      <td>{'$date': 1474588800000}</td>\n",
              "      <td>https://www.youtube.com/embed/ThwaDSaoGU8?feat...</td>\n",
              "      <td>http://constitution.com/wp-content/uploads/201...</td>\n",
              "      <td>http://eaglerising.com/36847/clinton-foundatio...</td>\n",
              "      <td>{}</td>\n",
              "    </tr>\n",
              "    <tr>\n",
              "      <th>freq</th>\n",
              "      <td>1</td>\n",
              "      <td>2</td>\n",
              "      <td>2</td>\n",
              "      <td>2</td>\n",
              "      <td>2</td>\n",
              "      <td>6</td>\n",
              "      <td>17</td>\n",
              "      <td>4</td>\n",
              "      <td>1</td>\n",
              "      <td>2</td>\n",
              "      <td>2</td>\n",
              "      <td>8</td>\n",
              "    </tr>\n",
              "  </tbody>\n",
              "</table>\n",
              "</div>"
            ],
            "text/plain": [
              "                     id  ... meta_data\n",
              "count                91  ...        91\n",
              "unique               91  ...        81\n",
              "top     Fake_39-Webpage  ...        {}\n",
              "freq                  1  ...         8\n",
              "\n",
              "[4 rows x 12 columns]"
            ]
          },
          "metadata": {
            "tags": []
          },
          "execution_count": 14
        }
      ]
    },
    {
      "cell_type": "code",
      "metadata": {
        "id": "K_Ot4T_ysF1B",
        "colab_type": "code",
        "outputId": "82e964bc-cb1d-491a-bb13-c35100eaf355",
        "colab": {
          "base_uri": "https://localhost:8080/",
          "height": 448
        }
      },
      "source": [
        "for key,count in bffake.source.value_counts().iteritems():\n",
        "    print(\"{}:\\t{}\".format(key, count))\n",
        "    \n",
        "print(\"Total Records:\\t{}\".format(bffake.shape[0]))"
      ],
      "execution_count": 15,
      "outputs": [
        {
          "output_type": "stream",
          "text": [
            "http://rightwingnews.com:\t17\n",
            "http://freedomdaily.com:\t16\n",
            "http://eaglerising.com:\t11\n",
            "http://occupydemocrats.com:\t6\n",
            "https://goo.gl:\t3\n",
            "http://www.addictinginfo.org:\t3\n",
            "http://www.thepoliticalinsider.com:\t3\n",
            "http://winningdemocrats.com:\t2\n",
            "http://allenwestrepublic.com:\t2\n",
            "http://conservativetribune.com:\t2\n",
            "https://ihavethetruth.com:\t2\n",
            "http://theblacksphere.net:\t2\n",
            "http://www.proudcons.com:\t2\n",
            "http://100percentfedup.com:\t2\n",
            "http://usherald.com:\t2\n",
            "http://clashdaily.com:\t2\n",
            "http://addictinginfo.org:\t1\n",
            "http://author.groopspeak.com:\t1\n",
            "http://www.yesimright.com:\t1\n",
            "http://author.addictinginfo.org:\t1\n",
            "http://www.chicksontheright.com:\t1\n",
            "http://conservativebyte.com:\t1\n",
            "Total Records:\t91\n"
          ],
          "name": "stdout"
        }
      ]
    },
    {
      "cell_type": "code",
      "metadata": {
        "id": "jQRUbpKgsHc-",
        "colab_type": "code",
        "outputId": "0b7e8105-48a9-47e7-ef44-f60f5a4f9c0f",
        "colab": {
          "base_uri": "https://localhost:8080/",
          "height": 451
        }
      },
      "source": [
        "plt.figure(figsize=(20,5))\n",
        "chart = sns.countplot(\"source\", data=bffake)\n",
        "chart.set_xticklabels(chart.get_xticklabels(), rotation=45)\n",
        "plt.show()"
      ],
      "execution_count": 16,
      "outputs": [
        {
          "output_type": "display_data",
          "data": {
            "image/png": "[encoded data removed]",
            "text/plain": [
              "<Figure size 1440x360 with 1 Axes>"
            ]
          },
          "metadata": {
            "tags": [],
            "needs_background": "light"
          }
        }
      ]
    },
    {
      "cell_type": "code",
      "metadata": {
        "id": "4hx4Ps9ROh5X",
        "colab_type": "code",
        "outputId": "ee162458-169b-4f9d-ff10-2d56b55e290d",
        "colab": {
          "base_uri": "https://localhost:8080/",
          "height": 35
        }
      },
      "source": [
        "#checking for rows with empty text\n",
        "[index for index,text in enumerate(bffake.text.values) if str(text).strip() == '']"
      ],
      "execution_count": 17,
      "outputs": [
        {
          "output_type": "execute_result",
          "data": {
            "text/plain": [
              "[]"
            ]
          },
          "metadata": {
            "tags": []
          },
          "execution_count": 17
        }
      ]
    },
    {
      "cell_type": "code",
      "metadata": {
        "id": "rqmFM6BfuZ6f",
        "colab_type": "code",
        "outputId": "dc5c2a2e-f354-474c-fc3c-05c3f23aed04",
        "colab": {
          "base_uri": "https://localhost:8080/",
          "height": 537
        }
      },
      "source": [
        "bffake[\"class\"]=0\n",
        "bffake[\"subject\"]=''\n",
        "bffake.head()"
      ],
      "execution_count": 18,
      "outputs": [
        {
          "output_type": "execute_result",
          "data": {
            "text/html": [
              "<div>\n",
              "<style scoped>\n",
              "    .dataframe tbody tr th:only-of-type {\n",
              "        vertical-align: middle;\n",
              "    }\n",
              "\n",
              "    .dataframe tbody tr th {\n",
              "        vertical-align: top;\n",
              "    }\n",
              "\n",
              "    .dataframe thead th {\n",
              "        text-align: right;\n",
              "    }\n",
              "</style>\n",
              "<table border=\"1\" class=\"dataframe\">\n",
              "  <thead>\n",
              "    <tr style=\"text-align: right;\">\n",
              "      <th></th>\n",
              "      <th>id</th>\n",
              "      <th>title</th>\n",
              "      <th>text</th>\n",
              "      <th>url</th>\n",
              "      <th>top_img</th>\n",
              "      <th>authors</th>\n",
              "      <th>source</th>\n",
              "      <th>publish_date</th>\n",
              "      <th>movies</th>\n",
              "      <th>images</th>\n",
              "      <th>canonical_link</th>\n",
              "      <th>meta_data</th>\n",
              "      <th>class</th>\n",
              "      <th>subject</th>\n",
              "    </tr>\n",
              "  </thead>\n",
              "  <tbody>\n",
              "    <tr>\n",
              "      <th>0</th>\n",
              "      <td>Fake_1-Webpage</td>\n",
              "      <td>Proof The Mainstream Media Is Manipulating The...</td>\n",
              "      <td>I woke up this morning to find a variation of ...</td>\n",
              "      <td>http://www.addictinginfo.org/2016/09/19/proof-...</td>\n",
              "      <td>http://addictinginfo.addictinginfoent.netdna-c...</td>\n",
              "      <td>Wendy Gittleson</td>\n",
              "      <td>http://www.addictinginfo.org</td>\n",
              "      <td>{'$date': 1474243200000}</td>\n",
              "      <td>NaN</td>\n",
              "      <td>http://i.imgur.com/JeqZLhj.png,http://addictin...</td>\n",
              "      <td>http://addictinginfo.com/2016/09/19/proof-the-...</td>\n",
              "      <td>{\"publisher\": \"Addicting Info | The Knowledge ...</td>\n",
              "      <td>0</td>\n",
              "      <td></td>\n",
              "    </tr>\n",
              "    <tr>\n",
              "      <th>1</th>\n",
              "      <td>Fake_10-Webpage</td>\n",
              "      <td>Charity: Clinton Foundation Distributed “Water...</td>\n",
              "      <td>Former President Bill Clinton and his Clinton ...</td>\n",
              "      <td>http://eaglerising.com/36899/charity-clinton-f...</td>\n",
              "      <td>http://eaglerising.com/wp-content/uploads/2016...</td>\n",
              "      <td>View All Posts</td>\n",
              "      <td>http://eaglerising.com</td>\n",
              "      <td>{'$date': 1474416521000}</td>\n",
              "      <td>NaN</td>\n",
              "      <td>http://constitution.com/wp-content/uploads/201...</td>\n",
              "      <td>http://eaglerising.com/36899/charity-clinton-f...</td>\n",
              "      <td>{\"description\": \"The possibility that CHAI dis...</td>\n",
              "      <td>0</td>\n",
              "      <td></td>\n",
              "    </tr>\n",
              "    <tr>\n",
              "      <th>2</th>\n",
              "      <td>Fake_11-Webpage</td>\n",
              "      <td>A Hillary Clinton Administration May be Entire...</td>\n",
              "      <td>After collapsing just before trying to step in...</td>\n",
              "      <td>http://eaglerising.com/36880/a-hillary-clinton...</td>\n",
              "      <td>http://eaglerising.com/wp-content/uploads/2016...</td>\n",
              "      <td>View All Posts,Tony Elliott</td>\n",
              "      <td>http://eaglerising.com</td>\n",
              "      <td>{'$date': 1474416638000}</td>\n",
              "      <td>NaN</td>\n",
              "      <td>http://constitution.com/wp-content/uploads/201...</td>\n",
              "      <td>http://eaglerising.com/36880/a-hillary-clinton...</td>\n",
              "      <td>{\"description\": \"Hillary Clinton may be the fi...</td>\n",
              "      <td>0</td>\n",
              "      <td></td>\n",
              "    </tr>\n",
              "    <tr>\n",
              "      <th>3</th>\n",
              "      <td>Fake_12-Webpage</td>\n",
              "      <td>Trump’s Latest Campaign Promise May Be His Mos...</td>\n",
              "      <td>Donald Trump is, well, deplorable. He’s sugges...</td>\n",
              "      <td>http://www.addictinginfo.org/2016/09/19/trumps...</td>\n",
              "      <td>http://addictinginfo.addictinginfoent.netdna-c...</td>\n",
              "      <td>John Prager</td>\n",
              "      <td>http://www.addictinginfo.org</td>\n",
              "      <td>{'$date': 1474243200000}</td>\n",
              "      <td>NaN</td>\n",
              "      <td>http://i.imgur.com/JeqZLhj.png,http://2.gravat...</td>\n",
              "      <td>http://addictinginfo.com/2016/09/19/trumps-lat...</td>\n",
              "      <td>{\"publisher\": \"Addicting Info | The Knowledge ...</td>\n",
              "      <td>0</td>\n",
              "      <td></td>\n",
              "    </tr>\n",
              "    <tr>\n",
              "      <th>4</th>\n",
              "      <td>Fake_13-Webpage</td>\n",
              "      <td>Website is Down For Maintenance</td>\n",
              "      <td>Website is Down For Maintenance</td>\n",
              "      <td>http://www.proudcons.com/clinton-foundation-ca...</td>\n",
              "      <td>NaN</td>\n",
              "      <td>NaN</td>\n",
              "      <td>http://www.proudcons.com</td>\n",
              "      <td>NaN</td>\n",
              "      <td>NaN</td>\n",
              "      <td>NaN</td>\n",
              "      <td>NaN</td>\n",
              "      <td>{\"og\": {\"url\": \"http://www.proudcons.com\", \"ty...</td>\n",
              "      <td>0</td>\n",
              "      <td></td>\n",
              "    </tr>\n",
              "  </tbody>\n",
              "</table>\n",
              "</div>"
            ],
            "text/plain": [
              "                id  ... subject\n",
              "0   Fake_1-Webpage  ...        \n",
              "1  Fake_10-Webpage  ...        \n",
              "2  Fake_11-Webpage  ...        \n",
              "3  Fake_12-Webpage  ...        \n",
              "4  Fake_13-Webpage  ...        \n",
              "\n",
              "[5 rows x 14 columns]"
            ]
          },
          "metadata": {
            "tags": []
          },
          "execution_count": 18
        }
      ]
    },
    {
      "cell_type": "markdown",
      "metadata": {
        "colab_type": "text",
        "id": "f6gSs6ZOqGlr"
      },
      "source": [
        "Removing all polluting expressions in both text and title"
      ]
    },
    {
      "cell_type": "code",
      "metadata": {
        "colab_type": "code",
        "id": "Aua1baazqGlx",
        "colab": {}
      },
      "source": [
        "pollution_fake = [\"⋆ US Herald\",\"– Eagle Rising\", \"The views expressed in this opinion article are solely those of their author and are not necessarily either shared or endorsed by EagleRising.com\", \" ⋆ Freedom Daily\",\"Read More\", \"Authors:\"]\n",
        "for i in pollution_fake:\n",
        "    bffake['title'] = bffake['title'].str.replace(i , '')\n",
        "    bffake['text'] = bffake['text'].str.replace(i , '')"
      ],
      "execution_count": 0,
      "outputs": []
    },
    {
      "cell_type": "markdown",
      "metadata": {
        "colab_type": "text",
        "id": "fHrTHwUzqnoa"
      },
      "source": [
        "## Integrating Fake-and-real-news Real News"
      ]
    },
    {
      "cell_type": "code",
      "metadata": {
        "colab_type": "code",
        "outputId": "1c01719b-a7f0-49eb-b7d3-c0710323f73e",
        "id": "7HwEc1jiqnoz",
        "colab": {
          "base_uri": "https://localhost:8080/",
          "height": 35
        }
      },
      "source": [
        "reald = pd.read_csv('/content/drive/My Drive/CS221_Project/True.csv')\n",
        "reald.shape"
      ],
      "execution_count": 20,
      "outputs": [
        {
          "output_type": "execute_result",
          "data": {
            "text/plain": [
              "(21417, 4)"
            ]
          },
          "metadata": {
            "tags": []
          },
          "execution_count": 20
        }
      ]
    },
    {
      "cell_type": "code",
      "metadata": {
        "colab_type": "code",
        "outputId": "df9b64f3-a761-4f53-98bd-ac29a1683756",
        "id": "oKlsSKQPqnpI",
        "colab": {
          "base_uri": "https://localhost:8080/",
          "height": 201
        }
      },
      "source": [
        "reald.head()"
      ],
      "execution_count": 21,
      "outputs": [
        {
          "output_type": "execute_result",
          "data": {
            "text/html": [
              "<div>\n",
              "<style scoped>\n",
              "    .dataframe tbody tr th:only-of-type {\n",
              "        vertical-align: middle;\n",
              "    }\n",
              "\n",
              "    .dataframe tbody tr th {\n",
              "        vertical-align: top;\n",
              "    }\n",
              "\n",
              "    .dataframe thead th {\n",
              "        text-align: right;\n",
              "    }\n",
              "</style>\n",
              "<table border=\"1\" class=\"dataframe\">\n",
              "  <thead>\n",
              "    <tr style=\"text-align: right;\">\n",
              "      <th></th>\n",
              "      <th>title</th>\n",
              "      <th>text</th>\n",
              "      <th>subject</th>\n",
              "      <th>date</th>\n",
              "    </tr>\n",
              "  </thead>\n",
              "  <tbody>\n",
              "    <tr>\n",
              "      <th>0</th>\n",
              "      <td>As U.S. budget fight looms, Republicans flip t...</td>\n",
              "      <td>WASHINGTON (Reuters) - The head of a conservat...</td>\n",
              "      <td>politicsNews</td>\n",
              "      <td>December 31, 2017</td>\n",
              "    </tr>\n",
              "    <tr>\n",
              "      <th>1</th>\n",
              "      <td>U.S. military to accept transgender recruits o...</td>\n",
              "      <td>WASHINGTON (Reuters) - Transgender people will...</td>\n",
              "      <td>politicsNews</td>\n",
              "      <td>December 29, 2017</td>\n",
              "    </tr>\n",
              "    <tr>\n",
              "      <th>2</th>\n",
              "      <td>Senior U.S. Republican senator: 'Let Mr. Muell...</td>\n",
              "      <td>WASHINGTON (Reuters) - The special counsel inv...</td>\n",
              "      <td>politicsNews</td>\n",
              "      <td>December 31, 2017</td>\n",
              "    </tr>\n",
              "    <tr>\n",
              "      <th>3</th>\n",
              "      <td>FBI Russia probe helped by Australian diplomat...</td>\n",
              "      <td>WASHINGTON (Reuters) - Trump campaign adviser ...</td>\n",
              "      <td>politicsNews</td>\n",
              "      <td>December 30, 2017</td>\n",
              "    </tr>\n",
              "    <tr>\n",
              "      <th>4</th>\n",
              "      <td>Trump wants Postal Service to charge 'much mor...</td>\n",
              "      <td>SEATTLE/WASHINGTON (Reuters) - President Donal...</td>\n",
              "      <td>politicsNews</td>\n",
              "      <td>December 29, 2017</td>\n",
              "    </tr>\n",
              "  </tbody>\n",
              "</table>\n",
              "</div>"
            ],
            "text/plain": [
              "                                               title  ...                date\n",
              "0  As U.S. budget fight looms, Republicans flip t...  ...  December 31, 2017 \n",
              "1  U.S. military to accept transgender recruits o...  ...  December 29, 2017 \n",
              "2  Senior U.S. Republican senator: 'Let Mr. Muell...  ...  December 31, 2017 \n",
              "3  FBI Russia probe helped by Australian diplomat...  ...  December 30, 2017 \n",
              "4  Trump wants Postal Service to charge 'much mor...  ...  December 29, 2017 \n",
              "\n",
              "[5 rows x 4 columns]"
            ]
          },
          "metadata": {
            "tags": []
          },
          "execution_count": 21
        }
      ]
    },
    {
      "cell_type": "code",
      "metadata": {
        "colab_type": "code",
        "outputId": "0ee97d87-a294-48cd-873d-9a76b76a2c91",
        "id": "5NI_nNovq5GH",
        "colab": {
          "base_uri": "https://localhost:8080/",
          "height": 73
        }
      },
      "source": [
        "for key,count in reald.subject.value_counts().iteritems():\n",
        "    print(\"{}:\\t{}\".format(key, count))\n",
        "    \n",
        "print(\"Total Records:\\t{}\".format(reald.shape[0]))"
      ],
      "execution_count": 22,
      "outputs": [
        {
          "output_type": "stream",
          "text": [
            "politicsNews:\t11272\n",
            "worldnews:\t10145\n",
            "Total Records:\t21417\n"
          ],
          "name": "stdout"
        }
      ]
    },
    {
      "cell_type": "code",
      "metadata": {
        "colab_type": "code",
        "id": "Bk1GnRSjq5GP",
        "outputId": "0a5addd0-52a6-479d-8a15-a7a7137a89a4",
        "colab": {
          "base_uri": "https://localhost:8080/",
          "height": 375
        }
      },
      "source": [
        "plt.figure(figsize=(20,5))\n",
        "chart = sns.countplot(\"subject\", data=reald)\n",
        "chart.set_xticklabels(chart.get_xticklabels(), rotation=45)\n",
        "plt.show()"
      ],
      "execution_count": 23,
      "outputs": [
        {
          "output_type": "display_data",
          "data": {
            "image/png": "[encoded data removed]",
            "text/plain": [
              "<Figure size 1440x360 with 1 Axes>"
            ]
          },
          "metadata": {
            "tags": [],
            "needs_background": "light"
          }
        }
      ]
    },
    {
      "cell_type": "code",
      "metadata": {
        "id": "zhvFD7NRrYj2",
        "colab_type": "code",
        "outputId": "d4aee380-44d5-4f5e-b510-9c34fad3c40a",
        "colab": {
          "base_uri": "https://localhost:8080/",
          "height": 467
        }
      },
      "source": [
        "#First Creating list of index that do not have publication part\n",
        "unknown_publishers = []\n",
        "for index,row in enumerate(reald.text.values):\n",
        "    try:\n",
        "        record = row.split(\" -\", maxsplit=1)\n",
        "        #if no text part is present, following will give error\n",
        "        record[1]\n",
        "        #if len of publication part is greater than 260\n",
        "        #following will give error, ensuring no text having \"-\" in between is counted\n",
        "        assert(len(record[0]) < 260)\n",
        "    except:\n",
        "        unknown_publishers.append(index)\n",
        "#Thus we have list of indices where publisher is not mentioned\n",
        "#lets check\n",
        "reald.iloc[unknown_publishers].text"
      ],
      "execution_count": 24,
      "outputs": [
        {
          "output_type": "execute_result",
          "data": {
            "text/plain": [
              "3488     The White House on Wednesday disclosed a group...\n",
              "4358     Neil Gorsuch, President Donald Trump’s appoint...\n",
              "4465     WASHINGTON The clock began running out this we...\n",
              "5784     Federal appeals court judge Neil Gorsuch, the ...\n",
              "6660     Republican members of Congress are complaining...\n",
              "6823     Over the course of the U.S. presidential campa...\n",
              "7922     After going through a week reminiscent of Napo...\n",
              "8194     The following timeline charts the origin and s...\n",
              "8195     Global health officials are racing to better u...\n",
              "8247     U.S. President Barack Obama visited a street m...\n",
              "8465     ALGONAC, MICH.—Parker Fox drifted out of the D...\n",
              "8481     Global health officials are racing to better u...\n",
              "8482     The following timeline charts the origin and s...\n",
              "8505     Global health officials are racing to better u...\n",
              "8506     The following timeline charts the origin and s...\n",
              "8771     In a speech weighted with America’s complicate...\n",
              "8970                                                      \n",
              "9008     The following timeline charts the origin and s...\n",
              "9009     Global health officials are racing to better u...\n",
              "9307     It’s the near future, and North Korea’s regime...\n",
              "9618     GOP leaders have unleashed a stunning level of...\n",
              "9737     Caitlyn Jenner posted a video on Wednesday (Ap...\n",
              "10479    The Democratic and Republican nominees for the...\n",
              "Name: text, dtype: object"
            ]
          },
          "metadata": {
            "tags": []
          },
          "execution_count": 24
        }
      ]
    },
    {
      "cell_type": "code",
      "metadata": {
        "id": "iwyvnZKOrCGX",
        "colab_type": "code",
        "outputId": "e7ab3c19-07eb-448c-b816-22f1c0fd71a4",
        "colab": {
          "base_uri": "https://localhost:8080/",
          "height": 201
        }
      },
      "source": [
        "#Seperating Publication info, from actual text\n",
        "publisher = []\n",
        "tmp_text = []\n",
        "for idx,row in enumerate(reald.text.values):\n",
        "    if idx in unknown_publishers:\n",
        "        #Add unknown of publisher not mentioned\n",
        "        tmp_text.append(row)\n",
        "        publisher.append(\"Unknown\")\n",
        "        continue\n",
        "    record = row.split(\" -\", maxsplit=1)\n",
        "    publisher.append(record[0])\n",
        "    tmp_text.append(record[1])\n",
        "\n",
        "#Replace existing text column with new text\n",
        "#add seperate column for publication info in case we want to use it later\n",
        "reald[\"source\"] = publisher\n",
        "reald[\"text\"] = tmp_text\n",
        "\n",
        "del publisher, tmp_text, record, unknown_publishers\n",
        "reald.head()"
      ],
      "execution_count": 25,
      "outputs": [
        {
          "output_type": "execute_result",
          "data": {
            "text/html": [
              "<div>\n",
              "<style scoped>\n",
              "    .dataframe tbody tr th:only-of-type {\n",
              "        vertical-align: middle;\n",
              "    }\n",
              "\n",
              "    .dataframe tbody tr th {\n",
              "        vertical-align: top;\n",
              "    }\n",
              "\n",
              "    .dataframe thead th {\n",
              "        text-align: right;\n",
              "    }\n",
              "</style>\n",
              "<table border=\"1\" class=\"dataframe\">\n",
              "  <thead>\n",
              "    <tr style=\"text-align: right;\">\n",
              "      <th></th>\n",
              "      <th>title</th>\n",
              "      <th>text</th>\n",
              "      <th>subject</th>\n",
              "      <th>date</th>\n",
              "      <th>source</th>\n",
              "    </tr>\n",
              "  </thead>\n",
              "  <tbody>\n",
              "    <tr>\n",
              "      <th>0</th>\n",
              "      <td>As U.S. budget fight looms, Republicans flip t...</td>\n",
              "      <td>The head of a conservative Republican faction...</td>\n",
              "      <td>politicsNews</td>\n",
              "      <td>December 31, 2017</td>\n",
              "      <td>WASHINGTON (Reuters)</td>\n",
              "    </tr>\n",
              "    <tr>\n",
              "      <th>1</th>\n",
              "      <td>U.S. military to accept transgender recruits o...</td>\n",
              "      <td>Transgender people will be allowed for the fi...</td>\n",
              "      <td>politicsNews</td>\n",
              "      <td>December 29, 2017</td>\n",
              "      <td>WASHINGTON (Reuters)</td>\n",
              "    </tr>\n",
              "    <tr>\n",
              "      <th>2</th>\n",
              "      <td>Senior U.S. Republican senator: 'Let Mr. Muell...</td>\n",
              "      <td>The special counsel investigation of links be...</td>\n",
              "      <td>politicsNews</td>\n",
              "      <td>December 31, 2017</td>\n",
              "      <td>WASHINGTON (Reuters)</td>\n",
              "    </tr>\n",
              "    <tr>\n",
              "      <th>3</th>\n",
              "      <td>FBI Russia probe helped by Australian diplomat...</td>\n",
              "      <td>Trump campaign adviser George Papadopoulos to...</td>\n",
              "      <td>politicsNews</td>\n",
              "      <td>December 30, 2017</td>\n",
              "      <td>WASHINGTON (Reuters)</td>\n",
              "    </tr>\n",
              "    <tr>\n",
              "      <th>4</th>\n",
              "      <td>Trump wants Postal Service to charge 'much mor...</td>\n",
              "      <td>President Donald Trump called on the U.S. Pos...</td>\n",
              "      <td>politicsNews</td>\n",
              "      <td>December 29, 2017</td>\n",
              "      <td>SEATTLE/WASHINGTON (Reuters)</td>\n",
              "    </tr>\n",
              "  </tbody>\n",
              "</table>\n",
              "</div>"
            ],
            "text/plain": [
              "                                               title  ...                        source\n",
              "0  As U.S. budget fight looms, Republicans flip t...  ...          WASHINGTON (Reuters)\n",
              "1  U.S. military to accept transgender recruits o...  ...          WASHINGTON (Reuters)\n",
              "2  Senior U.S. Republican senator: 'Let Mr. Muell...  ...          WASHINGTON (Reuters)\n",
              "3  FBI Russia probe helped by Australian diplomat...  ...          WASHINGTON (Reuters)\n",
              "4  Trump wants Postal Service to charge 'much mor...  ...  SEATTLE/WASHINGTON (Reuters)\n",
              "\n",
              "[5 rows x 5 columns]"
            ]
          },
          "metadata": {
            "tags": []
          },
          "execution_count": 25
        }
      ]
    },
    {
      "cell_type": "code",
      "metadata": {
        "id": "1vmKv7uQrSjT",
        "colab_type": "code",
        "outputId": "b6377177-713a-4748-d741-f48b3d601e78",
        "colab": {
          "base_uri": "https://localhost:8080/",
          "height": 35
        }
      },
      "source": [
        "#checking for rows with empty text\n",
        "[index for index,text in enumerate(reald.text.values) if str(text).strip() == '']"
      ],
      "execution_count": 26,
      "outputs": [
        {
          "output_type": "execute_result",
          "data": {
            "text/plain": [
              "[8970]"
            ]
          },
          "metadata": {
            "tags": []
          },
          "execution_count": 26
        }
      ]
    },
    {
      "cell_type": "code",
      "metadata": {
        "id": "Z795gkKqud9E",
        "colab_type": "code",
        "colab": {}
      },
      "source": [
        "#dropping this record\n",
        "reald = reald.drop(8970, axis=0)"
      ],
      "execution_count": 0,
      "outputs": []
    },
    {
      "cell_type": "code",
      "metadata": {
        "id": "54oREo2jun3-",
        "colab_type": "code",
        "outputId": "6880fb37-4d7f-4db3-9d2d-f53be2f33266",
        "colab": {
          "base_uri": "https://localhost:8080/",
          "height": 201
        }
      },
      "source": [
        "#renaming date column before merging with FakenewsNet dataset, and adding a class column\n",
        "reald[\"class\"]=1\n",
        "reald = reald.rename(columns={\"date\":\"publish_date\"})\n",
        "reald.head()"
      ],
      "execution_count": 28,
      "outputs": [
        {
          "output_type": "execute_result",
          "data": {
            "text/html": [
              "<div>\n",
              "<style scoped>\n",
              "    .dataframe tbody tr th:only-of-type {\n",
              "        vertical-align: middle;\n",
              "    }\n",
              "\n",
              "    .dataframe tbody tr th {\n",
              "        vertical-align: top;\n",
              "    }\n",
              "\n",
              "    .dataframe thead th {\n",
              "        text-align: right;\n",
              "    }\n",
              "</style>\n",
              "<table border=\"1\" class=\"dataframe\">\n",
              "  <thead>\n",
              "    <tr style=\"text-align: right;\">\n",
              "      <th></th>\n",
              "      <th>title</th>\n",
              "      <th>text</th>\n",
              "      <th>subject</th>\n",
              "      <th>publish_date</th>\n",
              "      <th>source</th>\n",
              "      <th>class</th>\n",
              "    </tr>\n",
              "  </thead>\n",
              "  <tbody>\n",
              "    <tr>\n",
              "      <th>0</th>\n",
              "      <td>As U.S. budget fight looms, Republicans flip t...</td>\n",
              "      <td>The head of a conservative Republican faction...</td>\n",
              "      <td>politicsNews</td>\n",
              "      <td>December 31, 2017</td>\n",
              "      <td>WASHINGTON (Reuters)</td>\n",
              "      <td>1</td>\n",
              "    </tr>\n",
              "    <tr>\n",
              "      <th>1</th>\n",
              "      <td>U.S. military to accept transgender recruits o...</td>\n",
              "      <td>Transgender people will be allowed for the fi...</td>\n",
              "      <td>politicsNews</td>\n",
              "      <td>December 29, 2017</td>\n",
              "      <td>WASHINGTON (Reuters)</td>\n",
              "      <td>1</td>\n",
              "    </tr>\n",
              "    <tr>\n",
              "      <th>2</th>\n",
              "      <td>Senior U.S. Republican senator: 'Let Mr. Muell...</td>\n",
              "      <td>The special counsel investigation of links be...</td>\n",
              "      <td>politicsNews</td>\n",
              "      <td>December 31, 2017</td>\n",
              "      <td>WASHINGTON (Reuters)</td>\n",
              "      <td>1</td>\n",
              "    </tr>\n",
              "    <tr>\n",
              "      <th>3</th>\n",
              "      <td>FBI Russia probe helped by Australian diplomat...</td>\n",
              "      <td>Trump campaign adviser George Papadopoulos to...</td>\n",
              "      <td>politicsNews</td>\n",
              "      <td>December 30, 2017</td>\n",
              "      <td>WASHINGTON (Reuters)</td>\n",
              "      <td>1</td>\n",
              "    </tr>\n",
              "    <tr>\n",
              "      <th>4</th>\n",
              "      <td>Trump wants Postal Service to charge 'much mor...</td>\n",
              "      <td>President Donald Trump called on the U.S. Pos...</td>\n",
              "      <td>politicsNews</td>\n",
              "      <td>December 29, 2017</td>\n",
              "      <td>SEATTLE/WASHINGTON (Reuters)</td>\n",
              "      <td>1</td>\n",
              "    </tr>\n",
              "  </tbody>\n",
              "</table>\n",
              "</div>"
            ],
            "text/plain": [
              "                                               title  ... class\n",
              "0  As U.S. budget fight looms, Republicans flip t...  ...     1\n",
              "1  U.S. military to accept transgender recruits o...  ...     1\n",
              "2  Senior U.S. Republican senator: 'Let Mr. Muell...  ...     1\n",
              "3  FBI Russia probe helped by Australian diplomat...  ...     1\n",
              "4  Trump wants Postal Service to charge 'much mor...  ...     1\n",
              "\n",
              "[5 rows x 6 columns]"
            ]
          },
          "metadata": {
            "tags": []
          },
          "execution_count": 28
        }
      ]
    },
    {
      "cell_type": "markdown",
      "metadata": {
        "colab_type": "text",
        "id": "cxZ2aP_Ev0Oh"
      },
      "source": [
        "## Integrating Fake-and-real-news Fake News"
      ]
    },
    {
      "cell_type": "code",
      "metadata": {
        "colab_type": "code",
        "outputId": "54d7183e-49d8-4d6c-8888-89775e0b4393",
        "id": "cww7UL5Hv0Or",
        "colab": {
          "base_uri": "https://localhost:8080/",
          "height": 35
        }
      },
      "source": [
        "faked = pd.read_csv('/content/drive/My Drive/CS221_Project/Fake.csv')\n",
        "faked.shape"
      ],
      "execution_count": 29,
      "outputs": [
        {
          "output_type": "execute_result",
          "data": {
            "text/plain": [
              "(23481, 4)"
            ]
          },
          "metadata": {
            "tags": []
          },
          "execution_count": 29
        }
      ]
    },
    {
      "cell_type": "code",
      "metadata": {
        "colab_type": "code",
        "outputId": "a4b1a2e4-d08f-4bf1-d9aa-23e5304867d4",
        "id": "iaBdGqJtv0O2",
        "colab": {
          "base_uri": "https://localhost:8080/",
          "height": 201
        }
      },
      "source": [
        "faked.head()"
      ],
      "execution_count": 30,
      "outputs": [
        {
          "output_type": "execute_result",
          "data": {
            "text/html": [
              "<div>\n",
              "<style scoped>\n",
              "    .dataframe tbody tr th:only-of-type {\n",
              "        vertical-align: middle;\n",
              "    }\n",
              "\n",
              "    .dataframe tbody tr th {\n",
              "        vertical-align: top;\n",
              "    }\n",
              "\n",
              "    .dataframe thead th {\n",
              "        text-align: right;\n",
              "    }\n",
              "</style>\n",
              "<table border=\"1\" class=\"dataframe\">\n",
              "  <thead>\n",
              "    <tr style=\"text-align: right;\">\n",
              "      <th></th>\n",
              "      <th>title</th>\n",
              "      <th>text</th>\n",
              "      <th>subject</th>\n",
              "      <th>date</th>\n",
              "    </tr>\n",
              "  </thead>\n",
              "  <tbody>\n",
              "    <tr>\n",
              "      <th>0</th>\n",
              "      <td>Donald Trump Sends Out Embarrassing New Year’...</td>\n",
              "      <td>Donald Trump just couldn t wish all Americans ...</td>\n",
              "      <td>News</td>\n",
              "      <td>December 31, 2017</td>\n",
              "    </tr>\n",
              "    <tr>\n",
              "      <th>1</th>\n",
              "      <td>Drunk Bragging Trump Staffer Started Russian ...</td>\n",
              "      <td>House Intelligence Committee Chairman Devin Nu...</td>\n",
              "      <td>News</td>\n",
              "      <td>December 31, 2017</td>\n",
              "    </tr>\n",
              "    <tr>\n",
              "      <th>2</th>\n",
              "      <td>Sheriff David Clarke Becomes An Internet Joke...</td>\n",
              "      <td>On Friday, it was revealed that former Milwauk...</td>\n",
              "      <td>News</td>\n",
              "      <td>December 30, 2017</td>\n",
              "    </tr>\n",
              "    <tr>\n",
              "      <th>3</th>\n",
              "      <td>Trump Is So Obsessed He Even Has Obama’s Name...</td>\n",
              "      <td>On Christmas day, Donald Trump announced that ...</td>\n",
              "      <td>News</td>\n",
              "      <td>December 29, 2017</td>\n",
              "    </tr>\n",
              "    <tr>\n",
              "      <th>4</th>\n",
              "      <td>Pope Francis Just Called Out Donald Trump Dur...</td>\n",
              "      <td>Pope Francis used his annual Christmas Day mes...</td>\n",
              "      <td>News</td>\n",
              "      <td>December 25, 2017</td>\n",
              "    </tr>\n",
              "  </tbody>\n",
              "</table>\n",
              "</div>"
            ],
            "text/plain": [
              "                                               title  ...               date\n",
              "0   Donald Trump Sends Out Embarrassing New Year’...  ...  December 31, 2017\n",
              "1   Drunk Bragging Trump Staffer Started Russian ...  ...  December 31, 2017\n",
              "2   Sheriff David Clarke Becomes An Internet Joke...  ...  December 30, 2017\n",
              "3   Trump Is So Obsessed He Even Has Obama’s Name...  ...  December 29, 2017\n",
              "4   Pope Francis Just Called Out Donald Trump Dur...  ...  December 25, 2017\n",
              "\n",
              "[5 rows x 4 columns]"
            ]
          },
          "metadata": {
            "tags": []
          },
          "execution_count": 30
        }
      ]
    },
    {
      "cell_type": "code",
      "metadata": {
        "colab_type": "code",
        "outputId": "c95b8ac2-aaa0-49f5-da0e-73cf295fdfde",
        "id": "tTm8NrtNv0O7",
        "colab": {
          "base_uri": "https://localhost:8080/",
          "height": 148
        }
      },
      "source": [
        "for key,count in faked.subject.value_counts().iteritems():\n",
        "    print(\"{}:\\t{}\".format(key, count))\n",
        "    \n",
        "print(\"Total Records:\\t{}\".format(faked.shape[0]))"
      ],
      "execution_count": 31,
      "outputs": [
        {
          "output_type": "stream",
          "text": [
            "News:\t9050\n",
            "politics:\t6841\n",
            "left-news:\t4459\n",
            "Government News:\t1570\n",
            "US_News:\t783\n",
            "Middle-east:\t778\n",
            "Total Records:\t23481\n"
          ],
          "name": "stdout"
        }
      ]
    },
    {
      "cell_type": "code",
      "metadata": {
        "colab_type": "code",
        "id": "PtlIoTkMv0PA",
        "outputId": "ac21e191-34ad-46b8-c437-b4fe1ff6d34b",
        "colab": {
          "base_uri": "https://localhost:8080/",
          "height": 396
        }
      },
      "source": [
        "plt.figure(figsize=(20,5))\n",
        "chart = sns.countplot(\"subject\", data=faked)\n",
        "chart.set_xticklabels(chart.get_xticklabels(), rotation=45)\n",
        "plt.show()"
      ],
      "execution_count": 32,
      "outputs": [
        {
          "output_type": "display_data",
          "data": {
            "image/png": "[encoded data removed]",
            "text/plain": [
              "<Figure size 1440x360 with 1 Axes>"
            ]
          },
          "metadata": {
            "tags": [],
            "needs_background": "light"
          }
        }
      ]
    },
    {
      "cell_type": "code",
      "metadata": {
        "colab_type": "code",
        "outputId": "50c56539-d95e-40a2-d73e-c1107db5b017",
        "id": "_HS2tTsUv0PQ",
        "colab": {
          "base_uri": "https://localhost:8080/",
          "height": 219
        }
      },
      "source": [
        "#checking for rows with empty text\n",
        "empty_faked_index = [index for index,text in enumerate(faked.text.values) if str(text).strip() == '']\n",
        "print(\"No of empty rows: {}\".format(len(empty_faked_index)))\n",
        "faked.iloc[empty_faked_index].tail()"
      ],
      "execution_count": 33,
      "outputs": [
        {
          "output_type": "stream",
          "text": [
            "No of empty rows: 630\n"
          ],
          "name": "stdout"
        },
        {
          "output_type": "execute_result",
          "data": {
            "text/html": [
              "<div>\n",
              "<style scoped>\n",
              "    .dataframe tbody tr th:only-of-type {\n",
              "        vertical-align: middle;\n",
              "    }\n",
              "\n",
              "    .dataframe tbody tr th {\n",
              "        vertical-align: top;\n",
              "    }\n",
              "\n",
              "    .dataframe thead th {\n",
              "        text-align: right;\n",
              "    }\n",
              "</style>\n",
              "<table border=\"1\" class=\"dataframe\">\n",
              "  <thead>\n",
              "    <tr style=\"text-align: right;\">\n",
              "      <th></th>\n",
              "      <th>title</th>\n",
              "      <th>text</th>\n",
              "      <th>subject</th>\n",
              "      <th>date</th>\n",
              "    </tr>\n",
              "  </thead>\n",
              "  <tbody>\n",
              "    <tr>\n",
              "      <th>21816</th>\n",
              "      <td>BALTIMORE BURNS: MARYLAND GOVERNOR BRINGS IN N...</td>\n",
              "      <td></td>\n",
              "      <td>left-news</td>\n",
              "      <td>Apr 27, 2015</td>\n",
              "    </tr>\n",
              "    <tr>\n",
              "      <th>21826</th>\n",
              "      <td>FULL VIDEO: THE BLOCKBUSTER INVESTIGATION INTO...</td>\n",
              "      <td></td>\n",
              "      <td>left-news</td>\n",
              "      <td>Apr 25, 2015</td>\n",
              "    </tr>\n",
              "    <tr>\n",
              "      <th>21827</th>\n",
              "      <td>(VIDEO) HILLARY CLINTON: RELIGIOUS BELIEFS MUS...</td>\n",
              "      <td></td>\n",
              "      <td>left-news</td>\n",
              "      <td>Apr 25, 2015</td>\n",
              "    </tr>\n",
              "    <tr>\n",
              "      <th>21857</th>\n",
              "      <td>(VIDEO)ICE PROTECTING OBAMA: WON’T RELEASE NAM...</td>\n",
              "      <td></td>\n",
              "      <td>left-news</td>\n",
              "      <td>Apr 14, 2015</td>\n",
              "    </tr>\n",
              "    <tr>\n",
              "      <th>21873</th>\n",
              "      <td>(VIDEO) HYSTERICAL SNL TAKE ON HILLARY’S ANNOU...</td>\n",
              "      <td></td>\n",
              "      <td>left-news</td>\n",
              "      <td>Apr 12, 2015</td>\n",
              "    </tr>\n",
              "  </tbody>\n",
              "</table>\n",
              "</div>"
            ],
            "text/plain": [
              "                                                   title  ...          date\n",
              "21816  BALTIMORE BURNS: MARYLAND GOVERNOR BRINGS IN N...  ...  Apr 27, 2015\n",
              "21826  FULL VIDEO: THE BLOCKBUSTER INVESTIGATION INTO...  ...  Apr 25, 2015\n",
              "21827  (VIDEO) HILLARY CLINTON: RELIGIOUS BELIEFS MUS...  ...  Apr 25, 2015\n",
              "21857  (VIDEO)ICE PROTECTING OBAMA: WON’T RELEASE NAM...  ...  Apr 14, 2015\n",
              "21873  (VIDEO) HYSTERICAL SNL TAKE ON HILLARY’S ANNOU...  ...  Apr 12, 2015\n",
              "\n",
              "[5 rows x 4 columns]"
            ]
          },
          "metadata": {
            "tags": []
          },
          "execution_count": 33
        }
      ]
    },
    {
      "cell_type": "code",
      "metadata": {
        "colab_type": "code",
        "id": "UNNSiW8lv0PU",
        "outputId": "b2081002-52b5-424d-e57a-f97183efba3d",
        "colab": {
          "base_uri": "https://localhost:8080/",
          "height": 35
        }
      },
      "source": [
        "#dropping this record\n",
        "for i in empty_faked_index:\n",
        "  faked = faked.drop(i, axis=0)\n",
        "\n",
        "faked.shape"
      ],
      "execution_count": 34,
      "outputs": [
        {
          "output_type": "execute_result",
          "data": {
            "text/plain": [
              "(22851, 4)"
            ]
          },
          "metadata": {
            "tags": []
          },
          "execution_count": 34
        }
      ]
    },
    {
      "cell_type": "markdown",
      "metadata": {
        "id": "gbO_1YMj3Krx",
        "colab_type": "text"
      },
      "source": [
        "Removing polluting expressions in both title and text columns"
      ]
    },
    {
      "cell_type": "code",
      "metadata": {
        "id": "RE1hka7j3KMq",
        "colab_type": "code",
        "colab": {}
      },
      "source": [
        "pollution_faked = [\"(VIDEO)\", \"Photo by\", \"/Getty Images\", \"Featured image\", \"pic.twitter.com\"]\n",
        "for i in pollution_faked:\n",
        "    faked['title'] = faked['title'].str.replace(i , '')\n",
        "    faked['text'] = faked['text'].str.replace(i , '')"
      ],
      "execution_count": 0,
      "outputs": []
    },
    {
      "cell_type": "code",
      "metadata": {
        "colab_type": "code",
        "outputId": "d860d3bb-ccf1-437d-bff1-1e44a0bed26b",
        "id": "Jn6u0Af9v0PY",
        "colab": {
          "base_uri": "https://localhost:8080/",
          "height": 201
        }
      },
      "source": [
        "#renaming date column before merging with FakenewsNet dataset, adding a class column and a source one set to \"Unknown\"\n",
        "faked[\"class\"]=0\n",
        "faked[\"source\"]=\"Unknown\"\n",
        "faked = faked.rename(columns={\"date\":\"publish_date\"})\n",
        "faked.head()"
      ],
      "execution_count": 36,
      "outputs": [
        {
          "output_type": "execute_result",
          "data": {
            "text/html": [
              "<div>\n",
              "<style scoped>\n",
              "    .dataframe tbody tr th:only-of-type {\n",
              "        vertical-align: middle;\n",
              "    }\n",
              "\n",
              "    .dataframe tbody tr th {\n",
              "        vertical-align: top;\n",
              "    }\n",
              "\n",
              "    .dataframe thead th {\n",
              "        text-align: right;\n",
              "    }\n",
              "</style>\n",
              "<table border=\"1\" class=\"dataframe\">\n",
              "  <thead>\n",
              "    <tr style=\"text-align: right;\">\n",
              "      <th></th>\n",
              "      <th>title</th>\n",
              "      <th>text</th>\n",
              "      <th>subject</th>\n",
              "      <th>publish_date</th>\n",
              "      <th>class</th>\n",
              "      <th>source</th>\n",
              "    </tr>\n",
              "  </thead>\n",
              "  <tbody>\n",
              "    <tr>\n",
              "      <th>0</th>\n",
              "      <td>Donald Trump Sends Out Embarrassing New Year’...</td>\n",
              "      <td>Donald Trump just couldn t wish all Americans ...</td>\n",
              "      <td>News</td>\n",
              "      <td>December 31, 2017</td>\n",
              "      <td>0</td>\n",
              "      <td>Unknown</td>\n",
              "    </tr>\n",
              "    <tr>\n",
              "      <th>1</th>\n",
              "      <td>Drunk Bragging Trump Staffer Started Russian ...</td>\n",
              "      <td>House Intelligence Committee Chairman Devin Nu...</td>\n",
              "      <td>News</td>\n",
              "      <td>December 31, 2017</td>\n",
              "      <td>0</td>\n",
              "      <td>Unknown</td>\n",
              "    </tr>\n",
              "    <tr>\n",
              "      <th>2</th>\n",
              "      <td>Sheriff David Clarke Becomes An Internet Joke...</td>\n",
              "      <td>On Friday, it was revealed that former Milwauk...</td>\n",
              "      <td>News</td>\n",
              "      <td>December 30, 2017</td>\n",
              "      <td>0</td>\n",
              "      <td>Unknown</td>\n",
              "    </tr>\n",
              "    <tr>\n",
              "      <th>3</th>\n",
              "      <td>Trump Is So Obsessed He Even Has Obama’s Name...</td>\n",
              "      <td>On Christmas day, Donald Trump announced that ...</td>\n",
              "      <td>News</td>\n",
              "      <td>December 29, 2017</td>\n",
              "      <td>0</td>\n",
              "      <td>Unknown</td>\n",
              "    </tr>\n",
              "    <tr>\n",
              "      <th>4</th>\n",
              "      <td>Pope Francis Just Called Out Donald Trump Dur...</td>\n",
              "      <td>Pope Francis used his annual Christmas Day mes...</td>\n",
              "      <td>News</td>\n",
              "      <td>December 25, 2017</td>\n",
              "      <td>0</td>\n",
              "      <td>Unknown</td>\n",
              "    </tr>\n",
              "  </tbody>\n",
              "</table>\n",
              "</div>"
            ],
            "text/plain": [
              "                                               title  ...   source\n",
              "0   Donald Trump Sends Out Embarrassing New Year’...  ...  Unknown\n",
              "1   Drunk Bragging Trump Staffer Started Russian ...  ...  Unknown\n",
              "2   Sheriff David Clarke Becomes An Internet Joke...  ...  Unknown\n",
              "3   Trump Is So Obsessed He Even Has Obama’s Name...  ...  Unknown\n",
              "4   Pope Francis Just Called Out Donald Trump Dur...  ...  Unknown\n",
              "\n",
              "[5 rows x 6 columns]"
            ]
          },
          "metadata": {
            "tags": []
          },
          "execution_count": 36
        }
      ]
    },
    {
      "cell_type": "markdown",
      "metadata": {
        "colab_type": "text",
        "id": "NbVFsHswybJD"
      },
      "source": [
        "## Merging all 4 datasets into one"
      ]
    },
    {
      "cell_type": "markdown",
      "metadata": {
        "id": "3gEkDZy74wHk",
        "colab_type": "text"
      },
      "source": [
        "**Baseline**: merge title and text, and keep only the resulting value along with the class"
      ]
    },
    {
      "cell_type": "code",
      "metadata": {
        "id": "BFCd1ulp1u1v",
        "colab_type": "code",
        "outputId": "00513dad-6908-4e20-e9e9-f2faec7e84a1",
        "colab": {
          "base_uri": "https://localhost:8080/",
          "height": 201
        }
      },
      "source": [
        "bfreal_short = bfreal[[\"title\", \"text\",\"class\"]]\n",
        "bfreal_short.head()"
      ],
      "execution_count": 37,
      "outputs": [
        {
          "output_type": "execute_result",
          "data": {
            "text/html": [
              "<div>\n",
              "<style scoped>\n",
              "    .dataframe tbody tr th:only-of-type {\n",
              "        vertical-align: middle;\n",
              "    }\n",
              "\n",
              "    .dataframe tbody tr th {\n",
              "        vertical-align: top;\n",
              "    }\n",
              "\n",
              "    .dataframe thead th {\n",
              "        text-align: right;\n",
              "    }\n",
              "</style>\n",
              "<table border=\"1\" class=\"dataframe\">\n",
              "  <thead>\n",
              "    <tr style=\"text-align: right;\">\n",
              "      <th></th>\n",
              "      <th>title</th>\n",
              "      <th>text</th>\n",
              "      <th>class</th>\n",
              "    </tr>\n",
              "  </thead>\n",
              "  <tbody>\n",
              "    <tr>\n",
              "      <th>0</th>\n",
              "      <td>Another Terrorist Attack in NYC…Why Are we STI...</td>\n",
              "      <td>On Saturday, September 17 at 8:30 pm EST, an e...</td>\n",
              "      <td>1</td>\n",
              "    </tr>\n",
              "    <tr>\n",
              "      <th>1</th>\n",
              "      <td>Donald Trump: Drugs a 'Very, Very Big Factor' ...</td>\n",
              "      <td>Less than a day after protests over the police...</td>\n",
              "      <td>1</td>\n",
              "    </tr>\n",
              "    <tr>\n",
              "      <th>2</th>\n",
              "      <td>Obama To UN: ‘Giving Up Liberty, Enhances Secu...</td>\n",
              "      <td>Obama To UN: ‘Giving Up Liberty, Enhances Secu...</td>\n",
              "      <td>1</td>\n",
              "    </tr>\n",
              "    <tr>\n",
              "      <th>3</th>\n",
              "      <td>Trump vs. Clinton: A Fundamental Clash over Ho...</td>\n",
              "      <td>Getty Images Wealth Of Nations Trump vs. Clint...</td>\n",
              "      <td>1</td>\n",
              "    </tr>\n",
              "    <tr>\n",
              "      <th>4</th>\n",
              "      <td>President Obama Vetoes 9/11 Victims Bill, Sett...</td>\n",
              "      <td>President Obama today vetoed a bill that would...</td>\n",
              "      <td>1</td>\n",
              "    </tr>\n",
              "  </tbody>\n",
              "</table>\n",
              "</div>"
            ],
            "text/plain": [
              "                                               title  ... class\n",
              "0  Another Terrorist Attack in NYC…Why Are we STI...  ...     1\n",
              "1  Donald Trump: Drugs a 'Very, Very Big Factor' ...  ...     1\n",
              "2  Obama To UN: ‘Giving Up Liberty, Enhances Secu...  ...     1\n",
              "3  Trump vs. Clinton: A Fundamental Clash over Ho...  ...     1\n",
              "4  President Obama Vetoes 9/11 Victims Bill, Sett...  ...     1\n",
              "\n",
              "[5 rows x 3 columns]"
            ]
          },
          "metadata": {
            "tags": []
          },
          "execution_count": 37
        }
      ]
    },
    {
      "cell_type": "code",
      "metadata": {
        "id": "4ZThA_As2AwD",
        "colab_type": "code",
        "outputId": "71ca7125-892f-437b-e504-af7019bc162d",
        "colab": {
          "base_uri": "https://localhost:8080/",
          "height": 201
        }
      },
      "source": [
        "bffake_short = bffake[[\"title\", \"text\",\"class\"]]\n",
        "bffake_short.head()"
      ],
      "execution_count": 38,
      "outputs": [
        {
          "output_type": "execute_result",
          "data": {
            "text/html": [
              "<div>\n",
              "<style scoped>\n",
              "    .dataframe tbody tr th:only-of-type {\n",
              "        vertical-align: middle;\n",
              "    }\n",
              "\n",
              "    .dataframe tbody tr th {\n",
              "        vertical-align: top;\n",
              "    }\n",
              "\n",
              "    .dataframe thead th {\n",
              "        text-align: right;\n",
              "    }\n",
              "</style>\n",
              "<table border=\"1\" class=\"dataframe\">\n",
              "  <thead>\n",
              "    <tr style=\"text-align: right;\">\n",
              "      <th></th>\n",
              "      <th>title</th>\n",
              "      <th>text</th>\n",
              "      <th>class</th>\n",
              "    </tr>\n",
              "  </thead>\n",
              "  <tbody>\n",
              "    <tr>\n",
              "      <th>0</th>\n",
              "      <td>Proof The Mainstream Media Is Manipulating The...</td>\n",
              "      <td>I woke up this morning to find a variation of ...</td>\n",
              "      <td>0</td>\n",
              "    </tr>\n",
              "    <tr>\n",
              "      <th>1</th>\n",
              "      <td>Charity: Clinton Foundation Distributed “Water...</td>\n",
              "      <td>Former President Bill Clinton and his Clinton ...</td>\n",
              "      <td>0</td>\n",
              "    </tr>\n",
              "    <tr>\n",
              "      <th>2</th>\n",
              "      <td>A Hillary Clinton Administration May be Entire...</td>\n",
              "      <td>After collapsing just before trying to step in...</td>\n",
              "      <td>0</td>\n",
              "    </tr>\n",
              "    <tr>\n",
              "      <th>3</th>\n",
              "      <td>Trump’s Latest Campaign Promise May Be His Mos...</td>\n",
              "      <td>Donald Trump is, well, deplorable. He’s sugges...</td>\n",
              "      <td>0</td>\n",
              "    </tr>\n",
              "    <tr>\n",
              "      <th>4</th>\n",
              "      <td>Website is Down For Maintenance</td>\n",
              "      <td>Website is Down For Maintenance</td>\n",
              "      <td>0</td>\n",
              "    </tr>\n",
              "  </tbody>\n",
              "</table>\n",
              "</div>"
            ],
            "text/plain": [
              "                                               title  ... class\n",
              "0  Proof The Mainstream Media Is Manipulating The...  ...     0\n",
              "1  Charity: Clinton Foundation Distributed “Water...  ...     0\n",
              "2  A Hillary Clinton Administration May be Entire...  ...     0\n",
              "3  Trump’s Latest Campaign Promise May Be His Mos...  ...     0\n",
              "4                    Website is Down For Maintenance  ...     0\n",
              "\n",
              "[5 rows x 3 columns]"
            ]
          },
          "metadata": {
            "tags": []
          },
          "execution_count": 38
        }
      ]
    },
    {
      "cell_type": "code",
      "metadata": {
        "id": "ezIQyAJT2Wh4",
        "colab_type": "code",
        "outputId": "08b6c073-78ad-4fc0-8a7b-631dad9758f2",
        "colab": {
          "base_uri": "https://localhost:8080/",
          "height": 201
        }
      },
      "source": [
        "reald_short = reald[[\"title\", \"text\",\"class\"]]\n",
        "reald_short.head()"
      ],
      "execution_count": 39,
      "outputs": [
        {
          "output_type": "execute_result",
          "data": {
            "text/html": [
              "<div>\n",
              "<style scoped>\n",
              "    .dataframe tbody tr th:only-of-type {\n",
              "        vertical-align: middle;\n",
              "    }\n",
              "\n",
              "    .dataframe tbody tr th {\n",
              "        vertical-align: top;\n",
              "    }\n",
              "\n",
              "    .dataframe thead th {\n",
              "        text-align: right;\n",
              "    }\n",
              "</style>\n",
              "<table border=\"1\" class=\"dataframe\">\n",
              "  <thead>\n",
              "    <tr style=\"text-align: right;\">\n",
              "      <th></th>\n",
              "      <th>title</th>\n",
              "      <th>text</th>\n",
              "      <th>class</th>\n",
              "    </tr>\n",
              "  </thead>\n",
              "  <tbody>\n",
              "    <tr>\n",
              "      <th>0</th>\n",
              "      <td>As U.S. budget fight looms, Republicans flip t...</td>\n",
              "      <td>The head of a conservative Republican faction...</td>\n",
              "      <td>1</td>\n",
              "    </tr>\n",
              "    <tr>\n",
              "      <th>1</th>\n",
              "      <td>U.S. military to accept transgender recruits o...</td>\n",
              "      <td>Transgender people will be allowed for the fi...</td>\n",
              "      <td>1</td>\n",
              "    </tr>\n",
              "    <tr>\n",
              "      <th>2</th>\n",
              "      <td>Senior U.S. Republican senator: 'Let Mr. Muell...</td>\n",
              "      <td>The special counsel investigation of links be...</td>\n",
              "      <td>1</td>\n",
              "    </tr>\n",
              "    <tr>\n",
              "      <th>3</th>\n",
              "      <td>FBI Russia probe helped by Australian diplomat...</td>\n",
              "      <td>Trump campaign adviser George Papadopoulos to...</td>\n",
              "      <td>1</td>\n",
              "    </tr>\n",
              "    <tr>\n",
              "      <th>4</th>\n",
              "      <td>Trump wants Postal Service to charge 'much mor...</td>\n",
              "      <td>President Donald Trump called on the U.S. Pos...</td>\n",
              "      <td>1</td>\n",
              "    </tr>\n",
              "  </tbody>\n",
              "</table>\n",
              "</div>"
            ],
            "text/plain": [
              "                                               title  ... class\n",
              "0  As U.S. budget fight looms, Republicans flip t...  ...     1\n",
              "1  U.S. military to accept transgender recruits o...  ...     1\n",
              "2  Senior U.S. Republican senator: 'Let Mr. Muell...  ...     1\n",
              "3  FBI Russia probe helped by Australian diplomat...  ...     1\n",
              "4  Trump wants Postal Service to charge 'much mor...  ...     1\n",
              "\n",
              "[5 rows x 3 columns]"
            ]
          },
          "metadata": {
            "tags": []
          },
          "execution_count": 39
        }
      ]
    },
    {
      "cell_type": "code",
      "metadata": {
        "id": "GOR3yhwW2bxM",
        "colab_type": "code",
        "outputId": "fdc448b6-4af3-4198-ad3a-c4d69074aeb7",
        "colab": {
          "base_uri": "https://localhost:8080/",
          "height": 201
        }
      },
      "source": [
        "faked_short = faked[[\"title\", \"text\",\"class\"]]\n",
        "faked_short.tail()"
      ],
      "execution_count": 40,
      "outputs": [
        {
          "output_type": "execute_result",
          "data": {
            "text/html": [
              "<div>\n",
              "<style scoped>\n",
              "    .dataframe tbody tr th:only-of-type {\n",
              "        vertical-align: middle;\n",
              "    }\n",
              "\n",
              "    .dataframe tbody tr th {\n",
              "        vertical-align: top;\n",
              "    }\n",
              "\n",
              "    .dataframe thead th {\n",
              "        text-align: right;\n",
              "    }\n",
              "</style>\n",
              "<table border=\"1\" class=\"dataframe\">\n",
              "  <thead>\n",
              "    <tr style=\"text-align: right;\">\n",
              "      <th></th>\n",
              "      <th>title</th>\n",
              "      <th>text</th>\n",
              "      <th>class</th>\n",
              "    </tr>\n",
              "  </thead>\n",
              "  <tbody>\n",
              "    <tr>\n",
              "      <th>23476</th>\n",
              "      <td>McPain: John McCain Furious That Iran Treated ...</td>\n",
              "      <td>21st Century Wire says As 21WIRE reported earl...</td>\n",
              "      <td>0</td>\n",
              "    </tr>\n",
              "    <tr>\n",
              "      <th>23477</th>\n",
              "      <td>JUSTICE? Yahoo Settles E-mail Privacy Class-ac...</td>\n",
              "      <td>21st Century Wire says It s a familiar theme. ...</td>\n",
              "      <td>0</td>\n",
              "    </tr>\n",
              "    <tr>\n",
              "      <th>23478</th>\n",
              "      <td>Sunnistan: US and Allied ‘Safe Zone’ Plan to T...</td>\n",
              "      <td>Patrick Henningsen  21st Century WireRemember ...</td>\n",
              "      <td>0</td>\n",
              "    </tr>\n",
              "    <tr>\n",
              "      <th>23479</th>\n",
              "      <td>How to Blow $700 Million: Al Jazeera America F...</td>\n",
              "      <td>21st Century Wire says Al Jazeera America will...</td>\n",
              "      <td>0</td>\n",
              "    </tr>\n",
              "    <tr>\n",
              "      <th>23480</th>\n",
              "      <td>10 U.S. Navy Sailors Held by Iranian Military ...</td>\n",
              "      <td>21st Century Wire says As 21WIRE predicted in ...</td>\n",
              "      <td>0</td>\n",
              "    </tr>\n",
              "  </tbody>\n",
              "</table>\n",
              "</div>"
            ],
            "text/plain": [
              "                                                   title  ... class\n",
              "23476  McPain: John McCain Furious That Iran Treated ...  ...     0\n",
              "23477  JUSTICE? Yahoo Settles E-mail Privacy Class-ac...  ...     0\n",
              "23478  Sunnistan: US and Allied ‘Safe Zone’ Plan to T...  ...     0\n",
              "23479  How to Blow $700 Million: Al Jazeera America F...  ...     0\n",
              "23480  10 U.S. Navy Sailors Held by Iranian Military ...  ...     0\n",
              "\n",
              "[5 rows x 3 columns]"
            ]
          },
          "metadata": {
            "tags": []
          },
          "execution_count": 40
        }
      ]
    },
    {
      "cell_type": "code",
      "metadata": {
        "id": "RJ7AjASB2jKW",
        "colab_type": "code",
        "outputId": "83f66564-6346-41a8-faf3-9174e4a524f4",
        "colab": {
          "base_uri": "https://localhost:8080/",
          "height": 35
        }
      },
      "source": [
        "dataset = bfreal_short.append([bffake_short, reald_short, faked_short], ignore_index=True)\n",
        "dataset.shape"
      ],
      "execution_count": 41,
      "outputs": [
        {
          "output_type": "execute_result",
          "data": {
            "text/plain": [
              "(44449, 3)"
            ]
          },
          "metadata": {
            "tags": []
          },
          "execution_count": 41
        }
      ]
    },
    {
      "cell_type": "code",
      "metadata": {
        "id": "S4I1U-843rXX",
        "colab_type": "code",
        "outputId": "df4f1323-0a56-40a0-df03-2191179d9032",
        "colab": {
          "base_uri": "https://localhost:8080/",
          "height": 201
        }
      },
      "source": [
        "#Combining Title and Text\n",
        "dataset[\"text\"] = dataset[\"title\"] + \" \" + dataset[\"text\"]\n",
        "dataset = dataset.drop([\"title\"], axis=1)\n",
        "dataset.head()"
      ],
      "execution_count": 42,
      "outputs": [
        {
          "output_type": "execute_result",
          "data": {
            "text/html": [
              "<div>\n",
              "<style scoped>\n",
              "    .dataframe tbody tr th:only-of-type {\n",
              "        vertical-align: middle;\n",
              "    }\n",
              "\n",
              "    .dataframe tbody tr th {\n",
              "        vertical-align: top;\n",
              "    }\n",
              "\n",
              "    .dataframe thead th {\n",
              "        text-align: right;\n",
              "    }\n",
              "</style>\n",
              "<table border=\"1\" class=\"dataframe\">\n",
              "  <thead>\n",
              "    <tr style=\"text-align: right;\">\n",
              "      <th></th>\n",
              "      <th>text</th>\n",
              "      <th>class</th>\n",
              "    </tr>\n",
              "  </thead>\n",
              "  <tbody>\n",
              "    <tr>\n",
              "      <th>0</th>\n",
              "      <td>Another Terrorist Attack in NYC…Why Are we STI...</td>\n",
              "      <td>1</td>\n",
              "    </tr>\n",
              "    <tr>\n",
              "      <th>1</th>\n",
              "      <td>Donald Trump: Drugs a 'Very, Very Big Factor' ...</td>\n",
              "      <td>1</td>\n",
              "    </tr>\n",
              "    <tr>\n",
              "      <th>2</th>\n",
              "      <td>Obama To UN: ‘Giving Up Liberty, Enhances Secu...</td>\n",
              "      <td>1</td>\n",
              "    </tr>\n",
              "    <tr>\n",
              "      <th>3</th>\n",
              "      <td>Trump vs. Clinton: A Fundamental Clash over Ho...</td>\n",
              "      <td>1</td>\n",
              "    </tr>\n",
              "    <tr>\n",
              "      <th>4</th>\n",
              "      <td>President Obama Vetoes 9/11 Victims Bill, Sett...</td>\n",
              "      <td>1</td>\n",
              "    </tr>\n",
              "  </tbody>\n",
              "</table>\n",
              "</div>"
            ],
            "text/plain": [
              "                                                text  class\n",
              "0  Another Terrorist Attack in NYC…Why Are we STI...      1\n",
              "1  Donald Trump: Drugs a 'Very, Very Big Factor' ...      1\n",
              "2  Obama To UN: ‘Giving Up Liberty, Enhances Secu...      1\n",
              "3  Trump vs. Clinton: A Fundamental Clash over Ho...      1\n",
              "4  President Obama Vetoes 9/11 Victims Bill, Sett...      1"
            ]
          },
          "metadata": {
            "tags": []
          },
          "execution_count": 42
        }
      ]
    },
    {
      "cell_type": "code",
      "metadata": {
        "id": "jZuAlsnX4MyU",
        "colab_type": "code",
        "outputId": "fe7a90ac-e95c-469c-a836-16adbfd830e1",
        "colab": {
          "base_uri": "https://localhost:8080/",
          "height": 201
        }
      },
      "source": [
        "dataset.tail()"
      ],
      "execution_count": 43,
      "outputs": [
        {
          "output_type": "execute_result",
          "data": {
            "text/html": [
              "<div>\n",
              "<style scoped>\n",
              "    .dataframe tbody tr th:only-of-type {\n",
              "        vertical-align: middle;\n",
              "    }\n",
              "\n",
              "    .dataframe tbody tr th {\n",
              "        vertical-align: top;\n",
              "    }\n",
              "\n",
              "    .dataframe thead th {\n",
              "        text-align: right;\n",
              "    }\n",
              "</style>\n",
              "<table border=\"1\" class=\"dataframe\">\n",
              "  <thead>\n",
              "    <tr style=\"text-align: right;\">\n",
              "      <th></th>\n",
              "      <th>text</th>\n",
              "      <th>class</th>\n",
              "    </tr>\n",
              "  </thead>\n",
              "  <tbody>\n",
              "    <tr>\n",
              "      <th>44444</th>\n",
              "      <td>McPain: John McCain Furious That Iran Treated ...</td>\n",
              "      <td>0</td>\n",
              "    </tr>\n",
              "    <tr>\n",
              "      <th>44445</th>\n",
              "      <td>JUSTICE? Yahoo Settles E-mail Privacy Class-ac...</td>\n",
              "      <td>0</td>\n",
              "    </tr>\n",
              "    <tr>\n",
              "      <th>44446</th>\n",
              "      <td>Sunnistan: US and Allied ‘Safe Zone’ Plan to T...</td>\n",
              "      <td>0</td>\n",
              "    </tr>\n",
              "    <tr>\n",
              "      <th>44447</th>\n",
              "      <td>How to Blow $700 Million: Al Jazeera America F...</td>\n",
              "      <td>0</td>\n",
              "    </tr>\n",
              "    <tr>\n",
              "      <th>44448</th>\n",
              "      <td>10 U.S. Navy Sailors Held by Iranian Military ...</td>\n",
              "      <td>0</td>\n",
              "    </tr>\n",
              "  </tbody>\n",
              "</table>\n",
              "</div>"
            ],
            "text/plain": [
              "                                                    text  class\n",
              "44444  McPain: John McCain Furious That Iran Treated ...      0\n",
              "44445  JUSTICE? Yahoo Settles E-mail Privacy Class-ac...      0\n",
              "44446  Sunnistan: US and Allied ‘Safe Zone’ Plan to T...      0\n",
              "44447  How to Blow $700 Million: Al Jazeera America F...      0\n",
              "44448  10 U.S. Navy Sailors Held by Iranian Military ...      0"
            ]
          },
          "metadata": {
            "tags": []
          },
          "execution_count": 43
        }
      ]
    },
    {
      "cell_type": "code",
      "metadata": {
        "id": "ordoXqi_W_mG",
        "colab_type": "code",
        "outputId": "e755a628-48d4-4834-aaf5-82b413eb2bf7",
        "colab": {
          "base_uri": "https://localhost:8080/",
          "height": 73
        }
      },
      "source": [
        "dataset.count()"
      ],
      "execution_count": 44,
      "outputs": [
        {
          "output_type": "execute_result",
          "data": {
            "text/plain": [
              "text     44449\n",
              "class    44449\n",
              "dtype: int64"
            ]
          },
          "metadata": {
            "tags": []
          },
          "execution_count": 44
        }
      ]
    },
    {
      "cell_type": "code",
      "metadata": {
        "id": "82Lt_XAVX6pc",
        "colab_type": "code",
        "outputId": "d265bfac-5704-45ce-a750-43bbbdb76589",
        "colab": {
          "base_uri": "https://localhost:8080/",
          "height": 73
        }
      },
      "source": [
        "dataset[\"class\"].value_counts()"
      ],
      "execution_count": 45,
      "outputs": [
        {
          "output_type": "execute_result",
          "data": {
            "text/plain": [
              "0    22942\n",
              "1    21507\n",
              "Name: class, dtype: int64"
            ]
          },
          "metadata": {
            "tags": []
          },
          "execution_count": 45
        }
      ]
    },
    {
      "cell_type": "code",
      "metadata": {
        "id": "rWtZUGHU2_BA",
        "colab_type": "code",
        "outputId": "64848852-e799-4d4a-a6b4-428567d5ec69",
        "colab": {
          "base_uri": "https://localhost:8080/",
          "height": 335
        }
      },
      "source": [
        "#Plotting total number of Fake and Real news\n",
        "plt.figure(figsize=(20,5))\n",
        "chart = sns.countplot(\"class\", data=dataset)\n",
        "chart.set_xticklabels(chart.get_xticklabels(), rotation=45)\n",
        "plt.show()"
      ],
      "execution_count": 46,
      "outputs": [
        {
          "output_type": "display_data",
          "data": {
            "image/png": "[encoded data removed]",
            "text/plain": [
              "<Figure size 1440x360 with 1 Axes>"
            ]
          },
          "metadata": {
            "tags": [],
            "needs_background": "light"
          }
        }
      ]
    },
    {
      "cell_type": "code",
      "metadata": {
        "id": "H8Y8TgkCdR3P",
        "colab_type": "code",
        "colab": {}
      },
      "source": [
        "del bfreal, bfreal_short, bffake, bffake_short, reald, reald_short, faked, faked_short"
      ],
      "execution_count": 0,
      "outputs": []
    },
    {
      "cell_type": "markdown",
      "metadata": {
        "id": "jE7FkFSzn__A",
        "colab_type": "text"
      },
      "source": [
        "# **Generating Oracle**"
      ]
    },
    {
      "cell_type": "code",
      "metadata": {
        "id": "8ZooNWUkojQR",
        "colab_type": "code",
        "colab": {}
      },
      "source": [
        "num_samples = 25\n",
        "sampled = dataset.sample(n=num_samples)\n",
        "sampled['text'].to_csv('/content/drive/My Drive/CS221_Project/oracle_data.csv', index=False)"
      ],
      "execution_count": 0,
      "outputs": []
    },
    {
      "cell_type": "markdown",
      "metadata": {
        "id": "ZRDT_AxEppXy",
        "colab_type": "text"
      },
      "source": [
        "After we've generated the file, we'd fill it out and then\n",
        "run the following:"
      ]
    },
    {
      "cell_type": "code",
      "metadata": {
        "id": "oEOiXo-BpsRl",
        "colab_type": "code",
        "outputId": "0b8275e0-2b6e-4593-acce-d22e4e35c0d9",
        "colab": {
          "base_uri": "https://localhost:8080/",
          "height": 92
        }
      },
      "source": [
        "sampled = pd.read_csv('/content/drive/My Drive/CS221_Project/oracle_answers.csv')\n",
        "guesses = pd.read_csv('/content/drive/My Drive/CS221_Project/oracle_data_filled_lowercase.csv')\n",
        "guesses['roland'] = pd.to_numeric(guesses['roland'])\n",
        "guesses['sathya'] = pd.to_numeric(guesses['sathya'])\n",
        "accuracy = pd.DataFrame()\n",
        "accuracy['roland'] = (sampled['class']==guesses['roland'])\n",
        "accuracy['sathya'] = (sampled['class']==guesses['sathya'])\n",
        "accuracy['max'] = (accuracy['sathya'] | accuracy['roland']) #picking the right answer if one of us chose it\n",
        "accuracy['min'] = (accuracy['sathya'] & accuracy['roland']) #picking the wrong answer if one of us chose it\n",
        "print(\"Roland accuracy: \", sum(accuracy['roland'])/num_samples)\n",
        "print(\"Sathya accuracy: \", sum(accuracy['sathya'])/num_samples)\n",
        "print(\"Maximum accuracy: \", sum(accuracy['max'])/num_samples)\n",
        "print(\"Minimum accuracy: \", sum(accuracy['min'])/num_samples)"
      ],
      "execution_count": 49,
      "outputs": [
        {
          "output_type": "stream",
          "text": [
            "Roland accuracy:  0.52\n",
            "Sathya accuracy:  0.52\n",
            "Maximum accuracy:  0.56\n",
            "Minimum accuracy:  0.48\n"
          ],
          "name": "stdout"
        }
      ]
    },
    {
      "cell_type": "markdown",
      "metadata": {
        "id": "YA_2VxcbPqn2",
        "colab_type": "text"
      },
      "source": [
        "# **Data Preprocessing**"
      ]
    },
    {
      "cell_type": "markdown",
      "metadata": {
        "id": "SjPhQLQhy3ek",
        "colab_type": "text"
      },
      "source": [
        "## Data cleaning"
      ]
    },
    {
      "cell_type": "code",
      "metadata": {
        "id": "W_6rfyv8yvdr",
        "colab_type": "code",
        "colab": {}
      },
      "source": [
        "\"\"\"\n",
        "A utility function to remove numerical characters from the text.\n",
        "\n",
        "\"\"\"\n",
        "\n",
        "def remove_nums(text):\n",
        "    text = ''.join([i for i in text if not i.isdigit()])         \n",
        "    return text\n",
        "\n",
        "\n",
        "\"\"\"\n",
        "A utility function to remove URL links from the text.\n",
        "\n",
        "\"\"\"\n",
        "\n",
        "def remove_URL(text):\n",
        "    url = re.compile(r'https?://\\S+|www\\.\\S+')\n",
        "    return url.sub(r'',text)\n",
        "\n",
        "\n",
        "\"\"\"\n",
        "A utility function to remove HTML tags from the text.\n",
        "\n",
        "\"\"\"\n",
        "\n",
        "def remove_html(text):\n",
        "    html=re.compile(r'<.*?>')\n",
        "    return html.sub(r'',text)\n",
        "\n",
        "\n",
        "\"\"\"\n",
        "A utility function to remove emojis from the text.\n",
        "\n",
        "\"\"\"\n",
        "\n",
        "def remove_emoji(text):\n",
        "    emoji_pattern = re.compile(\"[\"\n",
        "                           u\"\\U0001F600-\\U0001F64F\"  # emoticons\n",
        "                           u\"\\U0001F300-\\U0001F5FF\"  # symbols & pictographs\n",
        "                           u\"\\U0001F680-\\U0001F6FF\"  # transport & map symbols\n",
        "                           u\"\\U0001F1E0-\\U0001F1FF\"  # flags (iOS)\n",
        "                           u\"\\U00002702-\\U000027B0\"\n",
        "                           u\"\\U000024C2-\\U0001F251\"\n",
        "                           \"]+\", flags=re.UNICODE)\n",
        "    return emoji_pattern.sub(r'', text)"
      ],
      "execution_count": 0,
      "outputs": []
    },
    {
      "cell_type": "code",
      "metadata": {
        "id": "Cw5Xeu_Dy0nV",
        "colab_type": "code",
        "colab": {}
      },
      "source": [
        "#dataset[\"text\"].apply(lambda x: remove_nums(x))\n",
        "dataset['text'] = dataset[\"text\"].apply(lambda x: remove_URL(x))\n",
        "dataset['text'] = dataset[\"text\"].apply(lambda x: remove_html(x))\n",
        "dataset['text'] = dataset[\"text\"].apply(lambda x: remove_emoji(x))"
      ],
      "execution_count": 0,
      "outputs": []
    },
    {
      "cell_type": "code",
      "metadata": {
        "id": "FgBR-n9rbf2R",
        "colab_type": "code",
        "colab": {}
      },
      "source": [
        "%%capture\n",
        "#!pip install spellchecker\n",
        "#!pip install indexer\n",
        "#!pip install pyspellchecker"
      ],
      "execution_count": 0,
      "outputs": []
    },
    {
      "cell_type": "code",
      "metadata": {
        "id": "XIyar2C4aBI4",
        "colab_type": "code",
        "colab": {}
      },
      "source": [
        "# OPTIONAL - VERY SLOW - Spelling correction\n",
        "\n",
        "#from spellchecker import SpellChecker\n",
        "\n",
        "#spell = SpellChecker()\n",
        "#def correct_spellings(text):\n",
        "#    corrected_text = []\n",
        "#    misspelled_words = spell.unknown(text.split())\n",
        "#    for word in text.split():\n",
        "#        if word in misspelled_words:\n",
        "#            corrected_text.append(spell.correction(word))\n",
        "#        else:\n",
        "#            corrected_text.append(word)\n",
        "#    return \" \".join(corrected_text)\n",
        "\n",
        "#dataset[\"text\"].apply(lambda text: correct_spellings(text))\n",
        "#dataset.head(10)"
      ],
      "execution_count": 0,
      "outputs": []
    },
    {
      "cell_type": "markdown",
      "metadata": {
        "id": "c08GWzm15L3c",
        "colab_type": "text"
      },
      "source": [
        "## Tokenization and stopwords removal"
      ]
    },
    {
      "cell_type": "code",
      "metadata": {
        "id": "FVqRsKO4467O",
        "colab_type": "code",
        "colab": {}
      },
      "source": [
        "y = []\n",
        "y = dataset[\"class\"].values\n",
        "#Converting X to format acceptable by gensim, removing stopwords and punctuation in the process\n",
        "stop_words = set(nltk.corpus.stopwords.words(\"english\"))\n",
        "X = []\n",
        "tokenizer = nltk.tokenize.RegexpTokenizer(r'\\w+')\n",
        "for par in dataset[\"text\"].values:\n",
        "    tmp = []\n",
        "    sentences = nltk.sent_tokenize(par)\n",
        "    for sent in sentences:\n",
        "        sent = sent.lower()\n",
        "        tokens = tokenizer.tokenize(sent)\n",
        "        filtered_words = [w.strip() for w in tokens if w not in stop_words and len(w) > 1]\n",
        "        tmp.extend(filtered_words)\n",
        "    X.append(tmp)\n",
        "\n",
        "#del dataset"
      ],
      "execution_count": 0,
      "outputs": []
    },
    {
      "cell_type": "code",
      "metadata": {
        "id": "asAzeDpzZqDD",
        "colab_type": "code",
        "outputId": "c43bab5c-7753-415d-9026-2b6c8e6624fe",
        "colab": {
          "base_uri": "https://localhost:8080/",
          "height": 204
        }
      },
      "source": [
        "X[1][:10]"
      ],
      "execution_count": 142,
      "outputs": [
        {
          "output_type": "execute_result",
          "data": {
            "text/plain": [
              "['donald',\n",
              " 'trump',\n",
              " 'drugs',\n",
              " 'big',\n",
              " 'factor',\n",
              " 'charlotte',\n",
              " 'protests',\n",
              " 'less',\n",
              " 'day',\n",
              " 'protests']"
            ]
          },
          "metadata": {
            "tags": []
          },
          "execution_count": 142
        }
      ]
    },
    {
      "cell_type": "code",
      "metadata": {
        "id": "sTCSlWsAbOH2",
        "colab_type": "code",
        "outputId": "3368b60f-aacd-4db6-b338-67e39acf185d",
        "colab": {
          "base_uri": "https://localhost:8080/",
          "height": 35
        }
      },
      "source": [
        "#Confirming that X is a list of all news\n",
        "len(X)"
      ],
      "execution_count": 143,
      "outputs": [
        {
          "output_type": "execute_result",
          "data": {
            "text/plain": [
              "44449"
            ]
          },
          "metadata": {
            "tags": []
          },
          "execution_count": 143
        }
      ]
    },
    {
      "cell_type": "code",
      "metadata": {
        "id": "ANHyl6qXPiwd",
        "colab_type": "code",
        "outputId": "b3b6b14d-501c-4d26-b3f7-40e7c73a55c6",
        "colab": {
          "base_uri": "https://localhost:8080/",
          "height": 35
        }
      },
      "source": [
        "#checking for rows with empty text\n",
        "empty_X_lines = [index for index,text in enumerate(X) if text == []]\n",
        "print(empty_X_lines)"
      ],
      "execution_count": 144,
      "outputs": [
        {
          "output_type": "stream",
          "text": [
            "[30956, 36727, 36728, 37030, 37031, 38550, 38551, 42838, 42839]\n"
          ],
          "name": "stdout"
        }
      ]
    },
    {
      "cell_type": "code",
      "metadata": {
        "id": "vXYiDYRHQcKg",
        "colab_type": "code",
        "outputId": "026aa274-abfe-4d4f-f1c4-acccdfc4f72b",
        "colab": {
          "base_uri": "https://localhost:8080/",
          "height": 35
        }
      },
      "source": [
        "#Dropping those lines in both X and y\n",
        "for i in reversed(empty_X_lines):\n",
        "  del X[i]\n",
        "  y = np.delete(y,i)\n",
        "\n",
        "print(len(X), len(y))"
      ],
      "execution_count": 145,
      "outputs": [
        {
          "output_type": "stream",
          "text": [
            "44440 44440\n"
          ],
          "name": "stdout"
        }
      ]
    },
    {
      "cell_type": "code",
      "metadata": {
        "id": "Xdr5JIRbRZGo",
        "colab_type": "code",
        "colab": {
          "base_uri": "https://localhost:8080/",
          "height": 35
        },
        "outputId": "c20ca0da-10ef-491f-fdf8-1f9b59ac2f24"
      },
      "source": [
        "#Optional - Removing news of less than 100 words\n",
        "LOWER_BOUND = 100\n",
        "\n",
        "lower_lines = [index for index,text in enumerate(X) if len(text)<LOWER_BOUND]\n",
        "\n",
        "print(len(lower_lines)/len(X))"
      ],
      "execution_count": 146,
      "outputs": [
        {
          "output_type": "stream",
          "text": [
            "0.19000900090009\n"
          ],
          "name": "stdout"
        }
      ]
    },
    {
      "cell_type": "code",
      "metadata": {
        "id": "aoE1mrgoSJls",
        "colab_type": "code",
        "colab": {
          "base_uri": "https://localhost:8080/",
          "height": 35
        },
        "outputId": "92eeff3c-6313-4247-e6a5-cf8e5b52c801"
      },
      "source": [
        "#Dropping those lines in both X and y\n",
        "for i in reversed(lower_lines):\n",
        "  del X[i]\n",
        "  y = np.delete(y,i)\n",
        "\n",
        "print(len(X), len(y))"
      ],
      "execution_count": 147,
      "outputs": [
        {
          "output_type": "stream",
          "text": [
            "35996 35996\n"
          ],
          "name": "stdout"
        }
      ]
    },
    {
      "cell_type": "code",
      "metadata": {
        "id": "caC7QYNUSTwo",
        "colab_type": "code",
        "colab": {
          "base_uri": "https://localhost:8080/",
          "height": 35
        },
        "outputId": "289c0806-a58b-4afa-c52f-7b386af3839f"
      },
      "source": [
        "#Optional - Removing news of more than 700 words\n",
        "\n",
        "UPPER_BOUND = 650\n",
        "\n",
        "upper_lines = [index for index, text in enumerate(X) if len(text)>UPPER_BOUND]\n",
        "print(len(upper_lines)/len(X))"
      ],
      "execution_count": 148,
      "outputs": [
        {
          "output_type": "stream",
          "text": [
            "0.0327536392932548\n"
          ],
          "name": "stdout"
        }
      ]
    },
    {
      "cell_type": "code",
      "metadata": {
        "id": "gkrIB9hgSfI5",
        "colab_type": "code",
        "colab": {
          "base_uri": "https://localhost:8080/",
          "height": 35
        },
        "outputId": "2071c8c9-cf68-4c2e-c62a-404dbd987485"
      },
      "source": [
        "#Dropping those lines in both X and y\n",
        "for i in reversed(upper_lines):\n",
        "  del X[i]\n",
        "  y = np.delete(y,i)\n",
        "\n",
        "print(len(X), len(y))"
      ],
      "execution_count": 149,
      "outputs": [
        {
          "output_type": "stream",
          "text": [
            "34817 34817\n"
          ],
          "name": "stdout"
        }
      ]
    },
    {
      "cell_type": "code",
      "metadata": {
        "id": "QTX3JzQDcOzQ",
        "colab_type": "code",
        "outputId": "61a98f96-1f86-4238-8ce0-5cb771cd1224",
        "colab": {
          "base_uri": "https://localhost:8080/",
          "height": 35
        }
      },
      "source": [
        "#Identifying indexes of real and fake news\n",
        "real_idx = [i for i,v in enumerate(y) if v == 1]\n",
        "fake_idx = [i for i,v in enumerate(y) if v == 0]\n",
        "print(len(real_idx), len(fake_idx))"
      ],
      "execution_count": 150,
      "outputs": [
        {
          "output_type": "stream",
          "text": [
            "15644 19173\n"
          ],
          "name": "stdout"
        }
      ]
    },
    {
      "cell_type": "code",
      "metadata": {
        "id": "J3ACFRbkUv7j",
        "colab_type": "code",
        "colab": {}
      },
      "source": [
        "#Making these two set of indexes of equal length\n",
        "min_size = min(len(real_idx), len(fake_idx))\n",
        "real_idx = random.sample(real_idx, min_size)\n",
        "fake_idx = random.sample(fake_idx, min_size)"
      ],
      "execution_count": 0,
      "outputs": []
    },
    {
      "cell_type": "code",
      "metadata": {
        "id": "CjRmEpk3eHEx",
        "colab_type": "code",
        "outputId": "01f92826-35bd-4218-815f-c261dffb8c47",
        "colab": {
          "base_uri": "https://localhost:8080/",
          "height": 35
        }
      },
      "source": [
        "X_real = []\n",
        "X_fake = []\n",
        "X_real = [X[i] for i in real_idx]\n",
        "X_fake = [X[j] for j in fake_idx]\n",
        "print(len(X_real), len(X_fake))"
      ],
      "execution_count": 152,
      "outputs": [
        {
          "output_type": "stream",
          "text": [
            "15644 15644\n"
          ],
          "name": "stdout"
        }
      ]
    },
    {
      "cell_type": "markdown",
      "metadata": {
        "id": "tNSSrLShDncw",
        "colab_type": "text"
      },
      "source": [
        "## Optional - Frequent words removal"
      ]
    },
    {
      "cell_type": "code",
      "metadata": {
        "id": "8yCmHFahpUPD",
        "colab_type": "code",
        "outputId": "b49a5281-2957-416d-bc24-6dd4a83f8333",
        "colab": {
          "base_uri": "https://localhost:8080/",
          "height": 74
        }
      },
      "source": [
        "# OPTIONAL - Removing frequent and rare words from X_real\n",
        "\n",
        "cnt_real = Counter()\n",
        "for news in X_real:\n",
        "  for word in news:\n",
        "    cnt_real[word] += 1\n",
        "\n",
        "n_rare_words = 10\n",
        "RAREWORDS_real = set([w for (w, wc) in cnt_real.most_common()[:-n_rare_words-1:-1]])\n",
        "        \n",
        "FREQWORDS_real = set([w for (w, wc) in cnt_real.most_common(15)])\n",
        "\n",
        "print('Rare words in Real dataset:', RAREWORDS_real)\n",
        "print('Frequent words in Real dataset:', FREQWORDS_real)"
      ],
      "execution_count": 153,
      "outputs": [
        {
          "output_type": "stream",
          "text": [
            "Rare words in Real dataset: {'ridgeline', 'ba3', 'maate', 'ecsi', 'elly', 'monyvann', 'hersh', 'davie', 'lexigton', 'ransdell'}\n",
            "Frequent words in Real dataset: {'state', 'would', 'year', 'united', 'people', 'president', 'government', 'new', 'house', 'said', 'trump', 'also', 'could', 'republican', 'states'}\n"
          ],
          "name": "stdout"
        }
      ]
    },
    {
      "cell_type": "code",
      "metadata": {
        "id": "YAm4eT1jnNcb",
        "colab_type": "code",
        "outputId": "d69eb8e9-6f16-4665-d2c3-e3951d3b1495",
        "colab": {
          "base_uri": "https://localhost:8080/",
          "height": 204
        }
      },
      "source": [
        "X_real_freq = []\n",
        "tmp = []\n",
        "for news in X_real:\n",
        "  filtered_words = [w.strip() for w in news if w not in FREQWORDS_real and w not in RAREWORDS_real]\n",
        "  tmp.append(filtered_words)\n",
        "X_real_freq.extend(tmp)\n",
        "\n",
        "X_real_freq[1][:10]"
      ],
      "execution_count": 154,
      "outputs": [
        {
          "output_type": "execute_result",
          "data": {
            "text/plain": [
              "['may',\n",
              " 'juncker',\n",
              " 'call',\n",
              " 'faster',\n",
              " 'brexit',\n",
              " 'talks',\n",
              " 'british',\n",
              " 'prime',\n",
              " 'minister',\n",
              " 'theresa']"
            ]
          },
          "metadata": {
            "tags": []
          },
          "execution_count": 154
        }
      ]
    },
    {
      "cell_type": "code",
      "metadata": {
        "id": "9cO_FpPIZIuO",
        "colab_type": "code",
        "outputId": "29f1bf2f-6eb8-4e74-abd8-af310a2bfafe",
        "colab": {
          "base_uri": "https://localhost:8080/",
          "height": 74
        }
      },
      "source": [
        "# OPTIONAL - Removing frequent and rare words from X_fake\n",
        "\n",
        "cnt_fake = Counter()\n",
        "for news in X_fake:\n",
        "  for word in news:\n",
        "    cnt_fake[word] += 1\n",
        "\n",
        "n_rare_words = 10\n",
        "RAREWORDS_fake = set([w for (w, wc) in cnt_fake.most_common()[:-n_rare_words-1:-1]])\n",
        "        \n",
        "FREQWORDS_fake = set([w for (w, wc) in cnt_fake.most_common(15)])\n",
        "\n",
        "print('Rare words in Fake dataset:', RAREWORDS_fake)\n",
        "print('Frequent words in Fake dataset:', FREQWORDS_fake)"
      ],
      "execution_count": 155,
      "outputs": [
        {
          "output_type": "stream",
          "text": [
            "Rare words in Fake dataset: {'dcufan', 'rd0lnx10zy', 'paybacks', 'jerand', 'olli', 'charliel', 'scarff', 'shatzer667192', 'alwaleed_talal', 'charlielevenson'}\n",
            "Frequent words in Fake dataset: {'would', 'donald', 'people', 'one', 'president', 'clinton', 'like', 'said', 'trump', 'also', 'hillary', 'white', 'news', 'obama', 'via'}\n"
          ],
          "name": "stdout"
        }
      ]
    },
    {
      "cell_type": "code",
      "metadata": {
        "id": "cW7vEJIdngTx",
        "colab_type": "code",
        "outputId": "4dfd995a-9c4c-4913-f2ef-4cee81350330",
        "colab": {
          "base_uri": "https://localhost:8080/",
          "height": 204
        }
      },
      "source": [
        "X_fake_freq = []\n",
        "tmp = []\n",
        "for news in X_fake:\n",
        "  filtered_words = [w.strip() for w in news if w not in FREQWORDS_fake and w not in RAREWORDS_fake]\n",
        "  tmp.append(filtered_words)\n",
        "X_fake_freq.extend(tmp)\n",
        "\n",
        "X_fake_freq[1][:10]"
      ],
      "execution_count": 156,
      "outputs": [
        {
          "output_type": "execute_result",
          "data": {
            "text/plain": [
              "['watch',\n",
              " 'morning',\n",
              " 'joe',\n",
              " 'host',\n",
              " 'tells',\n",
              " 'kellyanne',\n",
              " 'conway',\n",
              " 'go',\n",
              " 'ck',\n",
              " 'bans']"
            ]
          },
          "metadata": {
            "tags": []
          },
          "execution_count": 156
        }
      ]
    },
    {
      "cell_type": "code",
      "metadata": {
        "id": "0_y3EiWQZgcF",
        "colab_type": "code",
        "outputId": "f8491201-b8e2-44f8-8457-17cadcf7a4c9",
        "colab": {
          "base_uri": "https://localhost:8080/",
          "height": 35
        }
      },
      "source": [
        "#Recreating X with removed frequencies\n",
        "X_freq = X_real_freq + X_fake_freq\n",
        "y_freq = [1] * len(X_real_freq) + [0] * len(X_fake_freq)\n",
        "print(len(X_freq), len(y_freq))\n",
        "\n",
        "#Uncomment the following if you want to replace the original \"X\" to impact all following steps with removed frequencies\n",
        "X = []\n",
        "y = []\n",
        "X = X_freq\n",
        "y = y_freq\n",
        "X_real = []\n",
        "X_fake = []\n",
        "X_real = X_real_freq\n",
        "X_fake = X_fake_freq"
      ],
      "execution_count": 157,
      "outputs": [
        {
          "output_type": "stream",
          "text": [
            "31288 31288\n"
          ],
          "name": "stdout"
        }
      ]
    },
    {
      "cell_type": "code",
      "metadata": {
        "id": "KPT2lRtVn1d4",
        "colab_type": "code",
        "outputId": "d897b5f5-df85-431a-8f36-075cc1f6b424",
        "colab": {
          "base_uri": "https://localhost:8080/",
          "height": 204
        }
      },
      "source": [
        "#Ensuring that the word \"Trump\" has disappeared\n",
        "X_freq[1][:10]"
      ],
      "execution_count": 158,
      "outputs": [
        {
          "output_type": "execute_result",
          "data": {
            "text/plain": [
              "['may',\n",
              " 'juncker',\n",
              " 'call',\n",
              " 'faster',\n",
              " 'brexit',\n",
              " 'talks',\n",
              " 'british',\n",
              " 'prime',\n",
              " 'minister',\n",
              " 'theresa']"
            ]
          },
          "metadata": {
            "tags": []
          },
          "execution_count": 158
        }
      ]
    },
    {
      "cell_type": "code",
      "metadata": {
        "id": "WjJ09ElwrJmK",
        "colab_type": "code",
        "colab": {}
      },
      "source": [
        "#put X back together and save as a CSV for input into BERT.\n",
        "bert_dataset = []\n",
        "for entry in X:\n",
        "  bert_dataset.append(' '.join(entry))\n",
        "bert_dataset = np.asarray(bert_dataset) \n",
        "bert_dataset = pd.DataFrame(data=bert_dataset, columns=[\"text\"])\n",
        "bert_dataset['class'] = dataset['class']"
      ],
      "execution_count": 0,
      "outputs": []
    },
    {
      "cell_type": "code",
      "metadata": {
        "id": "D9rT6WM5QKrp",
        "colab_type": "code",
        "outputId": "3303ee64-77f8-4e0b-c5f7-852e1b0b3da0",
        "colab": {
          "base_uri": "https://localhost:8080/",
          "height": 353
        }
      },
      "source": [
        "#bert_dataset.to_csv('/content/drive/My Drive/CS221_Project/dataset_reference.csv', index=False)\n",
        "bert_dataset.head(10)"
      ],
      "execution_count": 160,
      "outputs": [
        {
          "output_type": "execute_result",
          "data": {
            "text/html": [
              "<div>\n",
              "<style scoped>\n",
              "    .dataframe tbody tr th:only-of-type {\n",
              "        vertical-align: middle;\n",
              "    }\n",
              "\n",
              "    .dataframe tbody tr th {\n",
              "        vertical-align: top;\n",
              "    }\n",
              "\n",
              "    .dataframe thead th {\n",
              "        text-align: right;\n",
              "    }\n",
              "</style>\n",
              "<table border=\"1\" class=\"dataframe\">\n",
              "  <thead>\n",
              "    <tr style=\"text-align: right;\">\n",
              "      <th></th>\n",
              "      <th>text</th>\n",
              "      <th>class</th>\n",
              "    </tr>\n",
              "  </thead>\n",
              "  <tbody>\n",
              "    <tr>\n",
              "      <th>0</th>\n",
              "      <td>senior china minister says officials practice ...</td>\n",
              "      <td>1</td>\n",
              "    </tr>\n",
              "    <tr>\n",
              "      <th>1</th>\n",
              "      <td>may juncker call faster brexit talks british p...</td>\n",
              "      <td>1</td>\n",
              "    </tr>\n",
              "    <tr>\n",
              "      <th>2</th>\n",
              "      <td>second woman enters russian presidential race ...</td>\n",
              "      <td>1</td>\n",
              "    </tr>\n",
              "    <tr>\n",
              "      <th>3</th>\n",
              "      <td>buffett rails presidential candidates talk eco...</td>\n",
              "      <td>1</td>\n",
              "    </tr>\n",
              "    <tr>\n",
              "      <th>4</th>\n",
              "      <td>boss dead mafia lives magistrate mobster say d...</td>\n",
              "      <td>1</td>\n",
              "    </tr>\n",
              "    <tr>\n",
              "      <th>5</th>\n",
              "      <td>brexit talks warmer may speech closure europea...</td>\n",
              "      <td>1</td>\n",
              "    </tr>\n",
              "    <tr>\n",
              "      <th>6</th>\n",
              "      <td>ousted catalan leader calls front independence...</td>\n",
              "      <td>1</td>\n",
              "    </tr>\n",
              "    <tr>\n",
              "      <th>7</th>\n",
              "      <td>irma stress test florida insurers reinsurers r...</td>\n",
              "      <td>1</td>\n",
              "    </tr>\n",
              "    <tr>\n",
              "      <th>8</th>\n",
              "      <td>pakistani court sentences christian man death ...</td>\n",
              "      <td>1</td>\n",
              "    </tr>\n",
              "    <tr>\n",
              "      <th>9</th>\n",
              "      <td>sign russia sanctions moscow retaliates donald...</td>\n",
              "      <td>1</td>\n",
              "    </tr>\n",
              "  </tbody>\n",
              "</table>\n",
              "</div>"
            ],
            "text/plain": [
              "                                                text  class\n",
              "0  senior china minister says officials practice ...      1\n",
              "1  may juncker call faster brexit talks british p...      1\n",
              "2  second woman enters russian presidential race ...      1\n",
              "3  buffett rails presidential candidates talk eco...      1\n",
              "4  boss dead mafia lives magistrate mobster say d...      1\n",
              "5  brexit talks warmer may speech closure europea...      1\n",
              "6  ousted catalan leader calls front independence...      1\n",
              "7  irma stress test florida insurers reinsurers r...      1\n",
              "8  pakistani court sentences christian man death ...      1\n",
              "9  sign russia sanctions moscow retaliates donald...      1"
            ]
          },
          "metadata": {
            "tags": []
          },
          "execution_count": 160
        }
      ]
    },
    {
      "cell_type": "markdown",
      "metadata": {
        "id": "GeKI7JS9YHDg",
        "colab_type": "text"
      },
      "source": [
        "## Optional - Lemmatization"
      ]
    },
    {
      "cell_type": "code",
      "metadata": {
        "id": "7Vrkk-HRXAcK",
        "colab_type": "code",
        "outputId": "a50d3280-711c-4608-a048-110757b4f780",
        "colab": {
          "base_uri": "https://localhost:8080/",
          "height": 480
        }
      },
      "source": [
        "# OPTIONAL - Lemmatization while respecting the POS\n",
        "\n",
        "from nltk.corpus import wordnet\n",
        "from nltk.stem import WordNetLemmatizer\n",
        "nltk.download('averaged_perceptron_tagger')\n",
        "\n",
        "lemmatizer = WordNetLemmatizer()\n",
        "\n",
        "# function to convert nltk tag to wordnet tag\n",
        "def nltk_tag_to_wordnet_tag(nltk_tag):\n",
        "    if nltk_tag.startswith('J'):\n",
        "        return wordnet.ADJ\n",
        "    elif nltk_tag.startswith('V'):\n",
        "        return wordnet.VERB\n",
        "    elif nltk_tag.startswith('N'):\n",
        "        return wordnet.NOUN\n",
        "    elif nltk_tag.startswith('R'):\n",
        "        return wordnet.ADV\n",
        "    else:          \n",
        "        return None\n",
        "\n",
        "def lemmatize_sentence(sentence):\n",
        "    #tokenize the sentence and find the POS tag for each token\n",
        "    nltk_tagged = nltk.pos_tag(nltk.word_tokenize(sentence))  \n",
        "    #tuple of (token, wordnet_tag)\n",
        "    wordnet_tagged = map(lambda x: (x[0], nltk_tag_to_wordnet_tag(x[1])), nltk_tagged)\n",
        "    lemmatized_sentence = []\n",
        "    for word, tag in wordnet_tagged:\n",
        "        if tag is None:\n",
        "            #if there is no available tag, append the token as is\n",
        "            lemmatized_sentence.append(lemmatizer.lemmatize(word))\n",
        "        else:        \n",
        "            #else use the tag to lemmatize the token\n",
        "            lemmatized_sentence.append(lemmatizer.lemmatize(word, tag))\n",
        "    return \" \".join(lemmatized_sentence)\n",
        "\n",
        "bert_dataset[\"text\"] = bert_dataset[\"text\"].apply(lambda text: lemmatize_sentence(text))\n",
        "bert_dataset.head(10)"
      ],
      "execution_count": 107,
      "outputs": [
        {
          "output_type": "stream",
          "text": [
            "[nltk_data] Downloading package averaged_perceptron_tagger to\n",
            "[nltk_data]     /root/nltk_data...\n",
            "[nltk_data]   Unzipping taggers/averaged_perceptron_tagger.zip.\n"
          ],
          "name": "stdout"
        },
        {
          "output_type": "error",
          "ename": "KeyboardInterrupt",
          "evalue": "ignored",
          "traceback": [
            "\u001b[0;31m---------------------------------------------------------------------------\u001b[0m",
            "\u001b[0;31mKeyboardInterrupt\u001b[0m                         Traceback (most recent call last)",
            "\u001b[0;32m<ipython-input-107-945fa5c844cd>\u001b[0m in \u001b[0;36m<module>\u001b[0;34m()\u001b[0m\n\u001b[1;32m     35\u001b[0m     \u001b[0;32mreturn\u001b[0m \u001b[0;34m\" \"\u001b[0m\u001b[0;34m.\u001b[0m\u001b[0mjoin\u001b[0m\u001b[0;34m(\u001b[0m\u001b[0mlemmatized_sentence\u001b[0m\u001b[0;34m)\u001b[0m\u001b[0;34m\u001b[0m\u001b[0;34m\u001b[0m\u001b[0m\n\u001b[1;32m     36\u001b[0m \u001b[0;34m\u001b[0m\u001b[0m\n\u001b[0;32m---> 37\u001b[0;31m \u001b[0mbert_dataset\u001b[0m\u001b[0;34m[\u001b[0m\u001b[0;34m\"text\"\u001b[0m\u001b[0;34m]\u001b[0m \u001b[0;34m=\u001b[0m \u001b[0mbert_dataset\u001b[0m\u001b[0;34m[\u001b[0m\u001b[0;34m\"text\"\u001b[0m\u001b[0;34m]\u001b[0m\u001b[0;34m.\u001b[0m\u001b[0mapply\u001b[0m\u001b[0;34m(\u001b[0m\u001b[0;32mlambda\u001b[0m \u001b[0mtext\u001b[0m\u001b[0;34m:\u001b[0m \u001b[0mlemmatize_sentence\u001b[0m\u001b[0;34m(\u001b[0m\u001b[0mtext\u001b[0m\u001b[0;34m)\u001b[0m\u001b[0;34m)\u001b[0m\u001b[0;34m\u001b[0m\u001b[0;34m\u001b[0m\u001b[0m\n\u001b[0m\u001b[1;32m     38\u001b[0m \u001b[0mbert_dataset\u001b[0m\u001b[0;34m.\u001b[0m\u001b[0mhead\u001b[0m\u001b[0;34m(\u001b[0m\u001b[0;36m10\u001b[0m\u001b[0;34m)\u001b[0m\u001b[0;34m\u001b[0m\u001b[0;34m\u001b[0m\u001b[0m\n",
            "\u001b[0;32m/usr/local/lib/python3.6/dist-packages/pandas/core/series.py\u001b[0m in \u001b[0;36mapply\u001b[0;34m(self, func, convert_dtype, args, **kwds)\u001b[0m\n\u001b[1;32m   3846\u001b[0m             \u001b[0;32melse\u001b[0m\u001b[0;34m:\u001b[0m\u001b[0;34m\u001b[0m\u001b[0;34m\u001b[0m\u001b[0m\n\u001b[1;32m   3847\u001b[0m                 \u001b[0mvalues\u001b[0m \u001b[0;34m=\u001b[0m \u001b[0mself\u001b[0m\u001b[0;34m.\u001b[0m\u001b[0mastype\u001b[0m\u001b[0;34m(\u001b[0m\u001b[0mobject\u001b[0m\u001b[0;34m)\u001b[0m\u001b[0;34m.\u001b[0m\u001b[0mvalues\u001b[0m\u001b[0;34m\u001b[0m\u001b[0;34m\u001b[0m\u001b[0m\n\u001b[0;32m-> 3848\u001b[0;31m                 \u001b[0mmapped\u001b[0m \u001b[0;34m=\u001b[0m \u001b[0mlib\u001b[0m\u001b[0;34m.\u001b[0m\u001b[0mmap_infer\u001b[0m\u001b[0;34m(\u001b[0m\u001b[0mvalues\u001b[0m\u001b[0;34m,\u001b[0m \u001b[0mf\u001b[0m\u001b[0;34m,\u001b[0m \u001b[0mconvert\u001b[0m\u001b[0;34m=\u001b[0m\u001b[0mconvert_dtype\u001b[0m\u001b[0;34m)\u001b[0m\u001b[0;34m\u001b[0m\u001b[0;34m\u001b[0m\u001b[0m\n\u001b[0m\u001b[1;32m   3849\u001b[0m \u001b[0;34m\u001b[0m\u001b[0m\n\u001b[1;32m   3850\u001b[0m         \u001b[0;32mif\u001b[0m \u001b[0mlen\u001b[0m\u001b[0;34m(\u001b[0m\u001b[0mmapped\u001b[0m\u001b[0;34m)\u001b[0m \u001b[0;32mand\u001b[0m \u001b[0misinstance\u001b[0m\u001b[0;34m(\u001b[0m\u001b[0mmapped\u001b[0m\u001b[0;34m[\u001b[0m\u001b[0;36m0\u001b[0m\u001b[0;34m]\u001b[0m\u001b[0;34m,\u001b[0m \u001b[0mSeries\u001b[0m\u001b[0;34m)\u001b[0m\u001b[0;34m:\u001b[0m\u001b[0;34m\u001b[0m\u001b[0;34m\u001b[0m\u001b[0m\n",
            "\u001b[0;32mpandas/_libs/lib.pyx\u001b[0m in \u001b[0;36mpandas._libs.lib.map_infer\u001b[0;34m()\u001b[0m\n",
            "\u001b[0;32m<ipython-input-107-945fa5c844cd>\u001b[0m in \u001b[0;36m<lambda>\u001b[0;34m(text)\u001b[0m\n\u001b[1;32m     35\u001b[0m     \u001b[0;32mreturn\u001b[0m \u001b[0;34m\" \"\u001b[0m\u001b[0;34m.\u001b[0m\u001b[0mjoin\u001b[0m\u001b[0;34m(\u001b[0m\u001b[0mlemmatized_sentence\u001b[0m\u001b[0;34m)\u001b[0m\u001b[0;34m\u001b[0m\u001b[0;34m\u001b[0m\u001b[0m\n\u001b[1;32m     36\u001b[0m \u001b[0;34m\u001b[0m\u001b[0m\n\u001b[0;32m---> 37\u001b[0;31m \u001b[0mbert_dataset\u001b[0m\u001b[0;34m[\u001b[0m\u001b[0;34m\"text\"\u001b[0m\u001b[0;34m]\u001b[0m \u001b[0;34m=\u001b[0m \u001b[0mbert_dataset\u001b[0m\u001b[0;34m[\u001b[0m\u001b[0;34m\"text\"\u001b[0m\u001b[0;34m]\u001b[0m\u001b[0;34m.\u001b[0m\u001b[0mapply\u001b[0m\u001b[0;34m(\u001b[0m\u001b[0;32mlambda\u001b[0m \u001b[0mtext\u001b[0m\u001b[0;34m:\u001b[0m \u001b[0mlemmatize_sentence\u001b[0m\u001b[0;34m(\u001b[0m\u001b[0mtext\u001b[0m\u001b[0;34m)\u001b[0m\u001b[0;34m)\u001b[0m\u001b[0;34m\u001b[0m\u001b[0;34m\u001b[0m\u001b[0m\n\u001b[0m\u001b[1;32m     38\u001b[0m \u001b[0mbert_dataset\u001b[0m\u001b[0;34m.\u001b[0m\u001b[0mhead\u001b[0m\u001b[0;34m(\u001b[0m\u001b[0;36m10\u001b[0m\u001b[0;34m)\u001b[0m\u001b[0;34m\u001b[0m\u001b[0;34m\u001b[0m\u001b[0m\n",
            "\u001b[0;32m<ipython-input-107-945fa5c844cd>\u001b[0m in \u001b[0;36mlemmatize_sentence\u001b[0;34m(sentence)\u001b[0m\n\u001b[1;32m     22\u001b[0m \u001b[0;32mdef\u001b[0m \u001b[0mlemmatize_sentence\u001b[0m\u001b[0;34m(\u001b[0m\u001b[0msentence\u001b[0m\u001b[0;34m)\u001b[0m\u001b[0;34m:\u001b[0m\u001b[0;34m\u001b[0m\u001b[0;34m\u001b[0m\u001b[0m\n\u001b[1;32m     23\u001b[0m     \u001b[0;31m#tokenize the sentence and find the POS tag for each token\u001b[0m\u001b[0;34m\u001b[0m\u001b[0;34m\u001b[0m\u001b[0;34m\u001b[0m\u001b[0m\n\u001b[0;32m---> 24\u001b[0;31m     \u001b[0mnltk_tagged\u001b[0m \u001b[0;34m=\u001b[0m \u001b[0mnltk\u001b[0m\u001b[0;34m.\u001b[0m\u001b[0mpos_tag\u001b[0m\u001b[0;34m(\u001b[0m\u001b[0mnltk\u001b[0m\u001b[0;34m.\u001b[0m\u001b[0mword_tokenize\u001b[0m\u001b[0;34m(\u001b[0m\u001b[0msentence\u001b[0m\u001b[0;34m)\u001b[0m\u001b[0;34m)\u001b[0m\u001b[0;34m\u001b[0m\u001b[0;34m\u001b[0m\u001b[0m\n\u001b[0m\u001b[1;32m     25\u001b[0m     \u001b[0;31m#tuple of (token, wordnet_tag)\u001b[0m\u001b[0;34m\u001b[0m\u001b[0;34m\u001b[0m\u001b[0;34m\u001b[0m\u001b[0m\n\u001b[1;32m     26\u001b[0m     \u001b[0mwordnet_tagged\u001b[0m \u001b[0;34m=\u001b[0m \u001b[0mmap\u001b[0m\u001b[0;34m(\u001b[0m\u001b[0;32mlambda\u001b[0m \u001b[0mx\u001b[0m\u001b[0;34m:\u001b[0m \u001b[0;34m(\u001b[0m\u001b[0mx\u001b[0m\u001b[0;34m[\u001b[0m\u001b[0;36m0\u001b[0m\u001b[0;34m]\u001b[0m\u001b[0;34m,\u001b[0m \u001b[0mnltk_tag_to_wordnet_tag\u001b[0m\u001b[0;34m(\u001b[0m\u001b[0mx\u001b[0m\u001b[0;34m[\u001b[0m\u001b[0;36m1\u001b[0m\u001b[0;34m]\u001b[0m\u001b[0;34m)\u001b[0m\u001b[0;34m)\u001b[0m\u001b[0;34m,\u001b[0m \u001b[0mnltk_tagged\u001b[0m\u001b[0;34m)\u001b[0m\u001b[0;34m\u001b[0m\u001b[0;34m\u001b[0m\u001b[0m\n",
            "\u001b[0;32m/usr/local/lib/python3.6/dist-packages/nltk/tag/__init__.py\u001b[0m in \u001b[0;36mpos_tag\u001b[0;34m(tokens, tagset, lang)\u001b[0m\n\u001b[1;32m    132\u001b[0m     \"\"\"\n\u001b[1;32m    133\u001b[0m     \u001b[0mtagger\u001b[0m \u001b[0;34m=\u001b[0m \u001b[0m_get_tagger\u001b[0m\u001b[0;34m(\u001b[0m\u001b[0mlang\u001b[0m\u001b[0;34m)\u001b[0m\u001b[0;34m\u001b[0m\u001b[0;34m\u001b[0m\u001b[0m\n\u001b[0;32m--> 134\u001b[0;31m     \u001b[0;32mreturn\u001b[0m \u001b[0m_pos_tag\u001b[0m\u001b[0;34m(\u001b[0m\u001b[0mtokens\u001b[0m\u001b[0;34m,\u001b[0m \u001b[0mtagset\u001b[0m\u001b[0;34m,\u001b[0m \u001b[0mtagger\u001b[0m\u001b[0;34m)\u001b[0m\u001b[0;34m\u001b[0m\u001b[0;34m\u001b[0m\u001b[0m\n\u001b[0m\u001b[1;32m    135\u001b[0m \u001b[0;34m\u001b[0m\u001b[0m\n\u001b[1;32m    136\u001b[0m \u001b[0;34m\u001b[0m\u001b[0m\n",
            "\u001b[0;32m/usr/local/lib/python3.6/dist-packages/nltk/tag/__init__.py\u001b[0m in \u001b[0;36m_pos_tag\u001b[0;34m(tokens, tagset, tagger)\u001b[0m\n\u001b[1;32m    100\u001b[0m \u001b[0;34m\u001b[0m\u001b[0m\n\u001b[1;32m    101\u001b[0m \u001b[0;32mdef\u001b[0m \u001b[0m_pos_tag\u001b[0m\u001b[0;34m(\u001b[0m\u001b[0mtokens\u001b[0m\u001b[0;34m,\u001b[0m \u001b[0mtagset\u001b[0m\u001b[0;34m,\u001b[0m \u001b[0mtagger\u001b[0m\u001b[0;34m)\u001b[0m\u001b[0;34m:\u001b[0m\u001b[0;34m\u001b[0m\u001b[0;34m\u001b[0m\u001b[0m\n\u001b[0;32m--> 102\u001b[0;31m     \u001b[0mtagged_tokens\u001b[0m \u001b[0;34m=\u001b[0m \u001b[0mtagger\u001b[0m\u001b[0;34m.\u001b[0m\u001b[0mtag\u001b[0m\u001b[0;34m(\u001b[0m\u001b[0mtokens\u001b[0m\u001b[0;34m)\u001b[0m\u001b[0;34m\u001b[0m\u001b[0;34m\u001b[0m\u001b[0m\n\u001b[0m\u001b[1;32m    103\u001b[0m     \u001b[0;32mif\u001b[0m \u001b[0mtagset\u001b[0m\u001b[0;34m:\u001b[0m\u001b[0;34m\u001b[0m\u001b[0;34m\u001b[0m\u001b[0m\n\u001b[1;32m    104\u001b[0m         \u001b[0mtagged_tokens\u001b[0m \u001b[0;34m=\u001b[0m \u001b[0;34m[\u001b[0m\u001b[0;34m(\u001b[0m\u001b[0mtoken\u001b[0m\u001b[0;34m,\u001b[0m \u001b[0mmap_tag\u001b[0m\u001b[0;34m(\u001b[0m\u001b[0;34m'en-ptb'\u001b[0m\u001b[0;34m,\u001b[0m \u001b[0mtagset\u001b[0m\u001b[0;34m,\u001b[0m \u001b[0mtag\u001b[0m\u001b[0;34m)\u001b[0m\u001b[0;34m)\u001b[0m \u001b[0;32mfor\u001b[0m \u001b[0;34m(\u001b[0m\u001b[0mtoken\u001b[0m\u001b[0;34m,\u001b[0m \u001b[0mtag\u001b[0m\u001b[0;34m)\u001b[0m \u001b[0;32min\u001b[0m \u001b[0mtagged_tokens\u001b[0m\u001b[0;34m]\u001b[0m\u001b[0;34m\u001b[0m\u001b[0;34m\u001b[0m\u001b[0m\n",
            "\u001b[0;32m/usr/local/lib/python3.6/dist-packages/nltk/tag/perceptron.py\u001b[0m in \u001b[0;36mtag\u001b[0;34m(self, tokens)\u001b[0m\n\u001b[1;32m    155\u001b[0m             \u001b[0;32mif\u001b[0m \u001b[0;32mnot\u001b[0m \u001b[0mtag\u001b[0m\u001b[0;34m:\u001b[0m\u001b[0;34m\u001b[0m\u001b[0;34m\u001b[0m\u001b[0m\n\u001b[1;32m    156\u001b[0m                 \u001b[0mfeatures\u001b[0m \u001b[0;34m=\u001b[0m \u001b[0mself\u001b[0m\u001b[0;34m.\u001b[0m\u001b[0m_get_features\u001b[0m\u001b[0;34m(\u001b[0m\u001b[0mi\u001b[0m\u001b[0;34m,\u001b[0m \u001b[0mword\u001b[0m\u001b[0;34m,\u001b[0m \u001b[0mcontext\u001b[0m\u001b[0;34m,\u001b[0m \u001b[0mprev\u001b[0m\u001b[0;34m,\u001b[0m \u001b[0mprev2\u001b[0m\u001b[0;34m)\u001b[0m\u001b[0;34m\u001b[0m\u001b[0;34m\u001b[0m\u001b[0m\n\u001b[0;32m--> 157\u001b[0;31m                 \u001b[0mtag\u001b[0m \u001b[0;34m=\u001b[0m \u001b[0mself\u001b[0m\u001b[0;34m.\u001b[0m\u001b[0mmodel\u001b[0m\u001b[0;34m.\u001b[0m\u001b[0mpredict\u001b[0m\u001b[0;34m(\u001b[0m\u001b[0mfeatures\u001b[0m\u001b[0;34m)\u001b[0m\u001b[0;34m\u001b[0m\u001b[0;34m\u001b[0m\u001b[0m\n\u001b[0m\u001b[1;32m    158\u001b[0m             \u001b[0moutput\u001b[0m\u001b[0;34m.\u001b[0m\u001b[0mappend\u001b[0m\u001b[0;34m(\u001b[0m\u001b[0;34m(\u001b[0m\u001b[0mword\u001b[0m\u001b[0;34m,\u001b[0m \u001b[0mtag\u001b[0m\u001b[0;34m)\u001b[0m\u001b[0;34m)\u001b[0m\u001b[0;34m\u001b[0m\u001b[0;34m\u001b[0m\u001b[0m\n\u001b[1;32m    159\u001b[0m             \u001b[0mprev2\u001b[0m \u001b[0;34m=\u001b[0m \u001b[0mprev\u001b[0m\u001b[0;34m\u001b[0m\u001b[0;34m\u001b[0m\u001b[0m\n",
            "\u001b[0;32m/usr/local/lib/python3.6/dist-packages/nltk/tag/perceptron.py\u001b[0m in \u001b[0;36mpredict\u001b[0;34m(self, features)\u001b[0m\n\u001b[1;32m     54\u001b[0m             \u001b[0mweights\u001b[0m \u001b[0;34m=\u001b[0m \u001b[0mself\u001b[0m\u001b[0;34m.\u001b[0m\u001b[0mweights\u001b[0m\u001b[0;34m[\u001b[0m\u001b[0mfeat\u001b[0m\u001b[0;34m]\u001b[0m\u001b[0;34m\u001b[0m\u001b[0;34m\u001b[0m\u001b[0m\n\u001b[1;32m     55\u001b[0m             \u001b[0;32mfor\u001b[0m \u001b[0mlabel\u001b[0m\u001b[0;34m,\u001b[0m \u001b[0mweight\u001b[0m \u001b[0;32min\u001b[0m \u001b[0mweights\u001b[0m\u001b[0;34m.\u001b[0m\u001b[0mitems\u001b[0m\u001b[0;34m(\u001b[0m\u001b[0;34m)\u001b[0m\u001b[0;34m:\u001b[0m\u001b[0;34m\u001b[0m\u001b[0;34m\u001b[0m\u001b[0m\n\u001b[0;32m---> 56\u001b[0;31m                 \u001b[0mscores\u001b[0m\u001b[0;34m[\u001b[0m\u001b[0mlabel\u001b[0m\u001b[0;34m]\u001b[0m \u001b[0;34m+=\u001b[0m \u001b[0mvalue\u001b[0m \u001b[0;34m*\u001b[0m \u001b[0mweight\u001b[0m\u001b[0;34m\u001b[0m\u001b[0;34m\u001b[0m\u001b[0m\n\u001b[0m\u001b[1;32m     57\u001b[0m         \u001b[0;31m# Do a secondary alphabetic sort, for stability\u001b[0m\u001b[0;34m\u001b[0m\u001b[0;34m\u001b[0m\u001b[0;34m\u001b[0m\u001b[0m\n\u001b[1;32m     58\u001b[0m         \u001b[0;32mreturn\u001b[0m \u001b[0mmax\u001b[0m\u001b[0;34m(\u001b[0m\u001b[0mself\u001b[0m\u001b[0;34m.\u001b[0m\u001b[0mclasses\u001b[0m\u001b[0;34m,\u001b[0m \u001b[0mkey\u001b[0m\u001b[0;34m=\u001b[0m\u001b[0;32mlambda\u001b[0m \u001b[0mlabel\u001b[0m\u001b[0;34m:\u001b[0m \u001b[0;34m(\u001b[0m\u001b[0mscores\u001b[0m\u001b[0;34m[\u001b[0m\u001b[0mlabel\u001b[0m\u001b[0;34m]\u001b[0m\u001b[0;34m,\u001b[0m \u001b[0mlabel\u001b[0m\u001b[0;34m)\u001b[0m\u001b[0;34m)\u001b[0m\u001b[0;34m\u001b[0m\u001b[0;34m\u001b[0m\u001b[0m\n",
            "\u001b[0;31mKeyboardInterrupt\u001b[0m: "
          ]
        }
      ]
    },
    {
      "cell_type": "markdown",
      "metadata": {
        "id": "a8B1hNTy6TQd",
        "colab_type": "text"
      },
      "source": [
        "# **Vectorization**"
      ]
    },
    {
      "cell_type": "markdown",
      "metadata": {
        "id": "DyS4vQJr0RXL",
        "colab_type": "text"
      },
      "source": [
        "## Via TF-IDF"
      ]
    },
    {
      "cell_type": "code",
      "metadata": {
        "id": "Q1DsBKvCUYaS",
        "colab_type": "code",
        "outputId": "a2e0cd35-df21-4a64-eb5d-9038e9abc008",
        "colab": {
          "base_uri": "https://localhost:8080/",
          "height": 35
        }
      },
      "source": [
        "#Manually generating Train/Test sets\n",
        "test_set_size = 0.15*float(len(bert_dataset))\n",
        "test_idx = random.sample(range(len(bert_dataset)),int(test_set_size))\n",
        "\n",
        "X_test = []\n",
        "y_test = []\n",
        "for idx in test_idx:\n",
        "  X_test.append(bert_dataset[\"text\"].iloc[idx])\n",
        "  y_test.append(bert_dataset[\"class\"].iloc[idx])\n",
        "\n",
        "X_test = np.array(X_test)\n",
        "y_test = np.array(y_test)\n",
        "\n",
        "train_idx = [j for j in range(len(bert_dataset))]\n",
        "for i in test_idx:\n",
        "  train_idx.remove(i)\n",
        "  \n",
        "X_train = []\n",
        "y_train = []\n",
        "for idx in train_idx:\n",
        "  X_train.append(bert_dataset[\"text\"].iloc[idx])\n",
        "  y_train.append(bert_dataset[\"class\"].iloc[idx])\n",
        "\n",
        "X_train = np.array(X_train)\n",
        "y_train = np.array(y_train)\n",
        "\n",
        "print(len(X_train), len(X_test))\n",
        "del test_idx, train_idx"
      ],
      "execution_count": 178,
      "outputs": [
        {
          "output_type": "stream",
          "text": [
            "25031 6257\n"
          ],
          "name": "stdout"
        }
      ]
    },
    {
      "cell_type": "code",
      "metadata": {
        "id": "0Z07jaoR0Lre",
        "colab_type": "code",
        "colab": {}
      },
      "source": [
        "from sklearn.feature_extraction.text import TfidfVectorizer\n",
        "\n",
        "vectorizer = TfidfVectorizer()\n",
        "X_train_tfidf = vectorizer.fit_transform(X_train)\n",
        "X_test_tfidf = vectorizer.transform(X_test)"
      ],
      "execution_count": 0,
      "outputs": []
    },
    {
      "cell_type": "code",
      "metadata": {
        "id": "oyrgdVq7srd-",
        "colab_type": "code",
        "outputId": "f45a5569-3655-4865-b07a-ecaa3ca70960",
        "colab": {
          "base_uri": "https://localhost:8080/",
          "height": 35
        }
      },
      "source": [
        "X_train_tfidf.shape"
      ],
      "execution_count": 180,
      "outputs": [
        {
          "output_type": "execute_result",
          "data": {
            "text/plain": [
              "(25031, 95991)"
            ]
          },
          "metadata": {
            "tags": []
          },
          "execution_count": 180
        }
      ]
    },
    {
      "cell_type": "markdown",
      "metadata": {
        "id": "rAL3IZXs0Twg",
        "colab_type": "text"
      },
      "source": [
        "## Via Word2Vec"
      ]
    },
    {
      "cell_type": "code",
      "metadata": {
        "id": "gnHeoZYj6SoN",
        "colab_type": "code",
        "colab": {}
      },
      "source": [
        "#Dimension of vectors we are generating\n",
        "EMBEDDING_DIM = 100\n",
        "\n",
        "#Creating Word Vectors by Word2Vec Method (takes time...)\n",
        "w2v_model = gensim.models.Word2Vec(sentences=X, size=EMBEDDING_DIM, window=5, min_count=1)"
      ],
      "execution_count": 0,
      "outputs": []
    },
    {
      "cell_type": "code",
      "metadata": {
        "id": "ozmL3m1-6i4b",
        "colab_type": "code",
        "outputId": "98f453a4-5a0b-4880-ab46-e877b8508afe",
        "colab": {
          "base_uri": "https://localhost:8080/",
          "height": 35
        }
      },
      "source": [
        "#vocab size\n",
        "len(w2v_model.wv.vocab)\n",
        "\n",
        "#We have now represented each word by a 100dim vector."
      ],
      "execution_count": 182,
      "outputs": [
        {
          "output_type": "execute_result",
          "data": {
            "text/plain": [
              "105498"
            ]
          },
          "metadata": {
            "tags": []
          },
          "execution_count": 182
        }
      ]
    },
    {
      "cell_type": "code",
      "metadata": {
        "id": "Kfp0QHRc6oZq",
        "colab_type": "code",
        "colab": {}
      },
      "source": [
        "#see a sample vector for random word \n",
        "#w2v_model[\"clinton\"]"
      ],
      "execution_count": 0,
      "outputs": []
    },
    {
      "cell_type": "code",
      "metadata": {
        "id": "1AzWYxDD7SBm",
        "colab_type": "code",
        "colab": {}
      },
      "source": [
        "#w2v_model.wv.most_similar(\"foundation\")"
      ],
      "execution_count": 0,
      "outputs": []
    },
    {
      "cell_type": "code",
      "metadata": {
        "id": "dwTLI_111sFP",
        "colab_type": "code",
        "outputId": "d2cac8a6-19a8-46af-c936-da96a2cf9b63",
        "colab": {
          "base_uri": "https://localhost:8080/",
          "height": 55
        }
      },
      "source": [
        "# visualize embeddings  ==> Takes too long given dictionary size. Will rather try Kmeans on vectors in Data Analysis\n",
        "\"\"\"\n",
        "from sklearn.manifold import TSNE\n",
        "\n",
        "words = w2v_model.wv.index2word\n",
        "wvs = w2v_model.wv[words]\n",
        "\n",
        "tsne = TSNE(n_components=2, random_state=0, n_iter=5000, perplexity=2)\n",
        "np.set_printoptions(suppress=True)\n",
        "T = tsne.fit_transform(wvs)\n",
        "labels = words\n",
        "\n",
        "plt.figure(figsize=(12, 6))\n",
        "plt.scatter(T[:, 0], T[:, 1], c='orange', edgecolors='r')\n",
        "for label, x, y in zip(labels, T[:, 0], T[:, 1]):\n",
        "    plt.annotate(label, xy=(x+1, y+1), xytext=(0, 0), textcoords='offset points')\n",
        "\"\"\""
      ],
      "execution_count": 77,
      "outputs": [
        {
          "output_type": "execute_result",
          "data": {
            "text/plain": [
              "\"\\nfrom sklearn.manifold import TSNE\\n\\nwords = w2v_model.wv.index2word\\nwvs = w2v_model.wv[words]\\n\\ntsne = TSNE(n_components=2, random_state=0, n_iter=5000, perplexity=2)\\nnp.set_printoptions(suppress=True)\\nT = tsne.fit_transform(wvs)\\nlabels = words\\n\\nplt.figure(figsize=(12, 6))\\nplt.scatter(T[:, 0], T[:, 1], c='orange', edgecolors='r')\\nfor label, x, y in zip(labels, T[:, 0], T[:, 1]):\\n    plt.annotate(label, xy=(x+1, y+1), xytext=(0, 0), textcoords='offset points')\\n\""
            ]
          },
          "metadata": {
            "tags": []
          },
          "execution_count": 77
        }
      ]
    },
    {
      "cell_type": "markdown",
      "metadata": {
        "id": "J2bhabiWMbAB",
        "colab_type": "text"
      },
      "source": [
        "## Tokenization with Keras"
      ]
    },
    {
      "cell_type": "code",
      "metadata": {
        "id": "4-9lVv1f7v7Z",
        "colab_type": "code",
        "colab": {}
      },
      "source": [
        "# Tokenizing Text -> Representing each word by a number\n",
        "# Mapping of original word to number is preserved in word_index property of tokenizer\n",
        "\n",
        "#Tokenizer applies basic processing like changing it to lower case, explicitely setting that as True even if already done before\n",
        "\n",
        "from tensorflow.keras.preprocessing.text import Tokenizer\n",
        "\n",
        "tokenizer = Tokenizer(lower=True)\n",
        "tokenizer.fit_on_texts(X)\n",
        "\n",
        "X_tok = tokenizer.texts_to_sequences(X)"
      ],
      "execution_count": 0,
      "outputs": []
    },
    {
      "cell_type": "code",
      "metadata": {
        "id": "C9ItLEl_9PvT",
        "colab_type": "code",
        "outputId": "eb1b7c79-4f39-4d1b-993a-18695150ffb4",
        "colab": {
          "base_uri": "https://localhost:8080/",
          "height": 35
        }
      },
      "source": [
        "# lets check the first 10 words of first news\n",
        "#every word has been represented with a number\n",
        "X_tok[0][:10]"
      ],
      "execution_count": 185,
      "outputs": [
        {
          "output_type": "execute_result",
          "data": {
            "text/plain": [
              "[264, 65, 86, 55, 49, 1946, 32208, 142, 533, 49]"
            ]
          },
          "metadata": {
            "tags": []
          },
          "execution_count": 185
        }
      ]
    },
    {
      "cell_type": "code",
      "metadata": {
        "id": "Nf3dw7fw9aIe",
        "colab_type": "code",
        "outputId": "27ffc030-2b0b-4d61-f27d-3184cc81a898",
        "colab": {
          "base_uri": "https://localhost:8080/",
          "height": 204
        }
      },
      "source": [
        "#Lets check few word to numerical representation\n",
        "#Mapping is preserved in dictionary -> word_index property of instance\n",
        "word_index = tokenizer.word_index\n",
        "for word, num in word_index.items():\n",
        "    print(\"{} -> {}\".format(word, num))\n",
        "    if num == 10:\n",
        "        break        "
      ],
      "execution_count": 186,
      "outputs": [
        {
          "output_type": "stream",
          "text": [
            "told -> 1\n",
            "election -> 2\n",
            "campaign -> 3\n",
            "two -> 4\n",
            "last -> 5\n",
            "party -> 6\n",
            "time -> 7\n",
            "first -> 8\n",
            "former -> 9\n",
            "country -> 10\n"
          ],
          "name": "stdout"
        }
      ]
    },
    {
      "cell_type": "code",
      "metadata": {
        "id": "Z-eFsk0oVFOu",
        "colab_type": "code",
        "outputId": "b50aa980-f646-42bc-e6ac-444d5ca36122",
        "colab": {
          "base_uri": "https://localhost:8080/",
          "height": 265
        }
      },
      "source": [
        "# Making histogram for no of words in news shows that most news article are under 700 words.\n",
        "plt.hist([len(x) for x in X_tok], bins=500)\n",
        "plt.show()"
      ],
      "execution_count": 187,
      "outputs": [
        {
          "output_type": "display_data",
          "data": {
            "image/png": "[encoded data removed]",
            "text/plain": [
              "<Figure size 432x288 with 1 Axes>"
            ]
          },
          "metadata": {
            "tags": [],
            "needs_background": "light"
          }
        }
      ]
    },
    {
      "cell_type": "code",
      "metadata": {
        "id": "vZX8Kk9NVdsW",
        "colab_type": "code",
        "outputId": "bfaffbb7-3c47-46d5-c883-dc2c4648e556",
        "colab": {
          "base_uri": "https://localhost:8080/",
          "height": 35
        }
      },
      "source": [
        "# Most of the news have less than 700 words\n",
        "nos = np.array([len(x) for x in X_tok])\n",
        "print(len(nos[nos  < UPPER_BOUND])/len(X_tok))"
      ],
      "execution_count": 188,
      "outputs": [
        {
          "output_type": "stream",
          "text": [
            "1.0\n"
          ],
          "name": "stdout"
        }
      ]
    },
    {
      "cell_type": "code",
      "metadata": {
        "id": "gPguxq9QQe9p",
        "colab_type": "code",
        "colab": {
          "base_uri": "https://localhost:8080/",
          "height": 35
        },
        "outputId": "41114ea3-d585-48ae-f5cc-86b21c365622"
      },
      "source": [
        "print(len(nos[nos  > UPPER_BOUND])/len(X_tok))"
      ],
      "execution_count": 189,
      "outputs": [
        {
          "output_type": "stream",
          "text": [
            "0.0\n"
          ],
          "name": "stdout"
        }
      ]
    },
    {
      "cell_type": "code",
      "metadata": {
        "id": "9Urs8TTuVt7L",
        "colab_type": "code",
        "colab": {}
      },
      "source": [
        "#Lets keep all news to 700, add padding to news with less than 700 words and truncating long ones\n",
        "maxlen = UPPER_BOUND \n",
        "\n",
        "#Making all news of size maxlen defined above, padding with 0 when needed\n",
        "X_tok = pad_sequences(X_tok, maxlen=maxlen)"
      ],
      "execution_count": 0,
      "outputs": []
    },
    {
      "cell_type": "code",
      "metadata": {
        "id": "9Mjc6eVgWUlM",
        "colab_type": "code",
        "outputId": "e7558766-ac4e-4b31-bb2a-11b16009d446",
        "colab": {
          "base_uri": "https://localhost:8080/",
          "height": 35
        }
      },
      "source": [
        "#Checking\n",
        "len(X_tok[0])"
      ],
      "execution_count": 191,
      "outputs": [
        {
          "output_type": "execute_result",
          "data": {
            "text/plain": [
              "650"
            ]
          },
          "metadata": {
            "tags": []
          },
          "execution_count": 191
        }
      ]
    },
    {
      "cell_type": "code",
      "metadata": {
        "id": "Qnj0pV28Q1DN",
        "colab_type": "code",
        "colab": {}
      },
      "source": [
        "#Saving this tokenized and vectorized version to file\n",
        "#with open('/content/drive/My Drive/CS221_Project/X_tok.csv', 'w') as myfile:\n",
        "#    wr = csv.writer(myfile, quoting=csv.QUOTE_ALL)\n",
        "#    wr.writerow(X_tok)"
      ],
      "execution_count": 0,
      "outputs": []
    },
    {
      "cell_type": "code",
      "metadata": {
        "id": "utn9EKb_3VZx",
        "colab_type": "code",
        "colab": {}
      },
      "source": [
        "X_train_tok, X_test_tok, y_train_tok, y_test_tok = train_test_split(X_tok, y, test_size = 0.15) "
      ],
      "execution_count": 0,
      "outputs": []
    },
    {
      "cell_type": "markdown",
      "metadata": {
        "id": "np836AjH5LjP",
        "colab_type": "text"
      },
      "source": [
        "# **Modelization** "
      ]
    },
    {
      "cell_type": "markdown",
      "metadata": {
        "id": "VvkaHfZWT0VA",
        "colab_type": "text"
      },
      "source": [
        "## Naïve Bayes model"
      ]
    },
    {
      "cell_type": "code",
      "metadata": {
        "id": "dszpgj-tSK9X",
        "colab_type": "code",
        "colab": {}
      },
      "source": [
        "from sklearn.naive_bayes import MultinomialNB"
      ],
      "execution_count": 0,
      "outputs": []
    },
    {
      "cell_type": "markdown",
      "metadata": {
        "id": "2WYcbCZ9-MPF",
        "colab_type": "text"
      },
      "source": [
        "On basic Keras tokenized input"
      ]
    },
    {
      "cell_type": "code",
      "metadata": {
        "id": "TSN02S4V-KwW",
        "colab_type": "code",
        "colab": {}
      },
      "source": [
        "naive_bayes_model_tok = MultinomialNB().fit(X_train_tok,y_train_tok)"
      ],
      "execution_count": 0,
      "outputs": []
    },
    {
      "cell_type": "code",
      "metadata": {
        "id": "H6tbUhwt-YMy",
        "colab_type": "code",
        "outputId": "6817bf22-d585-41f0-bbba-eb30d0884ccc",
        "colab": {
          "base_uri": "https://localhost:8080/",
          "height": 185
        }
      },
      "source": [
        "predictions_nb_tok = naive_bayes_model_tok.predict(X_test_tok)\n",
        "print(classification_report(y_test_tok, predictions_nb_tok))"
      ],
      "execution_count": 196,
      "outputs": [
        {
          "output_type": "stream",
          "text": [
            "              precision    recall  f1-score   support\n",
            "\n",
            "           0       0.53      0.81      0.64      2310\n",
            "           1       0.63      0.30      0.41      2384\n",
            "\n",
            "    accuracy                           0.55      4694\n",
            "   macro avg       0.58      0.56      0.52      4694\n",
            "weighted avg       0.58      0.55      0.52      4694\n",
            "\n"
          ],
          "name": "stdout"
        }
      ]
    },
    {
      "cell_type": "markdown",
      "metadata": {
        "id": "2ureS8vJ-M9w",
        "colab_type": "text"
      },
      "source": [
        "On TF-IDF vectorized input"
      ]
    },
    {
      "cell_type": "code",
      "metadata": {
        "id": "KOkPh1GV5RK3",
        "colab_type": "code",
        "colab": {}
      },
      "source": [
        "naive_bayes_model = MultinomialNB().fit(X_train_tfidf,y_train)"
      ],
      "execution_count": 0,
      "outputs": []
    },
    {
      "cell_type": "code",
      "metadata": {
        "id": "A04JdgX_U7W_",
        "colab_type": "code",
        "outputId": "83ba6cd3-29a4-4ae2-a921-2b1c54ffadb7",
        "colab": {
          "base_uri": "https://localhost:8080/",
          "height": 35
        }
      },
      "source": [
        "#Model Evaluation\n",
        "predictions = naive_bayes_model.predict(X_test_tfidf)\n",
        "print(predictions)"
      ],
      "execution_count": 198,
      "outputs": [
        {
          "output_type": "stream",
          "text": [
            "[1 1 1 ... 1 1 1]\n"
          ],
          "name": "stdout"
        }
      ]
    },
    {
      "cell_type": "code",
      "metadata": {
        "id": "aG2pvk-UVEHw",
        "colab_type": "code",
        "outputId": "0e9469ae-f614-4372-aac1-d9b85734abd1",
        "colab": {
          "base_uri": "https://localhost:8080/",
          "height": 185
        }
      },
      "source": [
        "print(classification_report(y_test, predictions))"
      ],
      "execution_count": 199,
      "outputs": [
        {
          "output_type": "stream",
          "text": [
            "              precision    recall  f1-score   support\n",
            "\n",
            "           0       0.63      0.23      0.34      1991\n",
            "           1       0.72      0.94      0.82      4266\n",
            "\n",
            "    accuracy                           0.71      6257\n",
            "   macro avg       0.68      0.59      0.58      6257\n",
            "weighted avg       0.69      0.71      0.67      6257\n",
            "\n"
          ],
          "name": "stdout"
        }
      ]
    },
    {
      "cell_type": "markdown",
      "metadata": {
        "id": "JwLFvyKrlrnJ",
        "colab_type": "text"
      },
      "source": [
        "## Support Vector Machine"
      ]
    },
    {
      "cell_type": "code",
      "metadata": {
        "id": "MGpBoXAMtm_P",
        "colab_type": "code",
        "colab": {}
      },
      "source": [
        "from sklearn.svm import SVC"
      ],
      "execution_count": 0,
      "outputs": []
    },
    {
      "cell_type": "markdown",
      "metadata": {
        "id": "iyPkWrYw_6t4",
        "colab_type": "text"
      },
      "source": [
        "On basic Keras tokenized input"
      ]
    },
    {
      "cell_type": "code",
      "metadata": {
        "id": "-6Mgnx7W_5pc",
        "colab_type": "code",
        "colab": {}
      },
      "source": [
        "# Doesn't seem to work well. Likely due to lack of efficient features for the SVC model\n",
        "\n",
        "#linear_svm_classifier_tok = SVC(kernel = \"linear\").fit(X_train_tok, y_train_tok)"
      ],
      "execution_count": 0,
      "outputs": []
    },
    {
      "cell_type": "code",
      "metadata": {
        "id": "FRjeEFs3AJQu",
        "colab_type": "code",
        "colab": {}
      },
      "source": [
        "#predictions_svm_tok = linear_svm_classifier_tok.predict(X_test_tok)\n",
        "#print(classification_report(y_test_tok, predictions_svm_tok))"
      ],
      "execution_count": 0,
      "outputs": []
    },
    {
      "cell_type": "markdown",
      "metadata": {
        "id": "KqmzvIrF_3GR",
        "colab_type": "text"
      },
      "source": [
        "On TF-IDF vectorized input"
      ]
    },
    {
      "cell_type": "code",
      "metadata": {
        "id": "2xynWVdLltf8",
        "colab_type": "code",
        "colab": {}
      },
      "source": [
        "linear_svm_classifier_tfidf = SVC(kernel = \"linear\").fit(X_train_tfidf,y_train)"
      ],
      "execution_count": 0,
      "outputs": []
    },
    {
      "cell_type": "code",
      "metadata": {
        "id": "nqKVWzqsl4ZL",
        "colab_type": "code",
        "outputId": "069489b6-003d-4cfe-bd64-8d5387bd4234",
        "colab": {
          "base_uri": "https://localhost:8080/",
          "height": 35
        }
      },
      "source": [
        "predictions_svm_tfidf = linear_svm_classifier_tfidf.predict(X_test_tfidf)\n",
        "print(predictions_svm_tfidf)"
      ],
      "execution_count": 202,
      "outputs": [
        {
          "output_type": "stream",
          "text": [
            "[1 0 1 ... 1 1 1]\n"
          ],
          "name": "stdout"
        }
      ]
    },
    {
      "cell_type": "code",
      "metadata": {
        "id": "bEntRQkMl-3t",
        "colab_type": "code",
        "outputId": "0583a4c5-4bf0-4d7d-f588-027cc9e1c728",
        "colab": {
          "base_uri": "https://localhost:8080/",
          "height": 185
        }
      },
      "source": [
        "print(classification_report(y_test, predictions_svm_tfidf))"
      ],
      "execution_count": 203,
      "outputs": [
        {
          "output_type": "stream",
          "text": [
            "              precision    recall  f1-score   support\n",
            "\n",
            "           0       0.62      0.79      0.69      1991\n",
            "           1       0.89      0.78      0.83      4266\n",
            "\n",
            "    accuracy                           0.78      6257\n",
            "   macro avg       0.75      0.78      0.76      6257\n",
            "weighted avg       0.80      0.78      0.78      6257\n",
            "\n"
          ],
          "name": "stdout"
        }
      ]
    },
    {
      "cell_type": "markdown",
      "metadata": {
        "id": "0j4NvFq7oA8-",
        "colab_type": "text"
      },
      "source": [
        "## Simple Neural Network"
      ]
    },
    {
      "cell_type": "code",
      "metadata": {
        "id": "A0DpN55JWZaS",
        "colab_type": "code",
        "colab": {}
      },
      "source": [
        "# Embedding Layer used in Keras creates one more vector for \"UNKNOWN\" words, or padded words (0s). This Vector is filled with zeros.\n",
        "# Thus our vocab size inceeases by 1\n",
        "vocab_size = len(tokenizer.word_index) + 1"
      ],
      "execution_count": 0,
      "outputs": []
    },
    {
      "cell_type": "code",
      "metadata": {
        "id": "GQCC_H_JWfR7",
        "colab_type": "code",
        "colab": {}
      },
      "source": [
        "# Function to create weight matrix between word-index and vectors from word2vec gensim model\n",
        "def get_weight_matrix(model, vocab):\n",
        "    # total vocabulary size plus 0 for unknown words\n",
        "    vocab_size = len(vocab) + 1\n",
        "    # define weight matrix dimensions with all 0\n",
        "    weight_matrix = np.zeros((vocab_size, EMBEDDING_DIM))\n",
        "    # step vocab, store vectors using the Tokenizer's integer mapping\n",
        "    for word, i in vocab.items():\n",
        "        weight_matrix[i] = model[word]\n",
        "    return weight_matrix"
      ],
      "execution_count": 0,
      "outputs": []
    },
    {
      "cell_type": "code",
      "metadata": {
        "id": "uBBxZxI9T8JE",
        "colab_type": "code",
        "colab": {}
      },
      "source": [
        "#Getting embedding vectors from word2vec and using it as weights of non-trainable keras embedding layer\n",
        "#This embedding layer accepts numerical-token of word and outputs corresponding vector to inner layer.\n",
        "#It sends vector of zeros to next layer for unknown words which would be tokenized to 0.\n",
        "#Input length of embedding Layer is the length of each news (700 now due to padding and truncating)\n",
        "%%capture\n",
        "#del embedding_vectors\n",
        "embedding_vectors = get_weight_matrix(w2v_model, word_index)"
      ],
      "execution_count": 0,
      "outputs": []
    },
    {
      "cell_type": "code",
      "metadata": {
        "id": "QVyZpdP0oGk8",
        "colab_type": "code",
        "outputId": "0beb0aab-3f35-4499-fe99-0004c072bc1a",
        "colab": {
          "base_uri": "https://localhost:8080/",
          "height": 205
        }
      },
      "source": [
        "dnn_model = tf.keras.Sequential([\n",
        "    tf.keras.layers.Embedding(vocab_size, output_dim=EMBEDDING_DIM, weights=[embedding_vectors], input_length=maxlen, trainable=False),\n",
        "    tf.keras.layers.GlobalAveragePooling1D(),\n",
        "    tf.keras.layers.Dense(24, activation='relu'),\n",
        "    tf.keras.layers.Dense(1, activation='sigmoid')\n",
        "])\n",
        "dnn_model.compile(loss='binary_crossentropy',optimizer='adam',metrics=['accuracy'])"
      ],
      "execution_count": 207,
      "outputs": [
        {
          "output_type": "stream",
          "text": [
            "WARNING:tensorflow:From /tensorflow-1.15.2/python3.6/tensorflow_core/python/keras/initializers.py:119: calling RandomUniform.__init__ (from tensorflow.python.ops.init_ops) with dtype is deprecated and will be removed in a future version.\n",
            "Instructions for updating:\n",
            "Call initializer instance with the dtype argument instead of passing it to the constructor\n",
            "WARNING:tensorflow:From /tensorflow-1.15.2/python3.6/tensorflow_core/python/ops/resource_variable_ops.py:1630: calling BaseResourceVariable.__init__ (from tensorflow.python.ops.resource_variable_ops) with constraint is deprecated and will be removed in a future version.\n",
            "Instructions for updating:\n",
            "If using Keras pass *_constraint arguments to layers.\n",
            "WARNING:tensorflow:From /tensorflow-1.15.2/python3.6/tensorflow_core/python/ops/nn_impl.py:183: where (from tensorflow.python.ops.array_ops) is deprecated and will be removed in a future version.\n",
            "Instructions for updating:\n",
            "Use tf.where in 2.0, which has the same broadcast rule as np.where\n"
          ],
          "name": "stdout"
        }
      ]
    },
    {
      "cell_type": "code",
      "metadata": {
        "id": "HWsUtccWoybz",
        "colab_type": "code",
        "outputId": "d528286c-86ea-476e-e18c-091ff46de214",
        "colab": {
          "base_uri": "https://localhost:8080/",
          "height": 410
        }
      },
      "source": [
        "early_stopping_callback_loss = tf.keras.callbacks.EarlyStopping(monitor = 'loss', patience = 1)\n",
        "early_stopping_callback_val_loss = tf.keras.callbacks.EarlyStopping(monitor = 'val_loss', patience = 1)\n",
        "\n",
        "dnn_history = dnn_model.fit(X_train_tok, y_train_tok, epochs=10, validation_split = 0.2, \\\n",
        "                        callbacks = [early_stopping_callback_loss, early_stopping_callback_val_loss], verbose=1)"
      ],
      "execution_count": 208,
      "outputs": [
        {
          "output_type": "stream",
          "text": [
            "Train on 21275 samples, validate on 5319 samples\n",
            "Epoch 1/10\n",
            "21275/21275 [==============================] - 5s 219us/sample - loss: 0.3029 - acc: 0.8901 - val_loss: 0.2051 - val_acc: 0.9252\n",
            "Epoch 2/10\n",
            "21275/21275 [==============================] - 4s 199us/sample - loss: 0.1914 - acc: 0.9330 - val_loss: 0.1737 - val_acc: 0.9378\n",
            "Epoch 3/10\n",
            "21275/21275 [==============================] - 4s 196us/sample - loss: 0.1723 - acc: 0.9400 - val_loss: 0.1609 - val_acc: 0.9421\n",
            "Epoch 4/10\n",
            "21275/21275 [==============================] - 4s 196us/sample - loss: 0.1617 - acc: 0.9425 - val_loss: 0.1518 - val_acc: 0.9440\n",
            "Epoch 5/10\n",
            "21275/21275 [==============================] - 4s 185us/sample - loss: 0.1535 - acc: 0.9461 - val_loss: 0.1453 - val_acc: 0.9470\n",
            "Epoch 6/10\n",
            "21275/21275 [==============================] - 4s 174us/sample - loss: 0.1469 - acc: 0.9481 - val_loss: 0.1406 - val_acc: 0.9479\n",
            "Epoch 7/10\n",
            "21275/21275 [==============================] - 4s 178us/sample - loss: 0.1416 - acc: 0.9500 - val_loss: 0.1381 - val_acc: 0.9470\n",
            "Epoch 8/10\n",
            "21275/21275 [==============================] - 4s 181us/sample - loss: 0.1368 - acc: 0.9512 - val_loss: 0.1328 - val_acc: 0.9507\n",
            "Epoch 9/10\n",
            "21275/21275 [==============================] - 4s 189us/sample - loss: 0.1318 - acc: 0.9537 - val_loss: 0.1282 - val_acc: 0.9513\n",
            "Epoch 10/10\n",
            "21275/21275 [==============================] - 4s 182us/sample - loss: 0.1278 - acc: 0.9534 - val_loss: 0.1276 - val_acc: 0.9534\n"
          ],
          "name": "stdout"
        }
      ]
    },
    {
      "cell_type": "code",
      "metadata": {
        "id": "k81HOODPo1gq",
        "colab_type": "code",
        "outputId": "e68dc526-a47a-40ad-df0a-0c618964fc09",
        "colab": {
          "base_uri": "https://localhost:8080/",
          "height": 295
        }
      },
      "source": [
        "plt.plot(dnn_history.history['loss'])\n",
        "plt.plot(dnn_history.history['val_loss'])\n",
        "plt.title('model train vs validation loss')\n",
        "plt.ylabel('loss')\n",
        "plt.xlabel('epoch')\n",
        "plt.legend(['train', 'validation'], loc='upper right')\n",
        "plt.show()"
      ],
      "execution_count": 209,
      "outputs": [
        {
          "output_type": "display_data",
          "data": {
            "image/png": "[encoded data removed]",
            "text/plain": [
              "<Figure size 432x288 with 1 Axes>"
            ]
          },
          "metadata": {
            "tags": [],
            "needs_background": "light"
          }
        }
      ]
    },
    {
      "cell_type": "code",
      "metadata": {
        "id": "tkzyqvyJo_yJ",
        "colab_type": "code",
        "outputId": "bdd12285-eaf3-479b-9f34-07fde00fcc8c",
        "colab": {
          "base_uri": "https://localhost:8080/",
          "height": 73
        }
      },
      "source": [
        "dnn_results = dnn_model.evaluate(X_test_tok, y_test_tok, batch_size=128)\n",
        "\n",
        "print('Regular dense network - test loss: {}'.format(dnn_results[0]))\n",
        "print('Regular dense network - test accuracy: {}'.format(dnn_results[1]))"
      ],
      "execution_count": 210,
      "outputs": [
        {
          "output_type": "stream",
          "text": [
            "4694/4694 [==============================] - 1s 109us/sample - loss: 0.1307 - acc: 0.9521\n",
            "Regular dense network - test loss: 0.13070278037950542\n",
            "Regular dense network - test accuracy: 0.9520664811134338\n"
          ],
          "name": "stdout"
        }
      ]
    },
    {
      "cell_type": "code",
      "metadata": {
        "id": "E4uOTxI7pVvy",
        "colab_type": "code",
        "outputId": "b573ef67-6989-47a9-af73-8d23ccf286c8",
        "colab": {
          "base_uri": "https://localhost:8080/",
          "height": 204
        }
      },
      "source": [
        "dnn_pred = (dnn_model.predict(X_test_tok) >= 0.5).astype(\"int\")\n",
        "\n",
        "print(\"Model type: Regular dense neural network.\")\n",
        "print(classification_report(y_test_tok, dnn_pred))"
      ],
      "execution_count": 211,
      "outputs": [
        {
          "output_type": "stream",
          "text": [
            "Model type: Regular dense neural network.\n",
            "              precision    recall  f1-score   support\n",
            "\n",
            "           0       0.94      0.97      0.95      2310\n",
            "           1       0.97      0.93      0.95      2384\n",
            "\n",
            "    accuracy                           0.95      4694\n",
            "   macro avg       0.95      0.95      0.95      4694\n",
            "weighted avg       0.95      0.95      0.95      4694\n",
            "\n"
          ],
          "name": "stdout"
        }
      ]
    },
    {
      "cell_type": "code",
      "metadata": {
        "id": "hMSCcmyJW0dq",
        "colab_type": "code",
        "outputId": "437f8204-0d26-4b39-b6d8-aed3b27f8a4c",
        "colab": {
          "base_uri": "https://localhost:8080/",
          "height": 54
        }
      },
      "source": [
        "print(confusion_matrix(y_test_tok, dnn_pred))"
      ],
      "execution_count": 212,
      "outputs": [
        {
          "output_type": "stream",
          "text": [
            "[[2240   70]\n",
            " [ 155 2229]]\n"
          ],
          "name": "stdout"
        }
      ]
    },
    {
      "cell_type": "markdown",
      "metadata": {
        "id": "LKUG8pHaT6Pw",
        "colab_type": "text"
      },
      "source": [
        "## Many to one LSTM"
      ]
    },
    {
      "cell_type": "code",
      "metadata": {
        "id": "syFREQZdVt2z",
        "colab_type": "code",
        "colab": {}
      },
      "source": [
        "#Defining Neural Network\n",
        "lstm_model = Sequential()\n",
        "#Non-trainable embeddidng layer\n",
        "lstm_model.add(Embedding(vocab_size, output_dim=EMBEDDING_DIM, weights=[embedding_vectors], input_length=maxlen, trainable=False))\n",
        "#LSTM \n",
        "lstm_model.add(LSTM(units=128))\n",
        "lstm_model.add(Dense(1, activation='sigmoid'))\n",
        "lstm_model.compile(optimizer='adam', loss='binary_crossentropy', metrics=['acc'])\n",
        "\n",
        "#del embedding_vectors"
      ],
      "execution_count": 0,
      "outputs": []
    },
    {
      "cell_type": "code",
      "metadata": {
        "id": "oF-JsTQ8YEiW",
        "colab_type": "code",
        "outputId": "c325e06d-65c5-4ffd-efd9-1e19fc432439",
        "colab": {
          "base_uri": "https://localhost:8080/",
          "height": 279
        }
      },
      "source": [
        "lstm_model.summary()"
      ],
      "execution_count": 214,
      "outputs": [
        {
          "output_type": "stream",
          "text": [
            "Model: \"sequential_1\"\n",
            "_________________________________________________________________\n",
            "Layer (type)                 Output Shape              Param #   \n",
            "=================================================================\n",
            "embedding_1 (Embedding)      (None, 650, 100)          10549900  \n",
            "_________________________________________________________________\n",
            "lstm (LSTM)                  (None, 128)               117248    \n",
            "_________________________________________________________________\n",
            "dense_2 (Dense)              (None, 1)                 129       \n",
            "=================================================================\n",
            "Total params: 10,667,277\n",
            "Trainable params: 117,377\n",
            "Non-trainable params: 10,549,900\n",
            "_________________________________________________________________\n"
          ],
          "name": "stdout"
        }
      ]
    },
    {
      "cell_type": "code",
      "metadata": {
        "id": "DyGl6uhtYfVh",
        "colab_type": "code",
        "outputId": "ff774f78-3cfd-419c-b4c7-503b575b1cd9",
        "colab": {
          "base_uri": "https://localhost:8080/",
          "height": 73
        }
      },
      "source": [
        "early_stopping_callback_loss = tf.keras.callbacks.EarlyStopping(monitor = 'loss', patience = 1)\n",
        "early_stopping_callback_val_loss = tf.keras.callbacks.EarlyStopping(monitor = 'val_loss', patience = 1)\n",
        "\n",
        "lstm_history = lstm_model.fit(X_train_tok, y_train_tok, validation_split=0.2, epochs=4, \\\n",
        "                         callbacks = [early_stopping_callback_loss, early_stopping_callback_val_loss], verbose=1)"
      ],
      "execution_count": 0,
      "outputs": [
        {
          "output_type": "stream",
          "text": [
            "Train on 21275 samples, validate on 5319 samples\n",
            "Epoch 1/4\n",
            " 1024/21275 [>.............................] - ETA: 16:08 - loss: 0.4035 - acc: 0.8252"
          ],
          "name": "stdout"
        }
      ]
    },
    {
      "cell_type": "code",
      "metadata": {
        "id": "gyBl1qlkF5UG",
        "colab_type": "code",
        "colab": {}
      },
      "source": [
        "plt.plot(lstm_history.history['loss'])\n",
        "plt.plot(lstm_history.history['val_loss'])\n",
        "plt.title('model train vs validation loss')\n",
        "plt.ylabel('loss')\n",
        "plt.xlabel('epoch')\n",
        "plt.legend(['train', 'validation'], loc='upper right')\n",
        "plt.show()"
      ],
      "execution_count": 0,
      "outputs": []
    },
    {
      "cell_type": "code",
      "metadata": {
        "id": "xWffg2YsYzF5",
        "colab_type": "code",
        "colab": {}
      },
      "source": [
        "#Prediction is in probability of news being real, so converting into classes\n",
        "lstm_pred = (lstm_model.predict(X_test_tok) >= 0.5).astype(\"int\")"
      ],
      "execution_count": 0,
      "outputs": []
    },
    {
      "cell_type": "code",
      "metadata": {
        "id": "jX1CKgltZJ6R",
        "colab_type": "code",
        "colab": {}
      },
      "source": [
        "print(classification_report(y_test_tok, lstm_pred))"
      ],
      "execution_count": 0,
      "outputs": []
    },
    {
      "cell_type": "code",
      "metadata": {
        "id": "RJj70EccWjhO",
        "colab_type": "code",
        "colab": {}
      },
      "source": [
        "print(confusion_matrix(y_test_tok, lstm_pred))"
      ],
      "execution_count": 0,
      "outputs": []
    },
    {
      "cell_type": "markdown",
      "metadata": {
        "id": "ahDGZb_BZWF7",
        "colab_type": "text"
      },
      "source": [
        "## Bert "
      ]
    },
    {
      "cell_type": "markdown",
      "metadata": {
        "id": "Uj-_pa13pK9l",
        "colab_type": "text"
      },
      "source": [
        "Leveraging work from [this colab](https://colab.sandbox.google.com/drive/1W8yYgQJ6AAvwZ3AdfuPDLirqXOtHbmuO#scrollTo=6o2a5ZIvRcJq)"
      ]
    },
    {
      "cell_type": "code",
      "metadata": {
        "id": "ceH2Oe95ZRB4",
        "colab_type": "code",
        "colab": {}
      },
      "source": [
        "!pip install bert-tensorflow"
      ],
      "execution_count": 0,
      "outputs": []
    },
    {
      "cell_type": "code",
      "metadata": {
        "id": "GErcwhIiZdp5",
        "colab_type": "code",
        "colab": {}
      },
      "source": [
        "import bert\n",
        "from bert import run_classifier\n",
        "from bert import optimization\n",
        "from bert import tokenization"
      ],
      "execution_count": 0,
      "outputs": []
    },
    {
      "cell_type": "code",
      "metadata": {
        "id": "n2f_2SYtZn3M",
        "colab_type": "code",
        "colab": {}
      },
      "source": [
        "# Set the output directory for saving model file\n",
        "# Optionally, set a GCP bucket location\n",
        "\n",
        "OUTPUT_DIR = 'model_out'#@param {type:\"string\"}\n",
        "#@markdown Whether or not to clear/delete the directory and create a new one\n",
        "DO_DELETE = False #@param {type:\"boolean\"}\n",
        "#@markdown Set USE_BUCKET and BUCKET if you want to (optionally) store model output on GCP bucket.\n",
        "USE_BUCKET = False #@param {type:\"boolean\"}\n",
        "BUCKET = 'BUCKET_NAME' #@param {type:\"string\"}\n",
        "\n",
        "if USE_BUCKET:\n",
        "  OUTPUT_DIR = 'gs://{}/{}'.format(BUCKET, OUTPUT_DIR)\n",
        "  from google.colab import auth\n",
        "  auth.authenticate_user()\n",
        "\n",
        "if DO_DELETE:\n",
        "  try:\n",
        "    tf.gfile.DeleteRecursively(OUTPUT_DIR)\n",
        "  except:\n",
        "    # Doesn't matter if the directory didn't exist\n",
        "    pass\n",
        "tf.gfile.MakeDirs(OUTPUT_DIR)\n",
        "print('***** Model output directory: {} *****'.format(OUTPUT_DIR))\n"
      ],
      "execution_count": 0,
      "outputs": []
    },
    {
      "cell_type": "code",
      "metadata": {
        "id": "sqsHn0tvS5dx",
        "colab_type": "code",
        "colab": {}
      },
      "source": [
        "#Import dataset file if not done already\n",
        "dataset_processed = pd.read_csv('/content/drive/My Drive/CS221_Project/dataset_reference.csv')"
      ],
      "execution_count": 0,
      "outputs": []
    },
    {
      "cell_type": "code",
      "metadata": {
        "id": "j1-MYwGEi__o",
        "colab_type": "code",
        "colab": {}
      },
      "source": [
        "train_df = dataset_processed.sample(frac=0.7, replace=False, random_state=1)\n",
        "val_df = dataset_processed.sample(frac=0.15, replace=False, random_state=1)\n",
        "test_df = dataset_processed.sample(frac=0.15, replace=False, random_state=1)\n",
        "print(train_df.shape, val_df.shape, test_df.shape)"
      ],
      "execution_count": 0,
      "outputs": []
    },
    {
      "cell_type": "code",
      "metadata": {
        "id": "XcZ4T9VjjbXh",
        "colab_type": "code",
        "colab": {}
      },
      "source": [
        "# Use the InputExample class from BERT's run_classifier code to create examples from the data\n",
        "train_InputExamples = train_df.apply(lambda x: bert.run_classifier.InputExample(guid=None, # Globally unique ID for bookkeeping, unused in this example\n",
        "                                                                   text_a = x['text'], \n",
        "                                                                   text_b = None, \n",
        "                                                                   label = x['class']), axis = 1)\n",
        "\n",
        "dev_InputExamples = val_df.apply(lambda x: bert.run_classifier.InputExample(guid=None, \n",
        "                                                                   text_a = x['text'], \n",
        "                                                                   text_b = None, \n",
        "                                                                   label = x['class']), axis = 1)\n",
        "\n",
        "test_InputExamples = test_df.apply(lambda x: bert.run_classifier.InputExample(guid=None, \n",
        "                                                                   text_a = x['text'], \n",
        "                                                                   text_b = None, \n",
        "                                                                   label = x['class']), axis = 1)"
      ],
      "execution_count": 0,
      "outputs": []
    },
    {
      "cell_type": "code",
      "metadata": {
        "id": "peUpcPsMltR8",
        "colab_type": "code",
        "colab": {}
      },
      "source": [
        "# In order to preprocess the data, we'll load a vocabulary file and lowercasing information directly from the BERT tf hub module\n",
        "# This is a path to an uncased (all lowercase) version of BERT\n",
        "BERT_MODEL_HUB = \"https://tfhub.dev/google/bert_uncased_L-12_H-768_A-12/1\"\n",
        "\n",
        "def create_tokenizer_from_hub_module():\n",
        "  \"\"\"Get the vocab file and casing info from the Hub module.\"\"\"\n",
        "  with tf.Graph().as_default():\n",
        "    bert_module = hub.Module(BERT_MODEL_HUB)\n",
        "    tokenization_info = bert_module(signature=\"tokenization_info\", as_dict=True)\n",
        "    with tf.Session() as sess:\n",
        "      vocab_file, do_lower_case = sess.run([tokenization_info[\"vocab_file\"],\n",
        "                                            tokenization_info[\"do_lower_case\"]])\n",
        "      \n",
        "  return bert.tokenization.FullTokenizer(\n",
        "      vocab_file=vocab_file, do_lower_case=do_lower_case)\n",
        "\n",
        "tokenizer_bert = create_tokenizer_from_hub_module()"
      ],
      "execution_count": 0,
      "outputs": []
    },
    {
      "cell_type": "code",
      "metadata": {
        "id": "_LuZoJ75lzSj",
        "colab_type": "code",
        "colab": {}
      },
      "source": [
        "tokenizer_bert.tokenize(\"betsy devos gets skewered after dept. of education posts embarrassingly misspelled tweets donald trump s education department is pathetic now that betsy devos is in control, and this proves it.devos first week as secretary of education has been terrible to say the least.first, she was blocked from entering a public school by protesters and ran away. then she posted a tweet jokingly asking where the pencils are, which drew a sharp rebuke from teachers, who did not find her joke funny because they usually have to buy their own school supplies for their classrooms.and so, the department of education under devos rule is off to a rough start, and it got downright embarrassing on sunday as americans watched in horror as the education department proceeded to post twitter messages containing misspelled words.seriously. this is the f*cking department of education we are talking about. spelling should be in their wheelhouse. but because of trump and devos, that skill has apparently been lost.in celebration of black history month, the department of education decided to recognize and quote w.e.b. du bois. it did not go well.education must not simply teach work it must teach life. w.e.b. debois /re4cwkpsfa us dept of education (@usedgov) february 12, 2017that s right. devos and her team actually misspelled du bois name. and mockery and outrage rained down upon them for it.welp, this is a foreshadowing of what #betsydevos is going to usher in @usedgov. ffs! it s #blackhistorymonth too!??w. e. b. du bois?? /qkhyauyp6i khary penebaker (@kharyp) february 12, 2017@usedgov looks like @betsydevos is in charge now! /paajszsusl mike flacy (@mikeflacy) february 12, 2017.@usedgov *w.e.b. du boisall good. not like this is the official twitter for the us department of education. ? ryan wyatt (@fwiz) february 12, 2017@usedgov i am glad my public school teachers taught me how to properly spell the names of noted scholars!! maris kreizman (@mariskreizman) february 12, 2017@usedgov omg, it s dubois. who is in charge over there? oh, wait, i get it. jennifer morgan (@profjlmorgan) february 12, 2017.@usedgov first y all thought frederick douglass was alive, now you can t spell du bois. this bodes well for an already faltering system. mehreen kasana (@mehreenkasana) february 12, 2017hilarious, @usedgov. it s either a terrible mistake or a perverse foray into humor. his name is w.e.b. du bois. screenshot saved. /dfdv887rne jeffrey guterman (@jeffreyguterman) february 12, 2017@jeffreyguterman @usedgov is @betsydevos in charge of social media content too? was she distracted by a grizzly? ? @pc7 (@pjcc777) february 12, 2017@usedgov how the hell do you misspell his name? if this isn t foreshadowing the shitstorm of #betsydevos, then i don t know what is s vion (@savionwright) february 12, 2017i see they left ms. duvos in charge of the @usedgov twitter feed /sw0scgm49u jason tocci (@jasont) february 12, 2017protesters should ve let @betsydevos into the school long enough to learn how to spell his name correctly @usedgovhttps://t.co/pdzsgu5xev carlton banksy (@rtyson82) february 12, 2017and if that wasn t enough, the department of education posted a corrected version and then posted an apology tweet that was also misspelled.again, seriously. education must not simply teach work it must teach life. w.e.b. du bois /hsg4r1rlhh us dept of education (@usedgov) february 12, 2017 our deepest apologizes /0staogo3fd josh billinson (@jbillinson) february 12, 2017even reading rainbow star levar burton chimed in.heaven help us! the dept. of education misspelled dubois #bydhttmwfi https://t.co/pt6i1em8an levar burton (@levarburton) february 12, 2017betsy devos hasn t even been in charge for a full week and she has already repeatedly proved that while money can buy a cabinet seat, in her case it could not buy a decent education. via chip somodevilla\")"
      ],
      "execution_count": 0,
      "outputs": []
    },
    {
      "cell_type": "code",
      "metadata": {
        "id": "kPN_kJsumXW8",
        "colab_type": "code",
        "colab": {}
      },
      "source": [
        "# label_list is the list of labels, i.e. True, False or 0, 1\n",
        "label_list = [True, False]"
      ],
      "execution_count": 0,
      "outputs": []
    },
    {
      "cell_type": "code",
      "metadata": {
        "id": "9PkqjZvVmK4r",
        "colab_type": "code",
        "colab": {}
      },
      "source": [
        "# We'll set sequences to be at most 128 tokens long (due to memory restriction)\n",
        "MAX_SEQ_LENGTH = 128\n",
        "# Convert our train and test features to InputFeatures that BERT understands.\n",
        "train_features = bert.run_classifier.convert_examples_to_features(train_InputExamples, label_list, MAX_SEQ_LENGTH, tokenizer_bert)\n",
        "dev_features = bert.run_classifier.convert_examples_to_features(dev_InputExamples, label_list, MAX_SEQ_LENGTH, tokenizer_bert)\n",
        "test_features = bert.run_classifier.convert_examples_to_features(test_InputExamples, label_list, MAX_SEQ_LENGTH, tokenizer_bert)"
      ],
      "execution_count": 0,
      "outputs": []
    },
    {
      "cell_type": "code",
      "metadata": {
        "id": "D8PuLF1BmPMD",
        "colab_type": "code",
        "colab": {}
      },
      "source": [
        "#Creating our model by fine-tuning Bert module\n",
        "def create_model(is_predicting, input_ids, input_mask, segment_ids, labels,\n",
        "                 num_labels):\n",
        "  \"\"\"Creates a classification model.\"\"\"\n",
        "\n",
        "  bert_module = hub.Module(\n",
        "      BERT_MODEL_HUB,\n",
        "      trainable=True)\n",
        "  bert_inputs = dict(\n",
        "      input_ids=input_ids,\n",
        "      input_mask=input_mask,\n",
        "      segment_ids=segment_ids)\n",
        "  bert_outputs = bert_module(\n",
        "      inputs=bert_inputs,\n",
        "      signature=\"tokens\",\n",
        "      as_dict=True)\n",
        "\n",
        "  # Use \"pooled_output\" for classification tasks on an entire sentence.\n",
        "  # Use \"sequence_outputs\" for token-level output.\n",
        "  output_layer = bert_outputs[\"pooled_output\"]\n",
        "\n",
        "  hidden_size = output_layer.shape[-1].value\n",
        "\n",
        "  # Create our own layer to tune for politeness data.\n",
        "  output_weights = tf.get_variable(\n",
        "      \"output_weights\", [num_labels, hidden_size],\n",
        "      initializer=tf.truncated_normal_initializer(stddev=0.02))\n",
        "\n",
        "  output_bias = tf.get_variable(\n",
        "      \"output_bias\", [num_labels], initializer=tf.zeros_initializer())\n",
        "\n",
        "  with tf.variable_scope(\"loss\"):\n",
        "\n",
        "    # Dropout helps prevent overfitting\n",
        "    output_layer = tf.nn.dropout(output_layer, keep_prob=0.9)\n",
        "\n",
        "    logits = tf.matmul(output_layer, output_weights, transpose_b=True)\n",
        "    logits = tf.nn.bias_add(logits, output_bias)\n",
        "    log_probs = tf.nn.log_softmax(logits, axis=-1)\n",
        "\n",
        "    # Convert labels into one-hot encoding\n",
        "    one_hot_labels = tf.one_hot(labels, depth=num_labels, dtype=tf.float32)\n",
        "\n",
        "    predicted_labels = tf.squeeze(tf.argmax(log_probs, axis=-1, output_type=tf.int32))\n",
        "    # If we're predicting, we want predicted labels and the probabiltiies.\n",
        "    if is_predicting:\n",
        "      return (predicted_labels, log_probs)\n",
        "\n",
        "    # If we're train/eval, compute loss between predicted and actual label\n",
        "    per_example_loss = -tf.reduce_sum(one_hot_labels * log_probs, axis=-1)\n",
        "    loss = tf.reduce_mean(per_example_loss)\n",
        "    return (loss, predicted_labels, log_probs)"
      ],
      "execution_count": 0,
      "outputs": []
    },
    {
      "cell_type": "code",
      "metadata": {
        "id": "1xOsXHYVoFMA",
        "colab_type": "code",
        "colab": {}
      },
      "source": [
        "# model_fn_builder actually creates our model function\n",
        "# using the passed parameters for num_labels, learning_rate, etc.\n",
        "def model_fn_builder(num_labels, learning_rate, num_train_steps,\n",
        "                     num_warmup_steps):\n",
        "  \"\"\"Returns `model_fn` closure for TPUEstimator.\"\"\"\n",
        "  def model_fn(features, labels, mode, params):  # pylint: disable=unused-argument\n",
        "    \"\"\"The `model_fn` for TPUEstimator.\"\"\"\n",
        "\n",
        "    input_ids = features[\"input_ids\"]\n",
        "    input_mask = features[\"input_mask\"]\n",
        "    segment_ids = features[\"segment_ids\"]\n",
        "    label_ids = features[\"label_ids\"]\n",
        "\n",
        "    is_predicting = (mode == tf.estimator.ModeKeys.PREDICT)\n",
        "    \n",
        "    # TRAIN and EVAL\n",
        "    if not is_predicting:\n",
        "\n",
        "      (loss, predicted_labels, log_probs) = create_model(\n",
        "        is_predicting, input_ids, input_mask, segment_ids, label_ids, num_labels)\n",
        "\n",
        "      train_op = bert.optimization.create_optimizer(\n",
        "          loss, learning_rate, num_train_steps, num_warmup_steps, use_tpu=False)\n",
        "\n",
        "      # Calculate evaluation metrics. \n",
        "      def metric_fn(label_ids, predicted_labels):\n",
        "        accuracy = tf.metrics.accuracy(label_ids, predicted_labels)\n",
        "        f1_score = tf.contrib.metrics.f1_score(\n",
        "            label_ids,\n",
        "            predicted_labels)\n",
        "        auc = tf.metrics.auc(\n",
        "            label_ids,\n",
        "            predicted_labels)\n",
        "        recall = tf.metrics.recall(\n",
        "            label_ids,\n",
        "            predicted_labels)\n",
        "        precision = tf.metrics.precision(\n",
        "            label_ids,\n",
        "            predicted_labels) \n",
        "        true_pos = tf.metrics.true_positives(\n",
        "            label_ids,\n",
        "            predicted_labels)\n",
        "        true_neg = tf.metrics.true_negatives(\n",
        "            label_ids,\n",
        "            predicted_labels)   \n",
        "        false_pos = tf.metrics.false_positives(\n",
        "            label_ids,\n",
        "            predicted_labels)  \n",
        "        false_neg = tf.metrics.false_negatives(\n",
        "            label_ids,\n",
        "            predicted_labels)\n",
        "        return {\n",
        "            \"eval_accuracy\": accuracy,\n",
        "            \"f1_score\": f1_score,\n",
        "            \"auc\": auc,\n",
        "            \"precision\": precision,\n",
        "            \"recall\": recall,\n",
        "            \"true_positives\": true_pos,\n",
        "            \"true_negatives\": true_neg,\n",
        "            \"false_positives\": false_pos,\n",
        "            \"false_negatives\": false_neg,\n",
        "        }\n",
        "\n",
        "      eval_metrics = metric_fn(label_ids, predicted_labels)\n",
        "\n",
        "      if mode == tf.estimator.ModeKeys.TRAIN:\n",
        "        return tf.estimator.EstimatorSpec(mode=mode,\n",
        "          loss=loss,\n",
        "          train_op=train_op)\n",
        "      else:\n",
        "          return tf.estimator.EstimatorSpec(mode=mode,\n",
        "            loss=loss,\n",
        "            eval_metric_ops=eval_metrics)\n",
        "    else:\n",
        "      (predicted_labels, log_probs) = create_model(\n",
        "        is_predicting, input_ids, input_mask, segment_ids, label_ids, num_labels)\n",
        "\n",
        "      predictions = {\n",
        "          'probabilities': log_probs,\n",
        "          'labels': predicted_labels\n",
        "      }\n",
        "      return tf.estimator.EstimatorSpec(mode, predictions=predictions)\n",
        "\n",
        "  # Return the actual model function in the closure\n",
        "  return model_fn\n"
      ],
      "execution_count": 0,
      "outputs": []
    },
    {
      "cell_type": "code",
      "metadata": {
        "id": "NaXG5nYMoO_8",
        "colab_type": "code",
        "colab": {}
      },
      "source": [
        "# Compute train and warmup steps from batch size\n",
        "BATCH_SIZE = 32\n",
        "LEARNING_RATE = 2e-5\n",
        "NUM_TRAIN_EPOCHS = 3.0\n",
        "# Warmup is a period of time where the learning rate \n",
        "# is small and gradually increases--usually helps training.\n",
        "WARMUP_PROPORTION = 0.1\n",
        "# Model configs\n",
        "SAVE_CHECKPOINTS_STEPS = 500\n",
        "SAVE_SUMMARY_STEPS = 100"
      ],
      "execution_count": 0,
      "outputs": []
    },
    {
      "cell_type": "code",
      "metadata": {
        "id": "iwzQmIploUMV",
        "colab_type": "code",
        "colab": {}
      },
      "source": [
        "# Compute # train and warmup steps from batch size\n",
        "num_train_steps = int(len(train_features) / BATCH_SIZE * NUM_TRAIN_EPOCHS)\n",
        "num_warmup_steps = int(num_train_steps * WARMUP_PROPORTION)"
      ],
      "execution_count": 0,
      "outputs": []
    },
    {
      "cell_type": "code",
      "metadata": {
        "id": "RZJzDB0xoWdB",
        "colab_type": "code",
        "colab": {}
      },
      "source": [
        "# Specify output directory and number of checkpoint steps to save\n",
        "run_config = tf.estimator.RunConfig(\n",
        "    model_dir=OUTPUT_DIR,\n",
        "    save_summary_steps=SAVE_SUMMARY_STEPS,\n",
        "    save_checkpoints_steps=SAVE_CHECKPOINTS_STEPS)"
      ],
      "execution_count": 0,
      "outputs": []
    },
    {
      "cell_type": "code",
      "metadata": {
        "id": "M9JNwSjvoZLh",
        "colab_type": "code",
        "colab": {}
      },
      "source": [
        "model_fn = model_fn_builder(\n",
        "  num_labels=len(label_list),\n",
        "  learning_rate=LEARNING_RATE,\n",
        "  num_train_steps=num_train_steps,\n",
        "  num_warmup_steps=num_warmup_steps)\n",
        "\n",
        "estimator = tf.estimator.Estimator(\n",
        "  model_fn=model_fn,\n",
        "  config=run_config,\n",
        "  params={\"batch_size\": BATCH_SIZE})\n"
      ],
      "execution_count": 0,
      "outputs": []
    },
    {
      "cell_type": "code",
      "metadata": {
        "id": "Ya_wbyUVobIW",
        "colab_type": "code",
        "colab": {}
      },
      "source": [
        "# Create an input function for training. drop_remainder = True for using TPUs.\n",
        "train_input_fn = bert.run_classifier.input_fn_builder(\n",
        "    features=train_features,\n",
        "    seq_length=MAX_SEQ_LENGTH,\n",
        "    is_training=True,\n",
        "    drop_remainder=False)"
      ],
      "execution_count": 0,
      "outputs": []
    },
    {
      "cell_type": "code",
      "metadata": {
        "id": "VEZg6XoAod8M",
        "colab_type": "code",
        "colab": {}
      },
      "source": [
        "print(f'Beginning Training!')\n",
        "current_time = datetime.now()\n",
        "estimator.train(input_fn=train_input_fn, max_steps=num_train_steps)\n",
        "print(\"Training took time \", datetime.now() - current_time)"
      ],
      "execution_count": 0,
      "outputs": []
    },
    {
      "cell_type": "code",
      "metadata": {
        "id": "KJwXT7GHokev",
        "colab_type": "code",
        "colab": {}
      },
      "source": [
        "dev_input_fn = run_classifier.input_fn_builder(\n",
        "    features=dev_features,\n",
        "    seq_length=MAX_SEQ_LENGTH,\n",
        "    is_training=False,\n",
        "    drop_remainder=False)"
      ],
      "execution_count": 0,
      "outputs": []
    },
    {
      "cell_type": "code",
      "metadata": {
        "id": "GO9TLFijoxfp",
        "colab_type": "code",
        "colab": {}
      },
      "source": [
        "estimator.evaluate(input_fn=dev_input_fn, steps=None)"
      ],
      "execution_count": 0,
      "outputs": []
    },
    {
      "cell_type": "code",
      "metadata": {
        "id": "HnSNxswGTrkb",
        "colab_type": "code",
        "colab": {}
      },
      "source": [
        "test_input_fn = run_classifier.input_fn_builder(features=test_features, seq_length=MAX_SEQ_LENGTH, is_training=False, drop_remainder=False)\n",
        "estimator.evaluate(input_fn=test_input_fn, steps=None)"
      ],
      "execution_count": 0,
      "outputs": []
    },
    {
      "cell_type": "code",
      "metadata": {
        "id": "sF5XxSclkWff",
        "colab_type": "code",
        "colab": {}
      },
      "source": [
        "#Preparing predictions on new articles\n",
        "def getPrediction(in_news):\n",
        "  labels = [\"Real\", \"Fake\"]\n",
        "  input_examples = [run_classifier.InputExample(guid=\"\", text_a = x, text_b = None, label = 0) for x in in_news] # here, \"\" is just a dummy label\n",
        "  input_features = run_classifier.convert_examples_to_features(input_examples, label_list, MAX_SEQ_LENGTH, tokenizer_bert)\n",
        "  predict_input_fn = run_classifier.input_fn_builder(features=input_features, seq_length=MAX_SEQ_LENGTH, is_training=False, drop_remainder=False)\n",
        "  predictions = estimator.predict(predict_input_fn)\n",
        "  return [(prediction['probabilities'], labels[prediction['labels']]) for prediction in predictions]"
      ],
      "execution_count": 0,
      "outputs": []
    },
    {
      "cell_type": "code",
      "metadata": {
        "id": "aSL7aYoJmUB8",
        "colab_type": "code",
        "colab": {}
      },
      "source": [
        "pred_news = []\n",
        "pred_labels = []\n",
        "with open('/content/drive/My Drive/CS221_Project/pred_news.csv', newline='') as f:\n",
        "    reader = csv.reader(f)\n",
        "    for row in reader:\n",
        "      pred_news.append(row[0])\n",
        "      pred_labels.append(row[1])"
      ],
      "execution_count": 0,
      "outputs": []
    },
    {
      "cell_type": "code",
      "metadata": {
        "id": "k2I196GjEtLN",
        "colab_type": "code",
        "colab": {}
      },
      "source": [
        "print(pred_labels)"
      ],
      "execution_count": 0,
      "outputs": []
    },
    {
      "cell_type": "code",
      "metadata": {
        "id": "_SqArfc4m1md",
        "colab_type": "code",
        "colab": {}
      },
      "source": [
        "predictions = getPrediction(pred_news)"
      ],
      "execution_count": 0,
      "outputs": []
    },
    {
      "cell_type": "code",
      "metadata": {
        "id": "I8ratFluFR7r",
        "colab_type": "code",
        "colab": {}
      },
      "source": [
        "predictions"
      ],
      "execution_count": 0,
      "outputs": []
    },
    {
      "cell_type": "markdown",
      "metadata": {
        "id": "PsMuQrnWXtAe",
        "colab_type": "text"
      },
      "source": [
        "# **Data Analysis**"
      ]
    },
    {
      "cell_type": "markdown",
      "metadata": {
        "id": "YghPXl4Q56SB",
        "colab_type": "text"
      },
      "source": [
        "(TODO) Compare real vs fake corpus via:\n",
        "\n",
        "\n",
        "*   total #words, avg #words/news\n",
        "*   total #unique words, avg #unique words/news, \n",
        "*   total #char per news, avg #char per news\n",
        "*   total/avg unknown words? (due to abreviations, speaking language)\n",
        "*   topics, avg # top words per topic (via LDA), dictionary differences\n",
        "*   sentiment/emotion analysis\n",
        "*   style analysis ?\n"
      ]
    },
    {
      "cell_type": "markdown",
      "metadata": {
        "id": "0SoQCYTw10dd",
        "colab_type": "text"
      },
      "source": [
        "## Linguistic structure"
      ]
    },
    {
      "cell_type": "code",
      "metadata": {
        "id": "tG3ia_sH4jxc",
        "colab_type": "code",
        "colab": {}
      },
      "source": [
        "dataset_real = bert_dataset.loc[bert_dataset['class'] == 1]\n",
        "dataset_fake = bert_dataset.loc[bert_dataset['class'] == 0]"
      ],
      "execution_count": 0,
      "outputs": []
    },
    {
      "cell_type": "markdown",
      "metadata": {
        "id": "843lgMat4lJd",
        "colab_type": "text"
      },
      "source": [
        "Total #words, avg #words/news"
      ]
    },
    {
      "cell_type": "code",
      "metadata": {
        "id": "vVSKj5ga-tQZ",
        "colab_type": "code",
        "colab": {
          "base_uri": "https://localhost:8080/",
          "height": 54
        },
        "outputId": "b2b747bc-4039-4f7f-ea3d-642c085db658"
      },
      "source": [
        "count_real = 0\n",
        "for news in X_real:\n",
        "    count_real += len(news)    \n",
        "\n",
        "count_fake = 0\n",
        "for news in X_fake:\n",
        "    count_fake += len(news)    \n",
        "\n",
        "print(\"Total number of words in real news: \",count_real)\n",
        "print(\"Total number of words in fake news: \",count_fake)"
      ],
      "execution_count": 162,
      "outputs": [
        {
          "output_type": "stream",
          "text": [
            "Total number of words in real news:  4139461\n",
            "Total number of words in fake news:  3636857\n"
          ],
          "name": "stdout"
        }
      ]
    },
    {
      "cell_type": "code",
      "metadata": {
        "id": "7LIeMza7Acem",
        "colab_type": "code",
        "colab": {
          "base_uri": "https://localhost:8080/",
          "height": 54
        },
        "outputId": "fff28490-1754-4932-db4b-1de67687a112"
      },
      "source": [
        "avg_real = []\n",
        "for newsr in X_real:\n",
        "    avg_real.append(len(newsr))\n",
        "\n",
        "avg_fake = []\n",
        "for newsf in X_fake:\n",
        "    avg_fake.append(len(newsf))\n",
        "\n",
        "print(\"Average number of words in real news: \",mean(avg_real))\n",
        "print(\"Average number of words in fake news: \",mean(avg_fake))"
      ],
      "execution_count": 163,
      "outputs": [
        {
          "output_type": "stream",
          "text": [
            "Average number of words in real news:  264.6037458450524\n",
            "Average number of words in fake news:  232.4761569930964\n"
          ],
          "name": "stdout"
        }
      ]
    },
    {
      "cell_type": "code",
      "metadata": {
        "id": "NoHaxQQZCjOM",
        "colab_type": "code",
        "colab": {
          "base_uri": "https://localhost:8080/",
          "height": 444
        },
        "outputId": "dd2223cd-9ddc-427b-df66-ded7a315a2e8"
      },
      "source": [
        "plt.figure(figsize = (12,7))\n",
        "plt.hist(avg_fake, bins = 100, range = [0, 2000], label='Fake')\n",
        "plt.hist(avg_real, bins = 100, range = [0, 2000], alpha=0.5, label='Real')\n",
        "plt.legend(loc='upper right')\n",
        "plt.title('Distribution of number of words per news')\n",
        "plt.show()"
      ],
      "execution_count": 164,
      "outputs": [
        {
          "output_type": "display_data",
          "data": {
            "image/png": "[encoded data removed]",
            "text/plain": [
              "<Figure size 864x504 with 1 Axes>"
            ]
          },
          "metadata": {
            "tags": [],
            "needs_background": "light"
          }
        }
      ]
    },
    {
      "cell_type": "code",
      "metadata": {
        "id": "_hWo0Bg7Y4UO",
        "colab_type": "code",
        "colab": {
          "base_uri": "https://localhost:8080/",
          "height": 279
        },
        "outputId": "3a03099c-a6de-4882-beaa-b3202e42ea2c"
      },
      "source": [
        "#Five-numbers summary for each corpus \n",
        "def five_num_summary(dataframe):\n",
        "    quartiles = np.percentile([len(x.split()) for x in dataframe[\"text\"].tolist()], [0, 25, 50, 75, 100])\n",
        "    \n",
        "    return quartiles\n",
        "\n",
        "true_summ = five_num_summary(dataset_real)\n",
        "\n",
        "print(\"Text length - Five-number summary for true news:\")\n",
        "for i in range(0, 101,25):\n",
        "    print(\"{}'th %ile: {}\".format(i, int(true_summ[i//25])))\n",
        "    \n",
        "    \n",
        "print(\"\\n\")\n",
        "\n",
        "\n",
        "fake_summ = five_num_summary(dataset_fake)\n",
        "\n",
        "print(\"Text length - Five-number summary for fake news:\")\n",
        "for i in range(0, 101,25):\n",
        "    print(\"{}'th %ile: {}\".format(i, int(fake_summ[i//25])))"
      ],
      "execution_count": 165,
      "outputs": [
        {
          "output_type": "stream",
          "text": [
            "Text length - Five-number summary for true news:\n",
            "0'th %ile: 80\n",
            "25'th %ile: 175\n",
            "50'th %ile: 230\n",
            "75'th %ile: 317\n",
            "100'th %ile: 629\n",
            "\n",
            "\n",
            "Text length - Five-number summary for fake news:\n",
            "0'th %ile: 85\n",
            "25'th %ile: 164\n",
            "50'th %ile: 209\n",
            "75'th %ile: 277\n",
            "100'th %ile: 635\n"
          ],
          "name": "stdout"
        }
      ]
    },
    {
      "cell_type": "code",
      "metadata": {
        "id": "npM57TAJW9wn",
        "colab_type": "code",
        "colab": {
          "base_uri": "https://localhost:8080/",
          "height": 55
        },
        "outputId": "39af53c7-8209-4799-ee7c-59f8a6640a9a"
      },
      "source": [
        "#Checking examples of the shortest fake news\n",
        "X_fake_sorted = sorted(X_fake, key = len)\n",
        "print(X_fake_sorted[:20])"
      ],
      "execution_count": 166,
      "outputs": [
        {
          "output_type": "stream",
          "text": [
            "[['megyn', 'kelly', 'continues', 'obsession', 'angry', 'apologize', 'khan', 'man', 'certain', 'almost', 'looked', 'megyn', 'blood', 'coming', 'eyes', 'interview', 'soft', 'spoken', 'sensible', 'dr', 'ben', 'carson', 'megyn', 'kelly', 'pressed', 'dr', 'ben', 'carson', 'explain', 'khan', 'family', 'apologize', 'instead', 'way', 'around', 'carson', 'khans', 'things', 'false', 'never', 'read', 'constitution', 'kelly', 'khizr', 'khan', 'stating', 'opinion', 'carson', 'unreasonable', 'kelly', 'knew', 'carson', 'empathetic', 'kind', 'man', 'asked', 'really', 'believe', 'gold', 'star', 'family', 'apologize', 'sacrificed', 'son', 'protect', 'nation', 'viciously', 'attacked', 'presidential', 'nominee', 'owe', 'apology', 'carson', 'responded', 'society', 'gotten', 'tug', 'war', 'try', 'demonize', 'khans', 'need', 'realize', 'side', 'fox'], ['wikileaks', 'reminds', 'world', 'history', 'tapping', 'hacking', 'friends', 'rivals', 'wikileaks', 'founder', 'julian', 'assange', 'reminded', 'us', 'tweet', 'former', 'real', 'penchant', 'wire', 'tapping', 'hacking', 'conversations', 'world', 'leaders', 'rivals', 'friends', 'list', 'times', 'tapped', 'hacked', 'conversations', 'world', 'leaders', 'wikileaks', 'original', 'tweet', 'list', 'verifiable', 'times', 'exactly', 'accusing', 'towers', 'campaigning', 'link', 'actual', 'document', 'history', 'tapping', 'hacking', 'friends', 'rivals', 'nsa', 'prism', 'merkel', 'sarkozy', 'bankimoon', 'wto', '5cebcnkfgn', 'wikileaks', 'wikileaks', 'march', '2017watch', 'rt', 'host', 'discuss', 'hacking', 'merkel', 'phones', 'wiretapping', 'merkel', 'phone', 'years', 'even', 'elected', 'chancellor', 'surprise', 'wiretap', 'tower', 'amjoy', 'yf8cgi5zqp', 'amy', 'mek', 'amymek', 'march', '2017'], ['gop', 'official', 'drops', 'bombshell', 'angry', 'debate', 'lou', 'dobbs', 'john', 'kelly', 'video', 'top', 'gop', 'official', 'ed', 'rollins', 'interviewed', 'angry', 'lou', 'dobbs', 'furious', 'ringside', 'performance', 'john', 'kelly', 'aka', 'drama', 'queen', 'un', 'speech', 'saying', 'speech', 'chief', 'staff', 'behind', 'scenes', 'fired', 'even', 'supporter', 'voted', 'ed', 'rollins', 'least', 'heard', 'sources', 'inside', 'know', 'kelly', 'honorable', 'man', 'good', 'general', 'vote', 'voted', 'think', 'basically', 'supporter', 'ideologically', 'supporter', 'whaaaaaat', 'chief', 'staff', 'even', 'follow', 'belief', 'policy', 'controversy', 'whether', 'kelly', 'drama', 'queen', 'speech', 'great', 'case', 'democrats', 'trying', 'sabotage', 'matter', 'happened', 'still', 'shocking', 'chief', 'staff', 'bird', 'policy'], ['megyn', 'kelly', 'continues', 'obsession', 'angry', 'apologize', 'khan', 'man', 'certain', 'almost', 'looked', 'megyn', 'blood', 'coming', 'eyes', 'interview', 'soft', 'spoken', 'sensible', 'dr', 'ben', 'carson', 'megyn', 'kelly', 'pressed', 'dr', 'ben', 'carson', 'explain', 'khan', 'family', 'apologize', 'instead', 'way', 'around', 'carson', 'khans', 'things', 'false', 'never', 'read', 'constitution', 'kelly', 'khizr', 'khan', 'stating', 'opinion', 'carson', 'unreasonable', 'kelly', 'knew', 'carson', 'empathetic', 'kind', 'man', 'asked', 'really', 'believe', 'gold', 'star', 'family', 'apologize', 'sacrificed', 'son', 'protect', 'nation', 'viciously', 'attacked', 'presidential', 'nominee', 'owe', 'apology', 'carson', 'responded', 'society', 'gotten', 'tug', 'war', 'try', 'demonize', 'khans', 'need', 'realize', 'side', 'fox'], ['wikileaks', 'reminds', 'world', 'history', 'tapping', 'hacking', 'friends', 'rivals', 'wikileaks', 'founder', 'julian', 'assange', 'reminded', 'us', 'tweet', 'former', 'real', 'penchant', 'wire', 'tapping', 'hacking', 'conversations', 'world', 'leaders', 'rivals', 'friends', 'list', 'times', 'tapped', 'hacked', 'conversations', 'world', 'leaders', 'wikileaks', 'original', 'tweet', 'list', 'verifiable', 'times', 'exactly', 'accusing', 'towers', 'campaigning', 'link', 'actual', 'document', 'history', 'tapping', 'hacking', 'friends', 'rivals', 'nsa', 'prism', 'merkel', 'sarkozy', 'bankimoon', 'wto', '5cebcnkfgn', 'wikileaks', 'wikileaks', 'march', '2017watch', 'rt', 'host', 'discuss', 'hacking', 'merkel', 'phones', 'wiretapping', 'merkel', 'phone', 'years', 'even', 'elected', 'chancellor', 'surprise', 'wiretap', 'tower', 'amjoy', 'yf8cgi5zqp', 'amy', 'mek', 'amymek', 'march', '2017'], ['gif', 'biden', 'press', 'conference', 'us', 'image', 'reports', 'saying', 'always', 'complete', 'class', 'act', 'telling', 'everyone', 'house', 'show', 'team', 'respect', 'shown', 'basically', 'showing', 'us', 'take', 'high', 'road', 'even', 'things', 'look', 'bad', 'country', 'elected', 'guy', 'questioning', 'birth', 'five', 'years', 'probably', 'things', 'look', 'bad', 'nothing', 'says', 'clearly', 'gif', 'vice', 'joe', 'biden', 'press', 'conference', 'sorry', 'joe', 'direct', 'democracy', 'good', 'enough', 'united', 'states', 'turnout', 'high', 'enough', 'overcome', 'republican', 'election', 'rigging', 'look', 'face', 'says', 'let', 'appalled', 'terrified', 'future', 'country', 'everything', 'power', 'democrats', 'congress', 'must', 'done', 'protect', 'voted', 'slim', 'margin', 'stop', 'accomplishing', 'horrific', 'agenda', 'screencapture'], ['really', 'break', 'toe', 'friday', 'freelance', 'reporter', 'political', 'consultant', 'michael', 'hout', 'tweeted', 'photo', 'walking', 'forearm', 'crutches', 'yale', 'law', 'school', 'saturday', 'told', 'world', 'broke', 'toe', 'walking', 'downstairs', 'cup', 'coffee', 'hand', 'uk', 'promoting', 'ridiculous', 'book', 'happened', 'tells', 'story', 'everyone', 'else', 'fault', 'lost', 'presidential', 'election', 'yalelawsch', 'today', 'wearing', 'braces', 'kind', 'kdus19ckbu', 'michael', 'hout', 'michaeljhout', 'october', '22', '2017but', 'really', 'happened', 'washington', 'free', 'beacon', 'took', 'closer', 'look', 'story', 'see', 'really', 'broke', 'toe', 'bit', 'much', 'drink', 'hiding', 'interviews', 'new', 'uranium', 'story', 'broke', 'evidence', 'selling', '20', 'america', 'uranium', 'russia', 'return', 'contributions', 'foundation', 'slush', 'fund', 'watch'], ['gives', 'major', 'award', 'true', 'narcissist', 'twitter', 'goes', 'crazy', 'think', 'really', 'laughable', 'officially', 'declared', 'greatest', 'public', 'servant', 'tenure', 'secretary', 'carter', 'awarded', 'boss', 'medal', 'january', 'armed', 'forces', 'full', 'honor', 'farewell', 'review', 'held', 'conmy', 'hall', 'joint', 'base', 'myer', 'henderson', 'hall', 'virginia', 'carter', 'insisted', 'medal', 'token', 'appreciation', 'service', 'commander', 'chief', 'associated', 'press', 'reported', 'spending', 'last', 'weeks', 'throwing', 'roadblocks', 'path', 'elect', 'transition', 'team', 'nonetheless', 'claimed', 'remarks', 'members', 'military', 'attendance', 'got', 'make', 'sure', 'transition', 'period', 'seamless', 'passing', 'baton', 'continuity', 'house', 'correspondent', 'mark', 'knoller', 'marked', 'ceremony', 'tweet', 'followers', 'immediately', 'went', 'crazy', 'snarky', 'comments', 'breitbart'], ['really', 'break', 'toe', 'friday', 'freelance', 'reporter', 'political', 'consultant', 'michael', 'hout', 'tweeted', 'photo', 'walking', 'forearm', 'crutches', 'yale', 'law', 'school', 'saturday', 'told', 'world', 'broke', 'toe', 'walking', 'downstairs', 'cup', 'coffee', 'hand', 'uk', 'promoting', 'ridiculous', 'book', 'happened', 'tells', 'story', 'everyone', 'else', 'fault', 'lost', 'presidential', 'election', 'yalelawsch', 'today', 'wearing', 'braces', 'kind', 'kdus19ckbu', 'michael', 'hout', 'michaeljhout', 'october', '22', '2017but', 'really', 'happened', 'washington', 'free', 'beacon', 'took', 'closer', 'look', 'story', 'see', 'really', 'broke', 'toe', 'bit', 'much', 'drink', 'hiding', 'interviews', 'new', 'uranium', 'story', 'broke', 'evidence', 'selling', '20', 'america', 'uranium', 'russia', 'return', 'contributions', 'foundation', 'slush', 'fund', 'watch'], ['negotiating', 'slams', 'cbs', 'reporter', 'north', 'korea', 'video', 'negotiating', 'slams', 'cbs', 'reporter', 'north', 'korea', 'house', 'press', 'conference', 'went', 'little', 'hot', 'pointedly', 'put', 'cards', 'table', 'previous', 'administration', 'full', 'presser', 'held', 'press', 'conference', 'amir', 'kuwait', 'emir', 'arrived', 'washington', 'wednesday', 'ahead', 'meeting', 'discuss', 'economic', 'security', 'aspects', 'kuwait', 'starts', 'taking', 'questions', '13', '22', 'mark', 'welcomed', 'emir', 'house', 'reassuring', 'every', 'american', 'knows', 'negotiate', 'great', 'art', 'deal', 'art', 'stop', 'world', 'war', 'three', 'starting', 'trying', 'everything', 'keep', 'peace', 'let', 'north', 'korea', 'run', 'us', 'ability', 'hire', 'use', 'best', 'possible', 'cabinet', 'make', 'decisions', 'regarding', 'foreign', 'policy', 'better'], ['wow', 'emerges', 'admitting', 'foreign', 'leaders', 'contacted', 'campaign', 'discussed', 'could', 'stop', 'hey', 'robert', 'mueller', 'care', 'find', 'foreign', 'leaders', 'candidate', 'spoke', 'campaign', 'according', 'received', 'messages', 'foreign', 'leaders', 'asking', 'endorse', 'stop', 'becoming', 'already', 'receiving', 'messages', 'leaders', 'foreign', 'leaders', 'ask', 'endorse', 'stop', 'march', '2016hmmm', 'tape', 'candidate', 'admits', 'discussions', 'foreign', 'leaders', 'stop', 'becoming', 'speaking', 'democratic', 'presidential', 'townhall', 'meeting', 'columbus', 'ohio', 'march', '2016', 'thought', 'rather', 'clever', 'attempting', 'make', 'appear', 'though', 'wildly', 'unpopular', 'foreign', 'connections', 'bad', 'media', 'forgot', 'clip', 'treason', 'video', 'surfaces', 'admitting', 'contact', 'foreign', 'leaders', 'interfering', 'election', 'newt', 'fan', 'club', 'newttrump', 'july', '19', '2017'], ['hysterical', 'warns', 'sleepy', 'eyes', 'chuck', 'todd', 'stop', 'fake', 'total', 'scam', 'compared', 'ongoing', 'narrative', 'predictions', 'election', 'turned', 'false', 'fake', 'media', 'path', 'victory', 'pushing', 'phony', 'russia', 'story', 'wrote', 'total', 'scam', 'ongoing', 'story', 'fueled', 'former', 'national', 'security', 'adviser', 'mike', 'flynn', 'reports', 'willing', 'testify', 'congressional', 'investigation', 'campaign', 'granted', 'immunity', 'mike', 'flynn', 'ask', 'immunity', 'witch', 'hunt', 'twitter', 'week', 'friday', 'chuck', 'todd', 'criticized', 'fueling', 'russia', 'story', 'twitter', 'obviously', 'russia', 'cloud', 'darkens', 'time', 'problems', 'right', 'dealing', 'front', 'center', 'self', 'inflicted', 'person', 'united', 'states', 'could', 'help', 'tweet', 'wiretapping', 'nonsense', 'todd', 'interview', 'colleague', 'andrea', 'mitchell', 'read', 'breitbart'], ['judge', 'jeanine', 'furious', 'rino', 'plotting', 'take', 'cowardly', 'gop', 'sitting', 'back', 'watching', 'democrats', 'railroad', 'republican', 'defending', 'fox', 'channel', 'jeanine', 'pirro', 'went', 'gop', 'establishment', 'saturday', 'justice', 'pirro', 'accused', 'establishment', 'republicans', 'leaders', 'watching', 'democrats', 'railroad', 'urged', 'prove', 'loyalty', 'convincing', 'everyone', 'effort', 'take', 'republican', 'establishment', 'fighting', 'commander', 'chief', 'day', 'day', 'watch', 'savaged', 'forcing', 'defend', 'run', 'country', 'think', 'knocked', 'succession', 'clear', 'things', 'go', 'back', 'way', 'pirro', 'power', 'damn', 'later', 'exclaimed', 'something', 'pass', 'something', 'cut', 'kumbaya', 'crap', 'put', 'big', 'boy', 'pants', 'act', 'power', 'act', 'give', 'damn', 'importantly', 'convince', 'us', 'effort', 'take', 'united', 'states', 'breitbart'], ['fox', 'mocks', 'msnbc', 'chris', 'matthews', 'actually', 'big', 'story', 'g20', 'far', 'putin', 'spread', 'legs', 'msnbc', 'chris', 'matthews', 'deemed', 'big', 'story', 'much', 'anticipated', 'g20', 'meeting', 'vladimir', 'putin', 'manspreading', 'took', 'place', 'matthews', 'started', 'hardball', 'show', 'clip', 'russian', 'vladimir', 'putin', 'appeared', 'casual', 'conversation', 'sitting', 'next', 'facing', 'media', 'big', 'story', 'way', 'engaged', 'art', 'manspreading', 'widening', 'legs', 'far', 'wings', 'chairs', 'allow', 'stopped', 'laughing', 'fox', 'hosts', 'mocked', 'msnbc', 'thrill', 'leg', 'chris', 'matthews', 'making', 'embarrassing', 'petty', 'observation', 'fox', 'host', 'went', 'discuss', 'successful', 'foreign', 'trip', 'g20', 'meeting', 'world', 'leaders', 'discussing', 'things', 'movement', 'encouraging', 'china', 'reign', 'north', 'korea'], ['judge', 'jeanine', 'furious', 'rino', 'plotting', 'take', 'cowardly', 'gop', 'sitting', 'back', 'watching', 'democrats', 'railroad', 'republican', 'defending', 'fox', 'channel', 'jeanine', 'pirro', 'went', 'gop', 'establishment', 'saturday', 'justice', 'pirro', 'accused', 'establishment', 'republicans', 'leaders', 'watching', 'democrats', 'railroad', 'urged', 'prove', 'loyalty', 'convincing', 'everyone', 'effort', 'take', 'republican', 'establishment', 'fighting', 'commander', 'chief', 'day', 'day', 'watch', 'savaged', 'forcing', 'defend', 'run', 'country', 'think', 'knocked', 'succession', 'clear', 'things', 'go', 'back', 'way', 'pirro', 'power', 'damn', 'later', 'exclaimed', 'something', 'pass', 'something', 'cut', 'kumbaya', 'crap', 'put', 'big', 'boy', 'pants', 'act', 'power', 'act', 'give', 'damn', 'importantly', 'convince', 'us', 'effort', 'take', 'united', 'states', 'breitbart'], ['fox', 'mocks', 'msnbc', 'chris', 'matthews', 'actually', 'big', 'story', 'g20', 'far', 'putin', 'spread', 'legs', 'msnbc', 'chris', 'matthews', 'deemed', 'big', 'story', 'much', 'anticipated', 'g20', 'meeting', 'vladimir', 'putin', 'manspreading', 'took', 'place', 'matthews', 'started', 'hardball', 'show', 'clip', 'russian', 'vladimir', 'putin', 'appeared', 'casual', 'conversation', 'sitting', 'next', 'facing', 'media', 'big', 'story', 'way', 'engaged', 'art', 'manspreading', 'widening', 'legs', 'far', 'wings', 'chairs', 'allow', 'stopped', 'laughing', 'fox', 'hosts', 'mocked', 'msnbc', 'thrill', 'leg', 'chris', 'matthews', 'making', 'embarrassing', 'petty', 'observation', 'fox', 'host', 'went', 'discuss', 'successful', 'foreign', 'trip', 'g20', 'meeting', 'world', 'leaders', 'discussing', 'things', 'movement', 'encouraging', 'china', 'reign', 'north', 'korea'], ['priceless', 'home', 'depot', 'founder', 'zings', 'liberal', 'press', 'epic', 'response', 'puts', 'place', 'video', 'home', 'depot', 'co', 'founder', 'kenneth', 'langone', 'fake', 'media', 'hates', 'makes', 'irrelevant', 'belong', 'langone', 'supports', 'way', 'shy', 'saying', 'ken', 'langone', 'co', 'founder', 'home', 'depot', 'monday', 'cnbc', 'thinks', 'could', 'go', 'greatest', 'presidents', 'ever', 'guts', 'great', 'around', 'guy', 'got', 'guts', 'langone', 'squawk', 'box', 'got', 'great', 'around', 'added', 'house', 'counselor', 'kellyanne', 'conway', 'husband', 'lawyers', 'potential', 'go', 'greatest', 'presidents', 'ever', 'langone', 'later', 'argued', 'home', 'depot', 'co', 'founder', 'kennethlangone', 'fakenewsmedia', 'hates', 'presidenttrump', 'potus', 'makes', 'irrelevant', 'belongs', 'oriltvhprk', 'anomaly', 'anomaly1', 'may', '16', '2017'], ['judge', 'jeanine', 'furious', 'rino', 'plotting', 'take', 'cowardly', 'gop', 'sitting', 'back', 'watching', 'democrats', 'railroad', 'republican', 'defending', 'fox', 'channel', 'jeanine', 'pirro', 'went', 'gop', 'establishment', 'saturday', 'justice', 'pirro', 'accused', 'establishment', 'republicans', 'leaders', 'watching', 'democrats', 'railroad', 'urged', 'prove', 'loyalty', 'convincing', 'everyone', 'effort', 'take', 'republican', 'establishment', 'fighting', 'commander', 'chief', 'day', 'day', 'watch', 'savaged', 'forcing', 'defend', 'run', 'country', 'think', 'knocked', 'succession', 'clear', 'things', 'go', 'back', 'way', 'pirro', 'power', 'damn', 'later', 'exclaimed', 'something', 'pass', 'something', 'cut', 'kumbaya', 'crap', 'put', 'big', 'boy', 'pants', 'act', 'power', 'act', 'give', 'damn', 'importantly', 'convince', 'us', 'effort', 'take', 'united', 'states', 'breitbart'], ['seth', 'meyers', 'shows', 'clip', 'clip', 'incredible', 'stupidity', 'seth', 'meyers', 'takes', 'closer', 'look', 'segment', 'destroy', 'press', 'secretary', 'sean', 'spicer', 'meyers', 'found', 'examples', 'stupidity', 'behalf', 'house', 'including', 'reference', 'something', 'george', 'bush', 'clearly', 'went', 'head', 'bush', 'oval', 'office', 'shape', 'corners', 'hide', 'brought', 'recent', 'interview', 'john', 'dickerson', 'cbs', 'face', 'nation', 'referred', 'show', 'deface', 'nation', 'calling', 'outlets', 'anything', 'new', 'first', 'time', 'reporter', 'face', 'taping', 'interview', 'show', 'question', 'comedian', 'done', 'eviscerated', 'performance', 'press', 'secretary', 'seems', 'make', 'less', 'less', 'sense', 'daily', 'press', 'briefings', 'despite', 'spicer', 'claims', 'new', 'border', 'fence', 'paid', 'previous', 'administrations', 'lloyd', 'bishop', 'nbc'], ['beyonce', 'jay', 'represent', 'blacks', 'women', '21st', 'century', 'wire', 'says', 'great', 'myths', 'spun', 'establishment', 'media', 'support', 'women', 'latinos', 'blacks', 'us', 'turned', 'lie', 'propagated', 'failed', 'attempt', 'margnalize', 'republican', 'voters', 'give', 'false', 'impression', 'liberal', 'democratic', 'mandate', 'america', 'end', 'gathered', '29', 'latinos', 'african', 'americans', '49', 'college', 'educated', 'women', 'months', 'mainstream', 'media', 'pundits', 'polls', 'insisted', 'demographics', 'exclusively', 'could', 'got', 'wrong', 'psychologist', 'intenet', 'radio', 'personality', 'kiki', 'green', 'explains', 'blacks', 'conned', 'voting', 'partnership', 'democratic', 'party', 'hollywood', 'campaign', 'cynically', 'using', 'celebrities', 'beyonce', 'jay', 'katie', 'perry', 'warning', 'adult', 'language', 'please', 'advised', 'support', '21wire', 'subscribe', 'become', 'member', '21wire', 'tv']]\n"
          ],
          "name": "stdout"
        }
      ]
    },
    {
      "cell_type": "code",
      "metadata": {
        "id": "2l89DJojXg4W",
        "colab_type": "code",
        "colab": {
          "base_uri": "https://localhost:8080/",
          "height": 55
        },
        "outputId": "d72961a6-4e6f-4fa2-ef67-858903220134"
      },
      "source": [
        "#Checking examples of the shortest real news\n",
        "X_real_sorted = sorted(X_real, key = len)\n",
        "print(X_real_sorted[:10])"
      ],
      "execution_count": 167,
      "outputs": [
        {
          "output_type": "stream",
          "text": [
            "[['london', 'mayor', 'says', 'britain', 'host', 'visit', 'london', 'mayor', 'sadiq', 'khan', 'sunday', 'wrong', 'britain', 'host', 'donald', 'visit', 'describing', 'leader', 'views', 'islam', 'ignorant', 'khan', 'history', 'presidential', 'election', 'campaign', 'khan', 'among', 'many', 'spoke', 'proposed', 'ban', 'muslims', 'entering', 'idea', 'play', 'hands', 'extremists', 'criticized', 'khan', 'accusing', 'mayor', 'making', 'pathetic', 'excuse', 'statement', 'urging', 'londoners', 'alarmed', 'presence', 'additional', 'police', 'streets', 'response', 'attack', 'june', 'annual', 'conference', 'opposition', 'labour', 'party', 'khan', 'told', 'audience', 'guardianlive', 'thought', 'visit', 'prime', 'minister', 'theresa', 'may', 'still', 'planned', 'wrong', 'sometimes', 'think', 'ignorant', 'adding', 'job', 'educate'], ['cnn', 'faults', 'muslim', 'community', 'reporting', 'like', 'orlando', 'shooter', 'presidential', 'candidate', 'donald', 'faulted', 'muslim', 'community', 'monday', 'reporting', 'like', 'man', 'carried', 'orlando', 'gay', 'nightclub', 'attack', 'killing', '49', 'wounding', '53', 'others', 'presumptive', 'nominee', 'told', 'cnn', 'thought', 'orlando', 'nightclub', 'shooter', 'omar', 'mateen', 'known', 'muslim', 'community', 'someone', 'potential', 'violence', 'find', 'many', 'knew', 'felt', 'whack', 'job', 'something', 'like', 'happened', 'told', 'cnn', 'phone', 'interview', 'knew', 'ex', 'wife', 'report', 'reason', 'muslim', 'community', 'report', 'like', 'needed', 'better', 'intelligence', 'gathering', 'prevent', 'things', 'happening', 'look', 'mosques', 'look', 'community', 'believe', 'community', 'knows', 'potential', 'blow'], ['vows', 'strong', 'ties', 'israel', 'elected', 'presidential', 'front', 'runner', 'donald', 'vowed', 'monday', 'pursue', 'strong', 'alliance', 'israel', 'elected', 'november', 'resist', 'attempt', 'nations', 'impose', 'jewish', 'speech', 'american', 'israel', 'public', 'affairs', 'committee', 'side', 'israel', 'close', 'ally', 'negotiations', 'israelis', 'palestinians', 'palestinians', 'must', 'come', 'table', 'knowing', 'bond', 'israel', 'unbreakable', 'must', 'come', 'table', 'willing', 'able', 'stop', 'terror', 'committed', 'daily', 'basis', 'israel', 'must', 'come', 'table', 'willing', 'accept', 'israel', 'jewish', 'forever', 'exist', 'jewish', 'told', 'pro', 'israel', 'lobbying', 'group', 'questioned', 'role', 'nations', 'peace', 'process', 'saying', 'attempt', 'international', 'body', 'impose', 'middle', 'east', 'agreement', 'disaster'], ['expected', 'make', 'vp', 'announcement', 'friday', 'sources', 'presumptive', 'presidential', 'nominee', 'donald', 'expected', 'announce', 'choice', 'running', 'mate', 'campaign', 'event', 'friday', 'campaign', 'sources', 'tuesday', 'among', 'possible', 'picks', 'former', 'representatives', 'speaker', 'newt', 'gingrich', 'indiana', 'governor', 'mike', 'pence', 'jersey', 'governor', 'chris', 'christie', 'retired', 'lieutenant', 'general', 'michael', 'flynn', 'according', 'media', 'reports', 'sources', 'five', 'told', 'fox', 'news', 'tuesday', 'pence', 'introduced', 'campaign', 'rally', 'westfield', 'indiana', 'tuesday', 'evening', 'know', 'going', 'governor', 'vice', 'hell', 'knows', 'told', 'rally', 'gingrich', 'christie', 'campaigned', 'recent', 'weeks', 'national', 'convention', 'set', 'formally', 'nominated', 'party', 'candidate', 'nov', 'election', 'begins', 'monday', 'cleveland'], ['france', 'macron', 'tells', 'concerned', 'jerusalem', 'plans', 'french', 'emmanuel', 'macron', 'told', 'donald', 'monday', 'worried', 'possibility', 'unilaterally', 'recognize', 'jerusalem', 'capital', 'israel', 'macron', 'office', 'statement', 'french', 'expressed', 'concern', 'possibility', 'unilaterally', 'recognize', 'jerusalem', 'capital', 'israel', 'statement', 'macron', 'spoke', 'phone', 'mr', 'emmanuel', 'macron', 'reaffirmed', 'question', 'jerusalem', 'status', 'dealt', 'framework', 'peace', 'negotiations', 'israelis', 'palestinians', 'aim', 'particular', 'establish', 'two', 'countries', 'israel', 'palestine', 'living', 'peace', 'security', 'side', 'side', 'jerusalem', 'capital', 'yet', 'made', 'decision', 'whether', 'formally', 'recognize', 'jerusalem', 'israel', 'capital', 'adviser', 'son', 'law', 'jared', 'kushner', 'sunday', 'move', 'break', 'decades', 'policy', 'fuel', 'violence', 'middle', 'east'], ['nominate', 'strict', 'constructionist', 'supreme', 'court', 'pence', 'vice', 'mike', 'pence', 'told', 'lawmakers', 'thursday', 'donald', 'keep', 'promise', 'nominate', 'strict', 'constructionist', 'supreme', 'court', 'announce', 'nomination', 'top', 'court', 'next', 'week', 'strict', 'construction', 'manner', 'interpreting', 'constitution', 'using', 'literal', 'narrow', 'definition', 'language', 'document', 'without', 'regard', 'changes', 'occurred', 'american', 'society', 'since', '18th', 'century', 'document', 'written', 'pence', 'told', 'lawmakers', 'hoped', 'move', 'quickly', 'confirm', 'supreme', 'court', 'nominee', 'name', 'released', 'reviewing', 'list', 'potential', 'nominees', 'already', 'tip', 'going', 'keep', 'promise', 'american', 'going', 'nominate', 'strict', 'constructionist', 'supreme', 'court', 'pence', 'applause', 'nominee', 'possess', 'top', 'notch', 'legal', 'mind', 'added'], ['sudan', 'bashir', 'says', 'support', 'governor', '2020', 'vote', 'sudanese', 'omar', 'hassan', 'al', 'bashir', 'thursday', 'support', 'governor', 'country', 'gezira', '2020', 'presidential', 'elections', 'mohamed', 'tahir', 'ayala', 'decided', 'stand', 'bashir', 'came', 'power', '1989', 'bloodless', 'coup', 'wanted', 'international', 'criminal', 'court', 'face', 'charges', 'war', 'crimes', 'darfur', 'plans', 'stand', '2020', 'ayala', 'runs', '2020', 'support', 'bashir', 'speech', 'broadcast', 'television', 'ayala', 'head', 'gezira', 'branch', 'ruling', 'national', 'congress', 'party', 'later', 'thursday', 'commented', 'bashir', 'support', 'saying', 'back', 'sudanese', 'ran', 'third', 'term', 'office', 'demand', 'gezira', 'demand', '2020', 'bashir', 'elected', 'third', 'term', 'office', 'demand', 'sudanese', 'ayala', 'public', 'gathering', 'attended'], ['met', 'fed', 'yellen', 'fed', 'chair', 'search', 'white', 'official', 'donald', 'met', 'thursday', 'federal', 'reserve', 'chair', 'janet', 'yellen', 'white', 'official', 'considers', 'whether', 'give', 'yellen', 'term', 'nominate', 'someone', 'else', 'yellen', 'fifth', 'five', 'short', 'list', 'get', 'formal', 'sit', 'considers', 'pick', 'yellen', 'job', 'current', 'term', 'expires', 'february', 'others', 'consist', 'chief', 'economic', 'adviser', 'gary', 'cohn', 'along', 'former', 'fed', 'governor', 'kevin', 'warsh', 'fed', 'governor', 'jerome', 'powell', 'stanford', 'university', 'economist', 'john', 'taylor', 'expected', 'announce', 'decision', 'nominate', 'nov', 'day', 'leaves', 'tour', 'asia', 'told', 'reporters', 'tuesday', 'likes', 'five', 'candidates', 'make', 'decision', 'next', 'fairly', 'short', 'period', 'time'], ['germany', 'first', 'line', 'send', 'troops', 'afghanistan', 'minister', 'germany', 'immediately', 'send', 'troops', 'afghanistan', 'response', 'donald', 'request', 'backing', 'increased', 'presence', 'last', 'time', 'others', 'cutting', 'defense', 'minister', 'ursula', 'von', 'der', 'leyen', 'welcomed', 'commitment', 'continuing', 'mission', 'germany', 'among', 'first', 'nations', 'contribute', 'increased', 'troop', 'numbers', '18', 'percent', 'last', 'others', 'cutting', 'visit', 'submarine', 'base', 'north', 'germany', 'tuesday', 'see', 'front', 'row', 'asked', 'soldiers', 'run', 'white', 'last', 'pledge', 'withdraw', 'swiftly', 'afghanistan', 'reversed', 'course', 'monday', 'promised', 'stepped', 'military', 'campaign', 'taliban', 'insurgents', 'saying', 'troops', 'fight', 'win', 'officials', 'signed', 'plans', 'send', '000', 'troops', 'add', 'roughly', '400', 'deployed', 'afghanistan'], ['british', 'pm', 'cameron', 'stands', 'divisive', 'stupid', 'wrong', 'comment', 'spokesman', 'british', 'prime', 'minister', 'david', 'cameron', 'stands', 'description', 'donald', 'proposal', 'temporary', 'ban', 'muslims', 'entering', 'divisive', 'stupid', 'wrong', 'spokesman', 'monday', 'asked', 'cameron', 'criticism', 'comments', 'indicate', 'unlikely', 'good', 'relationship', 'british', 'prime', 'minister', 'prime', 'minister', 'made', 'views', 'donald', 'comments', 'clear', 'disagrees', 'spokesman', 'continues', 'believe', 'preventing', 'muslims', 'entering', 'divisive', 'stupid', 'wrong', 'stands', 'comments', 'asked', 'cameron', 'prefer', 'next', 'spokesman', 'comment', 'another', 'country', 'election', 'british', 'leader', 'clear', 'work', 'whoever', 'committed', 'maintaining', 'special', 'relationship', 'spokesman', 'meeting', 'call', 'cameron', 'candidate', 'currently', 'planned', 'one', 'proposed', 'prime', 'minister', 'consider']]\n"
          ],
          "name": "stdout"
        }
      ]
    },
    {
      "cell_type": "markdown",
      "metadata": {
        "id": "P7kQq-8s40Z3",
        "colab_type": "text"
      },
      "source": [
        "Total #unique words, avg #unique words/news"
      ]
    },
    {
      "cell_type": "code",
      "metadata": {
        "id": "xXR1PrO-4zC1",
        "colab_type": "code",
        "colab": {
          "base_uri": "https://localhost:8080/",
          "height": 54
        },
        "outputId": "b128a75e-a51a-44fc-f544-d3d3a2d91639"
      },
      "source": [
        "print(\"Total unique words in real news: \",len(cnt_real))\n",
        "print(\"Total unique words in fake news: \",len(cnt_fake))"
      ],
      "execution_count": 168,
      "outputs": [
        {
          "output_type": "stream",
          "text": [
            "Total unique words in real news:  64205\n",
            "Total unique words in fake news:  77506\n"
          ],
          "name": "stdout"
        }
      ]
    },
    {
      "cell_type": "code",
      "metadata": {
        "id": "vrzmNhuu-nFk",
        "colab_type": "code",
        "colab": {}
      },
      "source": [
        ""
      ],
      "execution_count": 0,
      "outputs": []
    },
    {
      "cell_type": "markdown",
      "metadata": {
        "id": "CjAORFH145u3",
        "colab_type": "text"
      },
      "source": [
        "Total #char per news, avg #char per news"
      ]
    },
    {
      "cell_type": "code",
      "metadata": {
        "id": "HG1ZAQS9ASZH",
        "colab_type": "code",
        "colab": {
          "base_uri": "https://localhost:8080/",
          "height": 444
        },
        "outputId": "efaed025-6827-4e92-de74-a9468780d2f3"
      },
      "source": [
        "#Comparison of news lengths in characters number between Real and Fake news\n",
        "plt.figure(figsize = (12,7))\n",
        "dataset_fake['text'].str.len().hist(bins = 100, range = [0, 20000])\n",
        "dataset_real['text'].str.len().hist(alpha=0.5, bins = 100, range = [0, 20000])\n",
        "plt.title('Number of characters per news')\n",
        "plt.legend(['Fake', 'Real'])\n",
        "plt.show()"
      ],
      "execution_count": 169,
      "outputs": [
        {
          "output_type": "display_data",
          "data": {
            "image/png": "[encoded data removed]",
            "text/plain": [
              "<Figure size 864x504 with 1 Axes>"
            ]
          },
          "metadata": {
            "tags": [],
            "needs_background": "light"
          }
        }
      ]
    },
    {
      "cell_type": "code",
      "metadata": {
        "id": "Jw_krZc27AW7",
        "colab_type": "code",
        "colab": {
          "base_uri": "https://localhost:8080/",
          "height": 54
        },
        "outputId": "f764ae2c-2fa9-41e6-d4f6-6b11c8714d14"
      },
      "source": [
        "from statistics import mean\n",
        "print(\"Real mean news length (in words #): \",mean(dataset_real['text'].str.len()))\n",
        "print(\"Fake mean news length (in words #): \",mean(dataset_fake['text'].str.len()))"
      ],
      "execution_count": 139,
      "outputs": [
        {
          "output_type": "stream",
          "text": [
            "Real mean news length (in words #):  1645.786860092063\n",
            "Fake mean news length (in words #):  1759.77374808202\n"
          ],
          "name": "stdout"
        }
      ]
    },
    {
      "cell_type": "markdown",
      "metadata": {
        "id": "Y93w0_Q6-TdN",
        "colab_type": "text"
      },
      "source": [
        "## Words frequency"
      ]
    },
    {
      "cell_type": "code",
      "metadata": {
        "id": "XKzew2W-uc-m",
        "colab_type": "code",
        "colab": {}
      },
      "source": [
        "#Word Cloud on real news\n",
        "text = ''\n",
        "for news in dataset_real.text.values:\n",
        "    text += news\n",
        "wordcloud = WordCloud(\n",
        "    width = 3000,\n",
        "    height = 2000,\n",
        "    background_color = 'white',\n",
        "    stopwords = set(nltk.corpus.stopwords.words(\"english\"))).generate(text)\n",
        "fig = plt.figure(\n",
        "    figsize = (40, 30),\n",
        "    facecolor = 'k',\n",
        "    edgecolor = 'k')\n",
        "plt.imshow(wordcloud, interpolation = 'bilinear')\n",
        "plt.axis('off')\n",
        "plt.show()\n",
        "del text"
      ],
      "execution_count": 0,
      "outputs": []
    },
    {
      "cell_type": "code",
      "metadata": {
        "id": "-s4d_YQRujOU",
        "colab_type": "code",
        "colab": {}
      },
      "source": [
        "#Word Cloud on fake news\n",
        "text = ''\n",
        "for news in dataset_fake.text.values:\n",
        "    text += news\n",
        "wordcloud = WordCloud(\n",
        "    width = 3000,\n",
        "    height = 2000,\n",
        "    background_color = 'white',\n",
        "    stopwords = set(nltk.corpus.stopwords.words(\"english\"))).generate(text)\n",
        "fig = plt.figure(\n",
        "    figsize = (40, 30),\n",
        "    facecolor = 'k',\n",
        "    edgecolor = 'k')\n",
        "plt.imshow(wordcloud, interpolation = 'bilinear')\n",
        "plt.axis('off')\n",
        "plt.show()\n",
        "del text"
      ],
      "execution_count": 0,
      "outputs": []
    },
    {
      "cell_type": "code",
      "metadata": {
        "id": "thTWjMf6UUbz",
        "colab_type": "code",
        "colab": {}
      },
      "source": [
        "#Let's analyze most frequent words\n",
        "corpus_real=[word for i in X_real for word in i]\n",
        "counter_real=Counter(corpus_real)\n",
        "most_real=counter_real.most_common()\n",
        "\n",
        "x1, x2= [], []\n",
        "for word,count in most_real[:40]:\n",
        "    if (word not in stop_words and len(word) > 1):\n",
        "        x1.append(word)\n",
        "        x2.append(count)\n",
        " \n",
        "corpus_fake=[word for j in X_fake for word in j]\n",
        "counter_fake=Counter(corpus_fake)\n",
        "most_fake=counter_fake.most_common()\n",
        "\n",
        "x3, x4= [], []\n",
        "for word,count in most_fake[:40]:\n",
        "    if (word not in stop_words and len(word) > 1):\n",
        "        x3.append(word)\n",
        "        x4.append(count)\n",
        "\n",
        "fig,(ax1, ax2) = plt.subplots(1,2)\n",
        "sns.barplot(x=x2[:20],y=x1[:20],ax=ax1).set_title('Real')\n",
        "sns.barplot(x=x4[:20],y=x3[:20],ax=ax2).set_title('Fake')\n",
        "fig.tight_layout()"
      ],
      "execution_count": 0,
      "outputs": []
    },
    {
      "cell_type": "markdown",
      "metadata": {
        "id": "wYhtMYDMGdbJ",
        "colab_type": "text"
      },
      "source": [
        "Bigrams and trigrams in both classes"
      ]
    },
    {
      "cell_type": "code",
      "metadata": {
        "id": "gW2doTmu5SdN",
        "colab_type": "code",
        "colab": {}
      },
      "source": [
        "from sklearn.feature_extraction.text import CountVectorizer\n",
        "def get_top_ngram(corpus, n=None):\n",
        "    vec = CountVectorizer(stop_words='english', lowercase=True, ngram_range=(n, n)).fit(corpus)\n",
        "    bag_of_words = vec.transform(corpus)\n",
        "    sum_words = bag_of_words.sum(axis=0) \n",
        "    words_freq = [(word, sum_words[0, idx]) \n",
        "                  for word, idx in vec.vocabulary_.items()]\n",
        "    words_freq =sorted(words_freq, key = lambda x: x[1], reverse=True)\n",
        "    return words_freq[:20]\n",
        "\n",
        "top_n_bigrams_real=get_top_ngram(dataset_real['text'],2)[:20]\n",
        "x_,y_=map(list,zip(*top_n_bigrams_real))\n",
        "top_n_bigrams_fake=get_top_ngram(dataset_fake['text'],2)[:20]\n",
        "w_,z_=map(list,zip(*top_n_bigrams_fake))\n",
        "\n",
        "fig,(ax1, ax2) = plt.subplots(1,2)\n",
        "sns.barplot(x=y_,y=x_,ax=ax1).set_title('Real')\n",
        "sns.barplot(x=z_,y=w_,ax=ax2).set_title('Fake')\n",
        "fig.tight_layout()"
      ],
      "execution_count": 0,
      "outputs": []
    },
    {
      "cell_type": "markdown",
      "metadata": {
        "id": "5TSxgzkD5ICE",
        "colab_type": "text"
      },
      "source": [
        "## TF-IDF, k-means (to be continued)"
      ]
    },
    {
      "cell_type": "code",
      "metadata": {
        "id": "lO2Cqg_cCYPU",
        "colab_type": "code",
        "colab": {}
      },
      "source": [
        "#Alternative method of analyzing ngrams via TfidfVectorizer\n",
        "from sklearn.feature_extraction.text import TfidfVectorizer\n",
        "class NewTfidfVectorizer(TfidfVectorizer):\n",
        "    def _word_ngrams(self, tokens, stop_words=None):\n",
        "\n",
        "        # First get tokens without stop words\n",
        "        tokens = super(TfidfVectorizer, self)._word_ngrams(tokens, None)\n",
        "        if stop_words is not None:\n",
        "            new_tokens=[]\n",
        "            for token in tokens:\n",
        "                split_words = token.split(' ')\n",
        "\n",
        "                # Only check the first and last word for stop words\n",
        "                if split_words[0] not in stop_words and split_words[-1] not in stop_words:\n",
        "                    new_tokens.append(token)\n",
        "            return new_tokens\n",
        "\n",
        "        return tokens\n",
        "\n",
        "vectorizer = NewTfidfVectorizer(stop_words='english', ngram_range=(3,3))\n",
        "vectorizer.fit(bert_dataset[\"text\"])"
      ],
      "execution_count": 0,
      "outputs": []
    },
    {
      "cell_type": "code",
      "metadata": {
        "id": "J4ePxHZssEZJ",
        "colab_type": "code",
        "colab": {}
      },
      "source": [
        "#K-means\n",
        "#we can also pursue dimensionality reduction using LSA (I can write this code) if we want to improve further.\n",
        "X_vec = vectorizer.fit_transform(bert_dataset['text'])\n",
        "labels = bert_dataset['class']\n",
        "true_k = np.unique(labels).shape[0]\n",
        "\n",
        "km = MiniBatchKMeans(n_clusters=true_k, init='k-means++', n_init=1,init_size=1000, \n",
        "                     batch_size=1000, verbose=False)\n",
        "print(\"Clustering sparse data with %s\" % km)\n",
        "km.fit(X_vec)\n",
        "\n",
        "print(\"Homogeneity: %0.3f\" % metrics.homogeneity_score(labels, km.labels_))\n",
        "print(\"Completeness: %0.3f\" % metrics.completeness_score(labels, km.labels_))\n",
        "print(\"V-measure: %0.3f\" % metrics.v_measure_score(labels, km.labels_))\n",
        "print(\"Adjusted Rand-Index: %.3f\" % metrics.adjusted_rand_score(labels, km.labels_))\n",
        "print(\"Silhouette Coefficient: %0.3f\" % metrics.silhouette_score(X_vec, km.labels_, sample_size=1000))\n",
        "\n",
        "print()"
      ],
      "execution_count": 0,
      "outputs": []
    },
    {
      "cell_type": "markdown",
      "metadata": {
        "id": "i7wCW4KDRjrY",
        "colab_type": "text"
      },
      "source": [
        "## Topic Modeling exploration with pyLDAvis"
      ]
    },
    {
      "cell_type": "code",
      "metadata": {
        "id": "bJlGSLo1Ri_v",
        "colab_type": "code",
        "colab": {}
      },
      "source": [
        "#Tokenization and lemmatization\n",
        "from nltk.stem import PorterStemmer, WordNetLemmatizer\n",
        "\n",
        "def preprocess_news(df):\n",
        "    corpus=[]\n",
        "    stem=PorterStemmer()\n",
        "    lem=WordNetLemmatizer()\n",
        "    for news in df['text']:\n",
        "        words=[w for w in nltk.word_tokenize(news) if (w not in stop_words)]\n",
        "        \n",
        "        words=[lem.lemmatize(w) for w in words if len(w)>2]\n",
        "        \n",
        "        corpus.append(words)\n",
        "    return corpus\n",
        "\n",
        "corpus_real=preprocess_news(dataset_real)\n",
        "corpus_fake=preprocess_news(dataset_fake)"
      ],
      "execution_count": 0,
      "outputs": []
    },
    {
      "cell_type": "code",
      "metadata": {
        "id": "Z5TRVHw_SRhi",
        "colab_type": "code",
        "colab": {}
      },
      "source": [
        "#Let’s create the bag of words model using gensim\n",
        "dic_real=gensim.corpora.Dictionary(corpus_real)\n",
        "bow_corpus_real = [dic_real.doc2bow(doc_real) for doc_real in corpus_real]\n",
        "\n",
        "dic_fake=gensim.corpora.Dictionary(corpus_fake)\n",
        "bow_corpus_fake = [dic_fake.doc2bow(doc_fake) for doc_fake in corpus_fake]"
      ],
      "execution_count": 0,
      "outputs": []
    },
    {
      "cell_type": "code",
      "metadata": {
        "id": "bnxHjfmxSVjb",
        "colab_type": "code",
        "colab": {}
      },
      "source": [
        "#And finally create the LDA models\n",
        "lda_model_real = gensim.models.LdaMulticore(bow_corpus_real, \n",
        "                                   num_topics = 4, \n",
        "                                   id2word = dic_real,                                    \n",
        "                                   passes = 10,\n",
        "                                   workers = 2)\n",
        "lda_model_real.show_topics()"
      ],
      "execution_count": 0,
      "outputs": []
    },
    {
      "cell_type": "code",
      "metadata": {
        "id": "BXbSVZPjjlJj",
        "colab_type": "code",
        "colab": {}
      },
      "source": [
        "#And finally create the LDA models\n",
        "lda_model_fake = gensim.models.LdaMulticore(bow_corpus_fake, \n",
        "                                   num_topics = 4, \n",
        "                                   id2word = dic_fake,                                    \n",
        "                                   passes = 10,\n",
        "                                   workers = 2)\n",
        "lda_model_fake.show_topics()"
      ],
      "execution_count": 0,
      "outputs": []
    },
    {
      "cell_type": "code",
      "metadata": {
        "id": "MO1l_wCkRjYo",
        "colab_type": "code",
        "colab": {}
      },
      "source": [
        "%%capture\n",
        "!pip install pyLDAvis"
      ],
      "execution_count": 0,
      "outputs": []
    },
    {
      "cell_type": "code",
      "metadata": {
        "id": "janW-UYHO27Y",
        "colab_type": "code",
        "colab": {}
      },
      "source": [
        "import pyLDAvis.gensim\n",
        "pyLDAvis.enable_notebook()\n",
        "vis_real = pyLDAvis.gensim.prepare(lda_model_real, bow_corpus_real, dic_real)\n",
        "vis_real"
      ],
      "execution_count": 0,
      "outputs": []
    },
    {
      "cell_type": "code",
      "metadata": {
        "id": "h5-PlvD7jwtC",
        "colab_type": "code",
        "colab": {}
      },
      "source": [
        "import pyLDAvis.gensim\n",
        "pyLDAvis.enable_notebook()\n",
        "vis_fake = pyLDAvis.gensim.prepare(lda_model_fake, bow_corpus_fake, dic_fake)\n",
        "vis_fake"
      ],
      "execution_count": 0,
      "outputs": []
    },
    {
      "cell_type": "markdown",
      "metadata": {
        "id": "wr2qO_KRfnJc",
        "colab_type": "text"
      },
      "source": [
        "## Readibility index (using Flesch reading ease score formula)\n",
        "\n",
        "*   90-100 : Very Easy\n",
        "*   80-89 : Easy\n",
        "*   70-79 : Fairly Easy\n",
        "*   60-69 : Standard\n",
        "*   50-59 : Fairly Difficult\n",
        "*   30-49 : Difficult\n",
        "*   0-29 : Very Confusing\n",
        "\n",
        "The formula for calculating the flesch reading easiness score is given below:\n",
        "\n",
        "RE = 206.835 – (1.015 x ASL) – (84.6 x ASW)\n",
        "\n",
        "RE = Readability Ease\n",
        "\n",
        "ASL = Average Sentence Length (i.e., the number of words divided by the number of sentences)\n",
        "\n",
        "ASW = Average number of syllables per word (i.e., the number of syllables divided by the number of words)"
      ]
    },
    {
      "cell_type": "code",
      "metadata": {
        "id": "sEDUNd3AgCmj",
        "colab_type": "code",
        "colab": {}
      },
      "source": [
        "%%capture\n",
        "!pip install textstat"
      ],
      "execution_count": 0,
      "outputs": []
    },
    {
      "cell_type": "code",
      "metadata": {
        "id": "z0Lc3bPmfpo9",
        "colab_type": "code",
        "colab": {}
      },
      "source": [
        "#The analysis must be performed on the original dataset, before data preprocessing\n",
        "import textstat as ts\n",
        "\n",
        "real_news_readability = []\n",
        "fake_news_readability = []\n",
        "\n",
        "for sentence in dataset.loc[dataset['class'] == 1][\"text\"].tolist():\n",
        "    temp = ts.flesch_reading_ease(sentence)\n",
        "    real_news_readability.append(temp)\n",
        "    \n",
        "for sentence in dataset.loc[dataset['class'] == 0][\"text\"].tolist():\n",
        "    temp = ts.flesch_reading_ease(sentence)\n",
        "    fake_news_readability.append(temp)"
      ],
      "execution_count": 0,
      "outputs": []
    },
    {
      "cell_type": "code",
      "metadata": {
        "id": "KIvud74fgOjR",
        "colab_type": "code",
        "colab": {}
      },
      "source": [
        "real_readability_df = pd.Series(real_news_readability)\n",
        "fake_readability_df = pd.Series(fake_news_readability)\n",
        "\n",
        "plt.figure(figsize = (12,7))\n",
        "plt.hist(fake_readability_df, bins = 10, range = [0, 100], label = \"fake-news readability\")\n",
        "plt.hist(real_readability_df, bins = 10, range = [0, 100], alpha = 0.5, label = \"real-news readability\")\n",
        "plt.xlabel(\"Flesch readability easiness for a news article\", fontsize = 12)\n",
        "plt.ylabel(\"Number of articles with x word length\", fontsize = 12)\n",
        "plt.title(\"Class wise Flesch readability ease score distribution\", fontsize = 15)\n",
        "plt.legend()\n",
        "plt.show()"
      ],
      "execution_count": 0,
      "outputs": []
    },
    {
      "cell_type": "markdown",
      "metadata": {
        "id": "g1w9W9W7A3RN",
        "colab_type": "text"
      },
      "source": [
        "## Sentiment analysis"
      ]
    },
    {
      "cell_type": "markdown",
      "metadata": {
        "id": "BtSHJfRgOVY6",
        "colab_type": "text"
      },
      "source": [
        "With Vader library\n",
        "\n",
        "```\n",
        "Vader uses a bag of words approach (a lookup table of positive and negative words) with some simple heuristics (e.g. increasing the intensity of the sentiment if some words like “really”, “so” or “a bit” are present).`\n",
        "The advantage of this approach is that sentences containing negated positive words (e.g. “not happy”, “not good”) will still receive a negative sentence sentiment (thanks to the heuristics to flip the sentiment of the word following a negation).\n",
        "Vader is sensitive to punctuation, capitalization, degree modifiers, Preceding Tri-gram\n",
        "```\n",
        "The compound score is computed by summing the valence scores of each word in the lexicon, adjusted according to the rules, and then normalized to be between -1 (most extreme negative) and +1 (most extreme positive). This is the most useful metric if you want a single unidimensional measure of sentiment for a given sentence. Calling it a 'normalized, weighted composite score' is accurate.\n",
        "*   Positive sentiment: compound score >= 0.05\n",
        "*   Neutral sentiment: (compound score > -0.05) and (compound score < 0.05)\n",
        "*   Negative sentiment: compound score <= -0.05\n",
        "\n",
        "The pos, neu, and neg scores are ratios for proportions of text that fall in each category. These are the most useful metrics if you want multidimensional measures of sentiment for a given sentence."
      ]
    },
    {
      "cell_type": "code",
      "metadata": {
        "id": "y3R4NnFFA4We",
        "colab_type": "code",
        "colab": {}
      },
      "source": [
        "from nltk.sentiment.vader import SentimentIntensityAnalyzer\n",
        "nltk.download('vader_lexicon')\n",
        "vader = SentimentIntensityAnalyzer()"
      ],
      "execution_count": 0,
      "outputs": []
    },
    {
      "cell_type": "code",
      "metadata": {
        "id": "d5yYk-yyDBYc",
        "colab_type": "code",
        "colab": {}
      },
      "source": [
        "vader.polarity_scores('this is great work')"
      ],
      "execution_count": 0,
      "outputs": []
    },
    {
      "cell_type": "code",
      "metadata": {
        "id": "j1HwWq89BFHA",
        "colab_type": "code",
        "colab": {}
      },
      "source": [
        "# Checking with non preprocessed data (hence including punctuation, upper case, etc.)\n",
        "vader_real = []\n",
        "sentiments_real = dataset.loc[dataset['class'] == 1][\"text\"].tolist()\n",
        "\n",
        "for i in range(len(sentiments_real)):\n",
        "  vader_real.append(vader.polarity_scores(str(sentiments_real[i])))\n",
        "\n",
        "comp = []\n",
        "pos = []\n",
        "neg = []\n",
        "neu = []\n",
        "for j in range(len(vader_real)):\n",
        "  comp.append(vader_real[j]['compound'])\n",
        "  pos.append(vader_real[j]['pos'])\n",
        "  neg.append(vader_real[j]['neg'])\n",
        "  neu.append(vader_real[j]['neu'])\n",
        "\n",
        "print(\"Compound: \",sum(comp)/len(comp), \"Positive: \",sum(pos)/len(pos),\"Neutral: \", sum(neu)/len(neu),\"Negative :\", sum(neg)/len(neg))"
      ],
      "execution_count": 0,
      "outputs": []
    },
    {
      "cell_type": "code",
      "metadata": {
        "id": "2BQOq1nHEwj1",
        "colab_type": "code",
        "colab": {}
      },
      "source": [
        "vader_fake = []\n",
        "sentiments_fake = dataset.loc[dataset['class'] == 0][\"text\"].tolist()\n",
        "\n",
        "for i in range(len(sentiments_fake)):\n",
        "  vader_fake.append(vader.polarity_scores(sentiments_fake[i]))\n",
        "\n",
        "comp_fake = []\n",
        "pos_fake = []\n",
        "neg_fake = []\n",
        "neu_fake = []\n",
        "for j in range(len(vader_fake)):\n",
        "  comp_fake.append(vader_fake[j]['compound'])\n",
        "  pos_fake.append(vader_fake[j]['pos'])\n",
        "  neg_fake.append(vader_fake[j]['neg'])\n",
        "  neu_fake.append(vader_fake[j]['neu'])\n",
        "\n",
        "print(\"Compound: \",sum(comp_fake)/len(comp_fake), \"Positive: \",sum(pos_fake)/len(pos_fake),\"Neutral: \", sum(neu_fake)/len(neu_fake),\"Negative :\", sum(neg_fake)/len(neg_fake))"
      ],
      "execution_count": 0,
      "outputs": []
    },
    {
      "cell_type": "code",
      "metadata": {
        "id": "_vsXZeFtRkuS",
        "colab_type": "code",
        "colab": {}
      },
      "source": [
        "# Checking the same with preprocessed data (without punctuation, upper case, etc.)\n",
        "vader_real = []\n",
        "sentiments_real_bert = bert_dataset.loc[bert_dataset['class'] == 1][\"text\"].tolist()\n",
        "\n",
        "for i in range(len(sentiments_real_bert)):\n",
        "  vader_real.append(vader.polarity_scores(str(sentiments_real_bert[i])))\n",
        "\n",
        "comp = []\n",
        "pos = []\n",
        "neg = []\n",
        "neu = []\n",
        "for j in range(len(vader_real)):\n",
        "  comp.append(vader_real[j]['compound'])\n",
        "  pos.append(vader_real[j]['pos'])\n",
        "  neg.append(vader_real[j]['neg'])\n",
        "  neu.append(vader_real[j]['neu'])\n",
        "\n",
        "print(\"Compound: \",sum(comp)/len(comp), \"Positive: \",sum(pos)/len(pos),\"Neutral: \", sum(neu)/len(neu),\"Negative :\", sum(neg)/len(neg))"
      ],
      "execution_count": 0,
      "outputs": []
    },
    {
      "cell_type": "code",
      "metadata": {
        "id": "pOuTIH-ZRywa",
        "colab_type": "code",
        "colab": {}
      },
      "source": [
        "vader_fake = []\n",
        "sentiments_fake_bert = bert_dataset.loc[bert_dataset['class'] == 0][\"text\"].tolist()\n",
        "\n",
        "for i in range(len(sentiments_fake_bert)):\n",
        "  vader_fake.append(vader.polarity_scores(sentiments_fake_bert[i]))\n",
        "\n",
        "comp_fake = []\n",
        "pos_fake = []\n",
        "neg_fake = []\n",
        "neu_fake = []\n",
        "for j in range(len(vader_fake)):\n",
        "  comp_fake.append(vader_fake[j]['compound'])\n",
        "  pos_fake.append(vader_fake[j]['pos'])\n",
        "  neg_fake.append(vader_fake[j]['neg'])\n",
        "  neu_fake.append(vader_fake[j]['neu'])\n",
        "\n",
        "print(\"Compound: \",sum(comp_fake)/len(comp_fake), \"Positive: \",sum(pos_fake)/len(pos_fake),\"Neutral: \", sum(neu_fake)/len(neu_fake),\"Negative :\", sum(neg_fake)/len(neg_fake))"
      ],
      "execution_count": 0,
      "outputs": []
    },
    {
      "cell_type": "code",
      "metadata": {
        "id": "FdyjDuZmWLWZ",
        "colab_type": "code",
        "colab": {}
      },
      "source": [
        "vader.polarity_scores(sentiments_real[10])"
      ],
      "execution_count": 0,
      "outputs": []
    },
    {
      "cell_type": "markdown",
      "metadata": {
        "id": "aNm6X0GtQCos",
        "colab_type": "text"
      },
      "source": [
        "With TextBlob\n",
        "\n",
        "\n",
        "```\n",
        "TextBlob uses a bag of words classifier, but the advantage is that it includes Subjectivity Analysis too (how factual/opinionated a piece of text is).\n",
        "However, it doesn’t contain the heuristics that NLTK has, and so it won’t intensify or negate a sentence’s sentiment.\n",
        "```\n",
        "\n",
        "\n",
        "*   polarity: negative vs. positive    (-1.0 => +1.0)\n",
        "*   subjectivity: objective vs. subjective (+0.0 => +1.0)\n",
        "\n"
      ]
    },
    {
      "cell_type": "code",
      "metadata": {
        "id": "QmkoOYgQQE0L",
        "colab_type": "code",
        "colab": {}
      },
      "source": [
        "from textblob import TextBlob\n",
        "TextBlob(sentiments_real[10]).sentiment\n"
      ],
      "execution_count": 0,
      "outputs": []
    },
    {
      "cell_type": "code",
      "metadata": {
        "id": "tENhs_3_W-_u",
        "colab_type": "code",
        "colab": {}
      },
      "source": [
        "# Checking with non preprocessed data (hence including punctuation, upper case, etc.)\n",
        "pol_real = []\n",
        "subj_real = []\n",
        "\n",
        "for i in range(len(sentiments_real)):\n",
        "  pol_real.append(TextBlob(sentiments_real[i]).sentiment.polarity)\n",
        "  subj_real.append(TextBlob(sentiments_real[i]).sentiment.subjectivity)\n",
        "\n",
        "print(\"Polarity: \",mean(pol_real), \"Subjectivity: \",mean(subj_real))"
      ],
      "execution_count": 0,
      "outputs": []
    },
    {
      "cell_type": "code",
      "metadata": {
        "id": "QSgrImWOZPR5",
        "colab_type": "code",
        "colab": {}
      },
      "source": [
        "pol_fake = []\n",
        "subj_fake = []\n",
        "\n",
        "for i in range(len(sentiments_fake)):\n",
        "  pol_fake.append(TextBlob(sentiments_fake[i]).sentiment.polarity)\n",
        "  subj_fake.append(TextBlob(sentiments_fake[i]).sentiment.subjectivity)\n",
        "\n",
        "print(\"Polarity: \",mean(pol_fake), \"Subjectivity: \",mean(subj_fake))"
      ],
      "execution_count": 0,
      "outputs": []
    },
    {
      "cell_type": "code",
      "metadata": {
        "id": "4xsZrOH2ZgbM",
        "colab_type": "code",
        "colab": {}
      },
      "source": [
        "# Checking the same with preprocessed data (without punctuation, upper case, etc.)\n",
        "pol_real = []\n",
        "subj_real = []\n",
        "\n",
        "for i in range(len(sentiments_real_bert)):\n",
        "  pol_real.append(TextBlob(sentiments_real_bert[i]).sentiment.polarity)\n",
        "  subj_real.append(TextBlob(sentiments_real_bert[i]).sentiment.subjectivity)\n",
        "\n",
        "print(\"Polarity: \",mean(pol_real), \"Subjectivity: \",mean(subj_real))"
      ],
      "execution_count": 0,
      "outputs": []
    },
    {
      "cell_type": "code",
      "metadata": {
        "id": "Hi4umXqnZgm-",
        "colab_type": "code",
        "colab": {}
      },
      "source": [
        "pol_fake = []\n",
        "subj_fake = []\n",
        "\n",
        "for i in range(len(sentiments_fake_bert)):\n",
        "  pol_fake.append(TextBlob(sentiments_fake_bert[i]).sentiment.polarity)\n",
        "  subj_fake.append(TextBlob(sentiments_fake_bert[i]).sentiment.subjectivity)\n",
        "\n",
        "print(\"Polarity: \",mean(pol_fake), \"Subjectivity: \",mean(subj_fake))"
      ],
      "execution_count": 0,
      "outputs": []
    },
    {
      "cell_type": "markdown",
      "metadata": {
        "id": "3oMwDd6RQFbp",
        "colab_type": "text"
      },
      "source": [
        "With Fair\n",
        "\n",
        "\n",
        "```\n",
        "Flair’s sentiment classifier is based on a character-level LSTM neural network which takes sequences of letters and words into account when predicting.\n",
        "The network has learnt to take negations into account, as well as intensifiers.\n",
        "It can also predict OOV words that it has never seen before (contrary to the 2 other libraries)\n",
        "```\n",
        "\n"
      ]
    },
    {
      "cell_type": "code",
      "metadata": {
        "id": "FpgN0I5EQGep",
        "colab_type": "code",
        "colab": {}
      },
      "source": [
        "#%%capture\n",
        "#!pip3 install flair\n",
        "#import flair"
      ],
      "execution_count": 0,
      "outputs": []
    },
    {
      "cell_type": "code",
      "metadata": {
        "id": "W09e39GxWWnz",
        "colab_type": "code",
        "colab": {}
      },
      "source": [
        "#flair_sentiment = flair.models.TextClassifier.load('en-sentiment')\n",
        "#s = flair.data.Sentence(sentiments_real[10])\n",
        "#flair_sentiment.predict(s)\n",
        "#total_sentiment = s.labels\n",
        "#total_sentiment"
      ],
      "execution_count": 0,
      "outputs": []
    },
    {
      "cell_type": "markdown",
      "metadata": {
        "id": "trJZh36gXaej",
        "colab_type": "text"
      },
      "source": [
        "## Naive Bayes Text feature importance"
      ]
    },
    {
      "cell_type": "code",
      "metadata": {
        "id": "vu4SNNLGXctR",
        "colab_type": "code",
        "colab": {}
      },
      "source": [
        "# getting the indexes of the top features by class\n",
        "fake_prob_sorted = naive_bayes_model.feature_log_prob_[0, :].argsort()\n",
        "real_prob_sorted = naive_bayes_model.feature_log_prob_[1, :].argsort()\n",
        "\n",
        "# getting the top feature names\n",
        "fake_top_features = np.take(vectorizer.get_feature_names(), fake_prob_sorted[:20])\n",
        "real_top_features = np.take(vectorizer.get_feature_names(), real_prob_sorted[:20])\n",
        "\n",
        "# creating dictionaries for each class with the feature name and log probability\n",
        "real_dict = {k:v for k, v in zip(\n",
        "                                real_top_features, \n",
        "                                np.take(naive_bayes_model.feature_log_prob_[0, :], real_prob_sorted[:20])\n",
        "                                )\n",
        "            }\n",
        "\n",
        "fake_dict = {k:v for k, v in zip(\n",
        "                                fake_top_features, \n",
        "                                np.take(naive_bayes_model.feature_log_prob_[1, :], fake_prob_sorted[:20])\n",
        "                                )\n",
        "            }"
      ],
      "execution_count": 0,
      "outputs": []
    },
    {
      "cell_type": "code",
      "metadata": {
        "id": "LDK6GX3vXsFS",
        "colab_type": "code",
        "colab": {}
      },
      "source": [
        "# creating a dataframe using the dictionaries of top terms per class\n",
        "top_terms = pd.DataFrame.from_dict(real_dict, orient='index')\n",
        "top_terms.reset_index(inplace=True)\n",
        "top_terms.rename(columns={'index': 'term', 0: 'log_prob'}, inplace=True)\n",
        "top_terms['label'] = 'Real'\n",
        "\n",
        "# add the top terms for the fake class\n",
        "for term, log_prob in fake_dict.items():\n",
        "    top_terms = top_terms.append({'term': term, 'log_prob': log_prob, 'label': 'Fake'}, ignore_index=True)\n",
        "\n",
        "# convert log probability to odds ratio\n",
        "top_terms['odds'] = top_terms.log_prob.apply(np.exp)\n",
        "\n",
        "# sort alphabetically\n",
        "top_terms = top_terms.sort_values('term', ascending=True)"
      ],
      "execution_count": 0,
      "outputs": []
    },
    {
      "cell_type": "code",
      "metadata": {
        "id": "tk3l6mxkXyOn",
        "colab_type": "code",
        "colab": {}
      },
      "source": [
        "# creating dictionary to be used for plotting\n",
        "y_map = {term: y for y, term in zip(range(0, top_terms.shape[0]), top_terms.term)}\n",
        "\n",
        "plot_map = {} \n",
        "for index, row in top_terms.iterrows():\n",
        "    term = row['term']\n",
        "    \n",
        "    plot_map[term] = {\n",
        "        'x': row['odds'],\n",
        "        'y': y_map[term],\n",
        "        'c': 'red' if row['label'] == 'Fake' else 'blue'\n",
        "    } \n"
      ],
      "execution_count": 0,
      "outputs": []
    },
    {
      "cell_type": "code",
      "metadata": {
        "id": "hxv9bd4JX0kp",
        "colab_type": "code",
        "colab": {}
      },
      "source": [
        "# plotting\n",
        "fig = plt.figure(figsize=(8, 8))\n",
        "_ = plt.scatter(\n",
        "            [value['x'] for key, value in plot_map.items()], \n",
        "            [value['y'] + 5 for key, value in plot_map.items()],\n",
        "            s=5,\n",
        "            color=[value['c'] for key, value in plot_map.items()],\n",
        ")\n",
        "\n",
        "_ = plt.scatter(\n",
        "    [0]* top_terms.shape[0],\n",
        "    [r + 5 for r in range(0, top_terms.shape[0])],\n",
        "    s=5,\n",
        "    color='grey'\n",
        ")\n",
        "\n",
        "plt.legend()\n",
        "plt.yticks(ticks=[r + 5 for r in range(0, top_terms.shape[0])], labels=y_map.keys())\n",
        "plt.xlabel('Odds Ratio')\n",
        "plt.ylabel('Term')\n",
        "plt.title('Top Important Terms by Class')\n",
        "plt.show()"
      ],
      "execution_count": 0,
      "outputs": []
    },
    {
      "cell_type": "markdown",
      "metadata": {
        "id": "qHQycRpLZDKR",
        "colab_type": "text"
      },
      "source": [
        "## K-Means on W2V vectors"
      ]
    },
    {
      "cell_type": "code",
      "metadata": {
        "id": "2E0vK_djhiIn",
        "colab_type": "code",
        "colab": {}
      },
      "source": [
        "from sklearn.cluster import KMeans\n",
        "from sklearn.neighbors import KDTree\n",
        "from itertools import cycle\n",
        "\n",
        "def clustering_on_wordvecs(word_vectors, num_clusters):\n",
        "    # Initalize a k-means object and use it to extract centroids\n",
        "    kmeans_clustering = KMeans(n_clusters = num_clusters, init='k-means++')\n",
        "    idx = kmeans_clustering.fit_predict(word_vectors)\n",
        "    \n",
        "    return kmeans_clustering.cluster_centers_, idx\n",
        "\n",
        "def get_top_words(index2word, k, centers, wordvecs):\n",
        "    tree = KDTree(wordvecs);\n",
        "\n",
        "    #Closest points for each Cluster center is used to query the closest 20 points to it.\n",
        "    closest_points = [tree.query(np.reshape(x, (1, -1)), k=k) for x in centers]\n",
        "    closest_words_idxs = [x[1] for x in closest_points]\n",
        "\n",
        "    #Word Index is queried for each position in the above array, and added to a Dictionary.\n",
        "    closest_words = {}\n",
        "    for i in range(0, len(closest_words_idxs)):\n",
        "        closest_words['Cluster #' + str(i+1).zfill(2)] = [index2word[j] for j in closest_words_idxs[i][0]]\n",
        "\n",
        "    #A DataFrame is generated from the dictionary.\n",
        "    df = pd.DataFrame(closest_words)\n",
        "    df.index = df.index+1\n",
        "\n",
        "    return df\n",
        "\n",
        "pd.set_option('display.max_columns', None)\n",
        "pd.set_option('display.max_rows', None)\n",
        "\n",
        "\n",
        "def display_cloud(cluster_num, cmap, words_df):\n",
        "    wc = WordCloud(background_color=\"black\", max_words=2000, max_font_size=80, colormap=cmap)\n",
        "    wordcloud = wc.generate(' '.join([word for word in words_df['Cluster #' + str(cluster_num).zfill(2)]]))\n",
        "\n",
        "    plt.imshow(wordcloud, interpolation='bilinear')\n",
        "    plt.axis(\"off\")\n",
        "    plt.savefig('cluster_' + str(cluster_num), bbox_inches='tight')\n",
        "\n",
        "\n",
        "cmaps = cycle([\n",
        "            'flag', 'prism', 'ocean', 'gist_earth', 'terrain', 'gist_stern',\n",
        "            'gnuplot', 'gnuplot2', 'CMRmap', 'cubehelix', 'brg', 'hsv',\n",
        "            'gist_rainbow', 'rainbow', 'jet', 'nipy_spectral', 'gist_ncar'])\n",
        "\n",
        "NUM_CLUSTERS = 20\n",
        "EMBEDDING_DIM = 100"
      ],
      "execution_count": 0,
      "outputs": []
    },
    {
      "cell_type": "code",
      "metadata": {
        "id": "UJk_dITKlbNJ",
        "colab_type": "code",
        "colab": {}
      },
      "source": [
        "w2v_model_real = gensim.models.Word2Vec(sentences=X_real, size=EMBEDDING_DIM, window=5, min_count=1)\n",
        "w2v_model_fake = gensim.models.Word2Vec(sentences=X_fake, size=EMBEDDING_DIM, window=5, min_count=1)"
      ],
      "execution_count": 0,
      "outputs": []
    },
    {
      "cell_type": "markdown",
      "metadata": {
        "id": "DV3-ZOAhheeR",
        "colab_type": "text"
      },
      "source": [
        "Starting with Fake news"
      ]
    },
    {
      "cell_type": "code",
      "metadata": {
        "id": "tf9exdYeZDvb",
        "colab_type": "code",
        "colab": {}
      },
      "source": [
        "centers_fake, clusters_fake = clustering_on_wordvecs(w2v_model_fake.wv.syn0, NUM_CLUSTERS)\n",
        "centroid_map_fake = dict(zip(w2v_model_fake.wv.index2word, clusters_fake))"
      ],
      "execution_count": 0,
      "outputs": []
    },
    {
      "cell_type": "code",
      "metadata": {
        "id": "EsVrapw8Zbwu",
        "colab_type": "code",
        "colab": {}
      },
      "source": [
        "#Getting words in each cluster that are closest to the cluster center\n",
        "top_words_fake = get_top_words(w2v_model_fake.wv.index2word, 20, centers_fake, w2v_model_fake.wv.syn0)\n",
        "top_words_fake"
      ],
      "execution_count": 0,
      "outputs": []
    },
    {
      "cell_type": "code",
      "metadata": {
        "id": "CdAdK4mxaCcl",
        "colab_type": "code",
        "colab": {}
      },
      "source": [
        "#Displaying clusters via WordClouds\n",
        "for fi in range(NUM_CLUSTERS):\n",
        "    col = next(cmaps)\n",
        "    display_cloud(fi+1, col, top_words_fake)\n",
        "\n",
        "plt.show()"
      ],
      "execution_count": 0,
      "outputs": []
    },
    {
      "cell_type": "markdown",
      "metadata": {
        "id": "14Vmosbui7rw",
        "colab_type": "text"
      },
      "source": [
        "And with Real news"
      ]
    },
    {
      "cell_type": "code",
      "metadata": {
        "id": "FW_EwVXWi85g",
        "colab_type": "code",
        "colab": {}
      },
      "source": [
        "centers_real, clusters_real = clustering_on_wordvecs(w2v_model_real.wv.syn0, NUM_CLUSTERS)\n",
        "centroid_map_real = dict(zip(w2v_model_real.wv.index2word, clusters_real))"
      ],
      "execution_count": 0,
      "outputs": []
    },
    {
      "cell_type": "code",
      "metadata": {
        "id": "CkB9i3GBgX3J",
        "colab_type": "code",
        "colab": {}
      },
      "source": [
        "#Getting words in each cluster that are closest to the cluster center\n",
        "top_words_real = get_top_words(w2v_model_real.wv.index2word, 20, centers_real, w2v_model_real.wv.syn0)\n",
        "top_words_real"
      ],
      "execution_count": 0,
      "outputs": []
    },
    {
      "cell_type": "code",
      "metadata": {
        "id": "yZdJb7ysjTDo",
        "colab_type": "code",
        "colab": {}
      },
      "source": [
        "#Displaying clusters via WordClouds\n",
        "for ri in range(NUM_CLUSTERS):\n",
        "    col = next(cmaps);\n",
        "    display_cloud(ri+1, col, top_words_real)\n",
        "\n",
        "plt.show()"
      ],
      "execution_count": 0,
      "outputs": []
    },
    {
      "cell_type": "code",
      "metadata": {
        "id": "jEml4CU1jsqK",
        "colab_type": "code",
        "colab": {}
      },
      "source": [
        ""
      ],
      "execution_count": 0,
      "outputs": []
    }
  ]
}