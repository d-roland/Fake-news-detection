{
  "nbformat": 4,
  "nbformat_minor": 0,
  "metadata": {
    "colab": {
      "name": "CS221_Fake_news_detection.ipynb",
      "provenance": [],
      "collapsed_sections": [],
      "toc_visible": true,
      "include_colab_link": true
    },
    "kernelspec": {
      "name": "python3",
      "display_name": "Python 3"
    }
  },
  "cells": [
    {
      "cell_type": "markdown",
      "metadata": {
        "id": "view-in-github",
        "colab_type": "text"
      },
      "source": [
        "<a href=\"https://colab.research.google.com/github/d-roland/Fake-news-detection/blob/master/CS221_Fake_news_detection.ipynb\" target=\"_parent\"><img src=\"https://colab.research.google.com/assets/colab-badge.svg\" alt=\"Open In Colab\"/></a>"
      ]
    },
    {
      "cell_type": "code",
      "metadata": {
        "id": "Mf5CXgzbgWXl",
        "colab_type": "code",
        "outputId": "cb701d93-889b-4584-cfdc-81731065f2e9",
        "colab": {
          "base_uri": "https://localhost:8080/",
          "height": 35
        }
      },
      "source": [
        "%tensorflow_version 1.x"
      ],
      "execution_count": 1,
      "outputs": [
        {
          "output_type": "stream",
          "text": [
            "TensorFlow 1.x selected.\n"
          ],
          "name": "stdout"
        }
      ]
    },
    {
      "cell_type": "code",
      "metadata": {
        "id": "c_ENWtf9TBnA",
        "colab_type": "code",
        "outputId": "4f37af90-4ecf-4879-d38b-c7a8c7e92f35",
        "colab": {
          "base_uri": "https://localhost:8080/",
          "height": 129
        }
      },
      "source": [
        "import warnings\n",
        "warnings.filterwarnings('ignore')\n",
        "import pandas as pd\n",
        "import matplotlib.pyplot as plt\n",
        "import numpy as np\n",
        "import seaborn as sns\n",
        "import re\n",
        "import csv\n",
        "from collections import Counter, defaultdict\n",
        "from wordcloud import WordCloud\n",
        "import nltk\n",
        "nltk.download(\"stopwords\")\n",
        "nltk.download('wordnet')\n",
        "nltk.download('punkt')\n",
        "from nltk.stem import WordNetLemmatizer\n",
        "import gensim\n",
        "import tensorflow as tf\n",
        "import tensorflow_hub as hub\n",
        "from tensorflow import keras\n",
        "from tensorflow.keras.preprocessing.text import Tokenizer\n",
        "from tensorflow.keras.preprocessing.sequence import pad_sequences\n",
        "from tensorflow.keras.models import Sequential\n",
        "from tensorflow.keras.layers import Dense, Embedding, LSTM, Conv1D, MaxPool1D\n",
        "from sklearn.model_selection import train_test_split\n",
        "from sklearn.metrics import classification_report, accuracy_score, confusion_matrix\n",
        "from sklearn import metrics\n",
        "from sklearn.cluster import KMeans, MiniBatchKMeans\n",
        "from datetime import datetime\n",
        "from statistics import mean"
      ],
      "execution_count": 2,
      "outputs": [
        {
          "output_type": "stream",
          "text": [
            "[nltk_data] Downloading package stopwords to /root/nltk_data...\n",
            "[nltk_data]   Package stopwords is already up-to-date!\n",
            "[nltk_data] Downloading package wordnet to /root/nltk_data...\n",
            "[nltk_data]   Package wordnet is already up-to-date!\n",
            "[nltk_data] Downloading package punkt to /root/nltk_data...\n",
            "[nltk_data]   Package punkt is already up-to-date!\n"
          ],
          "name": "stdout"
        }
      ]
    },
    {
      "cell_type": "code",
      "metadata": {
        "id": "vMTDJKlAQJOV",
        "colab_type": "code",
        "outputId": "8f935201-4a4e-4d8a-980c-6aae0ec14656",
        "colab": {
          "base_uri": "https://localhost:8080/",
          "height": 35
        }
      },
      "source": [
        "from google.colab import auth\n",
        "from oauth2client.client import GoogleCredentials\n",
        "from google.colab import drive\n",
        "drive.mount('/content/drive')"
      ],
      "execution_count": 3,
      "outputs": [
        {
          "output_type": "stream",
          "text": [
            "Drive already mounted at /content/drive; to attempt to forcibly remount, call drive.mount(\"/content/drive\", force_remount=True).\n"
          ],
          "name": "stdout"
        }
      ]
    },
    {
      "cell_type": "markdown",
      "metadata": {
        "id": "NjaWZbnT1caV",
        "colab_type": "text"
      },
      "source": [
        "# **Gathering data**"
      ]
    },
    {
      "cell_type": "markdown",
      "metadata": {
        "id": "GHHOy9lxriat",
        "colab_type": "text"
      },
      "source": [
        "## Integrating BuzzFeed Real News"
      ]
    },
    {
      "cell_type": "code",
      "metadata": {
        "id": "NpT6U87aPqxq",
        "colab_type": "code",
        "outputId": "2fb78f8b-26e4-49ee-d48f-d1f43423338b",
        "colab": {
          "base_uri": "https://localhost:8080/",
          "height": 35
        }
      },
      "source": [
        "bfreal = pd.read_csv('/content/drive/My Drive/CS221_Project/BuzzFeed_real_news_content.csv')\n",
        "bfreal.shape"
      ],
      "execution_count": 4,
      "outputs": [
        {
          "output_type": "execute_result",
          "data": {
            "text/plain": [
              "(91, 12)"
            ]
          },
          "metadata": {
            "tags": []
          },
          "execution_count": 4
        }
      ]
    },
    {
      "cell_type": "code",
      "metadata": {
        "id": "Ep9fqbUZSkSV",
        "colab_type": "code",
        "outputId": "2e344cb3-f398-49dd-a08d-d68aed2b52bd",
        "colab": {
          "base_uri": "https://localhost:8080/",
          "height": 604
        }
      },
      "source": [
        "bfreal.head()"
      ],
      "execution_count": 5,
      "outputs": [
        {
          "output_type": "execute_result",
          "data": {
            "text/html": [
              "<div>\n",
              "<style scoped>\n",
              "    .dataframe tbody tr th:only-of-type {\n",
              "        vertical-align: middle;\n",
              "    }\n",
              "\n",
              "    .dataframe tbody tr th {\n",
              "        vertical-align: top;\n",
              "    }\n",
              "\n",
              "    .dataframe thead th {\n",
              "        text-align: right;\n",
              "    }\n",
              "</style>\n",
              "<table border=\"1\" class=\"dataframe\">\n",
              "  <thead>\n",
              "    <tr style=\"text-align: right;\">\n",
              "      <th></th>\n",
              "      <th>id</th>\n",
              "      <th>title</th>\n",
              "      <th>text</th>\n",
              "      <th>url</th>\n",
              "      <th>top_img</th>\n",
              "      <th>authors</th>\n",
              "      <th>source</th>\n",
              "      <th>publish_date</th>\n",
              "      <th>movies</th>\n",
              "      <th>images</th>\n",
              "      <th>canonical_link</th>\n",
              "      <th>meta_data</th>\n",
              "    </tr>\n",
              "  </thead>\n",
              "  <tbody>\n",
              "    <tr>\n",
              "      <th>0</th>\n",
              "      <td>Real_1-Webpage</td>\n",
              "      <td>Another Terrorist Attack in NYC…Why Are we STI...</td>\n",
              "      <td>On Saturday, September 17 at 8:30 pm EST, an e...</td>\n",
              "      <td>http://eaglerising.com/36942/another-terrorist...</td>\n",
              "      <td>http://eaglerising.com/wp-content/uploads/2016...</td>\n",
              "      <td>View All Posts,Leonora Cravotta</td>\n",
              "      <td>http://eaglerising.com</td>\n",
              "      <td>{'$date': 1474528230000}</td>\n",
              "      <td>NaN</td>\n",
              "      <td>http://constitution.com/wp-content/uploads/201...</td>\n",
              "      <td>http://eaglerising.com/36942/another-terrorist...</td>\n",
              "      <td>{\"description\": \"\\u201cWe believe at this poin...</td>\n",
              "    </tr>\n",
              "    <tr>\n",
              "      <th>1</th>\n",
              "      <td>Real_10-Webpage</td>\n",
              "      <td>Donald Trump: Drugs a 'Very, Very Big Factor' ...</td>\n",
              "      <td>Less than a day after protests over the police...</td>\n",
              "      <td>http://abcn.ws/2d4lNn9</td>\n",
              "      <td>http://a.abcnews.com/images/Politics/AP_donald...</td>\n",
              "      <td>More Candace,Adam Kelsey,Abc News,More Adam</td>\n",
              "      <td>http://abcn.ws</td>\n",
              "      <td>NaN</td>\n",
              "      <td>NaN</td>\n",
              "      <td>http://www.googleadservices.com/pagead/convers...</td>\n",
              "      <td>http://abcnews.go.com/Politics/donald-trump-dr...</td>\n",
              "      <td>{\"fb_title\": \"Trump: Drugs a 'Very, Very Big F...</td>\n",
              "    </tr>\n",
              "    <tr>\n",
              "      <th>2</th>\n",
              "      <td>Real_11-Webpage</td>\n",
              "      <td>Obama To UN: ‘Giving Up Liberty, Enhances Secu...</td>\n",
              "      <td>Obama To UN: ‘Giving Up Liberty, Enhances Secu...</td>\n",
              "      <td>http://rightwingnews.com/barack-obama/obama-un...</td>\n",
              "      <td>http://rightwingnews.com/wp-content/uploads/20...</td>\n",
              "      <td>Cassy Fiano</td>\n",
              "      <td>http://rightwingnews.com</td>\n",
              "      <td>{'$date': 1474476044000}</td>\n",
              "      <td>https://www.youtube.com/embed/ji6pl5Vwrvk</td>\n",
              "      <td>http://rightwingnews.com/wp-content/uploads/20...</td>\n",
              "      <td>http://rightwingnews.com/barack-obama/obama-un...</td>\n",
              "      <td>{\"googlebot\": \"noimageindex\", \"og\": {\"site_nam...</td>\n",
              "    </tr>\n",
              "    <tr>\n",
              "      <th>3</th>\n",
              "      <td>Real_12-Webpage</td>\n",
              "      <td>Trump vs. Clinton: A Fundamental Clash over Ho...</td>\n",
              "      <td>Getty Images Wealth Of Nations Trump vs. Clint...</td>\n",
              "      <td>http://politi.co/2de2qs0</td>\n",
              "      <td>http://static.politico.com/e9/11/6144cdc24e319...</td>\n",
              "      <td>Jack Shafer,Erick Trickey,Zachary Karabell</td>\n",
              "      <td>http://politi.co</td>\n",
              "      <td>{'$date': 1474974420000}</td>\n",
              "      <td>NaN</td>\n",
              "      <td>https://static.politico.com/dims4/default/8a1c...</td>\n",
              "      <td>http://www.politico.com/magazine/story/2016/09...</td>\n",
              "      <td>{\"description\": \"He sees it as zero-sum. She b...</td>\n",
              "    </tr>\n",
              "    <tr>\n",
              "      <th>4</th>\n",
              "      <td>Real_13-Webpage</td>\n",
              "      <td>President Obama Vetoes 9/11 Victims Bill, Sett...</td>\n",
              "      <td>President Obama today vetoed a bill that would...</td>\n",
              "      <td>http://abcn.ws/2dh2NFs</td>\n",
              "      <td>http://a.abcnews.com/images/US/AP_Obama_BM_201...</td>\n",
              "      <td>John Parkinson,More John,Abc News,More Alexander</td>\n",
              "      <td>http://abcn.ws</td>\n",
              "      <td>NaN</td>\n",
              "      <td>NaN</td>\n",
              "      <td>http://www.googleadservices.com/pagead/convers...</td>\n",
              "      <td>http://abcnews.go.com/Politics/president-obama...</td>\n",
              "      <td>{\"fb_title\": \"President Obama Vetoes 9/11 Vict...</td>\n",
              "    </tr>\n",
              "  </tbody>\n",
              "</table>\n",
              "</div>"
            ],
            "text/plain": [
              "                id  ...                                          meta_data\n",
              "0   Real_1-Webpage  ...  {\"description\": \"\\u201cWe believe at this poin...\n",
              "1  Real_10-Webpage  ...  {\"fb_title\": \"Trump: Drugs a 'Very, Very Big F...\n",
              "2  Real_11-Webpage  ...  {\"googlebot\": \"noimageindex\", \"og\": {\"site_nam...\n",
              "3  Real_12-Webpage  ...  {\"description\": \"He sees it as zero-sum. She b...\n",
              "4  Real_13-Webpage  ...  {\"fb_title\": \"President Obama Vetoes 9/11 Vict...\n",
              "\n",
              "[5 rows x 12 columns]"
            ]
          },
          "metadata": {
            "tags": []
          },
          "execution_count": 5
        }
      ]
    },
    {
      "cell_type": "code",
      "metadata": {
        "id": "rDI-ARiSwxBL",
        "colab_type": "code",
        "outputId": "ebbf1cce-33a0-427a-ced7-817e453bcd39",
        "colab": {
          "base_uri": "https://localhost:8080/",
          "height": 307
        }
      },
      "source": [
        "bfreal.describe()"
      ],
      "execution_count": 6,
      "outputs": [
        {
          "output_type": "execute_result",
          "data": {
            "text/html": [
              "<div>\n",
              "<style scoped>\n",
              "    .dataframe tbody tr th:only-of-type {\n",
              "        vertical-align: middle;\n",
              "    }\n",
              "\n",
              "    .dataframe tbody tr th {\n",
              "        vertical-align: top;\n",
              "    }\n",
              "\n",
              "    .dataframe thead th {\n",
              "        text-align: right;\n",
              "    }\n",
              "</style>\n",
              "<table border=\"1\" class=\"dataframe\">\n",
              "  <thead>\n",
              "    <tr style=\"text-align: right;\">\n",
              "      <th></th>\n",
              "      <th>id</th>\n",
              "      <th>title</th>\n",
              "      <th>text</th>\n",
              "      <th>url</th>\n",
              "      <th>top_img</th>\n",
              "      <th>authors</th>\n",
              "      <th>source</th>\n",
              "      <th>publish_date</th>\n",
              "      <th>movies</th>\n",
              "      <th>images</th>\n",
              "      <th>canonical_link</th>\n",
              "      <th>meta_data</th>\n",
              "    </tr>\n",
              "  </thead>\n",
              "  <tbody>\n",
              "    <tr>\n",
              "      <th>count</th>\n",
              "      <td>91</td>\n",
              "      <td>91</td>\n",
              "      <td>91</td>\n",
              "      <td>91</td>\n",
              "      <td>91</td>\n",
              "      <td>84</td>\n",
              "      <td>91</td>\n",
              "      <td>56</td>\n",
              "      <td>4</td>\n",
              "      <td>91</td>\n",
              "      <td>90</td>\n",
              "      <td>91</td>\n",
              "    </tr>\n",
              "    <tr>\n",
              "      <th>unique</th>\n",
              "      <td>91</td>\n",
              "      <td>91</td>\n",
              "      <td>91</td>\n",
              "      <td>91</td>\n",
              "      <td>87</td>\n",
              "      <td>65</td>\n",
              "      <td>14</td>\n",
              "      <td>53</td>\n",
              "      <td>4</td>\n",
              "      <td>90</td>\n",
              "      <td>90</td>\n",
              "      <td>91</td>\n",
              "    </tr>\n",
              "    <tr>\n",
              "      <th>top</th>\n",
              "      <td>Real_69-Webpage</td>\n",
              "      <td>One Critically Wounded As Charlotte Police End...</td>\n",
              "      <td>Liberals Are Furious When Reality Star Brody J...</td>\n",
              "      <td>http://www.ifyouonlynews.com/politics/debate-c...</td>\n",
              "      <td>http://static.politico.com/da/f5/44342c424c68b...</td>\n",
              "      <td>Jack Shafer,Louis Nelson</td>\n",
              "      <td>http://politi.co</td>\n",
              "      <td>{'$date': 1474329600000}</td>\n",
              "      <td>https://www.youtube.com/embed/7LUv7x5bXV4</td>\n",
              "      <td>http://static.politico.com/da/f5/44342c424c68b...</td>\n",
              "      <td>http://abcnews.go.com/Politics/president-obama...</td>\n",
              "      <td>{\"description\": \"Hanging out with Willie Nelso...</td>\n",
              "    </tr>\n",
              "    <tr>\n",
              "      <th>freq</th>\n",
              "      <td>1</td>\n",
              "      <td>1</td>\n",
              "      <td>1</td>\n",
              "      <td>1</td>\n",
              "      <td>3</td>\n",
              "      <td>5</td>\n",
              "      <td>32</td>\n",
              "      <td>2</td>\n",
              "      <td>1</td>\n",
              "      <td>2</td>\n",
              "      <td>1</td>\n",
              "      <td>1</td>\n",
              "    </tr>\n",
              "  </tbody>\n",
              "</table>\n",
              "</div>"
            ],
            "text/plain": [
              "                     id  ...                                          meta_data\n",
              "count                91  ...                                                 91\n",
              "unique               91  ...                                                 91\n",
              "top     Real_69-Webpage  ...  {\"description\": \"Hanging out with Willie Nelso...\n",
              "freq                  1  ...                                                  1\n",
              "\n",
              "[4 rows x 12 columns]"
            ]
          },
          "metadata": {
            "tags": []
          },
          "execution_count": 6
        }
      ]
    },
    {
      "cell_type": "code",
      "metadata": {
        "id": "K_XfCyQvnVM0",
        "colab_type": "code",
        "outputId": "0f30d89f-4a8b-45e7-c06e-5ed0b5efde69",
        "colab": {
          "base_uri": "https://localhost:8080/",
          "height": 298
        }
      },
      "source": [
        "for key,count in bfreal.source.value_counts().iteritems():\n",
        "    print(\"{}:\\t{}\".format(key, count))\n",
        "    \n",
        "print(\"Total Records:\\t{}\".format(bfreal.shape[0]))"
      ],
      "execution_count": 7,
      "outputs": [
        {
          "output_type": "stream",
          "text": [
            "http://politi.co:\t32\n",
            "http://cnn.it:\t23\n",
            "http://abcn.ws:\t9\n",
            "http://eaglerising.com:\t7\n",
            "http://rightwingnews.com:\t7\n",
            "http://www.addictinginfo.org:\t3\n",
            "http://www.ifyouonlynews.com:\t2\n",
            "http://addictinginfo.org:\t2\n",
            "http://conservativebyte.com:\t1\n",
            "http://freedomdaily.com:\t1\n",
            "http://winningdemocrats.com:\t1\n",
            "http://occupydemocrats.com:\t1\n",
            "http://www.opposingviews.com:\t1\n",
            "https://www.washingtonpost.com:\t1\n",
            "Total Records:\t91\n"
          ],
          "name": "stdout"
        }
      ]
    },
    {
      "cell_type": "code",
      "metadata": {
        "id": "B3Eawn-ApE3o",
        "colab_type": "code",
        "outputId": "c922ce00-55fa-4bd0-b57c-ceee30a83029",
        "colab": {
          "base_uri": "https://localhost:8080/",
          "height": 448
        }
      },
      "source": [
        "plt.figure(figsize=(20,5))\n",
        "chart = sns.countplot(\"source\", data=bfreal)\n",
        "chart.set_xticklabels(chart.get_xticklabels(), rotation=45)\n",
        "plt.show()"
      ],
      "execution_count": 8,
      "outputs": [
        {
          "output_type": "display_data",
          "data": {
            "image/png": "[encoded data removed]",
            "text/plain": [
              "<Figure size 1440x360 with 1 Axes>"
            ]
          },
          "metadata": {
            "tags": [],
            "needs_background": "light"
          }
        }
      ]
    },
    {
      "cell_type": "code",
      "metadata": {
        "id": "Tx0p7sEZOm61",
        "colab_type": "code",
        "outputId": "233e68dd-f1b6-465e-b3a3-3307e150a2c5",
        "colab": {
          "base_uri": "https://localhost:8080/",
          "height": 35
        }
      },
      "source": [
        "#checking for rows with empty text\n",
        "[index for index,text in enumerate(bfreal.text.values) if str(text).strip() == '']"
      ],
      "execution_count": 9,
      "outputs": [
        {
          "output_type": "execute_result",
          "data": {
            "text/plain": [
              "[]"
            ]
          },
          "metadata": {
            "tags": []
          },
          "execution_count": 9
        }
      ]
    },
    {
      "cell_type": "markdown",
      "metadata": {
        "id": "V5Jywb1Bb3e4",
        "colab_type": "text"
      },
      "source": [
        "Adding class indication, and an empty subject column, prior to merging with Fake-and-real-news dataset."
      ]
    },
    {
      "cell_type": "code",
      "metadata": {
        "id": "vhLABQwdcD0m",
        "colab_type": "code",
        "outputId": "ed312f39-3645-487e-b53a-50e2abcd0634",
        "colab": {
          "base_uri": "https://localhost:8080/",
          "height": 604
        }
      },
      "source": [
        "bfreal[\"class\"]=1\n",
        "bfreal[\"subject\"]=''\n",
        "bfreal.head()"
      ],
      "execution_count": 10,
      "outputs": [
        {
          "output_type": "execute_result",
          "data": {
            "text/html": [
              "<div>\n",
              "<style scoped>\n",
              "    .dataframe tbody tr th:only-of-type {\n",
              "        vertical-align: middle;\n",
              "    }\n",
              "\n",
              "    .dataframe tbody tr th {\n",
              "        vertical-align: top;\n",
              "    }\n",
              "\n",
              "    .dataframe thead th {\n",
              "        text-align: right;\n",
              "    }\n",
              "</style>\n",
              "<table border=\"1\" class=\"dataframe\">\n",
              "  <thead>\n",
              "    <tr style=\"text-align: right;\">\n",
              "      <th></th>\n",
              "      <th>id</th>\n",
              "      <th>title</th>\n",
              "      <th>text</th>\n",
              "      <th>url</th>\n",
              "      <th>top_img</th>\n",
              "      <th>authors</th>\n",
              "      <th>source</th>\n",
              "      <th>publish_date</th>\n",
              "      <th>movies</th>\n",
              "      <th>images</th>\n",
              "      <th>canonical_link</th>\n",
              "      <th>meta_data</th>\n",
              "      <th>class</th>\n",
              "      <th>subject</th>\n",
              "    </tr>\n",
              "  </thead>\n",
              "  <tbody>\n",
              "    <tr>\n",
              "      <th>0</th>\n",
              "      <td>Real_1-Webpage</td>\n",
              "      <td>Another Terrorist Attack in NYC…Why Are we STI...</td>\n",
              "      <td>On Saturday, September 17 at 8:30 pm EST, an e...</td>\n",
              "      <td>http://eaglerising.com/36942/another-terrorist...</td>\n",
              "      <td>http://eaglerising.com/wp-content/uploads/2016...</td>\n",
              "      <td>View All Posts,Leonora Cravotta</td>\n",
              "      <td>http://eaglerising.com</td>\n",
              "      <td>{'$date': 1474528230000}</td>\n",
              "      <td>NaN</td>\n",
              "      <td>http://constitution.com/wp-content/uploads/201...</td>\n",
              "      <td>http://eaglerising.com/36942/another-terrorist...</td>\n",
              "      <td>{\"description\": \"\\u201cWe believe at this poin...</td>\n",
              "      <td>1</td>\n",
              "      <td></td>\n",
              "    </tr>\n",
              "    <tr>\n",
              "      <th>1</th>\n",
              "      <td>Real_10-Webpage</td>\n",
              "      <td>Donald Trump: Drugs a 'Very, Very Big Factor' ...</td>\n",
              "      <td>Less than a day after protests over the police...</td>\n",
              "      <td>http://abcn.ws/2d4lNn9</td>\n",
              "      <td>http://a.abcnews.com/images/Politics/AP_donald...</td>\n",
              "      <td>More Candace,Adam Kelsey,Abc News,More Adam</td>\n",
              "      <td>http://abcn.ws</td>\n",
              "      <td>NaN</td>\n",
              "      <td>NaN</td>\n",
              "      <td>http://www.googleadservices.com/pagead/convers...</td>\n",
              "      <td>http://abcnews.go.com/Politics/donald-trump-dr...</td>\n",
              "      <td>{\"fb_title\": \"Trump: Drugs a 'Very, Very Big F...</td>\n",
              "      <td>1</td>\n",
              "      <td></td>\n",
              "    </tr>\n",
              "    <tr>\n",
              "      <th>2</th>\n",
              "      <td>Real_11-Webpage</td>\n",
              "      <td>Obama To UN: ‘Giving Up Liberty, Enhances Secu...</td>\n",
              "      <td>Obama To UN: ‘Giving Up Liberty, Enhances Secu...</td>\n",
              "      <td>http://rightwingnews.com/barack-obama/obama-un...</td>\n",
              "      <td>http://rightwingnews.com/wp-content/uploads/20...</td>\n",
              "      <td>Cassy Fiano</td>\n",
              "      <td>http://rightwingnews.com</td>\n",
              "      <td>{'$date': 1474476044000}</td>\n",
              "      <td>https://www.youtube.com/embed/ji6pl5Vwrvk</td>\n",
              "      <td>http://rightwingnews.com/wp-content/uploads/20...</td>\n",
              "      <td>http://rightwingnews.com/barack-obama/obama-un...</td>\n",
              "      <td>{\"googlebot\": \"noimageindex\", \"og\": {\"site_nam...</td>\n",
              "      <td>1</td>\n",
              "      <td></td>\n",
              "    </tr>\n",
              "    <tr>\n",
              "      <th>3</th>\n",
              "      <td>Real_12-Webpage</td>\n",
              "      <td>Trump vs. Clinton: A Fundamental Clash over Ho...</td>\n",
              "      <td>Getty Images Wealth Of Nations Trump vs. Clint...</td>\n",
              "      <td>http://politi.co/2de2qs0</td>\n",
              "      <td>http://static.politico.com/e9/11/6144cdc24e319...</td>\n",
              "      <td>Jack Shafer,Erick Trickey,Zachary Karabell</td>\n",
              "      <td>http://politi.co</td>\n",
              "      <td>{'$date': 1474974420000}</td>\n",
              "      <td>NaN</td>\n",
              "      <td>https://static.politico.com/dims4/default/8a1c...</td>\n",
              "      <td>http://www.politico.com/magazine/story/2016/09...</td>\n",
              "      <td>{\"description\": \"He sees it as zero-sum. She b...</td>\n",
              "      <td>1</td>\n",
              "      <td></td>\n",
              "    </tr>\n",
              "    <tr>\n",
              "      <th>4</th>\n",
              "      <td>Real_13-Webpage</td>\n",
              "      <td>President Obama Vetoes 9/11 Victims Bill, Sett...</td>\n",
              "      <td>President Obama today vetoed a bill that would...</td>\n",
              "      <td>http://abcn.ws/2dh2NFs</td>\n",
              "      <td>http://a.abcnews.com/images/US/AP_Obama_BM_201...</td>\n",
              "      <td>John Parkinson,More John,Abc News,More Alexander</td>\n",
              "      <td>http://abcn.ws</td>\n",
              "      <td>NaN</td>\n",
              "      <td>NaN</td>\n",
              "      <td>http://www.googleadservices.com/pagead/convers...</td>\n",
              "      <td>http://abcnews.go.com/Politics/president-obama...</td>\n",
              "      <td>{\"fb_title\": \"President Obama Vetoes 9/11 Vict...</td>\n",
              "      <td>1</td>\n",
              "      <td></td>\n",
              "    </tr>\n",
              "  </tbody>\n",
              "</table>\n",
              "</div>"
            ],
            "text/plain": [
              "                id  ... subject\n",
              "0   Real_1-Webpage  ...        \n",
              "1  Real_10-Webpage  ...        \n",
              "2  Real_11-Webpage  ...        \n",
              "3  Real_12-Webpage  ...        \n",
              "4  Real_13-Webpage  ...        \n",
              "\n",
              "[5 rows x 14 columns]"
            ]
          },
          "metadata": {
            "tags": []
          },
          "execution_count": 10
        }
      ]
    },
    {
      "cell_type": "markdown",
      "metadata": {
        "id": "JKKp8qu7iWWa",
        "colab_type": "text"
      },
      "source": [
        "Removing all polluting expressions in both text and title"
      ]
    },
    {
      "cell_type": "code",
      "metadata": {
        "id": "ye--vphRiaNJ",
        "colab_type": "code",
        "colab": {}
      },
      "source": [
        "#Seperating Publication info, from actual text\n",
        "pollution_real = [\"⋆ US Herald\",\"– Eagle Rising\", \"The views expressed in this opinion article are solely those of their author and are not necessarily either shared or endorsed by EagleRising.com\", \" ⋆ Freedom Daily\",\"Read More\", \"Authors:\"]\n",
        "for i in pollution_real:\n",
        "    bfreal['title'] = bfreal['title'].str.replace(i , '')\n",
        "    bfreal['text'] = bfreal['text'].str.replace(i , '')"
      ],
      "execution_count": 0,
      "outputs": []
    },
    {
      "cell_type": "markdown",
      "metadata": {
        "id": "D4tEVKf-r59v",
        "colab_type": "text"
      },
      "source": [
        "## Integrating BuzzFeed Fake News"
      ]
    },
    {
      "cell_type": "code",
      "metadata": {
        "id": "HNGVdlP2r-XF",
        "colab_type": "code",
        "outputId": "477451a0-df17-4899-a5b2-30693fd5ff45",
        "colab": {
          "base_uri": "https://localhost:8080/",
          "height": 35
        }
      },
      "source": [
        "bffake = pd.read_csv('/content/drive/My Drive/CS221_Project/BuzzFeed_fake_news_content.csv')\n",
        "bffake.shape"
      ],
      "execution_count": 12,
      "outputs": [
        {
          "output_type": "execute_result",
          "data": {
            "text/plain": [
              "(91, 12)"
            ]
          },
          "metadata": {
            "tags": []
          },
          "execution_count": 12
        }
      ]
    },
    {
      "cell_type": "code",
      "metadata": {
        "id": "dVDFkAXjsCch",
        "colab_type": "code",
        "outputId": "ca976660-35dc-4540-c493-8346ac5a23b9",
        "colab": {
          "base_uri": "https://localhost:8080/",
          "height": 537
        }
      },
      "source": [
        "bffake.head()"
      ],
      "execution_count": 13,
      "outputs": [
        {
          "output_type": "execute_result",
          "data": {
            "text/html": [
              "<div>\n",
              "<style scoped>\n",
              "    .dataframe tbody tr th:only-of-type {\n",
              "        vertical-align: middle;\n",
              "    }\n",
              "\n",
              "    .dataframe tbody tr th {\n",
              "        vertical-align: top;\n",
              "    }\n",
              "\n",
              "    .dataframe thead th {\n",
              "        text-align: right;\n",
              "    }\n",
              "</style>\n",
              "<table border=\"1\" class=\"dataframe\">\n",
              "  <thead>\n",
              "    <tr style=\"text-align: right;\">\n",
              "      <th></th>\n",
              "      <th>id</th>\n",
              "      <th>title</th>\n",
              "      <th>text</th>\n",
              "      <th>url</th>\n",
              "      <th>top_img</th>\n",
              "      <th>authors</th>\n",
              "      <th>source</th>\n",
              "      <th>publish_date</th>\n",
              "      <th>movies</th>\n",
              "      <th>images</th>\n",
              "      <th>canonical_link</th>\n",
              "      <th>meta_data</th>\n",
              "    </tr>\n",
              "  </thead>\n",
              "  <tbody>\n",
              "    <tr>\n",
              "      <th>0</th>\n",
              "      <td>Fake_1-Webpage</td>\n",
              "      <td>Proof The Mainstream Media Is Manipulating The...</td>\n",
              "      <td>I woke up this morning to find a variation of ...</td>\n",
              "      <td>http://www.addictinginfo.org/2016/09/19/proof-...</td>\n",
              "      <td>http://addictinginfo.addictinginfoent.netdna-c...</td>\n",
              "      <td>Wendy Gittleson</td>\n",
              "      <td>http://www.addictinginfo.org</td>\n",
              "      <td>{'$date': 1474243200000}</td>\n",
              "      <td>NaN</td>\n",
              "      <td>http://i.imgur.com/JeqZLhj.png,http://addictin...</td>\n",
              "      <td>http://addictinginfo.com/2016/09/19/proof-the-...</td>\n",
              "      <td>{\"publisher\": \"Addicting Info | The Knowledge ...</td>\n",
              "    </tr>\n",
              "    <tr>\n",
              "      <th>1</th>\n",
              "      <td>Fake_10-Webpage</td>\n",
              "      <td>Charity: Clinton Foundation Distributed “Water...</td>\n",
              "      <td>Former President Bill Clinton and his Clinton ...</td>\n",
              "      <td>http://eaglerising.com/36899/charity-clinton-f...</td>\n",
              "      <td>http://eaglerising.com/wp-content/uploads/2016...</td>\n",
              "      <td>View All Posts</td>\n",
              "      <td>http://eaglerising.com</td>\n",
              "      <td>{'$date': 1474416521000}</td>\n",
              "      <td>NaN</td>\n",
              "      <td>http://constitution.com/wp-content/uploads/201...</td>\n",
              "      <td>http://eaglerising.com/36899/charity-clinton-f...</td>\n",
              "      <td>{\"description\": \"The possibility that CHAI dis...</td>\n",
              "    </tr>\n",
              "    <tr>\n",
              "      <th>2</th>\n",
              "      <td>Fake_11-Webpage</td>\n",
              "      <td>A Hillary Clinton Administration May be Entire...</td>\n",
              "      <td>After collapsing just before trying to step in...</td>\n",
              "      <td>http://eaglerising.com/36880/a-hillary-clinton...</td>\n",
              "      <td>http://eaglerising.com/wp-content/uploads/2016...</td>\n",
              "      <td>View All Posts,Tony Elliott</td>\n",
              "      <td>http://eaglerising.com</td>\n",
              "      <td>{'$date': 1474416638000}</td>\n",
              "      <td>NaN</td>\n",
              "      <td>http://constitution.com/wp-content/uploads/201...</td>\n",
              "      <td>http://eaglerising.com/36880/a-hillary-clinton...</td>\n",
              "      <td>{\"description\": \"Hillary Clinton may be the fi...</td>\n",
              "    </tr>\n",
              "    <tr>\n",
              "      <th>3</th>\n",
              "      <td>Fake_12-Webpage</td>\n",
              "      <td>Trump’s Latest Campaign Promise May Be His Mos...</td>\n",
              "      <td>Donald Trump is, well, deplorable. He’s sugges...</td>\n",
              "      <td>http://www.addictinginfo.org/2016/09/19/trumps...</td>\n",
              "      <td>http://addictinginfo.addictinginfoent.netdna-c...</td>\n",
              "      <td>John Prager</td>\n",
              "      <td>http://www.addictinginfo.org</td>\n",
              "      <td>{'$date': 1474243200000}</td>\n",
              "      <td>NaN</td>\n",
              "      <td>http://i.imgur.com/JeqZLhj.png,http://2.gravat...</td>\n",
              "      <td>http://addictinginfo.com/2016/09/19/trumps-lat...</td>\n",
              "      <td>{\"publisher\": \"Addicting Info | The Knowledge ...</td>\n",
              "    </tr>\n",
              "    <tr>\n",
              "      <th>4</th>\n",
              "      <td>Fake_13-Webpage</td>\n",
              "      <td>Website is Down For Maintenance</td>\n",
              "      <td>Website is Down For Maintenance</td>\n",
              "      <td>http://www.proudcons.com/clinton-foundation-ca...</td>\n",
              "      <td>NaN</td>\n",
              "      <td>NaN</td>\n",
              "      <td>http://www.proudcons.com</td>\n",
              "      <td>NaN</td>\n",
              "      <td>NaN</td>\n",
              "      <td>NaN</td>\n",
              "      <td>NaN</td>\n",
              "      <td>{\"og\": {\"url\": \"http://www.proudcons.com\", \"ty...</td>\n",
              "    </tr>\n",
              "  </tbody>\n",
              "</table>\n",
              "</div>"
            ],
            "text/plain": [
              "                id  ...                                          meta_data\n",
              "0   Fake_1-Webpage  ...  {\"publisher\": \"Addicting Info | The Knowledge ...\n",
              "1  Fake_10-Webpage  ...  {\"description\": \"The possibility that CHAI dis...\n",
              "2  Fake_11-Webpage  ...  {\"description\": \"Hillary Clinton may be the fi...\n",
              "3  Fake_12-Webpage  ...  {\"publisher\": \"Addicting Info | The Knowledge ...\n",
              "4  Fake_13-Webpage  ...  {\"og\": {\"url\": \"http://www.proudcons.com\", \"ty...\n",
              "\n",
              "[5 rows x 12 columns]"
            ]
          },
          "metadata": {
            "tags": []
          },
          "execution_count": 13
        }
      ]
    },
    {
      "cell_type": "code",
      "metadata": {
        "id": "OOm8aSbwwpTz",
        "colab_type": "code",
        "outputId": "fc8b3faf-4b32-4d22-f14d-70fb6038e3c7",
        "colab": {
          "base_uri": "https://localhost:8080/",
          "height": 223
        }
      },
      "source": [
        "bffake.describe()"
      ],
      "execution_count": 14,
      "outputs": [
        {
          "output_type": "execute_result",
          "data": {
            "text/html": [
              "<div>\n",
              "<style scoped>\n",
              "    .dataframe tbody tr th:only-of-type {\n",
              "        vertical-align: middle;\n",
              "    }\n",
              "\n",
              "    .dataframe tbody tr th {\n",
              "        vertical-align: top;\n",
              "    }\n",
              "\n",
              "    .dataframe thead th {\n",
              "        text-align: right;\n",
              "    }\n",
              "</style>\n",
              "<table border=\"1\" class=\"dataframe\">\n",
              "  <thead>\n",
              "    <tr style=\"text-align: right;\">\n",
              "      <th></th>\n",
              "      <th>id</th>\n",
              "      <th>title</th>\n",
              "      <th>text</th>\n",
              "      <th>url</th>\n",
              "      <th>top_img</th>\n",
              "      <th>authors</th>\n",
              "      <th>source</th>\n",
              "      <th>publish_date</th>\n",
              "      <th>movies</th>\n",
              "      <th>images</th>\n",
              "      <th>canonical_link</th>\n",
              "      <th>meta_data</th>\n",
              "    </tr>\n",
              "  </thead>\n",
              "  <tbody>\n",
              "    <tr>\n",
              "      <th>count</th>\n",
              "      <td>91</td>\n",
              "      <td>91</td>\n",
              "      <td>91</td>\n",
              "      <td>83</td>\n",
              "      <td>81</td>\n",
              "      <td>57</td>\n",
              "      <td>83</td>\n",
              "      <td>77</td>\n",
              "      <td>21</td>\n",
              "      <td>81</td>\n",
              "      <td>80</td>\n",
              "      <td>91</td>\n",
              "    </tr>\n",
              "    <tr>\n",
              "      <th>unique</th>\n",
              "      <td>91</td>\n",
              "      <td>87</td>\n",
              "      <td>87</td>\n",
              "      <td>80</td>\n",
              "      <td>79</td>\n",
              "      <td>30</td>\n",
              "      <td>22</td>\n",
              "      <td>69</td>\n",
              "      <td>21</td>\n",
              "      <td>79</td>\n",
              "      <td>78</td>\n",
              "      <td>81</td>\n",
              "    </tr>\n",
              "    <tr>\n",
              "      <th>top</th>\n",
              "      <td>Fake_38-Webpage</td>\n",
              "      <td>Website is Down For Maintenance</td>\n",
              "      <td>Website is Down For Maintenance</td>\n",
              "      <td>http://eaglerising.com/36847/clinton-foundatio...</td>\n",
              "      <td>http://eaglerising.com/wp-content/uploads/2016...</td>\n",
              "      <td>Terresa Monroe-hamilton</td>\n",
              "      <td>http://rightwingnews.com</td>\n",
              "      <td>{'$date': 1474588800000}</td>\n",
              "      <td>https://www.youtube.com/embed/D0DMOBBOJ0U</td>\n",
              "      <td>http://constitution.com/wp-content/uploads/201...</td>\n",
              "      <td>http://eaglerising.com/36847/clinton-foundatio...</td>\n",
              "      <td>{}</td>\n",
              "    </tr>\n",
              "    <tr>\n",
              "      <th>freq</th>\n",
              "      <td>1</td>\n",
              "      <td>2</td>\n",
              "      <td>2</td>\n",
              "      <td>2</td>\n",
              "      <td>2</td>\n",
              "      <td>6</td>\n",
              "      <td>17</td>\n",
              "      <td>4</td>\n",
              "      <td>1</td>\n",
              "      <td>2</td>\n",
              "      <td>2</td>\n",
              "      <td>8</td>\n",
              "    </tr>\n",
              "  </tbody>\n",
              "</table>\n",
              "</div>"
            ],
            "text/plain": [
              "                     id  ... meta_data\n",
              "count                91  ...        91\n",
              "unique               91  ...        81\n",
              "top     Fake_38-Webpage  ...        {}\n",
              "freq                  1  ...         8\n",
              "\n",
              "[4 rows x 12 columns]"
            ]
          },
          "metadata": {
            "tags": []
          },
          "execution_count": 14
        }
      ]
    },
    {
      "cell_type": "code",
      "metadata": {
        "id": "K_Ot4T_ysF1B",
        "colab_type": "code",
        "outputId": "ac09ab41-5941-48ab-efc7-eda5cf3060e9",
        "colab": {
          "base_uri": "https://localhost:8080/",
          "height": 448
        }
      },
      "source": [
        "for key,count in bffake.source.value_counts().iteritems():\n",
        "    print(\"{}:\\t{}\".format(key, count))\n",
        "    \n",
        "print(\"Total Records:\\t{}\".format(bffake.shape[0]))"
      ],
      "execution_count": 15,
      "outputs": [
        {
          "output_type": "stream",
          "text": [
            "http://rightwingnews.com:\t17\n",
            "http://freedomdaily.com:\t16\n",
            "http://eaglerising.com:\t11\n",
            "http://occupydemocrats.com:\t6\n",
            "https://goo.gl:\t3\n",
            "http://www.addictinginfo.org:\t3\n",
            "http://www.thepoliticalinsider.com:\t3\n",
            "http://theblacksphere.net:\t2\n",
            "http://winningdemocrats.com:\t2\n",
            "https://ihavethetruth.com:\t2\n",
            "http://allenwestrepublic.com:\t2\n",
            "http://conservativetribune.com:\t2\n",
            "http://clashdaily.com:\t2\n",
            "http://100percentfedup.com:\t2\n",
            "http://www.proudcons.com:\t2\n",
            "http://usherald.com:\t2\n",
            "http://conservativebyte.com:\t1\n",
            "http://www.yesimright.com:\t1\n",
            "http://www.chicksontheright.com:\t1\n",
            "http://author.groopspeak.com:\t1\n",
            "http://author.addictinginfo.org:\t1\n",
            "http://addictinginfo.org:\t1\n",
            "Total Records:\t91\n"
          ],
          "name": "stdout"
        }
      ]
    },
    {
      "cell_type": "code",
      "metadata": {
        "id": "jQRUbpKgsHc-",
        "colab_type": "code",
        "outputId": "168ba9f2-ab87-4a3a-ccce-a794c37012d1",
        "colab": {
          "base_uri": "https://localhost:8080/",
          "height": 451
        }
      },
      "source": [
        "plt.figure(figsize=(20,5))\n",
        "chart = sns.countplot(\"source\", data=bffake)\n",
        "chart.set_xticklabels(chart.get_xticklabels(), rotation=45)\n",
        "plt.show()"
      ],
      "execution_count": 16,
      "outputs": [
        {
          "output_type": "display_data",
          "data": {
            "image/png": "[encoded data removed]",
            "text/plain": [
              "<Figure size 1440x360 with 1 Axes>"
            ]
          },
          "metadata": {
            "tags": [],
            "needs_background": "light"
          }
        }
      ]
    },
    {
      "cell_type": "code",
      "metadata": {
        "id": "4hx4Ps9ROh5X",
        "colab_type": "code",
        "outputId": "ceb9b963-d762-4536-b6b6-105fc9d890a1",
        "colab": {
          "base_uri": "https://localhost:8080/",
          "height": 35
        }
      },
      "source": [
        "#checking for rows with empty text\n",
        "[index for index,text in enumerate(bffake.text.values) if str(text).strip() == '']"
      ],
      "execution_count": 17,
      "outputs": [
        {
          "output_type": "execute_result",
          "data": {
            "text/plain": [
              "[]"
            ]
          },
          "metadata": {
            "tags": []
          },
          "execution_count": 17
        }
      ]
    },
    {
      "cell_type": "code",
      "metadata": {
        "id": "rqmFM6BfuZ6f",
        "colab_type": "code",
        "outputId": "9e467940-83db-408e-8606-84e07d282e8b",
        "colab": {
          "base_uri": "https://localhost:8080/",
          "height": 537
        }
      },
      "source": [
        "bffake[\"class\"]=0\n",
        "bffake[\"subject\"]=''\n",
        "bffake.head()"
      ],
      "execution_count": 18,
      "outputs": [
        {
          "output_type": "execute_result",
          "data": {
            "text/html": [
              "<div>\n",
              "<style scoped>\n",
              "    .dataframe tbody tr th:only-of-type {\n",
              "        vertical-align: middle;\n",
              "    }\n",
              "\n",
              "    .dataframe tbody tr th {\n",
              "        vertical-align: top;\n",
              "    }\n",
              "\n",
              "    .dataframe thead th {\n",
              "        text-align: right;\n",
              "    }\n",
              "</style>\n",
              "<table border=\"1\" class=\"dataframe\">\n",
              "  <thead>\n",
              "    <tr style=\"text-align: right;\">\n",
              "      <th></th>\n",
              "      <th>id</th>\n",
              "      <th>title</th>\n",
              "      <th>text</th>\n",
              "      <th>url</th>\n",
              "      <th>top_img</th>\n",
              "      <th>authors</th>\n",
              "      <th>source</th>\n",
              "      <th>publish_date</th>\n",
              "      <th>movies</th>\n",
              "      <th>images</th>\n",
              "      <th>canonical_link</th>\n",
              "      <th>meta_data</th>\n",
              "      <th>class</th>\n",
              "      <th>subject</th>\n",
              "    </tr>\n",
              "  </thead>\n",
              "  <tbody>\n",
              "    <tr>\n",
              "      <th>0</th>\n",
              "      <td>Fake_1-Webpage</td>\n",
              "      <td>Proof The Mainstream Media Is Manipulating The...</td>\n",
              "      <td>I woke up this morning to find a variation of ...</td>\n",
              "      <td>http://www.addictinginfo.org/2016/09/19/proof-...</td>\n",
              "      <td>http://addictinginfo.addictinginfoent.netdna-c...</td>\n",
              "      <td>Wendy Gittleson</td>\n",
              "      <td>http://www.addictinginfo.org</td>\n",
              "      <td>{'$date': 1474243200000}</td>\n",
              "      <td>NaN</td>\n",
              "      <td>http://i.imgur.com/JeqZLhj.png,http://addictin...</td>\n",
              "      <td>http://addictinginfo.com/2016/09/19/proof-the-...</td>\n",
              "      <td>{\"publisher\": \"Addicting Info | The Knowledge ...</td>\n",
              "      <td>0</td>\n",
              "      <td></td>\n",
              "    </tr>\n",
              "    <tr>\n",
              "      <th>1</th>\n",
              "      <td>Fake_10-Webpage</td>\n",
              "      <td>Charity: Clinton Foundation Distributed “Water...</td>\n",
              "      <td>Former President Bill Clinton and his Clinton ...</td>\n",
              "      <td>http://eaglerising.com/36899/charity-clinton-f...</td>\n",
              "      <td>http://eaglerising.com/wp-content/uploads/2016...</td>\n",
              "      <td>View All Posts</td>\n",
              "      <td>http://eaglerising.com</td>\n",
              "      <td>{'$date': 1474416521000}</td>\n",
              "      <td>NaN</td>\n",
              "      <td>http://constitution.com/wp-content/uploads/201...</td>\n",
              "      <td>http://eaglerising.com/36899/charity-clinton-f...</td>\n",
              "      <td>{\"description\": \"The possibility that CHAI dis...</td>\n",
              "      <td>0</td>\n",
              "      <td></td>\n",
              "    </tr>\n",
              "    <tr>\n",
              "      <th>2</th>\n",
              "      <td>Fake_11-Webpage</td>\n",
              "      <td>A Hillary Clinton Administration May be Entire...</td>\n",
              "      <td>After collapsing just before trying to step in...</td>\n",
              "      <td>http://eaglerising.com/36880/a-hillary-clinton...</td>\n",
              "      <td>http://eaglerising.com/wp-content/uploads/2016...</td>\n",
              "      <td>View All Posts,Tony Elliott</td>\n",
              "      <td>http://eaglerising.com</td>\n",
              "      <td>{'$date': 1474416638000}</td>\n",
              "      <td>NaN</td>\n",
              "      <td>http://constitution.com/wp-content/uploads/201...</td>\n",
              "      <td>http://eaglerising.com/36880/a-hillary-clinton...</td>\n",
              "      <td>{\"description\": \"Hillary Clinton may be the fi...</td>\n",
              "      <td>0</td>\n",
              "      <td></td>\n",
              "    </tr>\n",
              "    <tr>\n",
              "      <th>3</th>\n",
              "      <td>Fake_12-Webpage</td>\n",
              "      <td>Trump’s Latest Campaign Promise May Be His Mos...</td>\n",
              "      <td>Donald Trump is, well, deplorable. He’s sugges...</td>\n",
              "      <td>http://www.addictinginfo.org/2016/09/19/trumps...</td>\n",
              "      <td>http://addictinginfo.addictinginfoent.netdna-c...</td>\n",
              "      <td>John Prager</td>\n",
              "      <td>http://www.addictinginfo.org</td>\n",
              "      <td>{'$date': 1474243200000}</td>\n",
              "      <td>NaN</td>\n",
              "      <td>http://i.imgur.com/JeqZLhj.png,http://2.gravat...</td>\n",
              "      <td>http://addictinginfo.com/2016/09/19/trumps-lat...</td>\n",
              "      <td>{\"publisher\": \"Addicting Info | The Knowledge ...</td>\n",
              "      <td>0</td>\n",
              "      <td></td>\n",
              "    </tr>\n",
              "    <tr>\n",
              "      <th>4</th>\n",
              "      <td>Fake_13-Webpage</td>\n",
              "      <td>Website is Down For Maintenance</td>\n",
              "      <td>Website is Down For Maintenance</td>\n",
              "      <td>http://www.proudcons.com/clinton-foundation-ca...</td>\n",
              "      <td>NaN</td>\n",
              "      <td>NaN</td>\n",
              "      <td>http://www.proudcons.com</td>\n",
              "      <td>NaN</td>\n",
              "      <td>NaN</td>\n",
              "      <td>NaN</td>\n",
              "      <td>NaN</td>\n",
              "      <td>{\"og\": {\"url\": \"http://www.proudcons.com\", \"ty...</td>\n",
              "      <td>0</td>\n",
              "      <td></td>\n",
              "    </tr>\n",
              "  </tbody>\n",
              "</table>\n",
              "</div>"
            ],
            "text/plain": [
              "                id  ... subject\n",
              "0   Fake_1-Webpage  ...        \n",
              "1  Fake_10-Webpage  ...        \n",
              "2  Fake_11-Webpage  ...        \n",
              "3  Fake_12-Webpage  ...        \n",
              "4  Fake_13-Webpage  ...        \n",
              "\n",
              "[5 rows x 14 columns]"
            ]
          },
          "metadata": {
            "tags": []
          },
          "execution_count": 18
        }
      ]
    },
    {
      "cell_type": "markdown",
      "metadata": {
        "colab_type": "text",
        "id": "f6gSs6ZOqGlr"
      },
      "source": [
        "Removing all polluting expressions in both text and title"
      ]
    },
    {
      "cell_type": "code",
      "metadata": {
        "colab_type": "code",
        "id": "Aua1baazqGlx",
        "colab": {}
      },
      "source": [
        "pollution_fake = [\"⋆ US Herald\",\"– Eagle Rising\", \"The views expressed in this opinion article are solely those of their author and are not necessarily either shared or endorsed by EagleRising.com\", \" ⋆ Freedom Daily\",\"Read More\", \"Authors:\"]\n",
        "for i in pollution_fake:\n",
        "    bffake['title'] = bffake['title'].str.replace(i , '')\n",
        "    bffake['text'] = bffake['text'].str.replace(i , '')"
      ],
      "execution_count": 0,
      "outputs": []
    },
    {
      "cell_type": "markdown",
      "metadata": {
        "colab_type": "text",
        "id": "fHrTHwUzqnoa"
      },
      "source": [
        "## Integrating Fake-and-real-news Real News"
      ]
    },
    {
      "cell_type": "code",
      "metadata": {
        "colab_type": "code",
        "outputId": "35785085-c040-45ba-e563-da728f044d40",
        "id": "7HwEc1jiqnoz",
        "colab": {
          "base_uri": "https://localhost:8080/",
          "height": 35
        }
      },
      "source": [
        "reald = pd.read_csv('/content/drive/My Drive/CS221_Project/True.csv')\n",
        "reald.shape"
      ],
      "execution_count": 20,
      "outputs": [
        {
          "output_type": "execute_result",
          "data": {
            "text/plain": [
              "(21417, 4)"
            ]
          },
          "metadata": {
            "tags": []
          },
          "execution_count": 20
        }
      ]
    },
    {
      "cell_type": "code",
      "metadata": {
        "colab_type": "code",
        "outputId": "be590b3a-a241-491b-9f21-67ce8413e90d",
        "id": "oKlsSKQPqnpI",
        "colab": {
          "base_uri": "https://localhost:8080/",
          "height": 201
        }
      },
      "source": [
        "reald.head()"
      ],
      "execution_count": 21,
      "outputs": [
        {
          "output_type": "execute_result",
          "data": {
            "text/html": [
              "<div>\n",
              "<style scoped>\n",
              "    .dataframe tbody tr th:only-of-type {\n",
              "        vertical-align: middle;\n",
              "    }\n",
              "\n",
              "    .dataframe tbody tr th {\n",
              "        vertical-align: top;\n",
              "    }\n",
              "\n",
              "    .dataframe thead th {\n",
              "        text-align: right;\n",
              "    }\n",
              "</style>\n",
              "<table border=\"1\" class=\"dataframe\">\n",
              "  <thead>\n",
              "    <tr style=\"text-align: right;\">\n",
              "      <th></th>\n",
              "      <th>title</th>\n",
              "      <th>text</th>\n",
              "      <th>subject</th>\n",
              "      <th>date</th>\n",
              "    </tr>\n",
              "  </thead>\n",
              "  <tbody>\n",
              "    <tr>\n",
              "      <th>0</th>\n",
              "      <td>As U.S. budget fight looms, Republicans flip t...</td>\n",
              "      <td>WASHINGTON (Reuters) - The head of a conservat...</td>\n",
              "      <td>politicsNews</td>\n",
              "      <td>December 31, 2017</td>\n",
              "    </tr>\n",
              "    <tr>\n",
              "      <th>1</th>\n",
              "      <td>U.S. military to accept transgender recruits o...</td>\n",
              "      <td>WASHINGTON (Reuters) - Transgender people will...</td>\n",
              "      <td>politicsNews</td>\n",
              "      <td>December 29, 2017</td>\n",
              "    </tr>\n",
              "    <tr>\n",
              "      <th>2</th>\n",
              "      <td>Senior U.S. Republican senator: 'Let Mr. Muell...</td>\n",
              "      <td>WASHINGTON (Reuters) - The special counsel inv...</td>\n",
              "      <td>politicsNews</td>\n",
              "      <td>December 31, 2017</td>\n",
              "    </tr>\n",
              "    <tr>\n",
              "      <th>3</th>\n",
              "      <td>FBI Russia probe helped by Australian diplomat...</td>\n",
              "      <td>WASHINGTON (Reuters) - Trump campaign adviser ...</td>\n",
              "      <td>politicsNews</td>\n",
              "      <td>December 30, 2017</td>\n",
              "    </tr>\n",
              "    <tr>\n",
              "      <th>4</th>\n",
              "      <td>Trump wants Postal Service to charge 'much mor...</td>\n",
              "      <td>SEATTLE/WASHINGTON (Reuters) - President Donal...</td>\n",
              "      <td>politicsNews</td>\n",
              "      <td>December 29, 2017</td>\n",
              "    </tr>\n",
              "  </tbody>\n",
              "</table>\n",
              "</div>"
            ],
            "text/plain": [
              "                                               title  ...                date\n",
              "0  As U.S. budget fight looms, Republicans flip t...  ...  December 31, 2017 \n",
              "1  U.S. military to accept transgender recruits o...  ...  December 29, 2017 \n",
              "2  Senior U.S. Republican senator: 'Let Mr. Muell...  ...  December 31, 2017 \n",
              "3  FBI Russia probe helped by Australian diplomat...  ...  December 30, 2017 \n",
              "4  Trump wants Postal Service to charge 'much mor...  ...  December 29, 2017 \n",
              "\n",
              "[5 rows x 4 columns]"
            ]
          },
          "metadata": {
            "tags": []
          },
          "execution_count": 21
        }
      ]
    },
    {
      "cell_type": "code",
      "metadata": {
        "colab_type": "code",
        "outputId": "25681373-47b2-4a86-859a-4f203fa3b1b5",
        "id": "5NI_nNovq5GH",
        "colab": {
          "base_uri": "https://localhost:8080/",
          "height": 73
        }
      },
      "source": [
        "for key,count in reald.subject.value_counts().iteritems():\n",
        "    print(\"{}:\\t{}\".format(key, count))\n",
        "    \n",
        "print(\"Total Records:\\t{}\".format(reald.shape[0]))"
      ],
      "execution_count": 22,
      "outputs": [
        {
          "output_type": "stream",
          "text": [
            "politicsNews:\t11272\n",
            "worldnews:\t10145\n",
            "Total Records:\t21417\n"
          ],
          "name": "stdout"
        }
      ]
    },
    {
      "cell_type": "code",
      "metadata": {
        "colab_type": "code",
        "id": "Bk1GnRSjq5GP",
        "outputId": "8219f3ba-ad94-41a0-d815-ff4be4aa1986",
        "colab": {
          "base_uri": "https://localhost:8080/",
          "height": 375
        }
      },
      "source": [
        "plt.figure(figsize=(20,5))\n",
        "chart = sns.countplot(\"subject\", data=reald)\n",
        "chart.set_xticklabels(chart.get_xticklabels(), rotation=45)\n",
        "plt.show()"
      ],
      "execution_count": 23,
      "outputs": [
        {
          "output_type": "display_data",
          "data": {
            "image/png": "[encoded data removed]",
            "text/plain": [
              "<Figure size 1440x360 with 1 Axes>"
            ]
          },
          "metadata": {
            "tags": [],
            "needs_background": "light"
          }
        }
      ]
    },
    {
      "cell_type": "code",
      "metadata": {
        "id": "zhvFD7NRrYj2",
        "colab_type": "code",
        "outputId": "8df4f869-8db0-49d4-cac1-f302a7586c0c",
        "colab": {
          "base_uri": "https://localhost:8080/",
          "height": 467
        }
      },
      "source": [
        "#First Creating list of index that do not have publication part\n",
        "unknown_publishers = []\n",
        "for index,row in enumerate(reald.text.values):\n",
        "    try:\n",
        "        record = row.split(\" -\", maxsplit=1)\n",
        "        #if no text part is present, following will give error\n",
        "        record[1]\n",
        "        #if len of publication part is greater than 260\n",
        "        #following will give error, ensuring no text having \"-\" in between is counted\n",
        "        assert(len(record[0]) < 260)\n",
        "    except:\n",
        "        unknown_publishers.append(index)\n",
        "#Thus we have list of indices where publisher is not mentioned\n",
        "#lets check\n",
        "reald.iloc[unknown_publishers].text"
      ],
      "execution_count": 24,
      "outputs": [
        {
          "output_type": "execute_result",
          "data": {
            "text/plain": [
              "3488     The White House on Wednesday disclosed a group...\n",
              "4358     Neil Gorsuch, President Donald Trump’s appoint...\n",
              "4465     WASHINGTON The clock began running out this we...\n",
              "5784     Federal appeals court judge Neil Gorsuch, the ...\n",
              "6660     Republican members of Congress are complaining...\n",
              "6823     Over the course of the U.S. presidential campa...\n",
              "7922     After going through a week reminiscent of Napo...\n",
              "8194     The following timeline charts the origin and s...\n",
              "8195     Global health officials are racing to better u...\n",
              "8247     U.S. President Barack Obama visited a street m...\n",
              "8465     ALGONAC, MICH.—Parker Fox drifted out of the D...\n",
              "8481     Global health officials are racing to better u...\n",
              "8482     The following timeline charts the origin and s...\n",
              "8505     Global health officials are racing to better u...\n",
              "8506     The following timeline charts the origin and s...\n",
              "8771     In a speech weighted with America’s complicate...\n",
              "8970                                                      \n",
              "9008     The following timeline charts the origin and s...\n",
              "9009     Global health officials are racing to better u...\n",
              "9307     It’s the near future, and North Korea’s regime...\n",
              "9618     GOP leaders have unleashed a stunning level of...\n",
              "9737     Caitlyn Jenner posted a video on Wednesday (Ap...\n",
              "10479    The Democratic and Republican nominees for the...\n",
              "Name: text, dtype: object"
            ]
          },
          "metadata": {
            "tags": []
          },
          "execution_count": 24
        }
      ]
    },
    {
      "cell_type": "code",
      "metadata": {
        "id": "iwyvnZKOrCGX",
        "colab_type": "code",
        "outputId": "d7f5364a-3360-49f3-b3a0-54a0300eedae",
        "colab": {
          "base_uri": "https://localhost:8080/",
          "height": 201
        }
      },
      "source": [
        "#Seperating Publication info, from actual text\n",
        "publisher = []\n",
        "tmp_text = []\n",
        "for idx,row in enumerate(reald.text.values):\n",
        "    if idx in unknown_publishers:\n",
        "        #Add unknown of publisher not mentioned\n",
        "        tmp_text.append(row)\n",
        "        publisher.append(\"Unknown\")\n",
        "        continue\n",
        "    record = row.split(\" -\", maxsplit=1)\n",
        "    publisher.append(record[0])\n",
        "    tmp_text.append(record[1])\n",
        "\n",
        "#Replace existing text column with new text\n",
        "#add seperate column for publication info in case we want to use it later\n",
        "reald[\"source\"] = publisher\n",
        "reald[\"text\"] = tmp_text\n",
        "\n",
        "del publisher, tmp_text, record, unknown_publishers\n",
        "reald.head()"
      ],
      "execution_count": 25,
      "outputs": [
        {
          "output_type": "execute_result",
          "data": {
            "text/html": [
              "<div>\n",
              "<style scoped>\n",
              "    .dataframe tbody tr th:only-of-type {\n",
              "        vertical-align: middle;\n",
              "    }\n",
              "\n",
              "    .dataframe tbody tr th {\n",
              "        vertical-align: top;\n",
              "    }\n",
              "\n",
              "    .dataframe thead th {\n",
              "        text-align: right;\n",
              "    }\n",
              "</style>\n",
              "<table border=\"1\" class=\"dataframe\">\n",
              "  <thead>\n",
              "    <tr style=\"text-align: right;\">\n",
              "      <th></th>\n",
              "      <th>title</th>\n",
              "      <th>text</th>\n",
              "      <th>subject</th>\n",
              "      <th>date</th>\n",
              "      <th>source</th>\n",
              "    </tr>\n",
              "  </thead>\n",
              "  <tbody>\n",
              "    <tr>\n",
              "      <th>0</th>\n",
              "      <td>As U.S. budget fight looms, Republicans flip t...</td>\n",
              "      <td>The head of a conservative Republican faction...</td>\n",
              "      <td>politicsNews</td>\n",
              "      <td>December 31, 2017</td>\n",
              "      <td>WASHINGTON (Reuters)</td>\n",
              "    </tr>\n",
              "    <tr>\n",
              "      <th>1</th>\n",
              "      <td>U.S. military to accept transgender recruits o...</td>\n",
              "      <td>Transgender people will be allowed for the fi...</td>\n",
              "      <td>politicsNews</td>\n",
              "      <td>December 29, 2017</td>\n",
              "      <td>WASHINGTON (Reuters)</td>\n",
              "    </tr>\n",
              "    <tr>\n",
              "      <th>2</th>\n",
              "      <td>Senior U.S. Republican senator: 'Let Mr. Muell...</td>\n",
              "      <td>The special counsel investigation of links be...</td>\n",
              "      <td>politicsNews</td>\n",
              "      <td>December 31, 2017</td>\n",
              "      <td>WASHINGTON (Reuters)</td>\n",
              "    </tr>\n",
              "    <tr>\n",
              "      <th>3</th>\n",
              "      <td>FBI Russia probe helped by Australian diplomat...</td>\n",
              "      <td>Trump campaign adviser George Papadopoulos to...</td>\n",
              "      <td>politicsNews</td>\n",
              "      <td>December 30, 2017</td>\n",
              "      <td>WASHINGTON (Reuters)</td>\n",
              "    </tr>\n",
              "    <tr>\n",
              "      <th>4</th>\n",
              "      <td>Trump wants Postal Service to charge 'much mor...</td>\n",
              "      <td>President Donald Trump called on the U.S. Pos...</td>\n",
              "      <td>politicsNews</td>\n",
              "      <td>December 29, 2017</td>\n",
              "      <td>SEATTLE/WASHINGTON (Reuters)</td>\n",
              "    </tr>\n",
              "  </tbody>\n",
              "</table>\n",
              "</div>"
            ],
            "text/plain": [
              "                                               title  ...                        source\n",
              "0  As U.S. budget fight looms, Republicans flip t...  ...          WASHINGTON (Reuters)\n",
              "1  U.S. military to accept transgender recruits o...  ...          WASHINGTON (Reuters)\n",
              "2  Senior U.S. Republican senator: 'Let Mr. Muell...  ...          WASHINGTON (Reuters)\n",
              "3  FBI Russia probe helped by Australian diplomat...  ...          WASHINGTON (Reuters)\n",
              "4  Trump wants Postal Service to charge 'much mor...  ...  SEATTLE/WASHINGTON (Reuters)\n",
              "\n",
              "[5 rows x 5 columns]"
            ]
          },
          "metadata": {
            "tags": []
          },
          "execution_count": 25
        }
      ]
    },
    {
      "cell_type": "code",
      "metadata": {
        "id": "1vmKv7uQrSjT",
        "colab_type": "code",
        "outputId": "9eb72c1b-6c43-4690-d2bb-124eef04fbdf",
        "colab": {
          "base_uri": "https://localhost:8080/",
          "height": 35
        }
      },
      "source": [
        "#checking for rows with empty text\n",
        "[index for index,text in enumerate(reald.text.values) if str(text).strip() == '']"
      ],
      "execution_count": 26,
      "outputs": [
        {
          "output_type": "execute_result",
          "data": {
            "text/plain": [
              "[8970]"
            ]
          },
          "metadata": {
            "tags": []
          },
          "execution_count": 26
        }
      ]
    },
    {
      "cell_type": "code",
      "metadata": {
        "id": "Z795gkKqud9E",
        "colab_type": "code",
        "colab": {}
      },
      "source": [
        "#dropping this record\n",
        "reald = reald.drop(8970, axis=0)"
      ],
      "execution_count": 0,
      "outputs": []
    },
    {
      "cell_type": "code",
      "metadata": {
        "id": "54oREo2jun3-",
        "colab_type": "code",
        "outputId": "265a8e30-b239-4757-ce16-8cd180346608",
        "colab": {
          "base_uri": "https://localhost:8080/",
          "height": 201
        }
      },
      "source": [
        "#renaming date column before merging with FakenewsNet dataset, and adding a class column\n",
        "reald[\"class\"]=1\n",
        "reald = reald.rename(columns={\"date\":\"publish_date\"})\n",
        "reald.head()"
      ],
      "execution_count": 28,
      "outputs": [
        {
          "output_type": "execute_result",
          "data": {
            "text/html": [
              "<div>\n",
              "<style scoped>\n",
              "    .dataframe tbody tr th:only-of-type {\n",
              "        vertical-align: middle;\n",
              "    }\n",
              "\n",
              "    .dataframe tbody tr th {\n",
              "        vertical-align: top;\n",
              "    }\n",
              "\n",
              "    .dataframe thead th {\n",
              "        text-align: right;\n",
              "    }\n",
              "</style>\n",
              "<table border=\"1\" class=\"dataframe\">\n",
              "  <thead>\n",
              "    <tr style=\"text-align: right;\">\n",
              "      <th></th>\n",
              "      <th>title</th>\n",
              "      <th>text</th>\n",
              "      <th>subject</th>\n",
              "      <th>publish_date</th>\n",
              "      <th>source</th>\n",
              "      <th>class</th>\n",
              "    </tr>\n",
              "  </thead>\n",
              "  <tbody>\n",
              "    <tr>\n",
              "      <th>0</th>\n",
              "      <td>As U.S. budget fight looms, Republicans flip t...</td>\n",
              "      <td>The head of a conservative Republican faction...</td>\n",
              "      <td>politicsNews</td>\n",
              "      <td>December 31, 2017</td>\n",
              "      <td>WASHINGTON (Reuters)</td>\n",
              "      <td>1</td>\n",
              "    </tr>\n",
              "    <tr>\n",
              "      <th>1</th>\n",
              "      <td>U.S. military to accept transgender recruits o...</td>\n",
              "      <td>Transgender people will be allowed for the fi...</td>\n",
              "      <td>politicsNews</td>\n",
              "      <td>December 29, 2017</td>\n",
              "      <td>WASHINGTON (Reuters)</td>\n",
              "      <td>1</td>\n",
              "    </tr>\n",
              "    <tr>\n",
              "      <th>2</th>\n",
              "      <td>Senior U.S. Republican senator: 'Let Mr. Muell...</td>\n",
              "      <td>The special counsel investigation of links be...</td>\n",
              "      <td>politicsNews</td>\n",
              "      <td>December 31, 2017</td>\n",
              "      <td>WASHINGTON (Reuters)</td>\n",
              "      <td>1</td>\n",
              "    </tr>\n",
              "    <tr>\n",
              "      <th>3</th>\n",
              "      <td>FBI Russia probe helped by Australian diplomat...</td>\n",
              "      <td>Trump campaign adviser George Papadopoulos to...</td>\n",
              "      <td>politicsNews</td>\n",
              "      <td>December 30, 2017</td>\n",
              "      <td>WASHINGTON (Reuters)</td>\n",
              "      <td>1</td>\n",
              "    </tr>\n",
              "    <tr>\n",
              "      <th>4</th>\n",
              "      <td>Trump wants Postal Service to charge 'much mor...</td>\n",
              "      <td>President Donald Trump called on the U.S. Pos...</td>\n",
              "      <td>politicsNews</td>\n",
              "      <td>December 29, 2017</td>\n",
              "      <td>SEATTLE/WASHINGTON (Reuters)</td>\n",
              "      <td>1</td>\n",
              "    </tr>\n",
              "  </tbody>\n",
              "</table>\n",
              "</div>"
            ],
            "text/plain": [
              "                                               title  ... class\n",
              "0  As U.S. budget fight looms, Republicans flip t...  ...     1\n",
              "1  U.S. military to accept transgender recruits o...  ...     1\n",
              "2  Senior U.S. Republican senator: 'Let Mr. Muell...  ...     1\n",
              "3  FBI Russia probe helped by Australian diplomat...  ...     1\n",
              "4  Trump wants Postal Service to charge 'much mor...  ...     1\n",
              "\n",
              "[5 rows x 6 columns]"
            ]
          },
          "metadata": {
            "tags": []
          },
          "execution_count": 28
        }
      ]
    },
    {
      "cell_type": "markdown",
      "metadata": {
        "colab_type": "text",
        "id": "cxZ2aP_Ev0Oh"
      },
      "source": [
        "## Integrating Fake-and-real-news Fake News"
      ]
    },
    {
      "cell_type": "code",
      "metadata": {
        "colab_type": "code",
        "outputId": "3ef0a646-9715-4121-c4bc-e29a963a465a",
        "id": "cww7UL5Hv0Or",
        "colab": {
          "base_uri": "https://localhost:8080/",
          "height": 35
        }
      },
      "source": [
        "faked = pd.read_csv('/content/drive/My Drive/CS221_Project/Fake.csv')\n",
        "faked.shape"
      ],
      "execution_count": 29,
      "outputs": [
        {
          "output_type": "execute_result",
          "data": {
            "text/plain": [
              "(23481, 4)"
            ]
          },
          "metadata": {
            "tags": []
          },
          "execution_count": 29
        }
      ]
    },
    {
      "cell_type": "code",
      "metadata": {
        "colab_type": "code",
        "outputId": "2d728996-2769-48f6-8ab7-deba99a7a34c",
        "id": "iaBdGqJtv0O2",
        "colab": {
          "base_uri": "https://localhost:8080/",
          "height": 201
        }
      },
      "source": [
        "faked.head()"
      ],
      "execution_count": 30,
      "outputs": [
        {
          "output_type": "execute_result",
          "data": {
            "text/html": [
              "<div>\n",
              "<style scoped>\n",
              "    .dataframe tbody tr th:only-of-type {\n",
              "        vertical-align: middle;\n",
              "    }\n",
              "\n",
              "    .dataframe tbody tr th {\n",
              "        vertical-align: top;\n",
              "    }\n",
              "\n",
              "    .dataframe thead th {\n",
              "        text-align: right;\n",
              "    }\n",
              "</style>\n",
              "<table border=\"1\" class=\"dataframe\">\n",
              "  <thead>\n",
              "    <tr style=\"text-align: right;\">\n",
              "      <th></th>\n",
              "      <th>title</th>\n",
              "      <th>text</th>\n",
              "      <th>subject</th>\n",
              "      <th>date</th>\n",
              "    </tr>\n",
              "  </thead>\n",
              "  <tbody>\n",
              "    <tr>\n",
              "      <th>0</th>\n",
              "      <td>Donald Trump Sends Out Embarrassing New Year’...</td>\n",
              "      <td>Donald Trump just couldn t wish all Americans ...</td>\n",
              "      <td>News</td>\n",
              "      <td>December 31, 2017</td>\n",
              "    </tr>\n",
              "    <tr>\n",
              "      <th>1</th>\n",
              "      <td>Drunk Bragging Trump Staffer Started Russian ...</td>\n",
              "      <td>House Intelligence Committee Chairman Devin Nu...</td>\n",
              "      <td>News</td>\n",
              "      <td>December 31, 2017</td>\n",
              "    </tr>\n",
              "    <tr>\n",
              "      <th>2</th>\n",
              "      <td>Sheriff David Clarke Becomes An Internet Joke...</td>\n",
              "      <td>On Friday, it was revealed that former Milwauk...</td>\n",
              "      <td>News</td>\n",
              "      <td>December 30, 2017</td>\n",
              "    </tr>\n",
              "    <tr>\n",
              "      <th>3</th>\n",
              "      <td>Trump Is So Obsessed He Even Has Obama’s Name...</td>\n",
              "      <td>On Christmas day, Donald Trump announced that ...</td>\n",
              "      <td>News</td>\n",
              "      <td>December 29, 2017</td>\n",
              "    </tr>\n",
              "    <tr>\n",
              "      <th>4</th>\n",
              "      <td>Pope Francis Just Called Out Donald Trump Dur...</td>\n",
              "      <td>Pope Francis used his annual Christmas Day mes...</td>\n",
              "      <td>News</td>\n",
              "      <td>December 25, 2017</td>\n",
              "    </tr>\n",
              "  </tbody>\n",
              "</table>\n",
              "</div>"
            ],
            "text/plain": [
              "                                               title  ...               date\n",
              "0   Donald Trump Sends Out Embarrassing New Year’...  ...  December 31, 2017\n",
              "1   Drunk Bragging Trump Staffer Started Russian ...  ...  December 31, 2017\n",
              "2   Sheriff David Clarke Becomes An Internet Joke...  ...  December 30, 2017\n",
              "3   Trump Is So Obsessed He Even Has Obama’s Name...  ...  December 29, 2017\n",
              "4   Pope Francis Just Called Out Donald Trump Dur...  ...  December 25, 2017\n",
              "\n",
              "[5 rows x 4 columns]"
            ]
          },
          "metadata": {
            "tags": []
          },
          "execution_count": 30
        }
      ]
    },
    {
      "cell_type": "code",
      "metadata": {
        "colab_type": "code",
        "outputId": "6ebcf215-86d0-4c69-af79-5bf906437073",
        "id": "tTm8NrtNv0O7",
        "colab": {
          "base_uri": "https://localhost:8080/",
          "height": 148
        }
      },
      "source": [
        "for key,count in faked.subject.value_counts().iteritems():\n",
        "    print(\"{}:\\t{}\".format(key, count))\n",
        "    \n",
        "print(\"Total Records:\\t{}\".format(faked.shape[0]))"
      ],
      "execution_count": 31,
      "outputs": [
        {
          "output_type": "stream",
          "text": [
            "News:\t9050\n",
            "politics:\t6841\n",
            "left-news:\t4459\n",
            "Government News:\t1570\n",
            "US_News:\t783\n",
            "Middle-east:\t778\n",
            "Total Records:\t23481\n"
          ],
          "name": "stdout"
        }
      ]
    },
    {
      "cell_type": "code",
      "metadata": {
        "colab_type": "code",
        "id": "PtlIoTkMv0PA",
        "outputId": "0eb1ebf6-61b8-4d6f-9125-72221fdd2f67",
        "colab": {
          "base_uri": "https://localhost:8080/",
          "height": 396
        }
      },
      "source": [
        "plt.figure(figsize=(20,5))\n",
        "chart = sns.countplot(\"subject\", data=faked)\n",
        "chart.set_xticklabels(chart.get_xticklabels(), rotation=45)\n",
        "plt.show()"
      ],
      "execution_count": 32,
      "outputs": [
        {
          "output_type": "display_data",
          "data": {
            "image/png": "[encoded data removed]",
            "text/plain": [
              "<Figure size 1440x360 with 1 Axes>"
            ]
          },
          "metadata": {
            "tags": [],
            "needs_background": "light"
          }
        }
      ]
    },
    {
      "cell_type": "code",
      "metadata": {
        "colab_type": "code",
        "outputId": "51a75b3e-88e6-4724-9e93-fcf996fd6626",
        "id": "_HS2tTsUv0PQ",
        "colab": {
          "base_uri": "https://localhost:8080/",
          "height": 219
        }
      },
      "source": [
        "#checking for rows with empty text\n",
        "empty_faked_index = [index for index,text in enumerate(faked.text.values) if str(text).strip() == '']\n",
        "print(\"No of empty rows: {}\".format(len(empty_faked_index)))\n",
        "faked.iloc[empty_faked_index].tail()"
      ],
      "execution_count": 33,
      "outputs": [
        {
          "output_type": "stream",
          "text": [
            "No of empty rows: 630\n"
          ],
          "name": "stdout"
        },
        {
          "output_type": "execute_result",
          "data": {
            "text/html": [
              "<div>\n",
              "<style scoped>\n",
              "    .dataframe tbody tr th:only-of-type {\n",
              "        vertical-align: middle;\n",
              "    }\n",
              "\n",
              "    .dataframe tbody tr th {\n",
              "        vertical-align: top;\n",
              "    }\n",
              "\n",
              "    .dataframe thead th {\n",
              "        text-align: right;\n",
              "    }\n",
              "</style>\n",
              "<table border=\"1\" class=\"dataframe\">\n",
              "  <thead>\n",
              "    <tr style=\"text-align: right;\">\n",
              "      <th></th>\n",
              "      <th>title</th>\n",
              "      <th>text</th>\n",
              "      <th>subject</th>\n",
              "      <th>date</th>\n",
              "    </tr>\n",
              "  </thead>\n",
              "  <tbody>\n",
              "    <tr>\n",
              "      <th>21816</th>\n",
              "      <td>BALTIMORE BURNS: MARYLAND GOVERNOR BRINGS IN N...</td>\n",
              "      <td></td>\n",
              "      <td>left-news</td>\n",
              "      <td>Apr 27, 2015</td>\n",
              "    </tr>\n",
              "    <tr>\n",
              "      <th>21826</th>\n",
              "      <td>FULL VIDEO: THE BLOCKBUSTER INVESTIGATION INTO...</td>\n",
              "      <td></td>\n",
              "      <td>left-news</td>\n",
              "      <td>Apr 25, 2015</td>\n",
              "    </tr>\n",
              "    <tr>\n",
              "      <th>21827</th>\n",
              "      <td>(VIDEO) HILLARY CLINTON: RELIGIOUS BELIEFS MUS...</td>\n",
              "      <td></td>\n",
              "      <td>left-news</td>\n",
              "      <td>Apr 25, 2015</td>\n",
              "    </tr>\n",
              "    <tr>\n",
              "      <th>21857</th>\n",
              "      <td>(VIDEO)ICE PROTECTING OBAMA: WON’T RELEASE NAM...</td>\n",
              "      <td></td>\n",
              "      <td>left-news</td>\n",
              "      <td>Apr 14, 2015</td>\n",
              "    </tr>\n",
              "    <tr>\n",
              "      <th>21873</th>\n",
              "      <td>(VIDEO) HYSTERICAL SNL TAKE ON HILLARY’S ANNOU...</td>\n",
              "      <td></td>\n",
              "      <td>left-news</td>\n",
              "      <td>Apr 12, 2015</td>\n",
              "    </tr>\n",
              "  </tbody>\n",
              "</table>\n",
              "</div>"
            ],
            "text/plain": [
              "                                                   title  ...          date\n",
              "21816  BALTIMORE BURNS: MARYLAND GOVERNOR BRINGS IN N...  ...  Apr 27, 2015\n",
              "21826  FULL VIDEO: THE BLOCKBUSTER INVESTIGATION INTO...  ...  Apr 25, 2015\n",
              "21827  (VIDEO) HILLARY CLINTON: RELIGIOUS BELIEFS MUS...  ...  Apr 25, 2015\n",
              "21857  (VIDEO)ICE PROTECTING OBAMA: WON’T RELEASE NAM...  ...  Apr 14, 2015\n",
              "21873  (VIDEO) HYSTERICAL SNL TAKE ON HILLARY’S ANNOU...  ...  Apr 12, 2015\n",
              "\n",
              "[5 rows x 4 columns]"
            ]
          },
          "metadata": {
            "tags": []
          },
          "execution_count": 33
        }
      ]
    },
    {
      "cell_type": "code",
      "metadata": {
        "colab_type": "code",
        "id": "UNNSiW8lv0PU",
        "outputId": "ea925156-4dd0-4e9d-ac5f-493fe73c9ac0",
        "colab": {
          "base_uri": "https://localhost:8080/",
          "height": 35
        }
      },
      "source": [
        "#dropping this record\n",
        "for i in empty_faked_index:\n",
        "  faked = faked.drop(i, axis=0)\n",
        "\n",
        "faked.shape"
      ],
      "execution_count": 34,
      "outputs": [
        {
          "output_type": "execute_result",
          "data": {
            "text/plain": [
              "(22851, 4)"
            ]
          },
          "metadata": {
            "tags": []
          },
          "execution_count": 34
        }
      ]
    },
    {
      "cell_type": "markdown",
      "metadata": {
        "id": "gbO_1YMj3Krx",
        "colab_type": "text"
      },
      "source": [
        "Removing polluting expressions in both title and text columns"
      ]
    },
    {
      "cell_type": "code",
      "metadata": {
        "id": "RE1hka7j3KMq",
        "colab_type": "code",
        "colab": {}
      },
      "source": [
        "pollution_faked = [\"(VIDEO)\", \"Photo by\", \"/Getty Images\", \"Featured image\", \"pic.twitter.com\"]\n",
        "for i in pollution_faked:\n",
        "    faked['title'] = faked['title'].str.replace(i , '')\n",
        "    faked['text'] = faked['text'].str.replace(i , '')"
      ],
      "execution_count": 0,
      "outputs": []
    },
    {
      "cell_type": "code",
      "metadata": {
        "colab_type": "code",
        "outputId": "1444b638-1ed6-457f-fd76-83d08c683902",
        "id": "Jn6u0Af9v0PY",
        "colab": {
          "base_uri": "https://localhost:8080/",
          "height": 201
        }
      },
      "source": [
        "#renaming date column before merging with FakenewsNet dataset, adding a class column and a source one set to \"Unknown\"\n",
        "faked[\"class\"]=0\n",
        "faked[\"source\"]=\"Unknown\"\n",
        "faked = faked.rename(columns={\"date\":\"publish_date\"})\n",
        "faked.head()"
      ],
      "execution_count": 36,
      "outputs": [
        {
          "output_type": "execute_result",
          "data": {
            "text/html": [
              "<div>\n",
              "<style scoped>\n",
              "    .dataframe tbody tr th:only-of-type {\n",
              "        vertical-align: middle;\n",
              "    }\n",
              "\n",
              "    .dataframe tbody tr th {\n",
              "        vertical-align: top;\n",
              "    }\n",
              "\n",
              "    .dataframe thead th {\n",
              "        text-align: right;\n",
              "    }\n",
              "</style>\n",
              "<table border=\"1\" class=\"dataframe\">\n",
              "  <thead>\n",
              "    <tr style=\"text-align: right;\">\n",
              "      <th></th>\n",
              "      <th>title</th>\n",
              "      <th>text</th>\n",
              "      <th>subject</th>\n",
              "      <th>publish_date</th>\n",
              "      <th>class</th>\n",
              "      <th>source</th>\n",
              "    </tr>\n",
              "  </thead>\n",
              "  <tbody>\n",
              "    <tr>\n",
              "      <th>0</th>\n",
              "      <td>Donald Trump Sends Out Embarrassing New Year’...</td>\n",
              "      <td>Donald Trump just couldn t wish all Americans ...</td>\n",
              "      <td>News</td>\n",
              "      <td>December 31, 2017</td>\n",
              "      <td>0</td>\n",
              "      <td>Unknown</td>\n",
              "    </tr>\n",
              "    <tr>\n",
              "      <th>1</th>\n",
              "      <td>Drunk Bragging Trump Staffer Started Russian ...</td>\n",
              "      <td>House Intelligence Committee Chairman Devin Nu...</td>\n",
              "      <td>News</td>\n",
              "      <td>December 31, 2017</td>\n",
              "      <td>0</td>\n",
              "      <td>Unknown</td>\n",
              "    </tr>\n",
              "    <tr>\n",
              "      <th>2</th>\n",
              "      <td>Sheriff David Clarke Becomes An Internet Joke...</td>\n",
              "      <td>On Friday, it was revealed that former Milwauk...</td>\n",
              "      <td>News</td>\n",
              "      <td>December 30, 2017</td>\n",
              "      <td>0</td>\n",
              "      <td>Unknown</td>\n",
              "    </tr>\n",
              "    <tr>\n",
              "      <th>3</th>\n",
              "      <td>Trump Is So Obsessed He Even Has Obama’s Name...</td>\n",
              "      <td>On Christmas day, Donald Trump announced that ...</td>\n",
              "      <td>News</td>\n",
              "      <td>December 29, 2017</td>\n",
              "      <td>0</td>\n",
              "      <td>Unknown</td>\n",
              "    </tr>\n",
              "    <tr>\n",
              "      <th>4</th>\n",
              "      <td>Pope Francis Just Called Out Donald Trump Dur...</td>\n",
              "      <td>Pope Francis used his annual Christmas Day mes...</td>\n",
              "      <td>News</td>\n",
              "      <td>December 25, 2017</td>\n",
              "      <td>0</td>\n",
              "      <td>Unknown</td>\n",
              "    </tr>\n",
              "  </tbody>\n",
              "</table>\n",
              "</div>"
            ],
            "text/plain": [
              "                                               title  ...   source\n",
              "0   Donald Trump Sends Out Embarrassing New Year’...  ...  Unknown\n",
              "1   Drunk Bragging Trump Staffer Started Russian ...  ...  Unknown\n",
              "2   Sheriff David Clarke Becomes An Internet Joke...  ...  Unknown\n",
              "3   Trump Is So Obsessed He Even Has Obama’s Name...  ...  Unknown\n",
              "4   Pope Francis Just Called Out Donald Trump Dur...  ...  Unknown\n",
              "\n",
              "[5 rows x 6 columns]"
            ]
          },
          "metadata": {
            "tags": []
          },
          "execution_count": 36
        }
      ]
    },
    {
      "cell_type": "markdown",
      "metadata": {
        "colab_type": "text",
        "id": "NbVFsHswybJD"
      },
      "source": [
        "## Merging all 4 datasets into one"
      ]
    },
    {
      "cell_type": "markdown",
      "metadata": {
        "id": "3gEkDZy74wHk",
        "colab_type": "text"
      },
      "source": [
        "**Baseline**: merge title and text, and keep only the resulting value along with the class"
      ]
    },
    {
      "cell_type": "code",
      "metadata": {
        "id": "BFCd1ulp1u1v",
        "colab_type": "code",
        "outputId": "b2635685-4eeb-4c1c-a6f4-81302654ee61",
        "colab": {
          "base_uri": "https://localhost:8080/",
          "height": 201
        }
      },
      "source": [
        "bfreal_short = bfreal[[\"title\", \"text\",\"class\"]]\n",
        "bfreal_short.head()"
      ],
      "execution_count": 37,
      "outputs": [
        {
          "output_type": "execute_result",
          "data": {
            "text/html": [
              "<div>\n",
              "<style scoped>\n",
              "    .dataframe tbody tr th:only-of-type {\n",
              "        vertical-align: middle;\n",
              "    }\n",
              "\n",
              "    .dataframe tbody tr th {\n",
              "        vertical-align: top;\n",
              "    }\n",
              "\n",
              "    .dataframe thead th {\n",
              "        text-align: right;\n",
              "    }\n",
              "</style>\n",
              "<table border=\"1\" class=\"dataframe\">\n",
              "  <thead>\n",
              "    <tr style=\"text-align: right;\">\n",
              "      <th></th>\n",
              "      <th>title</th>\n",
              "      <th>text</th>\n",
              "      <th>class</th>\n",
              "    </tr>\n",
              "  </thead>\n",
              "  <tbody>\n",
              "    <tr>\n",
              "      <th>0</th>\n",
              "      <td>Another Terrorist Attack in NYC…Why Are we STI...</td>\n",
              "      <td>On Saturday, September 17 at 8:30 pm EST, an e...</td>\n",
              "      <td>1</td>\n",
              "    </tr>\n",
              "    <tr>\n",
              "      <th>1</th>\n",
              "      <td>Donald Trump: Drugs a 'Very, Very Big Factor' ...</td>\n",
              "      <td>Less than a day after protests over the police...</td>\n",
              "      <td>1</td>\n",
              "    </tr>\n",
              "    <tr>\n",
              "      <th>2</th>\n",
              "      <td>Obama To UN: ‘Giving Up Liberty, Enhances Secu...</td>\n",
              "      <td>Obama To UN: ‘Giving Up Liberty, Enhances Secu...</td>\n",
              "      <td>1</td>\n",
              "    </tr>\n",
              "    <tr>\n",
              "      <th>3</th>\n",
              "      <td>Trump vs. Clinton: A Fundamental Clash over Ho...</td>\n",
              "      <td>Getty Images Wealth Of Nations Trump vs. Clint...</td>\n",
              "      <td>1</td>\n",
              "    </tr>\n",
              "    <tr>\n",
              "      <th>4</th>\n",
              "      <td>President Obama Vetoes 9/11 Victims Bill, Sett...</td>\n",
              "      <td>President Obama today vetoed a bill that would...</td>\n",
              "      <td>1</td>\n",
              "    </tr>\n",
              "  </tbody>\n",
              "</table>\n",
              "</div>"
            ],
            "text/plain": [
              "                                               title  ... class\n",
              "0  Another Terrorist Attack in NYC…Why Are we STI...  ...     1\n",
              "1  Donald Trump: Drugs a 'Very, Very Big Factor' ...  ...     1\n",
              "2  Obama To UN: ‘Giving Up Liberty, Enhances Secu...  ...     1\n",
              "3  Trump vs. Clinton: A Fundamental Clash over Ho...  ...     1\n",
              "4  President Obama Vetoes 9/11 Victims Bill, Sett...  ...     1\n",
              "\n",
              "[5 rows x 3 columns]"
            ]
          },
          "metadata": {
            "tags": []
          },
          "execution_count": 37
        }
      ]
    },
    {
      "cell_type": "code",
      "metadata": {
        "id": "4ZThA_As2AwD",
        "colab_type": "code",
        "outputId": "8afcda26-e91f-4632-f1d4-23379ffb390b",
        "colab": {
          "base_uri": "https://localhost:8080/",
          "height": 201
        }
      },
      "source": [
        "bffake_short = bffake[[\"title\", \"text\",\"class\"]]\n",
        "bffake_short.head()"
      ],
      "execution_count": 38,
      "outputs": [
        {
          "output_type": "execute_result",
          "data": {
            "text/html": [
              "<div>\n",
              "<style scoped>\n",
              "    .dataframe tbody tr th:only-of-type {\n",
              "        vertical-align: middle;\n",
              "    }\n",
              "\n",
              "    .dataframe tbody tr th {\n",
              "        vertical-align: top;\n",
              "    }\n",
              "\n",
              "    .dataframe thead th {\n",
              "        text-align: right;\n",
              "    }\n",
              "</style>\n",
              "<table border=\"1\" class=\"dataframe\">\n",
              "  <thead>\n",
              "    <tr style=\"text-align: right;\">\n",
              "      <th></th>\n",
              "      <th>title</th>\n",
              "      <th>text</th>\n",
              "      <th>class</th>\n",
              "    </tr>\n",
              "  </thead>\n",
              "  <tbody>\n",
              "    <tr>\n",
              "      <th>0</th>\n",
              "      <td>Proof The Mainstream Media Is Manipulating The...</td>\n",
              "      <td>I woke up this morning to find a variation of ...</td>\n",
              "      <td>0</td>\n",
              "    </tr>\n",
              "    <tr>\n",
              "      <th>1</th>\n",
              "      <td>Charity: Clinton Foundation Distributed “Water...</td>\n",
              "      <td>Former President Bill Clinton and his Clinton ...</td>\n",
              "      <td>0</td>\n",
              "    </tr>\n",
              "    <tr>\n",
              "      <th>2</th>\n",
              "      <td>A Hillary Clinton Administration May be Entire...</td>\n",
              "      <td>After collapsing just before trying to step in...</td>\n",
              "      <td>0</td>\n",
              "    </tr>\n",
              "    <tr>\n",
              "      <th>3</th>\n",
              "      <td>Trump’s Latest Campaign Promise May Be His Mos...</td>\n",
              "      <td>Donald Trump is, well, deplorable. He’s sugges...</td>\n",
              "      <td>0</td>\n",
              "    </tr>\n",
              "    <tr>\n",
              "      <th>4</th>\n",
              "      <td>Website is Down For Maintenance</td>\n",
              "      <td>Website is Down For Maintenance</td>\n",
              "      <td>0</td>\n",
              "    </tr>\n",
              "  </tbody>\n",
              "</table>\n",
              "</div>"
            ],
            "text/plain": [
              "                                               title  ... class\n",
              "0  Proof The Mainstream Media Is Manipulating The...  ...     0\n",
              "1  Charity: Clinton Foundation Distributed “Water...  ...     0\n",
              "2  A Hillary Clinton Administration May be Entire...  ...     0\n",
              "3  Trump’s Latest Campaign Promise May Be His Mos...  ...     0\n",
              "4                    Website is Down For Maintenance  ...     0\n",
              "\n",
              "[5 rows x 3 columns]"
            ]
          },
          "metadata": {
            "tags": []
          },
          "execution_count": 38
        }
      ]
    },
    {
      "cell_type": "code",
      "metadata": {
        "id": "ezIQyAJT2Wh4",
        "colab_type": "code",
        "outputId": "b4f3f99a-fb87-4e40-f2ed-6b95f38c2708",
        "colab": {
          "base_uri": "https://localhost:8080/",
          "height": 201
        }
      },
      "source": [
        "reald_short = reald[[\"title\", \"text\",\"class\"]]\n",
        "reald_short.head()"
      ],
      "execution_count": 39,
      "outputs": [
        {
          "output_type": "execute_result",
          "data": {
            "text/html": [
              "<div>\n",
              "<style scoped>\n",
              "    .dataframe tbody tr th:only-of-type {\n",
              "        vertical-align: middle;\n",
              "    }\n",
              "\n",
              "    .dataframe tbody tr th {\n",
              "        vertical-align: top;\n",
              "    }\n",
              "\n",
              "    .dataframe thead th {\n",
              "        text-align: right;\n",
              "    }\n",
              "</style>\n",
              "<table border=\"1\" class=\"dataframe\">\n",
              "  <thead>\n",
              "    <tr style=\"text-align: right;\">\n",
              "      <th></th>\n",
              "      <th>title</th>\n",
              "      <th>text</th>\n",
              "      <th>class</th>\n",
              "    </tr>\n",
              "  </thead>\n",
              "  <tbody>\n",
              "    <tr>\n",
              "      <th>0</th>\n",
              "      <td>As U.S. budget fight looms, Republicans flip t...</td>\n",
              "      <td>The head of a conservative Republican faction...</td>\n",
              "      <td>1</td>\n",
              "    </tr>\n",
              "    <tr>\n",
              "      <th>1</th>\n",
              "      <td>U.S. military to accept transgender recruits o...</td>\n",
              "      <td>Transgender people will be allowed for the fi...</td>\n",
              "      <td>1</td>\n",
              "    </tr>\n",
              "    <tr>\n",
              "      <th>2</th>\n",
              "      <td>Senior U.S. Republican senator: 'Let Mr. Muell...</td>\n",
              "      <td>The special counsel investigation of links be...</td>\n",
              "      <td>1</td>\n",
              "    </tr>\n",
              "    <tr>\n",
              "      <th>3</th>\n",
              "      <td>FBI Russia probe helped by Australian diplomat...</td>\n",
              "      <td>Trump campaign adviser George Papadopoulos to...</td>\n",
              "      <td>1</td>\n",
              "    </tr>\n",
              "    <tr>\n",
              "      <th>4</th>\n",
              "      <td>Trump wants Postal Service to charge 'much mor...</td>\n",
              "      <td>President Donald Trump called on the U.S. Pos...</td>\n",
              "      <td>1</td>\n",
              "    </tr>\n",
              "  </tbody>\n",
              "</table>\n",
              "</div>"
            ],
            "text/plain": [
              "                                               title  ... class\n",
              "0  As U.S. budget fight looms, Republicans flip t...  ...     1\n",
              "1  U.S. military to accept transgender recruits o...  ...     1\n",
              "2  Senior U.S. Republican senator: 'Let Mr. Muell...  ...     1\n",
              "3  FBI Russia probe helped by Australian diplomat...  ...     1\n",
              "4  Trump wants Postal Service to charge 'much mor...  ...     1\n",
              "\n",
              "[5 rows x 3 columns]"
            ]
          },
          "metadata": {
            "tags": []
          },
          "execution_count": 39
        }
      ]
    },
    {
      "cell_type": "code",
      "metadata": {
        "id": "GOR3yhwW2bxM",
        "colab_type": "code",
        "outputId": "7f5f4252-316e-47ba-848f-e19621cefc52",
        "colab": {
          "base_uri": "https://localhost:8080/",
          "height": 201
        }
      },
      "source": [
        "faked_short = faked[[\"title\", \"text\",\"class\"]]\n",
        "faked_short.tail()"
      ],
      "execution_count": 40,
      "outputs": [
        {
          "output_type": "execute_result",
          "data": {
            "text/html": [
              "<div>\n",
              "<style scoped>\n",
              "    .dataframe tbody tr th:only-of-type {\n",
              "        vertical-align: middle;\n",
              "    }\n",
              "\n",
              "    .dataframe tbody tr th {\n",
              "        vertical-align: top;\n",
              "    }\n",
              "\n",
              "    .dataframe thead th {\n",
              "        text-align: right;\n",
              "    }\n",
              "</style>\n",
              "<table border=\"1\" class=\"dataframe\">\n",
              "  <thead>\n",
              "    <tr style=\"text-align: right;\">\n",
              "      <th></th>\n",
              "      <th>title</th>\n",
              "      <th>text</th>\n",
              "      <th>class</th>\n",
              "    </tr>\n",
              "  </thead>\n",
              "  <tbody>\n",
              "    <tr>\n",
              "      <th>23476</th>\n",
              "      <td>McPain: John McCain Furious That Iran Treated ...</td>\n",
              "      <td>21st Century Wire says As 21WIRE reported earl...</td>\n",
              "      <td>0</td>\n",
              "    </tr>\n",
              "    <tr>\n",
              "      <th>23477</th>\n",
              "      <td>JUSTICE? Yahoo Settles E-mail Privacy Class-ac...</td>\n",
              "      <td>21st Century Wire says It s a familiar theme. ...</td>\n",
              "      <td>0</td>\n",
              "    </tr>\n",
              "    <tr>\n",
              "      <th>23478</th>\n",
              "      <td>Sunnistan: US and Allied ‘Safe Zone’ Plan to T...</td>\n",
              "      <td>Patrick Henningsen  21st Century WireRemember ...</td>\n",
              "      <td>0</td>\n",
              "    </tr>\n",
              "    <tr>\n",
              "      <th>23479</th>\n",
              "      <td>How to Blow $700 Million: Al Jazeera America F...</td>\n",
              "      <td>21st Century Wire says Al Jazeera America will...</td>\n",
              "      <td>0</td>\n",
              "    </tr>\n",
              "    <tr>\n",
              "      <th>23480</th>\n",
              "      <td>10 U.S. Navy Sailors Held by Iranian Military ...</td>\n",
              "      <td>21st Century Wire says As 21WIRE predicted in ...</td>\n",
              "      <td>0</td>\n",
              "    </tr>\n",
              "  </tbody>\n",
              "</table>\n",
              "</div>"
            ],
            "text/plain": [
              "                                                   title  ... class\n",
              "23476  McPain: John McCain Furious That Iran Treated ...  ...     0\n",
              "23477  JUSTICE? Yahoo Settles E-mail Privacy Class-ac...  ...     0\n",
              "23478  Sunnistan: US and Allied ‘Safe Zone’ Plan to T...  ...     0\n",
              "23479  How to Blow $700 Million: Al Jazeera America F...  ...     0\n",
              "23480  10 U.S. Navy Sailors Held by Iranian Military ...  ...     0\n",
              "\n",
              "[5 rows x 3 columns]"
            ]
          },
          "metadata": {
            "tags": []
          },
          "execution_count": 40
        }
      ]
    },
    {
      "cell_type": "code",
      "metadata": {
        "id": "RJ7AjASB2jKW",
        "colab_type": "code",
        "outputId": "a90bef89-1942-47ca-a0f9-7662439ae09c",
        "colab": {
          "base_uri": "https://localhost:8080/",
          "height": 35
        }
      },
      "source": [
        "dataset = bfreal_short.append([bffake_short, reald_short, faked_short], ignore_index=True)\n",
        "dataset.shape"
      ],
      "execution_count": 41,
      "outputs": [
        {
          "output_type": "execute_result",
          "data": {
            "text/plain": [
              "(44449, 3)"
            ]
          },
          "metadata": {
            "tags": []
          },
          "execution_count": 41
        }
      ]
    },
    {
      "cell_type": "code",
      "metadata": {
        "id": "S4I1U-843rXX",
        "colab_type": "code",
        "outputId": "a1f119fb-8213-424b-8b0a-f15045172c57",
        "colab": {
          "base_uri": "https://localhost:8080/",
          "height": 201
        }
      },
      "source": [
        "#Combining Title and Text\n",
        "dataset[\"text\"] = dataset[\"title\"] + \" \" + dataset[\"text\"]\n",
        "dataset = dataset.drop([\"title\"], axis=1)\n",
        "dataset.head()"
      ],
      "execution_count": 42,
      "outputs": [
        {
          "output_type": "execute_result",
          "data": {
            "text/html": [
              "<div>\n",
              "<style scoped>\n",
              "    .dataframe tbody tr th:only-of-type {\n",
              "        vertical-align: middle;\n",
              "    }\n",
              "\n",
              "    .dataframe tbody tr th {\n",
              "        vertical-align: top;\n",
              "    }\n",
              "\n",
              "    .dataframe thead th {\n",
              "        text-align: right;\n",
              "    }\n",
              "</style>\n",
              "<table border=\"1\" class=\"dataframe\">\n",
              "  <thead>\n",
              "    <tr style=\"text-align: right;\">\n",
              "      <th></th>\n",
              "      <th>text</th>\n",
              "      <th>class</th>\n",
              "    </tr>\n",
              "  </thead>\n",
              "  <tbody>\n",
              "    <tr>\n",
              "      <th>0</th>\n",
              "      <td>Another Terrorist Attack in NYC…Why Are we STI...</td>\n",
              "      <td>1</td>\n",
              "    </tr>\n",
              "    <tr>\n",
              "      <th>1</th>\n",
              "      <td>Donald Trump: Drugs a 'Very, Very Big Factor' ...</td>\n",
              "      <td>1</td>\n",
              "    </tr>\n",
              "    <tr>\n",
              "      <th>2</th>\n",
              "      <td>Obama To UN: ‘Giving Up Liberty, Enhances Secu...</td>\n",
              "      <td>1</td>\n",
              "    </tr>\n",
              "    <tr>\n",
              "      <th>3</th>\n",
              "      <td>Trump vs. Clinton: A Fundamental Clash over Ho...</td>\n",
              "      <td>1</td>\n",
              "    </tr>\n",
              "    <tr>\n",
              "      <th>4</th>\n",
              "      <td>President Obama Vetoes 9/11 Victims Bill, Sett...</td>\n",
              "      <td>1</td>\n",
              "    </tr>\n",
              "  </tbody>\n",
              "</table>\n",
              "</div>"
            ],
            "text/plain": [
              "                                                text  class\n",
              "0  Another Terrorist Attack in NYC…Why Are we STI...      1\n",
              "1  Donald Trump: Drugs a 'Very, Very Big Factor' ...      1\n",
              "2  Obama To UN: ‘Giving Up Liberty, Enhances Secu...      1\n",
              "3  Trump vs. Clinton: A Fundamental Clash over Ho...      1\n",
              "4  President Obama Vetoes 9/11 Victims Bill, Sett...      1"
            ]
          },
          "metadata": {
            "tags": []
          },
          "execution_count": 42
        }
      ]
    },
    {
      "cell_type": "code",
      "metadata": {
        "id": "jZuAlsnX4MyU",
        "colab_type": "code",
        "outputId": "9d8ca254-d035-4fa5-ba69-987c92bd1033",
        "colab": {
          "base_uri": "https://localhost:8080/",
          "height": 201
        }
      },
      "source": [
        "dataset.tail()"
      ],
      "execution_count": 43,
      "outputs": [
        {
          "output_type": "execute_result",
          "data": {
            "text/html": [
              "<div>\n",
              "<style scoped>\n",
              "    .dataframe tbody tr th:only-of-type {\n",
              "        vertical-align: middle;\n",
              "    }\n",
              "\n",
              "    .dataframe tbody tr th {\n",
              "        vertical-align: top;\n",
              "    }\n",
              "\n",
              "    .dataframe thead th {\n",
              "        text-align: right;\n",
              "    }\n",
              "</style>\n",
              "<table border=\"1\" class=\"dataframe\">\n",
              "  <thead>\n",
              "    <tr style=\"text-align: right;\">\n",
              "      <th></th>\n",
              "      <th>text</th>\n",
              "      <th>class</th>\n",
              "    </tr>\n",
              "  </thead>\n",
              "  <tbody>\n",
              "    <tr>\n",
              "      <th>44444</th>\n",
              "      <td>McPain: John McCain Furious That Iran Treated ...</td>\n",
              "      <td>0</td>\n",
              "    </tr>\n",
              "    <tr>\n",
              "      <th>44445</th>\n",
              "      <td>JUSTICE? Yahoo Settles E-mail Privacy Class-ac...</td>\n",
              "      <td>0</td>\n",
              "    </tr>\n",
              "    <tr>\n",
              "      <th>44446</th>\n",
              "      <td>Sunnistan: US and Allied ‘Safe Zone’ Plan to T...</td>\n",
              "      <td>0</td>\n",
              "    </tr>\n",
              "    <tr>\n",
              "      <th>44447</th>\n",
              "      <td>How to Blow $700 Million: Al Jazeera America F...</td>\n",
              "      <td>0</td>\n",
              "    </tr>\n",
              "    <tr>\n",
              "      <th>44448</th>\n",
              "      <td>10 U.S. Navy Sailors Held by Iranian Military ...</td>\n",
              "      <td>0</td>\n",
              "    </tr>\n",
              "  </tbody>\n",
              "</table>\n",
              "</div>"
            ],
            "text/plain": [
              "                                                    text  class\n",
              "44444  McPain: John McCain Furious That Iran Treated ...      0\n",
              "44445  JUSTICE? Yahoo Settles E-mail Privacy Class-ac...      0\n",
              "44446  Sunnistan: US and Allied ‘Safe Zone’ Plan to T...      0\n",
              "44447  How to Blow $700 Million: Al Jazeera America F...      0\n",
              "44448  10 U.S. Navy Sailors Held by Iranian Military ...      0"
            ]
          },
          "metadata": {
            "tags": []
          },
          "execution_count": 43
        }
      ]
    },
    {
      "cell_type": "code",
      "metadata": {
        "id": "ordoXqi_W_mG",
        "colab_type": "code",
        "outputId": "3a30ec05-aad2-497c-d491-5375b63694e9",
        "colab": {
          "base_uri": "https://localhost:8080/",
          "height": 73
        }
      },
      "source": [
        "dataset.count()"
      ],
      "execution_count": 44,
      "outputs": [
        {
          "output_type": "execute_result",
          "data": {
            "text/plain": [
              "text     44449\n",
              "class    44449\n",
              "dtype: int64"
            ]
          },
          "metadata": {
            "tags": []
          },
          "execution_count": 44
        }
      ]
    },
    {
      "cell_type": "code",
      "metadata": {
        "id": "82Lt_XAVX6pc",
        "colab_type": "code",
        "outputId": "111c92f1-af98-4d51-b880-7a65a4c28713",
        "colab": {
          "base_uri": "https://localhost:8080/",
          "height": 73
        }
      },
      "source": [
        "dataset[\"class\"].value_counts()"
      ],
      "execution_count": 45,
      "outputs": [
        {
          "output_type": "execute_result",
          "data": {
            "text/plain": [
              "0    22942\n",
              "1    21507\n",
              "Name: class, dtype: int64"
            ]
          },
          "metadata": {
            "tags": []
          },
          "execution_count": 45
        }
      ]
    },
    {
      "cell_type": "code",
      "metadata": {
        "id": "rWtZUGHU2_BA",
        "colab_type": "code",
        "outputId": "b59c1f13-6e18-4565-cbc7-dd602704fc57",
        "colab": {
          "base_uri": "https://localhost:8080/",
          "height": 335
        }
      },
      "source": [
        "#Plotting total number of Fake and Real news\n",
        "plt.figure(figsize=(20,5))\n",
        "chart = sns.countplot(\"class\", data=dataset)\n",
        "chart.set_xticklabels(chart.get_xticklabels(), rotation=45)\n",
        "plt.show()"
      ],
      "execution_count": 46,
      "outputs": [
        {
          "output_type": "display_data",
          "data": {
            "image/png": "[encoded data removed]",
            "text/plain": [
              "<Figure size 1440x360 with 1 Axes>"
            ]
          },
          "metadata": {
            "tags": [],
            "needs_background": "light"
          }
        }
      ]
    },
    {
      "cell_type": "code",
      "metadata": {
        "id": "H8Y8TgkCdR3P",
        "colab_type": "code",
        "colab": {}
      },
      "source": [
        "del bfreal, bfreal_short, bffake, bffake_short, reald, reald_short, faked, faked_short"
      ],
      "execution_count": 0,
      "outputs": []
    },
    {
      "cell_type": "markdown",
      "metadata": {
        "id": "jE7FkFSzn__A",
        "colab_type": "text"
      },
      "source": [
        "# **Generating Oracle**"
      ]
    },
    {
      "cell_type": "code",
      "metadata": {
        "id": "8ZooNWUkojQR",
        "colab_type": "code",
        "colab": {}
      },
      "source": [
        "num_samples = 25\n",
        "sampled = dataset.sample(n=num_samples)\n",
        "sampled['text'].to_csv('/content/drive/My Drive/CS221_Project/oracle_data.csv', index=False)"
      ],
      "execution_count": 0,
      "outputs": []
    },
    {
      "cell_type": "markdown",
      "metadata": {
        "id": "ZRDT_AxEppXy",
        "colab_type": "text"
      },
      "source": [
        "After we've generated the file, we'd fill it out and then\n",
        "run the following:"
      ]
    },
    {
      "cell_type": "code",
      "metadata": {
        "id": "oEOiXo-BpsRl",
        "colab_type": "code",
        "outputId": "7af889f2-d79d-4214-9a4c-6897a78e07d8",
        "colab": {
          "base_uri": "https://localhost:8080/",
          "height": 92
        }
      },
      "source": [
        "sampled = pd.read_csv('/content/drive/My Drive/CS221_Project/oracle_answers.csv')\n",
        "guesses = pd.read_csv('/content/drive/My Drive/CS221_Project/oracle_data_filled_lowercase.csv')\n",
        "guesses['roland'] = pd.to_numeric(guesses['roland'])\n",
        "guesses['sathya'] = pd.to_numeric(guesses['sathya'])\n",
        "accuracy = pd.DataFrame()\n",
        "accuracy['roland'] = (sampled['class']==guesses['roland'])\n",
        "accuracy['sathya'] = (sampled['class']==guesses['sathya'])\n",
        "accuracy['max'] = (accuracy['sathya'] | accuracy['roland']) #picking the right answer if one of us chose it\n",
        "accuracy['min'] = (accuracy['sathya'] & accuracy['roland']) #picking the wrong answer if one of us chose it\n",
        "print(\"Roland accuracy: \", sum(accuracy['roland'])/num_samples)\n",
        "print(\"Sathya accuracy: \", sum(accuracy['sathya'])/num_samples)\n",
        "print(\"Maximum accuracy: \", sum(accuracy['max'])/num_samples)\n",
        "print(\"Minimum accuracy: \", sum(accuracy['min'])/num_samples)"
      ],
      "execution_count": 49,
      "outputs": [
        {
          "output_type": "stream",
          "text": [
            "Roland accuracy:  0.52\n",
            "Sathya accuracy:  0.52\n",
            "Maximum accuracy:  0.56\n",
            "Minimum accuracy:  0.48\n"
          ],
          "name": "stdout"
        }
      ]
    },
    {
      "cell_type": "markdown",
      "metadata": {
        "id": "YA_2VxcbPqn2",
        "colab_type": "text"
      },
      "source": [
        "# **Data Preprocessing**"
      ]
    },
    {
      "cell_type": "markdown",
      "metadata": {
        "id": "SjPhQLQhy3ek",
        "colab_type": "text"
      },
      "source": [
        "## Data cleaning"
      ]
    },
    {
      "cell_type": "code",
      "metadata": {
        "id": "W_6rfyv8yvdr",
        "colab_type": "code",
        "colab": {}
      },
      "source": [
        "\"\"\"\n",
        "A utility function to remove numerical characters from the text.\n",
        "\n",
        "\"\"\"\n",
        "\n",
        "def remove_nums(text):\n",
        "    text = ''.join([i for i in text if not i.isdigit()])         \n",
        "    return text\n",
        "\n",
        "\n",
        "\"\"\"\n",
        "A utility function to remove URL links from the text.\n",
        "\n",
        "\"\"\"\n",
        "\n",
        "def remove_URL(text):\n",
        "    url = re.compile(r'https?://\\S+|www\\.\\S+')\n",
        "    return url.sub(r'',text)\n",
        "\n",
        "\n",
        "\"\"\"\n",
        "A utility function to remove HTML tags from the text.\n",
        "\n",
        "\"\"\"\n",
        "\n",
        "def remove_html(text):\n",
        "    html=re.compile(r'<.*?>')\n",
        "    return html.sub(r'',text)\n",
        "\n",
        "\n",
        "\"\"\"\n",
        "A utility function to remove emojis from the text.\n",
        "\n",
        "\"\"\"\n",
        "\n",
        "def remove_emoji(text):\n",
        "    emoji_pattern = re.compile(\"[\"\n",
        "                           u\"\\U0001F600-\\U0001F64F\"  # emoticons\n",
        "                           u\"\\U0001F300-\\U0001F5FF\"  # symbols & pictographs\n",
        "                           u\"\\U0001F680-\\U0001F6FF\"  # transport & map symbols\n",
        "                           u\"\\U0001F1E0-\\U0001F1FF\"  # flags (iOS)\n",
        "                           u\"\\U00002702-\\U000027B0\"\n",
        "                           u\"\\U000024C2-\\U0001F251\"\n",
        "                           \"]+\", flags=re.UNICODE)\n",
        "    return emoji_pattern.sub(r'', text)"
      ],
      "execution_count": 0,
      "outputs": []
    },
    {
      "cell_type": "code",
      "metadata": {
        "id": "Cw5Xeu_Dy0nV",
        "colab_type": "code",
        "colab": {}
      },
      "source": [
        "#dataset[\"text\"].apply(lambda x: remove_nums(x))\n",
        "dataset['text'] = dataset[\"text\"].apply(lambda x: remove_URL(x))\n",
        "dataset['text'] = dataset[\"text\"].apply(lambda x: remove_html(x))\n",
        "dataset['text'] = dataset[\"text\"].apply(lambda x: remove_emoji(x))"
      ],
      "execution_count": 0,
      "outputs": []
    },
    {
      "cell_type": "code",
      "metadata": {
        "id": "FgBR-n9rbf2R",
        "colab_type": "code",
        "colab": {}
      },
      "source": [
        "%%capture\n",
        "#!pip install spellchecker\n",
        "#!pip install indexer\n",
        "#!pip install pyspellchecker"
      ],
      "execution_count": 0,
      "outputs": []
    },
    {
      "cell_type": "code",
      "metadata": {
        "id": "XIyar2C4aBI4",
        "colab_type": "code",
        "colab": {}
      },
      "source": [
        "# OPTIONAL - VERY SLOW - Spelling correction\n",
        "\n",
        "#from spellchecker import SpellChecker\n",
        "\n",
        "#spell = SpellChecker()\n",
        "#def correct_spellings(text):\n",
        "#    corrected_text = []\n",
        "#    misspelled_words = spell.unknown(text.split())\n",
        "#    for word in text.split():\n",
        "#        if word in misspelled_words:\n",
        "#            corrected_text.append(spell.correction(word))\n",
        "#        else:\n",
        "#            corrected_text.append(word)\n",
        "#    return \" \".join(corrected_text)\n",
        "\n",
        "#dataset[\"text\"].apply(lambda text: correct_spellings(text))\n",
        "#dataset.head(10)"
      ],
      "execution_count": 0,
      "outputs": []
    },
    {
      "cell_type": "markdown",
      "metadata": {
        "id": "c08GWzm15L3c",
        "colab_type": "text"
      },
      "source": [
        "## Tokenization and stopwords removal"
      ]
    },
    {
      "cell_type": "code",
      "metadata": {
        "id": "FVqRsKO4467O",
        "colab_type": "code",
        "colab": {}
      },
      "source": [
        "y = []\n",
        "y = dataset[\"class\"].values\n",
        "#Converting X to format acceptable by gensim, removing stopwords and punctuation in the process\n",
        "stop_words = set(nltk.corpus.stopwords.words(\"english\"))\n",
        "X = []\n",
        "tokenizer = nltk.tokenize.RegexpTokenizer(r'\\w+')\n",
        "for par in dataset[\"text\"].values:\n",
        "    tmp = []\n",
        "    sentences = nltk.sent_tokenize(par)\n",
        "    for sent in sentences:\n",
        "        sent = sent.lower()\n",
        "        tokens = tokenizer.tokenize(sent)\n",
        "        filtered_words = [w.strip() for w in tokens if w not in stop_words and len(w) > 1]\n",
        "        tmp.extend(filtered_words)\n",
        "    X.append(tmp)\n",
        "\n",
        "#del dataset"
      ],
      "execution_count": 0,
      "outputs": []
    },
    {
      "cell_type": "code",
      "metadata": {
        "id": "asAzeDpzZqDD",
        "colab_type": "code",
        "outputId": "be01321f-7e5c-4e8b-f23c-41bb2e8cc35e",
        "colab": {
          "base_uri": "https://localhost:8080/",
          "height": 204
        }
      },
      "source": [
        "X[1][:10]"
      ],
      "execution_count": 55,
      "outputs": [
        {
          "output_type": "execute_result",
          "data": {
            "text/plain": [
              "['donald',\n",
              " 'trump',\n",
              " 'drugs',\n",
              " 'big',\n",
              " 'factor',\n",
              " 'charlotte',\n",
              " 'protests',\n",
              " 'less',\n",
              " 'day',\n",
              " 'protests']"
            ]
          },
          "metadata": {
            "tags": []
          },
          "execution_count": 55
        }
      ]
    },
    {
      "cell_type": "code",
      "metadata": {
        "id": "sTCSlWsAbOH2",
        "colab_type": "code",
        "outputId": "2aebabef-94d5-4999-bed2-5bb7851a86dc",
        "colab": {
          "base_uri": "https://localhost:8080/",
          "height": 35
        }
      },
      "source": [
        "#Confirming that X is a list of all news\n",
        "len(X)"
      ],
      "execution_count": 56,
      "outputs": [
        {
          "output_type": "execute_result",
          "data": {
            "text/plain": [
              "44449"
            ]
          },
          "metadata": {
            "tags": []
          },
          "execution_count": 56
        }
      ]
    },
    {
      "cell_type": "code",
      "metadata": {
        "id": "ANHyl6qXPiwd",
        "colab_type": "code",
        "outputId": "a21c06a2-cfe0-4d2f-82ca-07018a92bd8c",
        "colab": {
          "base_uri": "https://localhost:8080/",
          "height": 35
        }
      },
      "source": [
        "#checking for rows with empty text\n",
        "empty_X_lines = [index for index,text in enumerate(X) if text == []]\n",
        "print(empty_X_lines)"
      ],
      "execution_count": 57,
      "outputs": [
        {
          "output_type": "stream",
          "text": [
            "[30956, 36727, 36728, 37030, 37031, 38550, 38551, 42838, 42839]\n"
          ],
          "name": "stdout"
        }
      ]
    },
    {
      "cell_type": "code",
      "metadata": {
        "id": "vXYiDYRHQcKg",
        "colab_type": "code",
        "outputId": "bba50e99-21ba-4868-faa6-376a05bb4eb4",
        "colab": {
          "base_uri": "https://localhost:8080/",
          "height": 35
        }
      },
      "source": [
        "#Dropping those lines in both X and y\n",
        "for i in reversed(empty_X_lines):\n",
        "  del X[i]\n",
        "  y = np.delete(y,i)\n",
        "\n",
        "print(len(X), len(y))"
      ],
      "execution_count": 58,
      "outputs": [
        {
          "output_type": "stream",
          "text": [
            "44440 44440\n"
          ],
          "name": "stdout"
        }
      ]
    },
    {
      "cell_type": "code",
      "metadata": {
        "id": "QTX3JzQDcOzQ",
        "colab_type": "code",
        "outputId": "8ccfdabb-6438-4f6a-bfda-553d120ac263",
        "colab": {
          "base_uri": "https://localhost:8080/",
          "height": 35
        }
      },
      "source": [
        "#Identifying indexes of real and fake news\n",
        "real_idx = [i for i,v in enumerate(y) if v == 1]\n",
        "fake_idx = [i for i,v in enumerate(y) if v == 0]\n",
        "print(len(real_idx), len(fake_idx))"
      ],
      "execution_count": 59,
      "outputs": [
        {
          "output_type": "stream",
          "text": [
            "21507 22933\n"
          ],
          "name": "stdout"
        }
      ]
    },
    {
      "cell_type": "code",
      "metadata": {
        "id": "CjRmEpk3eHEx",
        "colab_type": "code",
        "outputId": "2a7e8382-7c4a-4cdb-a424-31dc99b06790",
        "colab": {
          "base_uri": "https://localhost:8080/",
          "height": 35
        }
      },
      "source": [
        "X_real = []\n",
        "X_fake = []\n",
        "X_real = [X[i] for i in real_idx]\n",
        "X_fake = [X[j] for j in fake_idx]\n",
        "print(len(X_real), len(X_fake))"
      ],
      "execution_count": 60,
      "outputs": [
        {
          "output_type": "stream",
          "text": [
            "21507 22933\n"
          ],
          "name": "stdout"
        }
      ]
    },
    {
      "cell_type": "markdown",
      "metadata": {
        "id": "tNSSrLShDncw",
        "colab_type": "text"
      },
      "source": [
        "## Optional - Frequent words removal"
      ]
    },
    {
      "cell_type": "code",
      "metadata": {
        "id": "8yCmHFahpUPD",
        "colab_type": "code",
        "outputId": "d12fa4c5-0e27-4649-a2d1-e20288ddb21c",
        "colab": {
          "base_uri": "https://localhost:8080/",
          "height": 74
        }
      },
      "source": [
        "# OPTIONAL - Removing frequent and rare words from X_real\n",
        "\n",
        "cnt_real = Counter()\n",
        "for news in X_real:\n",
        "  for word in news:\n",
        "    cnt_real[word] += 1\n",
        "\n",
        "n_rare_words = 10\n",
        "RAREWORDS_real = set([w for (w, wc) in cnt_real.most_common()[:-n_rare_words-1:-1]])\n",
        "        \n",
        "FREQWORDS_real = set([w for (w, wc) in cnt_real.most_common(15)])\n",
        "\n",
        "print('Rare words in Real dataset:', RAREWORDS_real)\n",
        "print('Frequent words in Real dataset:', FREQWORDS_real)"
      ],
      "execution_count": 61,
      "outputs": [
        {
          "output_type": "stream",
          "text": [
            "Rare words in Real dataset: {'zhbankov', 'suhkoi', '1054', 'lukita', 'belgazprombank', 'maksim', 'perusahaan', 'hipster', 'perdangangan', 'enggartiasto'}\n",
            "Frequent words in Real dataset: {'state', 'states', 'people', 'republican', 'told', 'trump', 'said', 'united', 'house', 'year', 'also', 'would', 'president', 'new', 'government'}\n"
          ],
          "name": "stdout"
        }
      ]
    },
    {
      "cell_type": "code",
      "metadata": {
        "id": "YAm4eT1jnNcb",
        "colab_type": "code",
        "outputId": "01b68a03-dc7a-4ab4-e6ee-9ded81cc13e2",
        "colab": {
          "base_uri": "https://localhost:8080/",
          "height": 204
        }
      },
      "source": [
        "X_real_freq = []\n",
        "tmp = []\n",
        "for news in X_real:\n",
        "  filtered_words = [w.strip() for w in news if w not in FREQWORDS_real and w not in RAREWORDS_real]\n",
        "  tmp.append(filtered_words)\n",
        "X_real_freq.extend(tmp)\n",
        "\n",
        "X_real_freq[1][:10]"
      ],
      "execution_count": 62,
      "outputs": [
        {
          "output_type": "execute_result",
          "data": {
            "text/plain": [
              "['donald',\n",
              " 'drugs',\n",
              " 'big',\n",
              " 'factor',\n",
              " 'charlotte',\n",
              " 'protests',\n",
              " 'less',\n",
              " 'day',\n",
              " 'protests',\n",
              " 'police']"
            ]
          },
          "metadata": {
            "tags": []
          },
          "execution_count": 62
        }
      ]
    },
    {
      "cell_type": "code",
      "metadata": {
        "id": "9cO_FpPIZIuO",
        "colab_type": "code",
        "outputId": "40ec7bbb-a81f-457b-eb2c-1686896001db",
        "colab": {
          "base_uri": "https://localhost:8080/",
          "height": 74
        }
      },
      "source": [
        "# OPTIONAL - Removing frequent and rare words from X_fake\n",
        "\n",
        "cnt_fake = Counter()\n",
        "for news in X_fake:\n",
        "  for word in news:\n",
        "    cnt_fake[word] += 1\n",
        "\n",
        "n_rare_words = 10\n",
        "RAREWORDS_fake = set([w for (w, wc) in cnt_fake.most_common()[:-n_rare_words-1:-1]])\n",
        "        \n",
        "FREQWORDS_fake = set([w for (w, wc) in cnt_fake.most_common(15)])\n",
        "\n",
        "print('Rare words in Fake dataset:', RAREWORDS_fake)\n",
        "print('Frequent words in Fake dataset:', FREQWORDS_fake)"
      ],
      "execution_count": 63,
      "outputs": [
        {
          "output_type": "stream",
          "text": [
            "Rare words in Fake dataset: {'frenchglen', 'glerup', 'a4', 'betti', 'j1', 'barricading', 'treehousehere', 'exemplifying', 'ramification', 'mondoweiss'}\n",
            "Frequent words in Fake dataset: {'us', 'like', 'people', 'news', 'donald', 'trump', 'said', 'also', 'would', 'clinton', 'hillary', 'president', 'new', 'one', 'obama'}\n"
          ],
          "name": "stdout"
        }
      ]
    },
    {
      "cell_type": "code",
      "metadata": {
        "id": "cW7vEJIdngTx",
        "colab_type": "code",
        "outputId": "fc89ce42-49fc-4423-ee08-857a6d3b6408",
        "colab": {
          "base_uri": "https://localhost:8080/",
          "height": 204
        }
      },
      "source": [
        "X_fake_freq = []\n",
        "tmp = []\n",
        "for news in X_fake:\n",
        "  filtered_words = [w.strip() for w in news if w not in FREQWORDS_fake and w not in RAREWORDS_fake]\n",
        "  tmp.append(filtered_words)\n",
        "X_fake_freq.extend(tmp)\n",
        "\n",
        "X_fake_freq[1][:10]"
      ],
      "execution_count": 64,
      "outputs": [
        {
          "output_type": "execute_result",
          "data": {
            "text/plain": [
              "['charity',\n",
              " 'foundation',\n",
              " 'distributed',\n",
              " 'watered',\n",
              " 'aids',\n",
              " 'drugs',\n",
              " 'sub',\n",
              " 'saharan',\n",
              " 'africa',\n",
              " 'former']"
            ]
          },
          "metadata": {
            "tags": []
          },
          "execution_count": 64
        }
      ]
    },
    {
      "cell_type": "code",
      "metadata": {
        "id": "0_y3EiWQZgcF",
        "colab_type": "code",
        "outputId": "10ebc7af-f42a-452d-bf1b-251b61dffcb1",
        "colab": {
          "base_uri": "https://localhost:8080/",
          "height": 35
        }
      },
      "source": [
        "#Recreating X with removed frequencies\n",
        "X_freq = X_real_freq + X_fake_freq\n",
        "y_freq = [1] * len(X_real_freq) + [0] * len(X_fake_freq)\n",
        "print(len(X_freq), len(y_freq))\n",
        "\n",
        "#Uncomment the following if you want to replace the original \"X\" to impact all following steps with removed frequencies\n",
        "X = []\n",
        "y = []\n",
        "X = X_freq\n",
        "y = y_freq\n",
        "X_real = []\n",
        "X_fake = []\n",
        "X_real = X_real_freq\n",
        "X_fake = X_fake_freq"
      ],
      "execution_count": 65,
      "outputs": [
        {
          "output_type": "stream",
          "text": [
            "44440 44440\n"
          ],
          "name": "stdout"
        }
      ]
    },
    {
      "cell_type": "code",
      "metadata": {
        "id": "KPT2lRtVn1d4",
        "colab_type": "code",
        "outputId": "e64f304f-b9e2-480d-dab2-c4e4f05b9f1c",
        "colab": {
          "base_uri": "https://localhost:8080/",
          "height": 204
        }
      },
      "source": [
        "#Ensuring that the word \"Trump\" has disappeared\n",
        "X_freq[1][:10]"
      ],
      "execution_count": 66,
      "outputs": [
        {
          "output_type": "execute_result",
          "data": {
            "text/plain": [
              "['donald',\n",
              " 'drugs',\n",
              " 'big',\n",
              " 'factor',\n",
              " 'charlotte',\n",
              " 'protests',\n",
              " 'less',\n",
              " 'day',\n",
              " 'protests',\n",
              " 'police']"
            ]
          },
          "metadata": {
            "tags": []
          },
          "execution_count": 66
        }
      ]
    },
    {
      "cell_type": "code",
      "metadata": {
        "id": "WjJ09ElwrJmK",
        "colab_type": "code",
        "colab": {}
      },
      "source": [
        "#put X back together and save as a CSV for input into BERT.\n",
        "bert_dataset = []\n",
        "for entry in X:\n",
        "  bert_dataset.append(' '.join(entry))\n",
        "bert_dataset = np.asarray(bert_dataset) \n",
        "bert_dataset = pd.DataFrame(data=bert_dataset, columns=[\"text\"])\n",
        "bert_dataset['class'] = dataset['class']"
      ],
      "execution_count": 0,
      "outputs": []
    },
    {
      "cell_type": "code",
      "metadata": {
        "id": "D9rT6WM5QKrp",
        "colab_type": "code",
        "outputId": "4b655379-ddb2-4d72-9824-2f0710cd68c4",
        "colab": {
          "base_uri": "https://localhost:8080/",
          "height": 353
        }
      },
      "source": [
        "#bert_dataset.to_csv('/content/drive/My Drive/CS221_Project/dataset_reference.csv', index=False)\n",
        "bert_dataset.head(10)"
      ],
      "execution_count": 68,
      "outputs": [
        {
          "output_type": "execute_result",
          "data": {
            "text/html": [
              "<div>\n",
              "<style scoped>\n",
              "    .dataframe tbody tr th:only-of-type {\n",
              "        vertical-align: middle;\n",
              "    }\n",
              "\n",
              "    .dataframe tbody tr th {\n",
              "        vertical-align: top;\n",
              "    }\n",
              "\n",
              "    .dataframe thead th {\n",
              "        text-align: right;\n",
              "    }\n",
              "</style>\n",
              "<table border=\"1\" class=\"dataframe\">\n",
              "  <thead>\n",
              "    <tr style=\"text-align: right;\">\n",
              "      <th></th>\n",
              "      <th>text</th>\n",
              "      <th>class</th>\n",
              "    </tr>\n",
              "  </thead>\n",
              "  <tbody>\n",
              "    <tr>\n",
              "      <th>0</th>\n",
              "      <td>another terrorist attack nyc still politically...</td>\n",
              "      <td>1</td>\n",
              "    </tr>\n",
              "    <tr>\n",
              "      <th>1</th>\n",
              "      <td>donald drugs big factor charlotte protests les...</td>\n",
              "      <td>1</td>\n",
              "    </tr>\n",
              "    <tr>\n",
              "      <th>2</th>\n",
              "      <td>obama un giving liberty enhances security amer...</td>\n",
              "      <td>1</td>\n",
              "    </tr>\n",
              "    <tr>\n",
              "      <th>3</th>\n",
              "      <td>vs clinton fundamental clash economy works get...</td>\n",
              "      <td>1</td>\n",
              "    </tr>\n",
              "    <tr>\n",
              "      <th>4</th>\n",
              "      <td>obama vetoes 11 victims bill setting showdown ...</td>\n",
              "      <td>1</td>\n",
              "    </tr>\n",
              "    <tr>\n",
              "      <th>5</th>\n",
              "      <td>chaos nc protest mob ambushes female truck dri...</td>\n",
              "      <td>1</td>\n",
              "    </tr>\n",
              "    <tr>\n",
              "      <th>6</th>\n",
              "      <td>10 moments mattered hillary clinton donald fir...</td>\n",
              "      <td>1</td>\n",
              "    </tr>\n",
              "    <tr>\n",
              "      <th>7</th>\n",
              "      <td>young girl emotional council speech laments sh...</td>\n",
              "      <td>1</td>\n",
              "    </tr>\n",
              "    <tr>\n",
              "      <th>8</th>\n",
              "      <td>jeb bush lecture harvard fall story highlights...</td>\n",
              "      <td>1</td>\n",
              "    </tr>\n",
              "    <tr>\n",
              "      <th>9</th>\n",
              "      <td>clinton vs debate debate hillary clinton campa...</td>\n",
              "      <td>1</td>\n",
              "    </tr>\n",
              "  </tbody>\n",
              "</table>\n",
              "</div>"
            ],
            "text/plain": [
              "                                                text  class\n",
              "0  another terrorist attack nyc still politically...      1\n",
              "1  donald drugs big factor charlotte protests les...      1\n",
              "2  obama un giving liberty enhances security amer...      1\n",
              "3  vs clinton fundamental clash economy works get...      1\n",
              "4  obama vetoes 11 victims bill setting showdown ...      1\n",
              "5  chaos nc protest mob ambushes female truck dri...      1\n",
              "6  10 moments mattered hillary clinton donald fir...      1\n",
              "7  young girl emotional council speech laments sh...      1\n",
              "8  jeb bush lecture harvard fall story highlights...      1\n",
              "9  clinton vs debate debate hillary clinton campa...      1"
            ]
          },
          "metadata": {
            "tags": []
          },
          "execution_count": 68
        }
      ]
    },
    {
      "cell_type": "markdown",
      "metadata": {
        "id": "GeKI7JS9YHDg",
        "colab_type": "text"
      },
      "source": [
        "## Optional - Lemmatization"
      ]
    },
    {
      "cell_type": "code",
      "metadata": {
        "id": "7Vrkk-HRXAcK",
        "colab_type": "code",
        "outputId": "63c98a6a-f50f-46c7-fd68-739fe6c6e086",
        "colab": {
          "base_uri": "https://localhost:8080/",
          "height": 428
        }
      },
      "source": [
        "# OPTIONAL - Lemmatization while respecting the POS\n",
        "\n",
        "from nltk.corpus import wordnet\n",
        "from nltk.stem import WordNetLemmatizer\n",
        "nltk.download('averaged_perceptron_tagger')\n",
        "\n",
        "lemmatizer = WordNetLemmatizer()\n",
        "\n",
        "# function to convert nltk tag to wordnet tag\n",
        "def nltk_tag_to_wordnet_tag(nltk_tag):\n",
        "    if nltk_tag.startswith('J'):\n",
        "        return wordnet.ADJ\n",
        "    elif nltk_tag.startswith('V'):\n",
        "        return wordnet.VERB\n",
        "    elif nltk_tag.startswith('N'):\n",
        "        return wordnet.NOUN\n",
        "    elif nltk_tag.startswith('R'):\n",
        "        return wordnet.ADV\n",
        "    else:          \n",
        "        return None\n",
        "\n",
        "def lemmatize_sentence(sentence):\n",
        "    #tokenize the sentence and find the POS tag for each token\n",
        "    nltk_tagged = nltk.pos_tag(nltk.word_tokenize(sentence))  \n",
        "    #tuple of (token, wordnet_tag)\n",
        "    wordnet_tagged = map(lambda x: (x[0], nltk_tag_to_wordnet_tag(x[1])), nltk_tagged)\n",
        "    lemmatized_sentence = []\n",
        "    for word, tag in wordnet_tagged:\n",
        "        if tag is None:\n",
        "            #if there is no available tag, append the token as is\n",
        "            lemmatized_sentence.append(lemmatizer.lemmatize(word))\n",
        "        else:        \n",
        "            #else use the tag to lemmatize the token\n",
        "            lemmatized_sentence.append(lemmatizer.lemmatize(word, tag))\n",
        "    return \" \".join(lemmatized_sentence)\n",
        "\n",
        "bert_dataset[\"text\"] = bert_dataset[\"text\"].apply(lambda text: lemmatize_sentence(text))\n",
        "bert_dataset.head(10)"
      ],
      "execution_count": 69,
      "outputs": [
        {
          "output_type": "stream",
          "text": [
            "[nltk_data] Downloading package averaged_perceptron_tagger to\n",
            "[nltk_data]     /root/nltk_data...\n",
            "[nltk_data]   Package averaged_perceptron_tagger is already up-to-\n",
            "[nltk_data]       date!\n"
          ],
          "name": "stdout"
        },
        {
          "output_type": "execute_result",
          "data": {
            "text/html": [
              "<div>\n",
              "<style scoped>\n",
              "    .dataframe tbody tr th:only-of-type {\n",
              "        vertical-align: middle;\n",
              "    }\n",
              "\n",
              "    .dataframe tbody tr th {\n",
              "        vertical-align: top;\n",
              "    }\n",
              "\n",
              "    .dataframe thead th {\n",
              "        text-align: right;\n",
              "    }\n",
              "</style>\n",
              "<table border=\"1\" class=\"dataframe\">\n",
              "  <thead>\n",
              "    <tr style=\"text-align: right;\">\n",
              "      <th></th>\n",
              "      <th>text</th>\n",
              "      <th>class</th>\n",
              "    </tr>\n",
              "  </thead>\n",
              "  <tbody>\n",
              "    <tr>\n",
              "      <th>0</th>\n",
              "      <td>another terrorist attack nyc still politically...</td>\n",
              "      <td>1</td>\n",
              "    </tr>\n",
              "    <tr>\n",
              "      <th>1</th>\n",
              "      <td>donald drug big factor charlotte protest less ...</td>\n",
              "      <td>1</td>\n",
              "    </tr>\n",
              "    <tr>\n",
              "      <th>2</th>\n",
              "      <td>obama un give liberty enhances security americ...</td>\n",
              "      <td>1</td>\n",
              "    </tr>\n",
              "    <tr>\n",
              "      <th>3</th>\n",
              "      <td>vs clinton fundamental clash economy work gett...</td>\n",
              "      <td>1</td>\n",
              "    </tr>\n",
              "    <tr>\n",
              "      <th>4</th>\n",
              "      <td>obama veto 11 victim bill set showdown congres...</td>\n",
              "      <td>1</td>\n",
              "    </tr>\n",
              "    <tr>\n",
              "      <th>5</th>\n",
              "      <td>chaos nc protest mob ambush female truck drive...</td>\n",
              "      <td>1</td>\n",
              "    </tr>\n",
              "    <tr>\n",
              "      <th>6</th>\n",
              "      <td>10 moment matter hillary clinton donald first ...</td>\n",
              "      <td>1</td>\n",
              "    </tr>\n",
              "    <tr>\n",
              "      <th>7</th>\n",
              "      <td>young girl emotional council speech lament sha...</td>\n",
              "      <td>1</td>\n",
              "    </tr>\n",
              "    <tr>\n",
              "      <th>8</th>\n",
              "      <td>jeb bush lecture harvard fall story highlight ...</td>\n",
              "      <td>1</td>\n",
              "    </tr>\n",
              "    <tr>\n",
              "      <th>9</th>\n",
              "      <td>clinton v debate debate hillary clinton campai...</td>\n",
              "      <td>1</td>\n",
              "    </tr>\n",
              "  </tbody>\n",
              "</table>\n",
              "</div>"
            ],
            "text/plain": [
              "                                                text  class\n",
              "0  another terrorist attack nyc still politically...      1\n",
              "1  donald drug big factor charlotte protest less ...      1\n",
              "2  obama un give liberty enhances security americ...      1\n",
              "3  vs clinton fundamental clash economy work gett...      1\n",
              "4  obama veto 11 victim bill set showdown congres...      1\n",
              "5  chaos nc protest mob ambush female truck drive...      1\n",
              "6  10 moment matter hillary clinton donald first ...      1\n",
              "7  young girl emotional council speech lament sha...      1\n",
              "8  jeb bush lecture harvard fall story highlight ...      1\n",
              "9  clinton v debate debate hillary clinton campai...      1"
            ]
          },
          "metadata": {
            "tags": []
          },
          "execution_count": 69
        }
      ]
    },
    {
      "cell_type": "markdown",
      "metadata": {
        "id": "a8B1hNTy6TQd",
        "colab_type": "text"
      },
      "source": [
        "# **Vectorization**"
      ]
    },
    {
      "cell_type": "markdown",
      "metadata": {
        "id": "DyS4vQJr0RXL",
        "colab_type": "text"
      },
      "source": [
        "## Via TF-IDF"
      ]
    },
    {
      "cell_type": "code",
      "metadata": {
        "id": "Q1DsBKvCUYaS",
        "colab_type": "code",
        "outputId": "b2323741-aabc-4b57-8062-75ce0e98e670",
        "colab": {
          "base_uri": "https://localhost:8080/",
          "height": 35
        }
      },
      "source": [
        "#Manually generating Train/Test sets\n",
        "import random\n",
        "test_idx = random.sample(range(len(bert_dataset)),7000)\n",
        "\n",
        "X_test = []\n",
        "y_test = []\n",
        "for idx in test_idx:\n",
        "  X_test.append(bert_dataset[\"text\"].iloc[idx])\n",
        "  y_test.append(bert_dataset[\"class\"].iloc[idx])\n",
        "\n",
        "X_test = np.array(X_test)\n",
        "y_test = np.array(y_test)\n",
        "\n",
        "train_idx = [j for j in range(len(bert_dataset))]\n",
        "for i in test_idx:\n",
        "  train_idx.remove(i)\n",
        "  \n",
        "X_train = []\n",
        "y_train = []\n",
        "for idx in train_idx:\n",
        "  X_train.append(bert_dataset[\"text\"].iloc[idx])\n",
        "  y_train.append(bert_dataset[\"class\"].iloc[idx])\n",
        "\n",
        "X_train = np.array(X_train)\n",
        "y_train = np.array(y_train)\n",
        "\n",
        "print(len(X_train), len(X_test))\n",
        "del test_idx, train_idx"
      ],
      "execution_count": 70,
      "outputs": [
        {
          "output_type": "stream",
          "text": [
            "37440 7000\n"
          ],
          "name": "stdout"
        }
      ]
    },
    {
      "cell_type": "code",
      "metadata": {
        "id": "0Z07jaoR0Lre",
        "colab_type": "code",
        "colab": {}
      },
      "source": [
        "from sklearn.feature_extraction.text import TfidfVectorizer\n",
        "\n",
        "vectorizer = TfidfVectorizer()\n",
        "X_train_tfidf = vectorizer.fit_transform(X_train)\n",
        "X_test_tfidf = vectorizer.transform(X_test)"
      ],
      "execution_count": 0,
      "outputs": []
    },
    {
      "cell_type": "code",
      "metadata": {
        "id": "oyrgdVq7srd-",
        "colab_type": "code",
        "outputId": "7feb333d-b081-4b6c-df8d-c6921c3ec10a",
        "colab": {
          "base_uri": "https://localhost:8080/",
          "height": 35
        }
      },
      "source": [
        "X_train_tfidf.shape"
      ],
      "execution_count": 72,
      "outputs": [
        {
          "output_type": "execute_result",
          "data": {
            "text/plain": [
              "(37440, 102043)"
            ]
          },
          "metadata": {
            "tags": []
          },
          "execution_count": 72
        }
      ]
    },
    {
      "cell_type": "markdown",
      "metadata": {
        "id": "rAL3IZXs0Twg",
        "colab_type": "text"
      },
      "source": [
        "## Via Word2Vec"
      ]
    },
    {
      "cell_type": "code",
      "metadata": {
        "id": "gnHeoZYj6SoN",
        "colab_type": "code",
        "colab": {}
      },
      "source": [
        "#Dimension of vectors we are generating\n",
        "EMBEDDING_DIM = 100\n",
        "\n",
        "#Creating Word Vectors by Word2Vec Method (takes time...)\n",
        "w2v_model = gensim.models.Word2Vec(sentences=X, size=EMBEDDING_DIM, window=5, min_count=1)"
      ],
      "execution_count": 0,
      "outputs": []
    },
    {
      "cell_type": "code",
      "metadata": {
        "id": "ozmL3m1-6i4b",
        "colab_type": "code",
        "outputId": "8865f4b5-4c98-4549-d4f0-c390c5336d0c",
        "colab": {
          "base_uri": "https://localhost:8080/",
          "height": 35
        }
      },
      "source": [
        "#vocab size\n",
        "len(w2v_model.wv.vocab)\n",
        "\n",
        "#We have now represented each word by a 100dim vector."
      ],
      "execution_count": 74,
      "outputs": [
        {
          "output_type": "execute_result",
          "data": {
            "text/plain": [
              "118576"
            ]
          },
          "metadata": {
            "tags": []
          },
          "execution_count": 74
        }
      ]
    },
    {
      "cell_type": "code",
      "metadata": {
        "id": "Kfp0QHRc6oZq",
        "colab_type": "code",
        "colab": {}
      },
      "source": [
        "#see a sample vector for random word \n",
        "#w2v_model[\"clinton\"]"
      ],
      "execution_count": 0,
      "outputs": []
    },
    {
      "cell_type": "code",
      "metadata": {
        "id": "1AzWYxDD7SBm",
        "colab_type": "code",
        "colab": {}
      },
      "source": [
        "#w2v_model.wv.most_similar(\"foundation\")"
      ],
      "execution_count": 0,
      "outputs": []
    },
    {
      "cell_type": "code",
      "metadata": {
        "id": "dwTLI_111sFP",
        "colab_type": "code",
        "colab": {
          "base_uri": "https://localhost:8080/",
          "height": 55
        },
        "outputId": "6ecc8811-ec5d-4d86-9c71-f69ff5b237f0"
      },
      "source": [
        "# visualize embeddings  ==> Takes too long given dictionary size. Will rather try Kmeans on vectors in Data Analysis\n",
        "\"\"\"\n",
        "from sklearn.manifold import TSNE\n",
        "\n",
        "words = w2v_model.wv.index2word\n",
        "wvs = w2v_model.wv[words]\n",
        "\n",
        "tsne = TSNE(n_components=2, random_state=0, n_iter=5000, perplexity=2)\n",
        "np.set_printoptions(suppress=True)\n",
        "T = tsne.fit_transform(wvs)\n",
        "labels = words\n",
        "\n",
        "plt.figure(figsize=(12, 6))\n",
        "plt.scatter(T[:, 0], T[:, 1], c='orange', edgecolors='r')\n",
        "for label, x, y in zip(labels, T[:, 0], T[:, 1]):\n",
        "    plt.annotate(label, xy=(x+1, y+1), xytext=(0, 0), textcoords='offset points')\n",
        "\"\"\""
      ],
      "execution_count": 77,
      "outputs": [
        {
          "output_type": "execute_result",
          "data": {
            "text/plain": [
              "\"\\nfrom sklearn.manifold import TSNE\\n\\nwords = w2v_model.wv.index2word\\nwvs = w2v_model.wv[words]\\n\\ntsne = TSNE(n_components=2, random_state=0, n_iter=5000, perplexity=2)\\nnp.set_printoptions(suppress=True)\\nT = tsne.fit_transform(wvs)\\nlabels = words\\n\\nplt.figure(figsize=(12, 6))\\nplt.scatter(T[:, 0], T[:, 1], c='orange', edgecolors='r')\\nfor label, x, y in zip(labels, T[:, 0], T[:, 1]):\\n    plt.annotate(label, xy=(x+1, y+1), xytext=(0, 0), textcoords='offset points')\\n\""
            ]
          },
          "metadata": {
            "tags": []
          },
          "execution_count": 77
        }
      ]
    },
    {
      "cell_type": "markdown",
      "metadata": {
        "id": "J2bhabiWMbAB",
        "colab_type": "text"
      },
      "source": [
        "## Tokenization with Keras"
      ]
    },
    {
      "cell_type": "code",
      "metadata": {
        "id": "4-9lVv1f7v7Z",
        "colab_type": "code",
        "colab": {}
      },
      "source": [
        "# Tokenizing Text -> Representing each word by a number\n",
        "# Mapping of original word to number is preserved in word_index property of tokenizer\n",
        "\n",
        "#Tokenizer applies basic processing like changing it to lower case, explicitely setting that as True even if already done before\n",
        "\n",
        "from tensorflow.keras.preprocessing.text import Tokenizer\n",
        "\n",
        "tokenizer = Tokenizer(lower=True)\n",
        "tokenizer.fit_on_texts(X)\n",
        "\n",
        "X_tok = tokenizer.texts_to_sequences(X)"
      ],
      "execution_count": 0,
      "outputs": []
    },
    {
      "cell_type": "code",
      "metadata": {
        "id": "C9ItLEl_9PvT",
        "colab_type": "code",
        "outputId": "f20b7a9e-8852-4ba1-fd91-49b23c796214",
        "colab": {
          "base_uri": "https://localhost:8080/",
          "height": 35
        }
      },
      "source": [
        "# lets check the first 10 words of first news\n",
        "#every word has been represented with a number\n",
        "X_tok[0][:10]"
      ],
      "execution_count": 79,
      "outputs": [
        {
          "output_type": "execute_result",
          "data": {
            "text/plain": [
              "[86, 627, 154, 3892, 82, 1669, 1857, 398, 513, 881]"
            ]
          },
          "metadata": {
            "tags": []
          },
          "execution_count": 79
        }
      ]
    },
    {
      "cell_type": "code",
      "metadata": {
        "id": "Nf3dw7fw9aIe",
        "colab_type": "code",
        "outputId": "ef079ff8-9213-4140-9aa9-2e0745282fe5",
        "colab": {
          "base_uri": "https://localhost:8080/",
          "height": 204
        }
      },
      "source": [
        "#Lets check few word to numerical representation\n",
        "#Mapping is preserved in dictionary -> word_index property of instance\n",
        "word_index = tokenizer.word_index\n",
        "for word, num in word_index.items():\n",
        "    print(\"{} -> {}\".format(word, num))\n",
        "    if num == 10:\n",
        "        break        "
      ],
      "execution_count": 80,
      "outputs": [
        {
          "output_type": "stream",
          "text": [
            "could -> 1\n",
            "white -> 2\n",
            "campaign -> 3\n",
            "two -> 4\n",
            "election -> 5\n",
            "time -> 6\n",
            "party -> 7\n",
            "last -> 8\n",
            "first -> 9\n",
            "former -> 10\n"
          ],
          "name": "stdout"
        }
      ]
    },
    {
      "cell_type": "code",
      "metadata": {
        "id": "Z-eFsk0oVFOu",
        "colab_type": "code",
        "outputId": "35b3b1cf-f2fc-47d2-bd96-2ad009fdeea2",
        "colab": {
          "base_uri": "https://localhost:8080/",
          "height": 265
        }
      },
      "source": [
        "# Making histogram for no of words in news shows that most news article are under 700 words.\n",
        "plt.hist([len(x) for x in X_tok], bins=500)\n",
        "plt.show()"
      ],
      "execution_count": 81,
      "outputs": [
        {
          "output_type": "display_data",
          "data": {
            "image/png": "[encoded data removed]",
            "text/plain": [
              "<Figure size 432x288 with 1 Axes>"
            ]
          },
          "metadata": {
            "tags": [],
            "needs_background": "light"
          }
        }
      ]
    },
    {
      "cell_type": "code",
      "metadata": {
        "id": "vZX8Kk9NVdsW",
        "colab_type": "code",
        "outputId": "ed311748-7d97-44df-8c00-f5d0b60e77fa",
        "colab": {
          "base_uri": "https://localhost:8080/",
          "height": 35
        }
      },
      "source": [
        "# Most of the news have less than 700 words\n",
        "nos = np.array([len(x) for x in X_tok])\n",
        "print(len(nos[nos  < 700])/len(X_tok))"
      ],
      "execution_count": 82,
      "outputs": [
        {
          "output_type": "stream",
          "text": [
            "0.9833033303330333\n"
          ],
          "name": "stdout"
        }
      ]
    },
    {
      "cell_type": "code",
      "metadata": {
        "id": "9Urs8TTuVt7L",
        "colab_type": "code",
        "colab": {}
      },
      "source": [
        "#Lets keep all news to 700, add padding to news with less than 700 words and truncating long ones\n",
        "maxlen = 700 \n",
        "\n",
        "#Making all news of size maxlen defined above, padding with 0 when needed\n",
        "X_tok = pad_sequences(X_tok, maxlen=maxlen)"
      ],
      "execution_count": 0,
      "outputs": []
    },
    {
      "cell_type": "code",
      "metadata": {
        "id": "9Mjc6eVgWUlM",
        "colab_type": "code",
        "outputId": "553e8293-3a2e-431f-8a47-8523de37e2cf",
        "colab": {
          "base_uri": "https://localhost:8080/",
          "height": 35
        }
      },
      "source": [
        "#Checking\n",
        "len(X_tok[0])"
      ],
      "execution_count": 84,
      "outputs": [
        {
          "output_type": "execute_result",
          "data": {
            "text/plain": [
              "700"
            ]
          },
          "metadata": {
            "tags": []
          },
          "execution_count": 84
        }
      ]
    },
    {
      "cell_type": "code",
      "metadata": {
        "id": "Qnj0pV28Q1DN",
        "colab_type": "code",
        "colab": {}
      },
      "source": [
        "#Saving this tokenized and vectorized version to file\n",
        "#with open('/content/drive/My Drive/CS221_Project/X_tok.csv', 'w') as myfile:\n",
        "#    wr = csv.writer(myfile, quoting=csv.QUOTE_ALL)\n",
        "#    wr.writerow(X_tok)"
      ],
      "execution_count": 0,
      "outputs": []
    },
    {
      "cell_type": "code",
      "metadata": {
        "id": "utn9EKb_3VZx",
        "colab_type": "code",
        "colab": {}
      },
      "source": [
        "X_train_tok, X_test_tok, y_train_tok, y_test_tok = train_test_split(X_tok, y, test_size = 0.15) "
      ],
      "execution_count": 0,
      "outputs": []
    },
    {
      "cell_type": "markdown",
      "metadata": {
        "id": "np836AjH5LjP",
        "colab_type": "text"
      },
      "source": [
        "# **Modelization** "
      ]
    },
    {
      "cell_type": "markdown",
      "metadata": {
        "id": "VvkaHfZWT0VA",
        "colab_type": "text"
      },
      "source": [
        "## Naïve Bayes model"
      ]
    },
    {
      "cell_type": "code",
      "metadata": {
        "id": "dszpgj-tSK9X",
        "colab_type": "code",
        "colab": {}
      },
      "source": [
        "from sklearn.naive_bayes import MultinomialNB"
      ],
      "execution_count": 0,
      "outputs": []
    },
    {
      "cell_type": "markdown",
      "metadata": {
        "id": "2WYcbCZ9-MPF",
        "colab_type": "text"
      },
      "source": [
        "On basic Keras tokenized input"
      ]
    },
    {
      "cell_type": "code",
      "metadata": {
        "id": "TSN02S4V-KwW",
        "colab_type": "code",
        "colab": {}
      },
      "source": [
        "naive_bayes_model_tok = MultinomialNB().fit(X_train_tok,y_train_tok)"
      ],
      "execution_count": 0,
      "outputs": []
    },
    {
      "cell_type": "code",
      "metadata": {
        "id": "H6tbUhwt-YMy",
        "colab_type": "code",
        "outputId": "e2a138f6-7521-4bab-b27c-d77a32b6c8bb",
        "colab": {
          "base_uri": "https://localhost:8080/",
          "height": 185
        }
      },
      "source": [
        "predictions_nb_tok = naive_bayes_model_tok.predict(X_test_tok)\n",
        "print(classification_report(y_test_tok, predictions_nb_tok))"
      ],
      "execution_count": 89,
      "outputs": [
        {
          "output_type": "stream",
          "text": [
            "              precision    recall  f1-score   support\n",
            "\n",
            "           0       0.61      0.65      0.63      3432\n",
            "           1       0.60      0.55      0.57      3234\n",
            "\n",
            "    accuracy                           0.60      6666\n",
            "   macro avg       0.60      0.60      0.60      6666\n",
            "weighted avg       0.60      0.60      0.60      6666\n",
            "\n"
          ],
          "name": "stdout"
        }
      ]
    },
    {
      "cell_type": "markdown",
      "metadata": {
        "id": "2ureS8vJ-M9w",
        "colab_type": "text"
      },
      "source": [
        "On TF-IDF vectorized input"
      ]
    },
    {
      "cell_type": "code",
      "metadata": {
        "id": "KOkPh1GV5RK3",
        "colab_type": "code",
        "colab": {}
      },
      "source": [
        "naive_bayes_model = MultinomialNB().fit(X_train_tfidf,y_train)"
      ],
      "execution_count": 0,
      "outputs": []
    },
    {
      "cell_type": "code",
      "metadata": {
        "id": "A04JdgX_U7W_",
        "colab_type": "code",
        "outputId": "c01011bd-a603-4858-a21e-84d84b94ea3c",
        "colab": {
          "base_uri": "https://localhost:8080/",
          "height": 35
        }
      },
      "source": [
        "#Model Evaluation\n",
        "predictions = naive_bayes_model.predict(X_test_tfidf)\n",
        "print(predictions)"
      ],
      "execution_count": 91,
      "outputs": [
        {
          "output_type": "stream",
          "text": [
            "[0 0 0 ... 0 1 1]\n"
          ],
          "name": "stdout"
        }
      ]
    },
    {
      "cell_type": "code",
      "metadata": {
        "id": "aG2pvk-UVEHw",
        "colab_type": "code",
        "outputId": "b161ca88-1a61-4c1b-cd87-344035dd07c8",
        "colab": {
          "base_uri": "https://localhost:8080/",
          "height": 185
        }
      },
      "source": [
        "print(classification_report(y_test, predictions))"
      ],
      "execution_count": 92,
      "outputs": [
        {
          "output_type": "stream",
          "text": [
            "              precision    recall  f1-score   support\n",
            "\n",
            "           0       0.94      0.96      0.95      3655\n",
            "           1       0.95      0.94      0.94      3345\n",
            "\n",
            "    accuracy                           0.95      7000\n",
            "   macro avg       0.95      0.95      0.95      7000\n",
            "weighted avg       0.95      0.95      0.95      7000\n",
            "\n"
          ],
          "name": "stdout"
        }
      ]
    },
    {
      "cell_type": "markdown",
      "metadata": {
        "id": "JwLFvyKrlrnJ",
        "colab_type": "text"
      },
      "source": [
        "## Support Vector Machine"
      ]
    },
    {
      "cell_type": "code",
      "metadata": {
        "id": "MGpBoXAMtm_P",
        "colab_type": "code",
        "colab": {}
      },
      "source": [
        "from sklearn.svm import SVC"
      ],
      "execution_count": 0,
      "outputs": []
    },
    {
      "cell_type": "markdown",
      "metadata": {
        "id": "iyPkWrYw_6t4",
        "colab_type": "text"
      },
      "source": [
        "On basic Keras tokenized input"
      ]
    },
    {
      "cell_type": "code",
      "metadata": {
        "id": "-6Mgnx7W_5pc",
        "colab_type": "code",
        "colab": {}
      },
      "source": [
        "# Doesn't seem to work well. Likely due to lack of efficient features for the SVC model\n",
        "\n",
        "#linear_svm_classifier_tok = SVC(kernel = \"linear\").fit(X_train_tok, y_train_tok)"
      ],
      "execution_count": 0,
      "outputs": []
    },
    {
      "cell_type": "code",
      "metadata": {
        "id": "FRjeEFs3AJQu",
        "colab_type": "code",
        "colab": {}
      },
      "source": [
        "#predictions_svm_tok = linear_svm_classifier_tok.predict(X_test_tok)\n",
        "#print(classification_report(y_test_tok, predictions_svm_tok))"
      ],
      "execution_count": 0,
      "outputs": []
    },
    {
      "cell_type": "markdown",
      "metadata": {
        "id": "KqmzvIrF_3GR",
        "colab_type": "text"
      },
      "source": [
        "On TF-IDF vectorized input"
      ]
    },
    {
      "cell_type": "code",
      "metadata": {
        "id": "2xynWVdLltf8",
        "colab_type": "code",
        "colab": {}
      },
      "source": [
        "linear_svm_classifier_tfidf = SVC(kernel = \"linear\").fit(X_train_tfidf,y_train)"
      ],
      "execution_count": 0,
      "outputs": []
    },
    {
      "cell_type": "code",
      "metadata": {
        "id": "nqKVWzqsl4ZL",
        "colab_type": "code",
        "colab": {
          "base_uri": "https://localhost:8080/",
          "height": 35
        },
        "outputId": "777a75a9-0767-4c66-8a8b-c71e85443b45"
      },
      "source": [
        "predictions_svm_tfidf = linear_svm_classifier_tfidf.predict(X_test_tfidf)\n",
        "print(predictions_svm_tfidf)"
      ],
      "execution_count": 97,
      "outputs": [
        {
          "output_type": "stream",
          "text": [
            "[0 0 0 ... 0 1 1]\n"
          ],
          "name": "stdout"
        }
      ]
    },
    {
      "cell_type": "code",
      "metadata": {
        "id": "bEntRQkMl-3t",
        "colab_type": "code",
        "colab": {
          "base_uri": "https://localhost:8080/",
          "height": 185
        },
        "outputId": "d75a0d19-04e2-4fdd-9936-91ae6effb9fd"
      },
      "source": [
        "print(classification_report(y_test, predictions_svm_tfidf))"
      ],
      "execution_count": 98,
      "outputs": [
        {
          "output_type": "stream",
          "text": [
            "              precision    recall  f1-score   support\n",
            "\n",
            "           0       0.99      0.99      0.99      3655\n",
            "           1       0.99      0.99      0.99      3345\n",
            "\n",
            "    accuracy                           0.99      7000\n",
            "   macro avg       0.99      0.99      0.99      7000\n",
            "weighted avg       0.99      0.99      0.99      7000\n",
            "\n"
          ],
          "name": "stdout"
        }
      ]
    },
    {
      "cell_type": "markdown",
      "metadata": {
        "id": "0j4NvFq7oA8-",
        "colab_type": "text"
      },
      "source": [
        "## Simple Neural Network"
      ]
    },
    {
      "cell_type": "code",
      "metadata": {
        "id": "A0DpN55JWZaS",
        "colab_type": "code",
        "colab": {}
      },
      "source": [
        "# Embedding Layer used in Keras creates one more vector for \"UNKNOWN\" words, or padded words (0s). This Vector is filled with zeros.\n",
        "# Thus our vocab size inceeases by 1\n",
        "vocab_size = len(tokenizer.word_index) + 1"
      ],
      "execution_count": 0,
      "outputs": []
    },
    {
      "cell_type": "code",
      "metadata": {
        "id": "GQCC_H_JWfR7",
        "colab_type": "code",
        "colab": {}
      },
      "source": [
        "# Function to create weight matrix between word-index and vectors from word2vec gensim model\n",
        "def get_weight_matrix(model, vocab):\n",
        "    # total vocabulary size plus 0 for unknown words\n",
        "    vocab_size = len(vocab) + 1\n",
        "    # define weight matrix dimensions with all 0\n",
        "    weight_matrix = np.zeros((vocab_size, EMBEDDING_DIM))\n",
        "    # step vocab, store vectors using the Tokenizer's integer mapping\n",
        "    for word, i in vocab.items():\n",
        "        weight_matrix[i] = model[word]\n",
        "    return weight_matrix"
      ],
      "execution_count": 0,
      "outputs": []
    },
    {
      "cell_type": "code",
      "metadata": {
        "id": "uBBxZxI9T8JE",
        "colab_type": "code",
        "colab": {}
      },
      "source": [
        "#Getting embedding vectors from word2vec and using it as weights of non-trainable keras embedding layer\n",
        "#This embedding layer accepts numerical-token of word and outputs corresponding vector to inner layer.\n",
        "#It sends vector of zeros to next layer for unknown words which would be tokenized to 0.\n",
        "#Input length of embedding Layer is the length of each news (700 now due to padding and truncating)\n",
        "%%capture\n",
        "#del embedding_vectors\n",
        "embedding_vectors = get_weight_matrix(w2v_model, word_index)"
      ],
      "execution_count": 0,
      "outputs": []
    },
    {
      "cell_type": "code",
      "metadata": {
        "id": "QVyZpdP0oGk8",
        "colab_type": "code",
        "colab": {
          "base_uri": "https://localhost:8080/",
          "height": 205
        },
        "outputId": "e9d2827b-8f2e-476e-a8c3-65c556bf929e"
      },
      "source": [
        "dnn_model = tf.keras.Sequential([\n",
        "    tf.keras.layers.Embedding(vocab_size, output_dim=EMBEDDING_DIM, weights=[embedding_vectors], input_length=maxlen, trainable=False),\n",
        "    tf.keras.layers.GlobalAveragePooling1D(),\n",
        "    tf.keras.layers.Dense(24, activation='relu'),\n",
        "    tf.keras.layers.Dense(1, activation='sigmoid')\n",
        "])\n",
        "dnn_model.compile(loss='binary_crossentropy',optimizer='adam',metrics=['accuracy'])"
      ],
      "execution_count": 102,
      "outputs": [
        {
          "output_type": "stream",
          "text": [
            "WARNING:tensorflow:From /tensorflow-1.15.2/python3.6/tensorflow_core/python/keras/initializers.py:119: calling RandomUniform.__init__ (from tensorflow.python.ops.init_ops) with dtype is deprecated and will be removed in a future version.\n",
            "Instructions for updating:\n",
            "Call initializer instance with the dtype argument instead of passing it to the constructor\n",
            "WARNING:tensorflow:From /tensorflow-1.15.2/python3.6/tensorflow_core/python/ops/resource_variable_ops.py:1630: calling BaseResourceVariable.__init__ (from tensorflow.python.ops.resource_variable_ops) with constraint is deprecated and will be removed in a future version.\n",
            "Instructions for updating:\n",
            "If using Keras pass *_constraint arguments to layers.\n",
            "WARNING:tensorflow:From /tensorflow-1.15.2/python3.6/tensorflow_core/python/ops/nn_impl.py:183: where (from tensorflow.python.ops.array_ops) is deprecated and will be removed in a future version.\n",
            "Instructions for updating:\n",
            "Use tf.where in 2.0, which has the same broadcast rule as np.where\n"
          ],
          "name": "stdout"
        }
      ]
    },
    {
      "cell_type": "code",
      "metadata": {
        "id": "HWsUtccWoybz",
        "colab_type": "code",
        "colab": {
          "base_uri": "https://localhost:8080/",
          "height": 410
        },
        "outputId": "b5042ca9-5044-44b6-988e-2712a2b1f58b"
      },
      "source": [
        "early_stopping_callback_loss = tf.keras.callbacks.EarlyStopping(monitor = 'loss', patience = 1)\n",
        "early_stopping_callback_val_loss = tf.keras.callbacks.EarlyStopping(monitor = 'val_loss', patience = 1)\n",
        "\n",
        "dnn_history = dnn_model.fit(X_train_tok, y_train_tok, epochs=10, validation_split = 0.2, \\\n",
        "                        callbacks = [early_stopping_callback_loss, early_stopping_callback_val_loss], verbose=1)"
      ],
      "execution_count": 103,
      "outputs": [
        {
          "output_type": "stream",
          "text": [
            "Train on 30219 samples, validate on 7555 samples\n",
            "Epoch 1/10\n",
            "30219/30219 [==============================] - 5s 151us/sample - loss: 0.2907 - acc: 0.9117 - val_loss: 0.2020 - val_acc: 0.9382\n",
            "Epoch 2/10\n",
            "30219/30219 [==============================] - 4s 146us/sample - loss: 0.1922 - acc: 0.9414 - val_loss: 0.1746 - val_acc: 0.9445\n",
            "Epoch 3/10\n",
            "30219/30219 [==============================] - 4s 140us/sample - loss: 0.1728 - acc: 0.9470 - val_loss: 0.1609 - val_acc: 0.9510\n",
            "Epoch 4/10\n",
            "30219/30219 [==============================] - 4s 135us/sample - loss: 0.1610 - acc: 0.9512 - val_loss: 0.1565 - val_acc: 0.9546\n",
            "Epoch 5/10\n",
            "30219/30219 [==============================] - 4s 141us/sample - loss: 0.1512 - acc: 0.9538 - val_loss: 0.1393 - val_acc: 0.9579\n",
            "Epoch 6/10\n",
            "30219/30219 [==============================] - 5s 152us/sample - loss: 0.1413 - acc: 0.9562 - val_loss: 0.1302 - val_acc: 0.9583\n",
            "Epoch 7/10\n",
            "30219/30219 [==============================] - 5s 158us/sample - loss: 0.1318 - acc: 0.9580 - val_loss: 0.1209 - val_acc: 0.9602\n",
            "Epoch 8/10\n",
            "30219/30219 [==============================] - 4s 143us/sample - loss: 0.1229 - acc: 0.9594 - val_loss: 0.1138 - val_acc: 0.9611\n",
            "Epoch 9/10\n",
            "30219/30219 [==============================] - 4s 141us/sample - loss: 0.1153 - acc: 0.9606 - val_loss: 0.1087 - val_acc: 0.9629\n",
            "Epoch 10/10\n",
            "30219/30219 [==============================] - 4s 149us/sample - loss: 0.1091 - acc: 0.9625 - val_loss: 0.1060 - val_acc: 0.9624\n"
          ],
          "name": "stdout"
        }
      ]
    },
    {
      "cell_type": "code",
      "metadata": {
        "id": "k81HOODPo1gq",
        "colab_type": "code",
        "colab": {
          "base_uri": "https://localhost:8080/",
          "height": 295
        },
        "outputId": "2674ab38-3623-43bc-db20-39d0bc7c7f37"
      },
      "source": [
        "plt.plot(dnn_history.history['loss'])\n",
        "plt.plot(dnn_history.history['val_loss'])\n",
        "plt.title('model train vs validation loss')\n",
        "plt.ylabel('loss')\n",
        "plt.xlabel('epoch')\n",
        "plt.legend(['train', 'validation'], loc='upper right')\n",
        "plt.show()"
      ],
      "execution_count": 104,
      "outputs": [
        {
          "output_type": "display_data",
          "data": {
            "image/png": "[encoded data removed]",
            "text/plain": [
              "<Figure size 432x288 with 1 Axes>"
            ]
          },
          "metadata": {
            "tags": [],
            "needs_background": "light"
          }
        }
      ]
    },
    {
      "cell_type": "code",
      "metadata": {
        "id": "tkzyqvyJo_yJ",
        "colab_type": "code",
        "colab": {
          "base_uri": "https://localhost:8080/",
          "height": 73
        },
        "outputId": "49693366-edbd-4146-e4aa-4d70e3e9d600"
      },
      "source": [
        "dnn_results = dnn_model.evaluate(X_test_tok, y_test_tok, batch_size=128)\n",
        "\n",
        "print('Regular dense network - test loss: {}'.format(dnn_results[0]))\n",
        "print('Regular dense network - test accuracy: {}'.format(dnn_results[1]))"
      ],
      "execution_count": 105,
      "outputs": [
        {
          "output_type": "stream",
          "text": [
            "6666/6666 [==============================] - 1s 107us/sample - loss: 0.1210 - acc: 0.9550\n",
            "Regular dense network - test loss: 0.12100465936815948\n",
            "Regular dense network - test accuracy: 0.9549955129623413\n"
          ],
          "name": "stdout"
        }
      ]
    },
    {
      "cell_type": "code",
      "metadata": {
        "id": "E4uOTxI7pVvy",
        "colab_type": "code",
        "colab": {
          "base_uri": "https://localhost:8080/",
          "height": 204
        },
        "outputId": "5d205cbe-38e9-4292-ee59-67ef0e4be09d"
      },
      "source": [
        "dnn_pred = (dnn_model.predict(X_test_tok) >= 0.5).astype(\"int\")\n",
        "\n",
        "print(\"Model type: Regular dense neural network.\")\n",
        "print(classification_report(y_test_tok, dnn_pred))"
      ],
      "execution_count": 106,
      "outputs": [
        {
          "output_type": "stream",
          "text": [
            "Model type: Regular dense neural network.\n",
            "              precision    recall  f1-score   support\n",
            "\n",
            "           0       0.97      0.95      0.96      3432\n",
            "           1       0.94      0.96      0.95      3234\n",
            "\n",
            "    accuracy                           0.95      6666\n",
            "   macro avg       0.95      0.96      0.95      6666\n",
            "weighted avg       0.96      0.95      0.96      6666\n",
            "\n"
          ],
          "name": "stdout"
        }
      ]
    },
    {
      "cell_type": "code",
      "metadata": {
        "id": "hMSCcmyJW0dq",
        "colab_type": "code",
        "colab": {
          "base_uri": "https://localhost:8080/",
          "height": 54
        },
        "outputId": "62ce1de1-7838-4abb-fc40-dfe6292fef0d"
      },
      "source": [
        "print(confusion_matrix(y_test_tok, dnn_pred))"
      ],
      "execution_count": 107,
      "outputs": [
        {
          "output_type": "stream",
          "text": [
            "[[3249  183]\n",
            " [ 117 3117]]\n"
          ],
          "name": "stdout"
        }
      ]
    },
    {
      "cell_type": "markdown",
      "metadata": {
        "id": "LKUG8pHaT6Pw",
        "colab_type": "text"
      },
      "source": [
        "## Many to one LSTM"
      ]
    },
    {
      "cell_type": "code",
      "metadata": {
        "id": "syFREQZdVt2z",
        "colab_type": "code",
        "colab": {}
      },
      "source": [
        "#Defining Neural Network\n",
        "lstm_model = Sequential()\n",
        "#Non-trainable embeddidng layer\n",
        "lstm_model.add(Embedding(vocab_size, output_dim=EMBEDDING_DIM, weights=[embedding_vectors], input_length=maxlen, trainable=False))\n",
        "#LSTM \n",
        "lstm_model.add(LSTM(units=128))\n",
        "lstm_model.add(Dense(1, activation='sigmoid'))\n",
        "lstm_model.compile(optimizer='adam', loss='binary_crossentropy', metrics=['acc'])\n",
        "\n",
        "#del embedding_vectors"
      ],
      "execution_count": 0,
      "outputs": []
    },
    {
      "cell_type": "code",
      "metadata": {
        "id": "oF-JsTQ8YEiW",
        "colab_type": "code",
        "colab": {
          "base_uri": "https://localhost:8080/",
          "height": 279
        },
        "outputId": "6ea08dc2-2703-48ce-f911-8dc3dea27222"
      },
      "source": [
        "lstm_model.summary()"
      ],
      "execution_count": 109,
      "outputs": [
        {
          "output_type": "stream",
          "text": [
            "Model: \"sequential_1\"\n",
            "_________________________________________________________________\n",
            "Layer (type)                 Output Shape              Param #   \n",
            "=================================================================\n",
            "embedding_1 (Embedding)      (None, 700, 100)          11857700  \n",
            "_________________________________________________________________\n",
            "lstm (LSTM)                  (None, 128)               117248    \n",
            "_________________________________________________________________\n",
            "dense_2 (Dense)              (None, 1)                 129       \n",
            "=================================================================\n",
            "Total params: 11,975,077\n",
            "Trainable params: 117,377\n",
            "Non-trainable params: 11,857,700\n",
            "_________________________________________________________________\n"
          ],
          "name": "stdout"
        }
      ]
    },
    {
      "cell_type": "code",
      "metadata": {
        "id": "DyGl6uhtYfVh",
        "colab_type": "code",
        "colab": {
          "base_uri": "https://localhost:8080/",
          "height": 443
        },
        "outputId": "154108da-199f-46e7-993b-6713998fdd66"
      },
      "source": [
        "early_stopping_callback_loss = tf.keras.callbacks.EarlyStopping(monitor = 'loss', patience = 1)\n",
        "early_stopping_callback_val_loss = tf.keras.callbacks.EarlyStopping(monitor = 'val_loss', patience = 1)\n",
        "\n",
        "lstm_history = lstm_model.fit(X_train_tok, y_train_tok, validation_split=0.2, epochs=4, \\\n",
        "                         callbacks = [early_stopping_callback_loss, early_stopping_callback_val_loss], verbose=1)"
      ],
      "execution_count": 110,
      "outputs": [
        {
          "output_type": "stream",
          "text": [
            "Train on 30219 samples, validate on 7555 samples\n",
            "Epoch 1/4\n",
            "   64/30219 [..............................] - ETA: 29:22 - loss: 0.6626 - acc: 0.5781"
          ],
          "name": "stdout"
        },
        {
          "output_type": "error",
          "ename": "KeyboardInterrupt",
          "evalue": "ignored",
          "traceback": [
            "\u001b[0;31m---------------------------------------------------------------------------\u001b[0m",
            "\u001b[0;31mKeyboardInterrupt\u001b[0m                         Traceback (most recent call last)",
            "\u001b[0;32m<ipython-input-110-ab3fd39f99c6>\u001b[0m in \u001b[0;36m<module>\u001b[0;34m()\u001b[0m\n\u001b[1;32m      2\u001b[0m \u001b[0mearly_stopping_callback_val_loss\u001b[0m \u001b[0;34m=\u001b[0m \u001b[0mtf\u001b[0m\u001b[0;34m.\u001b[0m\u001b[0mkeras\u001b[0m\u001b[0;34m.\u001b[0m\u001b[0mcallbacks\u001b[0m\u001b[0;34m.\u001b[0m\u001b[0mEarlyStopping\u001b[0m\u001b[0;34m(\u001b[0m\u001b[0mmonitor\u001b[0m \u001b[0;34m=\u001b[0m \u001b[0;34m'val_loss'\u001b[0m\u001b[0;34m,\u001b[0m \u001b[0mpatience\u001b[0m \u001b[0;34m=\u001b[0m \u001b[0;36m1\u001b[0m\u001b[0;34m)\u001b[0m\u001b[0;34m\u001b[0m\u001b[0;34m\u001b[0m\u001b[0m\n\u001b[1;32m      3\u001b[0m \u001b[0;34m\u001b[0m\u001b[0m\n\u001b[0;32m----> 4\u001b[0;31m \u001b[0mlstm_history\u001b[0m \u001b[0;34m=\u001b[0m \u001b[0mlstm_model\u001b[0m\u001b[0;34m.\u001b[0m\u001b[0mfit\u001b[0m\u001b[0;34m(\u001b[0m\u001b[0mX_train_tok\u001b[0m\u001b[0;34m,\u001b[0m \u001b[0my_train_tok\u001b[0m\u001b[0;34m,\u001b[0m \u001b[0mvalidation_split\u001b[0m\u001b[0;34m=\u001b[0m\u001b[0;36m0.2\u001b[0m\u001b[0;34m,\u001b[0m \u001b[0mepochs\u001b[0m\u001b[0;34m=\u001b[0m\u001b[0;36m4\u001b[0m\u001b[0;34m,\u001b[0m                          \u001b[0mcallbacks\u001b[0m \u001b[0;34m=\u001b[0m \u001b[0;34m[\u001b[0m\u001b[0mearly_stopping_callback_loss\u001b[0m\u001b[0;34m,\u001b[0m \u001b[0mearly_stopping_callback_val_loss\u001b[0m\u001b[0;34m]\u001b[0m\u001b[0;34m,\u001b[0m \u001b[0mverbose\u001b[0m\u001b[0;34m=\u001b[0m\u001b[0;36m1\u001b[0m\u001b[0;34m)\u001b[0m\u001b[0;34m\u001b[0m\u001b[0;34m\u001b[0m\u001b[0m\n\u001b[0m",
            "\u001b[0;32m/tensorflow-1.15.2/python3.6/tensorflow_core/python/keras/engine/training.py\u001b[0m in \u001b[0;36mfit\u001b[0;34m(self, x, y, batch_size, epochs, verbose, callbacks, validation_split, validation_data, shuffle, class_weight, sample_weight, initial_epoch, steps_per_epoch, validation_steps, validation_freq, max_queue_size, workers, use_multiprocessing, **kwargs)\u001b[0m\n\u001b[1;32m    725\u001b[0m         \u001b[0mmax_queue_size\u001b[0m\u001b[0;34m=\u001b[0m\u001b[0mmax_queue_size\u001b[0m\u001b[0;34m,\u001b[0m\u001b[0;34m\u001b[0m\u001b[0;34m\u001b[0m\u001b[0m\n\u001b[1;32m    726\u001b[0m         \u001b[0mworkers\u001b[0m\u001b[0;34m=\u001b[0m\u001b[0mworkers\u001b[0m\u001b[0;34m,\u001b[0m\u001b[0;34m\u001b[0m\u001b[0;34m\u001b[0m\u001b[0m\n\u001b[0;32m--> 727\u001b[0;31m         use_multiprocessing=use_multiprocessing)\n\u001b[0m\u001b[1;32m    728\u001b[0m \u001b[0;34m\u001b[0m\u001b[0m\n\u001b[1;32m    729\u001b[0m   def evaluate(self,\n",
            "\u001b[0;32m/tensorflow-1.15.2/python3.6/tensorflow_core/python/keras/engine/training_arrays.py\u001b[0m in \u001b[0;36mfit\u001b[0;34m(self, model, x, y, batch_size, epochs, verbose, callbacks, validation_split, validation_data, shuffle, class_weight, sample_weight, initial_epoch, steps_per_epoch, validation_steps, validation_freq, **kwargs)\u001b[0m\n\u001b[1;32m    673\u001b[0m         \u001b[0mvalidation_steps\u001b[0m\u001b[0;34m=\u001b[0m\u001b[0mvalidation_steps\u001b[0m\u001b[0;34m,\u001b[0m\u001b[0;34m\u001b[0m\u001b[0;34m\u001b[0m\u001b[0m\n\u001b[1;32m    674\u001b[0m         \u001b[0mvalidation_freq\u001b[0m\u001b[0;34m=\u001b[0m\u001b[0mvalidation_freq\u001b[0m\u001b[0;34m,\u001b[0m\u001b[0;34m\u001b[0m\u001b[0;34m\u001b[0m\u001b[0m\n\u001b[0;32m--> 675\u001b[0;31m         steps_name='steps_per_epoch')\n\u001b[0m\u001b[1;32m    676\u001b[0m \u001b[0;34m\u001b[0m\u001b[0m\n\u001b[1;32m    677\u001b[0m   def evaluate(self,\n",
            "\u001b[0;32m/tensorflow-1.15.2/python3.6/tensorflow_core/python/keras/engine/training_arrays.py\u001b[0m in \u001b[0;36mmodel_iteration\u001b[0;34m(model, inputs, targets, sample_weights, batch_size, epochs, verbose, callbacks, val_inputs, val_targets, val_sample_weights, shuffle, initial_epoch, steps_per_epoch, validation_steps, validation_freq, mode, validation_in_fit, prepared_feed_values_from_dataset, steps_name, **kwargs)\u001b[0m\n\u001b[1;32m    392\u001b[0m \u001b[0;34m\u001b[0m\u001b[0m\n\u001b[1;32m    393\u001b[0m         \u001b[0;31m# Get outputs.\u001b[0m\u001b[0;34m\u001b[0m\u001b[0;34m\u001b[0m\u001b[0;34m\u001b[0m\u001b[0m\n\u001b[0;32m--> 394\u001b[0;31m         \u001b[0mbatch_outs\u001b[0m \u001b[0;34m=\u001b[0m \u001b[0mf\u001b[0m\u001b[0;34m(\u001b[0m\u001b[0mins_batch\u001b[0m\u001b[0;34m)\u001b[0m\u001b[0;34m\u001b[0m\u001b[0;34m\u001b[0m\u001b[0m\n\u001b[0m\u001b[1;32m    395\u001b[0m         \u001b[0;32mif\u001b[0m \u001b[0;32mnot\u001b[0m \u001b[0misinstance\u001b[0m\u001b[0;34m(\u001b[0m\u001b[0mbatch_outs\u001b[0m\u001b[0;34m,\u001b[0m \u001b[0mlist\u001b[0m\u001b[0;34m)\u001b[0m\u001b[0;34m:\u001b[0m\u001b[0;34m\u001b[0m\u001b[0;34m\u001b[0m\u001b[0m\n\u001b[1;32m    396\u001b[0m           \u001b[0mbatch_outs\u001b[0m \u001b[0;34m=\u001b[0m \u001b[0;34m[\u001b[0m\u001b[0mbatch_outs\u001b[0m\u001b[0;34m]\u001b[0m\u001b[0;34m\u001b[0m\u001b[0;34m\u001b[0m\u001b[0m\n",
            "\u001b[0;32m/tensorflow-1.15.2/python3.6/tensorflow_core/python/keras/backend.py\u001b[0m in \u001b[0;36m__call__\u001b[0;34m(self, inputs)\u001b[0m\n\u001b[1;32m   3474\u001b[0m \u001b[0;34m\u001b[0m\u001b[0m\n\u001b[1;32m   3475\u001b[0m     fetched = self._callable_fn(*array_vals,\n\u001b[0;32m-> 3476\u001b[0;31m                                 run_metadata=self.run_metadata)\n\u001b[0m\u001b[1;32m   3477\u001b[0m     \u001b[0mself\u001b[0m\u001b[0;34m.\u001b[0m\u001b[0m_call_fetch_callbacks\u001b[0m\u001b[0;34m(\u001b[0m\u001b[0mfetched\u001b[0m\u001b[0;34m[\u001b[0m\u001b[0;34m-\u001b[0m\u001b[0mlen\u001b[0m\u001b[0;34m(\u001b[0m\u001b[0mself\u001b[0m\u001b[0;34m.\u001b[0m\u001b[0m_fetches\u001b[0m\u001b[0;34m)\u001b[0m\u001b[0;34m:\u001b[0m\u001b[0;34m]\u001b[0m\u001b[0;34m)\u001b[0m\u001b[0;34m\u001b[0m\u001b[0;34m\u001b[0m\u001b[0m\n\u001b[1;32m   3478\u001b[0m     output_structure = nest.pack_sequence_as(\n",
            "\u001b[0;32m/tensorflow-1.15.2/python3.6/tensorflow_core/python/client/session.py\u001b[0m in \u001b[0;36m__call__\u001b[0;34m(self, *args, **kwargs)\u001b[0m\n\u001b[1;32m   1470\u001b[0m         ret = tf_session.TF_SessionRunCallable(self._session._session,\n\u001b[1;32m   1471\u001b[0m                                                \u001b[0mself\u001b[0m\u001b[0;34m.\u001b[0m\u001b[0m_handle\u001b[0m\u001b[0;34m,\u001b[0m \u001b[0margs\u001b[0m\u001b[0;34m,\u001b[0m\u001b[0;34m\u001b[0m\u001b[0;34m\u001b[0m\u001b[0m\n\u001b[0;32m-> 1472\u001b[0;31m                                                run_metadata_ptr)\n\u001b[0m\u001b[1;32m   1473\u001b[0m         \u001b[0;32mif\u001b[0m \u001b[0mrun_metadata\u001b[0m\u001b[0;34m:\u001b[0m\u001b[0;34m\u001b[0m\u001b[0;34m\u001b[0m\u001b[0m\n\u001b[1;32m   1474\u001b[0m           \u001b[0mproto_data\u001b[0m \u001b[0;34m=\u001b[0m \u001b[0mtf_session\u001b[0m\u001b[0;34m.\u001b[0m\u001b[0mTF_GetBuffer\u001b[0m\u001b[0;34m(\u001b[0m\u001b[0mrun_metadata_ptr\u001b[0m\u001b[0;34m)\u001b[0m\u001b[0;34m\u001b[0m\u001b[0;34m\u001b[0m\u001b[0m\n",
            "\u001b[0;31mKeyboardInterrupt\u001b[0m: "
          ]
        }
      ]
    },
    {
      "cell_type": "code",
      "metadata": {
        "id": "gyBl1qlkF5UG",
        "colab_type": "code",
        "colab": {}
      },
      "source": [
        "plt.plot(lstm_history.history['loss'])\n",
        "plt.plot(lstm_history.history['val_loss'])\n",
        "plt.title('model train vs validation loss')\n",
        "plt.ylabel('loss')\n",
        "plt.xlabel('epoch')\n",
        "plt.legend(['train', 'validation'], loc='upper right')\n",
        "plt.show()"
      ],
      "execution_count": 0,
      "outputs": []
    },
    {
      "cell_type": "code",
      "metadata": {
        "id": "xWffg2YsYzF5",
        "colab_type": "code",
        "colab": {}
      },
      "source": [
        "#Prediction is in probability of news being real, so converting into classes\n",
        "lstm_pred = (lstm_model.predict(X_test_tok) >= 0.5).astype(\"int\")"
      ],
      "execution_count": 0,
      "outputs": []
    },
    {
      "cell_type": "code",
      "metadata": {
        "id": "jX1CKgltZJ6R",
        "colab_type": "code",
        "colab": {}
      },
      "source": [
        "print(classification_report(y_test_tok, lstm_pred))"
      ],
      "execution_count": 0,
      "outputs": []
    },
    {
      "cell_type": "code",
      "metadata": {
        "id": "RJj70EccWjhO",
        "colab_type": "code",
        "colab": {}
      },
      "source": [
        "print(confusion_matrix(y_test_tok, lstm_pred))"
      ],
      "execution_count": 0,
      "outputs": []
    },
    {
      "cell_type": "markdown",
      "metadata": {
        "id": "ahDGZb_BZWF7",
        "colab_type": "text"
      },
      "source": [
        "## Bert "
      ]
    },
    {
      "cell_type": "markdown",
      "metadata": {
        "id": "Uj-_pa13pK9l",
        "colab_type": "text"
      },
      "source": [
        "Leveraging work from [this colab](https://colab.sandbox.google.com/drive/1W8yYgQJ6AAvwZ3AdfuPDLirqXOtHbmuO#scrollTo=6o2a5ZIvRcJq)"
      ]
    },
    {
      "cell_type": "code",
      "metadata": {
        "id": "ceH2Oe95ZRB4",
        "colab_type": "code",
        "colab": {}
      },
      "source": [
        "!pip install bert-tensorflow"
      ],
      "execution_count": 0,
      "outputs": []
    },
    {
      "cell_type": "code",
      "metadata": {
        "id": "GErcwhIiZdp5",
        "colab_type": "code",
        "colab": {}
      },
      "source": [
        "import bert\n",
        "from bert import run_classifier\n",
        "from bert import optimization\n",
        "from bert import tokenization"
      ],
      "execution_count": 0,
      "outputs": []
    },
    {
      "cell_type": "code",
      "metadata": {
        "id": "n2f_2SYtZn3M",
        "colab_type": "code",
        "colab": {}
      },
      "source": [
        "# Set the output directory for saving model file\n",
        "# Optionally, set a GCP bucket location\n",
        "\n",
        "OUTPUT_DIR = 'model_out'#@param {type:\"string\"}\n",
        "#@markdown Whether or not to clear/delete the directory and create a new one\n",
        "DO_DELETE = False #@param {type:\"boolean\"}\n",
        "#@markdown Set USE_BUCKET and BUCKET if you want to (optionally) store model output on GCP bucket.\n",
        "USE_BUCKET = False #@param {type:\"boolean\"}\n",
        "BUCKET = 'BUCKET_NAME' #@param {type:\"string\"}\n",
        "\n",
        "if USE_BUCKET:\n",
        "  OUTPUT_DIR = 'gs://{}/{}'.format(BUCKET, OUTPUT_DIR)\n",
        "  from google.colab import auth\n",
        "  auth.authenticate_user()\n",
        "\n",
        "if DO_DELETE:\n",
        "  try:\n",
        "    tf.gfile.DeleteRecursively(OUTPUT_DIR)\n",
        "  except:\n",
        "    # Doesn't matter if the directory didn't exist\n",
        "    pass\n",
        "tf.gfile.MakeDirs(OUTPUT_DIR)\n",
        "print('***** Model output directory: {} *****'.format(OUTPUT_DIR))\n"
      ],
      "execution_count": 0,
      "outputs": []
    },
    {
      "cell_type": "code",
      "metadata": {
        "id": "sqsHn0tvS5dx",
        "colab_type": "code",
        "colab": {}
      },
      "source": [
        "#Import dataset file if not done already\n",
        "dataset_processed = pd.read_csv('/content/drive/My Drive/CS221_Project/dataset_reference.csv')"
      ],
      "execution_count": 0,
      "outputs": []
    },
    {
      "cell_type": "code",
      "metadata": {
        "id": "j1-MYwGEi__o",
        "colab_type": "code",
        "colab": {}
      },
      "source": [
        "train_df = dataset_processed.sample(frac=0.7, replace=False, random_state=1)\n",
        "val_df = dataset_processed.sample(frac=0.15, replace=False, random_state=1)\n",
        "test_df = dataset_processed.sample(frac=0.15, replace=False, random_state=1)\n",
        "print(train_df.shape, val_df.shape, test_df.shape)"
      ],
      "execution_count": 0,
      "outputs": []
    },
    {
      "cell_type": "code",
      "metadata": {
        "id": "XcZ4T9VjjbXh",
        "colab_type": "code",
        "colab": {}
      },
      "source": [
        "# Use the InputExample class from BERT's run_classifier code to create examples from the data\n",
        "train_InputExamples = train_df.apply(lambda x: bert.run_classifier.InputExample(guid=None, # Globally unique ID for bookkeeping, unused in this example\n",
        "                                                                   text_a = x['text'], \n",
        "                                                                   text_b = None, \n",
        "                                                                   label = x['class']), axis = 1)\n",
        "\n",
        "dev_InputExamples = val_df.apply(lambda x: bert.run_classifier.InputExample(guid=None, \n",
        "                                                                   text_a = x['text'], \n",
        "                                                                   text_b = None, \n",
        "                                                                   label = x['class']), axis = 1)\n",
        "\n",
        "test_InputExamples = test_df.apply(lambda x: bert.run_classifier.InputExample(guid=None, \n",
        "                                                                   text_a = x['text'], \n",
        "                                                                   text_b = None, \n",
        "                                                                   label = x['class']), axis = 1)"
      ],
      "execution_count": 0,
      "outputs": []
    },
    {
      "cell_type": "code",
      "metadata": {
        "id": "peUpcPsMltR8",
        "colab_type": "code",
        "colab": {}
      },
      "source": [
        "# In order to preprocess the data, we'll load a vocabulary file and lowercasing information directly from the BERT tf hub module\n",
        "# This is a path to an uncased (all lowercase) version of BERT\n",
        "BERT_MODEL_HUB = \"https://tfhub.dev/google/bert_uncased_L-12_H-768_A-12/1\"\n",
        "\n",
        "def create_tokenizer_from_hub_module():\n",
        "  \"\"\"Get the vocab file and casing info from the Hub module.\"\"\"\n",
        "  with tf.Graph().as_default():\n",
        "    bert_module = hub.Module(BERT_MODEL_HUB)\n",
        "    tokenization_info = bert_module(signature=\"tokenization_info\", as_dict=True)\n",
        "    with tf.Session() as sess:\n",
        "      vocab_file, do_lower_case = sess.run([tokenization_info[\"vocab_file\"],\n",
        "                                            tokenization_info[\"do_lower_case\"]])\n",
        "      \n",
        "  return bert.tokenization.FullTokenizer(\n",
        "      vocab_file=vocab_file, do_lower_case=do_lower_case)\n",
        "\n",
        "tokenizer_bert = create_tokenizer_from_hub_module()"
      ],
      "execution_count": 0,
      "outputs": []
    },
    {
      "cell_type": "code",
      "metadata": {
        "id": "_LuZoJ75lzSj",
        "colab_type": "code",
        "colab": {}
      },
      "source": [
        "tokenizer_bert.tokenize(\"betsy devos gets skewered after dept. of education posts embarrassingly misspelled tweets donald trump s education department is pathetic now that betsy devos is in control, and this proves it.devos first week as secretary of education has been terrible to say the least.first, she was blocked from entering a public school by protesters and ran away. then she posted a tweet jokingly asking where the pencils are, which drew a sharp rebuke from teachers, who did not find her joke funny because they usually have to buy their own school supplies for their classrooms.and so, the department of education under devos rule is off to a rough start, and it got downright embarrassing on sunday as americans watched in horror as the education department proceeded to post twitter messages containing misspelled words.seriously. this is the f*cking department of education we are talking about. spelling should be in their wheelhouse. but because of trump and devos, that skill has apparently been lost.in celebration of black history month, the department of education decided to recognize and quote w.e.b. du bois. it did not go well.education must not simply teach work it must teach life. w.e.b. debois /re4cwkpsfa us dept of education (@usedgov) february 12, 2017that s right. devos and her team actually misspelled du bois name. and mockery and outrage rained down upon them for it.welp, this is a foreshadowing of what #betsydevos is going to usher in @usedgov. ffs! it s #blackhistorymonth too!??w. e. b. du bois?? /qkhyauyp6i khary penebaker (@kharyp) february 12, 2017@usedgov looks like @betsydevos is in charge now! /paajszsusl mike flacy (@mikeflacy) february 12, 2017.@usedgov *w.e.b. du boisall good. not like this is the official twitter for the us department of education. ? ryan wyatt (@fwiz) february 12, 2017@usedgov i am glad my public school teachers taught me how to properly spell the names of noted scholars!! maris kreizman (@mariskreizman) february 12, 2017@usedgov omg, it s dubois. who is in charge over there? oh, wait, i get it. jennifer morgan (@profjlmorgan) february 12, 2017.@usedgov first y all thought frederick douglass was alive, now you can t spell du bois. this bodes well for an already faltering system. mehreen kasana (@mehreenkasana) february 12, 2017hilarious, @usedgov. it s either a terrible mistake or a perverse foray into humor. his name is w.e.b. du bois. screenshot saved. /dfdv887rne jeffrey guterman (@jeffreyguterman) february 12, 2017@jeffreyguterman @usedgov is @betsydevos in charge of social media content too? was she distracted by a grizzly? ? @pc7 (@pjcc777) february 12, 2017@usedgov how the hell do you misspell his name? if this isn t foreshadowing the shitstorm of #betsydevos, then i don t know what is s vion (@savionwright) february 12, 2017i see they left ms. duvos in charge of the @usedgov twitter feed /sw0scgm49u jason tocci (@jasont) february 12, 2017protesters should ve let @betsydevos into the school long enough to learn how to spell his name correctly @usedgovhttps://t.co/pdzsgu5xev carlton banksy (@rtyson82) february 12, 2017and if that wasn t enough, the department of education posted a corrected version and then posted an apology tweet that was also misspelled.again, seriously. education must not simply teach work it must teach life. w.e.b. du bois /hsg4r1rlhh us dept of education (@usedgov) february 12, 2017 our deepest apologizes /0staogo3fd josh billinson (@jbillinson) february 12, 2017even reading rainbow star levar burton chimed in.heaven help us! the dept. of education misspelled dubois #bydhttmwfi https://t.co/pt6i1em8an levar burton (@levarburton) february 12, 2017betsy devos hasn t even been in charge for a full week and she has already repeatedly proved that while money can buy a cabinet seat, in her case it could not buy a decent education. via chip somodevilla\")"
      ],
      "execution_count": 0,
      "outputs": []
    },
    {
      "cell_type": "code",
      "metadata": {
        "id": "kPN_kJsumXW8",
        "colab_type": "code",
        "colab": {}
      },
      "source": [
        "# label_list is the list of labels, i.e. True, False or 0, 1\n",
        "label_list = [True, False]"
      ],
      "execution_count": 0,
      "outputs": []
    },
    {
      "cell_type": "code",
      "metadata": {
        "id": "9PkqjZvVmK4r",
        "colab_type": "code",
        "colab": {}
      },
      "source": [
        "# We'll set sequences to be at most 128 tokens long (due to memory restriction)\n",
        "MAX_SEQ_LENGTH = 128\n",
        "# Convert our train and test features to InputFeatures that BERT understands.\n",
        "train_features = bert.run_classifier.convert_examples_to_features(train_InputExamples, label_list, MAX_SEQ_LENGTH, tokenizer_bert)\n",
        "dev_features = bert.run_classifier.convert_examples_to_features(dev_InputExamples, label_list, MAX_SEQ_LENGTH, tokenizer_bert)\n",
        "test_features = bert.run_classifier.convert_examples_to_features(test_InputExamples, label_list, MAX_SEQ_LENGTH, tokenizer_bert)"
      ],
      "execution_count": 0,
      "outputs": []
    },
    {
      "cell_type": "code",
      "metadata": {
        "id": "D8PuLF1BmPMD",
        "colab_type": "code",
        "colab": {}
      },
      "source": [
        "#Creating our model by fine-tuning Bert module\n",
        "def create_model(is_predicting, input_ids, input_mask, segment_ids, labels,\n",
        "                 num_labels):\n",
        "  \"\"\"Creates a classification model.\"\"\"\n",
        "\n",
        "  bert_module = hub.Module(\n",
        "      BERT_MODEL_HUB,\n",
        "      trainable=True)\n",
        "  bert_inputs = dict(\n",
        "      input_ids=input_ids,\n",
        "      input_mask=input_mask,\n",
        "      segment_ids=segment_ids)\n",
        "  bert_outputs = bert_module(\n",
        "      inputs=bert_inputs,\n",
        "      signature=\"tokens\",\n",
        "      as_dict=True)\n",
        "\n",
        "  # Use \"pooled_output\" for classification tasks on an entire sentence.\n",
        "  # Use \"sequence_outputs\" for token-level output.\n",
        "  output_layer = bert_outputs[\"pooled_output\"]\n",
        "\n",
        "  hidden_size = output_layer.shape[-1].value\n",
        "\n",
        "  # Create our own layer to tune for politeness data.\n",
        "  output_weights = tf.get_variable(\n",
        "      \"output_weights\", [num_labels, hidden_size],\n",
        "      initializer=tf.truncated_normal_initializer(stddev=0.02))\n",
        "\n",
        "  output_bias = tf.get_variable(\n",
        "      \"output_bias\", [num_labels], initializer=tf.zeros_initializer())\n",
        "\n",
        "  with tf.variable_scope(\"loss\"):\n",
        "\n",
        "    # Dropout helps prevent overfitting\n",
        "    output_layer = tf.nn.dropout(output_layer, keep_prob=0.9)\n",
        "\n",
        "    logits = tf.matmul(output_layer, output_weights, transpose_b=True)\n",
        "    logits = tf.nn.bias_add(logits, output_bias)\n",
        "    log_probs = tf.nn.log_softmax(logits, axis=-1)\n",
        "\n",
        "    # Convert labels into one-hot encoding\n",
        "    one_hot_labels = tf.one_hot(labels, depth=num_labels, dtype=tf.float32)\n",
        "\n",
        "    predicted_labels = tf.squeeze(tf.argmax(log_probs, axis=-1, output_type=tf.int32))\n",
        "    # If we're predicting, we want predicted labels and the probabiltiies.\n",
        "    if is_predicting:\n",
        "      return (predicted_labels, log_probs)\n",
        "\n",
        "    # If we're train/eval, compute loss between predicted and actual label\n",
        "    per_example_loss = -tf.reduce_sum(one_hot_labels * log_probs, axis=-1)\n",
        "    loss = tf.reduce_mean(per_example_loss)\n",
        "    return (loss, predicted_labels, log_probs)"
      ],
      "execution_count": 0,
      "outputs": []
    },
    {
      "cell_type": "code",
      "metadata": {
        "id": "1xOsXHYVoFMA",
        "colab_type": "code",
        "colab": {}
      },
      "source": [
        "# model_fn_builder actually creates our model function\n",
        "# using the passed parameters for num_labels, learning_rate, etc.\n",
        "def model_fn_builder(num_labels, learning_rate, num_train_steps,\n",
        "                     num_warmup_steps):\n",
        "  \"\"\"Returns `model_fn` closure for TPUEstimator.\"\"\"\n",
        "  def model_fn(features, labels, mode, params):  # pylint: disable=unused-argument\n",
        "    \"\"\"The `model_fn` for TPUEstimator.\"\"\"\n",
        "\n",
        "    input_ids = features[\"input_ids\"]\n",
        "    input_mask = features[\"input_mask\"]\n",
        "    segment_ids = features[\"segment_ids\"]\n",
        "    label_ids = features[\"label_ids\"]\n",
        "\n",
        "    is_predicting = (mode == tf.estimator.ModeKeys.PREDICT)\n",
        "    \n",
        "    # TRAIN and EVAL\n",
        "    if not is_predicting:\n",
        "\n",
        "      (loss, predicted_labels, log_probs) = create_model(\n",
        "        is_predicting, input_ids, input_mask, segment_ids, label_ids, num_labels)\n",
        "\n",
        "      train_op = bert.optimization.create_optimizer(\n",
        "          loss, learning_rate, num_train_steps, num_warmup_steps, use_tpu=False)\n",
        "\n",
        "      # Calculate evaluation metrics. \n",
        "      def metric_fn(label_ids, predicted_labels):\n",
        "        accuracy = tf.metrics.accuracy(label_ids, predicted_labels)\n",
        "        f1_score = tf.contrib.metrics.f1_score(\n",
        "            label_ids,\n",
        "            predicted_labels)\n",
        "        auc = tf.metrics.auc(\n",
        "            label_ids,\n",
        "            predicted_labels)\n",
        "        recall = tf.metrics.recall(\n",
        "            label_ids,\n",
        "            predicted_labels)\n",
        "        precision = tf.metrics.precision(\n",
        "            label_ids,\n",
        "            predicted_labels) \n",
        "        true_pos = tf.metrics.true_positives(\n",
        "            label_ids,\n",
        "            predicted_labels)\n",
        "        true_neg = tf.metrics.true_negatives(\n",
        "            label_ids,\n",
        "            predicted_labels)   \n",
        "        false_pos = tf.metrics.false_positives(\n",
        "            label_ids,\n",
        "            predicted_labels)  \n",
        "        false_neg = tf.metrics.false_negatives(\n",
        "            label_ids,\n",
        "            predicted_labels)\n",
        "        return {\n",
        "            \"eval_accuracy\": accuracy,\n",
        "            \"f1_score\": f1_score,\n",
        "            \"auc\": auc,\n",
        "            \"precision\": precision,\n",
        "            \"recall\": recall,\n",
        "            \"true_positives\": true_pos,\n",
        "            \"true_negatives\": true_neg,\n",
        "            \"false_positives\": false_pos,\n",
        "            \"false_negatives\": false_neg,\n",
        "        }\n",
        "\n",
        "      eval_metrics = metric_fn(label_ids, predicted_labels)\n",
        "\n",
        "      if mode == tf.estimator.ModeKeys.TRAIN:\n",
        "        return tf.estimator.EstimatorSpec(mode=mode,\n",
        "          loss=loss,\n",
        "          train_op=train_op)\n",
        "      else:\n",
        "          return tf.estimator.EstimatorSpec(mode=mode,\n",
        "            loss=loss,\n",
        "            eval_metric_ops=eval_metrics)\n",
        "    else:\n",
        "      (predicted_labels, log_probs) = create_model(\n",
        "        is_predicting, input_ids, input_mask, segment_ids, label_ids, num_labels)\n",
        "\n",
        "      predictions = {\n",
        "          'probabilities': log_probs,\n",
        "          'labels': predicted_labels\n",
        "      }\n",
        "      return tf.estimator.EstimatorSpec(mode, predictions=predictions)\n",
        "\n",
        "  # Return the actual model function in the closure\n",
        "  return model_fn\n"
      ],
      "execution_count": 0,
      "outputs": []
    },
    {
      "cell_type": "code",
      "metadata": {
        "id": "NaXG5nYMoO_8",
        "colab_type": "code",
        "colab": {}
      },
      "source": [
        "# Compute train and warmup steps from batch size\n",
        "BATCH_SIZE = 32\n",
        "LEARNING_RATE = 2e-5\n",
        "NUM_TRAIN_EPOCHS = 3.0\n",
        "# Warmup is a period of time where the learning rate \n",
        "# is small and gradually increases--usually helps training.\n",
        "WARMUP_PROPORTION = 0.1\n",
        "# Model configs\n",
        "SAVE_CHECKPOINTS_STEPS = 500\n",
        "SAVE_SUMMARY_STEPS = 100"
      ],
      "execution_count": 0,
      "outputs": []
    },
    {
      "cell_type": "code",
      "metadata": {
        "id": "iwzQmIploUMV",
        "colab_type": "code",
        "colab": {}
      },
      "source": [
        "# Compute # train and warmup steps from batch size\n",
        "num_train_steps = int(len(train_features) / BATCH_SIZE * NUM_TRAIN_EPOCHS)\n",
        "num_warmup_steps = int(num_train_steps * WARMUP_PROPORTION)"
      ],
      "execution_count": 0,
      "outputs": []
    },
    {
      "cell_type": "code",
      "metadata": {
        "id": "RZJzDB0xoWdB",
        "colab_type": "code",
        "colab": {}
      },
      "source": [
        "# Specify output directory and number of checkpoint steps to save\n",
        "run_config = tf.estimator.RunConfig(\n",
        "    model_dir=OUTPUT_DIR,\n",
        "    save_summary_steps=SAVE_SUMMARY_STEPS,\n",
        "    save_checkpoints_steps=SAVE_CHECKPOINTS_STEPS)"
      ],
      "execution_count": 0,
      "outputs": []
    },
    {
      "cell_type": "code",
      "metadata": {
        "id": "M9JNwSjvoZLh",
        "colab_type": "code",
        "colab": {}
      },
      "source": [
        "model_fn = model_fn_builder(\n",
        "  num_labels=len(label_list),\n",
        "  learning_rate=LEARNING_RATE,\n",
        "  num_train_steps=num_train_steps,\n",
        "  num_warmup_steps=num_warmup_steps)\n",
        "\n",
        "estimator = tf.estimator.Estimator(\n",
        "  model_fn=model_fn,\n",
        "  config=run_config,\n",
        "  params={\"batch_size\": BATCH_SIZE})\n"
      ],
      "execution_count": 0,
      "outputs": []
    },
    {
      "cell_type": "code",
      "metadata": {
        "id": "Ya_wbyUVobIW",
        "colab_type": "code",
        "colab": {}
      },
      "source": [
        "# Create an input function for training. drop_remainder = True for using TPUs.\n",
        "train_input_fn = bert.run_classifier.input_fn_builder(\n",
        "    features=train_features,\n",
        "    seq_length=MAX_SEQ_LENGTH,\n",
        "    is_training=True,\n",
        "    drop_remainder=False)"
      ],
      "execution_count": 0,
      "outputs": []
    },
    {
      "cell_type": "code",
      "metadata": {
        "id": "VEZg6XoAod8M",
        "colab_type": "code",
        "colab": {}
      },
      "source": [
        "print(f'Beginning Training!')\n",
        "current_time = datetime.now()\n",
        "estimator.train(input_fn=train_input_fn, max_steps=num_train_steps)\n",
        "print(\"Training took time \", datetime.now() - current_time)"
      ],
      "execution_count": 0,
      "outputs": []
    },
    {
      "cell_type": "code",
      "metadata": {
        "id": "KJwXT7GHokev",
        "colab_type": "code",
        "colab": {}
      },
      "source": [
        "dev_input_fn = run_classifier.input_fn_builder(\n",
        "    features=dev_features,\n",
        "    seq_length=MAX_SEQ_LENGTH,\n",
        "    is_training=False,\n",
        "    drop_remainder=False)"
      ],
      "execution_count": 0,
      "outputs": []
    },
    {
      "cell_type": "code",
      "metadata": {
        "id": "GO9TLFijoxfp",
        "colab_type": "code",
        "colab": {}
      },
      "source": [
        "estimator.evaluate(input_fn=dev_input_fn, steps=None)"
      ],
      "execution_count": 0,
      "outputs": []
    },
    {
      "cell_type": "code",
      "metadata": {
        "id": "HnSNxswGTrkb",
        "colab_type": "code",
        "colab": {}
      },
      "source": [
        "test_input_fn = run_classifier.input_fn_builder(features=test_features, seq_length=MAX_SEQ_LENGTH, is_training=False, drop_remainder=False)\n",
        "estimator.evaluate(input_fn=test_input_fn, steps=None)"
      ],
      "execution_count": 0,
      "outputs": []
    },
    {
      "cell_type": "code",
      "metadata": {
        "id": "sF5XxSclkWff",
        "colab_type": "code",
        "colab": {}
      },
      "source": [
        "#Preparing predictions on new articles\n",
        "def getPrediction(in_news):\n",
        "  labels = [\"Real\", \"Fake\"]\n",
        "  input_examples = [run_classifier.InputExample(guid=\"\", text_a = x, text_b = None, label = 0) for x in in_news] # here, \"\" is just a dummy label\n",
        "  input_features = run_classifier.convert_examples_to_features(input_examples, label_list, MAX_SEQ_LENGTH, tokenizer_bert)\n",
        "  predict_input_fn = run_classifier.input_fn_builder(features=input_features, seq_length=MAX_SEQ_LENGTH, is_training=False, drop_remainder=False)\n",
        "  predictions = estimator.predict(predict_input_fn)\n",
        "  return [(prediction['probabilities'], labels[prediction['labels']]) for prediction in predictions]"
      ],
      "execution_count": 0,
      "outputs": []
    },
    {
      "cell_type": "code",
      "metadata": {
        "id": "aSL7aYoJmUB8",
        "colab_type": "code",
        "colab": {}
      },
      "source": [
        "pred_news = []\n",
        "pred_labels = []\n",
        "with open('/content/drive/My Drive/CS221_Project/pred_news.csv', newline='') as f:\n",
        "    reader = csv.reader(f)\n",
        "    for row in reader:\n",
        "      pred_news.append(row[0])\n",
        "      pred_labels.append(row[1])"
      ],
      "execution_count": 0,
      "outputs": []
    },
    {
      "cell_type": "code",
      "metadata": {
        "id": "k2I196GjEtLN",
        "colab_type": "code",
        "colab": {}
      },
      "source": [
        "print(pred_labels)"
      ],
      "execution_count": 0,
      "outputs": []
    },
    {
      "cell_type": "code",
      "metadata": {
        "id": "_SqArfc4m1md",
        "colab_type": "code",
        "colab": {}
      },
      "source": [
        "predictions = getPrediction(pred_news)"
      ],
      "execution_count": 0,
      "outputs": []
    },
    {
      "cell_type": "code",
      "metadata": {
        "id": "I8ratFluFR7r",
        "colab_type": "code",
        "colab": {}
      },
      "source": [
        "predictions"
      ],
      "execution_count": 0,
      "outputs": []
    },
    {
      "cell_type": "markdown",
      "metadata": {
        "id": "PsMuQrnWXtAe",
        "colab_type": "text"
      },
      "source": [
        "# **Data Analysis**"
      ]
    },
    {
      "cell_type": "markdown",
      "metadata": {
        "id": "YghPXl4Q56SB",
        "colab_type": "text"
      },
      "source": [
        "(TODO) Compare real vs fake corpus via:\n",
        "\n",
        "\n",
        "*   total #words, avg #words/news\n",
        "*   total #unique words, avg #unique words/news, \n",
        "*   total #char per news, avg #char per news\n",
        "*   total/avg unknown words? (due to abreviations, speaking language)\n",
        "*   topics, avg # top words per topic (via LDA), dictionary differences\n",
        "*   sentiment/emotion analysis\n",
        "*   style analysis ?\n"
      ]
    },
    {
      "cell_type": "markdown",
      "metadata": {
        "id": "0SoQCYTw10dd",
        "colab_type": "text"
      },
      "source": [
        "## Linguistic structure"
      ]
    },
    {
      "cell_type": "code",
      "metadata": {
        "id": "tG3ia_sH4jxc",
        "colab_type": "code",
        "colab": {}
      },
      "source": [
        "dataset_real = bert_dataset.loc[bert_dataset['class'] == 1]\n",
        "dataset_fake = bert_dataset.loc[bert_dataset['class'] == 0]"
      ],
      "execution_count": 0,
      "outputs": []
    },
    {
      "cell_type": "markdown",
      "metadata": {
        "id": "843lgMat4lJd",
        "colab_type": "text"
      },
      "source": [
        "Total #words, avg #words/news"
      ]
    },
    {
      "cell_type": "code",
      "metadata": {
        "id": "vVSKj5ga-tQZ",
        "colab_type": "code",
        "colab": {}
      },
      "source": [
        "count_real = 0\n",
        "for news in X_real:\n",
        "    count_real += len(news)    \n",
        "\n",
        "count_fake = 0\n",
        "for news in X_fake:\n",
        "    count_fake += len(news)    \n",
        "\n",
        "print(\"Total number of words in real news: \",count_real)\n",
        "print(\"Total number of words in fake news: \",count_fake)"
      ],
      "execution_count": 0,
      "outputs": []
    },
    {
      "cell_type": "code",
      "metadata": {
        "id": "7LIeMza7Acem",
        "colab_type": "code",
        "colab": {}
      },
      "source": [
        "avg_real = []\n",
        "for newsr in X_real:\n",
        "    avg_real.append(len(newsr))\n",
        "\n",
        "avg_fake = []\n",
        "for newsf in X_fake:\n",
        "    avg_fake.append(len(newsf))\n",
        "\n",
        "print(\"Average number of words in real news: \",mean(avg_real))\n",
        "print(\"Average number of words in fake news: \",mean(avg_fake))"
      ],
      "execution_count": 0,
      "outputs": []
    },
    {
      "cell_type": "code",
      "metadata": {
        "id": "NoHaxQQZCjOM",
        "colab_type": "code",
        "colab": {}
      },
      "source": [
        "plt.figure(figsize = (12,7))\n",
        "plt.hist(avg_fake, bins = 100, range = [0, 2000], label='Fake')\n",
        "plt.hist(avg_real, bins = 100, range = [0, 2000], alpha=0.5, label='Real')\n",
        "plt.legend(loc='upper right')\n",
        "plt.title('Distribution of number of words per news')\n",
        "plt.show()"
      ],
      "execution_count": 0,
      "outputs": []
    },
    {
      "cell_type": "code",
      "metadata": {
        "id": "_hWo0Bg7Y4UO",
        "colab_type": "code",
        "colab": {}
      },
      "source": [
        "#Five-numbers summary for each corpus \n",
        "def five_num_summary(dataframe):\n",
        "    quartiles = np.percentile([len(x.split()) for x in dataframe[\"text\"].tolist()], [0, 25, 50, 75, 100])\n",
        "    \n",
        "    return quartiles\n",
        "\n",
        "true_summ = five_num_summary(dataset_real)\n",
        "\n",
        "print(\"Text length - Five-number summary for true news:\")\n",
        "for i in range(0, 101,25):\n",
        "    print(\"{}'th %ile: {}\".format(i, int(true_summ[i//25])))\n",
        "    \n",
        "    \n",
        "print(\"\\n\")\n",
        "\n",
        "\n",
        "fake_summ = five_num_summary(dataset_fake)\n",
        "\n",
        "print(\"Text length - Five-number summary for fake news:\")\n",
        "for i in range(0, 101,25):\n",
        "    print(\"{}'th %ile: {}\".format(i, int(fake_summ[i//25])))"
      ],
      "execution_count": 0,
      "outputs": []
    },
    {
      "cell_type": "code",
      "metadata": {
        "id": "npM57TAJW9wn",
        "colab_type": "code",
        "colab": {}
      },
      "source": [
        "#Checking examples of the shortest fake news\n",
        "X_fake_sorted = sorted(X_fake, key = len)\n",
        "print(X_fake_sorted[:20])"
      ],
      "execution_count": 0,
      "outputs": []
    },
    {
      "cell_type": "code",
      "metadata": {
        "id": "2l89DJojXg4W",
        "colab_type": "code",
        "colab": {}
      },
      "source": [
        "#Checking examples of the shortest real news\n",
        "X_real_sorted = sorted(X_real, key = len)\n",
        "print(X_real_sorted[:10])"
      ],
      "execution_count": 0,
      "outputs": []
    },
    {
      "cell_type": "markdown",
      "metadata": {
        "id": "P7kQq-8s40Z3",
        "colab_type": "text"
      },
      "source": [
        "Total #unique words, avg #unique words/news"
      ]
    },
    {
      "cell_type": "code",
      "metadata": {
        "id": "xXR1PrO-4zC1",
        "colab_type": "code",
        "colab": {}
      },
      "source": [
        "print(\"Total unique words in real news: \",len(cnt_real))\n",
        "print(\"Total unique words in fake news: \",len(cnt_fake))"
      ],
      "execution_count": 0,
      "outputs": []
    },
    {
      "cell_type": "code",
      "metadata": {
        "id": "vrzmNhuu-nFk",
        "colab_type": "code",
        "colab": {}
      },
      "source": [
        ""
      ],
      "execution_count": 0,
      "outputs": []
    },
    {
      "cell_type": "markdown",
      "metadata": {
        "id": "CjAORFH145u3",
        "colab_type": "text"
      },
      "source": [
        "Total #char per news, avg #char per news"
      ]
    },
    {
      "cell_type": "code",
      "metadata": {
        "id": "HG1ZAQS9ASZH",
        "colab_type": "code",
        "colab": {}
      },
      "source": [
        "#Comparison of news lengths in characters number between Real and Fake news\n",
        "plt.figure(figsize = (12,7))\n",
        "dataset_fake['text'].str.len().hist(bins = 100, range = [0, 20000])\n",
        "dataset_real['text'].str.len().hist(alpha=0.5, bins = 100, range = [0, 20000])\n",
        "plt.title('Number of characters per news')\n",
        "plt.legend(['Fake', 'Real'])\n",
        "plt.show()"
      ],
      "execution_count": 0,
      "outputs": []
    },
    {
      "cell_type": "code",
      "metadata": {
        "id": "Jw_krZc27AW7",
        "colab_type": "code",
        "colab": {}
      },
      "source": [
        "from statistics import mean\n",
        "print(\"Real mean news length (in words #): \",mean(dataset_real['text'].str.len()))\n",
        "print(\"Fake mean news length (in words #): \",mean(dataset_fake['text'].str.len()))"
      ],
      "execution_count": 0,
      "outputs": []
    },
    {
      "cell_type": "markdown",
      "metadata": {
        "id": "Y93w0_Q6-TdN",
        "colab_type": "text"
      },
      "source": [
        "## Words frequency"
      ]
    },
    {
      "cell_type": "code",
      "metadata": {
        "id": "XKzew2W-uc-m",
        "colab_type": "code",
        "colab": {}
      },
      "source": [
        "#Word Cloud on real news\n",
        "text = ''\n",
        "for news in dataset_real.text.values:\n",
        "    text += news\n",
        "wordcloud = WordCloud(\n",
        "    width = 3000,\n",
        "    height = 2000,\n",
        "    background_color = 'white',\n",
        "    stopwords = set(nltk.corpus.stopwords.words(\"english\"))).generate(text)\n",
        "fig = plt.figure(\n",
        "    figsize = (40, 30),\n",
        "    facecolor = 'k',\n",
        "    edgecolor = 'k')\n",
        "plt.imshow(wordcloud, interpolation = 'bilinear')\n",
        "plt.axis('off')\n",
        "plt.show()\n",
        "del text"
      ],
      "execution_count": 0,
      "outputs": []
    },
    {
      "cell_type": "code",
      "metadata": {
        "id": "-s4d_YQRujOU",
        "colab_type": "code",
        "colab": {}
      },
      "source": [
        "#Word Cloud on fake news\n",
        "text = ''\n",
        "for news in dataset_fake.text.values:\n",
        "    text += news\n",
        "wordcloud = WordCloud(\n",
        "    width = 3000,\n",
        "    height = 2000,\n",
        "    background_color = 'white',\n",
        "    stopwords = set(nltk.corpus.stopwords.words(\"english\"))).generate(text)\n",
        "fig = plt.figure(\n",
        "    figsize = (40, 30),\n",
        "    facecolor = 'k',\n",
        "    edgecolor = 'k')\n",
        "plt.imshow(wordcloud, interpolation = 'bilinear')\n",
        "plt.axis('off')\n",
        "plt.show()\n",
        "del text"
      ],
      "execution_count": 0,
      "outputs": []
    },
    {
      "cell_type": "code",
      "metadata": {
        "id": "thTWjMf6UUbz",
        "colab_type": "code",
        "colab": {}
      },
      "source": [
        "#Let's analyze most frequent words\n",
        "corpus_real=[word for i in X_real for word in i]\n",
        "counter_real=Counter(corpus_real)\n",
        "most_real=counter_real.most_common()\n",
        "\n",
        "x1, x2= [], []\n",
        "for word,count in most_real[:40]:\n",
        "    if (word not in stop_words and len(word) > 1):\n",
        "        x1.append(word)\n",
        "        x2.append(count)\n",
        " \n",
        "corpus_fake=[word for j in X_fake for word in j]\n",
        "counter_fake=Counter(corpus_fake)\n",
        "most_fake=counter_fake.most_common()\n",
        "\n",
        "x3, x4= [], []\n",
        "for word,count in most_fake[:40]:\n",
        "    if (word not in stop_words and len(word) > 1):\n",
        "        x3.append(word)\n",
        "        x4.append(count)\n",
        "\n",
        "fig,(ax1, ax2) = plt.subplots(1,2)\n",
        "sns.barplot(x=x2[:20],y=x1[:20],ax=ax1).set_title('Real')\n",
        "sns.barplot(x=x4[:20],y=x3[:20],ax=ax2).set_title('Fake')\n",
        "fig.tight_layout()"
      ],
      "execution_count": 0,
      "outputs": []
    },
    {
      "cell_type": "markdown",
      "metadata": {
        "id": "wYhtMYDMGdbJ",
        "colab_type": "text"
      },
      "source": [
        "Bigrams and trigrams in both classes"
      ]
    },
    {
      "cell_type": "code",
      "metadata": {
        "id": "gW2doTmu5SdN",
        "colab_type": "code",
        "colab": {}
      },
      "source": [
        "from sklearn.feature_extraction.text import CountVectorizer\n",
        "def get_top_ngram(corpus, n=None):\n",
        "    vec = CountVectorizer(stop_words='english', lowercase=True, ngram_range=(n, n)).fit(corpus)\n",
        "    bag_of_words = vec.transform(corpus)\n",
        "    sum_words = bag_of_words.sum(axis=0) \n",
        "    words_freq = [(word, sum_words[0, idx]) \n",
        "                  for word, idx in vec.vocabulary_.items()]\n",
        "    words_freq =sorted(words_freq, key = lambda x: x[1], reverse=True)\n",
        "    return words_freq[:20]\n",
        "\n",
        "top_n_bigrams_real=get_top_ngram(dataset_real['text'],2)[:20]\n",
        "x_,y_=map(list,zip(*top_n_bigrams_real))\n",
        "top_n_bigrams_fake=get_top_ngram(dataset_fake['text'],2)[:20]\n",
        "w_,z_=map(list,zip(*top_n_bigrams_fake))\n",
        "\n",
        "fig,(ax1, ax2) = plt.subplots(1,2)\n",
        "sns.barplot(x=y_,y=x_,ax=ax1).set_title('Real')\n",
        "sns.barplot(x=z_,y=w_,ax=ax2).set_title('Fake')\n",
        "fig.tight_layout()"
      ],
      "execution_count": 0,
      "outputs": []
    },
    {
      "cell_type": "markdown",
      "metadata": {
        "id": "5TSxgzkD5ICE",
        "colab_type": "text"
      },
      "source": [
        "## TF-IDF, k-means (to be continued)"
      ]
    },
    {
      "cell_type": "code",
      "metadata": {
        "id": "lO2Cqg_cCYPU",
        "colab_type": "code",
        "colab": {}
      },
      "source": [
        "#Alternative method of analyzing ngrams via TfidfVectorizer\n",
        "from sklearn.feature_extraction.text import TfidfVectorizer\n",
        "class NewTfidfVectorizer(TfidfVectorizer):\n",
        "    def _word_ngrams(self, tokens, stop_words=None):\n",
        "\n",
        "        # First get tokens without stop words\n",
        "        tokens = super(TfidfVectorizer, self)._word_ngrams(tokens, None)\n",
        "        if stop_words is not None:\n",
        "            new_tokens=[]\n",
        "            for token in tokens:\n",
        "                split_words = token.split(' ')\n",
        "\n",
        "                # Only check the first and last word for stop words\n",
        "                if split_words[0] not in stop_words and split_words[-1] not in stop_words:\n",
        "                    new_tokens.append(token)\n",
        "            return new_tokens\n",
        "\n",
        "        return tokens\n",
        "\n",
        "vectorizer = NewTfidfVectorizer(stop_words='english', ngram_range=(3,3))\n",
        "vectorizer.fit(bert_dataset[\"text\"])"
      ],
      "execution_count": 0,
      "outputs": []
    },
    {
      "cell_type": "code",
      "metadata": {
        "id": "J4ePxHZssEZJ",
        "colab_type": "code",
        "colab": {}
      },
      "source": [
        "#K-means\n",
        "#we can also pursue dimensionality reduction using LSA (I can write this code) if we want to improve further.\n",
        "X_vec = vectorizer.fit_transform(bert_dataset['text'])\n",
        "labels = bert_dataset['class']\n",
        "true_k = np.unique(labels).shape[0]\n",
        "\n",
        "km = MiniBatchKMeans(n_clusters=true_k, init='k-means++', n_init=1,init_size=1000, \n",
        "                     batch_size=1000, verbose=False)\n",
        "print(\"Clustering sparse data with %s\" % km)\n",
        "km.fit(X_vec)\n",
        "\n",
        "print(\"Homogeneity: %0.3f\" % metrics.homogeneity_score(labels, km.labels_))\n",
        "print(\"Completeness: %0.3f\" % metrics.completeness_score(labels, km.labels_))\n",
        "print(\"V-measure: %0.3f\" % metrics.v_measure_score(labels, km.labels_))\n",
        "print(\"Adjusted Rand-Index: %.3f\" % metrics.adjusted_rand_score(labels, km.labels_))\n",
        "print(\"Silhouette Coefficient: %0.3f\" % metrics.silhouette_score(X_vec, km.labels_, sample_size=1000))\n",
        "\n",
        "print()"
      ],
      "execution_count": 0,
      "outputs": []
    },
    {
      "cell_type": "markdown",
      "metadata": {
        "id": "i7wCW4KDRjrY",
        "colab_type": "text"
      },
      "source": [
        "## Topic Modeling exploration with pyLDAvis"
      ]
    },
    {
      "cell_type": "code",
      "metadata": {
        "id": "bJlGSLo1Ri_v",
        "colab_type": "code",
        "colab": {}
      },
      "source": [
        "#Tokenization and lemmatization\n",
        "from nltk.stem import PorterStemmer, WordNetLemmatizer\n",
        "\n",
        "def preprocess_news(df):\n",
        "    corpus=[]\n",
        "    stem=PorterStemmer()\n",
        "    lem=WordNetLemmatizer()\n",
        "    for news in df['text']:\n",
        "        words=[w for w in nltk.word_tokenize(news) if (w not in stop_words)]\n",
        "        \n",
        "        words=[lem.lemmatize(w) for w in words if len(w)>2]\n",
        "        \n",
        "        corpus.append(words)\n",
        "    return corpus\n",
        "\n",
        "corpus_real=preprocess_news(dataset_real)\n",
        "corpus_fake=preprocess_news(dataset_fake)"
      ],
      "execution_count": 0,
      "outputs": []
    },
    {
      "cell_type": "code",
      "metadata": {
        "id": "Z5TRVHw_SRhi",
        "colab_type": "code",
        "colab": {}
      },
      "source": [
        "#Let’s create the bag of words model using gensim\n",
        "dic_real=gensim.corpora.Dictionary(corpus_real)\n",
        "bow_corpus_real = [dic_real.doc2bow(doc_real) for doc_real in corpus_real]\n",
        "\n",
        "dic_fake=gensim.corpora.Dictionary(corpus_fake)\n",
        "bow_corpus_fake = [dic_fake.doc2bow(doc_fake) for doc_fake in corpus_fake]"
      ],
      "execution_count": 0,
      "outputs": []
    },
    {
      "cell_type": "code",
      "metadata": {
        "id": "bnxHjfmxSVjb",
        "colab_type": "code",
        "colab": {}
      },
      "source": [
        "#And finally create the LDA models\n",
        "lda_model_real = gensim.models.LdaMulticore(bow_corpus_real, \n",
        "                                   num_topics = 4, \n",
        "                                   id2word = dic_real,                                    \n",
        "                                   passes = 10,\n",
        "                                   workers = 2)\n",
        "lda_model_real.show_topics()"
      ],
      "execution_count": 0,
      "outputs": []
    },
    {
      "cell_type": "code",
      "metadata": {
        "id": "BXbSVZPjjlJj",
        "colab_type": "code",
        "colab": {}
      },
      "source": [
        "#And finally create the LDA models\n",
        "lda_model_fake = gensim.models.LdaMulticore(bow_corpus_fake, \n",
        "                                   num_topics = 4, \n",
        "                                   id2word = dic_fake,                                    \n",
        "                                   passes = 10,\n",
        "                                   workers = 2)\n",
        "lda_model_fake.show_topics()"
      ],
      "execution_count": 0,
      "outputs": []
    },
    {
      "cell_type": "code",
      "metadata": {
        "id": "MO1l_wCkRjYo",
        "colab_type": "code",
        "colab": {}
      },
      "source": [
        "%%capture\n",
        "!pip install pyLDAvis"
      ],
      "execution_count": 0,
      "outputs": []
    },
    {
      "cell_type": "code",
      "metadata": {
        "id": "janW-UYHO27Y",
        "colab_type": "code",
        "colab": {}
      },
      "source": [
        "import pyLDAvis.gensim\n",
        "pyLDAvis.enable_notebook()\n",
        "vis_real = pyLDAvis.gensim.prepare(lda_model_real, bow_corpus_real, dic_real)\n",
        "vis_real"
      ],
      "execution_count": 0,
      "outputs": []
    },
    {
      "cell_type": "code",
      "metadata": {
        "id": "h5-PlvD7jwtC",
        "colab_type": "code",
        "colab": {}
      },
      "source": [
        "import pyLDAvis.gensim\n",
        "pyLDAvis.enable_notebook()\n",
        "vis_fake = pyLDAvis.gensim.prepare(lda_model_fake, bow_corpus_fake, dic_fake)\n",
        "vis_fake"
      ],
      "execution_count": 0,
      "outputs": []
    },
    {
      "cell_type": "markdown",
      "metadata": {
        "id": "wr2qO_KRfnJc",
        "colab_type": "text"
      },
      "source": [
        "## Readibility index (using Flesch reading ease score formula)\n",
        "\n",
        "*   90-100 : Very Easy\n",
        "*   80-89 : Easy\n",
        "*   70-79 : Fairly Easy\n",
        "*   60-69 : Standard\n",
        "*   50-59 : Fairly Difficult\n",
        "*   30-49 : Difficult\n",
        "*   0-29 : Very Confusing\n",
        "\n",
        "The formula for calculating the flesch reading easiness score is given below:\n",
        "\n",
        "RE = 206.835 – (1.015 x ASL) – (84.6 x ASW)\n",
        "\n",
        "RE = Readability Ease\n",
        "\n",
        "ASL = Average Sentence Length (i.e., the number of words divided by the number of sentences)\n",
        "\n",
        "ASW = Average number of syllables per word (i.e., the number of syllables divided by the number of words)"
      ]
    },
    {
      "cell_type": "code",
      "metadata": {
        "id": "sEDUNd3AgCmj",
        "colab_type": "code",
        "colab": {}
      },
      "source": [
        "%%capture\n",
        "!pip install textstat"
      ],
      "execution_count": 0,
      "outputs": []
    },
    {
      "cell_type": "code",
      "metadata": {
        "id": "z0Lc3bPmfpo9",
        "colab_type": "code",
        "colab": {}
      },
      "source": [
        "#The analysis must be performed on the original dataset, before data preprocessing\n",
        "import textstat as ts\n",
        "\n",
        "real_news_readability = []\n",
        "fake_news_readability = []\n",
        "\n",
        "for sentence in dataset.loc[dataset['class'] == 1][\"text\"].tolist():\n",
        "    temp = ts.flesch_reading_ease(sentence)\n",
        "    real_news_readability.append(temp)\n",
        "    \n",
        "for sentence in dataset.loc[dataset['class'] == 0][\"text\"].tolist():\n",
        "    temp = ts.flesch_reading_ease(sentence)\n",
        "    fake_news_readability.append(temp)"
      ],
      "execution_count": 0,
      "outputs": []
    },
    {
      "cell_type": "code",
      "metadata": {
        "id": "KIvud74fgOjR",
        "colab_type": "code",
        "colab": {}
      },
      "source": [
        "real_readability_df = pd.Series(real_news_readability)\n",
        "fake_readability_df = pd.Series(fake_news_readability)\n",
        "\n",
        "plt.figure(figsize = (12,7))\n",
        "plt.hist(fake_readability_df, bins = 10, range = [0, 100], label = \"fake-news readability\")\n",
        "plt.hist(real_readability_df, bins = 10, range = [0, 100], alpha = 0.5, label = \"real-news readability\")\n",
        "plt.xlabel(\"Flesch readability easiness for a news article\", fontsize = 12)\n",
        "plt.ylabel(\"Number of articles with x word length\", fontsize = 12)\n",
        "plt.title(\"Class wise Flesch readability ease score distribution\", fontsize = 15)\n",
        "plt.legend()\n",
        "plt.show()"
      ],
      "execution_count": 0,
      "outputs": []
    },
    {
      "cell_type": "markdown",
      "metadata": {
        "id": "g1w9W9W7A3RN",
        "colab_type": "text"
      },
      "source": [
        "## Sentiment analysis"
      ]
    },
    {
      "cell_type": "markdown",
      "metadata": {
        "id": "BtSHJfRgOVY6",
        "colab_type": "text"
      },
      "source": [
        "With Vader library\n",
        "\n",
        "```\n",
        "Vader uses a bag of words approach (a lookup table of positive and negative words) with some simple heuristics (e.g. increasing the intensity of the sentiment if some words like “really”, “so” or “a bit” are present).`\n",
        "The advantage of this approach is that sentences containing negated positive words (e.g. “not happy”, “not good”) will still receive a negative sentence sentiment (thanks to the heuristics to flip the sentiment of the word following a negation).\n",
        "Vader is sensitive to punctuation, capitalization, degree modifiers, Preceding Tri-gram\n",
        "```\n",
        "The compound score is computed by summing the valence scores of each word in the lexicon, adjusted according to the rules, and then normalized to be between -1 (most extreme negative) and +1 (most extreme positive). This is the most useful metric if you want a single unidimensional measure of sentiment for a given sentence. Calling it a 'normalized, weighted composite score' is accurate.\n",
        "*   Positive sentiment: compound score >= 0.05\n",
        "*   Neutral sentiment: (compound score > -0.05) and (compound score < 0.05)\n",
        "*   Negative sentiment: compound score <= -0.05\n",
        "\n",
        "The pos, neu, and neg scores are ratios for proportions of text that fall in each category. These are the most useful metrics if you want multidimensional measures of sentiment for a given sentence."
      ]
    },
    {
      "cell_type": "code",
      "metadata": {
        "id": "y3R4NnFFA4We",
        "colab_type": "code",
        "colab": {}
      },
      "source": [
        "from nltk.sentiment.vader import SentimentIntensityAnalyzer\n",
        "nltk.download('vader_lexicon')\n",
        "vader = SentimentIntensityAnalyzer()"
      ],
      "execution_count": 0,
      "outputs": []
    },
    {
      "cell_type": "code",
      "metadata": {
        "id": "d5yYk-yyDBYc",
        "colab_type": "code",
        "colab": {}
      },
      "source": [
        "vader.polarity_scores('this is great work')"
      ],
      "execution_count": 0,
      "outputs": []
    },
    {
      "cell_type": "code",
      "metadata": {
        "id": "j1HwWq89BFHA",
        "colab_type": "code",
        "colab": {}
      },
      "source": [
        "# Checking with non preprocessed data (hence including punctuation, upper case, etc.)\n",
        "vader_real = []\n",
        "sentiments_real = dataset.loc[dataset['class'] == 1][\"text\"].tolist()\n",
        "\n",
        "for i in range(len(sentiments_real)):\n",
        "  vader_real.append(vader.polarity_scores(str(sentiments_real[i])))\n",
        "\n",
        "comp = []\n",
        "pos = []\n",
        "neg = []\n",
        "neu = []\n",
        "for j in range(len(vader_real)):\n",
        "  comp.append(vader_real[j]['compound'])\n",
        "  pos.append(vader_real[j]['pos'])\n",
        "  neg.append(vader_real[j]['neg'])\n",
        "  neu.append(vader_real[j]['neu'])\n",
        "\n",
        "print(\"Compound: \",sum(comp)/len(comp), \"Positive: \",sum(pos)/len(pos),\"Neutral: \", sum(neu)/len(neu),\"Negative :\", sum(neg)/len(neg))"
      ],
      "execution_count": 0,
      "outputs": []
    },
    {
      "cell_type": "code",
      "metadata": {
        "id": "2BQOq1nHEwj1",
        "colab_type": "code",
        "colab": {}
      },
      "source": [
        "vader_fake = []\n",
        "sentiments_fake = dataset.loc[dataset['class'] == 0][\"text\"].tolist()\n",
        "\n",
        "for i in range(len(sentiments_fake)):\n",
        "  vader_fake.append(vader.polarity_scores(sentiments_fake[i]))\n",
        "\n",
        "comp_fake = []\n",
        "pos_fake = []\n",
        "neg_fake = []\n",
        "neu_fake = []\n",
        "for j in range(len(vader_fake)):\n",
        "  comp_fake.append(vader_fake[j]['compound'])\n",
        "  pos_fake.append(vader_fake[j]['pos'])\n",
        "  neg_fake.append(vader_fake[j]['neg'])\n",
        "  neu_fake.append(vader_fake[j]['neu'])\n",
        "\n",
        "print(\"Compound: \",sum(comp_fake)/len(comp_fake), \"Positive: \",sum(pos_fake)/len(pos_fake),\"Neutral: \", sum(neu_fake)/len(neu_fake),\"Negative :\", sum(neg_fake)/len(neg_fake))"
      ],
      "execution_count": 0,
      "outputs": []
    },
    {
      "cell_type": "code",
      "metadata": {
        "id": "_vsXZeFtRkuS",
        "colab_type": "code",
        "colab": {}
      },
      "source": [
        "# Checking the same with preprocessed data (without punctuation, upper case, etc.)\n",
        "vader_real = []\n",
        "sentiments_real_bert = bert_dataset.loc[bert_dataset['class'] == 1][\"text\"].tolist()\n",
        "\n",
        "for i in range(len(sentiments_real_bert)):\n",
        "  vader_real.append(vader.polarity_scores(str(sentiments_real_bert[i])))\n",
        "\n",
        "comp = []\n",
        "pos = []\n",
        "neg = []\n",
        "neu = []\n",
        "for j in range(len(vader_real)):\n",
        "  comp.append(vader_real[j]['compound'])\n",
        "  pos.append(vader_real[j]['pos'])\n",
        "  neg.append(vader_real[j]['neg'])\n",
        "  neu.append(vader_real[j]['neu'])\n",
        "\n",
        "print(\"Compound: \",sum(comp)/len(comp), \"Positive: \",sum(pos)/len(pos),\"Neutral: \", sum(neu)/len(neu),\"Negative :\", sum(neg)/len(neg))"
      ],
      "execution_count": 0,
      "outputs": []
    },
    {
      "cell_type": "code",
      "metadata": {
        "id": "pOuTIH-ZRywa",
        "colab_type": "code",
        "colab": {}
      },
      "source": [
        "vader_fake = []\n",
        "sentiments_fake_bert = bert_dataset.loc[bert_dataset['class'] == 0][\"text\"].tolist()\n",
        "\n",
        "for i in range(len(sentiments_fake_bert)):\n",
        "  vader_fake.append(vader.polarity_scores(sentiments_fake_bert[i]))\n",
        "\n",
        "comp_fake = []\n",
        "pos_fake = []\n",
        "neg_fake = []\n",
        "neu_fake = []\n",
        "for j in range(len(vader_fake)):\n",
        "  comp_fake.append(vader_fake[j]['compound'])\n",
        "  pos_fake.append(vader_fake[j]['pos'])\n",
        "  neg_fake.append(vader_fake[j]['neg'])\n",
        "  neu_fake.append(vader_fake[j]['neu'])\n",
        "\n",
        "print(\"Compound: \",sum(comp_fake)/len(comp_fake), \"Positive: \",sum(pos_fake)/len(pos_fake),\"Neutral: \", sum(neu_fake)/len(neu_fake),\"Negative :\", sum(neg_fake)/len(neg_fake))"
      ],
      "execution_count": 0,
      "outputs": []
    },
    {
      "cell_type": "code",
      "metadata": {
        "id": "FdyjDuZmWLWZ",
        "colab_type": "code",
        "colab": {}
      },
      "source": [
        "vader.polarity_scores(sentiments_real[10])"
      ],
      "execution_count": 0,
      "outputs": []
    },
    {
      "cell_type": "markdown",
      "metadata": {
        "id": "aNm6X0GtQCos",
        "colab_type": "text"
      },
      "source": [
        "With TextBlob\n",
        "\n",
        "\n",
        "```\n",
        "TextBlob uses a bag of words classifier, but the advantage is that it includes Subjectivity Analysis too (how factual/opinionated a piece of text is).\n",
        "However, it doesn’t contain the heuristics that NLTK has, and so it won’t intensify or negate a sentence’s sentiment.\n",
        "```\n",
        "\n",
        "\n",
        "*   polarity: negative vs. positive    (-1.0 => +1.0)\n",
        "*   subjectivity: objective vs. subjective (+0.0 => +1.0)\n",
        "\n"
      ]
    },
    {
      "cell_type": "code",
      "metadata": {
        "id": "QmkoOYgQQE0L",
        "colab_type": "code",
        "colab": {}
      },
      "source": [
        "from textblob import TextBlob\n",
        "TextBlob(sentiments_real[10]).sentiment\n"
      ],
      "execution_count": 0,
      "outputs": []
    },
    {
      "cell_type": "code",
      "metadata": {
        "id": "tENhs_3_W-_u",
        "colab_type": "code",
        "colab": {}
      },
      "source": [
        "# Checking with non preprocessed data (hence including punctuation, upper case, etc.)\n",
        "pol_real = []\n",
        "subj_real = []\n",
        "\n",
        "for i in range(len(sentiments_real)):\n",
        "  pol_real.append(TextBlob(sentiments_real[i]).sentiment.polarity)\n",
        "  subj_real.append(TextBlob(sentiments_real[i]).sentiment.subjectivity)\n",
        "\n",
        "print(\"Polarity: \",mean(pol_real), \"Subjectivity: \",mean(subj_real))"
      ],
      "execution_count": 0,
      "outputs": []
    },
    {
      "cell_type": "code",
      "metadata": {
        "id": "QSgrImWOZPR5",
        "colab_type": "code",
        "colab": {}
      },
      "source": [
        "pol_fake = []\n",
        "subj_fake = []\n",
        "\n",
        "for i in range(len(sentiments_fake)):\n",
        "  pol_fake.append(TextBlob(sentiments_fake[i]).sentiment.polarity)\n",
        "  subj_fake.append(TextBlob(sentiments_fake[i]).sentiment.subjectivity)\n",
        "\n",
        "print(\"Polarity: \",mean(pol_fake), \"Subjectivity: \",mean(subj_fake))"
      ],
      "execution_count": 0,
      "outputs": []
    },
    {
      "cell_type": "code",
      "metadata": {
        "id": "4xsZrOH2ZgbM",
        "colab_type": "code",
        "colab": {}
      },
      "source": [
        "# Checking the same with preprocessed data (without punctuation, upper case, etc.)\n",
        "pol_real = []\n",
        "subj_real = []\n",
        "\n",
        "for i in range(len(sentiments_real_bert)):\n",
        "  pol_real.append(TextBlob(sentiments_real_bert[i]).sentiment.polarity)\n",
        "  subj_real.append(TextBlob(sentiments_real_bert[i]).sentiment.subjectivity)\n",
        "\n",
        "print(\"Polarity: \",mean(pol_real), \"Subjectivity: \",mean(subj_real))"
      ],
      "execution_count": 0,
      "outputs": []
    },
    {
      "cell_type": "code",
      "metadata": {
        "id": "Hi4umXqnZgm-",
        "colab_type": "code",
        "colab": {}
      },
      "source": [
        "pol_fake = []\n",
        "subj_fake = []\n",
        "\n",
        "for i in range(len(sentiments_fake_bert)):\n",
        "  pol_fake.append(TextBlob(sentiments_fake_bert[i]).sentiment.polarity)\n",
        "  subj_fake.append(TextBlob(sentiments_fake_bert[i]).sentiment.subjectivity)\n",
        "\n",
        "print(\"Polarity: \",mean(pol_fake), \"Subjectivity: \",mean(subj_fake))"
      ],
      "execution_count": 0,
      "outputs": []
    },
    {
      "cell_type": "markdown",
      "metadata": {
        "id": "3oMwDd6RQFbp",
        "colab_type": "text"
      },
      "source": [
        "With Fair\n",
        "\n",
        "\n",
        "```\n",
        "Flair’s sentiment classifier is based on a character-level LSTM neural network which takes sequences of letters and words into account when predicting.\n",
        "The network has learnt to take negations into account, as well as intensifiers.\n",
        "It can also predict OOV words that it has never seen before (contrary to the 2 other libraries)\n",
        "```\n",
        "\n"
      ]
    },
    {
      "cell_type": "code",
      "metadata": {
        "id": "FpgN0I5EQGep",
        "colab_type": "code",
        "colab": {}
      },
      "source": [
        "#%%capture\n",
        "#!pip3 install flair\n",
        "#import flair"
      ],
      "execution_count": 0,
      "outputs": []
    },
    {
      "cell_type": "code",
      "metadata": {
        "id": "W09e39GxWWnz",
        "colab_type": "code",
        "colab": {}
      },
      "source": [
        "#flair_sentiment = flair.models.TextClassifier.load('en-sentiment')\n",
        "#s = flair.data.Sentence(sentiments_real[10])\n",
        "#flair_sentiment.predict(s)\n",
        "#total_sentiment = s.labels\n",
        "#total_sentiment"
      ],
      "execution_count": 0,
      "outputs": []
    },
    {
      "cell_type": "markdown",
      "metadata": {
        "id": "trJZh36gXaej",
        "colab_type": "text"
      },
      "source": [
        "## Naive Bayes Text feature importance"
      ]
    },
    {
      "cell_type": "code",
      "metadata": {
        "id": "vu4SNNLGXctR",
        "colab_type": "code",
        "colab": {}
      },
      "source": [
        "# getting the indexes of the top features by class\n",
        "fake_prob_sorted = naive_bayes_model.feature_log_prob_[0, :].argsort()\n",
        "real_prob_sorted = naive_bayes_model.feature_log_prob_[1, :].argsort()\n",
        "\n",
        "# getting the top feature names\n",
        "fake_top_features = np.take(vectorizer.get_feature_names(), fake_prob_sorted[:20])\n",
        "real_top_features = np.take(vectorizer.get_feature_names(), real_prob_sorted[:20])\n",
        "\n",
        "# creating dictionaries for each class with the feature name and log probability\n",
        "real_dict = {k:v for k, v in zip(\n",
        "                                real_top_features, \n",
        "                                np.take(naive_bayes_model.feature_log_prob_[0, :], real_prob_sorted[:20])\n",
        "                                )\n",
        "            }\n",
        "\n",
        "fake_dict = {k:v for k, v in zip(\n",
        "                                fake_top_features, \n",
        "                                np.take(naive_bayes_model.feature_log_prob_[1, :], fake_prob_sorted[:20])\n",
        "                                )\n",
        "            }"
      ],
      "execution_count": 0,
      "outputs": []
    },
    {
      "cell_type": "code",
      "metadata": {
        "id": "LDK6GX3vXsFS",
        "colab_type": "code",
        "colab": {}
      },
      "source": [
        "# creating a dataframe using the dictionaries of top terms per class\n",
        "top_terms = pd.DataFrame.from_dict(real_dict, orient='index')\n",
        "top_terms.reset_index(inplace=True)\n",
        "top_terms.rename(columns={'index': 'term', 0: 'log_prob'}, inplace=True)\n",
        "top_terms['label'] = 'Real'\n",
        "\n",
        "# add the top terms for the fake class\n",
        "for term, log_prob in fake_dict.items():\n",
        "    top_terms = top_terms.append({'term': term, 'log_prob': log_prob, 'label': 'Fake'}, ignore_index=True)\n",
        "\n",
        "# convert log probability to odds ratio\n",
        "top_terms['odds'] = top_terms.log_prob.apply(np.exp)\n",
        "\n",
        "# sort alphabetically\n",
        "top_terms = top_terms.sort_values('term', ascending=True)"
      ],
      "execution_count": 0,
      "outputs": []
    },
    {
      "cell_type": "code",
      "metadata": {
        "id": "tk3l6mxkXyOn",
        "colab_type": "code",
        "colab": {}
      },
      "source": [
        "# creating dictionary to be used for plotting\n",
        "y_map = {term: y for y, term in zip(range(0, top_terms.shape[0]), top_terms.term)}\n",
        "\n",
        "plot_map = {} \n",
        "for index, row in top_terms.iterrows():\n",
        "    term = row['term']\n",
        "    \n",
        "    plot_map[term] = {\n",
        "        'x': row['odds'],\n",
        "        'y': y_map[term],\n",
        "        'c': 'red' if row['label'] == 'Fake' else 'blue'\n",
        "    } \n"
      ],
      "execution_count": 0,
      "outputs": []
    },
    {
      "cell_type": "code",
      "metadata": {
        "id": "hxv9bd4JX0kp",
        "colab_type": "code",
        "colab": {
          "base_uri": "https://localhost:8080/",
          "height": 532
        },
        "outputId": "38c2d8fd-00e4-4cf0-c882-731da4655c9e"
      },
      "source": [
        "# plotting\n",
        "fig = plt.figure(figsize=(8, 8))\n",
        "_ = plt.scatter(\n",
        "            [value['x'] for key, value in plot_map.items()], \n",
        "            [value['y'] + 5 for key, value in plot_map.items()],\n",
        "            s=5,\n",
        "            color=[value['c'] for key, value in plot_map.items()],\n",
        ")\n",
        "\n",
        "_ = plt.scatter(\n",
        "    [0]* top_terms.shape[0],\n",
        "    [r + 5 for r in range(0, top_terms.shape[0])],\n",
        "    s=5,\n",
        "    color='grey'\n",
        ")\n",
        "\n",
        "plt.legend()\n",
        "plt.yticks(ticks=[r + 5 for r in range(0, top_terms.shape[0])], labels=y_map.keys())\n",
        "plt.xlabel('Odds Ratio')\n",
        "plt.ylabel('Term')\n",
        "plt.title('Top Important Terms by Class')\n",
        "plt.show()"
      ],
      "execution_count": 115,
      "outputs": [
        {
          "output_type": "stream",
          "text": [
            "No handles with labels found to put in legend.\n"
          ],
          "name": "stderr"
        },
        {
          "output_type": "display_data",
          "data": {
            "image/png": "[encoded data removed]",
            "text/plain": [
              "<Figure size 576x576 with 1 Axes>"
            ]
          },
          "metadata": {
            "tags": [],
            "needs_background": "light"
          }
        }
      ]
    },
    {
      "cell_type": "markdown",
      "metadata": {
        "id": "qHQycRpLZDKR",
        "colab_type": "text"
      },
      "source": [
        "## K-Means on W2V vectors"
      ]
    },
    {
      "cell_type": "code",
      "metadata": {
        "id": "2E0vK_djhiIn",
        "colab_type": "code",
        "colab": {}
      },
      "source": [
        "from sklearn.cluster import KMeans\n",
        "from sklearn.neighbors import KDTree\n",
        "from itertools import cycle\n",
        "\n",
        "def clustering_on_wordvecs(word_vectors, num_clusters):\n",
        "    # Initalize a k-means object and use it to extract centroids\n",
        "    kmeans_clustering = KMeans(n_clusters = num_clusters, init='k-means++')\n",
        "    idx = kmeans_clustering.fit_predict(word_vectors)\n",
        "    \n",
        "    return kmeans_clustering.cluster_centers_, idx\n",
        "\n",
        "def get_top_words(index2word, k, centers, wordvecs):\n",
        "    tree = KDTree(wordvecs);\n",
        "\n",
        "    #Closest points for each Cluster center is used to query the closest 20 points to it.\n",
        "    closest_points = [tree.query(np.reshape(x, (1, -1)), k=k) for x in centers]\n",
        "    closest_words_idxs = [x[1] for x in closest_points]\n",
        "\n",
        "    #Word Index is queried for each position in the above array, and added to a Dictionary.\n",
        "    closest_words = {}\n",
        "    for i in range(0, len(closest_words_idxs)):\n",
        "        closest_words['Cluster #' + str(i+1).zfill(2)] = [index2word[j] for j in closest_words_idxs[i][0]]\n",
        "\n",
        "    #A DataFrame is generated from the dictionary.\n",
        "    df = pd.DataFrame(closest_words)\n",
        "    df.index = df.index+1\n",
        "\n",
        "    return df\n",
        "\n",
        "pd.set_option('display.max_columns', None)\n",
        "pd.set_option('display.max_rows', None)\n",
        "\n",
        "\n",
        "def display_cloud(cluster_num, cmap, words_df):\n",
        "    wc = WordCloud(background_color=\"black\", max_words=2000, max_font_size=80, colormap=cmap)\n",
        "    wordcloud = wc.generate(' '.join([word for word in words_df['Cluster #' + str(cluster_num).zfill(2)]]))\n",
        "\n",
        "    plt.imshow(wordcloud, interpolation='bilinear')\n",
        "    plt.axis(\"off\")\n",
        "    plt.savefig('cluster_' + str(cluster_num), bbox_inches='tight')\n",
        "\n",
        "\n",
        "cmaps = cycle([\n",
        "            'flag', 'prism', 'ocean', 'gist_earth', 'terrain', 'gist_stern',\n",
        "            'gnuplot', 'gnuplot2', 'CMRmap', 'cubehelix', 'brg', 'hsv',\n",
        "            'gist_rainbow', 'rainbow', 'jet', 'nipy_spectral', 'gist_ncar'])\n",
        "\n",
        "NUM_CLUSTERS = 20\n",
        "EMBEDDING_DIM = 100"
      ],
      "execution_count": 0,
      "outputs": []
    },
    {
      "cell_type": "code",
      "metadata": {
        "id": "UJk_dITKlbNJ",
        "colab_type": "code",
        "colab": {}
      },
      "source": [
        "w2v_model_real = gensim.models.Word2Vec(sentences=X_real, size=EMBEDDING_DIM, window=5, min_count=1)\n",
        "w2v_model_fake = gensim.models.Word2Vec(sentences=X_fake, size=EMBEDDING_DIM, window=5, min_count=1)"
      ],
      "execution_count": 0,
      "outputs": []
    },
    {
      "cell_type": "markdown",
      "metadata": {
        "id": "DV3-ZOAhheeR",
        "colab_type": "text"
      },
      "source": [
        "Starting with Fake news"
      ]
    },
    {
      "cell_type": "code",
      "metadata": {
        "id": "tf9exdYeZDvb",
        "colab_type": "code",
        "colab": {}
      },
      "source": [
        "centers_fake, clusters_fake = clustering_on_wordvecs(w2v_model_fake.wv.syn0, NUM_CLUSTERS)\n",
        "centroid_map_fake = dict(zip(w2v_model_fake.wv.index2word, clusters_fake))"
      ],
      "execution_count": 0,
      "outputs": []
    },
    {
      "cell_type": "code",
      "metadata": {
        "id": "EsVrapw8Zbwu",
        "colab_type": "code",
        "colab": {
          "base_uri": "https://localhost:8080/",
          "height": 696
        },
        "outputId": "a39e2547-dd17-4b47-93f6-a5881894e15a"
      },
      "source": [
        "#Getting words in each cluster that are closest to the cluster center\n",
        "top_words_fake = get_top_words(w2v_model_fake.wv.index2word, 20, centers_fake, w2v_model_fake.wv.syn0)\n",
        "top_words_fake"
      ],
      "execution_count": 160,
      "outputs": [
        {
          "output_type": "execute_result",
          "data": {
            "text/html": [
              "<div>\n",
              "<style scoped>\n",
              "    .dataframe tbody tr th:only-of-type {\n",
              "        vertical-align: middle;\n",
              "    }\n",
              "\n",
              "    .dataframe tbody tr th {\n",
              "        vertical-align: top;\n",
              "    }\n",
              "\n",
              "    .dataframe thead th {\n",
              "        text-align: right;\n",
              "    }\n",
              "</style>\n",
              "<table border=\"1\" class=\"dataframe\">\n",
              "  <thead>\n",
              "    <tr style=\"text-align: right;\">\n",
              "      <th></th>\n",
              "      <th>Cluster #01</th>\n",
              "      <th>Cluster #02</th>\n",
              "      <th>Cluster #03</th>\n",
              "      <th>Cluster #04</th>\n",
              "      <th>Cluster #05</th>\n",
              "      <th>Cluster #06</th>\n",
              "      <th>Cluster #07</th>\n",
              "      <th>Cluster #08</th>\n",
              "      <th>Cluster #09</th>\n",
              "      <th>Cluster #10</th>\n",
              "      <th>Cluster #11</th>\n",
              "      <th>Cluster #12</th>\n",
              "      <th>Cluster #13</th>\n",
              "      <th>Cluster #14</th>\n",
              "      <th>Cluster #15</th>\n",
              "      <th>Cluster #16</th>\n",
              "      <th>Cluster #17</th>\n",
              "      <th>Cluster #18</th>\n",
              "      <th>Cluster #19</th>\n",
              "      <th>Cluster #20</th>\n",
              "    </tr>\n",
              "  </thead>\n",
              "  <tbody>\n",
              "    <tr>\n",
              "      <th>1</th>\n",
              "      <td>invest</td>\n",
              "      <td>jaime</td>\n",
              "      <td>screams</td>\n",
              "      <td>battery</td>\n",
              "      <td>duvalier</td>\n",
              "      <td>condescending</td>\n",
              "      <td>suburb</td>\n",
              "      <td>utilize</td>\n",
              "      <td>intolerance</td>\n",
              "      <td>78</td>\n",
              "      <td>departure</td>\n",
              "      <td>diane</td>\n",
              "      <td>kurdish</td>\n",
              "      <td>inquiry</td>\n",
              "      <td>16</td>\n",
              "      <td>gizmodo</td>\n",
              "      <td>enact</td>\n",
              "      <td>frankly</td>\n",
              "      <td>incumbent</td>\n",
              "      <td>gamesnclass</td>\n",
              "    </tr>\n",
              "    <tr>\n",
              "      <th>2</th>\n",
              "      <td>investments</td>\n",
              "      <td>laurel</td>\n",
              "      <td>rope</td>\n",
              "      <td>kidnapping</td>\n",
              "      <td>stacylstiles</td>\n",
              "      <td>moronic</td>\n",
              "      <td>tampa</td>\n",
              "      <td>undertaking</td>\n",
              "      <td>fascism</td>\n",
              "      <td>900</td>\n",
              "      <td>subsequent</td>\n",
              "      <td>dennis</td>\n",
              "      <td>invaded</td>\n",
              "      <td>confidential</td>\n",
              "      <td>23</td>\n",
              "      <td>propornot</td>\n",
              "      <td>meaningful</td>\n",
              "      <td>surely</td>\n",
              "      <td>challenger</td>\n",
              "      <td>u3iq6znik3</td>\n",
              "    </tr>\n",
              "    <tr>\n",
              "      <th>3</th>\n",
              "      <td>subsidies</td>\n",
              "      <td>jacqueline</td>\n",
              "      <td>knocked</td>\n",
              "      <td>suspicion</td>\n",
              "      <td>specialkmb1969</td>\n",
              "      <td>whiny</td>\n",
              "      <td>port</td>\n",
              "      <td>tightening</td>\n",
              "      <td>marginalized</td>\n",
              "      <td>62</td>\n",
              "      <td>handled</td>\n",
              "      <td>philip</td>\n",
              "      <td>philippines</td>\n",
              "      <td>memos</td>\n",
              "      <td>19</td>\n",
              "      <td>retraction</td>\n",
              "      <td>ensuring</td>\n",
              "      <td>figured</td>\n",
              "      <td>nominating</td>\n",
              "      <td>mylestanzer</td>\n",
              "    </tr>\n",
              "    <tr>\n",
              "      <th>4</th>\n",
              "      <td>savings</td>\n",
              "      <td>blvd</td>\n",
              "      <td>naked</td>\n",
              "      <td>aggravated</td>\n",
              "      <td>cirilo</td>\n",
              "      <td>obnoxious</td>\n",
              "      <td>heights</td>\n",
              "      <td>gses</td>\n",
              "      <td>intolerant</td>\n",
              "      <td>69</td>\n",
              "      <td>informing</td>\n",
              "      <td>jamie</td>\n",
              "      <td>kuwait</td>\n",
              "      <td>contacts</td>\n",
              "      <td>31</td>\n",
              "      <td>4chan</td>\n",
              "      <td>compromise</td>\n",
              "      <td>hurts</td>\n",
              "      <td>caucuses</td>\n",
              "      <td>amurphy</td>\n",
              "    </tr>\n",
              "    <tr>\n",
              "      <th>5</th>\n",
              "      <td>mortgages</td>\n",
              "      <td>teresa</td>\n",
              "      <td>glasses</td>\n",
              "      <td>arson</td>\n",
              "      <td>pik</td>\n",
              "      <td>nonsensical</td>\n",
              "      <td>southeast</td>\n",
              "      <td>insecurity</td>\n",
              "      <td>segregation</td>\n",
              "      <td>54</td>\n",
              "      <td>publicized</td>\n",
              "      <td>lamar</td>\n",
              "      <td>airstrikes</td>\n",
              "      <td>compromised</td>\n",
              "      <td>22</td>\n",
              "      <td>circulating</td>\n",
              "      <td>constitutionally</td>\n",
              "      <td>whenever</td>\n",
              "      <td>odds</td>\n",
              "      <td>loboexplosivo</td>\n",
              "    </tr>\n",
              "    <tr>\n",
              "      <th>6</th>\n",
              "      <td>bailout</td>\n",
              "      <td>erica</td>\n",
              "      <td>bike</td>\n",
              "      <td>spree</td>\n",
              "      <td>suharto</td>\n",
              "      <td>bullsh</td>\n",
              "      <td>nashville</td>\n",
              "      <td>sustainability</td>\n",
              "      <td>prejudice</td>\n",
              "      <td>64</td>\n",
              "      <td>clarified</td>\n",
              "      <td>amy</td>\n",
              "      <td>libyan</td>\n",
              "      <td>unmasking</td>\n",
              "      <td>26</td>\n",
              "      <td>gawker</td>\n",
              "      <td>mandated</td>\n",
              "      <td>sane</td>\n",
              "      <td>picks</td>\n",
              "      <td>lacanlune</td>\n",
              "    </tr>\n",
              "    <tr>\n",
              "      <th>7</th>\n",
              "      <td>insurers</td>\n",
              "      <td>brittany</td>\n",
              "      <td>dressing</td>\n",
              "      <td>felonies</td>\n",
              "      <td>tteegar</td>\n",
              "      <td>smug</td>\n",
              "      <td>oakland</td>\n",
              "      <td>extraction</td>\n",
              "      <td>advocating</td>\n",
              "      <td>98</td>\n",
              "      <td>alerted</td>\n",
              "      <td>brad</td>\n",
              "      <td>damascus</td>\n",
              "      <td>briefed</td>\n",
              "      <td>27</td>\n",
              "      <td>sourced</td>\n",
              "      <td>abide</td>\n",
              "      <td>ought</td>\n",
              "      <td>superdelegates</td>\n",
              "      <td>women4trump</td>\n",
              "    </tr>\n",
              "    <tr>\n",
              "      <th>8</th>\n",
              "      <td>costly</td>\n",
              "      <td>caitlin</td>\n",
              "      <td>smiling</td>\n",
              "      <td>hospitalized</td>\n",
              "      <td>trujillo</td>\n",
              "      <td>tantrums</td>\n",
              "      <td>columbus</td>\n",
              "      <td>employing</td>\n",
              "      <td>irrational</td>\n",
              "      <td>68</td>\n",
              "      <td>reacted</td>\n",
              "      <td>reed</td>\n",
              "      <td>mosul</td>\n",
              "      <td>wiretap</td>\n",
              "      <td>21</td>\n",
              "      <td>retracted</td>\n",
              "      <td>arbitrary</td>\n",
              "      <td>genuinely</td>\n",
              "      <td>filibuster</td>\n",
              "      <td>hof53staxg</td>\n",
              "    </tr>\n",
              "    <tr>\n",
              "      <th>9</th>\n",
              "      <td>losses</td>\n",
              "      <td>ren</td>\n",
              "      <td>spit</td>\n",
              "      <td>manslaughter</td>\n",
              "      <td>larsonbrenda</td>\n",
              "      <td>trashing</td>\n",
              "      <td>southwest</td>\n",
              "      <td>detrimental</td>\n",
              "      <td>socially</td>\n",
              "      <td>85</td>\n",
              "      <td>unhappy</td>\n",
              "      <td>phil</td>\n",
              "      <td>militias</td>\n",
              "      <td>subpoena</td>\n",
              "      <td>2017the</td>\n",
              "      <td>conflicting</td>\n",
              "      <td>deem</td>\n",
              "      <td>unfortunately</td>\n",
              "      <td>contenders</td>\n",
              "      <td>dz675z5dpn</td>\n",
              "    </tr>\n",
              "    <tr>\n",
              "      <th>10</th>\n",
              "      <td>deficits</td>\n",
              "      <td>nina</td>\n",
              "      <td>dancing</td>\n",
              "      <td>stabbing</td>\n",
              "      <td>rightwingangel</td>\n",
              "      <td>childish</td>\n",
              "      <td>milwaukee</td>\n",
              "      <td>imposition</td>\n",
              "      <td>inherently</td>\n",
              "      <td>61</td>\n",
              "      <td>contradicting</td>\n",
              "      <td>allison</td>\n",
              "      <td>crimea</td>\n",
              "      <td>unclassified</td>\n",
              "      <td>2016the</td>\n",
              "      <td>detailing</td>\n",
              "      <td>waiver</td>\n",
              "      <td>behave</td>\n",
              "      <td>victories</td>\n",
              "      <td>cerianjenkins</td>\n",
              "    </tr>\n",
              "    <tr>\n",
              "      <th>11</th>\n",
              "      <td>industries</td>\n",
              "      <td>kenny</td>\n",
              "      <td>shoved</td>\n",
              "      <td>shooters</td>\n",
              "      <td>p2</td>\n",
              "      <td>lashing</td>\n",
              "      <td>brooklyn</td>\n",
              "      <td>destabilization</td>\n",
              "      <td>oppression</td>\n",
              "      <td>56</td>\n",
              "      <td>communicated</td>\n",
              "      <td>bryan</td>\n",
              "      <td>egypt</td>\n",
              "      <td>bribery</td>\n",
              "      <td>29</td>\n",
              "      <td>editors</td>\n",
              "      <td>adopt</td>\n",
              "      <td>obviously</td>\n",
              "      <td>ossoff</td>\n",
              "      <td>elizacollins1</td>\n",
              "    </tr>\n",
              "    <tr>\n",
              "      <th>12</th>\n",
              "      <td>revenues</td>\n",
              "      <td>lauraloomer</td>\n",
              "      <td>toddler</td>\n",
              "      <td>shootout</td>\n",
              "      <td>videla</td>\n",
              "      <td>incoherent</td>\n",
              "      <td>suburban</td>\n",
              "      <td>accelerating</td>\n",
              "      <td>cleansing</td>\n",
              "      <td>41</td>\n",
              "      <td>cancelling</td>\n",
              "      <td>gordon</td>\n",
              "      <td>invade</td>\n",
              "      <td>disclosures</td>\n",
              "      <td>14</td>\n",
              "      <td>expos</td>\n",
              "      <td>maintaining</td>\n",
              "      <td>incapable</td>\n",
              "      <td>successor</td>\n",
              "      <td>bells8911</td>\n",
              "    </tr>\n",
              "    <tr>\n",
              "      <th>13</th>\n",
              "      <td>lenders</td>\n",
              "      <td>boca</td>\n",
              "      <td>yells</td>\n",
              "      <td>rampage</td>\n",
              "      <td>monterey</td>\n",
              "      <td>backfired</td>\n",
              "      <td>hills</td>\n",
              "      <td>limitless</td>\n",
              "      <td>oppressed</td>\n",
              "      <td>whopping</td>\n",
              "      <td>prompted</td>\n",
              "      <td>kenneth</td>\n",
              "      <td>peninsula</td>\n",
              "      <td>arrangement</td>\n",
              "      <td>2016and</td>\n",
              "      <td>excerpt</td>\n",
              "      <td>restoring</td>\n",
              "      <td>plenty</td>\n",
              "      <td>contender</td>\n",
              "      <td>friedmann</td>\n",
              "    </tr>\n",
              "    <tr>\n",
              "      <th>14</th>\n",
              "      <td>inflation</td>\n",
              "      <td>vc_column</td>\n",
              "      <td>banging</td>\n",
              "      <td>accidental</td>\n",
              "      <td>442</td>\n",
              "      <td>gotcha</td>\n",
              "      <td>denver</td>\n",
              "      <td>consequently</td>\n",
              "      <td>homophobia</td>\n",
              "      <td>96</td>\n",
              "      <td>hinted</td>\n",
              "      <td>russell</td>\n",
              "      <td>persian</td>\n",
              "      <td>recuse</td>\n",
              "      <td>18</td>\n",
              "      <td>slate</td>\n",
              "      <td>implementing</td>\n",
              "      <td>assume</td>\n",
              "      <td>reelection</td>\n",
              "      <td>ternivalentine</td>\n",
              "    </tr>\n",
              "    <tr>\n",
              "      <th>15</th>\n",
              "      <td>salaries</td>\n",
              "      <td>meehan</td>\n",
              "      <td>balloons</td>\n",
              "      <td>murders</td>\n",
              "      <td>amtrump4pres</td>\n",
              "      <td>spews</td>\n",
              "      <td>northwest</td>\n",
              "      <td>emphasizing</td>\n",
              "      <td>genuine</td>\n",
              "      <td>92</td>\n",
              "      <td>unfolded</td>\n",
              "      <td>gregory</td>\n",
              "      <td>taiwan</td>\n",
              "      <td>subpoenas</td>\n",
              "      <td>seanhannity</td>\n",
              "      <td>vox</td>\n",
              "      <td>enable</td>\n",
              "      <td>rational</td>\n",
              "      <td>rino</td>\n",
              "      <td>x3irt4kdzt</td>\n",
              "    </tr>\n",
              "    <tr>\n",
              "      <th>16</th>\n",
              "      <td>burden</td>\n",
              "      <td>raheem</td>\n",
              "      <td>sleeping</td>\n",
              "      <td>minor</td>\n",
              "      <td>freedomchild3</td>\n",
              "      <td>bandwagon</td>\n",
              "      <td>springs</td>\n",
              "      <td>derivatives</td>\n",
              "      <td>emboldened</td>\n",
              "      <td>67</td>\n",
              "      <td>railed</td>\n",
              "      <td>michele</td>\n",
              "      <td>deployment</td>\n",
              "      <td>whistleblower</td>\n",
              "      <td>aug</td>\n",
              "      <td>factual</td>\n",
              "      <td>ethical</td>\n",
              "      <td>sadly</td>\n",
              "      <td>2020</td>\n",
              "      <td>is3zmyzpq4</td>\n",
              "    </tr>\n",
              "    <tr>\n",
              "      <th>17</th>\n",
              "      <td>premium</td>\n",
              "      <td>2016even</td>\n",
              "      <td>langdon</td>\n",
              "      <td>botched</td>\n",
              "      <td>devoshearing</td>\n",
              "      <td>narcissist</td>\n",
              "      <td>parish</td>\n",
              "      <td>isps</td>\n",
              "      <td>notion</td>\n",
              "      <td>66</td>\n",
              "      <td>prompting</td>\n",
              "      <td>burr</td>\n",
              "      <td>belgium</td>\n",
              "      <td>correspondence</td>\n",
              "      <td>28</td>\n",
              "      <td>trove</td>\n",
              "      <td>resolved</td>\n",
              "      <td>realizes</td>\n",
              "      <td>defeated</td>\n",
              "      <td>marisaaleocadi</td>\n",
              "    </tr>\n",
              "    <tr>\n",
              "      <th>18</th>\n",
              "      <td>budgets</td>\n",
              "      <td>saad</td>\n",
              "      <td>wheelchair</td>\n",
              "      <td>handguns</td>\n",
              "      <td>contraption</td>\n",
              "      <td>indefensible</td>\n",
              "      <td>dearborn</td>\n",
              "      <td>permitting</td>\n",
              "      <td>attitudes</td>\n",
              "      <td>55</td>\n",
              "      <td>specify</td>\n",
              "      <td>carol</td>\n",
              "      <td>daesh</td>\n",
              "      <td>probing</td>\n",
              "      <td>2017and</td>\n",
              "      <td>salacious</td>\n",
              "      <td>implementation</td>\n",
              "      <td>fragile</td>\n",
              "      <td>nevertrump</td>\n",
              "      <td>contrarianp</td>\n",
              "    </tr>\n",
              "    <tr>\n",
              "      <th>19</th>\n",
              "      <td>investing</td>\n",
              "      <td>charles_gaba</td>\n",
              "      <td>candy</td>\n",
              "      <td>bullets</td>\n",
              "      <td>bdgrabinski</td>\n",
              "      <td>idiotic</td>\n",
              "      <td>stormed</td>\n",
              "      <td>inhibit</td>\n",
              "      <td>xenophobia</td>\n",
              "      <td>86</td>\n",
              "      <td>recollection</td>\n",
              "      <td>duncan</td>\n",
              "      <td>troop</td>\n",
              "      <td>contents</td>\n",
              "      <td>2017this</td>\n",
              "      <td>unconfirmed</td>\n",
              "      <td>designation</td>\n",
              "      <td>convinced</td>\n",
              "      <td>campaigning</td>\n",
              "      <td>vt2cbuqw0z</td>\n",
              "    </tr>\n",
              "    <tr>\n",
              "      <th>20</th>\n",
              "      <td>substantially</td>\n",
              "      <td>anomaly1</td>\n",
              "      <td>awkwardly</td>\n",
              "      <td>tortured</td>\n",
              "      <td>larsenjohn</td>\n",
              "      <td>immature</td>\n",
              "      <td>cathedral</td>\n",
              "      <td>inequalities</td>\n",
              "      <td>ideals</td>\n",
              "      <td>84</td>\n",
              "      <td>afterward</td>\n",
              "      <td>erin</td>\n",
              "      <td>norway</td>\n",
              "      <td>immunity</td>\n",
              "      <td>oct</td>\n",
              "      <td>editing</td>\n",
              "      <td>sufficient</td>\n",
              "      <td>besides</td>\n",
              "      <td>delegate</td>\n",
              "      <td>mr_strontium</td>\n",
              "    </tr>\n",
              "  </tbody>\n",
              "</table>\n",
              "</div>"
            ],
            "text/plain": [
              "      Cluster #01   Cluster #02 Cluster #03   Cluster #04     Cluster #05  \\\n",
              "1          invest         jaime     screams       battery        duvalier   \n",
              "2     investments        laurel        rope    kidnapping    stacylstiles   \n",
              "3       subsidies    jacqueline     knocked     suspicion  specialkmb1969   \n",
              "4         savings          blvd       naked    aggravated          cirilo   \n",
              "5       mortgages        teresa     glasses         arson             pik   \n",
              "6         bailout         erica        bike         spree         suharto   \n",
              "7        insurers      brittany    dressing      felonies         tteegar   \n",
              "8          costly       caitlin     smiling  hospitalized        trujillo   \n",
              "9          losses           ren        spit  manslaughter    larsonbrenda   \n",
              "10       deficits          nina     dancing      stabbing  rightwingangel   \n",
              "11     industries         kenny      shoved      shooters              p2   \n",
              "12       revenues   lauraloomer     toddler      shootout          videla   \n",
              "13        lenders          boca       yells       rampage        monterey   \n",
              "14      inflation     vc_column     banging    accidental             442   \n",
              "15       salaries        meehan    balloons       murders    amtrump4pres   \n",
              "16         burden        raheem    sleeping         minor   freedomchild3   \n",
              "17        premium      2016even     langdon       botched    devoshearing   \n",
              "18        budgets          saad  wheelchair      handguns     contraption   \n",
              "19      investing  charles_gaba       candy       bullets     bdgrabinski   \n",
              "20  substantially      anomaly1   awkwardly      tortured      larsenjohn   \n",
              "\n",
              "      Cluster #06 Cluster #07      Cluster #08   Cluster #09 Cluster #10  \\\n",
              "1   condescending      suburb          utilize   intolerance          78   \n",
              "2         moronic       tampa      undertaking       fascism         900   \n",
              "3           whiny        port       tightening  marginalized          62   \n",
              "4       obnoxious     heights             gses    intolerant          69   \n",
              "5     nonsensical   southeast       insecurity   segregation          54   \n",
              "6          bullsh   nashville   sustainability     prejudice          64   \n",
              "7            smug     oakland       extraction    advocating          98   \n",
              "8        tantrums    columbus        employing    irrational          68   \n",
              "9        trashing   southwest      detrimental      socially          85   \n",
              "10       childish   milwaukee       imposition    inherently          61   \n",
              "11        lashing    brooklyn  destabilization    oppression          56   \n",
              "12     incoherent    suburban     accelerating     cleansing          41   \n",
              "13      backfired       hills        limitless     oppressed    whopping   \n",
              "14         gotcha      denver     consequently    homophobia          96   \n",
              "15          spews   northwest      emphasizing       genuine          92   \n",
              "16      bandwagon     springs      derivatives    emboldened          67   \n",
              "17     narcissist      parish             isps        notion          66   \n",
              "18   indefensible    dearborn       permitting     attitudes          55   \n",
              "19        idiotic     stormed          inhibit    xenophobia          86   \n",
              "20       immature   cathedral     inequalities        ideals          84   \n",
              "\n",
              "      Cluster #11 Cluster #12  Cluster #13     Cluster #14  Cluster #15  \\\n",
              "1       departure       diane      kurdish         inquiry           16   \n",
              "2      subsequent      dennis      invaded    confidential           23   \n",
              "3         handled      philip  philippines           memos           19   \n",
              "4       informing       jamie       kuwait        contacts           31   \n",
              "5      publicized       lamar   airstrikes     compromised           22   \n",
              "6       clarified         amy       libyan       unmasking           26   \n",
              "7         alerted        brad     damascus         briefed           27   \n",
              "8         reacted        reed        mosul         wiretap           21   \n",
              "9         unhappy        phil     militias        subpoena      2017the   \n",
              "10  contradicting     allison       crimea    unclassified      2016the   \n",
              "11   communicated       bryan        egypt         bribery           29   \n",
              "12     cancelling      gordon       invade     disclosures           14   \n",
              "13       prompted     kenneth    peninsula     arrangement      2016and   \n",
              "14         hinted     russell      persian          recuse           18   \n",
              "15       unfolded     gregory       taiwan       subpoenas  seanhannity   \n",
              "16         railed     michele   deployment   whistleblower          aug   \n",
              "17      prompting        burr      belgium  correspondence           28   \n",
              "18        specify       carol        daesh         probing      2017and   \n",
              "19   recollection      duncan        troop        contents     2017this   \n",
              "20      afterward        erin       norway        immunity          oct   \n",
              "\n",
              "    Cluster #16       Cluster #17    Cluster #18     Cluster #19  \\\n",
              "1       gizmodo             enact        frankly       incumbent   \n",
              "2     propornot        meaningful         surely      challenger   \n",
              "3    retraction          ensuring        figured      nominating   \n",
              "4         4chan        compromise          hurts        caucuses   \n",
              "5   circulating  constitutionally       whenever            odds   \n",
              "6        gawker          mandated           sane           picks   \n",
              "7       sourced             abide          ought  superdelegates   \n",
              "8     retracted         arbitrary      genuinely      filibuster   \n",
              "9   conflicting              deem  unfortunately      contenders   \n",
              "10    detailing            waiver         behave       victories   \n",
              "11      editors             adopt      obviously          ossoff   \n",
              "12        expos       maintaining      incapable       successor   \n",
              "13      excerpt         restoring         plenty       contender   \n",
              "14        slate      implementing         assume      reelection   \n",
              "15          vox            enable       rational            rino   \n",
              "16      factual           ethical          sadly            2020   \n",
              "17        trove          resolved       realizes        defeated   \n",
              "18    salacious    implementation        fragile      nevertrump   \n",
              "19  unconfirmed       designation      convinced     campaigning   \n",
              "20      editing        sufficient        besides        delegate   \n",
              "\n",
              "       Cluster #20  \n",
              "1      gamesnclass  \n",
              "2       u3iq6znik3  \n",
              "3      mylestanzer  \n",
              "4          amurphy  \n",
              "5    loboexplosivo  \n",
              "6        lacanlune  \n",
              "7      women4trump  \n",
              "8       hof53staxg  \n",
              "9       dz675z5dpn  \n",
              "10   cerianjenkins  \n",
              "11   elizacollins1  \n",
              "12       bells8911  \n",
              "13       friedmann  \n",
              "14  ternivalentine  \n",
              "15      x3irt4kdzt  \n",
              "16      is3zmyzpq4  \n",
              "17  marisaaleocadi  \n",
              "18     contrarianp  \n",
              "19      vt2cbuqw0z  \n",
              "20    mr_strontium  "
            ]
          },
          "metadata": {
            "tags": []
          },
          "execution_count": 160
        }
      ]
    },
    {
      "cell_type": "code",
      "metadata": {
        "id": "CdAdK4mxaCcl",
        "colab_type": "code",
        "colab": {
          "base_uri": "https://localhost:8080/",
          "height": 198
        },
        "outputId": "70e306d5-3b22-4abf-b791-cafbb8db1f44"
      },
      "source": [
        "#Displaying clusters via WordClouds\n",
        "for fi in range(NUM_CLUSTERS):\n",
        "    col = next(cmaps)\n",
        "    display_cloud(fi+1, col, top_words_fake)\n",
        "\n",
        "plt.show()"
      ],
      "execution_count": 171,
      "outputs": [
        {
          "output_type": "display_data",
          "data": {
            "image/png": "[encoded data removed]",
            "text/plain": [
              "<Figure size 432x288 with 1 Axes>"
            ]
          },
          "metadata": {
            "tags": [],
            "needs_background": "light"
          }
        }
      ]
    },
    {
      "cell_type": "markdown",
      "metadata": {
        "id": "14Vmosbui7rw",
        "colab_type": "text"
      },
      "source": [
        "And with Real news"
      ]
    },
    {
      "cell_type": "code",
      "metadata": {
        "id": "FW_EwVXWi85g",
        "colab_type": "code",
        "colab": {}
      },
      "source": [
        "centers_real, clusters_real = clustering_on_wordvecs(w2v_model_real.wv.syn0, NUM_CLUSTERS)\n",
        "centroid_map_real = dict(zip(w2v_model_real.wv.index2word, clusters_real))"
      ],
      "execution_count": 0,
      "outputs": []
    },
    {
      "cell_type": "code",
      "metadata": {
        "id": "CkB9i3GBgX3J",
        "colab_type": "code",
        "colab": {
          "base_uri": "https://localhost:8080/",
          "height": 696
        },
        "outputId": "8ba0a722-7895-4eb5-df5e-ff82d967436c"
      },
      "source": [
        "#Getting words in each cluster that are closest to the cluster center\n",
        "top_words_real = get_top_words(w2v_model_real.wv.index2word, 20, centers_real, w2v_model_real.wv.syn0)\n",
        "top_words_real"
      ],
      "execution_count": 167,
      "outputs": [
        {
          "output_type": "execute_result",
          "data": {
            "text/html": [
              "<div>\n",
              "<style scoped>\n",
              "    .dataframe tbody tr th:only-of-type {\n",
              "        vertical-align: middle;\n",
              "    }\n",
              "\n",
              "    .dataframe tbody tr th {\n",
              "        vertical-align: top;\n",
              "    }\n",
              "\n",
              "    .dataframe thead th {\n",
              "        text-align: right;\n",
              "    }\n",
              "</style>\n",
              "<table border=\"1\" class=\"dataframe\">\n",
              "  <thead>\n",
              "    <tr style=\"text-align: right;\">\n",
              "      <th></th>\n",
              "      <th>Cluster #01</th>\n",
              "      <th>Cluster #02</th>\n",
              "      <th>Cluster #03</th>\n",
              "      <th>Cluster #04</th>\n",
              "      <th>Cluster #05</th>\n",
              "      <th>Cluster #06</th>\n",
              "      <th>Cluster #07</th>\n",
              "      <th>Cluster #08</th>\n",
              "      <th>Cluster #09</th>\n",
              "      <th>Cluster #10</th>\n",
              "      <th>Cluster #11</th>\n",
              "      <th>Cluster #12</th>\n",
              "      <th>Cluster #13</th>\n",
              "      <th>Cluster #14</th>\n",
              "      <th>Cluster #15</th>\n",
              "      <th>Cluster #16</th>\n",
              "      <th>Cluster #17</th>\n",
              "      <th>Cluster #18</th>\n",
              "      <th>Cluster #19</th>\n",
              "      <th>Cluster #20</th>\n",
              "    </tr>\n",
              "  </thead>\n",
              "  <tbody>\n",
              "    <tr>\n",
              "      <th>1</th>\n",
              "      <td>louderback</td>\n",
              "      <td>72</td>\n",
              "      <td>varadkar</td>\n",
              "      <td>arranged</td>\n",
              "      <td>spring</td>\n",
              "      <td>operators</td>\n",
              "      <td>renewal</td>\n",
              "      <td>confidential</td>\n",
              "      <td>borrowing</td>\n",
              "      <td>smashed</td>\n",
              "      <td>worrying</td>\n",
              "      <td>necessarily</td>\n",
              "      <td>seaweed</td>\n",
              "      <td>felony</td>\n",
              "      <td>wholesale</td>\n",
              "      <td>sam</td>\n",
              "      <td>engagement</td>\n",
              "      <td>minors</td>\n",
              "      <td>jihadists</td>\n",
              "      <td>primaries</td>\n",
              "    </tr>\n",
              "    <tr>\n",
              "      <th>2</th>\n",
              "      <td>usvi</td>\n",
              "      <td>85</td>\n",
              "      <td>dublin</td>\n",
              "      <td>reception</td>\n",
              "      <td>stages</td>\n",
              "      <td>storage</td>\n",
              "      <td>stricter</td>\n",
              "      <td>inquiries</td>\n",
              "      <td>lowering</td>\n",
              "      <td>wooden</td>\n",
              "      <td>mistrust</td>\n",
              "      <td>realize</td>\n",
              "      <td>purple</td>\n",
              "      <td>misdemeanor</td>\n",
              "      <td>genetic</td>\n",
              "      <td>barbara</td>\n",
              "      <td>mutually</td>\n",
              "      <td>syrians</td>\n",
              "      <td>albu</td>\n",
              "      <td>runoff</td>\n",
              "    </tr>\n",
              "    <tr>\n",
              "      <th>3</th>\n",
              "      <td>1925</td>\n",
              "      <td>54</td>\n",
              "      <td>warsaw</td>\n",
              "      <td>afterwards</td>\n",
              "      <td>postponed</td>\n",
              "      <td>pipelines</td>\n",
              "      <td>implementing</td>\n",
              "      <td>files</td>\n",
              "      <td>premium</td>\n",
              "      <td>entrance</td>\n",
              "      <td>lingering</td>\n",
              "      <td>helpful</td>\n",
              "      <td>crooned</td>\n",
              "      <td>defendants</td>\n",
              "      <td>importers</td>\n",
              "      <td>reed</td>\n",
              "      <td>multilateral</td>\n",
              "      <td>buddhists</td>\n",
              "      <td>kamal</td>\n",
              "      <td>socialists</td>\n",
              "    </tr>\n",
              "    <tr>\n",
              "      <th>4</th>\n",
              "      <td>lorella</td>\n",
              "      <td>88</td>\n",
              "      <td>bulgaria</td>\n",
              "      <td>stern</td>\n",
              "      <td>abruptly</td>\n",
              "      <td>suppliers</td>\n",
              "      <td>enact</td>\n",
              "      <td>examining</td>\n",
              "      <td>offset</td>\n",
              "      <td>hills</td>\n",
              "      <td>fueling</td>\n",
              "      <td>realistic</td>\n",
              "      <td>az</td>\n",
              "      <td>convictions</td>\n",
              "      <td>rebates</td>\n",
              "      <td>allen</td>\n",
              "      <td>denuclearization</td>\n",
              "      <td>rohingyas</td>\n",
              "      <td>besieged</td>\n",
              "      <td>gubernatorial</td>\n",
              "    </tr>\n",
              "    <tr>\n",
              "      <th>5</th>\n",
              "      <td>fenby</td>\n",
              "      <td>77</td>\n",
              "      <td>morawiecki</td>\n",
              "      <td>ryabkov</td>\n",
              "      <td>missed</td>\n",
              "      <td>manufacturer</td>\n",
              "      <td>safeguards</td>\n",
              "      <td>contents</td>\n",
              "      <td>reductions</td>\n",
              "      <td>stones</td>\n",
              "      <td>eroded</td>\n",
              "      <td>fairly</td>\n",
              "      <td>pbf</td>\n",
              "      <td>prosecuted</td>\n",
              "      <td>dependency</td>\n",
              "      <td>nick</td>\n",
              "      <td>establishing</td>\n",
              "      <td>mothers</td>\n",
              "      <td>pmf</td>\n",
              "      <td>nationally</td>\n",
              "    </tr>\n",
              "    <tr>\n",
              "      <th>6</th>\n",
              "      <td>palos</td>\n",
              "      <td>78</td>\n",
              "      <td>slovakia</td>\n",
              "      <td>cavusoglu</td>\n",
              "      <td>starts</td>\n",
              "      <td>nissan</td>\n",
              "      <td>amend</td>\n",
              "      <td>leak</td>\n",
              "      <td>fee</td>\n",
              "      <td>blew</td>\n",
              "      <td>emboldened</td>\n",
              "      <td>sort</td>\n",
              "      <td>reddit</td>\n",
              "      <td>magistrate</td>\n",
              "      <td>diverted</td>\n",
              "      <td>henry</td>\n",
              "      <td>minsk</td>\n",
              "      <td>iraqis</td>\n",
              "      <td>retake</td>\n",
              "      <td>battleground</td>\n",
              "    </tr>\n",
              "    <tr>\n",
              "      <th>7</th>\n",
              "      <td>1128</td>\n",
              "      <td>87</td>\n",
              "      <td>croatia</td>\n",
              "      <td>leyen</td>\n",
              "      <td>autumn</td>\n",
              "      <td>electronics</td>\n",
              "      <td>delaying</td>\n",
              "      <td>publish</td>\n",
              "      <td>earnings</td>\n",
              "      <td>strewn</td>\n",
              "      <td>hardened</td>\n",
              "      <td>frankly</td>\n",
              "      <td>mun</td>\n",
              "      <td>alleging</td>\n",
              "      <td>poultry</td>\n",
              "      <td>todd</td>\n",
              "      <td>deepen</td>\n",
              "      <td>stateless</td>\n",
              "      <td>battling</td>\n",
              "      <td>caucuses</td>\n",
              "    </tr>\n",
              "    <tr>\n",
              "      <th>8</th>\n",
              "      <td>cruz4president</td>\n",
              "      <td>36</td>\n",
              "      <td>hungary</td>\n",
              "      <td>sounded</td>\n",
              "      <td>sometime</td>\n",
              "      <td>aluminum</td>\n",
              "      <td>waive</td>\n",
              "      <td>memos</td>\n",
              "      <td>deductions</td>\n",
              "      <td>capsized</td>\n",
              "      <td>exacerbated</td>\n",
              "      <td>honest</td>\n",
              "      <td>oils</td>\n",
              "      <td>sedition</td>\n",
              "      <td>subsidize</td>\n",
              "      <td>walsh</td>\n",
              "      <td>provocations</td>\n",
              "      <td>villagers</td>\n",
              "      <td>enclave</td>\n",
              "      <td>thin</td>\n",
              "    </tr>\n",
              "    <tr>\n",
              "      <th>9</th>\n",
              "      <td>2wk56rd</td>\n",
              "      <td>71</td>\n",
              "      <td>ttip</td>\n",
              "      <td>wished</td>\n",
              "      <td>nears</td>\n",
              "      <td>sugar</td>\n",
              "      <td>restrictive</td>\n",
              "      <td>requesting</td>\n",
              "      <td>incentives</td>\n",
              "      <td>tree</td>\n",
              "      <td>embracing</td>\n",
              "      <td>convinced</td>\n",
              "      <td>burgundy</td>\n",
              "      <td>offences</td>\n",
              "      <td>blended</td>\n",
              "      <td>dennis</td>\n",
              "      <td>isolate</td>\n",
              "      <td>stranded</td>\n",
              "      <td>siege</td>\n",
              "      <td>electorate</td>\n",
              "    </tr>\n",
              "    <tr>\n",
              "      <th>10</th>\n",
              "      <td>automaking</td>\n",
              "      <td>34</td>\n",
              "      <td>polish</td>\n",
              "      <td>zarif</td>\n",
              "      <td>expired</td>\n",
              "      <td>rail</td>\n",
              "      <td>approving</td>\n",
              "      <td>examine</td>\n",
              "      <td>eliminating</td>\n",
              "      <td>bottles</td>\n",
              "      <td>uniting</td>\n",
              "      <td>plenty</td>\n",
              "      <td>diallo</td>\n",
              "      <td>defendant</td>\n",
              "      <td>ample</td>\n",
              "      <td>anderson</td>\n",
              "      <td>posture</td>\n",
              "      <td>unaccompanied</td>\n",
              "      <td>recapture</td>\n",
              "      <td>favored</td>\n",
              "    </tr>\n",
              "    <tr>\n",
              "      <th>11</th>\n",
              "      <td>891</td>\n",
              "      <td>130</td>\n",
              "      <td>coveney</td>\n",
              "      <td>taped</td>\n",
              "      <td>inaugurated</td>\n",
              "      <td>refineries</td>\n",
              "      <td>amended</td>\n",
              "      <td>copies</td>\n",
              "      <td>generate</td>\n",
              "      <td>fireworks</td>\n",
              "      <td>dismayed</td>\n",
              "      <td>unfortunately</td>\n",
              "      <td>satya</td>\n",
              "      <td>warrants</td>\n",
              "      <td>sizes</td>\n",
              "      <td>ann</td>\n",
              "      <td>imbalance</td>\n",
              "      <td>hindus</td>\n",
              "      <td>occupation</td>\n",
              "      <td>gop</td>\n",
              "    </tr>\n",
              "    <tr>\n",
              "      <th>12</th>\n",
              "      <td>edgars</td>\n",
              "      <td>56</td>\n",
              "      <td>cyprus</td>\n",
              "      <td>quoting</td>\n",
              "      <td>2021</td>\n",
              "      <td>chemicals</td>\n",
              "      <td>removing</td>\n",
              "      <td>reveal</td>\n",
              "      <td>expenses</td>\n",
              "      <td>makeshift</td>\n",
              "      <td>beset</td>\n",
              "      <td>seem</td>\n",
              "      <td>nea</td>\n",
              "      <td>alleges</td>\n",
              "      <td>reduces</td>\n",
              "      <td>keith</td>\n",
              "      <td>breakthrough</td>\n",
              "      <td>mosques</td>\n",
              "      <td>swathes</td>\n",
              "      <td>pd</td>\n",
              "    </tr>\n",
              "    <tr>\n",
              "      <th>13</th>\n",
              "      <td>biopharmaceutical</td>\n",
              "      <td>33</td>\n",
              "      <td>estonia</td>\n",
              "      <td>invite</td>\n",
              "      <td>scrapped</td>\n",
              "      <td>refinery</td>\n",
              "      <td>stringent</td>\n",
              "      <td>uncovered</td>\n",
              "      <td>budgets</td>\n",
              "      <td>seaside</td>\n",
              "      <td>flagging</td>\n",
              "      <td>accomplish</td>\n",
              "      <td>nadella</td>\n",
              "      <td>suspicion</td>\n",
              "      <td>sellers</td>\n",
              "      <td>rep</td>\n",
              "      <td>objectives</td>\n",
              "      <td>smugglers</td>\n",
              "      <td>haftar</td>\n",
              "      <td>ossoff</td>\n",
              "    </tr>\n",
              "    <tr>\n",
              "      <th>14</th>\n",
              "      <td>fraizer</td>\n",
              "      <td>46</td>\n",
              "      <td>hammond</td>\n",
              "      <td>freeland</td>\n",
              "      <td>nearing</td>\n",
              "      <td>terminals</td>\n",
              "      <td>mandated</td>\n",
              "      <td>improperly</td>\n",
              "      <td>incomes</td>\n",
              "      <td>slum</td>\n",
              "      <td>stoking</td>\n",
              "      <td>ought</td>\n",
              "      <td>sauce</td>\n",
              "      <td>subversion</td>\n",
              "      <td>debit</td>\n",
              "      <td>heavey</td>\n",
              "      <td>strengthening</td>\n",
              "      <td>plight</td>\n",
              "      <td>shelling</td>\n",
              "      <td>recounts</td>\n",
              "    </tr>\n",
              "    <tr>\n",
              "      <th>15</th>\n",
              "      <td>cornmeal</td>\n",
              "      <td>95</td>\n",
              "      <td>montenegro</td>\n",
              "      <td>aso</td>\n",
              "      <td>extended</td>\n",
              "      <td>lng</td>\n",
              "      <td>loosen</td>\n",
              "      <td>disclosing</td>\n",
              "      <td>hikes</td>\n",
              "      <td>lights</td>\n",
              "      <td>highlight</td>\n",
              "      <td>careful</td>\n",
              "      <td>erwin</td>\n",
              "      <td>prosecutions</td>\n",
              "      <td>affordability</td>\n",
              "      <td>baker</td>\n",
              "      <td>assertive</td>\n",
              "      <td>displacement</td>\n",
              "      <td>recaptured</td>\n",
              "      <td>scored</td>\n",
              "    </tr>\n",
              "    <tr>\n",
              "      <th>16</th>\n",
              "      <td>turbid</td>\n",
              "      <td>82</td>\n",
              "      <td>scotland</td>\n",
              "      <td>cordial</td>\n",
              "      <td>begins</td>\n",
              "      <td>shipments</td>\n",
              "      <td>rewrite</td>\n",
              "      <td>transcripts</td>\n",
              "      <td>taxpayers</td>\n",
              "      <td>sniper</td>\n",
              "      <td>stir</td>\n",
              "      <td>wish</td>\n",
              "      <td>antidote</td>\n",
              "      <td>embezzlement</td>\n",
              "      <td>reclassified</td>\n",
              "      <td>jon</td>\n",
              "      <td>beneficial</td>\n",
              "      <td>deporting</td>\n",
              "      <td>golan</td>\n",
              "      <td>erc</td>\n",
              "    </tr>\n",
              "    <tr>\n",
              "      <th>17</th>\n",
              "      <td>simplice</td>\n",
              "      <td>41</td>\n",
              "      <td>greece</td>\n",
              "      <td>conveyed</td>\n",
              "      <td>finishing</td>\n",
              "      <td>retailers</td>\n",
              "      <td>mandates</td>\n",
              "      <td>trove</td>\n",
              "      <td>pays</td>\n",
              "      <td>escorted</td>\n",
              "      <td>align</td>\n",
              "      <td>practical</td>\n",
              "      <td>3m</td>\n",
              "      <td>connection</td>\n",
              "      <td>additionally</td>\n",
              "      <td>congresswoman</td>\n",
              "      <td>developments</td>\n",
              "      <td>shelters</td>\n",
              "      <td>yemeni</td>\n",
              "      <td>fianna</td>\n",
              "    </tr>\n",
              "    <tr>\n",
              "      <th>18</th>\n",
              "      <td>932</td>\n",
              "      <td>81</td>\n",
              "      <td>belgium</td>\n",
              "      <td>joked</td>\n",
              "      <td>thanksgiving</td>\n",
              "      <td>engine</td>\n",
              "      <td>defer</td>\n",
              "      <td>queries</td>\n",
              "      <td>subsidized</td>\n",
              "      <td>rampage</td>\n",
              "      <td>intensifying</td>\n",
              "      <td>gotten</td>\n",
              "      <td>701</td>\n",
              "      <td>prosecute</td>\n",
              "      <td>substitute</td>\n",
              "      <td>tony</td>\n",
              "      <td>transatlantic</td>\n",
              "      <td>exodus</td>\n",
              "      <td>daesh</td>\n",
              "      <td>bitterly</td>\n",
              "    </tr>\n",
              "    <tr>\n",
              "      <th>19</th>\n",
              "      <td>comayagua</td>\n",
              "      <td>180</td>\n",
              "      <td>devolved</td>\n",
              "      <td>mevlut</td>\n",
              "      <td>marathon</td>\n",
              "      <td>retail</td>\n",
              "      <td>opt</td>\n",
              "      <td>examined</td>\n",
              "      <td>cheaper</td>\n",
              "      <td>beneath</td>\n",
              "      <td>fuelling</td>\n",
              "      <td>hopefully</td>\n",
              "      <td>shack</td>\n",
              "      <td>perjury</td>\n",
              "      <td>scarce</td>\n",
              "      <td>mcmorris</td>\n",
              "      <td>alliances</td>\n",
              "      <td>foreigners</td>\n",
              "      <td>jihad</td>\n",
              "      <td>undecided</td>\n",
              "    </tr>\n",
              "    <tr>\n",
              "      <th>20</th>\n",
              "      <td>gazda</td>\n",
              "      <td>55</td>\n",
              "      <td>luxembourg</td>\n",
              "      <td>breakfast</td>\n",
              "      <td>wrap</td>\n",
              "      <td>supplier</td>\n",
              "      <td>clauses</td>\n",
              "      <td>unaware</td>\n",
              "      <td>generous</td>\n",
              "      <td>sleeping</td>\n",
              "      <td>riven</td>\n",
              "      <td>definitely</td>\n",
              "      <td>vineyards</td>\n",
              "      <td>kidnapping</td>\n",
              "      <td>addictive</td>\n",
              "      <td>phil</td>\n",
              "      <td>readiness</td>\n",
              "      <td>resettled</td>\n",
              "      <td>brigade</td>\n",
              "      <td>independents</td>\n",
              "    </tr>\n",
              "  </tbody>\n",
              "</table>\n",
              "</div>"
            ],
            "text/plain": [
              "          Cluster #01 Cluster #02 Cluster #03 Cluster #04   Cluster #05  \\\n",
              "1          louderback          72    varadkar    arranged        spring   \n",
              "2                usvi          85      dublin   reception        stages   \n",
              "3                1925          54      warsaw  afterwards     postponed   \n",
              "4             lorella          88    bulgaria       stern      abruptly   \n",
              "5               fenby          77  morawiecki     ryabkov        missed   \n",
              "6               palos          78    slovakia   cavusoglu        starts   \n",
              "7                1128          87     croatia       leyen        autumn   \n",
              "8      cruz4president          36     hungary     sounded      sometime   \n",
              "9             2wk56rd          71        ttip      wished         nears   \n",
              "10         automaking          34      polish       zarif       expired   \n",
              "11                891         130     coveney       taped   inaugurated   \n",
              "12             edgars          56      cyprus     quoting          2021   \n",
              "13  biopharmaceutical          33     estonia      invite      scrapped   \n",
              "14            fraizer          46     hammond    freeland       nearing   \n",
              "15           cornmeal          95  montenegro         aso      extended   \n",
              "16             turbid          82    scotland     cordial        begins   \n",
              "17           simplice          41      greece    conveyed     finishing   \n",
              "18                932          81     belgium       joked  thanksgiving   \n",
              "19          comayagua         180    devolved      mevlut      marathon   \n",
              "20              gazda          55  luxembourg   breakfast          wrap   \n",
              "\n",
              "     Cluster #06   Cluster #07   Cluster #08  Cluster #09 Cluster #10  \\\n",
              "1      operators       renewal  confidential    borrowing     smashed   \n",
              "2        storage      stricter     inquiries     lowering      wooden   \n",
              "3      pipelines  implementing         files      premium    entrance   \n",
              "4      suppliers         enact     examining       offset       hills   \n",
              "5   manufacturer    safeguards      contents   reductions      stones   \n",
              "6         nissan         amend          leak          fee        blew   \n",
              "7    electronics      delaying       publish     earnings      strewn   \n",
              "8       aluminum         waive         memos   deductions    capsized   \n",
              "9          sugar   restrictive    requesting   incentives        tree   \n",
              "10          rail     approving       examine  eliminating     bottles   \n",
              "11    refineries       amended        copies     generate   fireworks   \n",
              "12     chemicals      removing        reveal     expenses   makeshift   \n",
              "13      refinery     stringent     uncovered      budgets     seaside   \n",
              "14     terminals      mandated    improperly      incomes        slum   \n",
              "15           lng        loosen    disclosing        hikes      lights   \n",
              "16     shipments       rewrite   transcripts    taxpayers      sniper   \n",
              "17     retailers      mandates         trove         pays    escorted   \n",
              "18        engine         defer       queries   subsidized     rampage   \n",
              "19        retail           opt      examined      cheaper     beneath   \n",
              "20      supplier       clauses       unaware     generous    sleeping   \n",
              "\n",
              "     Cluster #11    Cluster #12 Cluster #13   Cluster #14    Cluster #15  \\\n",
              "1       worrying    necessarily     seaweed        felony      wholesale   \n",
              "2       mistrust        realize      purple   misdemeanor        genetic   \n",
              "3      lingering        helpful     crooned    defendants      importers   \n",
              "4        fueling      realistic          az   convictions        rebates   \n",
              "5         eroded         fairly         pbf    prosecuted     dependency   \n",
              "6     emboldened           sort      reddit    magistrate       diverted   \n",
              "7       hardened        frankly         mun      alleging        poultry   \n",
              "8    exacerbated         honest        oils      sedition      subsidize   \n",
              "9      embracing      convinced    burgundy      offences        blended   \n",
              "10       uniting         plenty      diallo     defendant          ample   \n",
              "11      dismayed  unfortunately       satya      warrants          sizes   \n",
              "12         beset           seem         nea       alleges        reduces   \n",
              "13      flagging     accomplish     nadella     suspicion        sellers   \n",
              "14       stoking          ought       sauce    subversion          debit   \n",
              "15     highlight        careful       erwin  prosecutions  affordability   \n",
              "16          stir           wish    antidote  embezzlement   reclassified   \n",
              "17         align      practical          3m    connection   additionally   \n",
              "18  intensifying         gotten         701     prosecute     substitute   \n",
              "19      fuelling      hopefully       shack       perjury         scarce   \n",
              "20         riven     definitely   vineyards    kidnapping      addictive   \n",
              "\n",
              "      Cluster #16       Cluster #17    Cluster #18 Cluster #19    Cluster #20  \n",
              "1             sam        engagement         minors   jihadists      primaries  \n",
              "2         barbara          mutually        syrians        albu         runoff  \n",
              "3            reed      multilateral      buddhists       kamal     socialists  \n",
              "4           allen  denuclearization      rohingyas    besieged  gubernatorial  \n",
              "5            nick      establishing        mothers         pmf     nationally  \n",
              "6           henry             minsk         iraqis      retake   battleground  \n",
              "7            todd            deepen      stateless    battling       caucuses  \n",
              "8           walsh      provocations      villagers     enclave           thin  \n",
              "9          dennis           isolate       stranded       siege     electorate  \n",
              "10       anderson           posture  unaccompanied   recapture        favored  \n",
              "11            ann         imbalance         hindus  occupation            gop  \n",
              "12          keith      breakthrough        mosques     swathes             pd  \n",
              "13            rep        objectives      smugglers      haftar         ossoff  \n",
              "14         heavey     strengthening         plight    shelling       recounts  \n",
              "15          baker         assertive   displacement  recaptured         scored  \n",
              "16            jon        beneficial      deporting       golan            erc  \n",
              "17  congresswoman      developments       shelters      yemeni         fianna  \n",
              "18           tony     transatlantic         exodus       daesh       bitterly  \n",
              "19       mcmorris         alliances     foreigners       jihad      undecided  \n",
              "20           phil         readiness      resettled     brigade   independents  "
            ]
          },
          "metadata": {
            "tags": []
          },
          "execution_count": 167
        }
      ]
    },
    {
      "cell_type": "code",
      "metadata": {
        "id": "yZdJb7ysjTDo",
        "colab_type": "code",
        "colab": {
          "base_uri": "https://localhost:8080/",
          "height": 586
        },
        "outputId": "2c74ec09-825f-4965-b573-f2ca1f158064"
      },
      "source": [
        "#Displaying clusters via WordClouds\n",
        "for ri in range(NUM_CLUSTERS):\n",
        "    col = next(cmaps);\n",
        "    display_cloud(ri+1, col, top_words_real)\n",
        "\n",
        "plt.show()"
      ],
      "execution_count": 172,
      "outputs": [
        {
          "output_type": "error",
          "ename": "ValueError",
          "evalue": "ignored",
          "traceback": [
            "\u001b[0;31m---------------------------------------------------------------------------\u001b[0m",
            "\u001b[0;31mValueError\u001b[0m                                Traceback (most recent call last)",
            "\u001b[0;32m<ipython-input-172-234a45ad0459>\u001b[0m in \u001b[0;36m<module>\u001b[0;34m()\u001b[0m\n\u001b[1;32m      2\u001b[0m \u001b[0;32mfor\u001b[0m \u001b[0mri\u001b[0m \u001b[0;32min\u001b[0m \u001b[0mrange\u001b[0m\u001b[0;34m(\u001b[0m\u001b[0mNUM_CLUSTERS\u001b[0m\u001b[0;34m)\u001b[0m\u001b[0;34m:\u001b[0m\u001b[0;34m\u001b[0m\u001b[0;34m\u001b[0m\u001b[0m\n\u001b[1;32m      3\u001b[0m     \u001b[0mcol\u001b[0m \u001b[0;34m=\u001b[0m \u001b[0mnext\u001b[0m\u001b[0;34m(\u001b[0m\u001b[0mcmaps\u001b[0m\u001b[0;34m)\u001b[0m\u001b[0;34m;\u001b[0m\u001b[0;34m\u001b[0m\u001b[0;34m\u001b[0m\u001b[0m\n\u001b[0;32m----> 4\u001b[0;31m     \u001b[0mdisplay_cloud\u001b[0m\u001b[0;34m(\u001b[0m\u001b[0mri\u001b[0m\u001b[0;34m+\u001b[0m\u001b[0;36m1\u001b[0m\u001b[0;34m,\u001b[0m \u001b[0mcol\u001b[0m\u001b[0;34m,\u001b[0m \u001b[0mtop_words_real\u001b[0m\u001b[0;34m)\u001b[0m\u001b[0;34m\u001b[0m\u001b[0;34m\u001b[0m\u001b[0m\n\u001b[0m\u001b[1;32m      5\u001b[0m \u001b[0;34m\u001b[0m\u001b[0m\n\u001b[1;32m      6\u001b[0m \u001b[0mplt\u001b[0m\u001b[0;34m.\u001b[0m\u001b[0mshow\u001b[0m\u001b[0;34m(\u001b[0m\u001b[0;34m)\u001b[0m\u001b[0;34m\u001b[0m\u001b[0;34m\u001b[0m\u001b[0m\n",
            "\u001b[0;32m<ipython-input-170-14d2b9271560>\u001b[0m in \u001b[0;36mdisplay_cloud\u001b[0;34m(cluster_num, cmap, words_df)\u001b[0m\n\u001b[1;32m     34\u001b[0m \u001b[0;32mdef\u001b[0m \u001b[0mdisplay_cloud\u001b[0m\u001b[0;34m(\u001b[0m\u001b[0mcluster_num\u001b[0m\u001b[0;34m,\u001b[0m \u001b[0mcmap\u001b[0m\u001b[0;34m,\u001b[0m \u001b[0mwords_df\u001b[0m\u001b[0;34m)\u001b[0m\u001b[0;34m:\u001b[0m\u001b[0;34m\u001b[0m\u001b[0;34m\u001b[0m\u001b[0m\n\u001b[1;32m     35\u001b[0m     \u001b[0mwc\u001b[0m \u001b[0;34m=\u001b[0m \u001b[0mWordCloud\u001b[0m\u001b[0;34m(\u001b[0m\u001b[0mbackground_color\u001b[0m\u001b[0;34m=\u001b[0m\u001b[0;34m\"black\"\u001b[0m\u001b[0;34m,\u001b[0m \u001b[0mmax_words\u001b[0m\u001b[0;34m=\u001b[0m\u001b[0;36m2000\u001b[0m\u001b[0;34m,\u001b[0m \u001b[0mmax_font_size\u001b[0m\u001b[0;34m=\u001b[0m\u001b[0;36m80\u001b[0m\u001b[0;34m,\u001b[0m \u001b[0mcolormap\u001b[0m\u001b[0;34m=\u001b[0m\u001b[0mcmap\u001b[0m\u001b[0;34m)\u001b[0m\u001b[0;34m\u001b[0m\u001b[0;34m\u001b[0m\u001b[0m\n\u001b[0;32m---> 36\u001b[0;31m     \u001b[0mwordcloud\u001b[0m \u001b[0;34m=\u001b[0m \u001b[0mwc\u001b[0m\u001b[0;34m.\u001b[0m\u001b[0mgenerate\u001b[0m\u001b[0;34m(\u001b[0m\u001b[0;34m' '\u001b[0m\u001b[0;34m.\u001b[0m\u001b[0mjoin\u001b[0m\u001b[0;34m(\u001b[0m\u001b[0;34m[\u001b[0m\u001b[0mword\u001b[0m \u001b[0;32mfor\u001b[0m \u001b[0mword\u001b[0m \u001b[0;32min\u001b[0m \u001b[0mwords_df\u001b[0m\u001b[0;34m[\u001b[0m\u001b[0;34m'Cluster #'\u001b[0m \u001b[0;34m+\u001b[0m \u001b[0mstr\u001b[0m\u001b[0;34m(\u001b[0m\u001b[0mcluster_num\u001b[0m\u001b[0;34m)\u001b[0m\u001b[0;34m.\u001b[0m\u001b[0mzfill\u001b[0m\u001b[0;34m(\u001b[0m\u001b[0;36m2\u001b[0m\u001b[0;34m)\u001b[0m\u001b[0;34m]\u001b[0m\u001b[0;34m]\u001b[0m\u001b[0;34m)\u001b[0m\u001b[0;34m)\u001b[0m\u001b[0;34m\u001b[0m\u001b[0;34m\u001b[0m\u001b[0m\n\u001b[0m\u001b[1;32m     37\u001b[0m \u001b[0;34m\u001b[0m\u001b[0m\n\u001b[1;32m     38\u001b[0m     \u001b[0mplt\u001b[0m\u001b[0;34m.\u001b[0m\u001b[0mimshow\u001b[0m\u001b[0;34m(\u001b[0m\u001b[0mwordcloud\u001b[0m\u001b[0;34m,\u001b[0m \u001b[0minterpolation\u001b[0m\u001b[0;34m=\u001b[0m\u001b[0;34m'bilinear'\u001b[0m\u001b[0;34m)\u001b[0m\u001b[0;34m\u001b[0m\u001b[0;34m\u001b[0m\u001b[0m\n",
            "\u001b[0;32m/usr/local/lib/python3.6/dist-packages/wordcloud/wordcloud.py\u001b[0m in \u001b[0;36mgenerate\u001b[0;34m(self, text)\u001b[0m\n\u001b[1;32m    603\u001b[0m         \u001b[0mself\u001b[0m\u001b[0;34m\u001b[0m\u001b[0;34m\u001b[0m\u001b[0m\n\u001b[1;32m    604\u001b[0m         \"\"\"\n\u001b[0;32m--> 605\u001b[0;31m         \u001b[0;32mreturn\u001b[0m \u001b[0mself\u001b[0m\u001b[0;34m.\u001b[0m\u001b[0mgenerate_from_text\u001b[0m\u001b[0;34m(\u001b[0m\u001b[0mtext\u001b[0m\u001b[0;34m)\u001b[0m\u001b[0;34m\u001b[0m\u001b[0;34m\u001b[0m\u001b[0m\n\u001b[0m\u001b[1;32m    606\u001b[0m \u001b[0;34m\u001b[0m\u001b[0m\n\u001b[1;32m    607\u001b[0m     \u001b[0;32mdef\u001b[0m \u001b[0m_check_generated\u001b[0m\u001b[0;34m(\u001b[0m\u001b[0mself\u001b[0m\u001b[0;34m)\u001b[0m\u001b[0;34m:\u001b[0m\u001b[0;34m\u001b[0m\u001b[0;34m\u001b[0m\u001b[0m\n",
            "\u001b[0;32m/usr/local/lib/python3.6/dist-packages/wordcloud/wordcloud.py\u001b[0m in \u001b[0;36mgenerate_from_text\u001b[0;34m(self, text)\u001b[0m\n\u001b[1;32m    585\u001b[0m         \"\"\"\n\u001b[1;32m    586\u001b[0m         \u001b[0mwords\u001b[0m \u001b[0;34m=\u001b[0m \u001b[0mself\u001b[0m\u001b[0;34m.\u001b[0m\u001b[0mprocess_text\u001b[0m\u001b[0;34m(\u001b[0m\u001b[0mtext\u001b[0m\u001b[0;34m)\u001b[0m\u001b[0;34m\u001b[0m\u001b[0;34m\u001b[0m\u001b[0m\n\u001b[0;32m--> 587\u001b[0;31m         \u001b[0mself\u001b[0m\u001b[0;34m.\u001b[0m\u001b[0mgenerate_from_frequencies\u001b[0m\u001b[0;34m(\u001b[0m\u001b[0mwords\u001b[0m\u001b[0;34m)\u001b[0m\u001b[0;34m\u001b[0m\u001b[0;34m\u001b[0m\u001b[0m\n\u001b[0m\u001b[1;32m    588\u001b[0m         \u001b[0;32mreturn\u001b[0m \u001b[0mself\u001b[0m\u001b[0;34m\u001b[0m\u001b[0;34m\u001b[0m\u001b[0m\n\u001b[1;32m    589\u001b[0m \u001b[0;34m\u001b[0m\u001b[0m\n",
            "\u001b[0;32m/usr/local/lib/python3.6/dist-packages/wordcloud/wordcloud.py\u001b[0m in \u001b[0;36mgenerate_from_frequencies\u001b[0;34m(self, frequencies, max_font_size)\u001b[0m\n\u001b[1;32m    381\u001b[0m         \u001b[0;32mif\u001b[0m \u001b[0mlen\u001b[0m\u001b[0;34m(\u001b[0m\u001b[0mfrequencies\u001b[0m\u001b[0;34m)\u001b[0m \u001b[0;34m<=\u001b[0m \u001b[0;36m0\u001b[0m\u001b[0;34m:\u001b[0m\u001b[0;34m\u001b[0m\u001b[0;34m\u001b[0m\u001b[0m\n\u001b[1;32m    382\u001b[0m             raise ValueError(\"We need at least 1 word to plot a word cloud, \"\n\u001b[0;32m--> 383\u001b[0;31m                              \"got %d.\" % len(frequencies))\n\u001b[0m\u001b[1;32m    384\u001b[0m         \u001b[0mfrequencies\u001b[0m \u001b[0;34m=\u001b[0m \u001b[0mfrequencies\u001b[0m\u001b[0;34m[\u001b[0m\u001b[0;34m:\u001b[0m\u001b[0mself\u001b[0m\u001b[0;34m.\u001b[0m\u001b[0mmax_words\u001b[0m\u001b[0;34m]\u001b[0m\u001b[0;34m\u001b[0m\u001b[0;34m\u001b[0m\u001b[0m\n\u001b[1;32m    385\u001b[0m \u001b[0;34m\u001b[0m\u001b[0m\n",
            "\u001b[0;31mValueError\u001b[0m: We need at least 1 word to plot a word cloud, got 0."
          ]
        },
        {
          "output_type": "display_data",
          "data": {
            "image/png": "[encoded data removed]",
            "text/plain": [
              "<Figure size 432x288 with 1 Axes>"
            ]
          },
          "metadata": {
            "tags": [],
            "needs_background": "light"
          }
        }
      ]
    },
    {
      "cell_type": "code",
      "metadata": {
        "id": "jEml4CU1jsqK",
        "colab_type": "code",
        "colab": {}
      },
      "source": [
        ""
      ],
      "execution_count": 0,
      "outputs": []
    }
  ]
}