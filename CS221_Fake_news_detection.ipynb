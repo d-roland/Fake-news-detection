{
  "nbformat": 4,
  "nbformat_minor": 0,
  "metadata": {
    "colab": {
      "name": "CS221_Fake_news_detection.ipynb",
      "provenance": [],
      "collapsed_sections": [],
      "toc_visible": true,
      "include_colab_link": true
    },
    "kernelspec": {
      "name": "python3",
      "display_name": "Python 3"
    },
    "accelerator": "GPU"
  },
  "cells": [
    {
      "cell_type": "markdown",
      "metadata": {
        "id": "view-in-github",
        "colab_type": "text"
      },
      "source": [
        "<a href=\"https://colab.research.google.com/github/d-roland/Fake-news-detection/blob/master/CS221_Fake_news_detection.ipynb\" target=\"_parent\"><img src=\"https://colab.research.google.com/assets/colab-badge.svg\" alt=\"Open In Colab\"/></a>"
      ]
    },
    {
      "cell_type": "code",
      "metadata": {
        "id": "Mf5CXgzbgWXl",
        "colab_type": "code",
        "outputId": "c4ab22c1-6ad8-442c-f1b7-667e03fd515e",
        "colab": {
          "base_uri": "https://localhost:8080/",
          "height": 35
        }
      },
      "source": [
        "%tensorflow_version 1.x"
      ],
      "execution_count": 2,
      "outputs": [
        {
          "output_type": "stream",
          "text": [
            "TensorFlow 1.x selected.\n"
          ],
          "name": "stdout"
        }
      ]
    },
    {
      "cell_type": "code",
      "metadata": {
        "id": "c_ENWtf9TBnA",
        "colab_type": "code",
        "outputId": "6160644f-31d5-4da1-b787-264428b51d27",
        "colab": {
          "base_uri": "https://localhost:8080/",
          "height": 129
        }
      },
      "source": [
        "import warnings\n",
        "warnings.filterwarnings('ignore')\n",
        "import pandas as pd\n",
        "import matplotlib.pyplot as plt\n",
        "import numpy as np\n",
        "import seaborn as sns\n",
        "import re\n",
        "import csv\n",
        "from collections import Counter, defaultdict\n",
        "from wordcloud import WordCloud\n",
        "import nltk\n",
        "nltk.download(\"stopwords\")\n",
        "nltk.download('wordnet')\n",
        "nltk.download('punkt')\n",
        "from nltk.stem import WordNetLemmatizer\n",
        "import gensim\n",
        "import tensorflow as tf\n",
        "import tensorflow_hub as hub\n",
        "from tensorflow import keras\n",
        "from tensorflow.keras.preprocessing.text import Tokenizer\n",
        "from tensorflow.keras.preprocessing.sequence import pad_sequences\n",
        "from tensorflow.keras.models import Sequential\n",
        "from tensorflow.keras.layers import Dense, Embedding, LSTM, Conv1D, MaxPool1D\n",
        "from sklearn.model_selection import train_test_split\n",
        "from sklearn.metrics import classification_report, accuracy_score, confusion_matrix\n",
        "from sklearn import metrics\n",
        "from sklearn.cluster import KMeans, MiniBatchKMeans\n",
        "from datetime import datetime\n",
        "from statistics import mean\n",
        "import random"
      ],
      "execution_count": 3,
      "outputs": [
        {
          "output_type": "stream",
          "text": [
            "[nltk_data] Downloading package stopwords to /root/nltk_data...\n",
            "[nltk_data]   Package stopwords is already up-to-date!\n",
            "[nltk_data] Downloading package wordnet to /root/nltk_data...\n",
            "[nltk_data]   Package wordnet is already up-to-date!\n",
            "[nltk_data] Downloading package punkt to /root/nltk_data...\n",
            "[nltk_data]   Package punkt is already up-to-date!\n"
          ],
          "name": "stdout"
        }
      ]
    },
    {
      "cell_type": "code",
      "metadata": {
        "id": "vMTDJKlAQJOV",
        "colab_type": "code",
        "outputId": "feff42bc-49d0-4a19-dfcb-6679a83c58ff",
        "colab": {
          "base_uri": "https://localhost:8080/",
          "height": 35
        }
      },
      "source": [
        "from google.colab import auth\n",
        "from oauth2client.client import GoogleCredentials\n",
        "from google.colab import drive\n",
        "drive.mount('/content/drive')"
      ],
      "execution_count": 4,
      "outputs": [
        {
          "output_type": "stream",
          "text": [
            "Drive already mounted at /content/drive; to attempt to forcibly remount, call drive.mount(\"/content/drive\", force_remount=True).\n"
          ],
          "name": "stdout"
        }
      ]
    },
    {
      "cell_type": "markdown",
      "metadata": {
        "id": "NjaWZbnT1caV",
        "colab_type": "text"
      },
      "source": [
        "# **Gathering data**"
      ]
    },
    {
      "cell_type": "markdown",
      "metadata": {
        "id": "GHHOy9lxriat",
        "colab_type": "text"
      },
      "source": [
        "## Integrating BuzzFeed Real News"
      ]
    },
    {
      "cell_type": "code",
      "metadata": {
        "id": "NpT6U87aPqxq",
        "colab_type": "code",
        "outputId": "4c4ec4e2-fdbf-4c99-82ec-950ece5be8a7",
        "colab": {
          "base_uri": "https://localhost:8080/",
          "height": 35
        }
      },
      "source": [
        "bfreal = pd.read_csv('/content/drive/My Drive/CS221_Project/BuzzFeed_real_news_content.csv')\n",
        "bfreal.shape"
      ],
      "execution_count": 5,
      "outputs": [
        {
          "output_type": "execute_result",
          "data": {
            "text/plain": [
              "(91, 12)"
            ]
          },
          "metadata": {
            "tags": []
          },
          "execution_count": 5
        }
      ]
    },
    {
      "cell_type": "code",
      "metadata": {
        "id": "Ep9fqbUZSkSV",
        "colab_type": "code",
        "outputId": "6c2f2cc6-601a-4c08-96d2-2f241362d103",
        "colab": {
          "base_uri": "https://localhost:8080/",
          "height": 604
        }
      },
      "source": [
        "bfreal.head()"
      ],
      "execution_count": 6,
      "outputs": [
        {
          "output_type": "execute_result",
          "data": {
            "text/html": [
              "<div>\n",
              "<style scoped>\n",
              "    .dataframe tbody tr th:only-of-type {\n",
              "        vertical-align: middle;\n",
              "    }\n",
              "\n",
              "    .dataframe tbody tr th {\n",
              "        vertical-align: top;\n",
              "    }\n",
              "\n",
              "    .dataframe thead th {\n",
              "        text-align: right;\n",
              "    }\n",
              "</style>\n",
              "<table border=\"1\" class=\"dataframe\">\n",
              "  <thead>\n",
              "    <tr style=\"text-align: right;\">\n",
              "      <th></th>\n",
              "      <th>id</th>\n",
              "      <th>title</th>\n",
              "      <th>text</th>\n",
              "      <th>url</th>\n",
              "      <th>top_img</th>\n",
              "      <th>authors</th>\n",
              "      <th>source</th>\n",
              "      <th>publish_date</th>\n",
              "      <th>movies</th>\n",
              "      <th>images</th>\n",
              "      <th>canonical_link</th>\n",
              "      <th>meta_data</th>\n",
              "    </tr>\n",
              "  </thead>\n",
              "  <tbody>\n",
              "    <tr>\n",
              "      <th>0</th>\n",
              "      <td>Real_1-Webpage</td>\n",
              "      <td>Another Terrorist Attack in NYC…Why Are we STI...</td>\n",
              "      <td>On Saturday, September 17 at 8:30 pm EST, an e...</td>\n",
              "      <td>http://eaglerising.com/36942/another-terrorist...</td>\n",
              "      <td>http://eaglerising.com/wp-content/uploads/2016...</td>\n",
              "      <td>View All Posts,Leonora Cravotta</td>\n",
              "      <td>http://eaglerising.com</td>\n",
              "      <td>{'$date': 1474528230000}</td>\n",
              "      <td>NaN</td>\n",
              "      <td>http://constitution.com/wp-content/uploads/201...</td>\n",
              "      <td>http://eaglerising.com/36942/another-terrorist...</td>\n",
              "      <td>{\"description\": \"\\u201cWe believe at this poin...</td>\n",
              "    </tr>\n",
              "    <tr>\n",
              "      <th>1</th>\n",
              "      <td>Real_10-Webpage</td>\n",
              "      <td>Donald Trump: Drugs a 'Very, Very Big Factor' ...</td>\n",
              "      <td>Less than a day after protests over the police...</td>\n",
              "      <td>http://abcn.ws/2d4lNn9</td>\n",
              "      <td>http://a.abcnews.com/images/Politics/AP_donald...</td>\n",
              "      <td>More Candace,Adam Kelsey,Abc News,More Adam</td>\n",
              "      <td>http://abcn.ws</td>\n",
              "      <td>NaN</td>\n",
              "      <td>NaN</td>\n",
              "      <td>http://www.googleadservices.com/pagead/convers...</td>\n",
              "      <td>http://abcnews.go.com/Politics/donald-trump-dr...</td>\n",
              "      <td>{\"fb_title\": \"Trump: Drugs a 'Very, Very Big F...</td>\n",
              "    </tr>\n",
              "    <tr>\n",
              "      <th>2</th>\n",
              "      <td>Real_11-Webpage</td>\n",
              "      <td>Obama To UN: ‘Giving Up Liberty, Enhances Secu...</td>\n",
              "      <td>Obama To UN: ‘Giving Up Liberty, Enhances Secu...</td>\n",
              "      <td>http://rightwingnews.com/barack-obama/obama-un...</td>\n",
              "      <td>http://rightwingnews.com/wp-content/uploads/20...</td>\n",
              "      <td>Cassy Fiano</td>\n",
              "      <td>http://rightwingnews.com</td>\n",
              "      <td>{'$date': 1474476044000}</td>\n",
              "      <td>https://www.youtube.com/embed/ji6pl5Vwrvk</td>\n",
              "      <td>http://rightwingnews.com/wp-content/uploads/20...</td>\n",
              "      <td>http://rightwingnews.com/barack-obama/obama-un...</td>\n",
              "      <td>{\"googlebot\": \"noimageindex\", \"og\": {\"site_nam...</td>\n",
              "    </tr>\n",
              "    <tr>\n",
              "      <th>3</th>\n",
              "      <td>Real_12-Webpage</td>\n",
              "      <td>Trump vs. Clinton: A Fundamental Clash over Ho...</td>\n",
              "      <td>Getty Images Wealth Of Nations Trump vs. Clint...</td>\n",
              "      <td>http://politi.co/2de2qs0</td>\n",
              "      <td>http://static.politico.com/e9/11/6144cdc24e319...</td>\n",
              "      <td>Jack Shafer,Erick Trickey,Zachary Karabell</td>\n",
              "      <td>http://politi.co</td>\n",
              "      <td>{'$date': 1474974420000}</td>\n",
              "      <td>NaN</td>\n",
              "      <td>https://static.politico.com/dims4/default/8a1c...</td>\n",
              "      <td>http://www.politico.com/magazine/story/2016/09...</td>\n",
              "      <td>{\"description\": \"He sees it as zero-sum. She b...</td>\n",
              "    </tr>\n",
              "    <tr>\n",
              "      <th>4</th>\n",
              "      <td>Real_13-Webpage</td>\n",
              "      <td>President Obama Vetoes 9/11 Victims Bill, Sett...</td>\n",
              "      <td>President Obama today vetoed a bill that would...</td>\n",
              "      <td>http://abcn.ws/2dh2NFs</td>\n",
              "      <td>http://a.abcnews.com/images/US/AP_Obama_BM_201...</td>\n",
              "      <td>John Parkinson,More John,Abc News,More Alexander</td>\n",
              "      <td>http://abcn.ws</td>\n",
              "      <td>NaN</td>\n",
              "      <td>NaN</td>\n",
              "      <td>http://www.googleadservices.com/pagead/convers...</td>\n",
              "      <td>http://abcnews.go.com/Politics/president-obama...</td>\n",
              "      <td>{\"fb_title\": \"President Obama Vetoes 9/11 Vict...</td>\n",
              "    </tr>\n",
              "  </tbody>\n",
              "</table>\n",
              "</div>"
            ],
            "text/plain": [
              "                id  ...                                          meta_data\n",
              "0   Real_1-Webpage  ...  {\"description\": \"\\u201cWe believe at this poin...\n",
              "1  Real_10-Webpage  ...  {\"fb_title\": \"Trump: Drugs a 'Very, Very Big F...\n",
              "2  Real_11-Webpage  ...  {\"googlebot\": \"noimageindex\", \"og\": {\"site_nam...\n",
              "3  Real_12-Webpage  ...  {\"description\": \"He sees it as zero-sum. She b...\n",
              "4  Real_13-Webpage  ...  {\"fb_title\": \"President Obama Vetoes 9/11 Vict...\n",
              "\n",
              "[5 rows x 12 columns]"
            ]
          },
          "metadata": {
            "tags": []
          },
          "execution_count": 6
        }
      ]
    },
    {
      "cell_type": "code",
      "metadata": {
        "id": "rDI-ARiSwxBL",
        "colab_type": "code",
        "outputId": "4446ae6e-24ec-4da7-b51f-c6f4b32fabb1",
        "colab": {
          "base_uri": "https://localhost:8080/",
          "height": 307
        }
      },
      "source": [
        "bfreal.describe()"
      ],
      "execution_count": 7,
      "outputs": [
        {
          "output_type": "execute_result",
          "data": {
            "text/html": [
              "<div>\n",
              "<style scoped>\n",
              "    .dataframe tbody tr th:only-of-type {\n",
              "        vertical-align: middle;\n",
              "    }\n",
              "\n",
              "    .dataframe tbody tr th {\n",
              "        vertical-align: top;\n",
              "    }\n",
              "\n",
              "    .dataframe thead th {\n",
              "        text-align: right;\n",
              "    }\n",
              "</style>\n",
              "<table border=\"1\" class=\"dataframe\">\n",
              "  <thead>\n",
              "    <tr style=\"text-align: right;\">\n",
              "      <th></th>\n",
              "      <th>id</th>\n",
              "      <th>title</th>\n",
              "      <th>text</th>\n",
              "      <th>url</th>\n",
              "      <th>top_img</th>\n",
              "      <th>authors</th>\n",
              "      <th>source</th>\n",
              "      <th>publish_date</th>\n",
              "      <th>movies</th>\n",
              "      <th>images</th>\n",
              "      <th>canonical_link</th>\n",
              "      <th>meta_data</th>\n",
              "    </tr>\n",
              "  </thead>\n",
              "  <tbody>\n",
              "    <tr>\n",
              "      <th>count</th>\n",
              "      <td>91</td>\n",
              "      <td>91</td>\n",
              "      <td>91</td>\n",
              "      <td>91</td>\n",
              "      <td>91</td>\n",
              "      <td>84</td>\n",
              "      <td>91</td>\n",
              "      <td>56</td>\n",
              "      <td>4</td>\n",
              "      <td>91</td>\n",
              "      <td>90</td>\n",
              "      <td>91</td>\n",
              "    </tr>\n",
              "    <tr>\n",
              "      <th>unique</th>\n",
              "      <td>91</td>\n",
              "      <td>91</td>\n",
              "      <td>91</td>\n",
              "      <td>91</td>\n",
              "      <td>87</td>\n",
              "      <td>65</td>\n",
              "      <td>14</td>\n",
              "      <td>53</td>\n",
              "      <td>4</td>\n",
              "      <td>90</td>\n",
              "      <td>90</td>\n",
              "      <td>91</td>\n",
              "    </tr>\n",
              "    <tr>\n",
              "      <th>top</th>\n",
              "      <td>Real_26-Webpage</td>\n",
              "      <td>The Mystery of Trump’s Man in Moscow: Carter Page</td>\n",
              "      <td>Last week I wrote an article titled “Donald Tr...</td>\n",
              "      <td>http://cnn.it/2cX5Nof</td>\n",
              "      <td>http://static.politico.com/da/f5/44342c424c68b...</td>\n",
              "      <td>Jack Shafer,Louis Nelson</td>\n",
              "      <td>http://politi.co</td>\n",
              "      <td>{'$date': 1474329600000}</td>\n",
              "      <td>https://www.youtube.com/embed/RI42hai7uM8?feat...</td>\n",
              "      <td>http://static.politico.com/da/f5/44342c424c68b...</td>\n",
              "      <td>http://rightwingnews.com/black-lives-matter/on...</td>\n",
              "      <td>{\"description\": \"House Speaker Paul Ryan ducke...</td>\n",
              "    </tr>\n",
              "    <tr>\n",
              "      <th>freq</th>\n",
              "      <td>1</td>\n",
              "      <td>1</td>\n",
              "      <td>1</td>\n",
              "      <td>1</td>\n",
              "      <td>3</td>\n",
              "      <td>5</td>\n",
              "      <td>32</td>\n",
              "      <td>2</td>\n",
              "      <td>1</td>\n",
              "      <td>2</td>\n",
              "      <td>1</td>\n",
              "      <td>1</td>\n",
              "    </tr>\n",
              "  </tbody>\n",
              "</table>\n",
              "</div>"
            ],
            "text/plain": [
              "                     id  ...                                          meta_data\n",
              "count                91  ...                                                 91\n",
              "unique               91  ...                                                 91\n",
              "top     Real_26-Webpage  ...  {\"description\": \"House Speaker Paul Ryan ducke...\n",
              "freq                  1  ...                                                  1\n",
              "\n",
              "[4 rows x 12 columns]"
            ]
          },
          "metadata": {
            "tags": []
          },
          "execution_count": 7
        }
      ]
    },
    {
      "cell_type": "code",
      "metadata": {
        "id": "K_XfCyQvnVM0",
        "colab_type": "code",
        "outputId": "4a507778-942b-4d07-9bee-e96604f3fb5b",
        "colab": {
          "base_uri": "https://localhost:8080/",
          "height": 298
        }
      },
      "source": [
        "for key,count in bfreal.source.value_counts().iteritems():\n",
        "    print(\"{}:\\t{}\".format(key, count))\n",
        "    \n",
        "print(\"Total Records:\\t{}\".format(bfreal.shape[0]))"
      ],
      "execution_count": 8,
      "outputs": [
        {
          "output_type": "stream",
          "text": [
            "http://politi.co:\t32\n",
            "http://cnn.it:\t23\n",
            "http://abcn.ws:\t9\n",
            "http://eaglerising.com:\t7\n",
            "http://rightwingnews.com:\t7\n",
            "http://www.addictinginfo.org:\t3\n",
            "http://www.ifyouonlynews.com:\t2\n",
            "http://addictinginfo.org:\t2\n",
            "https://www.washingtonpost.com:\t1\n",
            "http://occupydemocrats.com:\t1\n",
            "http://conservativebyte.com:\t1\n",
            "http://winningdemocrats.com:\t1\n",
            "http://freedomdaily.com:\t1\n",
            "http://www.opposingviews.com:\t1\n",
            "Total Records:\t91\n"
          ],
          "name": "stdout"
        }
      ]
    },
    {
      "cell_type": "code",
      "metadata": {
        "id": "B3Eawn-ApE3o",
        "colab_type": "code",
        "outputId": "6d19e7c5-ec50-4c59-9d17-3f8c1b2938bf",
        "colab": {
          "base_uri": "https://localhost:8080/",
          "height": 448
        }
      },
      "source": [
        "plt.figure(figsize=(20,5))\n",
        "chart = sns.countplot(\"source\", data=bfreal)\n",
        "chart.set_xticklabels(chart.get_xticklabels(), rotation=45)\n",
        "plt.show()"
      ],
      "execution_count": 9,
      "outputs": [
        {
          "output_type": "display_data",
          "data": {
            "image/png": "[encoded data removed]",
            "text/plain": [
              "<Figure size 1440x360 with 1 Axes>"
            ]
          },
          "metadata": {
            "tags": [],
            "needs_background": "light"
          }
        }
      ]
    },
    {
      "cell_type": "code",
      "metadata": {
        "id": "Tx0p7sEZOm61",
        "colab_type": "code",
        "outputId": "a37599ab-92ca-4c01-f796-a59a511de8b3",
        "colab": {
          "base_uri": "https://localhost:8080/",
          "height": 35
        }
      },
      "source": [
        "#checking for rows with empty text\n",
        "[index for index,text in enumerate(bfreal.text.values) if str(text).strip() == '']"
      ],
      "execution_count": 10,
      "outputs": [
        {
          "output_type": "execute_result",
          "data": {
            "text/plain": [
              "[]"
            ]
          },
          "metadata": {
            "tags": []
          },
          "execution_count": 10
        }
      ]
    },
    {
      "cell_type": "markdown",
      "metadata": {
        "id": "V5Jywb1Bb3e4",
        "colab_type": "text"
      },
      "source": [
        "Adding class indication, and an empty subject column, prior to merging with Fake-and-real-news dataset."
      ]
    },
    {
      "cell_type": "code",
      "metadata": {
        "id": "vhLABQwdcD0m",
        "colab_type": "code",
        "outputId": "626d4364-74e8-4d55-fbc1-f9837376d8d3",
        "colab": {
          "base_uri": "https://localhost:8080/",
          "height": 604
        }
      },
      "source": [
        "bfreal[\"class\"]=1\n",
        "bfreal[\"subject\"]=''\n",
        "bfreal.head()"
      ],
      "execution_count": 11,
      "outputs": [
        {
          "output_type": "execute_result",
          "data": {
            "text/html": [
              "<div>\n",
              "<style scoped>\n",
              "    .dataframe tbody tr th:only-of-type {\n",
              "        vertical-align: middle;\n",
              "    }\n",
              "\n",
              "    .dataframe tbody tr th {\n",
              "        vertical-align: top;\n",
              "    }\n",
              "\n",
              "    .dataframe thead th {\n",
              "        text-align: right;\n",
              "    }\n",
              "</style>\n",
              "<table border=\"1\" class=\"dataframe\">\n",
              "  <thead>\n",
              "    <tr style=\"text-align: right;\">\n",
              "      <th></th>\n",
              "      <th>id</th>\n",
              "      <th>title</th>\n",
              "      <th>text</th>\n",
              "      <th>url</th>\n",
              "      <th>top_img</th>\n",
              "      <th>authors</th>\n",
              "      <th>source</th>\n",
              "      <th>publish_date</th>\n",
              "      <th>movies</th>\n",
              "      <th>images</th>\n",
              "      <th>canonical_link</th>\n",
              "      <th>meta_data</th>\n",
              "      <th>class</th>\n",
              "      <th>subject</th>\n",
              "    </tr>\n",
              "  </thead>\n",
              "  <tbody>\n",
              "    <tr>\n",
              "      <th>0</th>\n",
              "      <td>Real_1-Webpage</td>\n",
              "      <td>Another Terrorist Attack in NYC…Why Are we STI...</td>\n",
              "      <td>On Saturday, September 17 at 8:30 pm EST, an e...</td>\n",
              "      <td>http://eaglerising.com/36942/another-terrorist...</td>\n",
              "      <td>http://eaglerising.com/wp-content/uploads/2016...</td>\n",
              "      <td>View All Posts,Leonora Cravotta</td>\n",
              "      <td>http://eaglerising.com</td>\n",
              "      <td>{'$date': 1474528230000}</td>\n",
              "      <td>NaN</td>\n",
              "      <td>http://constitution.com/wp-content/uploads/201...</td>\n",
              "      <td>http://eaglerising.com/36942/another-terrorist...</td>\n",
              "      <td>{\"description\": \"\\u201cWe believe at this poin...</td>\n",
              "      <td>1</td>\n",
              "      <td></td>\n",
              "    </tr>\n",
              "    <tr>\n",
              "      <th>1</th>\n",
              "      <td>Real_10-Webpage</td>\n",
              "      <td>Donald Trump: Drugs a 'Very, Very Big Factor' ...</td>\n",
              "      <td>Less than a day after protests over the police...</td>\n",
              "      <td>http://abcn.ws/2d4lNn9</td>\n",
              "      <td>http://a.abcnews.com/images/Politics/AP_donald...</td>\n",
              "      <td>More Candace,Adam Kelsey,Abc News,More Adam</td>\n",
              "      <td>http://abcn.ws</td>\n",
              "      <td>NaN</td>\n",
              "      <td>NaN</td>\n",
              "      <td>http://www.googleadservices.com/pagead/convers...</td>\n",
              "      <td>http://abcnews.go.com/Politics/donald-trump-dr...</td>\n",
              "      <td>{\"fb_title\": \"Trump: Drugs a 'Very, Very Big F...</td>\n",
              "      <td>1</td>\n",
              "      <td></td>\n",
              "    </tr>\n",
              "    <tr>\n",
              "      <th>2</th>\n",
              "      <td>Real_11-Webpage</td>\n",
              "      <td>Obama To UN: ‘Giving Up Liberty, Enhances Secu...</td>\n",
              "      <td>Obama To UN: ‘Giving Up Liberty, Enhances Secu...</td>\n",
              "      <td>http://rightwingnews.com/barack-obama/obama-un...</td>\n",
              "      <td>http://rightwingnews.com/wp-content/uploads/20...</td>\n",
              "      <td>Cassy Fiano</td>\n",
              "      <td>http://rightwingnews.com</td>\n",
              "      <td>{'$date': 1474476044000}</td>\n",
              "      <td>https://www.youtube.com/embed/ji6pl5Vwrvk</td>\n",
              "      <td>http://rightwingnews.com/wp-content/uploads/20...</td>\n",
              "      <td>http://rightwingnews.com/barack-obama/obama-un...</td>\n",
              "      <td>{\"googlebot\": \"noimageindex\", \"og\": {\"site_nam...</td>\n",
              "      <td>1</td>\n",
              "      <td></td>\n",
              "    </tr>\n",
              "    <tr>\n",
              "      <th>3</th>\n",
              "      <td>Real_12-Webpage</td>\n",
              "      <td>Trump vs. Clinton: A Fundamental Clash over Ho...</td>\n",
              "      <td>Getty Images Wealth Of Nations Trump vs. Clint...</td>\n",
              "      <td>http://politi.co/2de2qs0</td>\n",
              "      <td>http://static.politico.com/e9/11/6144cdc24e319...</td>\n",
              "      <td>Jack Shafer,Erick Trickey,Zachary Karabell</td>\n",
              "      <td>http://politi.co</td>\n",
              "      <td>{'$date': 1474974420000}</td>\n",
              "      <td>NaN</td>\n",
              "      <td>https://static.politico.com/dims4/default/8a1c...</td>\n",
              "      <td>http://www.politico.com/magazine/story/2016/09...</td>\n",
              "      <td>{\"description\": \"He sees it as zero-sum. She b...</td>\n",
              "      <td>1</td>\n",
              "      <td></td>\n",
              "    </tr>\n",
              "    <tr>\n",
              "      <th>4</th>\n",
              "      <td>Real_13-Webpage</td>\n",
              "      <td>President Obama Vetoes 9/11 Victims Bill, Sett...</td>\n",
              "      <td>President Obama today vetoed a bill that would...</td>\n",
              "      <td>http://abcn.ws/2dh2NFs</td>\n",
              "      <td>http://a.abcnews.com/images/US/AP_Obama_BM_201...</td>\n",
              "      <td>John Parkinson,More John,Abc News,More Alexander</td>\n",
              "      <td>http://abcn.ws</td>\n",
              "      <td>NaN</td>\n",
              "      <td>NaN</td>\n",
              "      <td>http://www.googleadservices.com/pagead/convers...</td>\n",
              "      <td>http://abcnews.go.com/Politics/president-obama...</td>\n",
              "      <td>{\"fb_title\": \"President Obama Vetoes 9/11 Vict...</td>\n",
              "      <td>1</td>\n",
              "      <td></td>\n",
              "    </tr>\n",
              "  </tbody>\n",
              "</table>\n",
              "</div>"
            ],
            "text/plain": [
              "                id  ... subject\n",
              "0   Real_1-Webpage  ...        \n",
              "1  Real_10-Webpage  ...        \n",
              "2  Real_11-Webpage  ...        \n",
              "3  Real_12-Webpage  ...        \n",
              "4  Real_13-Webpage  ...        \n",
              "\n",
              "[5 rows x 14 columns]"
            ]
          },
          "metadata": {
            "tags": []
          },
          "execution_count": 11
        }
      ]
    },
    {
      "cell_type": "markdown",
      "metadata": {
        "id": "JKKp8qu7iWWa",
        "colab_type": "text"
      },
      "source": [
        "Removing all polluting expressions in both text and title"
      ]
    },
    {
      "cell_type": "code",
      "metadata": {
        "id": "ye--vphRiaNJ",
        "colab_type": "code",
        "colab": {}
      },
      "source": [
        "#Seperating Publication info, from actual text\n",
        "pollution_real = [\"⋆ US Herald\",\"– Eagle Rising\", \"The views expressed in this opinion article are solely those of their author and are not necessarily either shared or endorsed by EagleRising.com\", \" ⋆ Freedom Daily\",\"Read More\", \"Authors:\"]\n",
        "for i in pollution_real:\n",
        "    bfreal['title'] = bfreal['title'].str.replace(i , '')\n",
        "    bfreal['text'] = bfreal['text'].str.replace(i , '')"
      ],
      "execution_count": 0,
      "outputs": []
    },
    {
      "cell_type": "markdown",
      "metadata": {
        "id": "D4tEVKf-r59v",
        "colab_type": "text"
      },
      "source": [
        "## Integrating BuzzFeed Fake News"
      ]
    },
    {
      "cell_type": "code",
      "metadata": {
        "id": "HNGVdlP2r-XF",
        "colab_type": "code",
        "outputId": "f39c792c-d056-4f88-824d-6e9ef510e875",
        "colab": {
          "base_uri": "https://localhost:8080/",
          "height": 35
        }
      },
      "source": [
        "bffake = pd.read_csv('/content/drive/My Drive/CS221_Project/BuzzFeed_fake_news_content.csv')\n",
        "bffake.shape"
      ],
      "execution_count": 13,
      "outputs": [
        {
          "output_type": "execute_result",
          "data": {
            "text/plain": [
              "(91, 12)"
            ]
          },
          "metadata": {
            "tags": []
          },
          "execution_count": 13
        }
      ]
    },
    {
      "cell_type": "code",
      "metadata": {
        "id": "dVDFkAXjsCch",
        "colab_type": "code",
        "outputId": "c213e7ec-d509-4b89-e215-cad76fc7b782",
        "colab": {
          "base_uri": "https://localhost:8080/",
          "height": 537
        }
      },
      "source": [
        "bffake.head()"
      ],
      "execution_count": 14,
      "outputs": [
        {
          "output_type": "execute_result",
          "data": {
            "text/html": [
              "<div>\n",
              "<style scoped>\n",
              "    .dataframe tbody tr th:only-of-type {\n",
              "        vertical-align: middle;\n",
              "    }\n",
              "\n",
              "    .dataframe tbody tr th {\n",
              "        vertical-align: top;\n",
              "    }\n",
              "\n",
              "    .dataframe thead th {\n",
              "        text-align: right;\n",
              "    }\n",
              "</style>\n",
              "<table border=\"1\" class=\"dataframe\">\n",
              "  <thead>\n",
              "    <tr style=\"text-align: right;\">\n",
              "      <th></th>\n",
              "      <th>id</th>\n",
              "      <th>title</th>\n",
              "      <th>text</th>\n",
              "      <th>url</th>\n",
              "      <th>top_img</th>\n",
              "      <th>authors</th>\n",
              "      <th>source</th>\n",
              "      <th>publish_date</th>\n",
              "      <th>movies</th>\n",
              "      <th>images</th>\n",
              "      <th>canonical_link</th>\n",
              "      <th>meta_data</th>\n",
              "    </tr>\n",
              "  </thead>\n",
              "  <tbody>\n",
              "    <tr>\n",
              "      <th>0</th>\n",
              "      <td>Fake_1-Webpage</td>\n",
              "      <td>Proof The Mainstream Media Is Manipulating The...</td>\n",
              "      <td>I woke up this morning to find a variation of ...</td>\n",
              "      <td>http://www.addictinginfo.org/2016/09/19/proof-...</td>\n",
              "      <td>http://addictinginfo.addictinginfoent.netdna-c...</td>\n",
              "      <td>Wendy Gittleson</td>\n",
              "      <td>http://www.addictinginfo.org</td>\n",
              "      <td>{'$date': 1474243200000}</td>\n",
              "      <td>NaN</td>\n",
              "      <td>http://i.imgur.com/JeqZLhj.png,http://addictin...</td>\n",
              "      <td>http://addictinginfo.com/2016/09/19/proof-the-...</td>\n",
              "      <td>{\"publisher\": \"Addicting Info | The Knowledge ...</td>\n",
              "    </tr>\n",
              "    <tr>\n",
              "      <th>1</th>\n",
              "      <td>Fake_10-Webpage</td>\n",
              "      <td>Charity: Clinton Foundation Distributed “Water...</td>\n",
              "      <td>Former President Bill Clinton and his Clinton ...</td>\n",
              "      <td>http://eaglerising.com/36899/charity-clinton-f...</td>\n",
              "      <td>http://eaglerising.com/wp-content/uploads/2016...</td>\n",
              "      <td>View All Posts</td>\n",
              "      <td>http://eaglerising.com</td>\n",
              "      <td>{'$date': 1474416521000}</td>\n",
              "      <td>NaN</td>\n",
              "      <td>http://constitution.com/wp-content/uploads/201...</td>\n",
              "      <td>http://eaglerising.com/36899/charity-clinton-f...</td>\n",
              "      <td>{\"description\": \"The possibility that CHAI dis...</td>\n",
              "    </tr>\n",
              "    <tr>\n",
              "      <th>2</th>\n",
              "      <td>Fake_11-Webpage</td>\n",
              "      <td>A Hillary Clinton Administration May be Entire...</td>\n",
              "      <td>After collapsing just before trying to step in...</td>\n",
              "      <td>http://eaglerising.com/36880/a-hillary-clinton...</td>\n",
              "      <td>http://eaglerising.com/wp-content/uploads/2016...</td>\n",
              "      <td>View All Posts,Tony Elliott</td>\n",
              "      <td>http://eaglerising.com</td>\n",
              "      <td>{'$date': 1474416638000}</td>\n",
              "      <td>NaN</td>\n",
              "      <td>http://constitution.com/wp-content/uploads/201...</td>\n",
              "      <td>http://eaglerising.com/36880/a-hillary-clinton...</td>\n",
              "      <td>{\"description\": \"Hillary Clinton may be the fi...</td>\n",
              "    </tr>\n",
              "    <tr>\n",
              "      <th>3</th>\n",
              "      <td>Fake_12-Webpage</td>\n",
              "      <td>Trump’s Latest Campaign Promise May Be His Mos...</td>\n",
              "      <td>Donald Trump is, well, deplorable. He’s sugges...</td>\n",
              "      <td>http://www.addictinginfo.org/2016/09/19/trumps...</td>\n",
              "      <td>http://addictinginfo.addictinginfoent.netdna-c...</td>\n",
              "      <td>John Prager</td>\n",
              "      <td>http://www.addictinginfo.org</td>\n",
              "      <td>{'$date': 1474243200000}</td>\n",
              "      <td>NaN</td>\n",
              "      <td>http://i.imgur.com/JeqZLhj.png,http://2.gravat...</td>\n",
              "      <td>http://addictinginfo.com/2016/09/19/trumps-lat...</td>\n",
              "      <td>{\"publisher\": \"Addicting Info | The Knowledge ...</td>\n",
              "    </tr>\n",
              "    <tr>\n",
              "      <th>4</th>\n",
              "      <td>Fake_13-Webpage</td>\n",
              "      <td>Website is Down For Maintenance</td>\n",
              "      <td>Website is Down For Maintenance</td>\n",
              "      <td>http://www.proudcons.com/clinton-foundation-ca...</td>\n",
              "      <td>NaN</td>\n",
              "      <td>NaN</td>\n",
              "      <td>http://www.proudcons.com</td>\n",
              "      <td>NaN</td>\n",
              "      <td>NaN</td>\n",
              "      <td>NaN</td>\n",
              "      <td>NaN</td>\n",
              "      <td>{\"og\": {\"url\": \"http://www.proudcons.com\", \"ty...</td>\n",
              "    </tr>\n",
              "  </tbody>\n",
              "</table>\n",
              "</div>"
            ],
            "text/plain": [
              "                id  ...                                          meta_data\n",
              "0   Fake_1-Webpage  ...  {\"publisher\": \"Addicting Info | The Knowledge ...\n",
              "1  Fake_10-Webpage  ...  {\"description\": \"The possibility that CHAI dis...\n",
              "2  Fake_11-Webpage  ...  {\"description\": \"Hillary Clinton may be the fi...\n",
              "3  Fake_12-Webpage  ...  {\"publisher\": \"Addicting Info | The Knowledge ...\n",
              "4  Fake_13-Webpage  ...  {\"og\": {\"url\": \"http://www.proudcons.com\", \"ty...\n",
              "\n",
              "[5 rows x 12 columns]"
            ]
          },
          "metadata": {
            "tags": []
          },
          "execution_count": 14
        }
      ]
    },
    {
      "cell_type": "code",
      "metadata": {
        "id": "OOm8aSbwwpTz",
        "colab_type": "code",
        "outputId": "29d4ba6e-bb3c-4a28-9ea1-bec0235be058",
        "colab": {
          "base_uri": "https://localhost:8080/",
          "height": 273
        }
      },
      "source": [
        "bffake.describe()"
      ],
      "execution_count": 15,
      "outputs": [
        {
          "output_type": "execute_result",
          "data": {
            "text/html": [
              "<div>\n",
              "<style scoped>\n",
              "    .dataframe tbody tr th:only-of-type {\n",
              "        vertical-align: middle;\n",
              "    }\n",
              "\n",
              "    .dataframe tbody tr th {\n",
              "        vertical-align: top;\n",
              "    }\n",
              "\n",
              "    .dataframe thead th {\n",
              "        text-align: right;\n",
              "    }\n",
              "</style>\n",
              "<table border=\"1\" class=\"dataframe\">\n",
              "  <thead>\n",
              "    <tr style=\"text-align: right;\">\n",
              "      <th></th>\n",
              "      <th>id</th>\n",
              "      <th>title</th>\n",
              "      <th>text</th>\n",
              "      <th>url</th>\n",
              "      <th>top_img</th>\n",
              "      <th>authors</th>\n",
              "      <th>source</th>\n",
              "      <th>publish_date</th>\n",
              "      <th>movies</th>\n",
              "      <th>images</th>\n",
              "      <th>canonical_link</th>\n",
              "      <th>meta_data</th>\n",
              "    </tr>\n",
              "  </thead>\n",
              "  <tbody>\n",
              "    <tr>\n",
              "      <th>count</th>\n",
              "      <td>91</td>\n",
              "      <td>91</td>\n",
              "      <td>91</td>\n",
              "      <td>83</td>\n",
              "      <td>81</td>\n",
              "      <td>57</td>\n",
              "      <td>83</td>\n",
              "      <td>77</td>\n",
              "      <td>21</td>\n",
              "      <td>81</td>\n",
              "      <td>80</td>\n",
              "      <td>91</td>\n",
              "    </tr>\n",
              "    <tr>\n",
              "      <th>unique</th>\n",
              "      <td>91</td>\n",
              "      <td>87</td>\n",
              "      <td>87</td>\n",
              "      <td>80</td>\n",
              "      <td>79</td>\n",
              "      <td>30</td>\n",
              "      <td>22</td>\n",
              "      <td>69</td>\n",
              "      <td>21</td>\n",
              "      <td>79</td>\n",
              "      <td>78</td>\n",
              "      <td>81</td>\n",
              "    </tr>\n",
              "    <tr>\n",
              "      <th>top</th>\n",
              "      <td>Fake_60-Webpage</td>\n",
              "      <td>Website is Down For Maintenance</td>\n",
              "      <td>After collapsing just before trying to step in...</td>\n",
              "      <td>http://eaglerising.com/36847/clinton-foundatio...</td>\n",
              "      <td>http://eaglerising.com/wp-content/uploads/2016...</td>\n",
              "      <td>Terresa Monroe-hamilton</td>\n",
              "      <td>http://rightwingnews.com</td>\n",
              "      <td>{'$date': 1474588800000}</td>\n",
              "      <td>https://www.youtube.com/embed/z9GptmyPn5A?rel=...</td>\n",
              "      <td>http://constitution.com/wp-content/uploads/201...</td>\n",
              "      <td>http://eaglerising.com/36847/clinton-foundatio...</td>\n",
              "      <td>{}</td>\n",
              "    </tr>\n",
              "    <tr>\n",
              "      <th>freq</th>\n",
              "      <td>1</td>\n",
              "      <td>2</td>\n",
              "      <td>2</td>\n",
              "      <td>2</td>\n",
              "      <td>2</td>\n",
              "      <td>6</td>\n",
              "      <td>17</td>\n",
              "      <td>4</td>\n",
              "      <td>1</td>\n",
              "      <td>2</td>\n",
              "      <td>2</td>\n",
              "      <td>8</td>\n",
              "    </tr>\n",
              "  </tbody>\n",
              "</table>\n",
              "</div>"
            ],
            "text/plain": [
              "                     id  ... meta_data\n",
              "count                91  ...        91\n",
              "unique               91  ...        81\n",
              "top     Fake_60-Webpage  ...        {}\n",
              "freq                  1  ...         8\n",
              "\n",
              "[4 rows x 12 columns]"
            ]
          },
          "metadata": {
            "tags": []
          },
          "execution_count": 15
        }
      ]
    },
    {
      "cell_type": "code",
      "metadata": {
        "id": "K_Ot4T_ysF1B",
        "colab_type": "code",
        "outputId": "e8ea98c0-5bc2-448b-cab9-b7ea2e68c319",
        "colab": {
          "base_uri": "https://localhost:8080/",
          "height": 448
        }
      },
      "source": [
        "for key,count in bffake.source.value_counts().iteritems():\n",
        "    print(\"{}:\\t{}\".format(key, count))\n",
        "    \n",
        "print(\"Total Records:\\t{}\".format(bffake.shape[0]))"
      ],
      "execution_count": 16,
      "outputs": [
        {
          "output_type": "stream",
          "text": [
            "http://rightwingnews.com:\t17\n",
            "http://freedomdaily.com:\t16\n",
            "http://eaglerising.com:\t11\n",
            "http://occupydemocrats.com:\t6\n",
            "http://www.thepoliticalinsider.com:\t3\n",
            "https://goo.gl:\t3\n",
            "http://www.addictinginfo.org:\t3\n",
            "http://theblacksphere.net:\t2\n",
            "http://winningdemocrats.com:\t2\n",
            "https://ihavethetruth.com:\t2\n",
            "http://www.proudcons.com:\t2\n",
            "http://clashdaily.com:\t2\n",
            "http://100percentfedup.com:\t2\n",
            "http://usherald.com:\t2\n",
            "http://allenwestrepublic.com:\t2\n",
            "http://conservativetribune.com:\t2\n",
            "http://conservativebyte.com:\t1\n",
            "http://author.addictinginfo.org:\t1\n",
            "http://www.chicksontheright.com:\t1\n",
            "http://author.groopspeak.com:\t1\n",
            "http://www.yesimright.com:\t1\n",
            "http://addictinginfo.org:\t1\n",
            "Total Records:\t91\n"
          ],
          "name": "stdout"
        }
      ]
    },
    {
      "cell_type": "code",
      "metadata": {
        "id": "jQRUbpKgsHc-",
        "colab_type": "code",
        "outputId": "a9aa22e6-18b7-4a67-89c9-d62876772686",
        "colab": {
          "base_uri": "https://localhost:8080/",
          "height": 451
        }
      },
      "source": [
        "plt.figure(figsize=(20,5))\n",
        "chart = sns.countplot(\"source\", data=bffake)\n",
        "chart.set_xticklabels(chart.get_xticklabels(), rotation=45)\n",
        "plt.show()"
      ],
      "execution_count": 17,
      "outputs": [
        {
          "output_type": "display_data",
          "data": {
            "image/png": "[encoded data removed]",
            "text/plain": [
              "<Figure size 1440x360 with 1 Axes>"
            ]
          },
          "metadata": {
            "tags": [],
            "needs_background": "light"
          }
        }
      ]
    },
    {
      "cell_type": "code",
      "metadata": {
        "id": "4hx4Ps9ROh5X",
        "colab_type": "code",
        "outputId": "a0766d06-09b5-430c-a11b-58f7133db994",
        "colab": {
          "base_uri": "https://localhost:8080/",
          "height": 35
        }
      },
      "source": [
        "#checking for rows with empty text\n",
        "[index for index,text in enumerate(bffake.text.values) if str(text).strip() == '']"
      ],
      "execution_count": 18,
      "outputs": [
        {
          "output_type": "execute_result",
          "data": {
            "text/plain": [
              "[]"
            ]
          },
          "metadata": {
            "tags": []
          },
          "execution_count": 18
        }
      ]
    },
    {
      "cell_type": "code",
      "metadata": {
        "id": "rqmFM6BfuZ6f",
        "colab_type": "code",
        "outputId": "7f43218f-d251-46e9-efaa-aa21f88e319b",
        "colab": {
          "base_uri": "https://localhost:8080/",
          "height": 537
        }
      },
      "source": [
        "bffake[\"class\"]=0\n",
        "bffake[\"subject\"]=''\n",
        "bffake.head()"
      ],
      "execution_count": 19,
      "outputs": [
        {
          "output_type": "execute_result",
          "data": {
            "text/html": [
              "<div>\n",
              "<style scoped>\n",
              "    .dataframe tbody tr th:only-of-type {\n",
              "        vertical-align: middle;\n",
              "    }\n",
              "\n",
              "    .dataframe tbody tr th {\n",
              "        vertical-align: top;\n",
              "    }\n",
              "\n",
              "    .dataframe thead th {\n",
              "        text-align: right;\n",
              "    }\n",
              "</style>\n",
              "<table border=\"1\" class=\"dataframe\">\n",
              "  <thead>\n",
              "    <tr style=\"text-align: right;\">\n",
              "      <th></th>\n",
              "      <th>id</th>\n",
              "      <th>title</th>\n",
              "      <th>text</th>\n",
              "      <th>url</th>\n",
              "      <th>top_img</th>\n",
              "      <th>authors</th>\n",
              "      <th>source</th>\n",
              "      <th>publish_date</th>\n",
              "      <th>movies</th>\n",
              "      <th>images</th>\n",
              "      <th>canonical_link</th>\n",
              "      <th>meta_data</th>\n",
              "      <th>class</th>\n",
              "      <th>subject</th>\n",
              "    </tr>\n",
              "  </thead>\n",
              "  <tbody>\n",
              "    <tr>\n",
              "      <th>0</th>\n",
              "      <td>Fake_1-Webpage</td>\n",
              "      <td>Proof The Mainstream Media Is Manipulating The...</td>\n",
              "      <td>I woke up this morning to find a variation of ...</td>\n",
              "      <td>http://www.addictinginfo.org/2016/09/19/proof-...</td>\n",
              "      <td>http://addictinginfo.addictinginfoent.netdna-c...</td>\n",
              "      <td>Wendy Gittleson</td>\n",
              "      <td>http://www.addictinginfo.org</td>\n",
              "      <td>{'$date': 1474243200000}</td>\n",
              "      <td>NaN</td>\n",
              "      <td>http://i.imgur.com/JeqZLhj.png,http://addictin...</td>\n",
              "      <td>http://addictinginfo.com/2016/09/19/proof-the-...</td>\n",
              "      <td>{\"publisher\": \"Addicting Info | The Knowledge ...</td>\n",
              "      <td>0</td>\n",
              "      <td></td>\n",
              "    </tr>\n",
              "    <tr>\n",
              "      <th>1</th>\n",
              "      <td>Fake_10-Webpage</td>\n",
              "      <td>Charity: Clinton Foundation Distributed “Water...</td>\n",
              "      <td>Former President Bill Clinton and his Clinton ...</td>\n",
              "      <td>http://eaglerising.com/36899/charity-clinton-f...</td>\n",
              "      <td>http://eaglerising.com/wp-content/uploads/2016...</td>\n",
              "      <td>View All Posts</td>\n",
              "      <td>http://eaglerising.com</td>\n",
              "      <td>{'$date': 1474416521000}</td>\n",
              "      <td>NaN</td>\n",
              "      <td>http://constitution.com/wp-content/uploads/201...</td>\n",
              "      <td>http://eaglerising.com/36899/charity-clinton-f...</td>\n",
              "      <td>{\"description\": \"The possibility that CHAI dis...</td>\n",
              "      <td>0</td>\n",
              "      <td></td>\n",
              "    </tr>\n",
              "    <tr>\n",
              "      <th>2</th>\n",
              "      <td>Fake_11-Webpage</td>\n",
              "      <td>A Hillary Clinton Administration May be Entire...</td>\n",
              "      <td>After collapsing just before trying to step in...</td>\n",
              "      <td>http://eaglerising.com/36880/a-hillary-clinton...</td>\n",
              "      <td>http://eaglerising.com/wp-content/uploads/2016...</td>\n",
              "      <td>View All Posts,Tony Elliott</td>\n",
              "      <td>http://eaglerising.com</td>\n",
              "      <td>{'$date': 1474416638000}</td>\n",
              "      <td>NaN</td>\n",
              "      <td>http://constitution.com/wp-content/uploads/201...</td>\n",
              "      <td>http://eaglerising.com/36880/a-hillary-clinton...</td>\n",
              "      <td>{\"description\": \"Hillary Clinton may be the fi...</td>\n",
              "      <td>0</td>\n",
              "      <td></td>\n",
              "    </tr>\n",
              "    <tr>\n",
              "      <th>3</th>\n",
              "      <td>Fake_12-Webpage</td>\n",
              "      <td>Trump’s Latest Campaign Promise May Be His Mos...</td>\n",
              "      <td>Donald Trump is, well, deplorable. He’s sugges...</td>\n",
              "      <td>http://www.addictinginfo.org/2016/09/19/trumps...</td>\n",
              "      <td>http://addictinginfo.addictinginfoent.netdna-c...</td>\n",
              "      <td>John Prager</td>\n",
              "      <td>http://www.addictinginfo.org</td>\n",
              "      <td>{'$date': 1474243200000}</td>\n",
              "      <td>NaN</td>\n",
              "      <td>http://i.imgur.com/JeqZLhj.png,http://2.gravat...</td>\n",
              "      <td>http://addictinginfo.com/2016/09/19/trumps-lat...</td>\n",
              "      <td>{\"publisher\": \"Addicting Info | The Knowledge ...</td>\n",
              "      <td>0</td>\n",
              "      <td></td>\n",
              "    </tr>\n",
              "    <tr>\n",
              "      <th>4</th>\n",
              "      <td>Fake_13-Webpage</td>\n",
              "      <td>Website is Down For Maintenance</td>\n",
              "      <td>Website is Down For Maintenance</td>\n",
              "      <td>http://www.proudcons.com/clinton-foundation-ca...</td>\n",
              "      <td>NaN</td>\n",
              "      <td>NaN</td>\n",
              "      <td>http://www.proudcons.com</td>\n",
              "      <td>NaN</td>\n",
              "      <td>NaN</td>\n",
              "      <td>NaN</td>\n",
              "      <td>NaN</td>\n",
              "      <td>{\"og\": {\"url\": \"http://www.proudcons.com\", \"ty...</td>\n",
              "      <td>0</td>\n",
              "      <td></td>\n",
              "    </tr>\n",
              "  </tbody>\n",
              "</table>\n",
              "</div>"
            ],
            "text/plain": [
              "                id  ... subject\n",
              "0   Fake_1-Webpage  ...        \n",
              "1  Fake_10-Webpage  ...        \n",
              "2  Fake_11-Webpage  ...        \n",
              "3  Fake_12-Webpage  ...        \n",
              "4  Fake_13-Webpage  ...        \n",
              "\n",
              "[5 rows x 14 columns]"
            ]
          },
          "metadata": {
            "tags": []
          },
          "execution_count": 19
        }
      ]
    },
    {
      "cell_type": "markdown",
      "metadata": {
        "colab_type": "text",
        "id": "f6gSs6ZOqGlr"
      },
      "source": [
        "Removing all polluting expressions in both text and title"
      ]
    },
    {
      "cell_type": "code",
      "metadata": {
        "colab_type": "code",
        "id": "Aua1baazqGlx",
        "colab": {}
      },
      "source": [
        "pollution_fake = [\"⋆ US Herald\",\"– Eagle Rising\", \"The views expressed in this opinion article are solely those of their author and are not necessarily either shared or endorsed by EagleRising.com\", \" ⋆ Freedom Daily\",\"Read More\", \"Authors:\"]\n",
        "for i in pollution_fake:\n",
        "    bffake['title'] = bffake['title'].str.replace(i , '')\n",
        "    bffake['text'] = bffake['text'].str.replace(i , '')"
      ],
      "execution_count": 0,
      "outputs": []
    },
    {
      "cell_type": "markdown",
      "metadata": {
        "colab_type": "text",
        "id": "fHrTHwUzqnoa"
      },
      "source": [
        "## Integrating Fake-and-real-news Real News"
      ]
    },
    {
      "cell_type": "code",
      "metadata": {
        "colab_type": "code",
        "id": "7HwEc1jiqnoz",
        "outputId": "8b63ec1b-498a-40c8-a218-d0b929af79a2",
        "colab": {
          "base_uri": "https://localhost:8080/",
          "height": 35
        }
      },
      "source": [
        "reald = pd.read_csv('/content/drive/My Drive/CS221_Project/True.csv')\n",
        "reald.shape"
      ],
      "execution_count": 21,
      "outputs": [
        {
          "output_type": "execute_result",
          "data": {
            "text/plain": [
              "(21417, 4)"
            ]
          },
          "metadata": {
            "tags": []
          },
          "execution_count": 21
        }
      ]
    },
    {
      "cell_type": "code",
      "metadata": {
        "colab_type": "code",
        "id": "oKlsSKQPqnpI",
        "outputId": "00e1e71f-ac28-4123-986d-c77a4a97ae9a",
        "colab": {
          "base_uri": "https://localhost:8080/",
          "height": 201
        }
      },
      "source": [
        "reald.head()"
      ],
      "execution_count": 22,
      "outputs": [
        {
          "output_type": "execute_result",
          "data": {
            "text/html": [
              "<div>\n",
              "<style scoped>\n",
              "    .dataframe tbody tr th:only-of-type {\n",
              "        vertical-align: middle;\n",
              "    }\n",
              "\n",
              "    .dataframe tbody tr th {\n",
              "        vertical-align: top;\n",
              "    }\n",
              "\n",
              "    .dataframe thead th {\n",
              "        text-align: right;\n",
              "    }\n",
              "</style>\n",
              "<table border=\"1\" class=\"dataframe\">\n",
              "  <thead>\n",
              "    <tr style=\"text-align: right;\">\n",
              "      <th></th>\n",
              "      <th>title</th>\n",
              "      <th>text</th>\n",
              "      <th>subject</th>\n",
              "      <th>date</th>\n",
              "    </tr>\n",
              "  </thead>\n",
              "  <tbody>\n",
              "    <tr>\n",
              "      <th>0</th>\n",
              "      <td>As U.S. budget fight looms, Republicans flip t...</td>\n",
              "      <td>WASHINGTON (Reuters) - The head of a conservat...</td>\n",
              "      <td>politicsNews</td>\n",
              "      <td>December 31, 2017</td>\n",
              "    </tr>\n",
              "    <tr>\n",
              "      <th>1</th>\n",
              "      <td>U.S. military to accept transgender recruits o...</td>\n",
              "      <td>WASHINGTON (Reuters) - Transgender people will...</td>\n",
              "      <td>politicsNews</td>\n",
              "      <td>December 29, 2017</td>\n",
              "    </tr>\n",
              "    <tr>\n",
              "      <th>2</th>\n",
              "      <td>Senior U.S. Republican senator: 'Let Mr. Muell...</td>\n",
              "      <td>WASHINGTON (Reuters) - The special counsel inv...</td>\n",
              "      <td>politicsNews</td>\n",
              "      <td>December 31, 2017</td>\n",
              "    </tr>\n",
              "    <tr>\n",
              "      <th>3</th>\n",
              "      <td>FBI Russia probe helped by Australian diplomat...</td>\n",
              "      <td>WASHINGTON (Reuters) - Trump campaign adviser ...</td>\n",
              "      <td>politicsNews</td>\n",
              "      <td>December 30, 2017</td>\n",
              "    </tr>\n",
              "    <tr>\n",
              "      <th>4</th>\n",
              "      <td>Trump wants Postal Service to charge 'much mor...</td>\n",
              "      <td>SEATTLE/WASHINGTON (Reuters) - President Donal...</td>\n",
              "      <td>politicsNews</td>\n",
              "      <td>December 29, 2017</td>\n",
              "    </tr>\n",
              "  </tbody>\n",
              "</table>\n",
              "</div>"
            ],
            "text/plain": [
              "                                               title  ...                date\n",
              "0  As U.S. budget fight looms, Republicans flip t...  ...  December 31, 2017 \n",
              "1  U.S. military to accept transgender recruits o...  ...  December 29, 2017 \n",
              "2  Senior U.S. Republican senator: 'Let Mr. Muell...  ...  December 31, 2017 \n",
              "3  FBI Russia probe helped by Australian diplomat...  ...  December 30, 2017 \n",
              "4  Trump wants Postal Service to charge 'much mor...  ...  December 29, 2017 \n",
              "\n",
              "[5 rows x 4 columns]"
            ]
          },
          "metadata": {
            "tags": []
          },
          "execution_count": 22
        }
      ]
    },
    {
      "cell_type": "code",
      "metadata": {
        "colab_type": "code",
        "id": "5NI_nNovq5GH",
        "outputId": "21ad6687-3426-40ac-8ac3-9efa18d58ae4",
        "colab": {
          "base_uri": "https://localhost:8080/",
          "height": 73
        }
      },
      "source": [
        "for key,count in reald.subject.value_counts().iteritems():\n",
        "    print(\"{}:\\t{}\".format(key, count))\n",
        "    \n",
        "print(\"Total Records:\\t{}\".format(reald.shape[0]))"
      ],
      "execution_count": 23,
      "outputs": [
        {
          "output_type": "stream",
          "text": [
            "politicsNews:\t11272\n",
            "worldnews:\t10145\n",
            "Total Records:\t21417\n"
          ],
          "name": "stdout"
        }
      ]
    },
    {
      "cell_type": "code",
      "metadata": {
        "colab_type": "code",
        "id": "Bk1GnRSjq5GP",
        "outputId": "7602f240-f0f9-4119-dd3c-d04061c0240e",
        "colab": {
          "base_uri": "https://localhost:8080/",
          "height": 375
        }
      },
      "source": [
        "plt.figure(figsize=(20,5))\n",
        "chart = sns.countplot(\"subject\", data=reald)\n",
        "chart.set_xticklabels(chart.get_xticklabels(), rotation=45)\n",
        "plt.show()"
      ],
      "execution_count": 24,
      "outputs": [
        {
          "output_type": "display_data",
          "data": {
            "image/png": "[encoded data removed]",
            "text/plain": [
              "<Figure size 1440x360 with 1 Axes>"
            ]
          },
          "metadata": {
            "tags": [],
            "needs_background": "light"
          }
        }
      ]
    },
    {
      "cell_type": "code",
      "metadata": {
        "id": "zhvFD7NRrYj2",
        "colab_type": "code",
        "outputId": "c057400e-4913-4d9a-a677-a6a37c0a8cb7",
        "colab": {
          "base_uri": "https://localhost:8080/",
          "height": 467
        }
      },
      "source": [
        "#First Creating list of index that do not have publication part\n",
        "unknown_publishers = []\n",
        "for index,row in enumerate(reald.text.values):\n",
        "    try:\n",
        "        record = row.split(\" -\", maxsplit=1)\n",
        "        #if no text part is present, following will give error\n",
        "        record[1]\n",
        "        #if len of publication part is greater than 260\n",
        "        #following will give error, ensuring no text having \"-\" in between is counted\n",
        "        assert(len(record[0]) < 260)\n",
        "    except:\n",
        "        unknown_publishers.append(index)\n",
        "#Thus we have list of indices where publisher is not mentioned\n",
        "#lets check\n",
        "reald.iloc[unknown_publishers].text"
      ],
      "execution_count": 25,
      "outputs": [
        {
          "output_type": "execute_result",
          "data": {
            "text/plain": [
              "3488     The White House on Wednesday disclosed a group...\n",
              "4358     Neil Gorsuch, President Donald Trump’s appoint...\n",
              "4465     WASHINGTON The clock began running out this we...\n",
              "5784     Federal appeals court judge Neil Gorsuch, the ...\n",
              "6660     Republican members of Congress are complaining...\n",
              "6823     Over the course of the U.S. presidential campa...\n",
              "7922     After going through a week reminiscent of Napo...\n",
              "8194     The following timeline charts the origin and s...\n",
              "8195     Global health officials are racing to better u...\n",
              "8247     U.S. President Barack Obama visited a street m...\n",
              "8465     ALGONAC, MICH.—Parker Fox drifted out of the D...\n",
              "8481     Global health officials are racing to better u...\n",
              "8482     The following timeline charts the origin and s...\n",
              "8505     Global health officials are racing to better u...\n",
              "8506     The following timeline charts the origin and s...\n",
              "8771     In a speech weighted with America’s complicate...\n",
              "8970                                                      \n",
              "9008     The following timeline charts the origin and s...\n",
              "9009     Global health officials are racing to better u...\n",
              "9307     It’s the near future, and North Korea’s regime...\n",
              "9618     GOP leaders have unleashed a stunning level of...\n",
              "9737     Caitlyn Jenner posted a video on Wednesday (Ap...\n",
              "10479    The Democratic and Republican nominees for the...\n",
              "Name: text, dtype: object"
            ]
          },
          "metadata": {
            "tags": []
          },
          "execution_count": 25
        }
      ]
    },
    {
      "cell_type": "code",
      "metadata": {
        "id": "iwyvnZKOrCGX",
        "colab_type": "code",
        "outputId": "c5a9ff0a-e8b8-48ad-eb15-55d13d0cdec6",
        "colab": {
          "base_uri": "https://localhost:8080/",
          "height": 201
        }
      },
      "source": [
        "#Seperating Publication info, from actual text\n",
        "publisher = []\n",
        "tmp_text = []\n",
        "for idx,row in enumerate(reald.text.values):\n",
        "    if idx in unknown_publishers:\n",
        "        #Add unknown of publisher not mentioned\n",
        "        tmp_text.append(row)\n",
        "        publisher.append(\"Unknown\")\n",
        "        continue\n",
        "    record = row.split(\" -\", maxsplit=1)\n",
        "    publisher.append(record[0])\n",
        "    tmp_text.append(record[1])\n",
        "\n",
        "#Replace existing text column with new text\n",
        "#add seperate column for publication info in case we want to use it later\n",
        "reald[\"source\"] = publisher\n",
        "reald[\"text\"] = tmp_text\n",
        "\n",
        "del publisher, tmp_text, record, unknown_publishers\n",
        "reald.head()"
      ],
      "execution_count": 26,
      "outputs": [
        {
          "output_type": "execute_result",
          "data": {
            "text/html": [
              "<div>\n",
              "<style scoped>\n",
              "    .dataframe tbody tr th:only-of-type {\n",
              "        vertical-align: middle;\n",
              "    }\n",
              "\n",
              "    .dataframe tbody tr th {\n",
              "        vertical-align: top;\n",
              "    }\n",
              "\n",
              "    .dataframe thead th {\n",
              "        text-align: right;\n",
              "    }\n",
              "</style>\n",
              "<table border=\"1\" class=\"dataframe\">\n",
              "  <thead>\n",
              "    <tr style=\"text-align: right;\">\n",
              "      <th></th>\n",
              "      <th>title</th>\n",
              "      <th>text</th>\n",
              "      <th>subject</th>\n",
              "      <th>date</th>\n",
              "      <th>source</th>\n",
              "    </tr>\n",
              "  </thead>\n",
              "  <tbody>\n",
              "    <tr>\n",
              "      <th>0</th>\n",
              "      <td>As U.S. budget fight looms, Republicans flip t...</td>\n",
              "      <td>The head of a conservative Republican faction...</td>\n",
              "      <td>politicsNews</td>\n",
              "      <td>December 31, 2017</td>\n",
              "      <td>WASHINGTON (Reuters)</td>\n",
              "    </tr>\n",
              "    <tr>\n",
              "      <th>1</th>\n",
              "      <td>U.S. military to accept transgender recruits o...</td>\n",
              "      <td>Transgender people will be allowed for the fi...</td>\n",
              "      <td>politicsNews</td>\n",
              "      <td>December 29, 2017</td>\n",
              "      <td>WASHINGTON (Reuters)</td>\n",
              "    </tr>\n",
              "    <tr>\n",
              "      <th>2</th>\n",
              "      <td>Senior U.S. Republican senator: 'Let Mr. Muell...</td>\n",
              "      <td>The special counsel investigation of links be...</td>\n",
              "      <td>politicsNews</td>\n",
              "      <td>December 31, 2017</td>\n",
              "      <td>WASHINGTON (Reuters)</td>\n",
              "    </tr>\n",
              "    <tr>\n",
              "      <th>3</th>\n",
              "      <td>FBI Russia probe helped by Australian diplomat...</td>\n",
              "      <td>Trump campaign adviser George Papadopoulos to...</td>\n",
              "      <td>politicsNews</td>\n",
              "      <td>December 30, 2017</td>\n",
              "      <td>WASHINGTON (Reuters)</td>\n",
              "    </tr>\n",
              "    <tr>\n",
              "      <th>4</th>\n",
              "      <td>Trump wants Postal Service to charge 'much mor...</td>\n",
              "      <td>President Donald Trump called on the U.S. Pos...</td>\n",
              "      <td>politicsNews</td>\n",
              "      <td>December 29, 2017</td>\n",
              "      <td>SEATTLE/WASHINGTON (Reuters)</td>\n",
              "    </tr>\n",
              "  </tbody>\n",
              "</table>\n",
              "</div>"
            ],
            "text/plain": [
              "                                               title  ...                        source\n",
              "0  As U.S. budget fight looms, Republicans flip t...  ...          WASHINGTON (Reuters)\n",
              "1  U.S. military to accept transgender recruits o...  ...          WASHINGTON (Reuters)\n",
              "2  Senior U.S. Republican senator: 'Let Mr. Muell...  ...          WASHINGTON (Reuters)\n",
              "3  FBI Russia probe helped by Australian diplomat...  ...          WASHINGTON (Reuters)\n",
              "4  Trump wants Postal Service to charge 'much mor...  ...  SEATTLE/WASHINGTON (Reuters)\n",
              "\n",
              "[5 rows x 5 columns]"
            ]
          },
          "metadata": {
            "tags": []
          },
          "execution_count": 26
        }
      ]
    },
    {
      "cell_type": "code",
      "metadata": {
        "id": "1vmKv7uQrSjT",
        "colab_type": "code",
        "outputId": "7d76cc6b-633d-47a8-8865-8d68b350091d",
        "colab": {
          "base_uri": "https://localhost:8080/",
          "height": 35
        }
      },
      "source": [
        "#checking for rows with empty text\n",
        "[index for index,text in enumerate(reald.text.values) if str(text).strip() == '']"
      ],
      "execution_count": 27,
      "outputs": [
        {
          "output_type": "execute_result",
          "data": {
            "text/plain": [
              "[8970]"
            ]
          },
          "metadata": {
            "tags": []
          },
          "execution_count": 27
        }
      ]
    },
    {
      "cell_type": "code",
      "metadata": {
        "id": "Z795gkKqud9E",
        "colab_type": "code",
        "colab": {}
      },
      "source": [
        "#dropping this record\n",
        "reald = reald.drop(8970, axis=0)"
      ],
      "execution_count": 0,
      "outputs": []
    },
    {
      "cell_type": "code",
      "metadata": {
        "id": "54oREo2jun3-",
        "colab_type": "code",
        "outputId": "2b2a2cc4-06af-4c03-fa73-22a41e5dfad3",
        "colab": {
          "base_uri": "https://localhost:8080/",
          "height": 201
        }
      },
      "source": [
        "#renaming date column before merging with FakenewsNet dataset, and adding a class column\n",
        "reald[\"class\"]=1\n",
        "reald = reald.rename(columns={\"date\":\"publish_date\"})\n",
        "reald.head()"
      ],
      "execution_count": 29,
      "outputs": [
        {
          "output_type": "execute_result",
          "data": {
            "text/html": [
              "<div>\n",
              "<style scoped>\n",
              "    .dataframe tbody tr th:only-of-type {\n",
              "        vertical-align: middle;\n",
              "    }\n",
              "\n",
              "    .dataframe tbody tr th {\n",
              "        vertical-align: top;\n",
              "    }\n",
              "\n",
              "    .dataframe thead th {\n",
              "        text-align: right;\n",
              "    }\n",
              "</style>\n",
              "<table border=\"1\" class=\"dataframe\">\n",
              "  <thead>\n",
              "    <tr style=\"text-align: right;\">\n",
              "      <th></th>\n",
              "      <th>title</th>\n",
              "      <th>text</th>\n",
              "      <th>subject</th>\n",
              "      <th>publish_date</th>\n",
              "      <th>source</th>\n",
              "      <th>class</th>\n",
              "    </tr>\n",
              "  </thead>\n",
              "  <tbody>\n",
              "    <tr>\n",
              "      <th>0</th>\n",
              "      <td>As U.S. budget fight looms, Republicans flip t...</td>\n",
              "      <td>The head of a conservative Republican faction...</td>\n",
              "      <td>politicsNews</td>\n",
              "      <td>December 31, 2017</td>\n",
              "      <td>WASHINGTON (Reuters)</td>\n",
              "      <td>1</td>\n",
              "    </tr>\n",
              "    <tr>\n",
              "      <th>1</th>\n",
              "      <td>U.S. military to accept transgender recruits o...</td>\n",
              "      <td>Transgender people will be allowed for the fi...</td>\n",
              "      <td>politicsNews</td>\n",
              "      <td>December 29, 2017</td>\n",
              "      <td>WASHINGTON (Reuters)</td>\n",
              "      <td>1</td>\n",
              "    </tr>\n",
              "    <tr>\n",
              "      <th>2</th>\n",
              "      <td>Senior U.S. Republican senator: 'Let Mr. Muell...</td>\n",
              "      <td>The special counsel investigation of links be...</td>\n",
              "      <td>politicsNews</td>\n",
              "      <td>December 31, 2017</td>\n",
              "      <td>WASHINGTON (Reuters)</td>\n",
              "      <td>1</td>\n",
              "    </tr>\n",
              "    <tr>\n",
              "      <th>3</th>\n",
              "      <td>FBI Russia probe helped by Australian diplomat...</td>\n",
              "      <td>Trump campaign adviser George Papadopoulos to...</td>\n",
              "      <td>politicsNews</td>\n",
              "      <td>December 30, 2017</td>\n",
              "      <td>WASHINGTON (Reuters)</td>\n",
              "      <td>1</td>\n",
              "    </tr>\n",
              "    <tr>\n",
              "      <th>4</th>\n",
              "      <td>Trump wants Postal Service to charge 'much mor...</td>\n",
              "      <td>President Donald Trump called on the U.S. Pos...</td>\n",
              "      <td>politicsNews</td>\n",
              "      <td>December 29, 2017</td>\n",
              "      <td>SEATTLE/WASHINGTON (Reuters)</td>\n",
              "      <td>1</td>\n",
              "    </tr>\n",
              "  </tbody>\n",
              "</table>\n",
              "</div>"
            ],
            "text/plain": [
              "                                               title  ... class\n",
              "0  As U.S. budget fight looms, Republicans flip t...  ...     1\n",
              "1  U.S. military to accept transgender recruits o...  ...     1\n",
              "2  Senior U.S. Republican senator: 'Let Mr. Muell...  ...     1\n",
              "3  FBI Russia probe helped by Australian diplomat...  ...     1\n",
              "4  Trump wants Postal Service to charge 'much mor...  ...     1\n",
              "\n",
              "[5 rows x 6 columns]"
            ]
          },
          "metadata": {
            "tags": []
          },
          "execution_count": 29
        }
      ]
    },
    {
      "cell_type": "markdown",
      "metadata": {
        "colab_type": "text",
        "id": "cxZ2aP_Ev0Oh"
      },
      "source": [
        "## Integrating Fake-and-real-news Fake News"
      ]
    },
    {
      "cell_type": "code",
      "metadata": {
        "colab_type": "code",
        "id": "cww7UL5Hv0Or",
        "outputId": "485367ce-f93d-4de5-c7bc-8f1a63969ab0",
        "colab": {
          "base_uri": "https://localhost:8080/",
          "height": 35
        }
      },
      "source": [
        "faked = pd.read_csv('/content/drive/My Drive/CS221_Project/Fake.csv')\n",
        "faked.shape"
      ],
      "execution_count": 30,
      "outputs": [
        {
          "output_type": "execute_result",
          "data": {
            "text/plain": [
              "(23481, 4)"
            ]
          },
          "metadata": {
            "tags": []
          },
          "execution_count": 30
        }
      ]
    },
    {
      "cell_type": "code",
      "metadata": {
        "colab_type": "code",
        "id": "iaBdGqJtv0O2",
        "outputId": "704e6775-b419-4896-926f-81dd71abe59c",
        "colab": {
          "base_uri": "https://localhost:8080/",
          "height": 201
        }
      },
      "source": [
        "faked.head()"
      ],
      "execution_count": 31,
      "outputs": [
        {
          "output_type": "execute_result",
          "data": {
            "text/html": [
              "<div>\n",
              "<style scoped>\n",
              "    .dataframe tbody tr th:only-of-type {\n",
              "        vertical-align: middle;\n",
              "    }\n",
              "\n",
              "    .dataframe tbody tr th {\n",
              "        vertical-align: top;\n",
              "    }\n",
              "\n",
              "    .dataframe thead th {\n",
              "        text-align: right;\n",
              "    }\n",
              "</style>\n",
              "<table border=\"1\" class=\"dataframe\">\n",
              "  <thead>\n",
              "    <tr style=\"text-align: right;\">\n",
              "      <th></th>\n",
              "      <th>title</th>\n",
              "      <th>text</th>\n",
              "      <th>subject</th>\n",
              "      <th>date</th>\n",
              "    </tr>\n",
              "  </thead>\n",
              "  <tbody>\n",
              "    <tr>\n",
              "      <th>0</th>\n",
              "      <td>Donald Trump Sends Out Embarrassing New Year’...</td>\n",
              "      <td>Donald Trump just couldn t wish all Americans ...</td>\n",
              "      <td>News</td>\n",
              "      <td>December 31, 2017</td>\n",
              "    </tr>\n",
              "    <tr>\n",
              "      <th>1</th>\n",
              "      <td>Drunk Bragging Trump Staffer Started Russian ...</td>\n",
              "      <td>House Intelligence Committee Chairman Devin Nu...</td>\n",
              "      <td>News</td>\n",
              "      <td>December 31, 2017</td>\n",
              "    </tr>\n",
              "    <tr>\n",
              "      <th>2</th>\n",
              "      <td>Sheriff David Clarke Becomes An Internet Joke...</td>\n",
              "      <td>On Friday, it was revealed that former Milwauk...</td>\n",
              "      <td>News</td>\n",
              "      <td>December 30, 2017</td>\n",
              "    </tr>\n",
              "    <tr>\n",
              "      <th>3</th>\n",
              "      <td>Trump Is So Obsessed He Even Has Obama’s Name...</td>\n",
              "      <td>On Christmas day, Donald Trump announced that ...</td>\n",
              "      <td>News</td>\n",
              "      <td>December 29, 2017</td>\n",
              "    </tr>\n",
              "    <tr>\n",
              "      <th>4</th>\n",
              "      <td>Pope Francis Just Called Out Donald Trump Dur...</td>\n",
              "      <td>Pope Francis used his annual Christmas Day mes...</td>\n",
              "      <td>News</td>\n",
              "      <td>December 25, 2017</td>\n",
              "    </tr>\n",
              "  </tbody>\n",
              "</table>\n",
              "</div>"
            ],
            "text/plain": [
              "                                               title  ...               date\n",
              "0   Donald Trump Sends Out Embarrassing New Year’...  ...  December 31, 2017\n",
              "1   Drunk Bragging Trump Staffer Started Russian ...  ...  December 31, 2017\n",
              "2   Sheriff David Clarke Becomes An Internet Joke...  ...  December 30, 2017\n",
              "3   Trump Is So Obsessed He Even Has Obama’s Name...  ...  December 29, 2017\n",
              "4   Pope Francis Just Called Out Donald Trump Dur...  ...  December 25, 2017\n",
              "\n",
              "[5 rows x 4 columns]"
            ]
          },
          "metadata": {
            "tags": []
          },
          "execution_count": 31
        }
      ]
    },
    {
      "cell_type": "code",
      "metadata": {
        "colab_type": "code",
        "id": "tTm8NrtNv0O7",
        "outputId": "297d2bb8-b418-41cc-dd81-672f3bb1502b",
        "colab": {
          "base_uri": "https://localhost:8080/",
          "height": 148
        }
      },
      "source": [
        "for key,count in faked.subject.value_counts().iteritems():\n",
        "    print(\"{}:\\t{}\".format(key, count))\n",
        "    \n",
        "print(\"Total Records:\\t{}\".format(faked.shape[0]))"
      ],
      "execution_count": 32,
      "outputs": [
        {
          "output_type": "stream",
          "text": [
            "News:\t9050\n",
            "politics:\t6841\n",
            "left-news:\t4459\n",
            "Government News:\t1570\n",
            "US_News:\t783\n",
            "Middle-east:\t778\n",
            "Total Records:\t23481\n"
          ],
          "name": "stdout"
        }
      ]
    },
    {
      "cell_type": "code",
      "metadata": {
        "colab_type": "code",
        "id": "PtlIoTkMv0PA",
        "outputId": "89765efc-b29e-4b15-f35e-6edc11bd3386",
        "colab": {
          "base_uri": "https://localhost:8080/",
          "height": 396
        }
      },
      "source": [
        "plt.figure(figsize=(20,5))\n",
        "chart = sns.countplot(\"subject\", data=faked)\n",
        "chart.set_xticklabels(chart.get_xticklabels(), rotation=45)\n",
        "plt.show()"
      ],
      "execution_count": 33,
      "outputs": [
        {
          "output_type": "display_data",
          "data": {
            "image/png": "[encoded data removed]",
            "text/plain": [
              "<Figure size 1440x360 with 1 Axes>"
            ]
          },
          "metadata": {
            "tags": [],
            "needs_background": "light"
          }
        }
      ]
    },
    {
      "cell_type": "code",
      "metadata": {
        "colab_type": "code",
        "id": "_HS2tTsUv0PQ",
        "outputId": "dfb444d7-604b-4bcd-97b5-29e42b43c812",
        "colab": {
          "base_uri": "https://localhost:8080/",
          "height": 219
        }
      },
      "source": [
        "#checking for rows with empty text\n",
        "empty_faked_index = [index for index,text in enumerate(faked.text.values) if str(text).strip() == '']\n",
        "print(\"No of empty rows: {}\".format(len(empty_faked_index)))\n",
        "faked.iloc[empty_faked_index].tail()"
      ],
      "execution_count": 34,
      "outputs": [
        {
          "output_type": "stream",
          "text": [
            "No of empty rows: 630\n"
          ],
          "name": "stdout"
        },
        {
          "output_type": "execute_result",
          "data": {
            "text/html": [
              "<div>\n",
              "<style scoped>\n",
              "    .dataframe tbody tr th:only-of-type {\n",
              "        vertical-align: middle;\n",
              "    }\n",
              "\n",
              "    .dataframe tbody tr th {\n",
              "        vertical-align: top;\n",
              "    }\n",
              "\n",
              "    .dataframe thead th {\n",
              "        text-align: right;\n",
              "    }\n",
              "</style>\n",
              "<table border=\"1\" class=\"dataframe\">\n",
              "  <thead>\n",
              "    <tr style=\"text-align: right;\">\n",
              "      <th></th>\n",
              "      <th>title</th>\n",
              "      <th>text</th>\n",
              "      <th>subject</th>\n",
              "      <th>date</th>\n",
              "    </tr>\n",
              "  </thead>\n",
              "  <tbody>\n",
              "    <tr>\n",
              "      <th>21816</th>\n",
              "      <td>BALTIMORE BURNS: MARYLAND GOVERNOR BRINGS IN N...</td>\n",
              "      <td></td>\n",
              "      <td>left-news</td>\n",
              "      <td>Apr 27, 2015</td>\n",
              "    </tr>\n",
              "    <tr>\n",
              "      <th>21826</th>\n",
              "      <td>FULL VIDEO: THE BLOCKBUSTER INVESTIGATION INTO...</td>\n",
              "      <td></td>\n",
              "      <td>left-news</td>\n",
              "      <td>Apr 25, 2015</td>\n",
              "    </tr>\n",
              "    <tr>\n",
              "      <th>21827</th>\n",
              "      <td>(VIDEO) HILLARY CLINTON: RELIGIOUS BELIEFS MUS...</td>\n",
              "      <td></td>\n",
              "      <td>left-news</td>\n",
              "      <td>Apr 25, 2015</td>\n",
              "    </tr>\n",
              "    <tr>\n",
              "      <th>21857</th>\n",
              "      <td>(VIDEO)ICE PROTECTING OBAMA: WON’T RELEASE NAM...</td>\n",
              "      <td></td>\n",
              "      <td>left-news</td>\n",
              "      <td>Apr 14, 2015</td>\n",
              "    </tr>\n",
              "    <tr>\n",
              "      <th>21873</th>\n",
              "      <td>(VIDEO) HYSTERICAL SNL TAKE ON HILLARY’S ANNOU...</td>\n",
              "      <td></td>\n",
              "      <td>left-news</td>\n",
              "      <td>Apr 12, 2015</td>\n",
              "    </tr>\n",
              "  </tbody>\n",
              "</table>\n",
              "</div>"
            ],
            "text/plain": [
              "                                                   title  ...          date\n",
              "21816  BALTIMORE BURNS: MARYLAND GOVERNOR BRINGS IN N...  ...  Apr 27, 2015\n",
              "21826  FULL VIDEO: THE BLOCKBUSTER INVESTIGATION INTO...  ...  Apr 25, 2015\n",
              "21827  (VIDEO) HILLARY CLINTON: RELIGIOUS BELIEFS MUS...  ...  Apr 25, 2015\n",
              "21857  (VIDEO)ICE PROTECTING OBAMA: WON’T RELEASE NAM...  ...  Apr 14, 2015\n",
              "21873  (VIDEO) HYSTERICAL SNL TAKE ON HILLARY’S ANNOU...  ...  Apr 12, 2015\n",
              "\n",
              "[5 rows x 4 columns]"
            ]
          },
          "metadata": {
            "tags": []
          },
          "execution_count": 34
        }
      ]
    },
    {
      "cell_type": "code",
      "metadata": {
        "colab_type": "code",
        "id": "UNNSiW8lv0PU",
        "outputId": "2ea2d9d4-953f-4d79-9a04-e3575aee6997",
        "colab": {
          "base_uri": "https://localhost:8080/",
          "height": 35
        }
      },
      "source": [
        "#dropping this record\n",
        "for i in empty_faked_index:\n",
        "  faked = faked.drop(i, axis=0)\n",
        "\n",
        "faked.shape"
      ],
      "execution_count": 35,
      "outputs": [
        {
          "output_type": "execute_result",
          "data": {
            "text/plain": [
              "(22851, 4)"
            ]
          },
          "metadata": {
            "tags": []
          },
          "execution_count": 35
        }
      ]
    },
    {
      "cell_type": "markdown",
      "metadata": {
        "id": "gbO_1YMj3Krx",
        "colab_type": "text"
      },
      "source": [
        "Removing polluting expressions in both title and text columns"
      ]
    },
    {
      "cell_type": "code",
      "metadata": {
        "id": "RE1hka7j3KMq",
        "colab_type": "code",
        "colab": {}
      },
      "source": [
        "pollution_faked = [\"(VIDEO)\", \"Photo by\", \"/Getty Images\", \"Featured image\", \"pic.twitter.com\"]\n",
        "for i in pollution_faked:\n",
        "    faked['title'] = faked['title'].str.replace(i , '')\n",
        "    faked['text'] = faked['text'].str.replace(i , '')"
      ],
      "execution_count": 0,
      "outputs": []
    },
    {
      "cell_type": "code",
      "metadata": {
        "colab_type": "code",
        "id": "Jn6u0Af9v0PY",
        "outputId": "2027c7bc-bdab-4fd6-af2a-6478dd436905",
        "colab": {
          "base_uri": "https://localhost:8080/",
          "height": 201
        }
      },
      "source": [
        "#renaming date column before merging with FakenewsNet dataset, adding a class column and a source one set to \"Unknown\"\n",
        "faked[\"class\"]=0\n",
        "faked[\"source\"]=\"Unknown\"\n",
        "faked = faked.rename(columns={\"date\":\"publish_date\"})\n",
        "faked.head()"
      ],
      "execution_count": 37,
      "outputs": [
        {
          "output_type": "execute_result",
          "data": {
            "text/html": [
              "<div>\n",
              "<style scoped>\n",
              "    .dataframe tbody tr th:only-of-type {\n",
              "        vertical-align: middle;\n",
              "    }\n",
              "\n",
              "    .dataframe tbody tr th {\n",
              "        vertical-align: top;\n",
              "    }\n",
              "\n",
              "    .dataframe thead th {\n",
              "        text-align: right;\n",
              "    }\n",
              "</style>\n",
              "<table border=\"1\" class=\"dataframe\">\n",
              "  <thead>\n",
              "    <tr style=\"text-align: right;\">\n",
              "      <th></th>\n",
              "      <th>title</th>\n",
              "      <th>text</th>\n",
              "      <th>subject</th>\n",
              "      <th>publish_date</th>\n",
              "      <th>class</th>\n",
              "      <th>source</th>\n",
              "    </tr>\n",
              "  </thead>\n",
              "  <tbody>\n",
              "    <tr>\n",
              "      <th>0</th>\n",
              "      <td>Donald Trump Sends Out Embarrassing New Year’...</td>\n",
              "      <td>Donald Trump just couldn t wish all Americans ...</td>\n",
              "      <td>News</td>\n",
              "      <td>December 31, 2017</td>\n",
              "      <td>0</td>\n",
              "      <td>Unknown</td>\n",
              "    </tr>\n",
              "    <tr>\n",
              "      <th>1</th>\n",
              "      <td>Drunk Bragging Trump Staffer Started Russian ...</td>\n",
              "      <td>House Intelligence Committee Chairman Devin Nu...</td>\n",
              "      <td>News</td>\n",
              "      <td>December 31, 2017</td>\n",
              "      <td>0</td>\n",
              "      <td>Unknown</td>\n",
              "    </tr>\n",
              "    <tr>\n",
              "      <th>2</th>\n",
              "      <td>Sheriff David Clarke Becomes An Internet Joke...</td>\n",
              "      <td>On Friday, it was revealed that former Milwauk...</td>\n",
              "      <td>News</td>\n",
              "      <td>December 30, 2017</td>\n",
              "      <td>0</td>\n",
              "      <td>Unknown</td>\n",
              "    </tr>\n",
              "    <tr>\n",
              "      <th>3</th>\n",
              "      <td>Trump Is So Obsessed He Even Has Obama’s Name...</td>\n",
              "      <td>On Christmas day, Donald Trump announced that ...</td>\n",
              "      <td>News</td>\n",
              "      <td>December 29, 2017</td>\n",
              "      <td>0</td>\n",
              "      <td>Unknown</td>\n",
              "    </tr>\n",
              "    <tr>\n",
              "      <th>4</th>\n",
              "      <td>Pope Francis Just Called Out Donald Trump Dur...</td>\n",
              "      <td>Pope Francis used his annual Christmas Day mes...</td>\n",
              "      <td>News</td>\n",
              "      <td>December 25, 2017</td>\n",
              "      <td>0</td>\n",
              "      <td>Unknown</td>\n",
              "    </tr>\n",
              "  </tbody>\n",
              "</table>\n",
              "</div>"
            ],
            "text/plain": [
              "                                               title  ...   source\n",
              "0   Donald Trump Sends Out Embarrassing New Year’...  ...  Unknown\n",
              "1   Drunk Bragging Trump Staffer Started Russian ...  ...  Unknown\n",
              "2   Sheriff David Clarke Becomes An Internet Joke...  ...  Unknown\n",
              "3   Trump Is So Obsessed He Even Has Obama’s Name...  ...  Unknown\n",
              "4   Pope Francis Just Called Out Donald Trump Dur...  ...  Unknown\n",
              "\n",
              "[5 rows x 6 columns]"
            ]
          },
          "metadata": {
            "tags": []
          },
          "execution_count": 37
        }
      ]
    },
    {
      "cell_type": "markdown",
      "metadata": {
        "colab_type": "text",
        "id": "NbVFsHswybJD"
      },
      "source": [
        "## Merging all 4 datasets into one"
      ]
    },
    {
      "cell_type": "markdown",
      "metadata": {
        "id": "3gEkDZy74wHk",
        "colab_type": "text"
      },
      "source": [
        "**Baseline**: merge title and text, and keep only the resulting value along with the class"
      ]
    },
    {
      "cell_type": "code",
      "metadata": {
        "id": "BFCd1ulp1u1v",
        "colab_type": "code",
        "outputId": "b6800327-f5b8-4caf-8982-a94cd5c76a1c",
        "colab": {
          "base_uri": "https://localhost:8080/",
          "height": 201
        }
      },
      "source": [
        "bfreal_short = bfreal[[\"title\", \"text\",\"class\"]]\n",
        "bfreal_short.head()"
      ],
      "execution_count": 38,
      "outputs": [
        {
          "output_type": "execute_result",
          "data": {
            "text/html": [
              "<div>\n",
              "<style scoped>\n",
              "    .dataframe tbody tr th:only-of-type {\n",
              "        vertical-align: middle;\n",
              "    }\n",
              "\n",
              "    .dataframe tbody tr th {\n",
              "        vertical-align: top;\n",
              "    }\n",
              "\n",
              "    .dataframe thead th {\n",
              "        text-align: right;\n",
              "    }\n",
              "</style>\n",
              "<table border=\"1\" class=\"dataframe\">\n",
              "  <thead>\n",
              "    <tr style=\"text-align: right;\">\n",
              "      <th></th>\n",
              "      <th>title</th>\n",
              "      <th>text</th>\n",
              "      <th>class</th>\n",
              "    </tr>\n",
              "  </thead>\n",
              "  <tbody>\n",
              "    <tr>\n",
              "      <th>0</th>\n",
              "      <td>Another Terrorist Attack in NYC…Why Are we STI...</td>\n",
              "      <td>On Saturday, September 17 at 8:30 pm EST, an e...</td>\n",
              "      <td>1</td>\n",
              "    </tr>\n",
              "    <tr>\n",
              "      <th>1</th>\n",
              "      <td>Donald Trump: Drugs a 'Very, Very Big Factor' ...</td>\n",
              "      <td>Less than a day after protests over the police...</td>\n",
              "      <td>1</td>\n",
              "    </tr>\n",
              "    <tr>\n",
              "      <th>2</th>\n",
              "      <td>Obama To UN: ‘Giving Up Liberty, Enhances Secu...</td>\n",
              "      <td>Obama To UN: ‘Giving Up Liberty, Enhances Secu...</td>\n",
              "      <td>1</td>\n",
              "    </tr>\n",
              "    <tr>\n",
              "      <th>3</th>\n",
              "      <td>Trump vs. Clinton: A Fundamental Clash over Ho...</td>\n",
              "      <td>Getty Images Wealth Of Nations Trump vs. Clint...</td>\n",
              "      <td>1</td>\n",
              "    </tr>\n",
              "    <tr>\n",
              "      <th>4</th>\n",
              "      <td>President Obama Vetoes 9/11 Victims Bill, Sett...</td>\n",
              "      <td>President Obama today vetoed a bill that would...</td>\n",
              "      <td>1</td>\n",
              "    </tr>\n",
              "  </tbody>\n",
              "</table>\n",
              "</div>"
            ],
            "text/plain": [
              "                                               title  ... class\n",
              "0  Another Terrorist Attack in NYC…Why Are we STI...  ...     1\n",
              "1  Donald Trump: Drugs a 'Very, Very Big Factor' ...  ...     1\n",
              "2  Obama To UN: ‘Giving Up Liberty, Enhances Secu...  ...     1\n",
              "3  Trump vs. Clinton: A Fundamental Clash over Ho...  ...     1\n",
              "4  President Obama Vetoes 9/11 Victims Bill, Sett...  ...     1\n",
              "\n",
              "[5 rows x 3 columns]"
            ]
          },
          "metadata": {
            "tags": []
          },
          "execution_count": 38
        }
      ]
    },
    {
      "cell_type": "code",
      "metadata": {
        "id": "4ZThA_As2AwD",
        "colab_type": "code",
        "outputId": "f713879c-3b08-4366-acbb-32e429a2400e",
        "colab": {
          "base_uri": "https://localhost:8080/",
          "height": 201
        }
      },
      "source": [
        "bffake_short = bffake[[\"title\", \"text\",\"class\"]]\n",
        "bffake_short.head()"
      ],
      "execution_count": 39,
      "outputs": [
        {
          "output_type": "execute_result",
          "data": {
            "text/html": [
              "<div>\n",
              "<style scoped>\n",
              "    .dataframe tbody tr th:only-of-type {\n",
              "        vertical-align: middle;\n",
              "    }\n",
              "\n",
              "    .dataframe tbody tr th {\n",
              "        vertical-align: top;\n",
              "    }\n",
              "\n",
              "    .dataframe thead th {\n",
              "        text-align: right;\n",
              "    }\n",
              "</style>\n",
              "<table border=\"1\" class=\"dataframe\">\n",
              "  <thead>\n",
              "    <tr style=\"text-align: right;\">\n",
              "      <th></th>\n",
              "      <th>title</th>\n",
              "      <th>text</th>\n",
              "      <th>class</th>\n",
              "    </tr>\n",
              "  </thead>\n",
              "  <tbody>\n",
              "    <tr>\n",
              "      <th>0</th>\n",
              "      <td>Proof The Mainstream Media Is Manipulating The...</td>\n",
              "      <td>I woke up this morning to find a variation of ...</td>\n",
              "      <td>0</td>\n",
              "    </tr>\n",
              "    <tr>\n",
              "      <th>1</th>\n",
              "      <td>Charity: Clinton Foundation Distributed “Water...</td>\n",
              "      <td>Former President Bill Clinton and his Clinton ...</td>\n",
              "      <td>0</td>\n",
              "    </tr>\n",
              "    <tr>\n",
              "      <th>2</th>\n",
              "      <td>A Hillary Clinton Administration May be Entire...</td>\n",
              "      <td>After collapsing just before trying to step in...</td>\n",
              "      <td>0</td>\n",
              "    </tr>\n",
              "    <tr>\n",
              "      <th>3</th>\n",
              "      <td>Trump’s Latest Campaign Promise May Be His Mos...</td>\n",
              "      <td>Donald Trump is, well, deplorable. He’s sugges...</td>\n",
              "      <td>0</td>\n",
              "    </tr>\n",
              "    <tr>\n",
              "      <th>4</th>\n",
              "      <td>Website is Down For Maintenance</td>\n",
              "      <td>Website is Down For Maintenance</td>\n",
              "      <td>0</td>\n",
              "    </tr>\n",
              "  </tbody>\n",
              "</table>\n",
              "</div>"
            ],
            "text/plain": [
              "                                               title  ... class\n",
              "0  Proof The Mainstream Media Is Manipulating The...  ...     0\n",
              "1  Charity: Clinton Foundation Distributed “Water...  ...     0\n",
              "2  A Hillary Clinton Administration May be Entire...  ...     0\n",
              "3  Trump’s Latest Campaign Promise May Be His Mos...  ...     0\n",
              "4                    Website is Down For Maintenance  ...     0\n",
              "\n",
              "[5 rows x 3 columns]"
            ]
          },
          "metadata": {
            "tags": []
          },
          "execution_count": 39
        }
      ]
    },
    {
      "cell_type": "code",
      "metadata": {
        "id": "ezIQyAJT2Wh4",
        "colab_type": "code",
        "outputId": "419bd677-056f-4c5b-f582-128b60eaee83",
        "colab": {
          "base_uri": "https://localhost:8080/",
          "height": 201
        }
      },
      "source": [
        "reald_short = reald[[\"title\", \"text\",\"class\"]]\n",
        "reald_short.head()"
      ],
      "execution_count": 40,
      "outputs": [
        {
          "output_type": "execute_result",
          "data": {
            "text/html": [
              "<div>\n",
              "<style scoped>\n",
              "    .dataframe tbody tr th:only-of-type {\n",
              "        vertical-align: middle;\n",
              "    }\n",
              "\n",
              "    .dataframe tbody tr th {\n",
              "        vertical-align: top;\n",
              "    }\n",
              "\n",
              "    .dataframe thead th {\n",
              "        text-align: right;\n",
              "    }\n",
              "</style>\n",
              "<table border=\"1\" class=\"dataframe\">\n",
              "  <thead>\n",
              "    <tr style=\"text-align: right;\">\n",
              "      <th></th>\n",
              "      <th>title</th>\n",
              "      <th>text</th>\n",
              "      <th>class</th>\n",
              "    </tr>\n",
              "  </thead>\n",
              "  <tbody>\n",
              "    <tr>\n",
              "      <th>0</th>\n",
              "      <td>As U.S. budget fight looms, Republicans flip t...</td>\n",
              "      <td>The head of a conservative Republican faction...</td>\n",
              "      <td>1</td>\n",
              "    </tr>\n",
              "    <tr>\n",
              "      <th>1</th>\n",
              "      <td>U.S. military to accept transgender recruits o...</td>\n",
              "      <td>Transgender people will be allowed for the fi...</td>\n",
              "      <td>1</td>\n",
              "    </tr>\n",
              "    <tr>\n",
              "      <th>2</th>\n",
              "      <td>Senior U.S. Republican senator: 'Let Mr. Muell...</td>\n",
              "      <td>The special counsel investigation of links be...</td>\n",
              "      <td>1</td>\n",
              "    </tr>\n",
              "    <tr>\n",
              "      <th>3</th>\n",
              "      <td>FBI Russia probe helped by Australian diplomat...</td>\n",
              "      <td>Trump campaign adviser George Papadopoulos to...</td>\n",
              "      <td>1</td>\n",
              "    </tr>\n",
              "    <tr>\n",
              "      <th>4</th>\n",
              "      <td>Trump wants Postal Service to charge 'much mor...</td>\n",
              "      <td>President Donald Trump called on the U.S. Pos...</td>\n",
              "      <td>1</td>\n",
              "    </tr>\n",
              "  </tbody>\n",
              "</table>\n",
              "</div>"
            ],
            "text/plain": [
              "                                               title  ... class\n",
              "0  As U.S. budget fight looms, Republicans flip t...  ...     1\n",
              "1  U.S. military to accept transgender recruits o...  ...     1\n",
              "2  Senior U.S. Republican senator: 'Let Mr. Muell...  ...     1\n",
              "3  FBI Russia probe helped by Australian diplomat...  ...     1\n",
              "4  Trump wants Postal Service to charge 'much mor...  ...     1\n",
              "\n",
              "[5 rows x 3 columns]"
            ]
          },
          "metadata": {
            "tags": []
          },
          "execution_count": 40
        }
      ]
    },
    {
      "cell_type": "code",
      "metadata": {
        "id": "GOR3yhwW2bxM",
        "colab_type": "code",
        "outputId": "5fdd9305-4ae0-4f98-d06f-9d30c6ab02bc",
        "colab": {
          "base_uri": "https://localhost:8080/",
          "height": 201
        }
      },
      "source": [
        "faked_short = faked[[\"title\", \"text\",\"class\"]]\n",
        "faked_short.tail()"
      ],
      "execution_count": 41,
      "outputs": [
        {
          "output_type": "execute_result",
          "data": {
            "text/html": [
              "<div>\n",
              "<style scoped>\n",
              "    .dataframe tbody tr th:only-of-type {\n",
              "        vertical-align: middle;\n",
              "    }\n",
              "\n",
              "    .dataframe tbody tr th {\n",
              "        vertical-align: top;\n",
              "    }\n",
              "\n",
              "    .dataframe thead th {\n",
              "        text-align: right;\n",
              "    }\n",
              "</style>\n",
              "<table border=\"1\" class=\"dataframe\">\n",
              "  <thead>\n",
              "    <tr style=\"text-align: right;\">\n",
              "      <th></th>\n",
              "      <th>title</th>\n",
              "      <th>text</th>\n",
              "      <th>class</th>\n",
              "    </tr>\n",
              "  </thead>\n",
              "  <tbody>\n",
              "    <tr>\n",
              "      <th>23476</th>\n",
              "      <td>McPain: John McCain Furious That Iran Treated ...</td>\n",
              "      <td>21st Century Wire says As 21WIRE reported earl...</td>\n",
              "      <td>0</td>\n",
              "    </tr>\n",
              "    <tr>\n",
              "      <th>23477</th>\n",
              "      <td>JUSTICE? Yahoo Settles E-mail Privacy Class-ac...</td>\n",
              "      <td>21st Century Wire says It s a familiar theme. ...</td>\n",
              "      <td>0</td>\n",
              "    </tr>\n",
              "    <tr>\n",
              "      <th>23478</th>\n",
              "      <td>Sunnistan: US and Allied ‘Safe Zone’ Plan to T...</td>\n",
              "      <td>Patrick Henningsen  21st Century WireRemember ...</td>\n",
              "      <td>0</td>\n",
              "    </tr>\n",
              "    <tr>\n",
              "      <th>23479</th>\n",
              "      <td>How to Blow $700 Million: Al Jazeera America F...</td>\n",
              "      <td>21st Century Wire says Al Jazeera America will...</td>\n",
              "      <td>0</td>\n",
              "    </tr>\n",
              "    <tr>\n",
              "      <th>23480</th>\n",
              "      <td>10 U.S. Navy Sailors Held by Iranian Military ...</td>\n",
              "      <td>21st Century Wire says As 21WIRE predicted in ...</td>\n",
              "      <td>0</td>\n",
              "    </tr>\n",
              "  </tbody>\n",
              "</table>\n",
              "</div>"
            ],
            "text/plain": [
              "                                                   title  ... class\n",
              "23476  McPain: John McCain Furious That Iran Treated ...  ...     0\n",
              "23477  JUSTICE? Yahoo Settles E-mail Privacy Class-ac...  ...     0\n",
              "23478  Sunnistan: US and Allied ‘Safe Zone’ Plan to T...  ...     0\n",
              "23479  How to Blow $700 Million: Al Jazeera America F...  ...     0\n",
              "23480  10 U.S. Navy Sailors Held by Iranian Military ...  ...     0\n",
              "\n",
              "[5 rows x 3 columns]"
            ]
          },
          "metadata": {
            "tags": []
          },
          "execution_count": 41
        }
      ]
    },
    {
      "cell_type": "code",
      "metadata": {
        "id": "RJ7AjASB2jKW",
        "colab_type": "code",
        "outputId": "03450c04-7428-42bc-942b-d657afc41c94",
        "colab": {
          "base_uri": "https://localhost:8080/",
          "height": 35
        }
      },
      "source": [
        "dataset = bfreal_short.append([bffake_short, reald_short, faked_short], ignore_index=True)\n",
        "dataset.shape"
      ],
      "execution_count": 42,
      "outputs": [
        {
          "output_type": "execute_result",
          "data": {
            "text/plain": [
              "(44449, 3)"
            ]
          },
          "metadata": {
            "tags": []
          },
          "execution_count": 42
        }
      ]
    },
    {
      "cell_type": "code",
      "metadata": {
        "id": "S4I1U-843rXX",
        "colab_type": "code",
        "outputId": "4509a5c5-aba1-4c4e-b749-a2c387100866",
        "colab": {
          "base_uri": "https://localhost:8080/",
          "height": 201
        }
      },
      "source": [
        "#Combining Title and Text\n",
        "dataset[\"text\"] = dataset[\"title\"] + \" \" + dataset[\"text\"]\n",
        "dataset = dataset.drop([\"title\"], axis=1)\n",
        "dataset.head()"
      ],
      "execution_count": 43,
      "outputs": [
        {
          "output_type": "execute_result",
          "data": {
            "text/html": [
              "<div>\n",
              "<style scoped>\n",
              "    .dataframe tbody tr th:only-of-type {\n",
              "        vertical-align: middle;\n",
              "    }\n",
              "\n",
              "    .dataframe tbody tr th {\n",
              "        vertical-align: top;\n",
              "    }\n",
              "\n",
              "    .dataframe thead th {\n",
              "        text-align: right;\n",
              "    }\n",
              "</style>\n",
              "<table border=\"1\" class=\"dataframe\">\n",
              "  <thead>\n",
              "    <tr style=\"text-align: right;\">\n",
              "      <th></th>\n",
              "      <th>text</th>\n",
              "      <th>class</th>\n",
              "    </tr>\n",
              "  </thead>\n",
              "  <tbody>\n",
              "    <tr>\n",
              "      <th>0</th>\n",
              "      <td>Another Terrorist Attack in NYC…Why Are we STI...</td>\n",
              "      <td>1</td>\n",
              "    </tr>\n",
              "    <tr>\n",
              "      <th>1</th>\n",
              "      <td>Donald Trump: Drugs a 'Very, Very Big Factor' ...</td>\n",
              "      <td>1</td>\n",
              "    </tr>\n",
              "    <tr>\n",
              "      <th>2</th>\n",
              "      <td>Obama To UN: ‘Giving Up Liberty, Enhances Secu...</td>\n",
              "      <td>1</td>\n",
              "    </tr>\n",
              "    <tr>\n",
              "      <th>3</th>\n",
              "      <td>Trump vs. Clinton: A Fundamental Clash over Ho...</td>\n",
              "      <td>1</td>\n",
              "    </tr>\n",
              "    <tr>\n",
              "      <th>4</th>\n",
              "      <td>President Obama Vetoes 9/11 Victims Bill, Sett...</td>\n",
              "      <td>1</td>\n",
              "    </tr>\n",
              "  </tbody>\n",
              "</table>\n",
              "</div>"
            ],
            "text/plain": [
              "                                                text  class\n",
              "0  Another Terrorist Attack in NYC…Why Are we STI...      1\n",
              "1  Donald Trump: Drugs a 'Very, Very Big Factor' ...      1\n",
              "2  Obama To UN: ‘Giving Up Liberty, Enhances Secu...      1\n",
              "3  Trump vs. Clinton: A Fundamental Clash over Ho...      1\n",
              "4  President Obama Vetoes 9/11 Victims Bill, Sett...      1"
            ]
          },
          "metadata": {
            "tags": []
          },
          "execution_count": 43
        }
      ]
    },
    {
      "cell_type": "code",
      "metadata": {
        "id": "jZuAlsnX4MyU",
        "colab_type": "code",
        "outputId": "9432e79b-6cf5-40dd-8b9b-85c65acc81cd",
        "colab": {
          "base_uri": "https://localhost:8080/",
          "height": 201
        }
      },
      "source": [
        "dataset.tail()"
      ],
      "execution_count": 44,
      "outputs": [
        {
          "output_type": "execute_result",
          "data": {
            "text/html": [
              "<div>\n",
              "<style scoped>\n",
              "    .dataframe tbody tr th:only-of-type {\n",
              "        vertical-align: middle;\n",
              "    }\n",
              "\n",
              "    .dataframe tbody tr th {\n",
              "        vertical-align: top;\n",
              "    }\n",
              "\n",
              "    .dataframe thead th {\n",
              "        text-align: right;\n",
              "    }\n",
              "</style>\n",
              "<table border=\"1\" class=\"dataframe\">\n",
              "  <thead>\n",
              "    <tr style=\"text-align: right;\">\n",
              "      <th></th>\n",
              "      <th>text</th>\n",
              "      <th>class</th>\n",
              "    </tr>\n",
              "  </thead>\n",
              "  <tbody>\n",
              "    <tr>\n",
              "      <th>44444</th>\n",
              "      <td>McPain: John McCain Furious That Iran Treated ...</td>\n",
              "      <td>0</td>\n",
              "    </tr>\n",
              "    <tr>\n",
              "      <th>44445</th>\n",
              "      <td>JUSTICE? Yahoo Settles E-mail Privacy Class-ac...</td>\n",
              "      <td>0</td>\n",
              "    </tr>\n",
              "    <tr>\n",
              "      <th>44446</th>\n",
              "      <td>Sunnistan: US and Allied ‘Safe Zone’ Plan to T...</td>\n",
              "      <td>0</td>\n",
              "    </tr>\n",
              "    <tr>\n",
              "      <th>44447</th>\n",
              "      <td>How to Blow $700 Million: Al Jazeera America F...</td>\n",
              "      <td>0</td>\n",
              "    </tr>\n",
              "    <tr>\n",
              "      <th>44448</th>\n",
              "      <td>10 U.S. Navy Sailors Held by Iranian Military ...</td>\n",
              "      <td>0</td>\n",
              "    </tr>\n",
              "  </tbody>\n",
              "</table>\n",
              "</div>"
            ],
            "text/plain": [
              "                                                    text  class\n",
              "44444  McPain: John McCain Furious That Iran Treated ...      0\n",
              "44445  JUSTICE? Yahoo Settles E-mail Privacy Class-ac...      0\n",
              "44446  Sunnistan: US and Allied ‘Safe Zone’ Plan to T...      0\n",
              "44447  How to Blow $700 Million: Al Jazeera America F...      0\n",
              "44448  10 U.S. Navy Sailors Held by Iranian Military ...      0"
            ]
          },
          "metadata": {
            "tags": []
          },
          "execution_count": 44
        }
      ]
    },
    {
      "cell_type": "code",
      "metadata": {
        "id": "ordoXqi_W_mG",
        "colab_type": "code",
        "outputId": "bea128cf-70ca-4711-dcc2-86a60ca425d9",
        "colab": {
          "base_uri": "https://localhost:8080/",
          "height": 73
        }
      },
      "source": [
        "dataset.count()"
      ],
      "execution_count": 45,
      "outputs": [
        {
          "output_type": "execute_result",
          "data": {
            "text/plain": [
              "text     44449\n",
              "class    44449\n",
              "dtype: int64"
            ]
          },
          "metadata": {
            "tags": []
          },
          "execution_count": 45
        }
      ]
    },
    {
      "cell_type": "code",
      "metadata": {
        "id": "82Lt_XAVX6pc",
        "colab_type": "code",
        "outputId": "e96770cc-5985-4f0d-ba34-4e149dd79f53",
        "colab": {
          "base_uri": "https://localhost:8080/",
          "height": 73
        }
      },
      "source": [
        "dataset[\"class\"].value_counts()"
      ],
      "execution_count": 46,
      "outputs": [
        {
          "output_type": "execute_result",
          "data": {
            "text/plain": [
              "0    22942\n",
              "1    21507\n",
              "Name: class, dtype: int64"
            ]
          },
          "metadata": {
            "tags": []
          },
          "execution_count": 46
        }
      ]
    },
    {
      "cell_type": "code",
      "metadata": {
        "id": "rWtZUGHU2_BA",
        "colab_type": "code",
        "outputId": "5584b965-c8ed-4759-83be-77b399354e27",
        "colab": {
          "base_uri": "https://localhost:8080/",
          "height": 335
        }
      },
      "source": [
        "#Plotting total number of Fake and Real news\n",
        "plt.figure(figsize=(20,5))\n",
        "chart = sns.countplot(\"class\", data=dataset)\n",
        "chart.set_xticklabels(chart.get_xticklabels(), rotation=45)\n",
        "plt.show()"
      ],
      "execution_count": 47,
      "outputs": [
        {
          "output_type": "display_data",
          "data": {
            "image/png": "[encoded data removed]",
            "text/plain": [
              "<Figure size 1440x360 with 1 Axes>"
            ]
          },
          "metadata": {
            "tags": [],
            "needs_background": "light"
          }
        }
      ]
    },
    {
      "cell_type": "code",
      "metadata": {
        "id": "H8Y8TgkCdR3P",
        "colab_type": "code",
        "colab": {}
      },
      "source": [
        "del bfreal, bfreal_short, bffake, bffake_short, reald, reald_short, faked, faked_short"
      ],
      "execution_count": 0,
      "outputs": []
    },
    {
      "cell_type": "markdown",
      "metadata": {
        "id": "jE7FkFSzn__A",
        "colab_type": "text"
      },
      "source": [
        "# **Generating Oracle**"
      ]
    },
    {
      "cell_type": "code",
      "metadata": {
        "id": "8ZooNWUkojQR",
        "colab_type": "code",
        "colab": {}
      },
      "source": [
        "num_samples = 25\n",
        "sampled = dataset.sample(n=num_samples)\n",
        "sampled['text'].to_csv('/content/drive/My Drive/CS221_Project/oracle_data.csv', index=False)"
      ],
      "execution_count": 0,
      "outputs": []
    },
    {
      "cell_type": "markdown",
      "metadata": {
        "id": "ZRDT_AxEppXy",
        "colab_type": "text"
      },
      "source": [
        "After we've generated the file, we'd fill it out and then\n",
        "run the following:"
      ]
    },
    {
      "cell_type": "code",
      "metadata": {
        "id": "oEOiXo-BpsRl",
        "colab_type": "code",
        "outputId": "46c0014a-fc42-41c3-c07b-c6635b165e5b",
        "colab": {
          "base_uri": "https://localhost:8080/",
          "height": 92
        }
      },
      "source": [
        "sampled = pd.read_csv('/content/drive/My Drive/CS221_Project/oracle_answers.csv')\n",
        "guesses = pd.read_csv('/content/drive/My Drive/CS221_Project/oracle_data_filled_lowercase.csv')\n",
        "guesses['roland'] = pd.to_numeric(guesses['roland'])\n",
        "guesses['sathya'] = pd.to_numeric(guesses['sathya'])\n",
        "accuracy = pd.DataFrame()\n",
        "accuracy['roland'] = (sampled['class']==guesses['roland'])\n",
        "accuracy['sathya'] = (sampled['class']==guesses['sathya'])\n",
        "accuracy['max'] = (accuracy['sathya'] | accuracy['roland']) #picking the right answer if one of us chose it\n",
        "accuracy['min'] = (accuracy['sathya'] & accuracy['roland']) #picking the wrong answer if one of us chose it\n",
        "print(\"Roland accuracy: \", sum(accuracy['roland'])/num_samples)\n",
        "print(\"Sathya accuracy: \", sum(accuracy['sathya'])/num_samples)\n",
        "print(\"Maximum accuracy: \", sum(accuracy['max'])/num_samples)\n",
        "print(\"Minimum accuracy: \", sum(accuracy['min'])/num_samples)"
      ],
      "execution_count": 50,
      "outputs": [
        {
          "output_type": "stream",
          "text": [
            "Roland accuracy:  0.52\n",
            "Sathya accuracy:  0.52\n",
            "Maximum accuracy:  0.56\n",
            "Minimum accuracy:  0.48\n"
          ],
          "name": "stdout"
        }
      ]
    },
    {
      "cell_type": "markdown",
      "metadata": {
        "id": "YA_2VxcbPqn2",
        "colab_type": "text"
      },
      "source": [
        "# **Data Preprocessing**"
      ]
    },
    {
      "cell_type": "markdown",
      "metadata": {
        "id": "SjPhQLQhy3ek",
        "colab_type": "text"
      },
      "source": [
        "## Data cleaning"
      ]
    },
    {
      "cell_type": "code",
      "metadata": {
        "id": "W_6rfyv8yvdr",
        "colab_type": "code",
        "colab": {}
      },
      "source": [
        "\"\"\"\n",
        "A utility function to remove numerical characters from the text.\n",
        "\n",
        "\"\"\"\n",
        "\n",
        "def remove_nums(text):\n",
        "    text = ''.join([i for i in text if not i.isdigit()])         \n",
        "    return text\n",
        "\n",
        "\n",
        "\"\"\"\n",
        "A utility function to remove URL links from the text.\n",
        "\n",
        "\"\"\"\n",
        "\n",
        "def remove_URL(text):\n",
        "    url = re.compile(r'https?://\\S+|www\\.\\S+')\n",
        "    return url.sub(r'',text)\n",
        "\n",
        "\n",
        "\"\"\"\n",
        "A utility function to remove HTML tags from the text.\n",
        "\n",
        "\"\"\"\n",
        "\n",
        "def remove_html(text):\n",
        "    html=re.compile(r'<.*?>')\n",
        "    return html.sub(r'',text)\n",
        "\n",
        "\n",
        "\"\"\"\n",
        "A utility function to remove emojis from the text.\n",
        "\n",
        "\"\"\"\n",
        "\n",
        "def remove_emoji(text):\n",
        "    emoji_pattern = re.compile(\"[\"\n",
        "                           u\"\\U0001F600-\\U0001F64F\"  # emoticons\n",
        "                           u\"\\U0001F300-\\U0001F5FF\"  # symbols & pictographs\n",
        "                           u\"\\U0001F680-\\U0001F6FF\"  # transport & map symbols\n",
        "                           u\"\\U0001F1E0-\\U0001F1FF\"  # flags (iOS)\n",
        "                           u\"\\U00002702-\\U000027B0\"\n",
        "                           u\"\\U000024C2-\\U0001F251\"\n",
        "                           \"]+\", flags=re.UNICODE)\n",
        "    return emoji_pattern.sub(r'', text)"
      ],
      "execution_count": 0,
      "outputs": []
    },
    {
      "cell_type": "code",
      "metadata": {
        "id": "Cw5Xeu_Dy0nV",
        "colab_type": "code",
        "colab": {}
      },
      "source": [
        "dataset['text'] = dataset[\"text\"].apply(lambda x: remove_nums(x))\n",
        "dataset['text'] = dataset[\"text\"].apply(lambda x: remove_URL(x))\n",
        "dataset['text'] = dataset[\"text\"].apply(lambda x: remove_html(x))\n",
        "dataset['text'] = dataset[\"text\"].apply(lambda x: remove_emoji(x))"
      ],
      "execution_count": 0,
      "outputs": []
    },
    {
      "cell_type": "code",
      "metadata": {
        "id": "FgBR-n9rbf2R",
        "colab_type": "code",
        "colab": {}
      },
      "source": [
        "%%capture\n",
        "#!pip install spellchecker\n",
        "#!pip install indexer\n",
        "#!pip install pyspellchecker"
      ],
      "execution_count": 0,
      "outputs": []
    },
    {
      "cell_type": "code",
      "metadata": {
        "id": "XIyar2C4aBI4",
        "colab_type": "code",
        "colab": {}
      },
      "source": [
        "# OPTIONAL - VERY SLOW - Spelling correction\n",
        "\n",
        "#from spellchecker import SpellChecker\n",
        "\n",
        "#spell = SpellChecker()\n",
        "#def correct_spellings(text):\n",
        "#    corrected_text = []\n",
        "#    misspelled_words = spell.unknown(text.split())\n",
        "#    for word in text.split():\n",
        "#        if word in misspelled_words:\n",
        "#            corrected_text.append(spell.correction(word))\n",
        "#        else:\n",
        "#            corrected_text.append(word)\n",
        "#    return \" \".join(corrected_text)\n",
        "\n",
        "#dataset[\"text\"].apply(lambda text: correct_spellings(text))\n",
        "#dataset.head(10)"
      ],
      "execution_count": 0,
      "outputs": []
    },
    {
      "cell_type": "markdown",
      "metadata": {
        "id": "c08GWzm15L3c",
        "colab_type": "text"
      },
      "source": [
        "## Tokenization and stopwords removal"
      ]
    },
    {
      "cell_type": "code",
      "metadata": {
        "id": "FVqRsKO4467O",
        "colab_type": "code",
        "colab": {}
      },
      "source": [
        "y = []\n",
        "y = dataset[\"class\"].values\n",
        "#Converting X to format acceptable by gensim, removing stopwords and punctuation in the process\n",
        "stop_words = set(nltk.corpus.stopwords.words(\"english\"))\n",
        "X = []\n",
        "tokenizer = nltk.tokenize.RegexpTokenizer(r'\\w+')\n",
        "for par in dataset[\"text\"].values:\n",
        "    tmp = []\n",
        "    sentences = nltk.sent_tokenize(par)\n",
        "    for sent in sentences:\n",
        "        sent = sent.lower()\n",
        "        tokens = tokenizer.tokenize(sent)\n",
        "        filtered_words = [w.strip() for w in tokens if w not in stop_words and len(w) > 1]\n",
        "        tmp.extend(filtered_words)\n",
        "    X.append(tmp)\n",
        "\n",
        "#del dataset"
      ],
      "execution_count": 0,
      "outputs": []
    },
    {
      "cell_type": "code",
      "metadata": {
        "id": "asAzeDpzZqDD",
        "colab_type": "code",
        "outputId": "b4a97f15-0151-49d4-bf66-34bf41151b00",
        "colab": {
          "base_uri": "https://localhost:8080/",
          "height": 204
        }
      },
      "source": [
        "X[1][:10]"
      ],
      "execution_count": 56,
      "outputs": [
        {
          "output_type": "execute_result",
          "data": {
            "text/plain": [
              "['donald',\n",
              " 'trump',\n",
              " 'drugs',\n",
              " 'big',\n",
              " 'factor',\n",
              " 'charlotte',\n",
              " 'protests',\n",
              " 'less',\n",
              " 'day',\n",
              " 'protests']"
            ]
          },
          "metadata": {
            "tags": []
          },
          "execution_count": 56
        }
      ]
    },
    {
      "cell_type": "code",
      "metadata": {
        "id": "sTCSlWsAbOH2",
        "colab_type": "code",
        "outputId": "937078b8-ab27-477e-81c3-6af6c8e4c07c",
        "colab": {
          "base_uri": "https://localhost:8080/",
          "height": 35
        }
      },
      "source": [
        "#Confirming that X is a list of all news and y contains all classes\n",
        "print(len(X), len(y))"
      ],
      "execution_count": 57,
      "outputs": [
        {
          "output_type": "stream",
          "text": [
            "44449 44449\n"
          ],
          "name": "stdout"
        }
      ]
    },
    {
      "cell_type": "code",
      "metadata": {
        "id": "ANHyl6qXPiwd",
        "colab_type": "code",
        "outputId": "2a57256e-6400-46ec-9f63-f9449e28d271",
        "colab": {
          "base_uri": "https://localhost:8080/",
          "height": 35
        }
      },
      "source": [
        "#checking for rows with empty text\n",
        "empty_X_lines = [index for index,text in enumerate(X) if text == []]\n",
        "print(empty_X_lines)"
      ],
      "execution_count": 58,
      "outputs": [
        {
          "output_type": "stream",
          "text": [
            "[30956, 36727, 36728, 37030, 37031, 38550, 38551, 42838, 42839]\n"
          ],
          "name": "stdout"
        }
      ]
    },
    {
      "cell_type": "code",
      "metadata": {
        "id": "vXYiDYRHQcKg",
        "colab_type": "code",
        "outputId": "eabd608c-774e-412d-8e72-661d9dfe3853",
        "colab": {
          "base_uri": "https://localhost:8080/",
          "height": 35
        }
      },
      "source": [
        "#Dropping those lines in both X and y\n",
        "for i in reversed(empty_X_lines):\n",
        "  del X[i]\n",
        "  y = np.delete(y,i)\n",
        "\n",
        "print(len(X), len(y))"
      ],
      "execution_count": 59,
      "outputs": [
        {
          "output_type": "stream",
          "text": [
            "44440 44440\n"
          ],
          "name": "stdout"
        }
      ]
    },
    {
      "cell_type": "markdown",
      "metadata": {
        "id": "Xkw_kawJuVo0",
        "colab_type": "text"
      },
      "source": [
        "## Dataset size fine tuning"
      ]
    },
    {
      "cell_type": "code",
      "metadata": {
        "id": "Xdr5JIRbRZGo",
        "colab_type": "code",
        "colab": {}
      },
      "source": [
        "#Optional - Removing news of less than 100 words\n",
        "LOWER_BOUND = 100\n",
        "\n",
        "lower_lines = []\n",
        "lower_lines = [index for index,text in enumerate(X) if len(text)<LOWER_BOUND]\n",
        "\n",
        "print(len(lower_lines)/len(X))"
      ],
      "execution_count": 0,
      "outputs": []
    },
    {
      "cell_type": "code",
      "metadata": {
        "id": "aoE1mrgoSJls",
        "colab_type": "code",
        "colab": {}
      },
      "source": [
        "#Dropping those lines in both X and y\n",
        "for i in reversed(lower_lines):\n",
        "  del X[i]\n",
        "  y = np.delete(y,i)\n",
        "\n",
        "print(len(X), len(y))"
      ],
      "execution_count": 0,
      "outputs": []
    },
    {
      "cell_type": "code",
      "metadata": {
        "id": "caC7QYNUSTwo",
        "colab_type": "code",
        "outputId": "471f67cf-d456-4bff-a04e-2786a1e2494a",
        "colab": {
          "base_uri": "https://localhost:8080/",
          "height": 35
        }
      },
      "source": [
        "#Optional - Removing news of more than 700 words\n",
        "\n",
        "UPPER_BOUND = 700\n",
        "\n",
        "upper_lines = []\n",
        "upper_lines = [index for index, text in enumerate(X) if len(text)>UPPER_BOUND]\n",
        "print(len(upper_lines)/len(X))"
      ],
      "execution_count": 60,
      "outputs": [
        {
          "output_type": "stream",
          "text": [
            "0.019374437443744376\n"
          ],
          "name": "stdout"
        }
      ]
    },
    {
      "cell_type": "code",
      "metadata": {
        "id": "gkrIB9hgSfI5",
        "colab_type": "code",
        "outputId": "aa43e872-72b2-441f-e0ba-499147041787",
        "colab": {
          "base_uri": "https://localhost:8080/",
          "height": 35
        }
      },
      "source": [
        "#Dropping those lines in both X and y\n",
        "for i in reversed(upper_lines):\n",
        "  del X[i]\n",
        "  y = np.delete(y,i)\n",
        "\n",
        "print(len(X), len(y))"
      ],
      "execution_count": 61,
      "outputs": [
        {
          "output_type": "stream",
          "text": [
            "43579 43579\n"
          ],
          "name": "stdout"
        }
      ]
    },
    {
      "cell_type": "code",
      "metadata": {
        "id": "QTX3JzQDcOzQ",
        "colab_type": "code",
        "outputId": "440a1138-c30a-45a8-b4ef-2afe25af562a",
        "colab": {
          "base_uri": "https://localhost:8080/",
          "height": 35
        }
      },
      "source": [
        "#Identifying indexes of real and fake news\n",
        "real_idx = [i for i,v in enumerate(y) if v == 1]\n",
        "fake_idx = [i for i,v in enumerate(y) if v == 0]\n",
        "print(len(real_idx), len(fake_idx))"
      ],
      "execution_count": 62,
      "outputs": [
        {
          "output_type": "stream",
          "text": [
            "21323 22256\n"
          ],
          "name": "stdout"
        }
      ]
    },
    {
      "cell_type": "code",
      "metadata": {
        "id": "J3ACFRbkUv7j",
        "colab_type": "code",
        "colab": {}
      },
      "source": [
        "#Making these two set of indexes of equal length\n",
        "min_size = min(len(real_idx), len(fake_idx))\n",
        "real_idx = random.sample(real_idx, min_size)\n",
        "fake_idx = random.sample(fake_idx, min_size)"
      ],
      "execution_count": 0,
      "outputs": []
    },
    {
      "cell_type": "code",
      "metadata": {
        "id": "CjRmEpk3eHEx",
        "colab_type": "code",
        "outputId": "8c5a6671-8d6a-41a4-c481-de188cc0327d",
        "colab": {
          "base_uri": "https://localhost:8080/",
          "height": 35
        }
      },
      "source": [
        "X_real = []\n",
        "X_fake = []\n",
        "X_real = [X[i] for i in real_idx]\n",
        "X_fake = [X[j] for j in fake_idx]\n",
        "print(len(X_real), len(X_fake))"
      ],
      "execution_count": 64,
      "outputs": [
        {
          "output_type": "stream",
          "text": [
            "21323 21323\n"
          ],
          "name": "stdout"
        }
      ]
    },
    {
      "cell_type": "code",
      "metadata": {
        "id": "gAUAIaJb-pZh",
        "colab_type": "code",
        "outputId": "9ccc7408-02ea-48d5-fa84-f6a99c1c53ba",
        "colab": {
          "base_uri": "https://localhost:8080/",
          "height": 35
        }
      },
      "source": [
        "X = []\n",
        "y = []\n",
        "X = X_real + X_fake\n",
        "y = [1] * len(X_real) + [0] * len(X_fake)\n",
        "print(len(X), len(y))"
      ],
      "execution_count": 65,
      "outputs": [
        {
          "output_type": "stream",
          "text": [
            "42646 42646\n"
          ],
          "name": "stdout"
        }
      ]
    },
    {
      "cell_type": "markdown",
      "metadata": {
        "id": "tNSSrLShDncw",
        "colab_type": "text"
      },
      "source": [
        "## Optional - Frequent words removal"
      ]
    },
    {
      "cell_type": "code",
      "metadata": {
        "id": "8yCmHFahpUPD",
        "colab_type": "code",
        "outputId": "7a08612b-fd11-4452-9a48-f9512d65c1c7",
        "colab": {
          "base_uri": "https://localhost:8080/",
          "height": 74
        }
      },
      "source": [
        "# OPTIONAL - Removing frequent and rare words from X_real\n",
        "\n",
        "cnt_real = Counter()\n",
        "for news in X_real:\n",
        "  for word in news:\n",
        "    cnt_real[word] += 1\n",
        "\n",
        "n_rare_words = 10\n",
        "RAREWORDS_real = set([w for (w, wc) in cnt_real.most_common()[:-n_rare_words-1:-1]])\n",
        "        \n",
        "FREQWORDS_real = set([w for (w, wc) in cnt_real.most_common(15)])\n",
        "\n",
        "print('Rare words in Real dataset:', RAREWORDS_real)\n",
        "print('Frequent words in Real dataset:', FREQWORDS_real)"
      ],
      "execution_count": 66,
      "outputs": [
        {
          "output_type": "stream",
          "text": [
            "Rare words in Real dataset: {'penholder', 'bentonville', 'canovanas', 'meixell', 'enna', 'composing', 'botha', 'campion', 'juncos', 'blenders'}\n",
            "Frequent words in Real dataset: {'states', 'president', 'said', 'house', 'also', 'united', 'people', 'state', 'government', 'year', 'would', 'republican', 'new', 'told', 'trump'}\n"
          ],
          "name": "stdout"
        }
      ]
    },
    {
      "cell_type": "code",
      "metadata": {
        "id": "YAm4eT1jnNcb",
        "colab_type": "code",
        "outputId": "7e011bec-0265-42b0-f873-264c3ff77128",
        "colab": {
          "base_uri": "https://localhost:8080/",
          "height": 204
        }
      },
      "source": [
        "X_real_freq = []\n",
        "tmp = []\n",
        "for news in X_real:\n",
        "  filtered_words = [w.strip() for w in news if w not in FREQWORDS_real and w not in RAREWORDS_real]\n",
        "  tmp.append(filtered_words)\n",
        "X_real_freq.extend(tmp)\n",
        "\n",
        "X_real_freq[1][:10]"
      ],
      "execution_count": 67,
      "outputs": [
        {
          "output_type": "execute_result",
          "data": {
            "text/plain": [
              "['putin',\n",
              " 'thinks',\n",
              " 'north',\n",
              " 'korea',\n",
              " 'crisis',\n",
              " 'go',\n",
              " 'nuclear',\n",
              " 'diplomacy',\n",
              " 'prevail',\n",
              " 'russian']"
            ]
          },
          "metadata": {
            "tags": []
          },
          "execution_count": 67
        }
      ]
    },
    {
      "cell_type": "code",
      "metadata": {
        "id": "9cO_FpPIZIuO",
        "colab_type": "code",
        "outputId": "ba7b53d6-17f8-41df-e5af-4f6d10166f30",
        "colab": {
          "base_uri": "https://localhost:8080/",
          "height": 74
        }
      },
      "source": [
        "# OPTIONAL - Removing frequent and rare words from X_fake\n",
        "\n",
        "cnt_fake = Counter()\n",
        "for news in X_fake:\n",
        "  for word in news:\n",
        "    cnt_fake[word] += 1\n",
        "\n",
        "n_rare_words = 10\n",
        "RAREWORDS_fake = set([w for (w, wc) in cnt_fake.most_common()[:-n_rare_words-1:-1]])\n",
        "        \n",
        "FREQWORDS_fake = set([w for (w, wc) in cnt_fake.most_common(15)])\n",
        "\n",
        "print('Rare words in Fake dataset:', RAREWORDS_fake)\n",
        "print('Frequent words in Fake dataset:', FREQWORDS_fake)"
      ],
      "execution_count": 68,
      "outputs": [
        {
          "output_type": "stream",
          "text": [
            "Rare words in Fake dataset: {'crmfbous', 'davidbowie', 'jiujiang', 'smelters', 'motivationmonday', 'kettled', 'underfoot', 'deutz', 'unchristian', 'vjwvnwae'}\n",
            "Frequent words in Fake dataset: {'president', 'said', 'like', 'people', 'obama', 'also', 'donald', 'one', 'hillary', 'white', 'news', 'would', 'new', 'trump', 'clinton'}\n"
          ],
          "name": "stdout"
        }
      ]
    },
    {
      "cell_type": "code",
      "metadata": {
        "id": "cW7vEJIdngTx",
        "colab_type": "code",
        "outputId": "78cb6158-571d-4cf5-ef5d-36bedb2da2dd",
        "colab": {
          "base_uri": "https://localhost:8080/",
          "height": 204
        }
      },
      "source": [
        "X_fake_freq = []\n",
        "tmp = []\n",
        "for news in X_fake:\n",
        "  filtered_words = [w.strip() for w in news if w not in FREQWORDS_fake and w not in RAREWORDS_fake]\n",
        "  tmp.append(filtered_words)\n",
        "X_fake_freq.extend(tmp)\n",
        "\n",
        "X_fake_freq[1][:10]"
      ],
      "execution_count": 69,
      "outputs": [
        {
          "output_type": "execute_result",
          "data": {
            "text/plain": [
              "['rick',\n",
              " 'scott',\n",
              " 'got',\n",
              " 'humiliated',\n",
              " 'badly',\n",
              " 'starbucks',\n",
              " 'run',\n",
              " 'away',\n",
              " 'florida',\n",
              " 'governor']"
            ]
          },
          "metadata": {
            "tags": []
          },
          "execution_count": 69
        }
      ]
    },
    {
      "cell_type": "code",
      "metadata": {
        "id": "0_y3EiWQZgcF",
        "colab_type": "code",
        "outputId": "bbe6f2ef-2769-4083-8f66-ada551194ae5",
        "colab": {
          "base_uri": "https://localhost:8080/",
          "height": 35
        }
      },
      "source": [
        "#Recreating X with removed frequencies\n",
        "X_freq = X_real_freq + X_fake_freq\n",
        "y_freq = [1] * len(X_real_freq) + [0] * len(X_fake_freq)\n",
        "print(len(X_freq), len(y_freq))\n",
        "\n",
        "#Uncomment the following if you want to replace the original \"X\" to impact all following steps with removed frequencies\n",
        "X = []\n",
        "y = []\n",
        "X = X_freq\n",
        "y = y_freq\n",
        "X_real = []\n",
        "X_fake = []\n",
        "X_real = X_real_freq\n",
        "X_fake = X_fake_freq"
      ],
      "execution_count": 70,
      "outputs": [
        {
          "output_type": "stream",
          "text": [
            "42646 42646\n"
          ],
          "name": "stdout"
        }
      ]
    },
    {
      "cell_type": "markdown",
      "metadata": {
        "id": "xaW1ru7n86k6",
        "colab_type": "text"
      },
      "source": [
        "## Optional - Keeping only words from common dictionary"
      ]
    },
    {
      "cell_type": "code",
      "metadata": {
        "id": "XfW9gQX3r-Pe",
        "colab_type": "code",
        "colab": {}
      },
      "source": [
        "#Optional - Keeping only words from common dictionary\n",
        "real_words = defaultdict(int)\n",
        "fake_words = defaultdict(int)\n",
        "common_words = []\n",
        "\n",
        "print(\"Before dictionary adjustment, Size of X_real: \", len(X_real), \"Size of X_fake: \", len(X_fake))\n",
        "for news in X_real:\n",
        "  for word in news:\n",
        "    real_words[word] += 1\n",
        "\n",
        "for news in X_fake:\n",
        "  for word in news:\n",
        "    fake_words[word] += 1\n",
        "\n",
        "list_real_words = list(real_words.keys())\n",
        "list_fake_words = list(fake_words.keys())\n",
        "\n",
        "print(\"Dictionary size for X_real: \", len(list_real_words), \"Dictionary size for X_fake: \", len(list_fake_words))\n",
        "\n",
        "common_words = [word for word in list_real_words if word in list_fake_words]\n",
        "\n",
        "print(\"Total unique words common to both dictionaries: \",len(common_words))"
      ],
      "execution_count": 0,
      "outputs": []
    },
    {
      "cell_type": "code",
      "metadata": {
        "id": "nQ2W-0wgYe0c",
        "colab_type": "code",
        "colab": {}
      },
      "source": [
        "#Analizing common words with very high frequency in one corpus vs the other\n",
        "vocab_frequency = defaultdict(int)\n",
        "for word in common_words:\n",
        "  vocab_frequency[word] = round(np.abs(real_words[word]-fake_words[word])/max(len(real_words), len(fake_words)),2)\n",
        "\n",
        "vocab_frequency = {k: v for k, v in sorted(vocab_frequency.items(), key=lambda item: item[1], reverse = True)}\n",
        "\n",
        "from itertools import islice\n",
        "\n",
        "def take(n, iterable):\n",
        "    \"Return first n items of the iterable as a list\"\n",
        "    return list(islice(iterable, n))\n",
        "\n",
        "most_frequent = take(50, vocab_frequency.items())\n",
        "print(most_frequent)"
      ],
      "execution_count": 0,
      "outputs": []
    },
    {
      "cell_type": "code",
      "metadata": {
        "id": "KFU9fhBUJXnU",
        "colab_type": "code",
        "colab": {}
      },
      "source": [
        "#Optional - removing words frequent only in one corpus from common dictionary\n",
        "most_frequent_words = []\n",
        "most_frequent_words = [w for w in vocab_frequency.keys()]\n",
        "\n",
        "for word in most_frequent_words:\n",
        "  if float(round(np.abs(real_words[word]-fake_words[word])/max(len(real_words), len(fake_words)),2)) > 0.01:\n",
        "    common_words.remove(word)\n",
        "\n",
        "print(len(common_words))"
      ],
      "execution_count": 0,
      "outputs": []
    },
    {
      "cell_type": "code",
      "metadata": {
        "id": "xKsVc7P73CAc",
        "colab_type": "code",
        "colab": {}
      },
      "source": [
        "X_real = [[word for word in news if word in common_words] for news in X_real]\n",
        "X_fake = [[word for word in news if word in common_words] for news in X_fake]\n",
        "\"\"\"\n",
        "for news in X_real:\n",
        "    for word in common_words:\n",
        "        if word in news:\n",
        "            news = [item.replace(word, \"\") for item in news]\n",
        "\n",
        "for news in X_fake:\n",
        "    for word in common_words:\n",
        "        if word in news:\n",
        "            news = [item.replace(word, \"\") for item in news]\n",
        "\"\"\"\n",
        "print(\"After dictionary adjustment, Size of X_real: \", len(X_real), \"Size of X_fake: \", len(X_fake))"
      ],
      "execution_count": 0,
      "outputs": []
    },
    {
      "cell_type": "code",
      "metadata": {
        "id": "Z0Ht848AvxdL",
        "colab_type": "code",
        "colab": {}
      },
      "source": [
        "#Check number of possible empty lines in both corpus after dictionary cleaning\n",
        "empty_X_lines_real = [index for index,text in enumerate(X_real) if text == []]\n",
        "empty_X_lines_fake = [index for index,text in enumerate(X_fake) if text == []]\n",
        "print(\"Real: \", empty_X_lines_real, \"Fake :\", empty_X_lines_fake)"
      ],
      "execution_count": 0,
      "outputs": []
    },
    {
      "cell_type": "code",
      "metadata": {
        "id": "4sSdSF5E9nSq",
        "colab_type": "code",
        "colab": {}
      },
      "source": [
        "X = []\n",
        "y = []\n",
        "X = X_real + X_fake\n",
        "y = [1] * len(X_real) + [0] * len(X_fake)"
      ],
      "execution_count": 0,
      "outputs": []
    },
    {
      "cell_type": "code",
      "metadata": {
        "id": "PBgmqaohI-TS",
        "colab_type": "code",
        "colab": {}
      },
      "source": [
        "print(len(X), len(y))"
      ],
      "execution_count": 0,
      "outputs": []
    },
    {
      "cell_type": "code",
      "metadata": {
        "id": "WjJ09ElwrJmK",
        "colab_type": "code",
        "colab": {}
      },
      "source": [
        "#put X back together and save as a CSV for input into BERT.\n",
        "bert_dataset = []\n",
        "for entry in X:\n",
        "  bert_dataset.append(' '.join(entry))\n",
        "bert_dataset = np.asarray(bert_dataset) \n",
        "bert_dataset = pd.DataFrame(data=bert_dataset, columns=[\"text\"])\n",
        "bert_dataset['class'] = y"
      ],
      "execution_count": 0,
      "outputs": []
    },
    {
      "cell_type": "code",
      "metadata": {
        "id": "D9rT6WM5QKrp",
        "colab_type": "code",
        "colab": {}
      },
      "source": [
        "bert_dataset.to_csv('/content/drive/My Drive/CS221_Project/bert_dataset.csv', index=False)\n",
        "bert_dataset.head(10)"
      ],
      "execution_count": 0,
      "outputs": []
    },
    {
      "cell_type": "markdown",
      "metadata": {
        "id": "GeKI7JS9YHDg",
        "colab_type": "text"
      },
      "source": [
        "## Optional - Lemmatization"
      ]
    },
    {
      "cell_type": "code",
      "metadata": {
        "id": "7Vrkk-HRXAcK",
        "colab_type": "code",
        "colab": {}
      },
      "source": [
        "# OPTIONAL - Lemmatization while respecting the POS\n",
        "\n",
        "from nltk.corpus import wordnet\n",
        "from nltk.stem import WordNetLemmatizer\n",
        "nltk.download('averaged_perceptron_tagger')\n",
        "\n",
        "lemmatizer = WordNetLemmatizer()\n",
        "\n",
        "# function to convert nltk tag to wordnet tag\n",
        "def nltk_tag_to_wordnet_tag(nltk_tag):\n",
        "    if nltk_tag.startswith('J'):\n",
        "        return wordnet.ADJ\n",
        "    elif nltk_tag.startswith('V'):\n",
        "        return wordnet.VERB\n",
        "    elif nltk_tag.startswith('N'):\n",
        "        return wordnet.NOUN\n",
        "    elif nltk_tag.startswith('R'):\n",
        "        return wordnet.ADV\n",
        "    else:          \n",
        "        return None\n",
        "\n",
        "def lemmatize_sentence(sentence):\n",
        "    #tokenize the sentence and find the POS tag for each token\n",
        "    nltk_tagged = nltk.pos_tag(nltk.word_tokenize(sentence))  \n",
        "    #tuple of (token, wordnet_tag)\n",
        "    wordnet_tagged = map(lambda x: (x[0], nltk_tag_to_wordnet_tag(x[1])), nltk_tagged)\n",
        "    lemmatized_sentence = []\n",
        "    for word, tag in wordnet_tagged:\n",
        "        if tag is None:\n",
        "            #if there is no available tag, append the token as is\n",
        "            lemmatized_sentence.append(lemmatizer.lemmatize(word))\n",
        "        else:        \n",
        "            #else use the tag to lemmatize the token\n",
        "            lemmatized_sentence.append(lemmatizer.lemmatize(word, tag))\n",
        "    return \" \".join(lemmatized_sentence)\n",
        "\n",
        "bert_dataset[\"text\"] = bert_dataset[\"text\"].apply(lambda text: lemmatize_sentence(text))\n",
        "bert_dataset.head(10)"
      ],
      "execution_count": 0,
      "outputs": []
    },
    {
      "cell_type": "markdown",
      "metadata": {
        "id": "a8B1hNTy6TQd",
        "colab_type": "text"
      },
      "source": [
        "# **Vectorization**"
      ]
    },
    {
      "cell_type": "markdown",
      "metadata": {
        "id": "DyS4vQJr0RXL",
        "colab_type": "text"
      },
      "source": [
        "## Via TF-IDF"
      ]
    },
    {
      "cell_type": "code",
      "metadata": {
        "id": "Q1DsBKvCUYaS",
        "colab_type": "code",
        "outputId": "6bd70289-290c-4880-b05d-7cf8d1fd07c9",
        "colab": {
          "base_uri": "https://localhost:8080/",
          "height": 35
        }
      },
      "source": [
        "#Manually generating Train/Test sets\n",
        "test_set_size = 0.15*float(len(bert_dataset))\n",
        "test_idx = random.sample(range(len(bert_dataset)),int(test_set_size))\n",
        "\n",
        "X_test = []\n",
        "y_test = []\n",
        "for idx in test_idx:\n",
        "  X_test.append(bert_dataset[\"text\"].iloc[idx])\n",
        "  y_test.append(bert_dataset[\"class\"].iloc[idx])\n",
        "\n",
        "X_test = np.array(X_test)\n",
        "y_test = np.array(y_test)\n",
        "\n",
        "train_idx = [j for j in range(len(bert_dataset))]\n",
        "for i in test_idx:\n",
        "  train_idx.remove(i)\n",
        "  \n",
        "X_train = []\n",
        "y_train = []\n",
        "for idx in train_idx:\n",
        "  X_train.append(bert_dataset[\"text\"].iloc[idx])\n",
        "  y_train.append(bert_dataset[\"class\"].iloc[idx])\n",
        "\n",
        "X_train = np.array(X_train)\n",
        "y_train = np.array(y_train)\n",
        "\n",
        "print(len(X_train), len(X_test))\n",
        "del test_idx, train_idx"
      ],
      "execution_count": 72,
      "outputs": [
        {
          "output_type": "stream",
          "text": [
            "36250 6396\n"
          ],
          "name": "stdout"
        }
      ]
    },
    {
      "cell_type": "code",
      "metadata": {
        "id": "0Z07jaoR0Lre",
        "colab_type": "code",
        "colab": {}
      },
      "source": [
        "from sklearn.feature_extraction.text import TfidfVectorizer\n",
        "\n",
        "vectorizer = TfidfVectorizer()\n",
        "X_train_tfidf = vectorizer.fit_transform(X_train)\n",
        "X_test_tfidf = vectorizer.transform(X_test)"
      ],
      "execution_count": 0,
      "outputs": []
    },
    {
      "cell_type": "code",
      "metadata": {
        "id": "oyrgdVq7srd-",
        "colab_type": "code",
        "outputId": "790e0c12-e2c9-496c-c799-74e75a47308a",
        "colab": {
          "base_uri": "https://localhost:8080/",
          "height": 35
        }
      },
      "source": [
        "X_train_tfidf.shape"
      ],
      "execution_count": 74,
      "outputs": [
        {
          "output_type": "execute_result",
          "data": {
            "text/plain": [
              "(36250, 99537)"
            ]
          },
          "metadata": {
            "tags": []
          },
          "execution_count": 74
        }
      ]
    },
    {
      "cell_type": "markdown",
      "metadata": {
        "id": "rAL3IZXs0Twg",
        "colab_type": "text"
      },
      "source": [
        "## Via Word2Vec"
      ]
    },
    {
      "cell_type": "code",
      "metadata": {
        "id": "gnHeoZYj6SoN",
        "colab_type": "code",
        "colab": {}
      },
      "source": [
        "#Dimension of vectors we are generating\n",
        "EMBEDDING_DIM = 100\n",
        "\n",
        "#Creating Word Vectors by Word2Vec Method (takes time...)\n",
        "w2v_model = gensim.models.Word2Vec(sentences=X, size=EMBEDDING_DIM, window=5, min_count=1)"
      ],
      "execution_count": 0,
      "outputs": []
    },
    {
      "cell_type": "code",
      "metadata": {
        "id": "ozmL3m1-6i4b",
        "colab_type": "code",
        "outputId": "749ff345-cc3a-4ed2-cfbf-c0f041617535",
        "colab": {
          "base_uri": "https://localhost:8080/",
          "height": 35
        }
      },
      "source": [
        "#vocab size\n",
        "len(w2v_model.wv.vocab)\n",
        "\n",
        "#We have now represented each word by a 100dim vector."
      ],
      "execution_count": 76,
      "outputs": [
        {
          "output_type": "execute_result",
          "data": {
            "text/plain": [
              "106029"
            ]
          },
          "metadata": {
            "tags": []
          },
          "execution_count": 76
        }
      ]
    },
    {
      "cell_type": "code",
      "metadata": {
        "id": "Kfp0QHRc6oZq",
        "colab_type": "code",
        "colab": {}
      },
      "source": [
        "#see a sample vector for random word \n",
        "#w2v_model[\"clinton\"]"
      ],
      "execution_count": 0,
      "outputs": []
    },
    {
      "cell_type": "code",
      "metadata": {
        "id": "1AzWYxDD7SBm",
        "colab_type": "code",
        "colab": {}
      },
      "source": [
        "#w2v_model.wv.most_similar(\"foundation\")"
      ],
      "execution_count": 0,
      "outputs": []
    },
    {
      "cell_type": "code",
      "metadata": {
        "id": "dwTLI_111sFP",
        "colab_type": "code",
        "colab": {}
      },
      "source": [
        "# visualize embeddings  ==> Takes too long given dictionary size. Will rather try Kmeans on vectors in Data Analysis\n",
        "\"\"\"\n",
        "from sklearn.manifold import TSNE\n",
        "\n",
        "words = w2v_model.wv.index2word\n",
        "wvs = w2v_model.wv[words]\n",
        "\n",
        "tsne = TSNE(n_components=2, random_state=0, n_iter=5000, perplexity=2)\n",
        "np.set_printoptions(suppress=True)\n",
        "T = tsne.fit_transform(wvs)\n",
        "labels = words\n",
        "\n",
        "plt.figure(figsize=(12, 6))\n",
        "plt.scatter(T[:, 0], T[:, 1], c='orange', edgecolors='r')\n",
        "for label, x, y in zip(labels, T[:, 0], T[:, 1]):\n",
        "    plt.annotate(label, xy=(x+1, y+1), xytext=(0, 0), textcoords='offset points')\n",
        "\"\"\""
      ],
      "execution_count": 0,
      "outputs": []
    },
    {
      "cell_type": "markdown",
      "metadata": {
        "id": "J2bhabiWMbAB",
        "colab_type": "text"
      },
      "source": [
        "## Tokenization with Keras"
      ]
    },
    {
      "cell_type": "code",
      "metadata": {
        "id": "4-9lVv1f7v7Z",
        "colab_type": "code",
        "colab": {}
      },
      "source": [
        "# Tokenizing Text -> Representing each word by a number\n",
        "# Mapping of original word to number is preserved in word_index property of tokenizer\n",
        "\n",
        "#Tokenizer applies basic processing like changing it to lower case, explicitely setting that as True even if already done before\n",
        "\n",
        "from tensorflow.keras.preprocessing.text import Tokenizer\n",
        "\n",
        "tokenizer = Tokenizer(lower=True)\n",
        "tokenizer.fit_on_texts(X)\n",
        "\n",
        "X_tok = tokenizer.texts_to_sequences(X)"
      ],
      "execution_count": 0,
      "outputs": []
    },
    {
      "cell_type": "code",
      "metadata": {
        "id": "C9ItLEl_9PvT",
        "colab_type": "code",
        "outputId": "c1d5310d-57f5-41a7-c844-809ce4c64c08",
        "colab": {
          "base_uri": "https://localhost:8080/",
          "height": 35
        }
      },
      "source": [
        "# lets check the first 10 words of first news\n",
        "#every word has been represented with a number\n",
        "X_tok[0][:10]"
      ],
      "execution_count": 79,
      "outputs": [
        {
          "output_type": "execute_result",
          "data": {
            "text/plain": [
              "[798, 1072, 10893, 1593, 176, 798, 1270, 297, 83, 5534]"
            ]
          },
          "metadata": {
            "tags": []
          },
          "execution_count": 79
        }
      ]
    },
    {
      "cell_type": "code",
      "metadata": {
        "id": "Nf3dw7fw9aIe",
        "colab_type": "code",
        "outputId": "db885da0-e83d-4c95-f86c-ae9d0c33b9d8",
        "colab": {
          "base_uri": "https://localhost:8080/",
          "height": 204
        }
      },
      "source": [
        "#Lets check few word to numerical representation\n",
        "#Mapping is preserved in dictionary -> word_index property of instance\n",
        "word_index = tokenizer.word_index\n",
        "for word, num in word_index.items():\n",
        "    print(\"{} -> {}\".format(word, num))\n",
        "    if num == 10:\n",
        "        break        "
      ],
      "execution_count": 80,
      "outputs": [
        {
          "output_type": "stream",
          "text": [
            "could -> 1\n",
            "election -> 2\n",
            "campaign -> 3\n",
            "two -> 4\n",
            "party -> 5\n",
            "last -> 6\n",
            "time -> 7\n",
            "first -> 8\n",
            "former -> 9\n",
            "country -> 10\n"
          ],
          "name": "stdout"
        }
      ]
    },
    {
      "cell_type": "code",
      "metadata": {
        "id": "Z-eFsk0oVFOu",
        "colab_type": "code",
        "outputId": "e57e1aee-0c2e-49ba-b6f1-4d6f245a2d24",
        "colab": {
          "base_uri": "https://localhost:8080/",
          "height": 265
        }
      },
      "source": [
        "# Making histogram for no of words in news shows that most news article are under 700 words.\n",
        "plt.hist([len(x) for x in X_tok], bins=500)\n",
        "plt.show()"
      ],
      "execution_count": 81,
      "outputs": [
        {
          "output_type": "display_data",
          "data": {
            "image/png": "[encoded data removed]",
            "text/plain": [
              "<Figure size 432x288 with 1 Axes>"
            ]
          },
          "metadata": {
            "tags": [],
            "needs_background": "light"
          }
        }
      ]
    },
    {
      "cell_type": "code",
      "metadata": {
        "id": "vZX8Kk9NVdsW",
        "colab_type": "code",
        "outputId": "8ce7c4a3-f2d3-4398-8aa3-a8e96cef4dc9",
        "colab": {
          "base_uri": "https://localhost:8080/",
          "height": 35
        }
      },
      "source": [
        "# Most of the news have less than 700 words\n",
        "nos = np.array([len(x) for x in X_tok])\n",
        "print(len(nos[nos  < UPPER_BOUND])/len(X_tok))"
      ],
      "execution_count": 82,
      "outputs": [
        {
          "output_type": "stream",
          "text": [
            "1.0\n"
          ],
          "name": "stdout"
        }
      ]
    },
    {
      "cell_type": "code",
      "metadata": {
        "id": "gPguxq9QQe9p",
        "colab_type": "code",
        "outputId": "f19d5977-7916-404a-a625-ffc79799b9bd",
        "colab": {
          "base_uri": "https://localhost:8080/",
          "height": 35
        }
      },
      "source": [
        "print(len(nos[nos  > UPPER_BOUND])/len(X_tok))"
      ],
      "execution_count": 83,
      "outputs": [
        {
          "output_type": "stream",
          "text": [
            "0.0\n"
          ],
          "name": "stdout"
        }
      ]
    },
    {
      "cell_type": "code",
      "metadata": {
        "id": "9Urs8TTuVt7L",
        "colab_type": "code",
        "colab": {}
      },
      "source": [
        "#Lets keep all news to 700, add padding to news with less than 700 words and truncating long ones\n",
        "maxlen = 200 \n",
        "\n",
        "#Making all news of size maxlen defined above, padding with 0 when needed\n",
        "X_tok = pad_sequences(X_tok, maxlen=maxlen)"
      ],
      "execution_count": 0,
      "outputs": []
    },
    {
      "cell_type": "code",
      "metadata": {
        "id": "9Mjc6eVgWUlM",
        "colab_type": "code",
        "outputId": "cba8300d-0c82-4ca4-c37e-41c31deb7a17",
        "colab": {
          "base_uri": "https://localhost:8080/",
          "height": 35
        }
      },
      "source": [
        "#Checking\n",
        "len(X_tok[0])"
      ],
      "execution_count": 85,
      "outputs": [
        {
          "output_type": "execute_result",
          "data": {
            "text/plain": [
              "200"
            ]
          },
          "metadata": {
            "tags": []
          },
          "execution_count": 85
        }
      ]
    },
    {
      "cell_type": "code",
      "metadata": {
        "id": "Qnj0pV28Q1DN",
        "colab_type": "code",
        "colab": {}
      },
      "source": [
        "#Saving this tokenized and vectorized version to file\n",
        "#with open('/content/drive/My Drive/CS221_Project/X_tok.csv', 'w') as myfile:\n",
        "#    wr = csv.writer(myfile, quoting=csv.QUOTE_ALL)\n",
        "#    wr.writerow(X_tok)"
      ],
      "execution_count": 0,
      "outputs": []
    },
    {
      "cell_type": "code",
      "metadata": {
        "id": "utn9EKb_3VZx",
        "colab_type": "code",
        "colab": {}
      },
      "source": [
        "X_train_tok, X_test_tok, y_train_tok, y_test_tok = train_test_split(X_tok, y, test_size = 0.15) "
      ],
      "execution_count": 0,
      "outputs": []
    },
    {
      "cell_type": "markdown",
      "metadata": {
        "id": "np836AjH5LjP",
        "colab_type": "text"
      },
      "source": [
        "# **Modelization** "
      ]
    },
    {
      "cell_type": "markdown",
      "metadata": {
        "id": "VvkaHfZWT0VA",
        "colab_type": "text"
      },
      "source": [
        "## Naïve Bayes model"
      ]
    },
    {
      "cell_type": "code",
      "metadata": {
        "id": "dszpgj-tSK9X",
        "colab_type": "code",
        "colab": {}
      },
      "source": [
        "from sklearn.naive_bayes import MultinomialNB"
      ],
      "execution_count": 0,
      "outputs": []
    },
    {
      "cell_type": "markdown",
      "metadata": {
        "id": "2WYcbCZ9-MPF",
        "colab_type": "text"
      },
      "source": [
        "On basic Keras tokenized input"
      ]
    },
    {
      "cell_type": "code",
      "metadata": {
        "id": "TSN02S4V-KwW",
        "colab_type": "code",
        "colab": {}
      },
      "source": [
        "naive_bayes_model_tok = MultinomialNB().fit(X_train_tok,y_train_tok)"
      ],
      "execution_count": 0,
      "outputs": []
    },
    {
      "cell_type": "code",
      "metadata": {
        "id": "H6tbUhwt-YMy",
        "colab_type": "code",
        "outputId": "49883139-e591-4855-d21f-13bd44265dc0",
        "colab": {
          "base_uri": "https://localhost:8080/",
          "height": 185
        }
      },
      "source": [
        "predictions_nb_tok = naive_bayes_model_tok.predict(X_test_tok)\n",
        "print(classification_report(y_test_tok, predictions_nb_tok))"
      ],
      "execution_count": 119,
      "outputs": [
        {
          "output_type": "stream",
          "text": [
            "              precision    recall  f1-score   support\n",
            "\n",
            "           0       0.56      0.54      0.55      3198\n",
            "           1       0.55      0.57      0.56      3199\n",
            "\n",
            "    accuracy                           0.56      6397\n",
            "   macro avg       0.56      0.56      0.56      6397\n",
            "weighted avg       0.56      0.56      0.56      6397\n",
            "\n"
          ],
          "name": "stdout"
        }
      ]
    },
    {
      "cell_type": "markdown",
      "metadata": {
        "id": "2ureS8vJ-M9w",
        "colab_type": "text"
      },
      "source": [
        "On TF-IDF vectorized input"
      ]
    },
    {
      "cell_type": "code",
      "metadata": {
        "id": "KOkPh1GV5RK3",
        "colab_type": "code",
        "colab": {}
      },
      "source": [
        "naive_bayes_model = MultinomialNB().fit(X_train_tfidf,y_train)"
      ],
      "execution_count": 0,
      "outputs": []
    },
    {
      "cell_type": "code",
      "metadata": {
        "id": "6DCEGmkmKX4B",
        "colab_type": "code",
        "colab": {
          "base_uri": "https://localhost:8080/",
          "height": 35
        },
        "outputId": "1101d97a-a1bc-4198-88b9-3ebc12d6bcae"
      },
      "source": [
        "train_acc = metrics.accuracy_score(y_train, naive_bayes_model.predict(X_train_tfidf))\n",
        "print(\"Training accuracy: \", train_acc)"
      ],
      "execution_count": 135,
      "outputs": [
        {
          "output_type": "stream",
          "text": [
            "Training accuracy:  0.9676413793103448\n"
          ],
          "name": "stdout"
        }
      ]
    },
    {
      "cell_type": "code",
      "metadata": {
        "id": "A04JdgX_U7W_",
        "colab_type": "code",
        "outputId": "b3a8d0e8-1018-4e8e-a42d-c8504e1f7471",
        "colab": {
          "base_uri": "https://localhost:8080/",
          "height": 35
        }
      },
      "source": [
        "#Model Evaluation\n",
        "predictions = naive_bayes_model.predict(X_test_tfidf)\n",
        "print(predictions)"
      ],
      "execution_count": 134,
      "outputs": [
        {
          "output_type": "stream",
          "text": [
            "[0 1 0 ... 1 0 1]\n"
          ],
          "name": "stdout"
        }
      ]
    },
    {
      "cell_type": "code",
      "metadata": {
        "id": "aG2pvk-UVEHw",
        "colab_type": "code",
        "outputId": "93c1cb80-039a-4feb-80d9-a69c54abe7b0",
        "colab": {
          "base_uri": "https://localhost:8080/",
          "height": 185
        }
      },
      "source": [
        "print(classification_report(y_test, predictions))"
      ],
      "execution_count": 122,
      "outputs": [
        {
          "output_type": "stream",
          "text": [
            "              precision    recall  f1-score   support\n",
            "\n",
            "           0       0.96      0.96      0.96      3209\n",
            "           1       0.96      0.96      0.96      3187\n",
            "\n",
            "    accuracy                           0.96      6396\n",
            "   macro avg       0.96      0.96      0.96      6396\n",
            "weighted avg       0.96      0.96      0.96      6396\n",
            "\n"
          ],
          "name": "stdout"
        }
      ]
    },
    {
      "cell_type": "markdown",
      "metadata": {
        "id": "JwLFvyKrlrnJ",
        "colab_type": "text"
      },
      "source": [
        "## Support Vector Machine"
      ]
    },
    {
      "cell_type": "code",
      "metadata": {
        "id": "MGpBoXAMtm_P",
        "colab_type": "code",
        "colab": {}
      },
      "source": [
        "from sklearn.svm import SVC"
      ],
      "execution_count": 0,
      "outputs": []
    },
    {
      "cell_type": "markdown",
      "metadata": {
        "id": "iyPkWrYw_6t4",
        "colab_type": "text"
      },
      "source": [
        "On basic Keras tokenized input"
      ]
    },
    {
      "cell_type": "code",
      "metadata": {
        "id": "-6Mgnx7W_5pc",
        "colab_type": "code",
        "colab": {}
      },
      "source": [
        "# Doesn't seem to work well. Likely due to lack of efficient features for the SVC model\n",
        "\n",
        "#linear_svm_classifier_tok = SVC(kernel = \"linear\").fit(X_train_tok, y_train_tok)"
      ],
      "execution_count": 0,
      "outputs": []
    },
    {
      "cell_type": "code",
      "metadata": {
        "id": "FRjeEFs3AJQu",
        "colab_type": "code",
        "colab": {}
      },
      "source": [
        "#predictions_svm_tok = linear_svm_classifier_tok.predict(X_test_tok)\n",
        "#print(classification_report(y_test_tok, predictions_svm_tok))"
      ],
      "execution_count": 0,
      "outputs": []
    },
    {
      "cell_type": "markdown",
      "metadata": {
        "id": "KqmzvIrF_3GR",
        "colab_type": "text"
      },
      "source": [
        "On TF-IDF vectorized input"
      ]
    },
    {
      "cell_type": "code",
      "metadata": {
        "id": "2xynWVdLltf8",
        "colab_type": "code",
        "colab": {}
      },
      "source": [
        "linear_svm_classifier_tfidf = SVC(kernel = \"linear\").fit(X_train_tfidf,y_train)"
      ],
      "execution_count": 0,
      "outputs": []
    },
    {
      "cell_type": "code",
      "metadata": {
        "id": "Al8em9s4OtCY",
        "colab_type": "code",
        "colab": {
          "base_uri": "https://localhost:8080/",
          "height": 35
        },
        "outputId": "7cc2bf64-0692-4dfc-c4fd-10a376820be6"
      },
      "source": [
        "train_acc_svm = metrics.accuracy_score(y_train, linear_svm_classifier_tfidf.predict(X_train_tfidf))\n",
        "print(\"Training accuracy: \", train_acc_svm)"
      ],
      "execution_count": 136,
      "outputs": [
        {
          "output_type": "stream",
          "text": [
            "Training accuracy:  0.999448275862069\n"
          ],
          "name": "stdout"
        }
      ]
    },
    {
      "cell_type": "code",
      "metadata": {
        "id": "nqKVWzqsl4ZL",
        "colab_type": "code",
        "colab": {
          "base_uri": "https://localhost:8080/",
          "height": 35
        },
        "outputId": "794ac72f-3243-4c0e-c26c-8a86e637357e"
      },
      "source": [
        "predictions_svm_tfidf = linear_svm_classifier_tfidf.predict(X_test_tfidf)\n",
        "print(predictions_svm_tfidf)"
      ],
      "execution_count": 127,
      "outputs": [
        {
          "output_type": "stream",
          "text": [
            "[0 1 0 ... 1 0 1]\n"
          ],
          "name": "stdout"
        }
      ]
    },
    {
      "cell_type": "code",
      "metadata": {
        "id": "bEntRQkMl-3t",
        "colab_type": "code",
        "colab": {
          "base_uri": "https://localhost:8080/",
          "height": 185
        },
        "outputId": "057a63c3-1451-4f09-a790-d7881ad1a4bc"
      },
      "source": [
        "print(classification_report(y_test, predictions_svm_tfidf))"
      ],
      "execution_count": 128,
      "outputs": [
        {
          "output_type": "stream",
          "text": [
            "              precision    recall  f1-score   support\n",
            "\n",
            "           0       0.99      1.00      1.00      3209\n",
            "           1       1.00      0.99      1.00      3187\n",
            "\n",
            "    accuracy                           1.00      6396\n",
            "   macro avg       1.00      1.00      1.00      6396\n",
            "weighted avg       1.00      1.00      1.00      6396\n",
            "\n"
          ],
          "name": "stdout"
        }
      ]
    },
    {
      "cell_type": "markdown",
      "metadata": {
        "id": "0j4NvFq7oA8-",
        "colab_type": "text"
      },
      "source": [
        "## Simple Neural Network"
      ]
    },
    {
      "cell_type": "code",
      "metadata": {
        "id": "A0DpN55JWZaS",
        "colab_type": "code",
        "colab": {}
      },
      "source": [
        "# Embedding Layer used in Keras creates one more vector for \"UNKNOWN\" words, or padded words (0s). This Vector is filled with zeros.\n",
        "# Thus our vocab size inceeases by 1\n",
        "vocab_size = len(tokenizer.word_index) + 1"
      ],
      "execution_count": 0,
      "outputs": []
    },
    {
      "cell_type": "code",
      "metadata": {
        "id": "GQCC_H_JWfR7",
        "colab_type": "code",
        "colab": {}
      },
      "source": [
        "# Function to create weight matrix between word-index and vectors from word2vec gensim model\n",
        "def get_weight_matrix(model, vocab):\n",
        "    # total vocabulary size plus 0 for unknown words\n",
        "    vocab_size = len(vocab) + 1\n",
        "    # define weight matrix dimensions with all 0\n",
        "    weight_matrix = np.zeros((vocab_size, EMBEDDING_DIM))\n",
        "    # step vocab, store vectors using the Tokenizer's integer mapping\n",
        "    for word, i in vocab.items():\n",
        "        weight_matrix[i] = model[word]\n",
        "    return weight_matrix"
      ],
      "execution_count": 0,
      "outputs": []
    },
    {
      "cell_type": "code",
      "metadata": {
        "id": "uBBxZxI9T8JE",
        "colab_type": "code",
        "colab": {}
      },
      "source": [
        "#Getting embedding vectors from word2vec and using it as weights of non-trainable keras embedding layer\n",
        "#This embedding layer accepts numerical-token of word and outputs corresponding vector to inner layer.\n",
        "#It sends vector of zeros to next layer for unknown words which would be tokenized to 0.\n",
        "#Input length of embedding Layer is the length of each news (700 now due to padding and truncating)\n",
        "%%capture\n",
        "#del embedding_vectors\n",
        "embedding_vectors = get_weight_matrix(w2v_model, word_index)"
      ],
      "execution_count": 0,
      "outputs": []
    },
    {
      "cell_type": "code",
      "metadata": {
        "id": "QVyZpdP0oGk8",
        "colab_type": "code",
        "colab": {}
      },
      "source": [
        "dnn_model = tf.keras.Sequential([\n",
        "    tf.keras.layers.Embedding(vocab_size, output_dim=EMBEDDING_DIM, weights=[embedding_vectors], input_length=maxlen, trainable=False),\n",
        "    tf.keras.layers.GlobalAveragePooling1D(),\n",
        "    tf.keras.layers.Dense(24, activation='relu'),\n",
        "    tf.keras.layers.Dense(1, activation='sigmoid')\n",
        "])\n",
        "dnn_model.compile(loss='binary_crossentropy',optimizer='adam',metrics=['accuracy'])"
      ],
      "execution_count": 0,
      "outputs": []
    },
    {
      "cell_type": "code",
      "metadata": {
        "id": "HWsUtccWoybz",
        "colab_type": "code",
        "colab": {}
      },
      "source": [
        "early_stopping_callback_loss = tf.keras.callbacks.EarlyStopping(monitor = 'loss', patience = 1)\n",
        "early_stopping_callback_val_loss = tf.keras.callbacks.EarlyStopping(monitor = 'val_loss', patience = 1)\n",
        "\n",
        "dnn_history = dnn_model.fit(X_train_tok, y_train_tok, epochs=10, validation_split = 0.2, \\\n",
        "                        callbacks = [early_stopping_callback_loss, early_stopping_callback_val_loss], verbose=1)"
      ],
      "execution_count": 0,
      "outputs": []
    },
    {
      "cell_type": "code",
      "metadata": {
        "id": "k81HOODPo1gq",
        "colab_type": "code",
        "colab": {}
      },
      "source": [
        "plt.plot(dnn_history.history['loss'])\n",
        "plt.plot(dnn_history.history['val_loss'])\n",
        "plt.title('model train vs validation loss')\n",
        "plt.ylabel('loss')\n",
        "plt.xlabel('epoch')\n",
        "plt.legend(['train', 'validation'], loc='upper right')\n",
        "plt.show()"
      ],
      "execution_count": 0,
      "outputs": []
    },
    {
      "cell_type": "code",
      "metadata": {
        "id": "tkzyqvyJo_yJ",
        "colab_type": "code",
        "colab": {}
      },
      "source": [
        "dnn_results = dnn_model.evaluate(X_test_tok, y_test_tok, batch_size=128)\n",
        "\n",
        "print('Regular dense network - test loss: {}'.format(dnn_results[0]))\n",
        "print('Regular dense network - test accuracy: {}'.format(dnn_results[1]))"
      ],
      "execution_count": 0,
      "outputs": []
    },
    {
      "cell_type": "code",
      "metadata": {
        "id": "E4uOTxI7pVvy",
        "colab_type": "code",
        "colab": {}
      },
      "source": [
        "dnn_pred = (dnn_model.predict(X_test_tok) >= 0.5).astype(\"int\")\n",
        "\n",
        "print(\"Model type: Regular dense neural network.\")\n",
        "print(classification_report(y_test_tok, dnn_pred))"
      ],
      "execution_count": 0,
      "outputs": []
    },
    {
      "cell_type": "code",
      "metadata": {
        "id": "hMSCcmyJW0dq",
        "colab_type": "code",
        "colab": {}
      },
      "source": [
        "print(confusion_matrix(y_test_tok, dnn_pred))"
      ],
      "execution_count": 0,
      "outputs": []
    },
    {
      "cell_type": "markdown",
      "metadata": {
        "id": "LKUG8pHaT6Pw",
        "colab_type": "text"
      },
      "source": [
        "## Many to one LSTM"
      ]
    },
    {
      "cell_type": "code",
      "metadata": {
        "id": "syFREQZdVt2z",
        "colab_type": "code",
        "colab": {
          "base_uri": "https://localhost:8080/",
          "height": 262
        },
        "outputId": "f0f33cd6-a5f9-4c25-880d-cfb4edb4c243"
      },
      "source": [
        "#Defining Neural Network\n",
        "lstm_model = Sequential()\n",
        "#Non-trainable embeddidng layer\n",
        "lstm_model.add(Embedding(vocab_size, output_dim=EMBEDDING_DIM, weights=[embedding_vectors], input_length=maxlen, trainable=False))\n",
        "#LSTM \n",
        "lstm_model.add(LSTM(units=128, dropout=0.2, recurrent_dropout=0.2, return_sequences=False))\n",
        "lstm_model.add(Dense(EMBEDDING_DIM, activation='relu'))\n",
        "lstm_model.add(Dense(1, activation='sigmoid'))\n",
        "lstm_model.compile(optimizer='adam', loss='binary_crossentropy', metrics=['acc'])\n",
        "\n",
        "#del embedding_vectors"
      ],
      "execution_count": 143,
      "outputs": [
        {
          "output_type": "stream",
          "text": [
            "WARNING:tensorflow:From /tensorflow-1.15.2/python3.6/tensorflow_core/python/keras/initializers.py:119: calling RandomUniform.__init__ (from tensorflow.python.ops.init_ops) with dtype is deprecated and will be removed in a future version.\n",
            "Instructions for updating:\n",
            "Call initializer instance with the dtype argument instead of passing it to the constructor\n"
          ],
          "name": "stdout"
        },
        {
          "output_type": "stream",
          "text": [
            "WARNING:tensorflow:From /tensorflow-1.15.2/python3.6/tensorflow_core/python/keras/initializers.py:119: calling RandomUniform.__init__ (from tensorflow.python.ops.init_ops) with dtype is deprecated and will be removed in a future version.\n",
            "Instructions for updating:\n",
            "Call initializer instance with the dtype argument instead of passing it to the constructor\n"
          ],
          "name": "stderr"
        },
        {
          "output_type": "stream",
          "text": [
            "WARNING:tensorflow:From /tensorflow-1.15.2/python3.6/tensorflow_core/python/ops/resource_variable_ops.py:1630: calling BaseResourceVariable.__init__ (from tensorflow.python.ops.resource_variable_ops) with constraint is deprecated and will be removed in a future version.\n",
            "Instructions for updating:\n",
            "If using Keras pass *_constraint arguments to layers.\n"
          ],
          "name": "stdout"
        },
        {
          "output_type": "stream",
          "text": [
            "WARNING:tensorflow:From /tensorflow-1.15.2/python3.6/tensorflow_core/python/ops/resource_variable_ops.py:1630: calling BaseResourceVariable.__init__ (from tensorflow.python.ops.resource_variable_ops) with constraint is deprecated and will be removed in a future version.\n",
            "Instructions for updating:\n",
            "If using Keras pass *_constraint arguments to layers.\n"
          ],
          "name": "stderr"
        }
      ]
    },
    {
      "cell_type": "code",
      "metadata": {
        "id": "oF-JsTQ8YEiW",
        "colab_type": "code",
        "colab": {
          "base_uri": "https://localhost:8080/",
          "height": 279
        },
        "outputId": "b8cfd6c0-dec5-4528-b3df-acbd220724df"
      },
      "source": [
        "lstm_model.summary()"
      ],
      "execution_count": 144,
      "outputs": [
        {
          "output_type": "stream",
          "text": [
            "Model: \"sequential_1\"\n",
            "_________________________________________________________________\n",
            "Layer (type)                 Output Shape              Param #   \n",
            "=================================================================\n",
            "embedding (Embedding)        (None, 200, 100)          10603000  \n",
            "_________________________________________________________________\n",
            "lstm (LSTM)                  (None, 128)               117248    \n",
            "_________________________________________________________________\n",
            "dense (Dense)                (None, 1)                 129       \n",
            "=================================================================\n",
            "Total params: 10,720,377\n",
            "Trainable params: 117,377\n",
            "Non-trainable params: 10,603,000\n",
            "_________________________________________________________________\n"
          ],
          "name": "stdout"
        }
      ]
    },
    {
      "cell_type": "code",
      "metadata": {
        "id": "DyGl6uhtYfVh",
        "colab_type": "code",
        "colab": {
          "base_uri": "https://localhost:8080/",
          "height": 260
        },
        "outputId": "0b6396ee-8f90-49d8-8496-1f34abbf1180"
      },
      "source": [
        "early_stopping_callback_loss = tf.keras.callbacks.EarlyStopping(monitor = 'loss', patience = 1)\n",
        "early_stopping_callback_val_loss = tf.keras.callbacks.EarlyStopping(monitor = 'val_loss', patience = 1)\n",
        "\n",
        "lstm_history = lstm_model.fit(X_train_tok, y_train_tok, validation_split=0.2, epochs=6, \\\n",
        "                         callbacks = [early_stopping_callback_loss, early_stopping_callback_val_loss], verbose=1)"
      ],
      "execution_count": 147,
      "outputs": [
        {
          "output_type": "stream",
          "text": [
            "Train on 28999 samples, validate on 7250 samples\n",
            "Epoch 1/6\n",
            "28999/28999 [==============================] - 372s 13ms/sample - loss: 0.1298 - acc: 0.9543 - val_loss: 0.0897 - val_acc: 0.9688\n",
            "Epoch 2/6\n",
            "28999/28999 [==============================] - 371s 13ms/sample - loss: 0.0756 - acc: 0.9743 - val_loss: 0.0465 - val_acc: 0.9851\n",
            "Epoch 3/6\n",
            "28999/28999 [==============================] - 371s 13ms/sample - loss: 0.0475 - acc: 0.9835 - val_loss: 0.0295 - val_acc: 0.9895\n",
            "Epoch 4/6\n",
            "28999/28999 [==============================] - 369s 13ms/sample - loss: 0.0303 - acc: 0.9901 - val_loss: 0.0214 - val_acc: 0.9927\n",
            "Epoch 5/6\n",
            "28999/28999 [==============================] - 369s 13ms/sample - loss: 0.0216 - acc: 0.9925 - val_loss: 0.0199 - val_acc: 0.9950\n",
            "Epoch 6/6\n",
            "28999/28999 [==============================] - 367s 13ms/sample - loss: 0.0176 - acc: 0.9941 - val_loss: 0.0179 - val_acc: 0.9942\n"
          ],
          "name": "stdout"
        }
      ]
    },
    {
      "cell_type": "code",
      "metadata": {
        "id": "gyBl1qlkF5UG",
        "colab_type": "code",
        "colab": {
          "base_uri": "https://localhost:8080/",
          "height": 295
        },
        "outputId": "e4ccef6b-17f8-40d8-f20e-03a5ab565a93"
      },
      "source": [
        "plt.plot(lstm_history.history['acc'])\n",
        "plt.plot(lstm_history.history['val_acc'])\n",
        "plt.title('model train vs validation accuracy')\n",
        "plt.ylabel('accuracy')\n",
        "plt.xlabel('epoch')\n",
        "plt.legend(['train', 'validation'], loc='upper right')\n",
        "plt.show()"
      ],
      "execution_count": 149,
      "outputs": [
        {
          "output_type": "display_data",
          "data": {
            "image/png": "[encoded data removed]",
            "text/plain": [
              "<Figure size 432x288 with 1 Axes>"
            ]
          },
          "metadata": {
            "tags": [],
            "needs_background": "light"
          }
        }
      ]
    },
    {
      "cell_type": "code",
      "metadata": {
        "id": "xWffg2YsYzF5",
        "colab_type": "code",
        "colab": {}
      },
      "source": [
        "#Prediction is in probability of news being real, so converting into classes\n",
        "lstm_pred = (lstm_model.predict(X_test_tok) >= 0.5).astype(\"int\")"
      ],
      "execution_count": 0,
      "outputs": []
    },
    {
      "cell_type": "code",
      "metadata": {
        "id": "jX1CKgltZJ6R",
        "colab_type": "code",
        "colab": {
          "base_uri": "https://localhost:8080/",
          "height": 185
        },
        "outputId": "15effe1d-91ac-4a1d-f60b-06a70ff1c6b6"
      },
      "source": [
        "print(classification_report(y_test_tok, lstm_pred))"
      ],
      "execution_count": 151,
      "outputs": [
        {
          "output_type": "stream",
          "text": [
            "              precision    recall  f1-score   support\n",
            "\n",
            "           0       1.00      0.99      1.00      3198\n",
            "           1       0.99      1.00      1.00      3199\n",
            "\n",
            "    accuracy                           1.00      6397\n",
            "   macro avg       1.00      1.00      1.00      6397\n",
            "weighted avg       1.00      1.00      1.00      6397\n",
            "\n"
          ],
          "name": "stdout"
        }
      ]
    },
    {
      "cell_type": "code",
      "metadata": {
        "id": "RJj70EccWjhO",
        "colab_type": "code",
        "colab": {
          "base_uri": "https://localhost:8080/",
          "height": 54
        },
        "outputId": "6185b740-cd4c-494a-9537-d22587f2e1a3"
      },
      "source": [
        "print(confusion_matrix(y_test_tok, lstm_pred))"
      ],
      "execution_count": 152,
      "outputs": [
        {
          "output_type": "stream",
          "text": [
            "[[3180   18]\n",
            " [  13 3186]]\n"
          ],
          "name": "stdout"
        }
      ]
    },
    {
      "cell_type": "markdown",
      "metadata": {
        "id": "ahDGZb_BZWF7",
        "colab_type": "text"
      },
      "source": [
        "## Bert "
      ]
    },
    {
      "cell_type": "markdown",
      "metadata": {
        "id": "Uj-_pa13pK9l",
        "colab_type": "text"
      },
      "source": [
        "Leveraging work from [this colab](https://colab.sandbox.google.com/drive/1W8yYgQJ6AAvwZ3AdfuPDLirqXOtHbmuO#scrollTo=6o2a5ZIvRcJq)"
      ]
    },
    {
      "cell_type": "code",
      "metadata": {
        "id": "ceH2Oe95ZRB4",
        "colab_type": "code",
        "colab": {
          "base_uri": "https://localhost:8080/",
          "height": 149
        },
        "outputId": "54e4968e-7b5d-4385-a3e9-fc478de0071a"
      },
      "source": [
        "!pip install bert-tensorflow"
      ],
      "execution_count": 88,
      "outputs": [
        {
          "output_type": "stream",
          "text": [
            "Collecting bert-tensorflow\n",
            "\u001b[?25l  Downloading https://files.pythonhosted.org/packages/a6/66/7eb4e8b6ea35b7cc54c322c816f976167a43019750279a8473d355800a93/bert_tensorflow-1.0.1-py2.py3-none-any.whl (67kB)\n",
            "\r\u001b[K     |████▉                           | 10kB 19.4MB/s eta 0:00:01\r\u001b[K     |█████████▊                      | 20kB 4.1MB/s eta 0:00:01\r\u001b[K     |██████████████▋                 | 30kB 5.4MB/s eta 0:00:01\r\u001b[K     |███████████████████▍            | 40kB 5.6MB/s eta 0:00:01\r\u001b[K     |████████████████████████▎       | 51kB 4.7MB/s eta 0:00:01\r\u001b[K     |█████████████████████████████▏  | 61kB 5.3MB/s eta 0:00:01\r\u001b[K     |████████████████████████████████| 71kB 3.6MB/s \n",
            "\u001b[?25hRequirement already satisfied: six in /usr/local/lib/python3.6/dist-packages (from bert-tensorflow) (1.12.0)\n",
            "Installing collected packages: bert-tensorflow\n",
            "Successfully installed bert-tensorflow-1.0.1\n"
          ],
          "name": "stdout"
        }
      ]
    },
    {
      "cell_type": "code",
      "metadata": {
        "id": "JMDJdHXa-Rmr",
        "colab_type": "code",
        "colab": {}
      },
      "source": [
        "%load_ext tensorboard"
      ],
      "execution_count": 0,
      "outputs": []
    },
    {
      "cell_type": "code",
      "metadata": {
        "id": "GErcwhIiZdp5",
        "colab_type": "code",
        "colab": {
          "base_uri": "https://localhost:8080/",
          "height": 74
        },
        "outputId": "bc9438de-bec1-48e8-f65e-9dc79a102b40"
      },
      "source": [
        "import bert\n",
        "from bert import run_classifier\n",
        "from bert import optimization\n",
        "from bert import tokenization"
      ],
      "execution_count": 90,
      "outputs": [
        {
          "output_type": "stream",
          "text": [
            "WARNING:tensorflow:From /usr/local/lib/python3.6/dist-packages/bert/optimization.py:87: The name tf.train.Optimizer is deprecated. Please use tf.compat.v1.train.Optimizer instead.\n",
            "\n"
          ],
          "name": "stdout"
        }
      ]
    },
    {
      "cell_type": "code",
      "metadata": {
        "id": "n2f_2SYtZn3M",
        "colab_type": "code",
        "colab": {
          "base_uri": "https://localhost:8080/",
          "height": 35
        },
        "outputId": "c7073b74-c067-463d-882c-7e1366e78e4f"
      },
      "source": [
        "# Set the output directory for saving model file\n",
        "# Optionally, set a GCP bucket location\n",
        "\n",
        "OUTPUT_DIR = '/content/drive/My Drive/CS221_Project/logs'#@param {type:\"string\"}\n",
        "#@markdown Whether or not to clear/delete the directory and create a new one\n",
        "DO_DELETE = False #@param {type:\"boolean\"}\n",
        "#@markdown Set USE_BUCKET and BUCKET if you want to (optionally) store model output on GCP bucket.\n",
        "USE_BUCKET = False #@param {type:\"boolean\"}\n",
        "BUCKET = 'BUCKET_NAME' #@param {type:\"string\"}\n",
        "\n",
        "if USE_BUCKET:\n",
        "  OUTPUT_DIR = 'gs://{}/{}'.format(BUCKET, OUTPUT_DIR)\n",
        "  from google.colab import auth\n",
        "  auth.authenticate_user()\n",
        "\n",
        "if DO_DELETE:\n",
        "  try:\n",
        "    tf.gfile.DeleteRecursively(OUTPUT_DIR)\n",
        "  except:\n",
        "    # Doesn't matter if the directory didn't exist\n",
        "    pass\n",
        "tf.gfile.MakeDirs(OUTPUT_DIR)\n",
        "print('***** Model output directory: {} *****'.format(OUTPUT_DIR))\n"
      ],
      "execution_count": 91,
      "outputs": [
        {
          "output_type": "stream",
          "text": [
            "***** Model output directory: model_out *****\n"
          ],
          "name": "stdout"
        }
      ]
    },
    {
      "cell_type": "code",
      "metadata": {
        "id": "sqsHn0tvS5dx",
        "colab_type": "code",
        "colab": {}
      },
      "source": [
        "#Import dataset file if not done already\n",
        "dataset_processed = pd.read_csv('/content/drive/My Drive/CS221_Project/bert_dataset.csv')"
      ],
      "execution_count": 0,
      "outputs": []
    },
    {
      "cell_type": "code",
      "metadata": {
        "id": "j1-MYwGEi__o",
        "colab_type": "code",
        "colab": {
          "base_uri": "https://localhost:8080/",
          "height": 35
        },
        "outputId": "57f92371-ddb0-463e-aa92-e858ccf955c4"
      },
      "source": [
        "train_df = dataset_processed.sample(frac=0.7, replace=False, random_state=1)\n",
        "val_df = dataset_processed.sample(frac=0.15, replace=False, random_state=1)\n",
        "test_df = dataset_processed.sample(frac=0.15, replace=False, random_state=1)\n",
        "print(train_df.shape, val_df.shape, test_df.shape)"
      ],
      "execution_count": 93,
      "outputs": [
        {
          "output_type": "stream",
          "text": [
            "(17728, 2) (3799, 2) (3799, 2)\n"
          ],
          "name": "stdout"
        }
      ]
    },
    {
      "cell_type": "code",
      "metadata": {
        "id": "XcZ4T9VjjbXh",
        "colab_type": "code",
        "colab": {}
      },
      "source": [
        "# Use the InputExample class from BERT's run_classifier code to create examples from the data\n",
        "train_InputExamples = train_df.apply(lambda x: bert.run_classifier.InputExample(guid=None, # Globally unique ID for bookkeeping, unused in this example\n",
        "                                                                   text_a = x['text'], \n",
        "                                                                   text_b = None, \n",
        "                                                                   label = x['class']), axis = 1)\n",
        "\n",
        "dev_InputExamples = val_df.apply(lambda x: bert.run_classifier.InputExample(guid=None, \n",
        "                                                                   text_a = x['text'], \n",
        "                                                                   text_b = None, \n",
        "                                                                   label = x['class']), axis = 1)\n",
        "\n",
        "test_InputExamples = test_df.apply(lambda x: bert.run_classifier.InputExample(guid=None, \n",
        "                                                                   text_a = x['text'], \n",
        "                                                                   text_b = None, \n",
        "                                                                   label = x['class']), axis = 1)"
      ],
      "execution_count": 0,
      "outputs": []
    },
    {
      "cell_type": "code",
      "metadata": {
        "id": "peUpcPsMltR8",
        "colab_type": "code",
        "colab": {
          "base_uri": "https://localhost:8080/",
          "height": 149
        },
        "outputId": "23a3f3f3-ecc5-4261-bfcd-da3ddbc650f3"
      },
      "source": [
        "# In order to preprocess the data, we'll load a vocabulary file and lowercasing information directly from the BERT tf hub module\n",
        "# This is a path to an uncased (all lowercase) version of BERT\n",
        "BERT_MODEL_HUB = \"https://tfhub.dev/google/bert_uncased_L-12_H-768_A-12/1\"\n",
        "\n",
        "def create_tokenizer_from_hub_module():\n",
        "  \"\"\"Get the vocab file and casing info from the Hub module.\"\"\"\n",
        "  with tf.Graph().as_default():\n",
        "    bert_module = hub.Module(BERT_MODEL_HUB)\n",
        "    tokenization_info = bert_module(signature=\"tokenization_info\", as_dict=True)\n",
        "    with tf.Session() as sess:\n",
        "      vocab_file, do_lower_case = sess.run([tokenization_info[\"vocab_file\"],\n",
        "                                            tokenization_info[\"do_lower_case\"]])\n",
        "      \n",
        "  return bert.tokenization.FullTokenizer(\n",
        "      vocab_file=vocab_file, do_lower_case=do_lower_case)\n",
        "\n",
        "tokenizer_bert = create_tokenizer_from_hub_module()"
      ],
      "execution_count": 95,
      "outputs": [
        {
          "output_type": "stream",
          "text": [
            "INFO:tensorflow:Saver not created because there are no variables in the graph to restore\n"
          ],
          "name": "stdout"
        },
        {
          "output_type": "stream",
          "text": [
            "INFO:tensorflow:Saver not created because there are no variables in the graph to restore\n"
          ],
          "name": "stderr"
        },
        {
          "output_type": "stream",
          "text": [
            "WARNING:tensorflow:From /usr/local/lib/python3.6/dist-packages/bert/tokenization.py:125: The name tf.gfile.GFile is deprecated. Please use tf.io.gfile.GFile instead.\n",
            "\n"
          ],
          "name": "stdout"
        },
        {
          "output_type": "stream",
          "text": [
            "WARNING:tensorflow:From /usr/local/lib/python3.6/dist-packages/bert/tokenization.py:125: The name tf.gfile.GFile is deprecated. Please use tf.io.gfile.GFile instead.\n",
            "\n"
          ],
          "name": "stderr"
        }
      ]
    },
    {
      "cell_type": "code",
      "metadata": {
        "id": "_LuZoJ75lzSj",
        "colab_type": "code",
        "colab": {
          "base_uri": "https://localhost:8080/",
          "height": 1000
        },
        "outputId": "19d7fa2e-c77e-415a-efde-5a4605759003"
      },
      "source": [
        "tokenizer_bert.tokenize(\"betsy devos gets skewered after dept. of education posts embarrassingly misspelled tweets donald trump s education department is pathetic now that betsy devos is in control, and this proves it.devos first week as secretary of education has been terrible to say the least.first, she was blocked from entering a public school by protesters and ran away. then she posted a tweet jokingly asking where the pencils are, which drew a sharp rebuke from teachers, who did not find her joke funny because they usually have to buy their own school supplies for their classrooms.and so, the department of education under devos rule is off to a rough start, and it got downright embarrassing on sunday as americans watched in horror as the education department proceeded to post twitter messages containing misspelled words.seriously. this is the f*cking department of education we are talking about. spelling should be in their wheelhouse. but because of trump and devos, that skill has apparently been lost.in celebration of black history month, the department of education decided to recognize and quote w.e.b. du bois. it did not go well.education must not simply teach work it must teach life. w.e.b. debois /re4cwkpsfa us dept of education (@usedgov) february 12, 2017that s right. devos and her team actually misspelled du bois name. and mockery and outrage rained down upon them for it.welp, this is a foreshadowing of what #betsydevos is going to usher in @usedgov. ffs! it s #blackhistorymonth too!??w. e. b. du bois?? /qkhyauyp6i khary penebaker (@kharyp) february 12, 2017@usedgov looks like @betsydevos is in charge now! /paajszsusl mike flacy (@mikeflacy) february 12, 2017.@usedgov *w.e.b. du boisall good. not like this is the official twitter for the us department of education. ? ryan wyatt (@fwiz) february 12, 2017@usedgov i am glad my public school teachers taught me how to properly spell the names of noted scholars!! maris kreizman (@mariskreizman) february 12, 2017@usedgov omg, it s dubois. who is in charge over there? oh, wait, i get it. jennifer morgan (@profjlmorgan) february 12, 2017.@usedgov first y all thought frederick douglass was alive, now you can t spell du bois. this bodes well for an already faltering system. mehreen kasana (@mehreenkasana) february 12, 2017hilarious, @usedgov. it s either a terrible mistake or a perverse foray into humor. his name is w.e.b. du bois. screenshot saved. /dfdv887rne jeffrey guterman (@jeffreyguterman) february 12, 2017@jeffreyguterman @usedgov is @betsydevos in charge of social media content too? was she distracted by a grizzly? ? @pc7 (@pjcc777) february 12, 2017@usedgov how the hell do you misspell his name? if this isn t foreshadowing the shitstorm of #betsydevos, then i don t know what is s vion (@savionwright) february 12, 2017i see they left ms. duvos in charge of the @usedgov twitter feed /sw0scgm49u jason tocci (@jasont) february 12, 2017protesters should ve let @betsydevos into the school long enough to learn how to spell his name correctly @usedgovhttps://t.co/pdzsgu5xev carlton banksy (@rtyson82) february 12, 2017and if that wasn t enough, the department of education posted a corrected version and then posted an apology tweet that was also misspelled.again, seriously. education must not simply teach work it must teach life. w.e.b. du bois /hsg4r1rlhh us dept of education (@usedgov) february 12, 2017 our deepest apologizes /0staogo3fd josh billinson (@jbillinson) february 12, 2017even reading rainbow star levar burton chimed in.heaven help us! the dept. of education misspelled dubois #bydhttmwfi https://t.co/pt6i1em8an levar burton (@levarburton) february 12, 2017betsy devos hasn t even been in charge for a full week and she has already repeatedly proved that while money can buy a cabinet seat, in her case it could not buy a decent education. via chip somodevilla\")"
      ],
      "execution_count": 96,
      "outputs": [
        {
          "output_type": "execute_result",
          "data": {
            "text/plain": [
              "['betsy',\n",
              " 'dev',\n",
              " '##os',\n",
              " 'gets',\n",
              " 'sk',\n",
              " '##ew',\n",
              " '##ered',\n",
              " 'after',\n",
              " 'dept',\n",
              " '.',\n",
              " 'of',\n",
              " 'education',\n",
              " 'posts',\n",
              " 'embarrassing',\n",
              " '##ly',\n",
              " 'miss',\n",
              " '##pel',\n",
              " '##led',\n",
              " 't',\n",
              " '##wee',\n",
              " '##ts',\n",
              " 'donald',\n",
              " 'trump',\n",
              " 's',\n",
              " 'education',\n",
              " 'department',\n",
              " 'is',\n",
              " 'pathetic',\n",
              " 'now',\n",
              " 'that',\n",
              " 'betsy',\n",
              " 'dev',\n",
              " '##os',\n",
              " 'is',\n",
              " 'in',\n",
              " 'control',\n",
              " ',',\n",
              " 'and',\n",
              " 'this',\n",
              " 'proves',\n",
              " 'it',\n",
              " '.',\n",
              " 'dev',\n",
              " '##os',\n",
              " 'first',\n",
              " 'week',\n",
              " 'as',\n",
              " 'secretary',\n",
              " 'of',\n",
              " 'education',\n",
              " 'has',\n",
              " 'been',\n",
              " 'terrible',\n",
              " 'to',\n",
              " 'say',\n",
              " 'the',\n",
              " 'least',\n",
              " '.',\n",
              " 'first',\n",
              " ',',\n",
              " 'she',\n",
              " 'was',\n",
              " 'blocked',\n",
              " 'from',\n",
              " 'entering',\n",
              " 'a',\n",
              " 'public',\n",
              " 'school',\n",
              " 'by',\n",
              " 'protesters',\n",
              " 'and',\n",
              " 'ran',\n",
              " 'away',\n",
              " '.',\n",
              " 'then',\n",
              " 'she',\n",
              " 'posted',\n",
              " 'a',\n",
              " 't',\n",
              " '##wee',\n",
              " '##t',\n",
              " 'joking',\n",
              " '##ly',\n",
              " 'asking',\n",
              " 'where',\n",
              " 'the',\n",
              " 'pencil',\n",
              " '##s',\n",
              " 'are',\n",
              " ',',\n",
              " 'which',\n",
              " 'drew',\n",
              " 'a',\n",
              " 'sharp',\n",
              " 're',\n",
              " '##bu',\n",
              " '##ke',\n",
              " 'from',\n",
              " 'teachers',\n",
              " ',',\n",
              " 'who',\n",
              " 'did',\n",
              " 'not',\n",
              " 'find',\n",
              " 'her',\n",
              " 'joke',\n",
              " 'funny',\n",
              " 'because',\n",
              " 'they',\n",
              " 'usually',\n",
              " 'have',\n",
              " 'to',\n",
              " 'buy',\n",
              " 'their',\n",
              " 'own',\n",
              " 'school',\n",
              " 'supplies',\n",
              " 'for',\n",
              " 'their',\n",
              " 'classrooms',\n",
              " '.',\n",
              " 'and',\n",
              " 'so',\n",
              " ',',\n",
              " 'the',\n",
              " 'department',\n",
              " 'of',\n",
              " 'education',\n",
              " 'under',\n",
              " 'dev',\n",
              " '##os',\n",
              " 'rule',\n",
              " 'is',\n",
              " 'off',\n",
              " 'to',\n",
              " 'a',\n",
              " 'rough',\n",
              " 'start',\n",
              " ',',\n",
              " 'and',\n",
              " 'it',\n",
              " 'got',\n",
              " 'down',\n",
              " '##right',\n",
              " 'embarrassing',\n",
              " 'on',\n",
              " 'sunday',\n",
              " 'as',\n",
              " 'americans',\n",
              " 'watched',\n",
              " 'in',\n",
              " 'horror',\n",
              " 'as',\n",
              " 'the',\n",
              " 'education',\n",
              " 'department',\n",
              " 'proceeded',\n",
              " 'to',\n",
              " 'post',\n",
              " 'twitter',\n",
              " 'messages',\n",
              " 'containing',\n",
              " 'miss',\n",
              " '##pel',\n",
              " '##led',\n",
              " 'words',\n",
              " '.',\n",
              " 'seriously',\n",
              " '.',\n",
              " 'this',\n",
              " 'is',\n",
              " 'the',\n",
              " 'f',\n",
              " '*',\n",
              " 'ck',\n",
              " '##ing',\n",
              " 'department',\n",
              " 'of',\n",
              " 'education',\n",
              " 'we',\n",
              " 'are',\n",
              " 'talking',\n",
              " 'about',\n",
              " '.',\n",
              " 'spelling',\n",
              " 'should',\n",
              " 'be',\n",
              " 'in',\n",
              " 'their',\n",
              " 'wheel',\n",
              " '##house',\n",
              " '.',\n",
              " 'but',\n",
              " 'because',\n",
              " 'of',\n",
              " 'trump',\n",
              " 'and',\n",
              " 'dev',\n",
              " '##os',\n",
              " ',',\n",
              " 'that',\n",
              " 'skill',\n",
              " 'has',\n",
              " 'apparently',\n",
              " 'been',\n",
              " 'lost',\n",
              " '.',\n",
              " 'in',\n",
              " 'celebration',\n",
              " 'of',\n",
              " 'black',\n",
              " 'history',\n",
              " 'month',\n",
              " ',',\n",
              " 'the',\n",
              " 'department',\n",
              " 'of',\n",
              " 'education',\n",
              " 'decided',\n",
              " 'to',\n",
              " 'recognize',\n",
              " 'and',\n",
              " 'quote',\n",
              " 'w',\n",
              " '.',\n",
              " 'e',\n",
              " '.',\n",
              " 'b',\n",
              " '.',\n",
              " 'du',\n",
              " 'bois',\n",
              " '.',\n",
              " 'it',\n",
              " 'did',\n",
              " 'not',\n",
              " 'go',\n",
              " 'well',\n",
              " '.',\n",
              " 'education',\n",
              " 'must',\n",
              " 'not',\n",
              " 'simply',\n",
              " 'teach',\n",
              " 'work',\n",
              " 'it',\n",
              " 'must',\n",
              " 'teach',\n",
              " 'life',\n",
              " '.',\n",
              " 'w',\n",
              " '.',\n",
              " 'e',\n",
              " '.',\n",
              " 'b',\n",
              " '.',\n",
              " 'de',\n",
              " '##bo',\n",
              " '##is',\n",
              " '/',\n",
              " 're',\n",
              " '##4',\n",
              " '##c',\n",
              " '##wk',\n",
              " '##ps',\n",
              " '##fa',\n",
              " 'us',\n",
              " 'dept',\n",
              " 'of',\n",
              " 'education',\n",
              " '(',\n",
              " '@',\n",
              " 'used',\n",
              " '##go',\n",
              " '##v',\n",
              " ')',\n",
              " 'february',\n",
              " '12',\n",
              " ',',\n",
              " '2017',\n",
              " '##tha',\n",
              " '##t',\n",
              " 's',\n",
              " 'right',\n",
              " '.',\n",
              " 'dev',\n",
              " '##os',\n",
              " 'and',\n",
              " 'her',\n",
              " 'team',\n",
              " 'actually',\n",
              " 'miss',\n",
              " '##pel',\n",
              " '##led',\n",
              " 'du',\n",
              " 'bois',\n",
              " 'name',\n",
              " '.',\n",
              " 'and',\n",
              " 'mock',\n",
              " '##ery',\n",
              " 'and',\n",
              " 'outrage',\n",
              " 'rained',\n",
              " 'down',\n",
              " 'upon',\n",
              " 'them',\n",
              " 'for',\n",
              " 'it',\n",
              " '.',\n",
              " 'we',\n",
              " '##lp',\n",
              " ',',\n",
              " 'this',\n",
              " 'is',\n",
              " 'a',\n",
              " 'fore',\n",
              " '##sha',\n",
              " '##do',\n",
              " '##wing',\n",
              " 'of',\n",
              " 'what',\n",
              " '#',\n",
              " 'betsy',\n",
              " '##dev',\n",
              " '##os',\n",
              " 'is',\n",
              " 'going',\n",
              " 'to',\n",
              " 'usher',\n",
              " 'in',\n",
              " '@',\n",
              " 'used',\n",
              " '##go',\n",
              " '##v',\n",
              " '.',\n",
              " 'ff',\n",
              " '##s',\n",
              " '!',\n",
              " 'it',\n",
              " 's',\n",
              " '#',\n",
              " 'black',\n",
              " '##his',\n",
              " '##tory',\n",
              " '##mont',\n",
              " '##h',\n",
              " 'too',\n",
              " '!',\n",
              " '?',\n",
              " '?',\n",
              " 'w',\n",
              " '.',\n",
              " 'e',\n",
              " '.',\n",
              " 'b',\n",
              " '.',\n",
              " 'du',\n",
              " 'bois',\n",
              " '?',\n",
              " '?',\n",
              " '/',\n",
              " 'q',\n",
              " '##kh',\n",
              " '##ya',\n",
              " '##uy',\n",
              " '##p',\n",
              " '##6',\n",
              " '##i',\n",
              " 'k',\n",
              " '##har',\n",
              " '##y',\n",
              " 'pen',\n",
              " '##eb',\n",
              " '##aker',\n",
              " '(',\n",
              " '@',\n",
              " 'k',\n",
              " '##har',\n",
              " '##yp',\n",
              " ')',\n",
              " 'february',\n",
              " '12',\n",
              " ',',\n",
              " '2017',\n",
              " '@',\n",
              " 'used',\n",
              " '##go',\n",
              " '##v',\n",
              " 'looks',\n",
              " 'like',\n",
              " '@',\n",
              " 'betsy',\n",
              " '##dev',\n",
              " '##os',\n",
              " 'is',\n",
              " 'in',\n",
              " 'charge',\n",
              " 'now',\n",
              " '!',\n",
              " '/',\n",
              " 'pa',\n",
              " '##aj',\n",
              " '##sz',\n",
              " '##sus',\n",
              " '##l',\n",
              " 'mike',\n",
              " 'fl',\n",
              " '##acy',\n",
              " '(',\n",
              " '@',\n",
              " 'mike',\n",
              " '##fl',\n",
              " '##acy',\n",
              " ')',\n",
              " 'february',\n",
              " '12',\n",
              " ',',\n",
              " '2017',\n",
              " '.',\n",
              " '@',\n",
              " 'used',\n",
              " '##go',\n",
              " '##v',\n",
              " '*',\n",
              " 'w',\n",
              " '.',\n",
              " 'e',\n",
              " '.',\n",
              " 'b',\n",
              " '.',\n",
              " 'du',\n",
              " 'bois',\n",
              " '##all',\n",
              " 'good',\n",
              " '.',\n",
              " 'not',\n",
              " 'like',\n",
              " 'this',\n",
              " 'is',\n",
              " 'the',\n",
              " 'official',\n",
              " 'twitter',\n",
              " 'for',\n",
              " 'the',\n",
              " 'us',\n",
              " 'department',\n",
              " 'of',\n",
              " 'education',\n",
              " '.',\n",
              " '?',\n",
              " 'ryan',\n",
              " 'wyatt',\n",
              " '(',\n",
              " '@',\n",
              " 'f',\n",
              " '##wi',\n",
              " '##z',\n",
              " ')',\n",
              " 'february',\n",
              " '12',\n",
              " ',',\n",
              " '2017',\n",
              " '@',\n",
              " 'used',\n",
              " '##go',\n",
              " '##v',\n",
              " 'i',\n",
              " 'am',\n",
              " 'glad',\n",
              " 'my',\n",
              " 'public',\n",
              " 'school',\n",
              " 'teachers',\n",
              " 'taught',\n",
              " 'me',\n",
              " 'how',\n",
              " 'to',\n",
              " 'properly',\n",
              " 'spell',\n",
              " 'the',\n",
              " 'names',\n",
              " 'of',\n",
              " 'noted',\n",
              " 'scholars',\n",
              " '!',\n",
              " '!',\n",
              " 'maris',\n",
              " 'k',\n",
              " '##re',\n",
              " '##iz',\n",
              " '##man',\n",
              " '(',\n",
              " '@',\n",
              " 'maris',\n",
              " '##kr',\n",
              " '##ei',\n",
              " '##zman',\n",
              " ')',\n",
              " 'february',\n",
              " '12',\n",
              " ',',\n",
              " '2017',\n",
              " '@',\n",
              " 'used',\n",
              " '##go',\n",
              " '##v',\n",
              " 'om',\n",
              " '##g',\n",
              " ',',\n",
              " 'it',\n",
              " 's',\n",
              " 'dubois',\n",
              " '.',\n",
              " 'who',\n",
              " 'is',\n",
              " 'in',\n",
              " 'charge',\n",
              " 'over',\n",
              " 'there',\n",
              " '?',\n",
              " 'oh',\n",
              " ',',\n",
              " 'wait',\n",
              " ',',\n",
              " 'i',\n",
              " 'get',\n",
              " 'it',\n",
              " '.',\n",
              " 'jennifer',\n",
              " 'morgan',\n",
              " '(',\n",
              " '@',\n",
              " 'prof',\n",
              " '##j',\n",
              " '##lm',\n",
              " '##org',\n",
              " '##an',\n",
              " ')',\n",
              " 'february',\n",
              " '12',\n",
              " ',',\n",
              " '2017',\n",
              " '.',\n",
              " '@',\n",
              " 'used',\n",
              " '##go',\n",
              " '##v',\n",
              " 'first',\n",
              " 'y',\n",
              " 'all',\n",
              " 'thought',\n",
              " 'frederick',\n",
              " 'douglass',\n",
              " 'was',\n",
              " 'alive',\n",
              " ',',\n",
              " 'now',\n",
              " 'you',\n",
              " 'can',\n",
              " 't',\n",
              " 'spell',\n",
              " 'du',\n",
              " 'bois',\n",
              " '.',\n",
              " 'this',\n",
              " 'bo',\n",
              " '##des',\n",
              " 'well',\n",
              " 'for',\n",
              " 'an',\n",
              " 'already',\n",
              " 'fa',\n",
              " '##lter',\n",
              " '##ing',\n",
              " 'system',\n",
              " '.',\n",
              " 'me',\n",
              " '##hre',\n",
              " '##en',\n",
              " 'ka',\n",
              " '##san',\n",
              " '##a',\n",
              " '(',\n",
              " '@',\n",
              " 'me',\n",
              " '##hre',\n",
              " '##en',\n",
              " '##kas',\n",
              " '##ana',\n",
              " ')',\n",
              " 'february',\n",
              " '12',\n",
              " ',',\n",
              " '2017',\n",
              " '##hila',\n",
              " '##rio',\n",
              " '##us',\n",
              " ',',\n",
              " '@',\n",
              " 'used',\n",
              " '##go',\n",
              " '##v',\n",
              " '.',\n",
              " 'it',\n",
              " 's',\n",
              " 'either',\n",
              " 'a',\n",
              " 'terrible',\n",
              " 'mistake',\n",
              " 'or',\n",
              " 'a',\n",
              " 'per',\n",
              " '##verse',\n",
              " 'for',\n",
              " '##ay',\n",
              " 'into',\n",
              " 'humor',\n",
              " '.',\n",
              " 'his',\n",
              " 'name',\n",
              " 'is',\n",
              " 'w',\n",
              " '.',\n",
              " 'e',\n",
              " '.',\n",
              " 'b',\n",
              " '.',\n",
              " 'du',\n",
              " 'bois',\n",
              " '.',\n",
              " 'screens',\n",
              " '##hot',\n",
              " 'saved',\n",
              " '.',\n",
              " '/',\n",
              " 'd',\n",
              " '##f',\n",
              " '##d',\n",
              " '##v',\n",
              " '##8',\n",
              " '##8',\n",
              " '##7',\n",
              " '##rne',\n",
              " 'jeffrey',\n",
              " 'gut',\n",
              " '##erman',\n",
              " '(',\n",
              " '@',\n",
              " 'jeffrey',\n",
              " '##gut',\n",
              " '##erman',\n",
              " ')',\n",
              " 'february',\n",
              " '12',\n",
              " ',',\n",
              " '2017',\n",
              " '@',\n",
              " 'jeffrey',\n",
              " '##gut',\n",
              " '##erman',\n",
              " '@',\n",
              " 'used',\n",
              " '##go',\n",
              " '##v',\n",
              " 'is',\n",
              " '@',\n",
              " 'betsy',\n",
              " '##dev',\n",
              " '##os',\n",
              " 'in',\n",
              " 'charge',\n",
              " 'of',\n",
              " 'social',\n",
              " 'media',\n",
              " 'content',\n",
              " 'too',\n",
              " '?',\n",
              " 'was',\n",
              " 'she',\n",
              " 'distracted',\n",
              " 'by',\n",
              " 'a',\n",
              " 'gr',\n",
              " '##izzly',\n",
              " '?',\n",
              " '?',\n",
              " '@',\n",
              " 'pc',\n",
              " '##7',\n",
              " '(',\n",
              " '@',\n",
              " 'p',\n",
              " '##j',\n",
              " '##cc',\n",
              " '##7',\n",
              " '##7',\n",
              " '##7',\n",
              " ')',\n",
              " 'february',\n",
              " '12',\n",
              " ',',\n",
              " '2017',\n",
              " '@',\n",
              " 'used',\n",
              " '##go',\n",
              " '##v',\n",
              " 'how',\n",
              " 'the',\n",
              " 'hell',\n",
              " 'do',\n",
              " 'you',\n",
              " 'miss',\n",
              " '##pel',\n",
              " '##l',\n",
              " 'his',\n",
              " 'name',\n",
              " '?',\n",
              " 'if',\n",
              " 'this',\n",
              " 'isn',\n",
              " 't',\n",
              " 'fore',\n",
              " '##sha',\n",
              " '##do',\n",
              " '##wing',\n",
              " 'the',\n",
              " 'shit',\n",
              " '##storm',\n",
              " 'of',\n",
              " '#',\n",
              " 'betsy',\n",
              " '##dev',\n",
              " '##os',\n",
              " ',',\n",
              " 'then',\n",
              " 'i',\n",
              " 'don',\n",
              " 't',\n",
              " 'know',\n",
              " 'what',\n",
              " 'is',\n",
              " 's',\n",
              " 'vi',\n",
              " '##on',\n",
              " '(',\n",
              " '@',\n",
              " 'sa',\n",
              " '##vio',\n",
              " '##n',\n",
              " '##wright',\n",
              " ')',\n",
              " 'february',\n",
              " '12',\n",
              " ',',\n",
              " '2017',\n",
              " '##i',\n",
              " 'see',\n",
              " 'they',\n",
              " 'left',\n",
              " 'ms',\n",
              " '.',\n",
              " 'du',\n",
              " '##vos',\n",
              " 'in',\n",
              " 'charge',\n",
              " 'of',\n",
              " 'the',\n",
              " '@',\n",
              " 'used',\n",
              " '##go',\n",
              " '##v',\n",
              " 'twitter',\n",
              " 'feed',\n",
              " '/',\n",
              " 'sw',\n",
              " '##0s',\n",
              " '##c',\n",
              " '##gm',\n",
              " '##49',\n",
              " '##u',\n",
              " 'jason',\n",
              " 'to',\n",
              " '##cci',\n",
              " '(',\n",
              " '@',\n",
              " 'jason',\n",
              " '##t',\n",
              " ')',\n",
              " 'february',\n",
              " '12',\n",
              " ',',\n",
              " '2017',\n",
              " '##pro',\n",
              " '##test',\n",
              " '##ers',\n",
              " 'should',\n",
              " 've',\n",
              " 'let',\n",
              " '@',\n",
              " 'betsy',\n",
              " '##dev',\n",
              " '##os',\n",
              " 'into',\n",
              " 'the',\n",
              " 'school',\n",
              " 'long',\n",
              " 'enough',\n",
              " 'to',\n",
              " 'learn',\n",
              " 'how',\n",
              " 'to',\n",
              " 'spell',\n",
              " 'his',\n",
              " 'name',\n",
              " 'correctly',\n",
              " '@',\n",
              " 'used',\n",
              " '##go',\n",
              " '##v',\n",
              " '##ht',\n",
              " '##tp',\n",
              " '##s',\n",
              " ':',\n",
              " '/',\n",
              " '/',\n",
              " 't',\n",
              " '.',\n",
              " 'co',\n",
              " '/',\n",
              " 'pd',\n",
              " '##z',\n",
              " '##sg',\n",
              " '##u',\n",
              " '##5',\n",
              " '##x',\n",
              " '##ev',\n",
              " 'carlton',\n",
              " 'banks',\n",
              " '##y',\n",
              " '(',\n",
              " '@',\n",
              " 'rt',\n",
              " '##yson',\n",
              " '##8',\n",
              " '##2',\n",
              " ')',\n",
              " 'february',\n",
              " '12',\n",
              " ',',\n",
              " '2017',\n",
              " '##and',\n",
              " 'if',\n",
              " 'that',\n",
              " 'wasn',\n",
              " 't',\n",
              " 'enough',\n",
              " ',',\n",
              " 'the',\n",
              " 'department',\n",
              " 'of',\n",
              " 'education',\n",
              " 'posted',\n",
              " 'a',\n",
              " 'corrected',\n",
              " 'version',\n",
              " 'and',\n",
              " 'then',\n",
              " 'posted',\n",
              " 'an',\n",
              " 'apology',\n",
              " 't',\n",
              " '##wee',\n",
              " '##t',\n",
              " 'that',\n",
              " 'was',\n",
              " 'also',\n",
              " 'miss',\n",
              " '##pel',\n",
              " '##led',\n",
              " '.',\n",
              " 'again',\n",
              " ',',\n",
              " 'seriously',\n",
              " '.',\n",
              " 'education',\n",
              " 'must',\n",
              " 'not',\n",
              " 'simply',\n",
              " 'teach',\n",
              " 'work',\n",
              " 'it',\n",
              " 'must',\n",
              " 'teach',\n",
              " 'life',\n",
              " '.',\n",
              " 'w',\n",
              " '.',\n",
              " 'e',\n",
              " '.',\n",
              " 'b',\n",
              " '.',\n",
              " 'du',\n",
              " 'bois',\n",
              " '/',\n",
              " 'hs',\n",
              " '##g',\n",
              " '##4',\n",
              " '##r',\n",
              " '##1',\n",
              " '##rl',\n",
              " '##hh',\n",
              " 'us',\n",
              " 'dept',\n",
              " 'of',\n",
              " 'education',\n",
              " '(',\n",
              " '@',\n",
              " 'used',\n",
              " '##go',\n",
              " '##v',\n",
              " ')',\n",
              " 'february',\n",
              " '12',\n",
              " ',',\n",
              " '2017',\n",
              " 'our',\n",
              " 'deepest',\n",
              " 'apologize',\n",
              " '##s',\n",
              " '/',\n",
              " '0',\n",
              " '##sta',\n",
              " '##ogo',\n",
              " '##3',\n",
              " '##f',\n",
              " '##d',\n",
              " 'josh',\n",
              " 'bill',\n",
              " '##ins',\n",
              " '##on',\n",
              " '(',\n",
              " '@',\n",
              " 'j',\n",
              " '##bill',\n",
              " '##ins',\n",
              " '##on',\n",
              " ')',\n",
              " 'february',\n",
              " '12',\n",
              " ',',\n",
              " '2017',\n",
              " '##eve',\n",
              " '##n',\n",
              " 'reading',\n",
              " 'rainbow',\n",
              " 'star',\n",
              " 'lev',\n",
              " '##ar',\n",
              " 'burton',\n",
              " 'chimed',\n",
              " 'in',\n",
              " '.',\n",
              " 'heaven',\n",
              " 'help',\n",
              " 'us',\n",
              " '!',\n",
              " 'the',\n",
              " 'dept',\n",
              " '.',\n",
              " 'of',\n",
              " 'education',\n",
              " 'miss',\n",
              " '##pel',\n",
              " '##led',\n",
              " 'dubois',\n",
              " '#',\n",
              " 'by',\n",
              " '##dh',\n",
              " '##tt',\n",
              " '##m',\n",
              " '##w',\n",
              " '##fi',\n",
              " 'https',\n",
              " ':',\n",
              " '/',\n",
              " '/',\n",
              " 't',\n",
              " '.',\n",
              " 'co',\n",
              " '/',\n",
              " 'pt',\n",
              " '##6',\n",
              " '##i',\n",
              " '##1',\n",
              " '##em',\n",
              " '##8',\n",
              " '##an',\n",
              " 'lev',\n",
              " '##ar',\n",
              " 'burton',\n",
              " ...]"
            ]
          },
          "metadata": {
            "tags": []
          },
          "execution_count": 96
        }
      ]
    },
    {
      "cell_type": "code",
      "metadata": {
        "id": "kPN_kJsumXW8",
        "colab_type": "code",
        "colab": {}
      },
      "source": [
        "# label_list is the list of labels, i.e. True, False or 0, 1\n",
        "label_list = [True, False]"
      ],
      "execution_count": 0,
      "outputs": []
    },
    {
      "cell_type": "code",
      "metadata": {
        "id": "9PkqjZvVmK4r",
        "colab_type": "code",
        "colab": {
          "base_uri": "https://localhost:8080/",
          "height": 1000
        },
        "outputId": "99d86828-5daf-40c7-ad14-838fbc7289ed"
      },
      "source": [
        "# We'll set sequences to be at most 128 tokens long (due to memory restriction)\n",
        "MAX_SEQ_LENGTH = 128\n",
        "# Convert our train and test features to InputFeatures that BERT understands.\n",
        "train_features = bert.run_classifier.convert_examples_to_features(train_InputExamples, label_list, MAX_SEQ_LENGTH, tokenizer_bert)\n",
        "dev_features = bert.run_classifier.convert_examples_to_features(dev_InputExamples, label_list, MAX_SEQ_LENGTH, tokenizer_bert)\n",
        "test_features = bert.run_classifier.convert_examples_to_features(test_InputExamples, label_list, MAX_SEQ_LENGTH, tokenizer_bert)"
      ],
      "execution_count": 98,
      "outputs": [
        {
          "output_type": "stream",
          "text": [
            "WARNING:tensorflow:From /usr/local/lib/python3.6/dist-packages/bert/run_classifier.py:774: The name tf.logging.info is deprecated. Please use tf.compat.v1.logging.info instead.\n",
            "\n"
          ],
          "name": "stdout"
        },
        {
          "output_type": "stream",
          "text": [
            "WARNING:tensorflow:From /usr/local/lib/python3.6/dist-packages/bert/run_classifier.py:774: The name tf.logging.info is deprecated. Please use tf.compat.v1.logging.info instead.\n",
            "\n"
          ],
          "name": "stderr"
        },
        {
          "output_type": "stream",
          "text": [
            "INFO:tensorflow:Writing example 0 of 17728\n"
          ],
          "name": "stdout"
        },
        {
          "output_type": "stream",
          "text": [
            "INFO:tensorflow:Writing example 0 of 17728\n"
          ],
          "name": "stderr"
        },
        {
          "output_type": "stream",
          "text": [
            "INFO:tensorflow:*** Example ***\n"
          ],
          "name": "stdout"
        },
        {
          "output_type": "stream",
          "text": [
            "INFO:tensorflow:*** Example ***\n"
          ],
          "name": "stderr"
        },
        {
          "output_type": "stream",
          "text": [
            "INFO:tensorflow:guid: None\n"
          ],
          "name": "stdout"
        },
        {
          "output_type": "stream",
          "text": [
            "INFO:tensorflow:guid: None\n"
          ],
          "name": "stderr"
        },
        {
          "output_type": "stream",
          "text": [
            "INFO:tensorflow:tokens: [CLS] er ##dog ##an takes legal action law ##maker calls fascist dictator tay ##yi ##p er ##dog ##an filed criminal complaint prominent law ##maker er ##dog ##an lawyers deputy called fascist dictator b ##list ##ering criticism er ##dog ##an main attacked fearful atmosphere er ##dog ##an lawyer filed legal petition concerning ankara prosecutor crime insulting posted photos petition suspect statements part campaign cannot interpreted isolated incident petition saying campaign launched attempted coup speech criticizing local judicial try scare create fearful atmosphere showing legal illegal ones deter ##red comments appeared local mayor ch ##p member questioned reportedly called er ##dog ##an dictator mayor say er ##dog ##an fascist dictator comments prompted swift backlash er ##dog ##an ak er ##dog ##an ibrahim saying speech example disgrace main insulting crime [SEP]\n"
          ],
          "name": "stdout"
        },
        {
          "output_type": "stream",
          "text": [
            "INFO:tensorflow:tokens: [CLS] er ##dog ##an takes legal action law ##maker calls fascist dictator tay ##yi ##p er ##dog ##an filed criminal complaint prominent law ##maker er ##dog ##an lawyers deputy called fascist dictator b ##list ##ering criticism er ##dog ##an main attacked fearful atmosphere er ##dog ##an lawyer filed legal petition concerning ankara prosecutor crime insulting posted photos petition suspect statements part campaign cannot interpreted isolated incident petition saying campaign launched attempted coup speech criticizing local judicial try scare create fearful atmosphere showing legal illegal ones deter ##red comments appeared local mayor ch ##p member questioned reportedly called er ##dog ##an dictator mayor say er ##dog ##an fascist dictator comments prompted swift backlash er ##dog ##an ak er ##dog ##an ibrahim saying speech example disgrace main insulting crime [SEP]\n"
          ],
          "name": "stderr"
        },
        {
          "output_type": "stream",
          "text": [
            "INFO:tensorflow:input_ids: 101 9413 16168 2319 3138 3423 2895 2375 8571 4455 14870 21237 28117 10139 2361 9413 16168 2319 6406 4735 12087 4069 2375 8571 9413 16168 2319 9559 4112 2170 14870 21237 1038 9863 7999 6256 9413 16168 2319 2364 4457 19725 7224 9413 16168 2319 5160 6406 3423 9964 7175 20312 12478 4126 23979 6866 7760 9964 8343 8635 2112 3049 3685 10009 7275 5043 9964 3038 3049 3390 4692 8648 4613 21289 2334 8268 3046 12665 3443 19725 7224 4760 3423 6206 3924 28283 5596 7928 2596 2334 3664 10381 2361 2266 8781 7283 2170 9413 16168 2319 21237 3664 2360 9413 16168 2319 14870 21237 7928 9469 9170 25748 9413 16168 2319 17712 9413 16168 2319 13477 3038 4613 2742 29591 2364 23979 4126 102\n"
          ],
          "name": "stdout"
        },
        {
          "output_type": "stream",
          "text": [
            "INFO:tensorflow:input_ids: 101 9413 16168 2319 3138 3423 2895 2375 8571 4455 14870 21237 28117 10139 2361 9413 16168 2319 6406 4735 12087 4069 2375 8571 9413 16168 2319 9559 4112 2170 14870 21237 1038 9863 7999 6256 9413 16168 2319 2364 4457 19725 7224 9413 16168 2319 5160 6406 3423 9964 7175 20312 12478 4126 23979 6866 7760 9964 8343 8635 2112 3049 3685 10009 7275 5043 9964 3038 3049 3390 4692 8648 4613 21289 2334 8268 3046 12665 3443 19725 7224 4760 3423 6206 3924 28283 5596 7928 2596 2334 3664 10381 2361 2266 8781 7283 2170 9413 16168 2319 21237 3664 2360 9413 16168 2319 14870 21237 7928 9469 9170 25748 9413 16168 2319 17712 9413 16168 2319 13477 3038 4613 2742 29591 2364 23979 4126 102\n"
          ],
          "name": "stderr"
        },
        {
          "output_type": "stream",
          "text": [
            "INFO:tensorflow:input_mask: 1 1 1 1 1 1 1 1 1 1 1 1 1 1 1 1 1 1 1 1 1 1 1 1 1 1 1 1 1 1 1 1 1 1 1 1 1 1 1 1 1 1 1 1 1 1 1 1 1 1 1 1 1 1 1 1 1 1 1 1 1 1 1 1 1 1 1 1 1 1 1 1 1 1 1 1 1 1 1 1 1 1 1 1 1 1 1 1 1 1 1 1 1 1 1 1 1 1 1 1 1 1 1 1 1 1 1 1 1 1 1 1 1 1 1 1 1 1 1 1 1 1 1 1 1 1 1 1\n"
          ],
          "name": "stdout"
        },
        {
          "output_type": "stream",
          "text": [
            "INFO:tensorflow:input_mask: 1 1 1 1 1 1 1 1 1 1 1 1 1 1 1 1 1 1 1 1 1 1 1 1 1 1 1 1 1 1 1 1 1 1 1 1 1 1 1 1 1 1 1 1 1 1 1 1 1 1 1 1 1 1 1 1 1 1 1 1 1 1 1 1 1 1 1 1 1 1 1 1 1 1 1 1 1 1 1 1 1 1 1 1 1 1 1 1 1 1 1 1 1 1 1 1 1 1 1 1 1 1 1 1 1 1 1 1 1 1 1 1 1 1 1 1 1 1 1 1 1 1 1 1 1 1 1 1\n"
          ],
          "name": "stderr"
        },
        {
          "output_type": "stream",
          "text": [
            "INFO:tensorflow:segment_ids: 0 0 0 0 0 0 0 0 0 0 0 0 0 0 0 0 0 0 0 0 0 0 0 0 0 0 0 0 0 0 0 0 0 0 0 0 0 0 0 0 0 0 0 0 0 0 0 0 0 0 0 0 0 0 0 0 0 0 0 0 0 0 0 0 0 0 0 0 0 0 0 0 0 0 0 0 0 0 0 0 0 0 0 0 0 0 0 0 0 0 0 0 0 0 0 0 0 0 0 0 0 0 0 0 0 0 0 0 0 0 0 0 0 0 0 0 0 0 0 0 0 0 0 0 0 0 0 0\n"
          ],
          "name": "stdout"
        },
        {
          "output_type": "stream",
          "text": [
            "INFO:tensorflow:segment_ids: 0 0 0 0 0 0 0 0 0 0 0 0 0 0 0 0 0 0 0 0 0 0 0 0 0 0 0 0 0 0 0 0 0 0 0 0 0 0 0 0 0 0 0 0 0 0 0 0 0 0 0 0 0 0 0 0 0 0 0 0 0 0 0 0 0 0 0 0 0 0 0 0 0 0 0 0 0 0 0 0 0 0 0 0 0 0 0 0 0 0 0 0 0 0 0 0 0 0 0 0 0 0 0 0 0 0 0 0 0 0 0 0 0 0 0 0 0 0 0 0 0 0 0 0 0 0 0 0\n"
          ],
          "name": "stderr"
        },
        {
          "output_type": "stream",
          "text": [
            "INFO:tensorflow:label: 1 (id = 0)\n"
          ],
          "name": "stdout"
        },
        {
          "output_type": "stream",
          "text": [
            "INFO:tensorflow:label: 1 (id = 0)\n"
          ],
          "name": "stderr"
        },
        {
          "output_type": "stream",
          "text": [
            "INFO:tensorflow:*** Example ***\n"
          ],
          "name": "stdout"
        },
        {
          "output_type": "stream",
          "text": [
            "INFO:tensorflow:*** Example ***\n"
          ],
          "name": "stderr"
        },
        {
          "output_type": "stream",
          "text": [
            "INFO:tensorflow:guid: None\n"
          ],
          "name": "stdout"
        },
        {
          "output_type": "stream",
          "text": [
            "INFO:tensorflow:guid: None\n"
          ],
          "name": "stderr"
        },
        {
          "output_type": "stream",
          "text": [
            "INFO:tensorflow:tokens: [CLS] gotta idiot conservatives accidentally reveal nr ##a conservatives alongside wing outlets trying desperately spin debate favor executive actions guns need conservative outlet decided run article title quan ##dar ##y nr ##a gaining control losing screen ##gra ##b within text article try piece together sort magic showing nr ##a fail mis ##era ##bly stating twenty seven strongly supported nr ##a december number risen order strongly nr ##a nr ##a seem smart write article terribly numbers half nation side bravo addition voting feet walking stores around country buying firearms record pace figures set record number background checks performed single checks performed rei ##tera ##te nr ##a enjoys strong control losing ground w ##s ##j suggests put position alone nr ##a enjoys reward paying rest chance hurt profits oh [SEP]\n"
          ],
          "name": "stdout"
        },
        {
          "output_type": "stream",
          "text": [
            "INFO:tensorflow:tokens: [CLS] gotta idiot conservatives accidentally reveal nr ##a conservatives alongside wing outlets trying desperately spin debate favor executive actions guns need conservative outlet decided run article title quan ##dar ##y nr ##a gaining control losing screen ##gra ##b within text article try piece together sort magic showing nr ##a fail mis ##era ##bly stating twenty seven strongly supported nr ##a december number risen order strongly nr ##a nr ##a seem smart write article terribly numbers half nation side bravo addition voting feet walking stores around country buying firearms record pace figures set record number background checks performed single checks performed rei ##tera ##te nr ##a enjoys strong control losing ground w ##s ##j suggests put position alone nr ##a enjoys reward paying rest chance hurt profits oh [SEP]\n"
          ],
          "name": "stderr"
        },
        {
          "output_type": "stream",
          "text": [
            "INFO:tensorflow:input_ids: 101 10657 10041 11992 9554 7487 17212 2050 11992 4077 3358 11730 2667 9652 6714 5981 5684 3237 4506 4409 2342 4603 13307 2787 2448 3720 2516 24110 7662 2100 17212 2050 8550 2491 3974 3898 17643 2497 2306 3793 3720 3046 3538 2362 4066 3894 4760 17212 2050 8246 28616 6906 6321 5517 3174 2698 6118 3569 17212 2050 2285 2193 13763 2344 6118 17212 2050 17212 2050 4025 6047 4339 3720 16668 3616 2431 3842 2217 17562 2804 6830 2519 3788 5324 2105 2406 9343 13780 2501 6393 4481 2275 2501 2193 4281 14148 2864 2309 14148 2864 24964 14621 2618 17212 2050 15646 2844 2491 3974 2598 1059 2015 3501 6083 2404 2597 2894 17212 2050 15646 10377 7079 2717 3382 3480 11372 2821 102\n"
          ],
          "name": "stdout"
        },
        {
          "output_type": "stream",
          "text": [
            "INFO:tensorflow:input_ids: 101 10657 10041 11992 9554 7487 17212 2050 11992 4077 3358 11730 2667 9652 6714 5981 5684 3237 4506 4409 2342 4603 13307 2787 2448 3720 2516 24110 7662 2100 17212 2050 8550 2491 3974 3898 17643 2497 2306 3793 3720 3046 3538 2362 4066 3894 4760 17212 2050 8246 28616 6906 6321 5517 3174 2698 6118 3569 17212 2050 2285 2193 13763 2344 6118 17212 2050 17212 2050 4025 6047 4339 3720 16668 3616 2431 3842 2217 17562 2804 6830 2519 3788 5324 2105 2406 9343 13780 2501 6393 4481 2275 2501 2193 4281 14148 2864 2309 14148 2864 24964 14621 2618 17212 2050 15646 2844 2491 3974 2598 1059 2015 3501 6083 2404 2597 2894 17212 2050 15646 10377 7079 2717 3382 3480 11372 2821 102\n"
          ],
          "name": "stderr"
        },
        {
          "output_type": "stream",
          "text": [
            "INFO:tensorflow:input_mask: 1 1 1 1 1 1 1 1 1 1 1 1 1 1 1 1 1 1 1 1 1 1 1 1 1 1 1 1 1 1 1 1 1 1 1 1 1 1 1 1 1 1 1 1 1 1 1 1 1 1 1 1 1 1 1 1 1 1 1 1 1 1 1 1 1 1 1 1 1 1 1 1 1 1 1 1 1 1 1 1 1 1 1 1 1 1 1 1 1 1 1 1 1 1 1 1 1 1 1 1 1 1 1 1 1 1 1 1 1 1 1 1 1 1 1 1 1 1 1 1 1 1 1 1 1 1 1 1\n"
          ],
          "name": "stdout"
        },
        {
          "output_type": "stream",
          "text": [
            "INFO:tensorflow:input_mask: 1 1 1 1 1 1 1 1 1 1 1 1 1 1 1 1 1 1 1 1 1 1 1 1 1 1 1 1 1 1 1 1 1 1 1 1 1 1 1 1 1 1 1 1 1 1 1 1 1 1 1 1 1 1 1 1 1 1 1 1 1 1 1 1 1 1 1 1 1 1 1 1 1 1 1 1 1 1 1 1 1 1 1 1 1 1 1 1 1 1 1 1 1 1 1 1 1 1 1 1 1 1 1 1 1 1 1 1 1 1 1 1 1 1 1 1 1 1 1 1 1 1 1 1 1 1 1 1\n"
          ],
          "name": "stderr"
        },
        {
          "output_type": "stream",
          "text": [
            "INFO:tensorflow:segment_ids: 0 0 0 0 0 0 0 0 0 0 0 0 0 0 0 0 0 0 0 0 0 0 0 0 0 0 0 0 0 0 0 0 0 0 0 0 0 0 0 0 0 0 0 0 0 0 0 0 0 0 0 0 0 0 0 0 0 0 0 0 0 0 0 0 0 0 0 0 0 0 0 0 0 0 0 0 0 0 0 0 0 0 0 0 0 0 0 0 0 0 0 0 0 0 0 0 0 0 0 0 0 0 0 0 0 0 0 0 0 0 0 0 0 0 0 0 0 0 0 0 0 0 0 0 0 0 0 0\n"
          ],
          "name": "stdout"
        },
        {
          "output_type": "stream",
          "text": [
            "INFO:tensorflow:segment_ids: 0 0 0 0 0 0 0 0 0 0 0 0 0 0 0 0 0 0 0 0 0 0 0 0 0 0 0 0 0 0 0 0 0 0 0 0 0 0 0 0 0 0 0 0 0 0 0 0 0 0 0 0 0 0 0 0 0 0 0 0 0 0 0 0 0 0 0 0 0 0 0 0 0 0 0 0 0 0 0 0 0 0 0 0 0 0 0 0 0 0 0 0 0 0 0 0 0 0 0 0 0 0 0 0 0 0 0 0 0 0 0 0 0 0 0 0 0 0 0 0 0 0 0 0 0 0 0 0\n"
          ],
          "name": "stderr"
        },
        {
          "output_type": "stream",
          "text": [
            "INFO:tensorflow:label: 0 (id = 1)\n"
          ],
          "name": "stdout"
        },
        {
          "output_type": "stream",
          "text": [
            "INFO:tensorflow:label: 0 (id = 1)\n"
          ],
          "name": "stderr"
        },
        {
          "output_type": "stream",
          "text": [
            "INFO:tensorflow:*** Example ***\n"
          ],
          "name": "stdout"
        },
        {
          "output_type": "stream",
          "text": [
            "INFO:tensorflow:*** Example ***\n"
          ],
          "name": "stderr"
        },
        {
          "output_type": "stream",
          "text": [
            "INFO:tensorflow:guid: None\n"
          ],
          "name": "stdout"
        },
        {
          "output_type": "stream",
          "text": [
            "INFO:tensorflow:guid: None\n"
          ],
          "name": "stderr"
        },
        {
          "output_type": "stream",
          "text": [
            "INFO:tensorflow:tokens: [CLS] sc ##hum ##er emerges newest punching bag elect insulted rivals campaign nickname ##s crooked marco nemesis chuck sc ##hum ##er clown rhetoric ##al ban ##ter erupted yorker ##s centered fight di ##sman ##tle obama ##care effort put domestic agenda weeks sworn th taken den ##ig ##rate hard charging fundraiser senators estate magnate po ##sh florida oceans ##ide estate sc ##hum ##er whose democrats minority still muscle potentially block legislative initiatives clashed elect took first steps try gut barack signature healthcare known obama ##care sc ##hum ##er used campaign slogan mock repeal effort saying sick shot democrats blame called failed obama ##care disaster sc ##hum ##er clown ##s web wrote democrats head clown chuck sc ##hum ##er prompted say stop wasting calling names roll sleeves work ##able [SEP]\n"
          ],
          "name": "stdout"
        },
        {
          "output_type": "stream",
          "text": [
            "INFO:tensorflow:tokens: [CLS] sc ##hum ##er emerges newest punching bag elect insulted rivals campaign nickname ##s crooked marco nemesis chuck sc ##hum ##er clown rhetoric ##al ban ##ter erupted yorker ##s centered fight di ##sman ##tle obama ##care effort put domestic agenda weeks sworn th taken den ##ig ##rate hard charging fundraiser senators estate magnate po ##sh florida oceans ##ide estate sc ##hum ##er whose democrats minority still muscle potentially block legislative initiatives clashed elect took first steps try gut barack signature healthcare known obama ##care sc ##hum ##er used campaign slogan mock repeal effort saying sick shot democrats blame called failed obama ##care disaster sc ##hum ##er clown ##s web wrote democrats head clown chuck sc ##hum ##er prompted say stop wasting calling names roll sleeves work ##able [SEP]\n"
          ],
          "name": "stderr"
        },
        {
          "output_type": "stream",
          "text": [
            "INFO:tensorflow:input_ids: 101 8040 28600 2121 19391 14751 19477 4524 11322 23637 9169 3049 8367 2015 15274 8879 21363 8057 8040 28600 2121 15912 17871 2389 7221 3334 12591 19095 2015 8857 2954 4487 11512 9286 8112 16302 3947 2404 4968 11376 3134 10741 16215 2579 7939 8004 11657 2524 13003 28536 10153 3776 27470 13433 4095 3516 17401 5178 3776 8040 28600 2121 3005 8037 7162 2145 6740 9280 3796 4884 11107 22600 11322 2165 2034 4084 3046 9535 13857 8085 9871 2124 8112 16302 8040 28600 2121 2109 3049 14558 12934 21825 3947 3038 5305 2915 8037 7499 2170 3478 8112 16302 7071 8040 28600 2121 15912 2015 4773 2626 8037 2132 15912 8057 8040 28600 2121 9469 2360 2644 18313 4214 3415 4897 15114 2147 3085 102\n"
          ],
          "name": "stdout"
        },
        {
          "output_type": "stream",
          "text": [
            "INFO:tensorflow:input_ids: 101 8040 28600 2121 19391 14751 19477 4524 11322 23637 9169 3049 8367 2015 15274 8879 21363 8057 8040 28600 2121 15912 17871 2389 7221 3334 12591 19095 2015 8857 2954 4487 11512 9286 8112 16302 3947 2404 4968 11376 3134 10741 16215 2579 7939 8004 11657 2524 13003 28536 10153 3776 27470 13433 4095 3516 17401 5178 3776 8040 28600 2121 3005 8037 7162 2145 6740 9280 3796 4884 11107 22600 11322 2165 2034 4084 3046 9535 13857 8085 9871 2124 8112 16302 8040 28600 2121 2109 3049 14558 12934 21825 3947 3038 5305 2915 8037 7499 2170 3478 8112 16302 7071 8040 28600 2121 15912 2015 4773 2626 8037 2132 15912 8057 8040 28600 2121 9469 2360 2644 18313 4214 3415 4897 15114 2147 3085 102\n"
          ],
          "name": "stderr"
        },
        {
          "output_type": "stream",
          "text": [
            "INFO:tensorflow:input_mask: 1 1 1 1 1 1 1 1 1 1 1 1 1 1 1 1 1 1 1 1 1 1 1 1 1 1 1 1 1 1 1 1 1 1 1 1 1 1 1 1 1 1 1 1 1 1 1 1 1 1 1 1 1 1 1 1 1 1 1 1 1 1 1 1 1 1 1 1 1 1 1 1 1 1 1 1 1 1 1 1 1 1 1 1 1 1 1 1 1 1 1 1 1 1 1 1 1 1 1 1 1 1 1 1 1 1 1 1 1 1 1 1 1 1 1 1 1 1 1 1 1 1 1 1 1 1 1 1\n"
          ],
          "name": "stdout"
        },
        {
          "output_type": "stream",
          "text": [
            "INFO:tensorflow:input_mask: 1 1 1 1 1 1 1 1 1 1 1 1 1 1 1 1 1 1 1 1 1 1 1 1 1 1 1 1 1 1 1 1 1 1 1 1 1 1 1 1 1 1 1 1 1 1 1 1 1 1 1 1 1 1 1 1 1 1 1 1 1 1 1 1 1 1 1 1 1 1 1 1 1 1 1 1 1 1 1 1 1 1 1 1 1 1 1 1 1 1 1 1 1 1 1 1 1 1 1 1 1 1 1 1 1 1 1 1 1 1 1 1 1 1 1 1 1 1 1 1 1 1 1 1 1 1 1 1\n"
          ],
          "name": "stderr"
        },
        {
          "output_type": "stream",
          "text": [
            "INFO:tensorflow:segment_ids: 0 0 0 0 0 0 0 0 0 0 0 0 0 0 0 0 0 0 0 0 0 0 0 0 0 0 0 0 0 0 0 0 0 0 0 0 0 0 0 0 0 0 0 0 0 0 0 0 0 0 0 0 0 0 0 0 0 0 0 0 0 0 0 0 0 0 0 0 0 0 0 0 0 0 0 0 0 0 0 0 0 0 0 0 0 0 0 0 0 0 0 0 0 0 0 0 0 0 0 0 0 0 0 0 0 0 0 0 0 0 0 0 0 0 0 0 0 0 0 0 0 0 0 0 0 0 0 0\n"
          ],
          "name": "stdout"
        },
        {
          "output_type": "stream",
          "text": [
            "INFO:tensorflow:segment_ids: 0 0 0 0 0 0 0 0 0 0 0 0 0 0 0 0 0 0 0 0 0 0 0 0 0 0 0 0 0 0 0 0 0 0 0 0 0 0 0 0 0 0 0 0 0 0 0 0 0 0 0 0 0 0 0 0 0 0 0 0 0 0 0 0 0 0 0 0 0 0 0 0 0 0 0 0 0 0 0 0 0 0 0 0 0 0 0 0 0 0 0 0 0 0 0 0 0 0 0 0 0 0 0 0 0 0 0 0 0 0 0 0 0 0 0 0 0 0 0 0 0 0 0 0 0 0 0 0\n"
          ],
          "name": "stderr"
        },
        {
          "output_type": "stream",
          "text": [
            "INFO:tensorflow:label: 1 (id = 0)\n"
          ],
          "name": "stdout"
        },
        {
          "output_type": "stream",
          "text": [
            "INFO:tensorflow:label: 1 (id = 0)\n"
          ],
          "name": "stderr"
        },
        {
          "output_type": "stream",
          "text": [
            "INFO:tensorflow:*** Example ***\n"
          ],
          "name": "stdout"
        },
        {
          "output_type": "stream",
          "text": [
            "INFO:tensorflow:*** Example ***\n"
          ],
          "name": "stderr"
        },
        {
          "output_type": "stream",
          "text": [
            "INFO:tensorflow:guid: None\n"
          ],
          "name": "stdout"
        },
        {
          "output_type": "stream",
          "text": [
            "INFO:tensorflow:guid: None\n"
          ],
          "name": "stderr"
        },
        {
          "output_type": "stream",
          "text": [
            "INFO:tensorflow:tokens: [CLS] server technician declines answer ordered questions computer technician set private email server work answer questions deposition ordered judge transcript released bryan pa ##glia ##no worked previous run joined technology appoint ##ees set unauthorized server york home set server dogg ##ed pre ##sum ##ptive candidate november clouded campaign legal uncertainty voters say find dish ##ones ##t polls citing private server judge em ##met sullivan district ordered pa ##glia ##no aide ##s give sworn testimony help decide server set th ##wart public records sullivan overseeing lawsuit judicial conservative watch ##dog sui ##ng scores lawsuits filed individuals incorrectly emails arrangement became publicly known years left advice counsel decline answer question reliance fifth amendment constitution pa ##glia ##no minutes response series questions judicial lawyer deposition oath took place fifth amendment [SEP]\n"
          ],
          "name": "stdout"
        },
        {
          "output_type": "stream",
          "text": [
            "INFO:tensorflow:tokens: [CLS] server technician declines answer ordered questions computer technician set private email server work answer questions deposition ordered judge transcript released bryan pa ##glia ##no worked previous run joined technology appoint ##ees set unauthorized server york home set server dogg ##ed pre ##sum ##ptive candidate november clouded campaign legal uncertainty voters say find dish ##ones ##t polls citing private server judge em ##met sullivan district ordered pa ##glia ##no aide ##s give sworn testimony help decide server set th ##wart public records sullivan overseeing lawsuit judicial conservative watch ##dog sui ##ng scores lawsuits filed individuals incorrectly emails arrangement became publicly known years left advice counsel decline answer question reliance fifth amendment constitution pa ##glia ##no minutes response series questions judicial lawyer deposition oath took place fifth amendment [SEP]\n"
          ],
          "name": "stderr"
        },
        {
          "output_type": "stream",
          "text": [
            "INFO:tensorflow:input_ids: 101 8241 16661 26451 3437 3641 3980 3274 16661 2275 2797 10373 8241 2147 3437 3980 19806 3641 3648 24051 2207 8527 6643 20011 3630 2499 3025 2448 2587 2974 16823 10285 2275 24641 8241 2259 2188 2275 8241 28844 2098 3653 17421 24971 4018 2281 26761 3049 3423 12503 7206 2360 2424 9841 21821 2102 14592 8951 2797 8241 3648 7861 11368 7624 2212 3641 6643 20011 3630 14895 2015 2507 10741 10896 2393 5630 8241 2275 16215 18367 2270 2636 7624 19642 9870 8268 4603 3422 16168 24086 3070 7644 20543 6406 3633 19721 22028 6512 2150 7271 2124 2086 2187 6040 9517 6689 3437 3160 17975 3587 7450 4552 6643 20011 3630 2781 3433 2186 3980 8268 5160 19806 11292 2165 2173 3587 7450 102\n"
          ],
          "name": "stdout"
        },
        {
          "output_type": "stream",
          "text": [
            "INFO:tensorflow:input_ids: 101 8241 16661 26451 3437 3641 3980 3274 16661 2275 2797 10373 8241 2147 3437 3980 19806 3641 3648 24051 2207 8527 6643 20011 3630 2499 3025 2448 2587 2974 16823 10285 2275 24641 8241 2259 2188 2275 8241 28844 2098 3653 17421 24971 4018 2281 26761 3049 3423 12503 7206 2360 2424 9841 21821 2102 14592 8951 2797 8241 3648 7861 11368 7624 2212 3641 6643 20011 3630 14895 2015 2507 10741 10896 2393 5630 8241 2275 16215 18367 2270 2636 7624 19642 9870 8268 4603 3422 16168 24086 3070 7644 20543 6406 3633 19721 22028 6512 2150 7271 2124 2086 2187 6040 9517 6689 3437 3160 17975 3587 7450 4552 6643 20011 3630 2781 3433 2186 3980 8268 5160 19806 11292 2165 2173 3587 7450 102\n"
          ],
          "name": "stderr"
        },
        {
          "output_type": "stream",
          "text": [
            "INFO:tensorflow:input_mask: 1 1 1 1 1 1 1 1 1 1 1 1 1 1 1 1 1 1 1 1 1 1 1 1 1 1 1 1 1 1 1 1 1 1 1 1 1 1 1 1 1 1 1 1 1 1 1 1 1 1 1 1 1 1 1 1 1 1 1 1 1 1 1 1 1 1 1 1 1 1 1 1 1 1 1 1 1 1 1 1 1 1 1 1 1 1 1 1 1 1 1 1 1 1 1 1 1 1 1 1 1 1 1 1 1 1 1 1 1 1 1 1 1 1 1 1 1 1 1 1 1 1 1 1 1 1 1 1\n"
          ],
          "name": "stdout"
        },
        {
          "output_type": "stream",
          "text": [
            "INFO:tensorflow:input_mask: 1 1 1 1 1 1 1 1 1 1 1 1 1 1 1 1 1 1 1 1 1 1 1 1 1 1 1 1 1 1 1 1 1 1 1 1 1 1 1 1 1 1 1 1 1 1 1 1 1 1 1 1 1 1 1 1 1 1 1 1 1 1 1 1 1 1 1 1 1 1 1 1 1 1 1 1 1 1 1 1 1 1 1 1 1 1 1 1 1 1 1 1 1 1 1 1 1 1 1 1 1 1 1 1 1 1 1 1 1 1 1 1 1 1 1 1 1 1 1 1 1 1 1 1 1 1 1 1\n"
          ],
          "name": "stderr"
        },
        {
          "output_type": "stream",
          "text": [
            "INFO:tensorflow:segment_ids: 0 0 0 0 0 0 0 0 0 0 0 0 0 0 0 0 0 0 0 0 0 0 0 0 0 0 0 0 0 0 0 0 0 0 0 0 0 0 0 0 0 0 0 0 0 0 0 0 0 0 0 0 0 0 0 0 0 0 0 0 0 0 0 0 0 0 0 0 0 0 0 0 0 0 0 0 0 0 0 0 0 0 0 0 0 0 0 0 0 0 0 0 0 0 0 0 0 0 0 0 0 0 0 0 0 0 0 0 0 0 0 0 0 0 0 0 0 0 0 0 0 0 0 0 0 0 0 0\n"
          ],
          "name": "stdout"
        },
        {
          "output_type": "stream",
          "text": [
            "INFO:tensorflow:segment_ids: 0 0 0 0 0 0 0 0 0 0 0 0 0 0 0 0 0 0 0 0 0 0 0 0 0 0 0 0 0 0 0 0 0 0 0 0 0 0 0 0 0 0 0 0 0 0 0 0 0 0 0 0 0 0 0 0 0 0 0 0 0 0 0 0 0 0 0 0 0 0 0 0 0 0 0 0 0 0 0 0 0 0 0 0 0 0 0 0 0 0 0 0 0 0 0 0 0 0 0 0 0 0 0 0 0 0 0 0 0 0 0 0 0 0 0 0 0 0 0 0 0 0 0 0 0 0 0 0\n"
          ],
          "name": "stderr"
        },
        {
          "output_type": "stream",
          "text": [
            "INFO:tensorflow:label: 1 (id = 0)\n"
          ],
          "name": "stdout"
        },
        {
          "output_type": "stream",
          "text": [
            "INFO:tensorflow:label: 1 (id = 0)\n"
          ],
          "name": "stderr"
        },
        {
          "output_type": "stream",
          "text": [
            "INFO:tensorflow:*** Example ***\n"
          ],
          "name": "stdout"
        },
        {
          "output_type": "stream",
          "text": [
            "INFO:tensorflow:*** Example ***\n"
          ],
          "name": "stderr"
        },
        {
          "output_type": "stream",
          "text": [
            "INFO:tensorflow:guid: None\n"
          ],
          "name": "stdout"
        },
        {
          "output_type": "stream",
          "text": [
            "INFO:tensorflow:guid: None\n"
          ],
          "name": "stderr"
        },
        {
          "output_type": "stream",
          "text": [
            "INFO:tensorflow:tokens: [CLS] pe ##los ##i hacked email secret memo staff ##ers b ##lm activists dem ##s side large say doc ##s leaked gu ##cci ##fer memo nancy pe ##los ##i giving directions minions handle terror memo pe ##los ##i careful dc ##cc staff talk b ##lm allow meet large numbers feed animals keep arms length exactly kind rhetoric expect star nancy net worth listed keep engaged lose voting block close notable advising democrats say talk crime worst say activists describes b ##lm radical accurate notes extends beyond questions police brutality criminal justice leave eliminate prisons police notice advises offer concrete positions listen pretend offering [SEP]\n"
          ],
          "name": "stdout"
        },
        {
          "output_type": "stream",
          "text": [
            "INFO:tensorflow:tokens: [CLS] pe ##los ##i hacked email secret memo staff ##ers b ##lm activists dem ##s side large say doc ##s leaked gu ##cci ##fer memo nancy pe ##los ##i giving directions minions handle terror memo pe ##los ##i careful dc ##cc staff talk b ##lm allow meet large numbers feed animals keep arms length exactly kind rhetoric expect star nancy net worth listed keep engaged lose voting block close notable advising democrats say talk crime worst say activists describes b ##lm radical accurate notes extends beyond questions police brutality criminal justice leave eliminate prisons police notice advises offer concrete positions listen pretend offering [SEP]\n"
          ],
          "name": "stderr"
        },
        {
          "output_type": "stream",
          "text": [
            "INFO:tensorflow:input_ids: 101 21877 10483 2072 28719 10373 3595 24443 3095 2545 1038 13728 10134 17183 2015 2217 2312 2360 9986 2015 15748 19739 14693 7512 24443 7912 21877 10483 2072 3228 7826 28071 5047 7404 24443 21877 10483 2072 6176 5887 9468 3095 2831 1038 13728 3499 3113 2312 3616 5438 4176 2562 2608 3091 3599 2785 17871 5987 2732 7912 5658 4276 3205 2562 5117 4558 6830 3796 2485 3862 23875 8037 2360 2831 4126 5409 2360 10134 5577 1038 13728 7490 8321 3964 8908 3458 3980 2610 24083 4735 3425 2681 11027 15996 2610 5060 25453 3749 5509 4460 4952 9811 5378 102 0 0 0 0 0 0 0 0 0 0 0 0 0 0 0 0 0 0 0 0 0 0 0 0\n"
          ],
          "name": "stdout"
        },
        {
          "output_type": "stream",
          "text": [
            "INFO:tensorflow:input_ids: 101 21877 10483 2072 28719 10373 3595 24443 3095 2545 1038 13728 10134 17183 2015 2217 2312 2360 9986 2015 15748 19739 14693 7512 24443 7912 21877 10483 2072 3228 7826 28071 5047 7404 24443 21877 10483 2072 6176 5887 9468 3095 2831 1038 13728 3499 3113 2312 3616 5438 4176 2562 2608 3091 3599 2785 17871 5987 2732 7912 5658 4276 3205 2562 5117 4558 6830 3796 2485 3862 23875 8037 2360 2831 4126 5409 2360 10134 5577 1038 13728 7490 8321 3964 8908 3458 3980 2610 24083 4735 3425 2681 11027 15996 2610 5060 25453 3749 5509 4460 4952 9811 5378 102 0 0 0 0 0 0 0 0 0 0 0 0 0 0 0 0 0 0 0 0 0 0 0 0\n"
          ],
          "name": "stderr"
        },
        {
          "output_type": "stream",
          "text": [
            "INFO:tensorflow:input_mask: 1 1 1 1 1 1 1 1 1 1 1 1 1 1 1 1 1 1 1 1 1 1 1 1 1 1 1 1 1 1 1 1 1 1 1 1 1 1 1 1 1 1 1 1 1 1 1 1 1 1 1 1 1 1 1 1 1 1 1 1 1 1 1 1 1 1 1 1 1 1 1 1 1 1 1 1 1 1 1 1 1 1 1 1 1 1 1 1 1 1 1 1 1 1 1 1 1 1 1 1 1 1 1 1 0 0 0 0 0 0 0 0 0 0 0 0 0 0 0 0 0 0 0 0 0 0 0 0\n"
          ],
          "name": "stdout"
        },
        {
          "output_type": "stream",
          "text": [
            "INFO:tensorflow:input_mask: 1 1 1 1 1 1 1 1 1 1 1 1 1 1 1 1 1 1 1 1 1 1 1 1 1 1 1 1 1 1 1 1 1 1 1 1 1 1 1 1 1 1 1 1 1 1 1 1 1 1 1 1 1 1 1 1 1 1 1 1 1 1 1 1 1 1 1 1 1 1 1 1 1 1 1 1 1 1 1 1 1 1 1 1 1 1 1 1 1 1 1 1 1 1 1 1 1 1 1 1 1 1 1 1 0 0 0 0 0 0 0 0 0 0 0 0 0 0 0 0 0 0 0 0 0 0 0 0\n"
          ],
          "name": "stderr"
        },
        {
          "output_type": "stream",
          "text": [
            "INFO:tensorflow:segment_ids: 0 0 0 0 0 0 0 0 0 0 0 0 0 0 0 0 0 0 0 0 0 0 0 0 0 0 0 0 0 0 0 0 0 0 0 0 0 0 0 0 0 0 0 0 0 0 0 0 0 0 0 0 0 0 0 0 0 0 0 0 0 0 0 0 0 0 0 0 0 0 0 0 0 0 0 0 0 0 0 0 0 0 0 0 0 0 0 0 0 0 0 0 0 0 0 0 0 0 0 0 0 0 0 0 0 0 0 0 0 0 0 0 0 0 0 0 0 0 0 0 0 0 0 0 0 0 0 0\n"
          ],
          "name": "stdout"
        },
        {
          "output_type": "stream",
          "text": [
            "INFO:tensorflow:segment_ids: 0 0 0 0 0 0 0 0 0 0 0 0 0 0 0 0 0 0 0 0 0 0 0 0 0 0 0 0 0 0 0 0 0 0 0 0 0 0 0 0 0 0 0 0 0 0 0 0 0 0 0 0 0 0 0 0 0 0 0 0 0 0 0 0 0 0 0 0 0 0 0 0 0 0 0 0 0 0 0 0 0 0 0 0 0 0 0 0 0 0 0 0 0 0 0 0 0 0 0 0 0 0 0 0 0 0 0 0 0 0 0 0 0 0 0 0 0 0 0 0 0 0 0 0 0 0 0 0\n"
          ],
          "name": "stderr"
        },
        {
          "output_type": "stream",
          "text": [
            "INFO:tensorflow:label: 0 (id = 1)\n"
          ],
          "name": "stdout"
        },
        {
          "output_type": "stream",
          "text": [
            "INFO:tensorflow:label: 0 (id = 1)\n"
          ],
          "name": "stderr"
        },
        {
          "output_type": "stream",
          "text": [
            "INFO:tensorflow:Writing example 10000 of 17728\n"
          ],
          "name": "stdout"
        },
        {
          "output_type": "stream",
          "text": [
            "INFO:tensorflow:Writing example 10000 of 17728\n"
          ],
          "name": "stderr"
        },
        {
          "output_type": "stream",
          "text": [
            "INFO:tensorflow:Writing example 0 of 3799\n"
          ],
          "name": "stdout"
        },
        {
          "output_type": "stream",
          "text": [
            "INFO:tensorflow:Writing example 0 of 3799\n"
          ],
          "name": "stderr"
        },
        {
          "output_type": "stream",
          "text": [
            "INFO:tensorflow:*** Example ***\n"
          ],
          "name": "stdout"
        },
        {
          "output_type": "stream",
          "text": [
            "INFO:tensorflow:*** Example ***\n"
          ],
          "name": "stderr"
        },
        {
          "output_type": "stream",
          "text": [
            "INFO:tensorflow:guid: None\n"
          ],
          "name": "stdout"
        },
        {
          "output_type": "stream",
          "text": [
            "INFO:tensorflow:guid: None\n"
          ],
          "name": "stderr"
        },
        {
          "output_type": "stream",
          "text": [
            "INFO:tensorflow:tokens: [CLS] er ##dog ##an takes legal action law ##maker calls fascist dictator tay ##yi ##p er ##dog ##an filed criminal complaint prominent law ##maker er ##dog ##an lawyers deputy called fascist dictator b ##list ##ering criticism er ##dog ##an main attacked fearful atmosphere er ##dog ##an lawyer filed legal petition concerning ankara prosecutor crime insulting posted photos petition suspect statements part campaign cannot interpreted isolated incident petition saying campaign launched attempted coup speech criticizing local judicial try scare create fearful atmosphere showing legal illegal ones deter ##red comments appeared local mayor ch ##p member questioned reportedly called er ##dog ##an dictator mayor say er ##dog ##an fascist dictator comments prompted swift backlash er ##dog ##an ak er ##dog ##an ibrahim saying speech example disgrace main insulting crime [SEP]\n"
          ],
          "name": "stdout"
        },
        {
          "output_type": "stream",
          "text": [
            "INFO:tensorflow:tokens: [CLS] er ##dog ##an takes legal action law ##maker calls fascist dictator tay ##yi ##p er ##dog ##an filed criminal complaint prominent law ##maker er ##dog ##an lawyers deputy called fascist dictator b ##list ##ering criticism er ##dog ##an main attacked fearful atmosphere er ##dog ##an lawyer filed legal petition concerning ankara prosecutor crime insulting posted photos petition suspect statements part campaign cannot interpreted isolated incident petition saying campaign launched attempted coup speech criticizing local judicial try scare create fearful atmosphere showing legal illegal ones deter ##red comments appeared local mayor ch ##p member questioned reportedly called er ##dog ##an dictator mayor say er ##dog ##an fascist dictator comments prompted swift backlash er ##dog ##an ak er ##dog ##an ibrahim saying speech example disgrace main insulting crime [SEP]\n"
          ],
          "name": "stderr"
        },
        {
          "output_type": "stream",
          "text": [
            "INFO:tensorflow:input_ids: 101 9413 16168 2319 3138 3423 2895 2375 8571 4455 14870 21237 28117 10139 2361 9413 16168 2319 6406 4735 12087 4069 2375 8571 9413 16168 2319 9559 4112 2170 14870 21237 1038 9863 7999 6256 9413 16168 2319 2364 4457 19725 7224 9413 16168 2319 5160 6406 3423 9964 7175 20312 12478 4126 23979 6866 7760 9964 8343 8635 2112 3049 3685 10009 7275 5043 9964 3038 3049 3390 4692 8648 4613 21289 2334 8268 3046 12665 3443 19725 7224 4760 3423 6206 3924 28283 5596 7928 2596 2334 3664 10381 2361 2266 8781 7283 2170 9413 16168 2319 21237 3664 2360 9413 16168 2319 14870 21237 7928 9469 9170 25748 9413 16168 2319 17712 9413 16168 2319 13477 3038 4613 2742 29591 2364 23979 4126 102\n"
          ],
          "name": "stdout"
        },
        {
          "output_type": "stream",
          "text": [
            "INFO:tensorflow:input_ids: 101 9413 16168 2319 3138 3423 2895 2375 8571 4455 14870 21237 28117 10139 2361 9413 16168 2319 6406 4735 12087 4069 2375 8571 9413 16168 2319 9559 4112 2170 14870 21237 1038 9863 7999 6256 9413 16168 2319 2364 4457 19725 7224 9413 16168 2319 5160 6406 3423 9964 7175 20312 12478 4126 23979 6866 7760 9964 8343 8635 2112 3049 3685 10009 7275 5043 9964 3038 3049 3390 4692 8648 4613 21289 2334 8268 3046 12665 3443 19725 7224 4760 3423 6206 3924 28283 5596 7928 2596 2334 3664 10381 2361 2266 8781 7283 2170 9413 16168 2319 21237 3664 2360 9413 16168 2319 14870 21237 7928 9469 9170 25748 9413 16168 2319 17712 9413 16168 2319 13477 3038 4613 2742 29591 2364 23979 4126 102\n"
          ],
          "name": "stderr"
        },
        {
          "output_type": "stream",
          "text": [
            "INFO:tensorflow:input_mask: 1 1 1 1 1 1 1 1 1 1 1 1 1 1 1 1 1 1 1 1 1 1 1 1 1 1 1 1 1 1 1 1 1 1 1 1 1 1 1 1 1 1 1 1 1 1 1 1 1 1 1 1 1 1 1 1 1 1 1 1 1 1 1 1 1 1 1 1 1 1 1 1 1 1 1 1 1 1 1 1 1 1 1 1 1 1 1 1 1 1 1 1 1 1 1 1 1 1 1 1 1 1 1 1 1 1 1 1 1 1 1 1 1 1 1 1 1 1 1 1 1 1 1 1 1 1 1 1\n"
          ],
          "name": "stdout"
        },
        {
          "output_type": "stream",
          "text": [
            "INFO:tensorflow:input_mask: 1 1 1 1 1 1 1 1 1 1 1 1 1 1 1 1 1 1 1 1 1 1 1 1 1 1 1 1 1 1 1 1 1 1 1 1 1 1 1 1 1 1 1 1 1 1 1 1 1 1 1 1 1 1 1 1 1 1 1 1 1 1 1 1 1 1 1 1 1 1 1 1 1 1 1 1 1 1 1 1 1 1 1 1 1 1 1 1 1 1 1 1 1 1 1 1 1 1 1 1 1 1 1 1 1 1 1 1 1 1 1 1 1 1 1 1 1 1 1 1 1 1 1 1 1 1 1 1\n"
          ],
          "name": "stderr"
        },
        {
          "output_type": "stream",
          "text": [
            "INFO:tensorflow:segment_ids: 0 0 0 0 0 0 0 0 0 0 0 0 0 0 0 0 0 0 0 0 0 0 0 0 0 0 0 0 0 0 0 0 0 0 0 0 0 0 0 0 0 0 0 0 0 0 0 0 0 0 0 0 0 0 0 0 0 0 0 0 0 0 0 0 0 0 0 0 0 0 0 0 0 0 0 0 0 0 0 0 0 0 0 0 0 0 0 0 0 0 0 0 0 0 0 0 0 0 0 0 0 0 0 0 0 0 0 0 0 0 0 0 0 0 0 0 0 0 0 0 0 0 0 0 0 0 0 0\n"
          ],
          "name": "stdout"
        },
        {
          "output_type": "stream",
          "text": [
            "INFO:tensorflow:segment_ids: 0 0 0 0 0 0 0 0 0 0 0 0 0 0 0 0 0 0 0 0 0 0 0 0 0 0 0 0 0 0 0 0 0 0 0 0 0 0 0 0 0 0 0 0 0 0 0 0 0 0 0 0 0 0 0 0 0 0 0 0 0 0 0 0 0 0 0 0 0 0 0 0 0 0 0 0 0 0 0 0 0 0 0 0 0 0 0 0 0 0 0 0 0 0 0 0 0 0 0 0 0 0 0 0 0 0 0 0 0 0 0 0 0 0 0 0 0 0 0 0 0 0 0 0 0 0 0 0\n"
          ],
          "name": "stderr"
        },
        {
          "output_type": "stream",
          "text": [
            "INFO:tensorflow:label: 1 (id = 0)\n"
          ],
          "name": "stdout"
        },
        {
          "output_type": "stream",
          "text": [
            "INFO:tensorflow:label: 1 (id = 0)\n"
          ],
          "name": "stderr"
        },
        {
          "output_type": "stream",
          "text": [
            "INFO:tensorflow:*** Example ***\n"
          ],
          "name": "stdout"
        },
        {
          "output_type": "stream",
          "text": [
            "INFO:tensorflow:*** Example ***\n"
          ],
          "name": "stderr"
        },
        {
          "output_type": "stream",
          "text": [
            "INFO:tensorflow:guid: None\n"
          ],
          "name": "stdout"
        },
        {
          "output_type": "stream",
          "text": [
            "INFO:tensorflow:guid: None\n"
          ],
          "name": "stderr"
        },
        {
          "output_type": "stream",
          "text": [
            "INFO:tensorflow:tokens: [CLS] gotta idiot conservatives accidentally reveal nr ##a conservatives alongside wing outlets trying desperately spin debate favor executive actions guns need conservative outlet decided run article title quan ##dar ##y nr ##a gaining control losing screen ##gra ##b within text article try piece together sort magic showing nr ##a fail mis ##era ##bly stating twenty seven strongly supported nr ##a december number risen order strongly nr ##a nr ##a seem smart write article terribly numbers half nation side bravo addition voting feet walking stores around country buying firearms record pace figures set record number background checks performed single checks performed rei ##tera ##te nr ##a enjoys strong control losing ground w ##s ##j suggests put position alone nr ##a enjoys reward paying rest chance hurt profits oh [SEP]\n"
          ],
          "name": "stdout"
        },
        {
          "output_type": "stream",
          "text": [
            "INFO:tensorflow:tokens: [CLS] gotta idiot conservatives accidentally reveal nr ##a conservatives alongside wing outlets trying desperately spin debate favor executive actions guns need conservative outlet decided run article title quan ##dar ##y nr ##a gaining control losing screen ##gra ##b within text article try piece together sort magic showing nr ##a fail mis ##era ##bly stating twenty seven strongly supported nr ##a december number risen order strongly nr ##a nr ##a seem smart write article terribly numbers half nation side bravo addition voting feet walking stores around country buying firearms record pace figures set record number background checks performed single checks performed rei ##tera ##te nr ##a enjoys strong control losing ground w ##s ##j suggests put position alone nr ##a enjoys reward paying rest chance hurt profits oh [SEP]\n"
          ],
          "name": "stderr"
        },
        {
          "output_type": "stream",
          "text": [
            "INFO:tensorflow:input_ids: 101 10657 10041 11992 9554 7487 17212 2050 11992 4077 3358 11730 2667 9652 6714 5981 5684 3237 4506 4409 2342 4603 13307 2787 2448 3720 2516 24110 7662 2100 17212 2050 8550 2491 3974 3898 17643 2497 2306 3793 3720 3046 3538 2362 4066 3894 4760 17212 2050 8246 28616 6906 6321 5517 3174 2698 6118 3569 17212 2050 2285 2193 13763 2344 6118 17212 2050 17212 2050 4025 6047 4339 3720 16668 3616 2431 3842 2217 17562 2804 6830 2519 3788 5324 2105 2406 9343 13780 2501 6393 4481 2275 2501 2193 4281 14148 2864 2309 14148 2864 24964 14621 2618 17212 2050 15646 2844 2491 3974 2598 1059 2015 3501 6083 2404 2597 2894 17212 2050 15646 10377 7079 2717 3382 3480 11372 2821 102\n"
          ],
          "name": "stdout"
        },
        {
          "output_type": "stream",
          "text": [
            "INFO:tensorflow:input_ids: 101 10657 10041 11992 9554 7487 17212 2050 11992 4077 3358 11730 2667 9652 6714 5981 5684 3237 4506 4409 2342 4603 13307 2787 2448 3720 2516 24110 7662 2100 17212 2050 8550 2491 3974 3898 17643 2497 2306 3793 3720 3046 3538 2362 4066 3894 4760 17212 2050 8246 28616 6906 6321 5517 3174 2698 6118 3569 17212 2050 2285 2193 13763 2344 6118 17212 2050 17212 2050 4025 6047 4339 3720 16668 3616 2431 3842 2217 17562 2804 6830 2519 3788 5324 2105 2406 9343 13780 2501 6393 4481 2275 2501 2193 4281 14148 2864 2309 14148 2864 24964 14621 2618 17212 2050 15646 2844 2491 3974 2598 1059 2015 3501 6083 2404 2597 2894 17212 2050 15646 10377 7079 2717 3382 3480 11372 2821 102\n"
          ],
          "name": "stderr"
        },
        {
          "output_type": "stream",
          "text": [
            "INFO:tensorflow:input_mask: 1 1 1 1 1 1 1 1 1 1 1 1 1 1 1 1 1 1 1 1 1 1 1 1 1 1 1 1 1 1 1 1 1 1 1 1 1 1 1 1 1 1 1 1 1 1 1 1 1 1 1 1 1 1 1 1 1 1 1 1 1 1 1 1 1 1 1 1 1 1 1 1 1 1 1 1 1 1 1 1 1 1 1 1 1 1 1 1 1 1 1 1 1 1 1 1 1 1 1 1 1 1 1 1 1 1 1 1 1 1 1 1 1 1 1 1 1 1 1 1 1 1 1 1 1 1 1 1\n"
          ],
          "name": "stdout"
        },
        {
          "output_type": "stream",
          "text": [
            "INFO:tensorflow:input_mask: 1 1 1 1 1 1 1 1 1 1 1 1 1 1 1 1 1 1 1 1 1 1 1 1 1 1 1 1 1 1 1 1 1 1 1 1 1 1 1 1 1 1 1 1 1 1 1 1 1 1 1 1 1 1 1 1 1 1 1 1 1 1 1 1 1 1 1 1 1 1 1 1 1 1 1 1 1 1 1 1 1 1 1 1 1 1 1 1 1 1 1 1 1 1 1 1 1 1 1 1 1 1 1 1 1 1 1 1 1 1 1 1 1 1 1 1 1 1 1 1 1 1 1 1 1 1 1 1\n"
          ],
          "name": "stderr"
        },
        {
          "output_type": "stream",
          "text": [
            "INFO:tensorflow:segment_ids: 0 0 0 0 0 0 0 0 0 0 0 0 0 0 0 0 0 0 0 0 0 0 0 0 0 0 0 0 0 0 0 0 0 0 0 0 0 0 0 0 0 0 0 0 0 0 0 0 0 0 0 0 0 0 0 0 0 0 0 0 0 0 0 0 0 0 0 0 0 0 0 0 0 0 0 0 0 0 0 0 0 0 0 0 0 0 0 0 0 0 0 0 0 0 0 0 0 0 0 0 0 0 0 0 0 0 0 0 0 0 0 0 0 0 0 0 0 0 0 0 0 0 0 0 0 0 0 0\n"
          ],
          "name": "stdout"
        },
        {
          "output_type": "stream",
          "text": [
            "INFO:tensorflow:segment_ids: 0 0 0 0 0 0 0 0 0 0 0 0 0 0 0 0 0 0 0 0 0 0 0 0 0 0 0 0 0 0 0 0 0 0 0 0 0 0 0 0 0 0 0 0 0 0 0 0 0 0 0 0 0 0 0 0 0 0 0 0 0 0 0 0 0 0 0 0 0 0 0 0 0 0 0 0 0 0 0 0 0 0 0 0 0 0 0 0 0 0 0 0 0 0 0 0 0 0 0 0 0 0 0 0 0 0 0 0 0 0 0 0 0 0 0 0 0 0 0 0 0 0 0 0 0 0 0 0\n"
          ],
          "name": "stderr"
        },
        {
          "output_type": "stream",
          "text": [
            "INFO:tensorflow:label: 0 (id = 1)\n"
          ],
          "name": "stdout"
        },
        {
          "output_type": "stream",
          "text": [
            "INFO:tensorflow:label: 0 (id = 1)\n"
          ],
          "name": "stderr"
        },
        {
          "output_type": "stream",
          "text": [
            "INFO:tensorflow:*** Example ***\n"
          ],
          "name": "stdout"
        },
        {
          "output_type": "stream",
          "text": [
            "INFO:tensorflow:*** Example ***\n"
          ],
          "name": "stderr"
        },
        {
          "output_type": "stream",
          "text": [
            "INFO:tensorflow:guid: None\n"
          ],
          "name": "stdout"
        },
        {
          "output_type": "stream",
          "text": [
            "INFO:tensorflow:guid: None\n"
          ],
          "name": "stderr"
        },
        {
          "output_type": "stream",
          "text": [
            "INFO:tensorflow:tokens: [CLS] sc ##hum ##er emerges newest punching bag elect insulted rivals campaign nickname ##s crooked marco nemesis chuck sc ##hum ##er clown rhetoric ##al ban ##ter erupted yorker ##s centered fight di ##sman ##tle obama ##care effort put domestic agenda weeks sworn th taken den ##ig ##rate hard charging fundraiser senators estate magnate po ##sh florida oceans ##ide estate sc ##hum ##er whose democrats minority still muscle potentially block legislative initiatives clashed elect took first steps try gut barack signature healthcare known obama ##care sc ##hum ##er used campaign slogan mock repeal effort saying sick shot democrats blame called failed obama ##care disaster sc ##hum ##er clown ##s web wrote democrats head clown chuck sc ##hum ##er prompted say stop wasting calling names roll sleeves work ##able [SEP]\n"
          ],
          "name": "stdout"
        },
        {
          "output_type": "stream",
          "text": [
            "INFO:tensorflow:tokens: [CLS] sc ##hum ##er emerges newest punching bag elect insulted rivals campaign nickname ##s crooked marco nemesis chuck sc ##hum ##er clown rhetoric ##al ban ##ter erupted yorker ##s centered fight di ##sman ##tle obama ##care effort put domestic agenda weeks sworn th taken den ##ig ##rate hard charging fundraiser senators estate magnate po ##sh florida oceans ##ide estate sc ##hum ##er whose democrats minority still muscle potentially block legislative initiatives clashed elect took first steps try gut barack signature healthcare known obama ##care sc ##hum ##er used campaign slogan mock repeal effort saying sick shot democrats blame called failed obama ##care disaster sc ##hum ##er clown ##s web wrote democrats head clown chuck sc ##hum ##er prompted say stop wasting calling names roll sleeves work ##able [SEP]\n"
          ],
          "name": "stderr"
        },
        {
          "output_type": "stream",
          "text": [
            "INFO:tensorflow:input_ids: 101 8040 28600 2121 19391 14751 19477 4524 11322 23637 9169 3049 8367 2015 15274 8879 21363 8057 8040 28600 2121 15912 17871 2389 7221 3334 12591 19095 2015 8857 2954 4487 11512 9286 8112 16302 3947 2404 4968 11376 3134 10741 16215 2579 7939 8004 11657 2524 13003 28536 10153 3776 27470 13433 4095 3516 17401 5178 3776 8040 28600 2121 3005 8037 7162 2145 6740 9280 3796 4884 11107 22600 11322 2165 2034 4084 3046 9535 13857 8085 9871 2124 8112 16302 8040 28600 2121 2109 3049 14558 12934 21825 3947 3038 5305 2915 8037 7499 2170 3478 8112 16302 7071 8040 28600 2121 15912 2015 4773 2626 8037 2132 15912 8057 8040 28600 2121 9469 2360 2644 18313 4214 3415 4897 15114 2147 3085 102\n"
          ],
          "name": "stdout"
        },
        {
          "output_type": "stream",
          "text": [
            "INFO:tensorflow:input_ids: 101 8040 28600 2121 19391 14751 19477 4524 11322 23637 9169 3049 8367 2015 15274 8879 21363 8057 8040 28600 2121 15912 17871 2389 7221 3334 12591 19095 2015 8857 2954 4487 11512 9286 8112 16302 3947 2404 4968 11376 3134 10741 16215 2579 7939 8004 11657 2524 13003 28536 10153 3776 27470 13433 4095 3516 17401 5178 3776 8040 28600 2121 3005 8037 7162 2145 6740 9280 3796 4884 11107 22600 11322 2165 2034 4084 3046 9535 13857 8085 9871 2124 8112 16302 8040 28600 2121 2109 3049 14558 12934 21825 3947 3038 5305 2915 8037 7499 2170 3478 8112 16302 7071 8040 28600 2121 15912 2015 4773 2626 8037 2132 15912 8057 8040 28600 2121 9469 2360 2644 18313 4214 3415 4897 15114 2147 3085 102\n"
          ],
          "name": "stderr"
        },
        {
          "output_type": "stream",
          "text": [
            "INFO:tensorflow:input_mask: 1 1 1 1 1 1 1 1 1 1 1 1 1 1 1 1 1 1 1 1 1 1 1 1 1 1 1 1 1 1 1 1 1 1 1 1 1 1 1 1 1 1 1 1 1 1 1 1 1 1 1 1 1 1 1 1 1 1 1 1 1 1 1 1 1 1 1 1 1 1 1 1 1 1 1 1 1 1 1 1 1 1 1 1 1 1 1 1 1 1 1 1 1 1 1 1 1 1 1 1 1 1 1 1 1 1 1 1 1 1 1 1 1 1 1 1 1 1 1 1 1 1 1 1 1 1 1 1\n"
          ],
          "name": "stdout"
        },
        {
          "output_type": "stream",
          "text": [
            "INFO:tensorflow:input_mask: 1 1 1 1 1 1 1 1 1 1 1 1 1 1 1 1 1 1 1 1 1 1 1 1 1 1 1 1 1 1 1 1 1 1 1 1 1 1 1 1 1 1 1 1 1 1 1 1 1 1 1 1 1 1 1 1 1 1 1 1 1 1 1 1 1 1 1 1 1 1 1 1 1 1 1 1 1 1 1 1 1 1 1 1 1 1 1 1 1 1 1 1 1 1 1 1 1 1 1 1 1 1 1 1 1 1 1 1 1 1 1 1 1 1 1 1 1 1 1 1 1 1 1 1 1 1 1 1\n"
          ],
          "name": "stderr"
        },
        {
          "output_type": "stream",
          "text": [
            "INFO:tensorflow:segment_ids: 0 0 0 0 0 0 0 0 0 0 0 0 0 0 0 0 0 0 0 0 0 0 0 0 0 0 0 0 0 0 0 0 0 0 0 0 0 0 0 0 0 0 0 0 0 0 0 0 0 0 0 0 0 0 0 0 0 0 0 0 0 0 0 0 0 0 0 0 0 0 0 0 0 0 0 0 0 0 0 0 0 0 0 0 0 0 0 0 0 0 0 0 0 0 0 0 0 0 0 0 0 0 0 0 0 0 0 0 0 0 0 0 0 0 0 0 0 0 0 0 0 0 0 0 0 0 0 0\n"
          ],
          "name": "stdout"
        },
        {
          "output_type": "stream",
          "text": [
            "INFO:tensorflow:segment_ids: 0 0 0 0 0 0 0 0 0 0 0 0 0 0 0 0 0 0 0 0 0 0 0 0 0 0 0 0 0 0 0 0 0 0 0 0 0 0 0 0 0 0 0 0 0 0 0 0 0 0 0 0 0 0 0 0 0 0 0 0 0 0 0 0 0 0 0 0 0 0 0 0 0 0 0 0 0 0 0 0 0 0 0 0 0 0 0 0 0 0 0 0 0 0 0 0 0 0 0 0 0 0 0 0 0 0 0 0 0 0 0 0 0 0 0 0 0 0 0 0 0 0 0 0 0 0 0 0\n"
          ],
          "name": "stderr"
        },
        {
          "output_type": "stream",
          "text": [
            "INFO:tensorflow:label: 1 (id = 0)\n"
          ],
          "name": "stdout"
        },
        {
          "output_type": "stream",
          "text": [
            "INFO:tensorflow:label: 1 (id = 0)\n"
          ],
          "name": "stderr"
        },
        {
          "output_type": "stream",
          "text": [
            "INFO:tensorflow:*** Example ***\n"
          ],
          "name": "stdout"
        },
        {
          "output_type": "stream",
          "text": [
            "INFO:tensorflow:*** Example ***\n"
          ],
          "name": "stderr"
        },
        {
          "output_type": "stream",
          "text": [
            "INFO:tensorflow:guid: None\n"
          ],
          "name": "stdout"
        },
        {
          "output_type": "stream",
          "text": [
            "INFO:tensorflow:guid: None\n"
          ],
          "name": "stderr"
        },
        {
          "output_type": "stream",
          "text": [
            "INFO:tensorflow:tokens: [CLS] server technician declines answer ordered questions computer technician set private email server work answer questions deposition ordered judge transcript released bryan pa ##glia ##no worked previous run joined technology appoint ##ees set unauthorized server york home set server dogg ##ed pre ##sum ##ptive candidate november clouded campaign legal uncertainty voters say find dish ##ones ##t polls citing private server judge em ##met sullivan district ordered pa ##glia ##no aide ##s give sworn testimony help decide server set th ##wart public records sullivan overseeing lawsuit judicial conservative watch ##dog sui ##ng scores lawsuits filed individuals incorrectly emails arrangement became publicly known years left advice counsel decline answer question reliance fifth amendment constitution pa ##glia ##no minutes response series questions judicial lawyer deposition oath took place fifth amendment [SEP]\n"
          ],
          "name": "stdout"
        },
        {
          "output_type": "stream",
          "text": [
            "INFO:tensorflow:tokens: [CLS] server technician declines answer ordered questions computer technician set private email server work answer questions deposition ordered judge transcript released bryan pa ##glia ##no worked previous run joined technology appoint ##ees set unauthorized server york home set server dogg ##ed pre ##sum ##ptive candidate november clouded campaign legal uncertainty voters say find dish ##ones ##t polls citing private server judge em ##met sullivan district ordered pa ##glia ##no aide ##s give sworn testimony help decide server set th ##wart public records sullivan overseeing lawsuit judicial conservative watch ##dog sui ##ng scores lawsuits filed individuals incorrectly emails arrangement became publicly known years left advice counsel decline answer question reliance fifth amendment constitution pa ##glia ##no minutes response series questions judicial lawyer deposition oath took place fifth amendment [SEP]\n"
          ],
          "name": "stderr"
        },
        {
          "output_type": "stream",
          "text": [
            "INFO:tensorflow:input_ids: 101 8241 16661 26451 3437 3641 3980 3274 16661 2275 2797 10373 8241 2147 3437 3980 19806 3641 3648 24051 2207 8527 6643 20011 3630 2499 3025 2448 2587 2974 16823 10285 2275 24641 8241 2259 2188 2275 8241 28844 2098 3653 17421 24971 4018 2281 26761 3049 3423 12503 7206 2360 2424 9841 21821 2102 14592 8951 2797 8241 3648 7861 11368 7624 2212 3641 6643 20011 3630 14895 2015 2507 10741 10896 2393 5630 8241 2275 16215 18367 2270 2636 7624 19642 9870 8268 4603 3422 16168 24086 3070 7644 20543 6406 3633 19721 22028 6512 2150 7271 2124 2086 2187 6040 9517 6689 3437 3160 17975 3587 7450 4552 6643 20011 3630 2781 3433 2186 3980 8268 5160 19806 11292 2165 2173 3587 7450 102\n"
          ],
          "name": "stdout"
        },
        {
          "output_type": "stream",
          "text": [
            "INFO:tensorflow:input_ids: 101 8241 16661 26451 3437 3641 3980 3274 16661 2275 2797 10373 8241 2147 3437 3980 19806 3641 3648 24051 2207 8527 6643 20011 3630 2499 3025 2448 2587 2974 16823 10285 2275 24641 8241 2259 2188 2275 8241 28844 2098 3653 17421 24971 4018 2281 26761 3049 3423 12503 7206 2360 2424 9841 21821 2102 14592 8951 2797 8241 3648 7861 11368 7624 2212 3641 6643 20011 3630 14895 2015 2507 10741 10896 2393 5630 8241 2275 16215 18367 2270 2636 7624 19642 9870 8268 4603 3422 16168 24086 3070 7644 20543 6406 3633 19721 22028 6512 2150 7271 2124 2086 2187 6040 9517 6689 3437 3160 17975 3587 7450 4552 6643 20011 3630 2781 3433 2186 3980 8268 5160 19806 11292 2165 2173 3587 7450 102\n"
          ],
          "name": "stderr"
        },
        {
          "output_type": "stream",
          "text": [
            "INFO:tensorflow:input_mask: 1 1 1 1 1 1 1 1 1 1 1 1 1 1 1 1 1 1 1 1 1 1 1 1 1 1 1 1 1 1 1 1 1 1 1 1 1 1 1 1 1 1 1 1 1 1 1 1 1 1 1 1 1 1 1 1 1 1 1 1 1 1 1 1 1 1 1 1 1 1 1 1 1 1 1 1 1 1 1 1 1 1 1 1 1 1 1 1 1 1 1 1 1 1 1 1 1 1 1 1 1 1 1 1 1 1 1 1 1 1 1 1 1 1 1 1 1 1 1 1 1 1 1 1 1 1 1 1\n"
          ],
          "name": "stdout"
        },
        {
          "output_type": "stream",
          "text": [
            "INFO:tensorflow:input_mask: 1 1 1 1 1 1 1 1 1 1 1 1 1 1 1 1 1 1 1 1 1 1 1 1 1 1 1 1 1 1 1 1 1 1 1 1 1 1 1 1 1 1 1 1 1 1 1 1 1 1 1 1 1 1 1 1 1 1 1 1 1 1 1 1 1 1 1 1 1 1 1 1 1 1 1 1 1 1 1 1 1 1 1 1 1 1 1 1 1 1 1 1 1 1 1 1 1 1 1 1 1 1 1 1 1 1 1 1 1 1 1 1 1 1 1 1 1 1 1 1 1 1 1 1 1 1 1 1\n"
          ],
          "name": "stderr"
        },
        {
          "output_type": "stream",
          "text": [
            "INFO:tensorflow:segment_ids: 0 0 0 0 0 0 0 0 0 0 0 0 0 0 0 0 0 0 0 0 0 0 0 0 0 0 0 0 0 0 0 0 0 0 0 0 0 0 0 0 0 0 0 0 0 0 0 0 0 0 0 0 0 0 0 0 0 0 0 0 0 0 0 0 0 0 0 0 0 0 0 0 0 0 0 0 0 0 0 0 0 0 0 0 0 0 0 0 0 0 0 0 0 0 0 0 0 0 0 0 0 0 0 0 0 0 0 0 0 0 0 0 0 0 0 0 0 0 0 0 0 0 0 0 0 0 0 0\n"
          ],
          "name": "stdout"
        },
        {
          "output_type": "stream",
          "text": [
            "INFO:tensorflow:segment_ids: 0 0 0 0 0 0 0 0 0 0 0 0 0 0 0 0 0 0 0 0 0 0 0 0 0 0 0 0 0 0 0 0 0 0 0 0 0 0 0 0 0 0 0 0 0 0 0 0 0 0 0 0 0 0 0 0 0 0 0 0 0 0 0 0 0 0 0 0 0 0 0 0 0 0 0 0 0 0 0 0 0 0 0 0 0 0 0 0 0 0 0 0 0 0 0 0 0 0 0 0 0 0 0 0 0 0 0 0 0 0 0 0 0 0 0 0 0 0 0 0 0 0 0 0 0 0 0 0\n"
          ],
          "name": "stderr"
        },
        {
          "output_type": "stream",
          "text": [
            "INFO:tensorflow:label: 1 (id = 0)\n"
          ],
          "name": "stdout"
        },
        {
          "output_type": "stream",
          "text": [
            "INFO:tensorflow:label: 1 (id = 0)\n"
          ],
          "name": "stderr"
        },
        {
          "output_type": "stream",
          "text": [
            "INFO:tensorflow:*** Example ***\n"
          ],
          "name": "stdout"
        },
        {
          "output_type": "stream",
          "text": [
            "INFO:tensorflow:*** Example ***\n"
          ],
          "name": "stderr"
        },
        {
          "output_type": "stream",
          "text": [
            "INFO:tensorflow:guid: None\n"
          ],
          "name": "stdout"
        },
        {
          "output_type": "stream",
          "text": [
            "INFO:tensorflow:guid: None\n"
          ],
          "name": "stderr"
        },
        {
          "output_type": "stream",
          "text": [
            "INFO:tensorflow:tokens: [CLS] pe ##los ##i hacked email secret memo staff ##ers b ##lm activists dem ##s side large say doc ##s leaked gu ##cci ##fer memo nancy pe ##los ##i giving directions minions handle terror memo pe ##los ##i careful dc ##cc staff talk b ##lm allow meet large numbers feed animals keep arms length exactly kind rhetoric expect star nancy net worth listed keep engaged lose voting block close notable advising democrats say talk crime worst say activists describes b ##lm radical accurate notes extends beyond questions police brutality criminal justice leave eliminate prisons police notice advises offer concrete positions listen pretend offering [SEP]\n"
          ],
          "name": "stdout"
        },
        {
          "output_type": "stream",
          "text": [
            "INFO:tensorflow:tokens: [CLS] pe ##los ##i hacked email secret memo staff ##ers b ##lm activists dem ##s side large say doc ##s leaked gu ##cci ##fer memo nancy pe ##los ##i giving directions minions handle terror memo pe ##los ##i careful dc ##cc staff talk b ##lm allow meet large numbers feed animals keep arms length exactly kind rhetoric expect star nancy net worth listed keep engaged lose voting block close notable advising democrats say talk crime worst say activists describes b ##lm radical accurate notes extends beyond questions police brutality criminal justice leave eliminate prisons police notice advises offer concrete positions listen pretend offering [SEP]\n"
          ],
          "name": "stderr"
        },
        {
          "output_type": "stream",
          "text": [
            "INFO:tensorflow:input_ids: 101 21877 10483 2072 28719 10373 3595 24443 3095 2545 1038 13728 10134 17183 2015 2217 2312 2360 9986 2015 15748 19739 14693 7512 24443 7912 21877 10483 2072 3228 7826 28071 5047 7404 24443 21877 10483 2072 6176 5887 9468 3095 2831 1038 13728 3499 3113 2312 3616 5438 4176 2562 2608 3091 3599 2785 17871 5987 2732 7912 5658 4276 3205 2562 5117 4558 6830 3796 2485 3862 23875 8037 2360 2831 4126 5409 2360 10134 5577 1038 13728 7490 8321 3964 8908 3458 3980 2610 24083 4735 3425 2681 11027 15996 2610 5060 25453 3749 5509 4460 4952 9811 5378 102 0 0 0 0 0 0 0 0 0 0 0 0 0 0 0 0 0 0 0 0 0 0 0 0\n"
          ],
          "name": "stdout"
        },
        {
          "output_type": "stream",
          "text": [
            "INFO:tensorflow:input_ids: 101 21877 10483 2072 28719 10373 3595 24443 3095 2545 1038 13728 10134 17183 2015 2217 2312 2360 9986 2015 15748 19739 14693 7512 24443 7912 21877 10483 2072 3228 7826 28071 5047 7404 24443 21877 10483 2072 6176 5887 9468 3095 2831 1038 13728 3499 3113 2312 3616 5438 4176 2562 2608 3091 3599 2785 17871 5987 2732 7912 5658 4276 3205 2562 5117 4558 6830 3796 2485 3862 23875 8037 2360 2831 4126 5409 2360 10134 5577 1038 13728 7490 8321 3964 8908 3458 3980 2610 24083 4735 3425 2681 11027 15996 2610 5060 25453 3749 5509 4460 4952 9811 5378 102 0 0 0 0 0 0 0 0 0 0 0 0 0 0 0 0 0 0 0 0 0 0 0 0\n"
          ],
          "name": "stderr"
        },
        {
          "output_type": "stream",
          "text": [
            "INFO:tensorflow:input_mask: 1 1 1 1 1 1 1 1 1 1 1 1 1 1 1 1 1 1 1 1 1 1 1 1 1 1 1 1 1 1 1 1 1 1 1 1 1 1 1 1 1 1 1 1 1 1 1 1 1 1 1 1 1 1 1 1 1 1 1 1 1 1 1 1 1 1 1 1 1 1 1 1 1 1 1 1 1 1 1 1 1 1 1 1 1 1 1 1 1 1 1 1 1 1 1 1 1 1 1 1 1 1 1 1 0 0 0 0 0 0 0 0 0 0 0 0 0 0 0 0 0 0 0 0 0 0 0 0\n"
          ],
          "name": "stdout"
        },
        {
          "output_type": "stream",
          "text": [
            "INFO:tensorflow:input_mask: 1 1 1 1 1 1 1 1 1 1 1 1 1 1 1 1 1 1 1 1 1 1 1 1 1 1 1 1 1 1 1 1 1 1 1 1 1 1 1 1 1 1 1 1 1 1 1 1 1 1 1 1 1 1 1 1 1 1 1 1 1 1 1 1 1 1 1 1 1 1 1 1 1 1 1 1 1 1 1 1 1 1 1 1 1 1 1 1 1 1 1 1 1 1 1 1 1 1 1 1 1 1 1 1 0 0 0 0 0 0 0 0 0 0 0 0 0 0 0 0 0 0 0 0 0 0 0 0\n"
          ],
          "name": "stderr"
        },
        {
          "output_type": "stream",
          "text": [
            "INFO:tensorflow:segment_ids: 0 0 0 0 0 0 0 0 0 0 0 0 0 0 0 0 0 0 0 0 0 0 0 0 0 0 0 0 0 0 0 0 0 0 0 0 0 0 0 0 0 0 0 0 0 0 0 0 0 0 0 0 0 0 0 0 0 0 0 0 0 0 0 0 0 0 0 0 0 0 0 0 0 0 0 0 0 0 0 0 0 0 0 0 0 0 0 0 0 0 0 0 0 0 0 0 0 0 0 0 0 0 0 0 0 0 0 0 0 0 0 0 0 0 0 0 0 0 0 0 0 0 0 0 0 0 0 0\n"
          ],
          "name": "stdout"
        },
        {
          "output_type": "stream",
          "text": [
            "INFO:tensorflow:segment_ids: 0 0 0 0 0 0 0 0 0 0 0 0 0 0 0 0 0 0 0 0 0 0 0 0 0 0 0 0 0 0 0 0 0 0 0 0 0 0 0 0 0 0 0 0 0 0 0 0 0 0 0 0 0 0 0 0 0 0 0 0 0 0 0 0 0 0 0 0 0 0 0 0 0 0 0 0 0 0 0 0 0 0 0 0 0 0 0 0 0 0 0 0 0 0 0 0 0 0 0 0 0 0 0 0 0 0 0 0 0 0 0 0 0 0 0 0 0 0 0 0 0 0 0 0 0 0 0 0\n"
          ],
          "name": "stderr"
        },
        {
          "output_type": "stream",
          "text": [
            "INFO:tensorflow:label: 0 (id = 1)\n"
          ],
          "name": "stdout"
        },
        {
          "output_type": "stream",
          "text": [
            "INFO:tensorflow:label: 0 (id = 1)\n"
          ],
          "name": "stderr"
        },
        {
          "output_type": "stream",
          "text": [
            "INFO:tensorflow:Writing example 0 of 3799\n"
          ],
          "name": "stdout"
        },
        {
          "output_type": "stream",
          "text": [
            "INFO:tensorflow:Writing example 0 of 3799\n"
          ],
          "name": "stderr"
        },
        {
          "output_type": "stream",
          "text": [
            "INFO:tensorflow:*** Example ***\n"
          ],
          "name": "stdout"
        },
        {
          "output_type": "stream",
          "text": [
            "INFO:tensorflow:*** Example ***\n"
          ],
          "name": "stderr"
        },
        {
          "output_type": "stream",
          "text": [
            "INFO:tensorflow:guid: None\n"
          ],
          "name": "stdout"
        },
        {
          "output_type": "stream",
          "text": [
            "INFO:tensorflow:guid: None\n"
          ],
          "name": "stderr"
        },
        {
          "output_type": "stream",
          "text": [
            "INFO:tensorflow:tokens: [CLS] er ##dog ##an takes legal action law ##maker calls fascist dictator tay ##yi ##p er ##dog ##an filed criminal complaint prominent law ##maker er ##dog ##an lawyers deputy called fascist dictator b ##list ##ering criticism er ##dog ##an main attacked fearful atmosphere er ##dog ##an lawyer filed legal petition concerning ankara prosecutor crime insulting posted photos petition suspect statements part campaign cannot interpreted isolated incident petition saying campaign launched attempted coup speech criticizing local judicial try scare create fearful atmosphere showing legal illegal ones deter ##red comments appeared local mayor ch ##p member questioned reportedly called er ##dog ##an dictator mayor say er ##dog ##an fascist dictator comments prompted swift backlash er ##dog ##an ak er ##dog ##an ibrahim saying speech example disgrace main insulting crime [SEP]\n"
          ],
          "name": "stdout"
        },
        {
          "output_type": "stream",
          "text": [
            "INFO:tensorflow:tokens: [CLS] er ##dog ##an takes legal action law ##maker calls fascist dictator tay ##yi ##p er ##dog ##an filed criminal complaint prominent law ##maker er ##dog ##an lawyers deputy called fascist dictator b ##list ##ering criticism er ##dog ##an main attacked fearful atmosphere er ##dog ##an lawyer filed legal petition concerning ankara prosecutor crime insulting posted photos petition suspect statements part campaign cannot interpreted isolated incident petition saying campaign launched attempted coup speech criticizing local judicial try scare create fearful atmosphere showing legal illegal ones deter ##red comments appeared local mayor ch ##p member questioned reportedly called er ##dog ##an dictator mayor say er ##dog ##an fascist dictator comments prompted swift backlash er ##dog ##an ak er ##dog ##an ibrahim saying speech example disgrace main insulting crime [SEP]\n"
          ],
          "name": "stderr"
        },
        {
          "output_type": "stream",
          "text": [
            "INFO:tensorflow:input_ids: 101 9413 16168 2319 3138 3423 2895 2375 8571 4455 14870 21237 28117 10139 2361 9413 16168 2319 6406 4735 12087 4069 2375 8571 9413 16168 2319 9559 4112 2170 14870 21237 1038 9863 7999 6256 9413 16168 2319 2364 4457 19725 7224 9413 16168 2319 5160 6406 3423 9964 7175 20312 12478 4126 23979 6866 7760 9964 8343 8635 2112 3049 3685 10009 7275 5043 9964 3038 3049 3390 4692 8648 4613 21289 2334 8268 3046 12665 3443 19725 7224 4760 3423 6206 3924 28283 5596 7928 2596 2334 3664 10381 2361 2266 8781 7283 2170 9413 16168 2319 21237 3664 2360 9413 16168 2319 14870 21237 7928 9469 9170 25748 9413 16168 2319 17712 9413 16168 2319 13477 3038 4613 2742 29591 2364 23979 4126 102\n"
          ],
          "name": "stdout"
        },
        {
          "output_type": "stream",
          "text": [
            "INFO:tensorflow:input_ids: 101 9413 16168 2319 3138 3423 2895 2375 8571 4455 14870 21237 28117 10139 2361 9413 16168 2319 6406 4735 12087 4069 2375 8571 9413 16168 2319 9559 4112 2170 14870 21237 1038 9863 7999 6256 9413 16168 2319 2364 4457 19725 7224 9413 16168 2319 5160 6406 3423 9964 7175 20312 12478 4126 23979 6866 7760 9964 8343 8635 2112 3049 3685 10009 7275 5043 9964 3038 3049 3390 4692 8648 4613 21289 2334 8268 3046 12665 3443 19725 7224 4760 3423 6206 3924 28283 5596 7928 2596 2334 3664 10381 2361 2266 8781 7283 2170 9413 16168 2319 21237 3664 2360 9413 16168 2319 14870 21237 7928 9469 9170 25748 9413 16168 2319 17712 9413 16168 2319 13477 3038 4613 2742 29591 2364 23979 4126 102\n"
          ],
          "name": "stderr"
        },
        {
          "output_type": "stream",
          "text": [
            "INFO:tensorflow:input_mask: 1 1 1 1 1 1 1 1 1 1 1 1 1 1 1 1 1 1 1 1 1 1 1 1 1 1 1 1 1 1 1 1 1 1 1 1 1 1 1 1 1 1 1 1 1 1 1 1 1 1 1 1 1 1 1 1 1 1 1 1 1 1 1 1 1 1 1 1 1 1 1 1 1 1 1 1 1 1 1 1 1 1 1 1 1 1 1 1 1 1 1 1 1 1 1 1 1 1 1 1 1 1 1 1 1 1 1 1 1 1 1 1 1 1 1 1 1 1 1 1 1 1 1 1 1 1 1 1\n"
          ],
          "name": "stdout"
        },
        {
          "output_type": "stream",
          "text": [
            "INFO:tensorflow:input_mask: 1 1 1 1 1 1 1 1 1 1 1 1 1 1 1 1 1 1 1 1 1 1 1 1 1 1 1 1 1 1 1 1 1 1 1 1 1 1 1 1 1 1 1 1 1 1 1 1 1 1 1 1 1 1 1 1 1 1 1 1 1 1 1 1 1 1 1 1 1 1 1 1 1 1 1 1 1 1 1 1 1 1 1 1 1 1 1 1 1 1 1 1 1 1 1 1 1 1 1 1 1 1 1 1 1 1 1 1 1 1 1 1 1 1 1 1 1 1 1 1 1 1 1 1 1 1 1 1\n"
          ],
          "name": "stderr"
        },
        {
          "output_type": "stream",
          "text": [
            "INFO:tensorflow:segment_ids: 0 0 0 0 0 0 0 0 0 0 0 0 0 0 0 0 0 0 0 0 0 0 0 0 0 0 0 0 0 0 0 0 0 0 0 0 0 0 0 0 0 0 0 0 0 0 0 0 0 0 0 0 0 0 0 0 0 0 0 0 0 0 0 0 0 0 0 0 0 0 0 0 0 0 0 0 0 0 0 0 0 0 0 0 0 0 0 0 0 0 0 0 0 0 0 0 0 0 0 0 0 0 0 0 0 0 0 0 0 0 0 0 0 0 0 0 0 0 0 0 0 0 0 0 0 0 0 0\n"
          ],
          "name": "stdout"
        },
        {
          "output_type": "stream",
          "text": [
            "INFO:tensorflow:segment_ids: 0 0 0 0 0 0 0 0 0 0 0 0 0 0 0 0 0 0 0 0 0 0 0 0 0 0 0 0 0 0 0 0 0 0 0 0 0 0 0 0 0 0 0 0 0 0 0 0 0 0 0 0 0 0 0 0 0 0 0 0 0 0 0 0 0 0 0 0 0 0 0 0 0 0 0 0 0 0 0 0 0 0 0 0 0 0 0 0 0 0 0 0 0 0 0 0 0 0 0 0 0 0 0 0 0 0 0 0 0 0 0 0 0 0 0 0 0 0 0 0 0 0 0 0 0 0 0 0\n"
          ],
          "name": "stderr"
        },
        {
          "output_type": "stream",
          "text": [
            "INFO:tensorflow:label: 1 (id = 0)\n"
          ],
          "name": "stdout"
        },
        {
          "output_type": "stream",
          "text": [
            "INFO:tensorflow:label: 1 (id = 0)\n"
          ],
          "name": "stderr"
        },
        {
          "output_type": "stream",
          "text": [
            "INFO:tensorflow:*** Example ***\n"
          ],
          "name": "stdout"
        },
        {
          "output_type": "stream",
          "text": [
            "INFO:tensorflow:*** Example ***\n"
          ],
          "name": "stderr"
        },
        {
          "output_type": "stream",
          "text": [
            "INFO:tensorflow:guid: None\n"
          ],
          "name": "stdout"
        },
        {
          "output_type": "stream",
          "text": [
            "INFO:tensorflow:guid: None\n"
          ],
          "name": "stderr"
        },
        {
          "output_type": "stream",
          "text": [
            "INFO:tensorflow:tokens: [CLS] gotta idiot conservatives accidentally reveal nr ##a conservatives alongside wing outlets trying desperately spin debate favor executive actions guns need conservative outlet decided run article title quan ##dar ##y nr ##a gaining control losing screen ##gra ##b within text article try piece together sort magic showing nr ##a fail mis ##era ##bly stating twenty seven strongly supported nr ##a december number risen order strongly nr ##a nr ##a seem smart write article terribly numbers half nation side bravo addition voting feet walking stores around country buying firearms record pace figures set record number background checks performed single checks performed rei ##tera ##te nr ##a enjoys strong control losing ground w ##s ##j suggests put position alone nr ##a enjoys reward paying rest chance hurt profits oh [SEP]\n"
          ],
          "name": "stdout"
        },
        {
          "output_type": "stream",
          "text": [
            "INFO:tensorflow:tokens: [CLS] gotta idiot conservatives accidentally reveal nr ##a conservatives alongside wing outlets trying desperately spin debate favor executive actions guns need conservative outlet decided run article title quan ##dar ##y nr ##a gaining control losing screen ##gra ##b within text article try piece together sort magic showing nr ##a fail mis ##era ##bly stating twenty seven strongly supported nr ##a december number risen order strongly nr ##a nr ##a seem smart write article terribly numbers half nation side bravo addition voting feet walking stores around country buying firearms record pace figures set record number background checks performed single checks performed rei ##tera ##te nr ##a enjoys strong control losing ground w ##s ##j suggests put position alone nr ##a enjoys reward paying rest chance hurt profits oh [SEP]\n"
          ],
          "name": "stderr"
        },
        {
          "output_type": "stream",
          "text": [
            "INFO:tensorflow:input_ids: 101 10657 10041 11992 9554 7487 17212 2050 11992 4077 3358 11730 2667 9652 6714 5981 5684 3237 4506 4409 2342 4603 13307 2787 2448 3720 2516 24110 7662 2100 17212 2050 8550 2491 3974 3898 17643 2497 2306 3793 3720 3046 3538 2362 4066 3894 4760 17212 2050 8246 28616 6906 6321 5517 3174 2698 6118 3569 17212 2050 2285 2193 13763 2344 6118 17212 2050 17212 2050 4025 6047 4339 3720 16668 3616 2431 3842 2217 17562 2804 6830 2519 3788 5324 2105 2406 9343 13780 2501 6393 4481 2275 2501 2193 4281 14148 2864 2309 14148 2864 24964 14621 2618 17212 2050 15646 2844 2491 3974 2598 1059 2015 3501 6083 2404 2597 2894 17212 2050 15646 10377 7079 2717 3382 3480 11372 2821 102\n"
          ],
          "name": "stdout"
        },
        {
          "output_type": "stream",
          "text": [
            "INFO:tensorflow:input_ids: 101 10657 10041 11992 9554 7487 17212 2050 11992 4077 3358 11730 2667 9652 6714 5981 5684 3237 4506 4409 2342 4603 13307 2787 2448 3720 2516 24110 7662 2100 17212 2050 8550 2491 3974 3898 17643 2497 2306 3793 3720 3046 3538 2362 4066 3894 4760 17212 2050 8246 28616 6906 6321 5517 3174 2698 6118 3569 17212 2050 2285 2193 13763 2344 6118 17212 2050 17212 2050 4025 6047 4339 3720 16668 3616 2431 3842 2217 17562 2804 6830 2519 3788 5324 2105 2406 9343 13780 2501 6393 4481 2275 2501 2193 4281 14148 2864 2309 14148 2864 24964 14621 2618 17212 2050 15646 2844 2491 3974 2598 1059 2015 3501 6083 2404 2597 2894 17212 2050 15646 10377 7079 2717 3382 3480 11372 2821 102\n"
          ],
          "name": "stderr"
        },
        {
          "output_type": "stream",
          "text": [
            "INFO:tensorflow:input_mask: 1 1 1 1 1 1 1 1 1 1 1 1 1 1 1 1 1 1 1 1 1 1 1 1 1 1 1 1 1 1 1 1 1 1 1 1 1 1 1 1 1 1 1 1 1 1 1 1 1 1 1 1 1 1 1 1 1 1 1 1 1 1 1 1 1 1 1 1 1 1 1 1 1 1 1 1 1 1 1 1 1 1 1 1 1 1 1 1 1 1 1 1 1 1 1 1 1 1 1 1 1 1 1 1 1 1 1 1 1 1 1 1 1 1 1 1 1 1 1 1 1 1 1 1 1 1 1 1\n"
          ],
          "name": "stdout"
        },
        {
          "output_type": "stream",
          "text": [
            "INFO:tensorflow:input_mask: 1 1 1 1 1 1 1 1 1 1 1 1 1 1 1 1 1 1 1 1 1 1 1 1 1 1 1 1 1 1 1 1 1 1 1 1 1 1 1 1 1 1 1 1 1 1 1 1 1 1 1 1 1 1 1 1 1 1 1 1 1 1 1 1 1 1 1 1 1 1 1 1 1 1 1 1 1 1 1 1 1 1 1 1 1 1 1 1 1 1 1 1 1 1 1 1 1 1 1 1 1 1 1 1 1 1 1 1 1 1 1 1 1 1 1 1 1 1 1 1 1 1 1 1 1 1 1 1\n"
          ],
          "name": "stderr"
        },
        {
          "output_type": "stream",
          "text": [
            "INFO:tensorflow:segment_ids: 0 0 0 0 0 0 0 0 0 0 0 0 0 0 0 0 0 0 0 0 0 0 0 0 0 0 0 0 0 0 0 0 0 0 0 0 0 0 0 0 0 0 0 0 0 0 0 0 0 0 0 0 0 0 0 0 0 0 0 0 0 0 0 0 0 0 0 0 0 0 0 0 0 0 0 0 0 0 0 0 0 0 0 0 0 0 0 0 0 0 0 0 0 0 0 0 0 0 0 0 0 0 0 0 0 0 0 0 0 0 0 0 0 0 0 0 0 0 0 0 0 0 0 0 0 0 0 0\n"
          ],
          "name": "stdout"
        },
        {
          "output_type": "stream",
          "text": [
            "INFO:tensorflow:segment_ids: 0 0 0 0 0 0 0 0 0 0 0 0 0 0 0 0 0 0 0 0 0 0 0 0 0 0 0 0 0 0 0 0 0 0 0 0 0 0 0 0 0 0 0 0 0 0 0 0 0 0 0 0 0 0 0 0 0 0 0 0 0 0 0 0 0 0 0 0 0 0 0 0 0 0 0 0 0 0 0 0 0 0 0 0 0 0 0 0 0 0 0 0 0 0 0 0 0 0 0 0 0 0 0 0 0 0 0 0 0 0 0 0 0 0 0 0 0 0 0 0 0 0 0 0 0 0 0 0\n"
          ],
          "name": "stderr"
        },
        {
          "output_type": "stream",
          "text": [
            "INFO:tensorflow:label: 0 (id = 1)\n"
          ],
          "name": "stdout"
        },
        {
          "output_type": "stream",
          "text": [
            "INFO:tensorflow:label: 0 (id = 1)\n"
          ],
          "name": "stderr"
        },
        {
          "output_type": "stream",
          "text": [
            "INFO:tensorflow:*** Example ***\n"
          ],
          "name": "stdout"
        },
        {
          "output_type": "stream",
          "text": [
            "INFO:tensorflow:*** Example ***\n"
          ],
          "name": "stderr"
        },
        {
          "output_type": "stream",
          "text": [
            "INFO:tensorflow:guid: None\n"
          ],
          "name": "stdout"
        },
        {
          "output_type": "stream",
          "text": [
            "INFO:tensorflow:guid: None\n"
          ],
          "name": "stderr"
        },
        {
          "output_type": "stream",
          "text": [
            "INFO:tensorflow:tokens: [CLS] sc ##hum ##er emerges newest punching bag elect insulted rivals campaign nickname ##s crooked marco nemesis chuck sc ##hum ##er clown rhetoric ##al ban ##ter erupted yorker ##s centered fight di ##sman ##tle obama ##care effort put domestic agenda weeks sworn th taken den ##ig ##rate hard charging fundraiser senators estate magnate po ##sh florida oceans ##ide estate sc ##hum ##er whose democrats minority still muscle potentially block legislative initiatives clashed elect took first steps try gut barack signature healthcare known obama ##care sc ##hum ##er used campaign slogan mock repeal effort saying sick shot democrats blame called failed obama ##care disaster sc ##hum ##er clown ##s web wrote democrats head clown chuck sc ##hum ##er prompted say stop wasting calling names roll sleeves work ##able [SEP]\n"
          ],
          "name": "stdout"
        },
        {
          "output_type": "stream",
          "text": [
            "INFO:tensorflow:tokens: [CLS] sc ##hum ##er emerges newest punching bag elect insulted rivals campaign nickname ##s crooked marco nemesis chuck sc ##hum ##er clown rhetoric ##al ban ##ter erupted yorker ##s centered fight di ##sman ##tle obama ##care effort put domestic agenda weeks sworn th taken den ##ig ##rate hard charging fundraiser senators estate magnate po ##sh florida oceans ##ide estate sc ##hum ##er whose democrats minority still muscle potentially block legislative initiatives clashed elect took first steps try gut barack signature healthcare known obama ##care sc ##hum ##er used campaign slogan mock repeal effort saying sick shot democrats blame called failed obama ##care disaster sc ##hum ##er clown ##s web wrote democrats head clown chuck sc ##hum ##er prompted say stop wasting calling names roll sleeves work ##able [SEP]\n"
          ],
          "name": "stderr"
        },
        {
          "output_type": "stream",
          "text": [
            "INFO:tensorflow:input_ids: 101 8040 28600 2121 19391 14751 19477 4524 11322 23637 9169 3049 8367 2015 15274 8879 21363 8057 8040 28600 2121 15912 17871 2389 7221 3334 12591 19095 2015 8857 2954 4487 11512 9286 8112 16302 3947 2404 4968 11376 3134 10741 16215 2579 7939 8004 11657 2524 13003 28536 10153 3776 27470 13433 4095 3516 17401 5178 3776 8040 28600 2121 3005 8037 7162 2145 6740 9280 3796 4884 11107 22600 11322 2165 2034 4084 3046 9535 13857 8085 9871 2124 8112 16302 8040 28600 2121 2109 3049 14558 12934 21825 3947 3038 5305 2915 8037 7499 2170 3478 8112 16302 7071 8040 28600 2121 15912 2015 4773 2626 8037 2132 15912 8057 8040 28600 2121 9469 2360 2644 18313 4214 3415 4897 15114 2147 3085 102\n"
          ],
          "name": "stdout"
        },
        {
          "output_type": "stream",
          "text": [
            "INFO:tensorflow:input_ids: 101 8040 28600 2121 19391 14751 19477 4524 11322 23637 9169 3049 8367 2015 15274 8879 21363 8057 8040 28600 2121 15912 17871 2389 7221 3334 12591 19095 2015 8857 2954 4487 11512 9286 8112 16302 3947 2404 4968 11376 3134 10741 16215 2579 7939 8004 11657 2524 13003 28536 10153 3776 27470 13433 4095 3516 17401 5178 3776 8040 28600 2121 3005 8037 7162 2145 6740 9280 3796 4884 11107 22600 11322 2165 2034 4084 3046 9535 13857 8085 9871 2124 8112 16302 8040 28600 2121 2109 3049 14558 12934 21825 3947 3038 5305 2915 8037 7499 2170 3478 8112 16302 7071 8040 28600 2121 15912 2015 4773 2626 8037 2132 15912 8057 8040 28600 2121 9469 2360 2644 18313 4214 3415 4897 15114 2147 3085 102\n"
          ],
          "name": "stderr"
        },
        {
          "output_type": "stream",
          "text": [
            "INFO:tensorflow:input_mask: 1 1 1 1 1 1 1 1 1 1 1 1 1 1 1 1 1 1 1 1 1 1 1 1 1 1 1 1 1 1 1 1 1 1 1 1 1 1 1 1 1 1 1 1 1 1 1 1 1 1 1 1 1 1 1 1 1 1 1 1 1 1 1 1 1 1 1 1 1 1 1 1 1 1 1 1 1 1 1 1 1 1 1 1 1 1 1 1 1 1 1 1 1 1 1 1 1 1 1 1 1 1 1 1 1 1 1 1 1 1 1 1 1 1 1 1 1 1 1 1 1 1 1 1 1 1 1 1\n"
          ],
          "name": "stdout"
        },
        {
          "output_type": "stream",
          "text": [
            "INFO:tensorflow:input_mask: 1 1 1 1 1 1 1 1 1 1 1 1 1 1 1 1 1 1 1 1 1 1 1 1 1 1 1 1 1 1 1 1 1 1 1 1 1 1 1 1 1 1 1 1 1 1 1 1 1 1 1 1 1 1 1 1 1 1 1 1 1 1 1 1 1 1 1 1 1 1 1 1 1 1 1 1 1 1 1 1 1 1 1 1 1 1 1 1 1 1 1 1 1 1 1 1 1 1 1 1 1 1 1 1 1 1 1 1 1 1 1 1 1 1 1 1 1 1 1 1 1 1 1 1 1 1 1 1\n"
          ],
          "name": "stderr"
        },
        {
          "output_type": "stream",
          "text": [
            "INFO:tensorflow:segment_ids: 0 0 0 0 0 0 0 0 0 0 0 0 0 0 0 0 0 0 0 0 0 0 0 0 0 0 0 0 0 0 0 0 0 0 0 0 0 0 0 0 0 0 0 0 0 0 0 0 0 0 0 0 0 0 0 0 0 0 0 0 0 0 0 0 0 0 0 0 0 0 0 0 0 0 0 0 0 0 0 0 0 0 0 0 0 0 0 0 0 0 0 0 0 0 0 0 0 0 0 0 0 0 0 0 0 0 0 0 0 0 0 0 0 0 0 0 0 0 0 0 0 0 0 0 0 0 0 0\n"
          ],
          "name": "stdout"
        },
        {
          "output_type": "stream",
          "text": [
            "INFO:tensorflow:segment_ids: 0 0 0 0 0 0 0 0 0 0 0 0 0 0 0 0 0 0 0 0 0 0 0 0 0 0 0 0 0 0 0 0 0 0 0 0 0 0 0 0 0 0 0 0 0 0 0 0 0 0 0 0 0 0 0 0 0 0 0 0 0 0 0 0 0 0 0 0 0 0 0 0 0 0 0 0 0 0 0 0 0 0 0 0 0 0 0 0 0 0 0 0 0 0 0 0 0 0 0 0 0 0 0 0 0 0 0 0 0 0 0 0 0 0 0 0 0 0 0 0 0 0 0 0 0 0 0 0\n"
          ],
          "name": "stderr"
        },
        {
          "output_type": "stream",
          "text": [
            "INFO:tensorflow:label: 1 (id = 0)\n"
          ],
          "name": "stdout"
        },
        {
          "output_type": "stream",
          "text": [
            "INFO:tensorflow:label: 1 (id = 0)\n"
          ],
          "name": "stderr"
        },
        {
          "output_type": "stream",
          "text": [
            "INFO:tensorflow:*** Example ***\n"
          ],
          "name": "stdout"
        },
        {
          "output_type": "stream",
          "text": [
            "INFO:tensorflow:*** Example ***\n"
          ],
          "name": "stderr"
        },
        {
          "output_type": "stream",
          "text": [
            "INFO:tensorflow:guid: None\n"
          ],
          "name": "stdout"
        },
        {
          "output_type": "stream",
          "text": [
            "INFO:tensorflow:guid: None\n"
          ],
          "name": "stderr"
        },
        {
          "output_type": "stream",
          "text": [
            "INFO:tensorflow:tokens: [CLS] server technician declines answer ordered questions computer technician set private email server work answer questions deposition ordered judge transcript released bryan pa ##glia ##no worked previous run joined technology appoint ##ees set unauthorized server york home set server dogg ##ed pre ##sum ##ptive candidate november clouded campaign legal uncertainty voters say find dish ##ones ##t polls citing private server judge em ##met sullivan district ordered pa ##glia ##no aide ##s give sworn testimony help decide server set th ##wart public records sullivan overseeing lawsuit judicial conservative watch ##dog sui ##ng scores lawsuits filed individuals incorrectly emails arrangement became publicly known years left advice counsel decline answer question reliance fifth amendment constitution pa ##glia ##no minutes response series questions judicial lawyer deposition oath took place fifth amendment [SEP]\n"
          ],
          "name": "stdout"
        },
        {
          "output_type": "stream",
          "text": [
            "INFO:tensorflow:tokens: [CLS] server technician declines answer ordered questions computer technician set private email server work answer questions deposition ordered judge transcript released bryan pa ##glia ##no worked previous run joined technology appoint ##ees set unauthorized server york home set server dogg ##ed pre ##sum ##ptive candidate november clouded campaign legal uncertainty voters say find dish ##ones ##t polls citing private server judge em ##met sullivan district ordered pa ##glia ##no aide ##s give sworn testimony help decide server set th ##wart public records sullivan overseeing lawsuit judicial conservative watch ##dog sui ##ng scores lawsuits filed individuals incorrectly emails arrangement became publicly known years left advice counsel decline answer question reliance fifth amendment constitution pa ##glia ##no minutes response series questions judicial lawyer deposition oath took place fifth amendment [SEP]\n"
          ],
          "name": "stderr"
        },
        {
          "output_type": "stream",
          "text": [
            "INFO:tensorflow:input_ids: 101 8241 16661 26451 3437 3641 3980 3274 16661 2275 2797 10373 8241 2147 3437 3980 19806 3641 3648 24051 2207 8527 6643 20011 3630 2499 3025 2448 2587 2974 16823 10285 2275 24641 8241 2259 2188 2275 8241 28844 2098 3653 17421 24971 4018 2281 26761 3049 3423 12503 7206 2360 2424 9841 21821 2102 14592 8951 2797 8241 3648 7861 11368 7624 2212 3641 6643 20011 3630 14895 2015 2507 10741 10896 2393 5630 8241 2275 16215 18367 2270 2636 7624 19642 9870 8268 4603 3422 16168 24086 3070 7644 20543 6406 3633 19721 22028 6512 2150 7271 2124 2086 2187 6040 9517 6689 3437 3160 17975 3587 7450 4552 6643 20011 3630 2781 3433 2186 3980 8268 5160 19806 11292 2165 2173 3587 7450 102\n"
          ],
          "name": "stdout"
        },
        {
          "output_type": "stream",
          "text": [
            "INFO:tensorflow:input_ids: 101 8241 16661 26451 3437 3641 3980 3274 16661 2275 2797 10373 8241 2147 3437 3980 19806 3641 3648 24051 2207 8527 6643 20011 3630 2499 3025 2448 2587 2974 16823 10285 2275 24641 8241 2259 2188 2275 8241 28844 2098 3653 17421 24971 4018 2281 26761 3049 3423 12503 7206 2360 2424 9841 21821 2102 14592 8951 2797 8241 3648 7861 11368 7624 2212 3641 6643 20011 3630 14895 2015 2507 10741 10896 2393 5630 8241 2275 16215 18367 2270 2636 7624 19642 9870 8268 4603 3422 16168 24086 3070 7644 20543 6406 3633 19721 22028 6512 2150 7271 2124 2086 2187 6040 9517 6689 3437 3160 17975 3587 7450 4552 6643 20011 3630 2781 3433 2186 3980 8268 5160 19806 11292 2165 2173 3587 7450 102\n"
          ],
          "name": "stderr"
        },
        {
          "output_type": "stream",
          "text": [
            "INFO:tensorflow:input_mask: 1 1 1 1 1 1 1 1 1 1 1 1 1 1 1 1 1 1 1 1 1 1 1 1 1 1 1 1 1 1 1 1 1 1 1 1 1 1 1 1 1 1 1 1 1 1 1 1 1 1 1 1 1 1 1 1 1 1 1 1 1 1 1 1 1 1 1 1 1 1 1 1 1 1 1 1 1 1 1 1 1 1 1 1 1 1 1 1 1 1 1 1 1 1 1 1 1 1 1 1 1 1 1 1 1 1 1 1 1 1 1 1 1 1 1 1 1 1 1 1 1 1 1 1 1 1 1 1\n"
          ],
          "name": "stdout"
        },
        {
          "output_type": "stream",
          "text": [
            "INFO:tensorflow:input_mask: 1 1 1 1 1 1 1 1 1 1 1 1 1 1 1 1 1 1 1 1 1 1 1 1 1 1 1 1 1 1 1 1 1 1 1 1 1 1 1 1 1 1 1 1 1 1 1 1 1 1 1 1 1 1 1 1 1 1 1 1 1 1 1 1 1 1 1 1 1 1 1 1 1 1 1 1 1 1 1 1 1 1 1 1 1 1 1 1 1 1 1 1 1 1 1 1 1 1 1 1 1 1 1 1 1 1 1 1 1 1 1 1 1 1 1 1 1 1 1 1 1 1 1 1 1 1 1 1\n"
          ],
          "name": "stderr"
        },
        {
          "output_type": "stream",
          "text": [
            "INFO:tensorflow:segment_ids: 0 0 0 0 0 0 0 0 0 0 0 0 0 0 0 0 0 0 0 0 0 0 0 0 0 0 0 0 0 0 0 0 0 0 0 0 0 0 0 0 0 0 0 0 0 0 0 0 0 0 0 0 0 0 0 0 0 0 0 0 0 0 0 0 0 0 0 0 0 0 0 0 0 0 0 0 0 0 0 0 0 0 0 0 0 0 0 0 0 0 0 0 0 0 0 0 0 0 0 0 0 0 0 0 0 0 0 0 0 0 0 0 0 0 0 0 0 0 0 0 0 0 0 0 0 0 0 0\n"
          ],
          "name": "stdout"
        },
        {
          "output_type": "stream",
          "text": [
            "INFO:tensorflow:segment_ids: 0 0 0 0 0 0 0 0 0 0 0 0 0 0 0 0 0 0 0 0 0 0 0 0 0 0 0 0 0 0 0 0 0 0 0 0 0 0 0 0 0 0 0 0 0 0 0 0 0 0 0 0 0 0 0 0 0 0 0 0 0 0 0 0 0 0 0 0 0 0 0 0 0 0 0 0 0 0 0 0 0 0 0 0 0 0 0 0 0 0 0 0 0 0 0 0 0 0 0 0 0 0 0 0 0 0 0 0 0 0 0 0 0 0 0 0 0 0 0 0 0 0 0 0 0 0 0 0\n"
          ],
          "name": "stderr"
        },
        {
          "output_type": "stream",
          "text": [
            "INFO:tensorflow:label: 1 (id = 0)\n"
          ],
          "name": "stdout"
        },
        {
          "output_type": "stream",
          "text": [
            "INFO:tensorflow:label: 1 (id = 0)\n"
          ],
          "name": "stderr"
        },
        {
          "output_type": "stream",
          "text": [
            "INFO:tensorflow:*** Example ***\n"
          ],
          "name": "stdout"
        },
        {
          "output_type": "stream",
          "text": [
            "INFO:tensorflow:*** Example ***\n"
          ],
          "name": "stderr"
        },
        {
          "output_type": "stream",
          "text": [
            "INFO:tensorflow:guid: None\n"
          ],
          "name": "stdout"
        },
        {
          "output_type": "stream",
          "text": [
            "INFO:tensorflow:guid: None\n"
          ],
          "name": "stderr"
        },
        {
          "output_type": "stream",
          "text": [
            "INFO:tensorflow:tokens: [CLS] pe ##los ##i hacked email secret memo staff ##ers b ##lm activists dem ##s side large say doc ##s leaked gu ##cci ##fer memo nancy pe ##los ##i giving directions minions handle terror memo pe ##los ##i careful dc ##cc staff talk b ##lm allow meet large numbers feed animals keep arms length exactly kind rhetoric expect star nancy net worth listed keep engaged lose voting block close notable advising democrats say talk crime worst say activists describes b ##lm radical accurate notes extends beyond questions police brutality criminal justice leave eliminate prisons police notice advises offer concrete positions listen pretend offering [SEP]\n"
          ],
          "name": "stdout"
        },
        {
          "output_type": "stream",
          "text": [
            "INFO:tensorflow:tokens: [CLS] pe ##los ##i hacked email secret memo staff ##ers b ##lm activists dem ##s side large say doc ##s leaked gu ##cci ##fer memo nancy pe ##los ##i giving directions minions handle terror memo pe ##los ##i careful dc ##cc staff talk b ##lm allow meet large numbers feed animals keep arms length exactly kind rhetoric expect star nancy net worth listed keep engaged lose voting block close notable advising democrats say talk crime worst say activists describes b ##lm radical accurate notes extends beyond questions police brutality criminal justice leave eliminate prisons police notice advises offer concrete positions listen pretend offering [SEP]\n"
          ],
          "name": "stderr"
        },
        {
          "output_type": "stream",
          "text": [
            "INFO:tensorflow:input_ids: 101 21877 10483 2072 28719 10373 3595 24443 3095 2545 1038 13728 10134 17183 2015 2217 2312 2360 9986 2015 15748 19739 14693 7512 24443 7912 21877 10483 2072 3228 7826 28071 5047 7404 24443 21877 10483 2072 6176 5887 9468 3095 2831 1038 13728 3499 3113 2312 3616 5438 4176 2562 2608 3091 3599 2785 17871 5987 2732 7912 5658 4276 3205 2562 5117 4558 6830 3796 2485 3862 23875 8037 2360 2831 4126 5409 2360 10134 5577 1038 13728 7490 8321 3964 8908 3458 3980 2610 24083 4735 3425 2681 11027 15996 2610 5060 25453 3749 5509 4460 4952 9811 5378 102 0 0 0 0 0 0 0 0 0 0 0 0 0 0 0 0 0 0 0 0 0 0 0 0\n"
          ],
          "name": "stdout"
        },
        {
          "output_type": "stream",
          "text": [
            "INFO:tensorflow:input_ids: 101 21877 10483 2072 28719 10373 3595 24443 3095 2545 1038 13728 10134 17183 2015 2217 2312 2360 9986 2015 15748 19739 14693 7512 24443 7912 21877 10483 2072 3228 7826 28071 5047 7404 24443 21877 10483 2072 6176 5887 9468 3095 2831 1038 13728 3499 3113 2312 3616 5438 4176 2562 2608 3091 3599 2785 17871 5987 2732 7912 5658 4276 3205 2562 5117 4558 6830 3796 2485 3862 23875 8037 2360 2831 4126 5409 2360 10134 5577 1038 13728 7490 8321 3964 8908 3458 3980 2610 24083 4735 3425 2681 11027 15996 2610 5060 25453 3749 5509 4460 4952 9811 5378 102 0 0 0 0 0 0 0 0 0 0 0 0 0 0 0 0 0 0 0 0 0 0 0 0\n"
          ],
          "name": "stderr"
        },
        {
          "output_type": "stream",
          "text": [
            "INFO:tensorflow:input_mask: 1 1 1 1 1 1 1 1 1 1 1 1 1 1 1 1 1 1 1 1 1 1 1 1 1 1 1 1 1 1 1 1 1 1 1 1 1 1 1 1 1 1 1 1 1 1 1 1 1 1 1 1 1 1 1 1 1 1 1 1 1 1 1 1 1 1 1 1 1 1 1 1 1 1 1 1 1 1 1 1 1 1 1 1 1 1 1 1 1 1 1 1 1 1 1 1 1 1 1 1 1 1 1 1 0 0 0 0 0 0 0 0 0 0 0 0 0 0 0 0 0 0 0 0 0 0 0 0\n"
          ],
          "name": "stdout"
        },
        {
          "output_type": "stream",
          "text": [
            "INFO:tensorflow:input_mask: 1 1 1 1 1 1 1 1 1 1 1 1 1 1 1 1 1 1 1 1 1 1 1 1 1 1 1 1 1 1 1 1 1 1 1 1 1 1 1 1 1 1 1 1 1 1 1 1 1 1 1 1 1 1 1 1 1 1 1 1 1 1 1 1 1 1 1 1 1 1 1 1 1 1 1 1 1 1 1 1 1 1 1 1 1 1 1 1 1 1 1 1 1 1 1 1 1 1 1 1 1 1 1 1 0 0 0 0 0 0 0 0 0 0 0 0 0 0 0 0 0 0 0 0 0 0 0 0\n"
          ],
          "name": "stderr"
        },
        {
          "output_type": "stream",
          "text": [
            "INFO:tensorflow:segment_ids: 0 0 0 0 0 0 0 0 0 0 0 0 0 0 0 0 0 0 0 0 0 0 0 0 0 0 0 0 0 0 0 0 0 0 0 0 0 0 0 0 0 0 0 0 0 0 0 0 0 0 0 0 0 0 0 0 0 0 0 0 0 0 0 0 0 0 0 0 0 0 0 0 0 0 0 0 0 0 0 0 0 0 0 0 0 0 0 0 0 0 0 0 0 0 0 0 0 0 0 0 0 0 0 0 0 0 0 0 0 0 0 0 0 0 0 0 0 0 0 0 0 0 0 0 0 0 0 0\n"
          ],
          "name": "stdout"
        },
        {
          "output_type": "stream",
          "text": [
            "INFO:tensorflow:segment_ids: 0 0 0 0 0 0 0 0 0 0 0 0 0 0 0 0 0 0 0 0 0 0 0 0 0 0 0 0 0 0 0 0 0 0 0 0 0 0 0 0 0 0 0 0 0 0 0 0 0 0 0 0 0 0 0 0 0 0 0 0 0 0 0 0 0 0 0 0 0 0 0 0 0 0 0 0 0 0 0 0 0 0 0 0 0 0 0 0 0 0 0 0 0 0 0 0 0 0 0 0 0 0 0 0 0 0 0 0 0 0 0 0 0 0 0 0 0 0 0 0 0 0 0 0 0 0 0 0\n"
          ],
          "name": "stderr"
        },
        {
          "output_type": "stream",
          "text": [
            "INFO:tensorflow:label: 0 (id = 1)\n"
          ],
          "name": "stdout"
        },
        {
          "output_type": "stream",
          "text": [
            "INFO:tensorflow:label: 0 (id = 1)\n"
          ],
          "name": "stderr"
        }
      ]
    },
    {
      "cell_type": "code",
      "metadata": {
        "id": "D8PuLF1BmPMD",
        "colab_type": "code",
        "colab": {}
      },
      "source": [
        "#Creating our model by fine-tuning Bert module\n",
        "def create_model(is_predicting, input_ids, input_mask, segment_ids, labels,\n",
        "                 num_labels):\n",
        "  \"\"\"Creates a classification model.\"\"\"\n",
        "\n",
        "  bert_module = hub.Module(\n",
        "      BERT_MODEL_HUB,\n",
        "      trainable=True)\n",
        "  bert_inputs = dict(\n",
        "      input_ids=input_ids,\n",
        "      input_mask=input_mask,\n",
        "      segment_ids=segment_ids)\n",
        "  bert_outputs = bert_module(\n",
        "      inputs=bert_inputs,\n",
        "      signature=\"tokens\",\n",
        "      as_dict=True)\n",
        "\n",
        "  # Use \"pooled_output\" for classification tasks on an entire sentence.\n",
        "  # Use \"sequence_outputs\" for token-level output.\n",
        "  output_layer = bert_outputs[\"pooled_output\"]\n",
        "\n",
        "  hidden_size = output_layer.shape[-1].value\n",
        "\n",
        "  # Create our own layer to tune for politeness data.\n",
        "  output_weights = tf.get_variable(\n",
        "      \"output_weights\", [num_labels, hidden_size],\n",
        "      initializer=tf.truncated_normal_initializer(stddev=0.02))\n",
        "\n",
        "  output_bias = tf.get_variable(\n",
        "      \"output_bias\", [num_labels], initializer=tf.zeros_initializer())\n",
        "\n",
        "  tensorboard_callback = tf.keras.callbacks.TensorBoard(log_dir=\"/content/drive/My Drive/CS221_Project/logs\")\n",
        "\n",
        "  with tf.variable_scope(\"loss\"):\n",
        "\n",
        "    # Dropout helps prevent overfitting\n",
        "    output_layer = tf.nn.dropout(output_layer, keep_prob=0.9)\n",
        "\n",
        "    logits = tf.matmul(output_layer, output_weights, transpose_b=True)\n",
        "    logits = tf.nn.bias_add(logits, output_bias)\n",
        "    log_probs = tf.nn.log_softmax(logits, axis=-1)\n",
        "\n",
        "    # Convert labels into one-hot encoding\n",
        "    one_hot_labels = tf.one_hot(labels, depth=num_labels, dtype=tf.float32)\n",
        "\n",
        "    predicted_labels = tf.squeeze(tf.argmax(log_probs, axis=-1, output_type=tf.int32))\n",
        "    # If we're predicting, we want predicted labels and the probabiltiies.\n",
        "    if is_predicting:\n",
        "      return (predicted_labels, log_probs)\n",
        "\n",
        "    # If we're train/eval, compute loss between predicted and actual label\n",
        "    per_example_loss = -tf.reduce_sum(one_hot_labels * log_probs, axis=-1)\n",
        "    loss = tf.reduce_mean(per_example_loss)\n",
        "    return (loss, predicted_labels, log_probs)"
      ],
      "execution_count": 0,
      "outputs": []
    },
    {
      "cell_type": "code",
      "metadata": {
        "id": "1xOsXHYVoFMA",
        "colab_type": "code",
        "colab": {}
      },
      "source": [
        "# model_fn_builder actually creates our model function\n",
        "# using the passed parameters for num_labels, learning_rate, etc.\n",
        "def model_fn_builder(num_labels, learning_rate, num_train_steps,\n",
        "                     num_warmup_steps):\n",
        "  \"\"\"Returns `model_fn` closure for TPUEstimator.\"\"\"\n",
        "  def model_fn(features, labels, mode, params):  # pylint: disable=unused-argument\n",
        "    \"\"\"The `model_fn` for TPUEstimator.\"\"\"\n",
        "\n",
        "    input_ids = features[\"input_ids\"]\n",
        "    input_mask = features[\"input_mask\"]\n",
        "    segment_ids = features[\"segment_ids\"]\n",
        "    label_ids = features[\"label_ids\"]\n",
        "\n",
        "    is_predicting = (mode == tf.estimator.ModeKeys.PREDICT)\n",
        "    \n",
        "    # TRAIN and EVAL\n",
        "    if not is_predicting:\n",
        "\n",
        "      (loss, predicted_labels, log_probs) = create_model(\n",
        "        is_predicting, input_ids, input_mask, segment_ids, label_ids, num_labels)\n",
        "\n",
        "      train_op = bert.optimization.create_optimizer(\n",
        "          loss, learning_rate, num_train_steps, num_warmup_steps, use_tpu=False)\n",
        "\n",
        "      # Calculate evaluation metrics. \n",
        "      def metric_fn(label_ids, predicted_labels):\n",
        "        accuracy = tf.metrics.accuracy(label_ids, predicted_labels)\n",
        "        f1_score = tf.contrib.metrics.f1_score(\n",
        "            label_ids,\n",
        "            predicted_labels)\n",
        "        auc = tf.metrics.auc(\n",
        "            label_ids,\n",
        "            predicted_labels)\n",
        "        recall = tf.metrics.recall(\n",
        "            label_ids,\n",
        "            predicted_labels)\n",
        "        precision = tf.metrics.precision(\n",
        "            label_ids,\n",
        "            predicted_labels) \n",
        "        true_pos = tf.metrics.true_positives(\n",
        "            label_ids,\n",
        "            predicted_labels)\n",
        "        true_neg = tf.metrics.true_negatives(\n",
        "            label_ids,\n",
        "            predicted_labels)   \n",
        "        false_pos = tf.metrics.false_positives(\n",
        "            label_ids,\n",
        "            predicted_labels)  \n",
        "        false_neg = tf.metrics.false_negatives(\n",
        "            label_ids,\n",
        "            predicted_labels)\n",
        "        return {\n",
        "            \"eval_accuracy\": accuracy,\n",
        "            \"f1_score\": f1_score,\n",
        "            \"auc\": auc,\n",
        "            \"precision\": precision,\n",
        "            \"recall\": recall,\n",
        "            \"true_positives\": true_pos,\n",
        "            \"true_negatives\": true_neg,\n",
        "            \"false_positives\": false_pos,\n",
        "            \"false_negatives\": false_neg,\n",
        "        }\n",
        "\n",
        "      eval_metrics = metric_fn(label_ids, predicted_labels)\n",
        "\n",
        "      if mode == tf.estimator.ModeKeys.TRAIN:\n",
        "        return tf.estimator.EstimatorSpec(mode=mode,\n",
        "          loss=loss,\n",
        "          train_op=train_op)\n",
        "      else:\n",
        "          return tf.estimator.EstimatorSpec(mode=mode,\n",
        "            loss=loss,\n",
        "            eval_metric_ops=eval_metrics)\n",
        "    else:\n",
        "      (predicted_labels, log_probs) = create_model(\n",
        "        is_predicting, input_ids, input_mask, segment_ids, label_ids, num_labels)\n",
        "\n",
        "      predictions = {\n",
        "          'probabilities': log_probs,\n",
        "          'labels': predicted_labels\n",
        "      }\n",
        "      return tf.estimator.EstimatorSpec(mode, predictions=predictions)\n",
        "\n",
        "  # Return the actual model function in the closure\n",
        "  return model_fn\n"
      ],
      "execution_count": 0,
      "outputs": []
    },
    {
      "cell_type": "code",
      "metadata": {
        "id": "NaXG5nYMoO_8",
        "colab_type": "code",
        "colab": {}
      },
      "source": [
        "# Compute train and warmup steps from batch size\n",
        "BATCH_SIZE = 32\n",
        "LEARNING_RATE = 2e-5\n",
        "NUM_TRAIN_EPOCHS = 3.0\n",
        "# Warmup is a period of time where the learning rate \n",
        "# is small and gradually increases--usually helps training.\n",
        "WARMUP_PROPORTION = 0.1\n",
        "# Model configs\n",
        "SAVE_CHECKPOINTS_STEPS = 500\n",
        "SAVE_SUMMARY_STEPS = 100"
      ],
      "execution_count": 0,
      "outputs": []
    },
    {
      "cell_type": "code",
      "metadata": {
        "id": "iwzQmIploUMV",
        "colab_type": "code",
        "colab": {}
      },
      "source": [
        "# Compute # train and warmup steps from batch size\n",
        "num_train_steps = int(len(train_features) / BATCH_SIZE * NUM_TRAIN_EPOCHS)\n",
        "num_warmup_steps = int(num_train_steps * WARMUP_PROPORTION)"
      ],
      "execution_count": 0,
      "outputs": []
    },
    {
      "cell_type": "code",
      "metadata": {
        "id": "RZJzDB0xoWdB",
        "colab_type": "code",
        "colab": {}
      },
      "source": [
        "# Specify output directory and number of checkpoint steps to save\n",
        "run_config = tf.estimator.RunConfig(\n",
        "    model_dir=OUTPUT_DIR,\n",
        "    save_summary_steps=SAVE_SUMMARY_STEPS,\n",
        "    save_checkpoints_steps=SAVE_CHECKPOINTS_STEPS,\n",
        "    log_step_count_steps=100)"
      ],
      "execution_count": 0,
      "outputs": []
    },
    {
      "cell_type": "code",
      "metadata": {
        "id": "M9JNwSjvoZLh",
        "colab_type": "code",
        "colab": {
          "base_uri": "https://localhost:8080/",
          "height": 299
        },
        "outputId": "f9290a08-9193-44cf-9df0-61cf0b0141ed"
      },
      "source": [
        "model_fn = model_fn_builder(\n",
        "  num_labels=len(label_list),\n",
        "  learning_rate=LEARNING_RATE,\n",
        "  num_train_steps=num_train_steps,\n",
        "  num_warmup_steps=num_warmup_steps)\n",
        "\n",
        "estimator = tf.estimator.Estimator(\n",
        "  model_fn=model_fn,\n",
        "  config=run_config,\n",
        "  params={\"batch_size\": BATCH_SIZE})\n"
      ],
      "execution_count": 104,
      "outputs": [
        {
          "output_type": "stream",
          "text": [
            "INFO:tensorflow:Using config: {'_model_dir': 'model_out', '_tf_random_seed': None, '_save_summary_steps': 100, '_save_checkpoints_steps': 500, '_save_checkpoints_secs': None, '_session_config': allow_soft_placement: true\n",
            "graph_options {\n",
            "  rewrite_options {\n",
            "    meta_optimizer_iterations: ONE\n",
            "  }\n",
            "}\n",
            ", '_keep_checkpoint_max': 5, '_keep_checkpoint_every_n_hours': 10000, '_log_step_count_steps': 100, '_train_distribute': None, '_device_fn': None, '_protocol': None, '_eval_distribute': None, '_experimental_distribute': None, '_experimental_max_worker_delay_secs': None, '_session_creation_timeout_secs': 7200, '_service': None, '_cluster_spec': <tensorflow.python.training.server_lib.ClusterSpec object at 0x7f5f060fbd68>, '_task_type': 'worker', '_task_id': 0, '_global_id_in_cluster': 0, '_master': '', '_evaluation_master': '', '_is_chief': True, '_num_ps_replicas': 0, '_num_worker_replicas': 1}\n"
          ],
          "name": "stdout"
        },
        {
          "output_type": "stream",
          "text": [
            "INFO:tensorflow:Using config: {'_model_dir': 'model_out', '_tf_random_seed': None, '_save_summary_steps': 100, '_save_checkpoints_steps': 500, '_save_checkpoints_secs': None, '_session_config': allow_soft_placement: true\n",
            "graph_options {\n",
            "  rewrite_options {\n",
            "    meta_optimizer_iterations: ONE\n",
            "  }\n",
            "}\n",
            ", '_keep_checkpoint_max': 5, '_keep_checkpoint_every_n_hours': 10000, '_log_step_count_steps': 100, '_train_distribute': None, '_device_fn': None, '_protocol': None, '_eval_distribute': None, '_experimental_distribute': None, '_experimental_max_worker_delay_secs': None, '_session_creation_timeout_secs': 7200, '_service': None, '_cluster_spec': <tensorflow.python.training.server_lib.ClusterSpec object at 0x7f5f060fbd68>, '_task_type': 'worker', '_task_id': 0, '_global_id_in_cluster': 0, '_master': '', '_evaluation_master': '', '_is_chief': True, '_num_ps_replicas': 0, '_num_worker_replicas': 1}\n"
          ],
          "name": "stderr"
        }
      ]
    },
    {
      "cell_type": "code",
      "metadata": {
        "id": "Ya_wbyUVobIW",
        "colab_type": "code",
        "colab": {}
      },
      "source": [
        "# Create an input function for training. drop_remainder = True for using TPUs.\n",
        "train_input_fn = bert.run_classifier.input_fn_builder(\n",
        "    features=train_features,\n",
        "    seq_length=MAX_SEQ_LENGTH,\n",
        "    is_training=True,\n",
        "    drop_remainder=False)"
      ],
      "execution_count": 0,
      "outputs": []
    },
    {
      "cell_type": "code",
      "metadata": {
        "id": "VEZg6XoAod8M",
        "colab_type": "code",
        "colab": {
          "base_uri": "https://localhost:8080/",
          "height": 1000
        },
        "outputId": "4679ba4e-6afc-4d2e-a41d-3b858112e74e"
      },
      "source": [
        "print(f'Beginning Training!')\n",
        "current_time = datetime.now()\n",
        "estimator.train(input_fn=train_input_fn, max_steps=num_train_steps)\n",
        "print(\"Training took time \", datetime.now() - current_time)"
      ],
      "execution_count": 106,
      "outputs": [
        {
          "output_type": "stream",
          "text": [
            "Beginning Training!\n",
            "WARNING:tensorflow:From /tensorflow-1.15.2/python3.6/tensorflow_core/python/training/training_util.py:236: Variable.initialized_value (from tensorflow.python.ops.variables) is deprecated and will be removed in a future version.\n",
            "Instructions for updating:\n",
            "Use Variable.read_value. Variables in 2.X are initialized automatically both in eager and graph (inside tf.defun) contexts.\n"
          ],
          "name": "stdout"
        },
        {
          "output_type": "stream",
          "text": [
            "WARNING:tensorflow:From /tensorflow-1.15.2/python3.6/tensorflow_core/python/training/training_util.py:236: Variable.initialized_value (from tensorflow.python.ops.variables) is deprecated and will be removed in a future version.\n",
            "Instructions for updating:\n",
            "Use Variable.read_value. Variables in 2.X are initialized automatically both in eager and graph (inside tf.defun) contexts.\n"
          ],
          "name": "stderr"
        },
        {
          "output_type": "stream",
          "text": [
            "INFO:tensorflow:Calling model_fn.\n"
          ],
          "name": "stdout"
        },
        {
          "output_type": "stream",
          "text": [
            "INFO:tensorflow:Calling model_fn.\n"
          ],
          "name": "stderr"
        },
        {
          "output_type": "stream",
          "text": [
            "INFO:tensorflow:Saver not created because there are no variables in the graph to restore\n"
          ],
          "name": "stdout"
        },
        {
          "output_type": "stream",
          "text": [
            "INFO:tensorflow:Saver not created because there are no variables in the graph to restore\n"
          ],
          "name": "stderr"
        },
        {
          "output_type": "stream",
          "text": [
            "WARNING:tensorflow:From <ipython-input-99-f4ac069924ce>:37: calling dropout (from tensorflow.python.ops.nn_ops) with keep_prob is deprecated and will be removed in a future version.\n",
            "Instructions for updating:\n",
            "Please use `rate` instead of `keep_prob`. Rate should be set to `rate = 1 - keep_prob`.\n"
          ],
          "name": "stdout"
        },
        {
          "output_type": "stream",
          "text": [
            "WARNING:tensorflow:From <ipython-input-99-f4ac069924ce>:37: calling dropout (from tensorflow.python.ops.nn_ops) with keep_prob is deprecated and will be removed in a future version.\n",
            "Instructions for updating:\n",
            "Please use `rate` instead of `keep_prob`. Rate should be set to `rate = 1 - keep_prob`.\n"
          ],
          "name": "stderr"
        },
        {
          "output_type": "stream",
          "text": [
            "WARNING:tensorflow:From /usr/local/lib/python3.6/dist-packages/bert/optimization.py:27: The name tf.train.get_or_create_global_step is deprecated. Please use tf.compat.v1.train.get_or_create_global_step instead.\n",
            "\n"
          ],
          "name": "stdout"
        },
        {
          "output_type": "stream",
          "text": [
            "WARNING:tensorflow:From /usr/local/lib/python3.6/dist-packages/bert/optimization.py:27: The name tf.train.get_or_create_global_step is deprecated. Please use tf.compat.v1.train.get_or_create_global_step instead.\n",
            "\n"
          ],
          "name": "stderr"
        },
        {
          "output_type": "stream",
          "text": [
            "WARNING:tensorflow:From /usr/local/lib/python3.6/dist-packages/bert/optimization.py:32: The name tf.train.polynomial_decay is deprecated. Please use tf.compat.v1.train.polynomial_decay instead.\n",
            "\n"
          ],
          "name": "stdout"
        },
        {
          "output_type": "stream",
          "text": [
            "WARNING:tensorflow:From /usr/local/lib/python3.6/dist-packages/bert/optimization.py:32: The name tf.train.polynomial_decay is deprecated. Please use tf.compat.v1.train.polynomial_decay instead.\n",
            "\n"
          ],
          "name": "stderr"
        },
        {
          "output_type": "stream",
          "text": [
            "WARNING:tensorflow:From /usr/local/lib/python3.6/dist-packages/bert/optimization.py:70: The name tf.trainable_variables is deprecated. Please use tf.compat.v1.trainable_variables instead.\n",
            "\n"
          ],
          "name": "stdout"
        },
        {
          "output_type": "stream",
          "text": [
            "WARNING:tensorflow:From /usr/local/lib/python3.6/dist-packages/bert/optimization.py:70: The name tf.trainable_variables is deprecated. Please use tf.compat.v1.trainable_variables instead.\n",
            "\n"
          ],
          "name": "stderr"
        },
        {
          "output_type": "stream",
          "text": [
            "WARNING:tensorflow:From /tensorflow-1.15.2/python3.6/tensorflow_core/python/ops/math_grad.py:1375: where (from tensorflow.python.ops.array_ops) is deprecated and will be removed in a future version.\n",
            "Instructions for updating:\n",
            "Use tf.where in 2.0, which has the same broadcast rule as np.where\n"
          ],
          "name": "stdout"
        },
        {
          "output_type": "stream",
          "text": [
            "WARNING:tensorflow:From /tensorflow-1.15.2/python3.6/tensorflow_core/python/ops/math_grad.py:1375: where (from tensorflow.python.ops.array_ops) is deprecated and will be removed in a future version.\n",
            "Instructions for updating:\n",
            "Use tf.where in 2.0, which has the same broadcast rule as np.where\n"
          ],
          "name": "stderr"
        },
        {
          "output_type": "stream",
          "text": [
            "WARNING:tensorflow:\n",
            "The TensorFlow contrib module will not be included in TensorFlow 2.0.\n",
            "For more information, please see:\n",
            "  * https://github.com/tensorflow/community/blob/master/rfcs/20180907-contrib-sunset.md\n",
            "  * https://github.com/tensorflow/addons\n",
            "  * https://github.com/tensorflow/io (for I/O related ops)\n",
            "If you depend on functionality not listed there, please file an issue.\n",
            "\n"
          ],
          "name": "stdout"
        },
        {
          "output_type": "stream",
          "text": [
            "WARNING:tensorflow:\n",
            "The TensorFlow contrib module will not be included in TensorFlow 2.0.\n",
            "For more information, please see:\n",
            "  * https://github.com/tensorflow/community/blob/master/rfcs/20180907-contrib-sunset.md\n",
            "  * https://github.com/tensorflow/addons\n",
            "  * https://github.com/tensorflow/io (for I/O related ops)\n",
            "If you depend on functionality not listed there, please file an issue.\n",
            "\n"
          ],
          "name": "stderr"
        },
        {
          "output_type": "stream",
          "text": [
            "WARNING:tensorflow:From /tensorflow-1.15.2/python3.6/tensorflow_core/contrib/metrics/python/metrics/classification.py:162: div (from tensorflow.python.ops.math_ops) is deprecated and will be removed in a future version.\n",
            "Instructions for updating:\n",
            "Deprecated in favor of operator or tf.math.divide.\n"
          ],
          "name": "stdout"
        },
        {
          "output_type": "stream",
          "text": [
            "WARNING:tensorflow:From /tensorflow-1.15.2/python3.6/tensorflow_core/contrib/metrics/python/metrics/classification.py:162: div (from tensorflow.python.ops.math_ops) is deprecated and will be removed in a future version.\n",
            "Instructions for updating:\n",
            "Deprecated in favor of operator or tf.math.divide.\n"
          ],
          "name": "stderr"
        },
        {
          "output_type": "stream",
          "text": [
            "INFO:tensorflow:Done calling model_fn.\n"
          ],
          "name": "stdout"
        },
        {
          "output_type": "stream",
          "text": [
            "INFO:tensorflow:Done calling model_fn.\n"
          ],
          "name": "stderr"
        },
        {
          "output_type": "stream",
          "text": [
            "INFO:tensorflow:Create CheckpointSaverHook.\n"
          ],
          "name": "stdout"
        },
        {
          "output_type": "stream",
          "text": [
            "INFO:tensorflow:Create CheckpointSaverHook.\n"
          ],
          "name": "stderr"
        },
        {
          "output_type": "stream",
          "text": [
            "INFO:tensorflow:Graph was finalized.\n"
          ],
          "name": "stdout"
        },
        {
          "output_type": "stream",
          "text": [
            "INFO:tensorflow:Graph was finalized.\n"
          ],
          "name": "stderr"
        },
        {
          "output_type": "stream",
          "text": [
            "INFO:tensorflow:Running local_init_op.\n"
          ],
          "name": "stdout"
        },
        {
          "output_type": "stream",
          "text": [
            "INFO:tensorflow:Running local_init_op.\n"
          ],
          "name": "stderr"
        },
        {
          "output_type": "stream",
          "text": [
            "INFO:tensorflow:Done running local_init_op.\n"
          ],
          "name": "stdout"
        },
        {
          "output_type": "stream",
          "text": [
            "INFO:tensorflow:Done running local_init_op.\n"
          ],
          "name": "stderr"
        },
        {
          "output_type": "stream",
          "text": [
            "INFO:tensorflow:Saving checkpoints for 0 into model_out/model.ckpt.\n"
          ],
          "name": "stdout"
        },
        {
          "output_type": "stream",
          "text": [
            "INFO:tensorflow:Saving checkpoints for 0 into model_out/model.ckpt.\n"
          ],
          "name": "stderr"
        },
        {
          "output_type": "stream",
          "text": [
            "INFO:tensorflow:loss = 0.69671243, step = 0\n"
          ],
          "name": "stdout"
        },
        {
          "output_type": "stream",
          "text": [
            "INFO:tensorflow:loss = 0.69671243, step = 0\n"
          ],
          "name": "stderr"
        },
        {
          "output_type": "stream",
          "text": [
            "INFO:tensorflow:global_step/sec: 0.574531\n"
          ],
          "name": "stdout"
        },
        {
          "output_type": "stream",
          "text": [
            "INFO:tensorflow:global_step/sec: 0.574531\n"
          ],
          "name": "stderr"
        },
        {
          "output_type": "stream",
          "text": [
            "INFO:tensorflow:loss = 0.4499194, step = 100 (174.057 sec)\n"
          ],
          "name": "stdout"
        },
        {
          "output_type": "stream",
          "text": [
            "INFO:tensorflow:loss = 0.4499194, step = 100 (174.057 sec)\n"
          ],
          "name": "stderr"
        },
        {
          "output_type": "stream",
          "text": [
            "INFO:tensorflow:global_step/sec: 0.640922\n"
          ],
          "name": "stdout"
        },
        {
          "output_type": "stream",
          "text": [
            "INFO:tensorflow:global_step/sec: 0.640922\n"
          ],
          "name": "stderr"
        },
        {
          "output_type": "stream",
          "text": [
            "INFO:tensorflow:loss = 0.2566116, step = 200 (156.027 sec)\n"
          ],
          "name": "stdout"
        },
        {
          "output_type": "stream",
          "text": [
            "INFO:tensorflow:loss = 0.2566116, step = 200 (156.027 sec)\n"
          ],
          "name": "stderr"
        },
        {
          "output_type": "stream",
          "text": [
            "INFO:tensorflow:global_step/sec: 0.638372\n"
          ],
          "name": "stdout"
        },
        {
          "output_type": "stream",
          "text": [
            "INFO:tensorflow:global_step/sec: 0.638372\n"
          ],
          "name": "stderr"
        },
        {
          "output_type": "stream",
          "text": [
            "INFO:tensorflow:loss = 0.11947474, step = 300 (156.649 sec)\n"
          ],
          "name": "stdout"
        },
        {
          "output_type": "stream",
          "text": [
            "INFO:tensorflow:loss = 0.11947474, step = 300 (156.649 sec)\n"
          ],
          "name": "stderr"
        },
        {
          "output_type": "stream",
          "text": [
            "INFO:tensorflow:global_step/sec: 0.637155\n"
          ],
          "name": "stdout"
        },
        {
          "output_type": "stream",
          "text": [
            "INFO:tensorflow:global_step/sec: 0.637155\n"
          ],
          "name": "stderr"
        },
        {
          "output_type": "stream",
          "text": [
            "INFO:tensorflow:loss = 0.051090375, step = 400 (156.947 sec)\n"
          ],
          "name": "stdout"
        },
        {
          "output_type": "stream",
          "text": [
            "INFO:tensorflow:loss = 0.051090375, step = 400 (156.947 sec)\n"
          ],
          "name": "stderr"
        },
        {
          "output_type": "stream",
          "text": [
            "INFO:tensorflow:Saving checkpoints for 500 into model_out/model.ckpt.\n"
          ],
          "name": "stdout"
        },
        {
          "output_type": "stream",
          "text": [
            "INFO:tensorflow:Saving checkpoints for 500 into model_out/model.ckpt.\n"
          ],
          "name": "stderr"
        },
        {
          "output_type": "stream",
          "text": [
            "INFO:tensorflow:global_step/sec: 0.612348\n"
          ],
          "name": "stdout"
        },
        {
          "output_type": "stream",
          "text": [
            "INFO:tensorflow:global_step/sec: 0.612348\n"
          ],
          "name": "stderr"
        },
        {
          "output_type": "stream",
          "text": [
            "INFO:tensorflow:loss = 0.049584694, step = 500 (163.304 sec)\n"
          ],
          "name": "stdout"
        },
        {
          "output_type": "stream",
          "text": [
            "INFO:tensorflow:loss = 0.049584694, step = 500 (163.304 sec)\n"
          ],
          "name": "stderr"
        },
        {
          "output_type": "stream",
          "text": [
            "INFO:tensorflow:global_step/sec: 0.63794\n"
          ],
          "name": "stdout"
        },
        {
          "output_type": "stream",
          "text": [
            "INFO:tensorflow:global_step/sec: 0.63794\n"
          ],
          "name": "stderr"
        },
        {
          "output_type": "stream",
          "text": [
            "INFO:tensorflow:loss = 0.10192853, step = 600 (156.757 sec)\n"
          ],
          "name": "stdout"
        },
        {
          "output_type": "stream",
          "text": [
            "INFO:tensorflow:loss = 0.10192853, step = 600 (156.757 sec)\n"
          ],
          "name": "stderr"
        },
        {
          "output_type": "stream",
          "text": [
            "INFO:tensorflow:global_step/sec: 0.637391\n"
          ],
          "name": "stdout"
        },
        {
          "output_type": "stream",
          "text": [
            "INFO:tensorflow:global_step/sec: 0.637391\n"
          ],
          "name": "stderr"
        },
        {
          "output_type": "stream",
          "text": [
            "INFO:tensorflow:loss = 0.0025460024, step = 700 (156.888 sec)\n"
          ],
          "name": "stdout"
        },
        {
          "output_type": "stream",
          "text": [
            "INFO:tensorflow:loss = 0.0025460024, step = 700 (156.888 sec)\n"
          ],
          "name": "stderr"
        },
        {
          "output_type": "stream",
          "text": [
            "INFO:tensorflow:global_step/sec: 0.636924\n"
          ],
          "name": "stdout"
        },
        {
          "output_type": "stream",
          "text": [
            "INFO:tensorflow:global_step/sec: 0.636924\n"
          ],
          "name": "stderr"
        },
        {
          "output_type": "stream",
          "text": [
            "INFO:tensorflow:loss = 0.003170658, step = 800 (157.008 sec)\n"
          ],
          "name": "stdout"
        },
        {
          "output_type": "stream",
          "text": [
            "INFO:tensorflow:loss = 0.003170658, step = 800 (157.008 sec)\n"
          ],
          "name": "stderr"
        },
        {
          "output_type": "stream",
          "text": [
            "INFO:tensorflow:global_step/sec: 0.637432\n"
          ],
          "name": "stdout"
        },
        {
          "output_type": "stream",
          "text": [
            "INFO:tensorflow:global_step/sec: 0.637432\n"
          ],
          "name": "stderr"
        },
        {
          "output_type": "stream",
          "text": [
            "INFO:tensorflow:loss = 0.0009454269, step = 900 (156.877 sec)\n"
          ],
          "name": "stdout"
        },
        {
          "output_type": "stream",
          "text": [
            "INFO:tensorflow:loss = 0.0009454269, step = 900 (156.877 sec)\n"
          ],
          "name": "stderr"
        },
        {
          "output_type": "stream",
          "text": [
            "INFO:tensorflow:Saving checkpoints for 1000 into model_out/model.ckpt.\n"
          ],
          "name": "stdout"
        },
        {
          "output_type": "stream",
          "text": [
            "INFO:tensorflow:Saving checkpoints for 1000 into model_out/model.ckpt.\n"
          ],
          "name": "stderr"
        },
        {
          "output_type": "stream",
          "text": [
            "INFO:tensorflow:global_step/sec: 0.612387\n"
          ],
          "name": "stdout"
        },
        {
          "output_type": "stream",
          "text": [
            "INFO:tensorflow:global_step/sec: 0.612387\n"
          ],
          "name": "stderr"
        },
        {
          "output_type": "stream",
          "text": [
            "INFO:tensorflow:loss = 0.0012544701, step = 1000 (163.296 sec)\n"
          ],
          "name": "stdout"
        },
        {
          "output_type": "stream",
          "text": [
            "INFO:tensorflow:loss = 0.0012544701, step = 1000 (163.296 sec)\n"
          ],
          "name": "stderr"
        },
        {
          "output_type": "stream",
          "text": [
            "INFO:tensorflow:global_step/sec: 0.637132\n"
          ],
          "name": "stdout"
        },
        {
          "output_type": "stream",
          "text": [
            "INFO:tensorflow:global_step/sec: 0.637132\n"
          ],
          "name": "stderr"
        },
        {
          "output_type": "stream",
          "text": [
            "INFO:tensorflow:loss = 0.0016784784, step = 1100 (156.950 sec)\n"
          ],
          "name": "stdout"
        },
        {
          "output_type": "stream",
          "text": [
            "INFO:tensorflow:loss = 0.0016784784, step = 1100 (156.950 sec)\n"
          ],
          "name": "stderr"
        },
        {
          "output_type": "stream",
          "text": [
            "INFO:tensorflow:global_step/sec: 0.637189\n"
          ],
          "name": "stdout"
        },
        {
          "output_type": "stream",
          "text": [
            "INFO:tensorflow:global_step/sec: 0.637189\n"
          ],
          "name": "stderr"
        },
        {
          "output_type": "stream",
          "text": [
            "INFO:tensorflow:loss = 0.0037997954, step = 1200 (156.940 sec)\n"
          ],
          "name": "stdout"
        },
        {
          "output_type": "stream",
          "text": [
            "INFO:tensorflow:loss = 0.0037997954, step = 1200 (156.940 sec)\n"
          ],
          "name": "stderr"
        },
        {
          "output_type": "stream",
          "text": [
            "INFO:tensorflow:global_step/sec: 0.635928\n"
          ],
          "name": "stdout"
        },
        {
          "output_type": "stream",
          "text": [
            "INFO:tensorflow:global_step/sec: 0.635928\n"
          ],
          "name": "stderr"
        },
        {
          "output_type": "stream",
          "text": [
            "INFO:tensorflow:loss = 0.0008303161, step = 1300 (157.251 sec)\n"
          ],
          "name": "stdout"
        },
        {
          "output_type": "stream",
          "text": [
            "INFO:tensorflow:loss = 0.0008303161, step = 1300 (157.251 sec)\n"
          ],
          "name": "stderr"
        },
        {
          "output_type": "stream",
          "text": [
            "INFO:tensorflow:global_step/sec: 0.635758\n"
          ],
          "name": "stdout"
        },
        {
          "output_type": "stream",
          "text": [
            "INFO:tensorflow:global_step/sec: 0.635758\n"
          ],
          "name": "stderr"
        },
        {
          "output_type": "stream",
          "text": [
            "INFO:tensorflow:loss = 0.00065538415, step = 1400 (157.294 sec)\n"
          ],
          "name": "stdout"
        },
        {
          "output_type": "stream",
          "text": [
            "INFO:tensorflow:loss = 0.00065538415, step = 1400 (157.294 sec)\n"
          ],
          "name": "stderr"
        },
        {
          "output_type": "stream",
          "text": [
            "INFO:tensorflow:Saving checkpoints for 1500 into model_out/model.ckpt.\n"
          ],
          "name": "stdout"
        },
        {
          "output_type": "stream",
          "text": [
            "INFO:tensorflow:Saving checkpoints for 1500 into model_out/model.ckpt.\n"
          ],
          "name": "stderr"
        },
        {
          "output_type": "stream",
          "text": [
            "INFO:tensorflow:global_step/sec: 0.612207\n"
          ],
          "name": "stdout"
        },
        {
          "output_type": "stream",
          "text": [
            "INFO:tensorflow:global_step/sec: 0.612207\n"
          ],
          "name": "stderr"
        },
        {
          "output_type": "stream",
          "text": [
            "INFO:tensorflow:loss = 0.0005790754, step = 1500 (163.343 sec)\n"
          ],
          "name": "stdout"
        },
        {
          "output_type": "stream",
          "text": [
            "INFO:tensorflow:loss = 0.0005790754, step = 1500 (163.343 sec)\n"
          ],
          "name": "stderr"
        },
        {
          "output_type": "stream",
          "text": [
            "INFO:tensorflow:global_step/sec: 0.640425\n"
          ],
          "name": "stdout"
        },
        {
          "output_type": "stream",
          "text": [
            "INFO:tensorflow:global_step/sec: 0.640425\n"
          ],
          "name": "stderr"
        },
        {
          "output_type": "stream",
          "text": [
            "INFO:tensorflow:loss = 0.00070162996, step = 1600 (156.150 sec)\n"
          ],
          "name": "stdout"
        },
        {
          "output_type": "stream",
          "text": [
            "INFO:tensorflow:loss = 0.00070162996, step = 1600 (156.150 sec)\n"
          ],
          "name": "stderr"
        },
        {
          "output_type": "stream",
          "text": [
            "INFO:tensorflow:Saving checkpoints for 1662 into model_out/model.ckpt.\n"
          ],
          "name": "stdout"
        },
        {
          "output_type": "stream",
          "text": [
            "INFO:tensorflow:Saving checkpoints for 1662 into model_out/model.ckpt.\n"
          ],
          "name": "stderr"
        },
        {
          "output_type": "stream",
          "text": [
            "INFO:tensorflow:Loss for final step: 0.00066287076.\n"
          ],
          "name": "stdout"
        },
        {
          "output_type": "stream",
          "text": [
            "INFO:tensorflow:Loss for final step: 0.00066287076.\n"
          ],
          "name": "stderr"
        },
        {
          "output_type": "stream",
          "text": [
            "Training took time  0:45:17.593130\n"
          ],
          "name": "stdout"
        }
      ]
    },
    {
      "cell_type": "code",
      "metadata": {
        "id": "iD8lhRmLNMdP",
        "colab_type": "code",
        "colab": {
          "base_uri": "https://localhost:8080/",
          "height": 650
        },
        "outputId": "7dc334bc-65b9-43ad-8db3-9d365c497528"
      },
      "source": [
        "#estimator.evaluate(input_fn=train_input_fn, steps=1000)"
      ],
      "execution_count": 137,
      "outputs": [
        {
          "output_type": "stream",
          "text": [
            "INFO:tensorflow:Calling model_fn.\n"
          ],
          "name": "stdout"
        },
        {
          "output_type": "stream",
          "text": [
            "INFO:tensorflow:Calling model_fn.\n"
          ],
          "name": "stderr"
        },
        {
          "output_type": "stream",
          "text": [
            "INFO:tensorflow:Saver not created because there are no variables in the graph to restore\n"
          ],
          "name": "stdout"
        },
        {
          "output_type": "stream",
          "text": [
            "INFO:tensorflow:Saver not created because there are no variables in the graph to restore\n"
          ],
          "name": "stderr"
        },
        {
          "output_type": "stream",
          "text": [
            "INFO:tensorflow:Done calling model_fn.\n"
          ],
          "name": "stdout"
        },
        {
          "output_type": "stream",
          "text": [
            "INFO:tensorflow:Done calling model_fn.\n"
          ],
          "name": "stderr"
        },
        {
          "output_type": "stream",
          "text": [
            "INFO:tensorflow:Starting evaluation at 2020-06-08T09:25:08Z\n"
          ],
          "name": "stdout"
        },
        {
          "output_type": "stream",
          "text": [
            "INFO:tensorflow:Starting evaluation at 2020-06-08T09:25:08Z\n"
          ],
          "name": "stderr"
        },
        {
          "output_type": "stream",
          "text": [
            "INFO:tensorflow:Graph was finalized.\n"
          ],
          "name": "stdout"
        },
        {
          "output_type": "stream",
          "text": [
            "INFO:tensorflow:Graph was finalized.\n"
          ],
          "name": "stderr"
        },
        {
          "output_type": "stream",
          "text": [
            "INFO:tensorflow:Restoring parameters from model_out/model.ckpt-1662\n"
          ],
          "name": "stdout"
        },
        {
          "output_type": "stream",
          "text": [
            "INFO:tensorflow:Restoring parameters from model_out/model.ckpt-1662\n"
          ],
          "name": "stderr"
        },
        {
          "output_type": "stream",
          "text": [
            "INFO:tensorflow:Running local_init_op.\n"
          ],
          "name": "stdout"
        },
        {
          "output_type": "stream",
          "text": [
            "INFO:tensorflow:Running local_init_op.\n"
          ],
          "name": "stderr"
        },
        {
          "output_type": "stream",
          "text": [
            "INFO:tensorflow:Done running local_init_op.\n"
          ],
          "name": "stdout"
        },
        {
          "output_type": "stream",
          "text": [
            "INFO:tensorflow:Done running local_init_op.\n"
          ],
          "name": "stderr"
        },
        {
          "output_type": "error",
          "ename": "KeyboardInterrupt",
          "evalue": "ignored",
          "traceback": [
            "\u001b[0;31m---------------------------------------------------------------------------\u001b[0m",
            "\u001b[0;31mKeyboardInterrupt\u001b[0m                         Traceback (most recent call last)",
            "\u001b[0;32m<ipython-input-137-ccb845816281>\u001b[0m in \u001b[0;36m<module>\u001b[0;34m()\u001b[0m\n\u001b[0;32m----> 1\u001b[0;31m \u001b[0mestimator\u001b[0m\u001b[0;34m.\u001b[0m\u001b[0mevaluate\u001b[0m\u001b[0;34m(\u001b[0m\u001b[0minput_fn\u001b[0m\u001b[0;34m=\u001b[0m\u001b[0mtrain_input_fn\u001b[0m\u001b[0;34m,\u001b[0m \u001b[0msteps\u001b[0m\u001b[0;34m=\u001b[0m\u001b[0;32mNone\u001b[0m\u001b[0;34m)\u001b[0m\u001b[0;34m\u001b[0m\u001b[0;34m\u001b[0m\u001b[0m\n\u001b[0m",
            "\u001b[0;32m/tensorflow-1.15.2/python3.6/tensorflow_estimator/python/estimator/estimator.py\u001b[0m in \u001b[0;36mevaluate\u001b[0;34m(self, input_fn, steps, hooks, checkpoint_path, name)\u001b[0m\n\u001b[1;32m    478\u001b[0m           \u001b[0mhooks\u001b[0m\u001b[0;34m=\u001b[0m\u001b[0mhooks\u001b[0m\u001b[0;34m,\u001b[0m\u001b[0;34m\u001b[0m\u001b[0;34m\u001b[0m\u001b[0m\n\u001b[1;32m    479\u001b[0m           \u001b[0mcheckpoint_path\u001b[0m\u001b[0;34m=\u001b[0m\u001b[0mcheckpoint_path\u001b[0m\u001b[0;34m,\u001b[0m\u001b[0;34m\u001b[0m\u001b[0;34m\u001b[0m\u001b[0m\n\u001b[0;32m--> 480\u001b[0;31m           name=name)\n\u001b[0m\u001b[1;32m    481\u001b[0m \u001b[0;34m\u001b[0m\u001b[0m\n\u001b[1;32m    482\u001b[0m   def _actual_eval(self,\n",
            "\u001b[0;32m/tensorflow-1.15.2/python3.6/tensorflow_estimator/python/estimator/estimator.py\u001b[0m in \u001b[0;36m_actual_eval\u001b[0;34m(self, input_fn, strategy, steps, hooks, checkpoint_path, name)\u001b[0m\n\u001b[1;32m    520\u001b[0m             \u001b[0;32mreturn\u001b[0m \u001b[0m_evaluate\u001b[0m\u001b[0;34m(\u001b[0m\u001b[0;34m)\u001b[0m\u001b[0;34m\u001b[0m\u001b[0;34m\u001b[0m\u001b[0m\n\u001b[1;32m    521\u001b[0m         \u001b[0;32melse\u001b[0m\u001b[0;34m:\u001b[0m\u001b[0;34m\u001b[0m\u001b[0;34m\u001b[0m\u001b[0m\n\u001b[0;32m--> 522\u001b[0;31m           \u001b[0;32mreturn\u001b[0m \u001b[0m_evaluate\u001b[0m\u001b[0;34m(\u001b[0m\u001b[0;34m)\u001b[0m\u001b[0;34m\u001b[0m\u001b[0;34m\u001b[0m\u001b[0m\n\u001b[0m\u001b[1;32m    523\u001b[0m \u001b[0;34m\u001b[0m\u001b[0m\n\u001b[1;32m    524\u001b[0m   \u001b[0;32mdef\u001b[0m \u001b[0m_convert_eval_steps_to_hooks\u001b[0m\u001b[0;34m(\u001b[0m\u001b[0mself\u001b[0m\u001b[0;34m,\u001b[0m \u001b[0msteps\u001b[0m\u001b[0;34m)\u001b[0m\u001b[0;34m:\u001b[0m\u001b[0;34m\u001b[0m\u001b[0;34m\u001b[0m\u001b[0m\n",
            "\u001b[0;32m/tensorflow-1.15.2/python3.6/tensorflow_estimator/python/estimator/estimator.py\u001b[0m in \u001b[0;36m_evaluate\u001b[0;34m()\u001b[0m\n\u001b[1;32m    509\u001b[0m             \u001b[0meval_dict\u001b[0m\u001b[0;34m=\u001b[0m\u001b[0meval_dict\u001b[0m\u001b[0;34m,\u001b[0m\u001b[0;34m\u001b[0m\u001b[0;34m\u001b[0m\u001b[0m\n\u001b[1;32m    510\u001b[0m             \u001b[0mall_hooks\u001b[0m\u001b[0;34m=\u001b[0m\u001b[0mall_hooks\u001b[0m\u001b[0;34m,\u001b[0m\u001b[0;34m\u001b[0m\u001b[0;34m\u001b[0m\u001b[0m\n\u001b[0;32m--> 511\u001b[0;31m             output_dir=self.eval_dir(name))\n\u001b[0m\u001b[1;32m    512\u001b[0m \u001b[0;34m\u001b[0m\u001b[0m\n\u001b[1;32m    513\u001b[0m       \u001b[0;32mwith\u001b[0m \u001b[0mops\u001b[0m\u001b[0;34m.\u001b[0m\u001b[0mGraph\u001b[0m\u001b[0;34m(\u001b[0m\u001b[0;34m)\u001b[0m\u001b[0;34m.\u001b[0m\u001b[0mas_default\u001b[0m\u001b[0;34m(\u001b[0m\u001b[0;34m)\u001b[0m\u001b[0;34m:\u001b[0m\u001b[0;34m\u001b[0m\u001b[0;34m\u001b[0m\u001b[0m\n",
            "\u001b[0;32m/tensorflow-1.15.2/python3.6/tensorflow_estimator/python/estimator/estimator.py\u001b[0m in \u001b[0;36m_evaluate_run\u001b[0;34m(self, checkpoint_path, scaffold, update_op, eval_dict, all_hooks, output_dir)\u001b[0m\n\u001b[1;32m   1617\u001b[0m         \u001b[0mfinal_ops\u001b[0m\u001b[0;34m=\u001b[0m\u001b[0meval_dict\u001b[0m\u001b[0;34m,\u001b[0m\u001b[0;34m\u001b[0m\u001b[0;34m\u001b[0m\u001b[0m\n\u001b[1;32m   1618\u001b[0m         \u001b[0mhooks\u001b[0m\u001b[0;34m=\u001b[0m\u001b[0mall_hooks\u001b[0m\u001b[0;34m,\u001b[0m\u001b[0;34m\u001b[0m\u001b[0;34m\u001b[0m\u001b[0m\n\u001b[0;32m-> 1619\u001b[0;31m         config=self._session_config)\n\u001b[0m\u001b[1;32m   1620\u001b[0m \u001b[0;34m\u001b[0m\u001b[0m\n\u001b[1;32m   1621\u001b[0m     \u001b[0mcurrent_global_step\u001b[0m \u001b[0;34m=\u001b[0m \u001b[0meval_results\u001b[0m\u001b[0;34m[\u001b[0m\u001b[0mops\u001b[0m\u001b[0;34m.\u001b[0m\u001b[0mGraphKeys\u001b[0m\u001b[0;34m.\u001b[0m\u001b[0mGLOBAL_STEP\u001b[0m\u001b[0;34m]\u001b[0m\u001b[0;34m\u001b[0m\u001b[0;34m\u001b[0m\u001b[0m\n",
            "\u001b[0;32m/tensorflow-1.15.2/python3.6/tensorflow_core/python/training/evaluation.py\u001b[0m in \u001b[0;36m_evaluate_once\u001b[0;34m(checkpoint_path, master, scaffold, eval_ops, feed_dict, final_ops, final_ops_feed_dict, hooks, config)\u001b[0m\n\u001b[1;32m    270\u001b[0m     \u001b[0;32mif\u001b[0m \u001b[0meval_ops\u001b[0m \u001b[0;32mis\u001b[0m \u001b[0;32mnot\u001b[0m \u001b[0;32mNone\u001b[0m\u001b[0;34m:\u001b[0m\u001b[0;34m\u001b[0m\u001b[0;34m\u001b[0m\u001b[0m\n\u001b[1;32m    271\u001b[0m       \u001b[0;32mwhile\u001b[0m \u001b[0;32mnot\u001b[0m \u001b[0msession\u001b[0m\u001b[0;34m.\u001b[0m\u001b[0mshould_stop\u001b[0m\u001b[0;34m(\u001b[0m\u001b[0;34m)\u001b[0m\u001b[0;34m:\u001b[0m\u001b[0;34m\u001b[0m\u001b[0;34m\u001b[0m\u001b[0m\n\u001b[0;32m--> 272\u001b[0;31m         \u001b[0msession\u001b[0m\u001b[0;34m.\u001b[0m\u001b[0mrun\u001b[0m\u001b[0;34m(\u001b[0m\u001b[0meval_ops\u001b[0m\u001b[0;34m,\u001b[0m \u001b[0mfeed_dict\u001b[0m\u001b[0;34m)\u001b[0m\u001b[0;34m\u001b[0m\u001b[0;34m\u001b[0m\u001b[0m\n\u001b[0m\u001b[1;32m    273\u001b[0m \u001b[0;34m\u001b[0m\u001b[0m\n\u001b[1;32m    274\u001b[0m   logging.info('Finished evaluation at ' +\n",
            "\u001b[0;32m/tensorflow-1.15.2/python3.6/tensorflow_core/python/training/monitored_session.py\u001b[0m in \u001b[0;36mrun\u001b[0;34m(self, fetches, feed_dict, options, run_metadata)\u001b[0m\n\u001b[1;32m    752\u001b[0m         \u001b[0mfeed_dict\u001b[0m\u001b[0;34m=\u001b[0m\u001b[0mfeed_dict\u001b[0m\u001b[0;34m,\u001b[0m\u001b[0;34m\u001b[0m\u001b[0;34m\u001b[0m\u001b[0m\n\u001b[1;32m    753\u001b[0m         \u001b[0moptions\u001b[0m\u001b[0;34m=\u001b[0m\u001b[0moptions\u001b[0m\u001b[0;34m,\u001b[0m\u001b[0;34m\u001b[0m\u001b[0;34m\u001b[0m\u001b[0m\n\u001b[0;32m--> 754\u001b[0;31m         run_metadata=run_metadata)\n\u001b[0m\u001b[1;32m    755\u001b[0m \u001b[0;34m\u001b[0m\u001b[0m\n\u001b[1;32m    756\u001b[0m   \u001b[0;32mdef\u001b[0m \u001b[0mrun_step_fn\u001b[0m\u001b[0;34m(\u001b[0m\u001b[0mself\u001b[0m\u001b[0;34m,\u001b[0m \u001b[0mstep_fn\u001b[0m\u001b[0;34m)\u001b[0m\u001b[0;34m:\u001b[0m\u001b[0;34m\u001b[0m\u001b[0;34m\u001b[0m\u001b[0m\n",
            "\u001b[0;32m/tensorflow-1.15.2/python3.6/tensorflow_core/python/training/monitored_session.py\u001b[0m in \u001b[0;36mrun\u001b[0;34m(self, fetches, feed_dict, options, run_metadata)\u001b[0m\n\u001b[1;32m   1257\u001b[0m             \u001b[0mfeed_dict\u001b[0m\u001b[0;34m=\u001b[0m\u001b[0mfeed_dict\u001b[0m\u001b[0;34m,\u001b[0m\u001b[0;34m\u001b[0m\u001b[0;34m\u001b[0m\u001b[0m\n\u001b[1;32m   1258\u001b[0m             \u001b[0moptions\u001b[0m\u001b[0;34m=\u001b[0m\u001b[0moptions\u001b[0m\u001b[0;34m,\u001b[0m\u001b[0;34m\u001b[0m\u001b[0;34m\u001b[0m\u001b[0m\n\u001b[0;32m-> 1259\u001b[0;31m             run_metadata=run_metadata)\n\u001b[0m\u001b[1;32m   1260\u001b[0m       \u001b[0;32mexcept\u001b[0m \u001b[0m_PREEMPTION_ERRORS\u001b[0m \u001b[0;32mas\u001b[0m \u001b[0me\u001b[0m\u001b[0;34m:\u001b[0m\u001b[0;34m\u001b[0m\u001b[0;34m\u001b[0m\u001b[0m\n\u001b[1;32m   1261\u001b[0m         logging.info(\n",
            "\u001b[0;32m/tensorflow-1.15.2/python3.6/tensorflow_core/python/training/monitored_session.py\u001b[0m in \u001b[0;36mrun\u001b[0;34m(self, *args, **kwargs)\u001b[0m\n\u001b[1;32m   1343\u001b[0m   \u001b[0;32mdef\u001b[0m \u001b[0mrun\u001b[0m\u001b[0;34m(\u001b[0m\u001b[0mself\u001b[0m\u001b[0;34m,\u001b[0m \u001b[0;34m*\u001b[0m\u001b[0margs\u001b[0m\u001b[0;34m,\u001b[0m \u001b[0;34m**\u001b[0m\u001b[0mkwargs\u001b[0m\u001b[0;34m)\u001b[0m\u001b[0;34m:\u001b[0m\u001b[0;34m\u001b[0m\u001b[0;34m\u001b[0m\u001b[0m\n\u001b[1;32m   1344\u001b[0m     \u001b[0;32mtry\u001b[0m\u001b[0;34m:\u001b[0m\u001b[0;34m\u001b[0m\u001b[0;34m\u001b[0m\u001b[0m\n\u001b[0;32m-> 1345\u001b[0;31m       \u001b[0;32mreturn\u001b[0m \u001b[0mself\u001b[0m\u001b[0;34m.\u001b[0m\u001b[0m_sess\u001b[0m\u001b[0;34m.\u001b[0m\u001b[0mrun\u001b[0m\u001b[0;34m(\u001b[0m\u001b[0;34m*\u001b[0m\u001b[0margs\u001b[0m\u001b[0;34m,\u001b[0m \u001b[0;34m**\u001b[0m\u001b[0mkwargs\u001b[0m\u001b[0;34m)\u001b[0m\u001b[0;34m\u001b[0m\u001b[0;34m\u001b[0m\u001b[0m\n\u001b[0m\u001b[1;32m   1346\u001b[0m     \u001b[0;32mexcept\u001b[0m \u001b[0m_PREEMPTION_ERRORS\u001b[0m\u001b[0;34m:\u001b[0m\u001b[0;34m\u001b[0m\u001b[0;34m\u001b[0m\u001b[0m\n\u001b[1;32m   1347\u001b[0m       \u001b[0;32mraise\u001b[0m\u001b[0;34m\u001b[0m\u001b[0;34m\u001b[0m\u001b[0m\n",
            "\u001b[0;32m/tensorflow-1.15.2/python3.6/tensorflow_core/python/training/monitored_session.py\u001b[0m in \u001b[0;36mrun\u001b[0;34m(self, fetches, feed_dict, options, run_metadata)\u001b[0m\n\u001b[1;32m   1416\u001b[0m         \u001b[0mfeed_dict\u001b[0m\u001b[0;34m=\u001b[0m\u001b[0mfeed_dict\u001b[0m\u001b[0;34m,\u001b[0m\u001b[0;34m\u001b[0m\u001b[0;34m\u001b[0m\u001b[0m\n\u001b[1;32m   1417\u001b[0m         \u001b[0moptions\u001b[0m\u001b[0;34m=\u001b[0m\u001b[0moptions\u001b[0m\u001b[0;34m,\u001b[0m\u001b[0;34m\u001b[0m\u001b[0;34m\u001b[0m\u001b[0m\n\u001b[0;32m-> 1418\u001b[0;31m         run_metadata=run_metadata)\n\u001b[0m\u001b[1;32m   1419\u001b[0m \u001b[0;34m\u001b[0m\u001b[0m\n\u001b[1;32m   1420\u001b[0m     \u001b[0;32mfor\u001b[0m \u001b[0mhook\u001b[0m \u001b[0;32min\u001b[0m \u001b[0mself\u001b[0m\u001b[0;34m.\u001b[0m\u001b[0m_hooks\u001b[0m\u001b[0;34m:\u001b[0m\u001b[0;34m\u001b[0m\u001b[0;34m\u001b[0m\u001b[0m\n",
            "\u001b[0;32m/tensorflow-1.15.2/python3.6/tensorflow_core/python/training/monitored_session.py\u001b[0m in \u001b[0;36mrun\u001b[0;34m(self, *args, **kwargs)\u001b[0m\n\u001b[1;32m   1174\u001b[0m \u001b[0;34m\u001b[0m\u001b[0m\n\u001b[1;32m   1175\u001b[0m   \u001b[0;32mdef\u001b[0m \u001b[0mrun\u001b[0m\u001b[0;34m(\u001b[0m\u001b[0mself\u001b[0m\u001b[0;34m,\u001b[0m \u001b[0;34m*\u001b[0m\u001b[0margs\u001b[0m\u001b[0;34m,\u001b[0m \u001b[0;34m**\u001b[0m\u001b[0mkwargs\u001b[0m\u001b[0;34m)\u001b[0m\u001b[0;34m:\u001b[0m\u001b[0;34m\u001b[0m\u001b[0;34m\u001b[0m\u001b[0m\n\u001b[0;32m-> 1176\u001b[0;31m     \u001b[0;32mreturn\u001b[0m \u001b[0mself\u001b[0m\u001b[0;34m.\u001b[0m\u001b[0m_sess\u001b[0m\u001b[0;34m.\u001b[0m\u001b[0mrun\u001b[0m\u001b[0;34m(\u001b[0m\u001b[0;34m*\u001b[0m\u001b[0margs\u001b[0m\u001b[0;34m,\u001b[0m \u001b[0;34m**\u001b[0m\u001b[0mkwargs\u001b[0m\u001b[0;34m)\u001b[0m\u001b[0;34m\u001b[0m\u001b[0;34m\u001b[0m\u001b[0m\n\u001b[0m\u001b[1;32m   1177\u001b[0m \u001b[0;34m\u001b[0m\u001b[0m\n\u001b[1;32m   1178\u001b[0m   \u001b[0;32mdef\u001b[0m \u001b[0mrun_step_fn\u001b[0m\u001b[0;34m(\u001b[0m\u001b[0mself\u001b[0m\u001b[0;34m,\u001b[0m \u001b[0mstep_fn\u001b[0m\u001b[0;34m,\u001b[0m \u001b[0mraw_session\u001b[0m\u001b[0;34m,\u001b[0m \u001b[0mrun_with_hooks\u001b[0m\u001b[0;34m)\u001b[0m\u001b[0;34m:\u001b[0m\u001b[0;34m\u001b[0m\u001b[0;34m\u001b[0m\u001b[0m\n",
            "\u001b[0;32m/tensorflow-1.15.2/python3.6/tensorflow_core/python/client/session.py\u001b[0m in \u001b[0;36mrun\u001b[0;34m(self, fetches, feed_dict, options, run_metadata)\u001b[0m\n\u001b[1;32m    954\u001b[0m     \u001b[0;32mtry\u001b[0m\u001b[0;34m:\u001b[0m\u001b[0;34m\u001b[0m\u001b[0;34m\u001b[0m\u001b[0m\n\u001b[1;32m    955\u001b[0m       result = self._run(None, fetches, feed_dict, options_ptr,\n\u001b[0;32m--> 956\u001b[0;31m                          run_metadata_ptr)\n\u001b[0m\u001b[1;32m    957\u001b[0m       \u001b[0;32mif\u001b[0m \u001b[0mrun_metadata\u001b[0m\u001b[0;34m:\u001b[0m\u001b[0;34m\u001b[0m\u001b[0;34m\u001b[0m\u001b[0m\n\u001b[1;32m    958\u001b[0m         \u001b[0mproto_data\u001b[0m \u001b[0;34m=\u001b[0m \u001b[0mtf_session\u001b[0m\u001b[0;34m.\u001b[0m\u001b[0mTF_GetBuffer\u001b[0m\u001b[0;34m(\u001b[0m\u001b[0mrun_metadata_ptr\u001b[0m\u001b[0;34m)\u001b[0m\u001b[0;34m\u001b[0m\u001b[0;34m\u001b[0m\u001b[0m\n",
            "\u001b[0;32m/tensorflow-1.15.2/python3.6/tensorflow_core/python/client/session.py\u001b[0m in \u001b[0;36m_run\u001b[0;34m(self, handle, fetches, feed_dict, options, run_metadata)\u001b[0m\n\u001b[1;32m   1178\u001b[0m     \u001b[0;32mif\u001b[0m \u001b[0mfinal_fetches\u001b[0m \u001b[0;32mor\u001b[0m \u001b[0mfinal_targets\u001b[0m \u001b[0;32mor\u001b[0m \u001b[0;34m(\u001b[0m\u001b[0mhandle\u001b[0m \u001b[0;32mand\u001b[0m \u001b[0mfeed_dict_tensor\u001b[0m\u001b[0;34m)\u001b[0m\u001b[0;34m:\u001b[0m\u001b[0;34m\u001b[0m\u001b[0;34m\u001b[0m\u001b[0m\n\u001b[1;32m   1179\u001b[0m       results = self._do_run(handle, final_targets, final_fetches,\n\u001b[0;32m-> 1180\u001b[0;31m                              feed_dict_tensor, options, run_metadata)\n\u001b[0m\u001b[1;32m   1181\u001b[0m     \u001b[0;32melse\u001b[0m\u001b[0;34m:\u001b[0m\u001b[0;34m\u001b[0m\u001b[0;34m\u001b[0m\u001b[0m\n\u001b[1;32m   1182\u001b[0m       \u001b[0mresults\u001b[0m \u001b[0;34m=\u001b[0m \u001b[0;34m[\u001b[0m\u001b[0;34m]\u001b[0m\u001b[0;34m\u001b[0m\u001b[0;34m\u001b[0m\u001b[0m\n",
            "\u001b[0;32m/tensorflow-1.15.2/python3.6/tensorflow_core/python/client/session.py\u001b[0m in \u001b[0;36m_do_run\u001b[0;34m(self, handle, target_list, fetch_list, feed_dict, options, run_metadata)\u001b[0m\n\u001b[1;32m   1357\u001b[0m     \u001b[0;32mif\u001b[0m \u001b[0mhandle\u001b[0m \u001b[0;32mis\u001b[0m \u001b[0;32mNone\u001b[0m\u001b[0;34m:\u001b[0m\u001b[0;34m\u001b[0m\u001b[0;34m\u001b[0m\u001b[0m\n\u001b[1;32m   1358\u001b[0m       return self._do_call(_run_fn, feeds, fetches, targets, options,\n\u001b[0;32m-> 1359\u001b[0;31m                            run_metadata)\n\u001b[0m\u001b[1;32m   1360\u001b[0m     \u001b[0;32melse\u001b[0m\u001b[0;34m:\u001b[0m\u001b[0;34m\u001b[0m\u001b[0;34m\u001b[0m\u001b[0m\n\u001b[1;32m   1361\u001b[0m       \u001b[0;32mreturn\u001b[0m \u001b[0mself\u001b[0m\u001b[0;34m.\u001b[0m\u001b[0m_do_call\u001b[0m\u001b[0;34m(\u001b[0m\u001b[0m_prun_fn\u001b[0m\u001b[0;34m,\u001b[0m \u001b[0mhandle\u001b[0m\u001b[0;34m,\u001b[0m \u001b[0mfeeds\u001b[0m\u001b[0;34m,\u001b[0m \u001b[0mfetches\u001b[0m\u001b[0;34m)\u001b[0m\u001b[0;34m\u001b[0m\u001b[0;34m\u001b[0m\u001b[0m\n",
            "\u001b[0;32m/tensorflow-1.15.2/python3.6/tensorflow_core/python/client/session.py\u001b[0m in \u001b[0;36m_do_call\u001b[0;34m(self, fn, *args)\u001b[0m\n\u001b[1;32m   1363\u001b[0m   \u001b[0;32mdef\u001b[0m \u001b[0m_do_call\u001b[0m\u001b[0;34m(\u001b[0m\u001b[0mself\u001b[0m\u001b[0;34m,\u001b[0m \u001b[0mfn\u001b[0m\u001b[0;34m,\u001b[0m \u001b[0;34m*\u001b[0m\u001b[0margs\u001b[0m\u001b[0;34m)\u001b[0m\u001b[0;34m:\u001b[0m\u001b[0;34m\u001b[0m\u001b[0;34m\u001b[0m\u001b[0m\n\u001b[1;32m   1364\u001b[0m     \u001b[0;32mtry\u001b[0m\u001b[0;34m:\u001b[0m\u001b[0;34m\u001b[0m\u001b[0;34m\u001b[0m\u001b[0m\n\u001b[0;32m-> 1365\u001b[0;31m       \u001b[0;32mreturn\u001b[0m \u001b[0mfn\u001b[0m\u001b[0;34m(\u001b[0m\u001b[0;34m*\u001b[0m\u001b[0margs\u001b[0m\u001b[0;34m)\u001b[0m\u001b[0;34m\u001b[0m\u001b[0;34m\u001b[0m\u001b[0m\n\u001b[0m\u001b[1;32m   1366\u001b[0m     \u001b[0;32mexcept\u001b[0m \u001b[0merrors\u001b[0m\u001b[0;34m.\u001b[0m\u001b[0mOpError\u001b[0m \u001b[0;32mas\u001b[0m \u001b[0me\u001b[0m\u001b[0;34m:\u001b[0m\u001b[0;34m\u001b[0m\u001b[0;34m\u001b[0m\u001b[0m\n\u001b[1;32m   1367\u001b[0m       \u001b[0mmessage\u001b[0m \u001b[0;34m=\u001b[0m \u001b[0mcompat\u001b[0m\u001b[0;34m.\u001b[0m\u001b[0mas_text\u001b[0m\u001b[0;34m(\u001b[0m\u001b[0me\u001b[0m\u001b[0;34m.\u001b[0m\u001b[0mmessage\u001b[0m\u001b[0;34m)\u001b[0m\u001b[0;34m\u001b[0m\u001b[0;34m\u001b[0m\u001b[0m\n",
            "\u001b[0;32m/tensorflow-1.15.2/python3.6/tensorflow_core/python/client/session.py\u001b[0m in \u001b[0;36m_run_fn\u001b[0;34m(feed_dict, fetch_list, target_list, options, run_metadata)\u001b[0m\n\u001b[1;32m   1348\u001b[0m       \u001b[0mself\u001b[0m\u001b[0;34m.\u001b[0m\u001b[0m_extend_graph\u001b[0m\u001b[0;34m(\u001b[0m\u001b[0;34m)\u001b[0m\u001b[0;34m\u001b[0m\u001b[0;34m\u001b[0m\u001b[0m\n\u001b[1;32m   1349\u001b[0m       return self._call_tf_sessionrun(options, feed_dict, fetch_list,\n\u001b[0;32m-> 1350\u001b[0;31m                                       target_list, run_metadata)\n\u001b[0m\u001b[1;32m   1351\u001b[0m \u001b[0;34m\u001b[0m\u001b[0m\n\u001b[1;32m   1352\u001b[0m     \u001b[0;32mdef\u001b[0m \u001b[0m_prun_fn\u001b[0m\u001b[0;34m(\u001b[0m\u001b[0mhandle\u001b[0m\u001b[0;34m,\u001b[0m \u001b[0mfeed_dict\u001b[0m\u001b[0;34m,\u001b[0m \u001b[0mfetch_list\u001b[0m\u001b[0;34m)\u001b[0m\u001b[0;34m:\u001b[0m\u001b[0;34m\u001b[0m\u001b[0;34m\u001b[0m\u001b[0m\n",
            "\u001b[0;32m/tensorflow-1.15.2/python3.6/tensorflow_core/python/client/session.py\u001b[0m in \u001b[0;36m_call_tf_sessionrun\u001b[0;34m(self, options, feed_dict, fetch_list, target_list, run_metadata)\u001b[0m\n\u001b[1;32m   1441\u001b[0m     return tf_session.TF_SessionRun_wrapper(self._session, options, feed_dict,\n\u001b[1;32m   1442\u001b[0m                                             \u001b[0mfetch_list\u001b[0m\u001b[0;34m,\u001b[0m \u001b[0mtarget_list\u001b[0m\u001b[0;34m,\u001b[0m\u001b[0;34m\u001b[0m\u001b[0;34m\u001b[0m\u001b[0m\n\u001b[0;32m-> 1443\u001b[0;31m                                             run_metadata)\n\u001b[0m\u001b[1;32m   1444\u001b[0m \u001b[0;34m\u001b[0m\u001b[0m\n\u001b[1;32m   1445\u001b[0m   \u001b[0;32mdef\u001b[0m \u001b[0m_call_tf_sessionprun\u001b[0m\u001b[0;34m(\u001b[0m\u001b[0mself\u001b[0m\u001b[0;34m,\u001b[0m \u001b[0mhandle\u001b[0m\u001b[0;34m,\u001b[0m \u001b[0mfeed_dict\u001b[0m\u001b[0;34m,\u001b[0m \u001b[0mfetch_list\u001b[0m\u001b[0;34m)\u001b[0m\u001b[0;34m:\u001b[0m\u001b[0;34m\u001b[0m\u001b[0;34m\u001b[0m\u001b[0m\n",
            "\u001b[0;31mKeyboardInterrupt\u001b[0m: "
          ]
        }
      ]
    },
    {
      "cell_type": "code",
      "metadata": {
        "id": "KJwXT7GHokev",
        "colab_type": "code",
        "colab": {}
      },
      "source": [
        "dev_input_fn = run_classifier.input_fn_builder(\n",
        "    features=dev_features,\n",
        "    seq_length=MAX_SEQ_LENGTH,\n",
        "    is_training=False,\n",
        "    drop_remainder=False)"
      ],
      "execution_count": 0,
      "outputs": []
    },
    {
      "cell_type": "code",
      "metadata": {
        "id": "GO9TLFijoxfp",
        "colab_type": "code",
        "colab": {
          "base_uri": "https://localhost:8080/",
          "height": 655
        },
        "outputId": "1074834e-dd52-4215-f83a-a02f71974a5d"
      },
      "source": [
        "estimator.evaluate(input_fn=dev_input_fn, steps=None)"
      ],
      "execution_count": 108,
      "outputs": [
        {
          "output_type": "stream",
          "text": [
            "INFO:tensorflow:Calling model_fn.\n"
          ],
          "name": "stdout"
        },
        {
          "output_type": "stream",
          "text": [
            "INFO:tensorflow:Calling model_fn.\n"
          ],
          "name": "stderr"
        },
        {
          "output_type": "stream",
          "text": [
            "INFO:tensorflow:Saver not created because there are no variables in the graph to restore\n"
          ],
          "name": "stdout"
        },
        {
          "output_type": "stream",
          "text": [
            "INFO:tensorflow:Saver not created because there are no variables in the graph to restore\n"
          ],
          "name": "stderr"
        },
        {
          "output_type": "stream",
          "text": [
            "INFO:tensorflow:Done calling model_fn.\n"
          ],
          "name": "stdout"
        },
        {
          "output_type": "stream",
          "text": [
            "INFO:tensorflow:Done calling model_fn.\n"
          ],
          "name": "stderr"
        },
        {
          "output_type": "stream",
          "text": [
            "INFO:tensorflow:Starting evaluation at 2020-06-08T08:52:46Z\n"
          ],
          "name": "stdout"
        },
        {
          "output_type": "stream",
          "text": [
            "INFO:tensorflow:Starting evaluation at 2020-06-08T08:52:46Z\n"
          ],
          "name": "stderr"
        },
        {
          "output_type": "stream",
          "text": [
            "INFO:tensorflow:Graph was finalized.\n"
          ],
          "name": "stdout"
        },
        {
          "output_type": "stream",
          "text": [
            "INFO:tensorflow:Graph was finalized.\n"
          ],
          "name": "stderr"
        },
        {
          "output_type": "stream",
          "text": [
            "INFO:tensorflow:Restoring parameters from model_out/model.ckpt-1662\n"
          ],
          "name": "stdout"
        },
        {
          "output_type": "stream",
          "text": [
            "INFO:tensorflow:Restoring parameters from model_out/model.ckpt-1662\n"
          ],
          "name": "stderr"
        },
        {
          "output_type": "stream",
          "text": [
            "INFO:tensorflow:Running local_init_op.\n"
          ],
          "name": "stdout"
        },
        {
          "output_type": "stream",
          "text": [
            "INFO:tensorflow:Running local_init_op.\n"
          ],
          "name": "stderr"
        },
        {
          "output_type": "stream",
          "text": [
            "INFO:tensorflow:Done running local_init_op.\n"
          ],
          "name": "stdout"
        },
        {
          "output_type": "stream",
          "text": [
            "INFO:tensorflow:Done running local_init_op.\n"
          ],
          "name": "stderr"
        },
        {
          "output_type": "stream",
          "text": [
            "INFO:tensorflow:Finished evaluation at 2020-06-08-08:53:55\n"
          ],
          "name": "stdout"
        },
        {
          "output_type": "stream",
          "text": [
            "INFO:tensorflow:Finished evaluation at 2020-06-08-08:53:55\n"
          ],
          "name": "stderr"
        },
        {
          "output_type": "stream",
          "text": [
            "INFO:tensorflow:Saving dict for global step 1662: auc = 0.99815786, eval_accuracy = 0.9981574, f1_score = 0.99815446, false_negatives = 3.0, false_positives = 4.0, global_step = 1662, loss = 0.0101799285, precision = 0.9978914, recall = 0.99841774, true_negatives = 1899.0, true_positives = 1893.0\n"
          ],
          "name": "stdout"
        },
        {
          "output_type": "stream",
          "text": [
            "INFO:tensorflow:Saving dict for global step 1662: auc = 0.99815786, eval_accuracy = 0.9981574, f1_score = 0.99815446, false_negatives = 3.0, false_positives = 4.0, global_step = 1662, loss = 0.0101799285, precision = 0.9978914, recall = 0.99841774, true_negatives = 1899.0, true_positives = 1893.0\n"
          ],
          "name": "stderr"
        },
        {
          "output_type": "stream",
          "text": [
            "INFO:tensorflow:Saving 'checkpoint_path' summary for global step 1662: model_out/model.ckpt-1662\n"
          ],
          "name": "stdout"
        },
        {
          "output_type": "stream",
          "text": [
            "INFO:tensorflow:Saving 'checkpoint_path' summary for global step 1662: model_out/model.ckpt-1662\n"
          ],
          "name": "stderr"
        },
        {
          "output_type": "execute_result",
          "data": {
            "text/plain": [
              "{'auc': 0.99815786,\n",
              " 'eval_accuracy': 0.9981574,\n",
              " 'f1_score': 0.99815446,\n",
              " 'false_negatives': 3.0,\n",
              " 'false_positives': 4.0,\n",
              " 'global_step': 1662,\n",
              " 'loss': 0.0101799285,\n",
              " 'precision': 0.9978914,\n",
              " 'recall': 0.99841774,\n",
              " 'true_negatives': 1899.0,\n",
              " 'true_positives': 1893.0}"
            ]
          },
          "metadata": {
            "tags": []
          },
          "execution_count": 108
        }
      ]
    },
    {
      "cell_type": "code",
      "metadata": {
        "id": "HnSNxswGTrkb",
        "colab_type": "code",
        "colab": {
          "base_uri": "https://localhost:8080/",
          "height": 655
        },
        "outputId": "bebcb47d-0fdd-4e06-b538-48e8588b220f"
      },
      "source": [
        "test_input_fn = run_classifier.input_fn_builder(features=test_features, seq_length=MAX_SEQ_LENGTH, is_training=False, drop_remainder=False)\n",
        "estimator.evaluate(input_fn=test_input_fn, steps=None)"
      ],
      "execution_count": 109,
      "outputs": [
        {
          "output_type": "stream",
          "text": [
            "INFO:tensorflow:Calling model_fn.\n"
          ],
          "name": "stdout"
        },
        {
          "output_type": "stream",
          "text": [
            "INFO:tensorflow:Calling model_fn.\n"
          ],
          "name": "stderr"
        },
        {
          "output_type": "stream",
          "text": [
            "INFO:tensorflow:Saver not created because there are no variables in the graph to restore\n"
          ],
          "name": "stdout"
        },
        {
          "output_type": "stream",
          "text": [
            "INFO:tensorflow:Saver not created because there are no variables in the graph to restore\n"
          ],
          "name": "stderr"
        },
        {
          "output_type": "stream",
          "text": [
            "INFO:tensorflow:Done calling model_fn.\n"
          ],
          "name": "stdout"
        },
        {
          "output_type": "stream",
          "text": [
            "INFO:tensorflow:Done calling model_fn.\n"
          ],
          "name": "stderr"
        },
        {
          "output_type": "stream",
          "text": [
            "INFO:tensorflow:Starting evaluation at 2020-06-08T08:54:12Z\n"
          ],
          "name": "stdout"
        },
        {
          "output_type": "stream",
          "text": [
            "INFO:tensorflow:Starting evaluation at 2020-06-08T08:54:12Z\n"
          ],
          "name": "stderr"
        },
        {
          "output_type": "stream",
          "text": [
            "INFO:tensorflow:Graph was finalized.\n"
          ],
          "name": "stdout"
        },
        {
          "output_type": "stream",
          "text": [
            "INFO:tensorflow:Graph was finalized.\n"
          ],
          "name": "stderr"
        },
        {
          "output_type": "stream",
          "text": [
            "INFO:tensorflow:Restoring parameters from model_out/model.ckpt-1662\n"
          ],
          "name": "stdout"
        },
        {
          "output_type": "stream",
          "text": [
            "INFO:tensorflow:Restoring parameters from model_out/model.ckpt-1662\n"
          ],
          "name": "stderr"
        },
        {
          "output_type": "stream",
          "text": [
            "INFO:tensorflow:Running local_init_op.\n"
          ],
          "name": "stdout"
        },
        {
          "output_type": "stream",
          "text": [
            "INFO:tensorflow:Running local_init_op.\n"
          ],
          "name": "stderr"
        },
        {
          "output_type": "stream",
          "text": [
            "INFO:tensorflow:Done running local_init_op.\n"
          ],
          "name": "stdout"
        },
        {
          "output_type": "stream",
          "text": [
            "INFO:tensorflow:Done running local_init_op.\n"
          ],
          "name": "stderr"
        },
        {
          "output_type": "stream",
          "text": [
            "INFO:tensorflow:Finished evaluation at 2020-06-08-08:55:21\n"
          ],
          "name": "stdout"
        },
        {
          "output_type": "stream",
          "text": [
            "INFO:tensorflow:Finished evaluation at 2020-06-08-08:55:21\n"
          ],
          "name": "stderr"
        },
        {
          "output_type": "stream",
          "text": [
            "INFO:tensorflow:Saving dict for global step 1662: auc = 0.99815786, eval_accuracy = 0.9981574, f1_score = 0.99815446, false_negatives = 3.0, false_positives = 4.0, global_step = 1662, loss = 0.009983099, precision = 0.9978914, recall = 0.99841774, true_negatives = 1899.0, true_positives = 1893.0\n"
          ],
          "name": "stdout"
        },
        {
          "output_type": "stream",
          "text": [
            "INFO:tensorflow:Saving dict for global step 1662: auc = 0.99815786, eval_accuracy = 0.9981574, f1_score = 0.99815446, false_negatives = 3.0, false_positives = 4.0, global_step = 1662, loss = 0.009983099, precision = 0.9978914, recall = 0.99841774, true_negatives = 1899.0, true_positives = 1893.0\n"
          ],
          "name": "stderr"
        },
        {
          "output_type": "stream",
          "text": [
            "INFO:tensorflow:Saving 'checkpoint_path' summary for global step 1662: model_out/model.ckpt-1662\n"
          ],
          "name": "stdout"
        },
        {
          "output_type": "stream",
          "text": [
            "INFO:tensorflow:Saving 'checkpoint_path' summary for global step 1662: model_out/model.ckpt-1662\n"
          ],
          "name": "stderr"
        },
        {
          "output_type": "execute_result",
          "data": {
            "text/plain": [
              "{'auc': 0.99815786,\n",
              " 'eval_accuracy': 0.9981574,\n",
              " 'f1_score': 0.99815446,\n",
              " 'false_negatives': 3.0,\n",
              " 'false_positives': 4.0,\n",
              " 'global_step': 1662,\n",
              " 'loss': 0.009983099,\n",
              " 'precision': 0.9978914,\n",
              " 'recall': 0.99841774,\n",
              " 'true_negatives': 1899.0,\n",
              " 'true_positives': 1893.0}"
            ]
          },
          "metadata": {
            "tags": []
          },
          "execution_count": 109
        }
      ]
    },
    {
      "cell_type": "code",
      "metadata": {
        "id": "dfb7PyGeBs1d",
        "colab_type": "code",
        "colab": {}
      },
      "source": [
        "#%tensorboard --logdir logs"
      ],
      "execution_count": 0,
      "outputs": []
    },
    {
      "cell_type": "code",
      "metadata": {
        "id": "sF5XxSclkWff",
        "colab_type": "code",
        "colab": {}
      },
      "source": [
        "#Preparing predictions on new articles\n",
        "def getPrediction(in_news):\n",
        "  labels = [\"Real\", \"Fake\"]\n",
        "  input_examples = [run_classifier.InputExample(guid=\"\", text_a = x, text_b = None, label = 0) for x in in_news] # here, \"\" is just a dummy label\n",
        "  input_features = run_classifier.convert_examples_to_features(input_examples, label_list, MAX_SEQ_LENGTH, tokenizer_bert)\n",
        "  predict_input_fn = run_classifier.input_fn_builder(features=input_features, seq_length=MAX_SEQ_LENGTH, is_training=False, drop_remainder=False)\n",
        "  predictions = estimator.predict(predict_input_fn)\n",
        "  return [(prediction['probabilities'], labels[prediction['labels']]) for prediction in predictions]"
      ],
      "execution_count": 0,
      "outputs": []
    },
    {
      "cell_type": "code",
      "metadata": {
        "id": "aSL7aYoJmUB8",
        "colab_type": "code",
        "colab": {}
      },
      "source": [
        "pred_news = []\n",
        "pred_labels = []\n",
        "with open('/content/drive/My Drive/CS221_Project/pred_news.csv', newline='') as f:\n",
        "    reader = csv.reader(f)\n",
        "    for row in reader:\n",
        "      pred_news.append(row[0])\n",
        "      pred_labels.append(row[1])"
      ],
      "execution_count": 0,
      "outputs": []
    },
    {
      "cell_type": "code",
      "metadata": {
        "id": "k2I196GjEtLN",
        "colab_type": "code",
        "colab": {
          "base_uri": "https://localhost:8080/",
          "height": 35
        },
        "outputId": "c083ed31-5fb0-4356-9ddd-eb6f3d916b74"
      },
      "source": [
        "print(pred_labels)"
      ],
      "execution_count": 113,
      "outputs": [
        {
          "output_type": "stream",
          "text": [
            "['0', '0']\n"
          ],
          "name": "stdout"
        }
      ]
    },
    {
      "cell_type": "code",
      "metadata": {
        "id": "RLRZSiwp7oSG",
        "colab_type": "code",
        "colab": {
          "base_uri": "https://localhost:8080/",
          "height": 73
        },
        "outputId": "4a20fae7-e12a-49ed-f856-cf7ef30ff8c0"
      },
      "source": [
        "#Preprocessing the prediction news\n",
        "X_pred = []\n",
        "tokenizer_pred = nltk.tokenize.RegexpTokenizer(r'\\w+')\n",
        "for par in pred_news:\n",
        "    tmp = []\n",
        "    sentences = nltk.sent_tokenize(par)\n",
        "    for sent in sentences:\n",
        "        sent = sent.lower()\n",
        "        tokens = tokenizer_pred.tokenize(sent)\n",
        "        filtered_words = [w.strip() for w in tokens if w not in stop_words and len(w) > 1]\n",
        "        tmp.extend(filtered_words)\n",
        "    X_pred.append(tmp)\n",
        "\n",
        "pred_dataset = []\n",
        "for entry in X_pred:\n",
        "  pred_dataset.append(' '.join(entry))\n",
        "pred_dataset = np.asarray(pred_dataset) \n",
        "pred_dataset = pd.DataFrame(data=pred_dataset, columns=[\"text\"])\n",
        "pred_dataset['class'] = pred_labels\n",
        "\n",
        "print(pred_dataset)"
      ],
      "execution_count": 114,
      "outputs": [
        {
          "output_type": "stream",
          "text": [
            "                                                text class\n",
            "0  eight years white house president obama privy ...     0\n",
            "1  president trump announced biological lab wuhan...     0\n"
          ],
          "name": "stdout"
        }
      ]
    },
    {
      "cell_type": "code",
      "metadata": {
        "id": "_SqArfc4m1md",
        "colab_type": "code",
        "colab": {
          "base_uri": "https://localhost:8080/",
          "height": 862
        },
        "outputId": "0b04b8c3-caac-4289-d9d8-585de4565d40"
      },
      "source": [
        "predictions = getPrediction(pred_dataset)"
      ],
      "execution_count": 115,
      "outputs": [
        {
          "output_type": "stream",
          "text": [
            "INFO:tensorflow:Writing example 0 of 2\n"
          ],
          "name": "stdout"
        },
        {
          "output_type": "stream",
          "text": [
            "INFO:tensorflow:Writing example 0 of 2\n"
          ],
          "name": "stderr"
        },
        {
          "output_type": "stream",
          "text": [
            "INFO:tensorflow:*** Example ***\n"
          ],
          "name": "stdout"
        },
        {
          "output_type": "stream",
          "text": [
            "INFO:tensorflow:*** Example ***\n"
          ],
          "name": "stderr"
        },
        {
          "output_type": "stream",
          "text": [
            "INFO:tensorflow:guid: \n"
          ],
          "name": "stdout"
        },
        {
          "output_type": "stream",
          "text": [
            "INFO:tensorflow:guid: \n"
          ],
          "name": "stderr"
        },
        {
          "output_type": "stream",
          "text": [
            "INFO:tensorflow:tokens: [CLS] text [SEP]\n"
          ],
          "name": "stdout"
        },
        {
          "output_type": "stream",
          "text": [
            "INFO:tensorflow:tokens: [CLS] text [SEP]\n"
          ],
          "name": "stderr"
        },
        {
          "output_type": "stream",
          "text": [
            "INFO:tensorflow:input_ids: 101 3793 102 0 0 0 0 0 0 0 0 0 0 0 0 0 0 0 0 0 0 0 0 0 0 0 0 0 0 0 0 0 0 0 0 0 0 0 0 0 0 0 0 0 0 0 0 0 0 0 0 0 0 0 0 0 0 0 0 0 0 0 0 0 0 0 0 0 0 0 0 0 0 0 0 0 0 0 0 0 0 0 0 0 0 0 0 0 0 0 0 0 0 0 0 0 0 0 0 0 0 0 0 0 0 0 0 0 0 0 0 0 0 0 0 0 0 0 0 0 0 0 0 0 0 0 0 0\n"
          ],
          "name": "stdout"
        },
        {
          "output_type": "stream",
          "text": [
            "INFO:tensorflow:input_ids: 101 3793 102 0 0 0 0 0 0 0 0 0 0 0 0 0 0 0 0 0 0 0 0 0 0 0 0 0 0 0 0 0 0 0 0 0 0 0 0 0 0 0 0 0 0 0 0 0 0 0 0 0 0 0 0 0 0 0 0 0 0 0 0 0 0 0 0 0 0 0 0 0 0 0 0 0 0 0 0 0 0 0 0 0 0 0 0 0 0 0 0 0 0 0 0 0 0 0 0 0 0 0 0 0 0 0 0 0 0 0 0 0 0 0 0 0 0 0 0 0 0 0 0 0 0 0 0 0\n"
          ],
          "name": "stderr"
        },
        {
          "output_type": "stream",
          "text": [
            "INFO:tensorflow:input_mask: 1 1 1 0 0 0 0 0 0 0 0 0 0 0 0 0 0 0 0 0 0 0 0 0 0 0 0 0 0 0 0 0 0 0 0 0 0 0 0 0 0 0 0 0 0 0 0 0 0 0 0 0 0 0 0 0 0 0 0 0 0 0 0 0 0 0 0 0 0 0 0 0 0 0 0 0 0 0 0 0 0 0 0 0 0 0 0 0 0 0 0 0 0 0 0 0 0 0 0 0 0 0 0 0 0 0 0 0 0 0 0 0 0 0 0 0 0 0 0 0 0 0 0 0 0 0 0 0\n"
          ],
          "name": "stdout"
        },
        {
          "output_type": "stream",
          "text": [
            "INFO:tensorflow:input_mask: 1 1 1 0 0 0 0 0 0 0 0 0 0 0 0 0 0 0 0 0 0 0 0 0 0 0 0 0 0 0 0 0 0 0 0 0 0 0 0 0 0 0 0 0 0 0 0 0 0 0 0 0 0 0 0 0 0 0 0 0 0 0 0 0 0 0 0 0 0 0 0 0 0 0 0 0 0 0 0 0 0 0 0 0 0 0 0 0 0 0 0 0 0 0 0 0 0 0 0 0 0 0 0 0 0 0 0 0 0 0 0 0 0 0 0 0 0 0 0 0 0 0 0 0 0 0 0 0\n"
          ],
          "name": "stderr"
        },
        {
          "output_type": "stream",
          "text": [
            "INFO:tensorflow:segment_ids: 0 0 0 0 0 0 0 0 0 0 0 0 0 0 0 0 0 0 0 0 0 0 0 0 0 0 0 0 0 0 0 0 0 0 0 0 0 0 0 0 0 0 0 0 0 0 0 0 0 0 0 0 0 0 0 0 0 0 0 0 0 0 0 0 0 0 0 0 0 0 0 0 0 0 0 0 0 0 0 0 0 0 0 0 0 0 0 0 0 0 0 0 0 0 0 0 0 0 0 0 0 0 0 0 0 0 0 0 0 0 0 0 0 0 0 0 0 0 0 0 0 0 0 0 0 0 0 0\n"
          ],
          "name": "stdout"
        },
        {
          "output_type": "stream",
          "text": [
            "INFO:tensorflow:segment_ids: 0 0 0 0 0 0 0 0 0 0 0 0 0 0 0 0 0 0 0 0 0 0 0 0 0 0 0 0 0 0 0 0 0 0 0 0 0 0 0 0 0 0 0 0 0 0 0 0 0 0 0 0 0 0 0 0 0 0 0 0 0 0 0 0 0 0 0 0 0 0 0 0 0 0 0 0 0 0 0 0 0 0 0 0 0 0 0 0 0 0 0 0 0 0 0 0 0 0 0 0 0 0 0 0 0 0 0 0 0 0 0 0 0 0 0 0 0 0 0 0 0 0 0 0 0 0 0 0\n"
          ],
          "name": "stderr"
        },
        {
          "output_type": "stream",
          "text": [
            "INFO:tensorflow:label: 0 (id = 1)\n"
          ],
          "name": "stdout"
        },
        {
          "output_type": "stream",
          "text": [
            "INFO:tensorflow:label: 0 (id = 1)\n"
          ],
          "name": "stderr"
        },
        {
          "output_type": "stream",
          "text": [
            "INFO:tensorflow:*** Example ***\n"
          ],
          "name": "stdout"
        },
        {
          "output_type": "stream",
          "text": [
            "INFO:tensorflow:*** Example ***\n"
          ],
          "name": "stderr"
        },
        {
          "output_type": "stream",
          "text": [
            "INFO:tensorflow:guid: \n"
          ],
          "name": "stdout"
        },
        {
          "output_type": "stream",
          "text": [
            "INFO:tensorflow:guid: \n"
          ],
          "name": "stderr"
        },
        {
          "output_type": "stream",
          "text": [
            "INFO:tensorflow:tokens: [CLS] class [SEP]\n"
          ],
          "name": "stdout"
        },
        {
          "output_type": "stream",
          "text": [
            "INFO:tensorflow:tokens: [CLS] class [SEP]\n"
          ],
          "name": "stderr"
        },
        {
          "output_type": "stream",
          "text": [
            "INFO:tensorflow:input_ids: 101 2465 102 0 0 0 0 0 0 0 0 0 0 0 0 0 0 0 0 0 0 0 0 0 0 0 0 0 0 0 0 0 0 0 0 0 0 0 0 0 0 0 0 0 0 0 0 0 0 0 0 0 0 0 0 0 0 0 0 0 0 0 0 0 0 0 0 0 0 0 0 0 0 0 0 0 0 0 0 0 0 0 0 0 0 0 0 0 0 0 0 0 0 0 0 0 0 0 0 0 0 0 0 0 0 0 0 0 0 0 0 0 0 0 0 0 0 0 0 0 0 0 0 0 0 0 0 0\n"
          ],
          "name": "stdout"
        },
        {
          "output_type": "stream",
          "text": [
            "INFO:tensorflow:input_ids: 101 2465 102 0 0 0 0 0 0 0 0 0 0 0 0 0 0 0 0 0 0 0 0 0 0 0 0 0 0 0 0 0 0 0 0 0 0 0 0 0 0 0 0 0 0 0 0 0 0 0 0 0 0 0 0 0 0 0 0 0 0 0 0 0 0 0 0 0 0 0 0 0 0 0 0 0 0 0 0 0 0 0 0 0 0 0 0 0 0 0 0 0 0 0 0 0 0 0 0 0 0 0 0 0 0 0 0 0 0 0 0 0 0 0 0 0 0 0 0 0 0 0 0 0 0 0 0 0\n"
          ],
          "name": "stderr"
        },
        {
          "output_type": "stream",
          "text": [
            "INFO:tensorflow:input_mask: 1 1 1 0 0 0 0 0 0 0 0 0 0 0 0 0 0 0 0 0 0 0 0 0 0 0 0 0 0 0 0 0 0 0 0 0 0 0 0 0 0 0 0 0 0 0 0 0 0 0 0 0 0 0 0 0 0 0 0 0 0 0 0 0 0 0 0 0 0 0 0 0 0 0 0 0 0 0 0 0 0 0 0 0 0 0 0 0 0 0 0 0 0 0 0 0 0 0 0 0 0 0 0 0 0 0 0 0 0 0 0 0 0 0 0 0 0 0 0 0 0 0 0 0 0 0 0 0\n"
          ],
          "name": "stdout"
        },
        {
          "output_type": "stream",
          "text": [
            "INFO:tensorflow:input_mask: 1 1 1 0 0 0 0 0 0 0 0 0 0 0 0 0 0 0 0 0 0 0 0 0 0 0 0 0 0 0 0 0 0 0 0 0 0 0 0 0 0 0 0 0 0 0 0 0 0 0 0 0 0 0 0 0 0 0 0 0 0 0 0 0 0 0 0 0 0 0 0 0 0 0 0 0 0 0 0 0 0 0 0 0 0 0 0 0 0 0 0 0 0 0 0 0 0 0 0 0 0 0 0 0 0 0 0 0 0 0 0 0 0 0 0 0 0 0 0 0 0 0 0 0 0 0 0 0\n"
          ],
          "name": "stderr"
        },
        {
          "output_type": "stream",
          "text": [
            "INFO:tensorflow:segment_ids: 0 0 0 0 0 0 0 0 0 0 0 0 0 0 0 0 0 0 0 0 0 0 0 0 0 0 0 0 0 0 0 0 0 0 0 0 0 0 0 0 0 0 0 0 0 0 0 0 0 0 0 0 0 0 0 0 0 0 0 0 0 0 0 0 0 0 0 0 0 0 0 0 0 0 0 0 0 0 0 0 0 0 0 0 0 0 0 0 0 0 0 0 0 0 0 0 0 0 0 0 0 0 0 0 0 0 0 0 0 0 0 0 0 0 0 0 0 0 0 0 0 0 0 0 0 0 0 0\n"
          ],
          "name": "stdout"
        },
        {
          "output_type": "stream",
          "text": [
            "INFO:tensorflow:segment_ids: 0 0 0 0 0 0 0 0 0 0 0 0 0 0 0 0 0 0 0 0 0 0 0 0 0 0 0 0 0 0 0 0 0 0 0 0 0 0 0 0 0 0 0 0 0 0 0 0 0 0 0 0 0 0 0 0 0 0 0 0 0 0 0 0 0 0 0 0 0 0 0 0 0 0 0 0 0 0 0 0 0 0 0 0 0 0 0 0 0 0 0 0 0 0 0 0 0 0 0 0 0 0 0 0 0 0 0 0 0 0 0 0 0 0 0 0 0 0 0 0 0 0 0 0 0 0 0 0\n"
          ],
          "name": "stderr"
        },
        {
          "output_type": "stream",
          "text": [
            "INFO:tensorflow:label: 0 (id = 1)\n"
          ],
          "name": "stdout"
        },
        {
          "output_type": "stream",
          "text": [
            "INFO:tensorflow:label: 0 (id = 1)\n"
          ],
          "name": "stderr"
        },
        {
          "output_type": "stream",
          "text": [
            "INFO:tensorflow:Calling model_fn.\n"
          ],
          "name": "stdout"
        },
        {
          "output_type": "stream",
          "text": [
            "INFO:tensorflow:Calling model_fn.\n"
          ],
          "name": "stderr"
        },
        {
          "output_type": "stream",
          "text": [
            "INFO:tensorflow:Saver not created because there are no variables in the graph to restore\n"
          ],
          "name": "stdout"
        },
        {
          "output_type": "stream",
          "text": [
            "INFO:tensorflow:Saver not created because there are no variables in the graph to restore\n"
          ],
          "name": "stderr"
        },
        {
          "output_type": "stream",
          "text": [
            "INFO:tensorflow:Done calling model_fn.\n"
          ],
          "name": "stdout"
        },
        {
          "output_type": "stream",
          "text": [
            "INFO:tensorflow:Done calling model_fn.\n"
          ],
          "name": "stderr"
        },
        {
          "output_type": "stream",
          "text": [
            "INFO:tensorflow:Graph was finalized.\n"
          ],
          "name": "stdout"
        },
        {
          "output_type": "stream",
          "text": [
            "INFO:tensorflow:Graph was finalized.\n"
          ],
          "name": "stderr"
        },
        {
          "output_type": "stream",
          "text": [
            "INFO:tensorflow:Restoring parameters from model_out/model.ckpt-1662\n"
          ],
          "name": "stdout"
        },
        {
          "output_type": "stream",
          "text": [
            "INFO:tensorflow:Restoring parameters from model_out/model.ckpt-1662\n"
          ],
          "name": "stderr"
        },
        {
          "output_type": "stream",
          "text": [
            "INFO:tensorflow:Running local_init_op.\n"
          ],
          "name": "stdout"
        },
        {
          "output_type": "stream",
          "text": [
            "INFO:tensorflow:Running local_init_op.\n"
          ],
          "name": "stderr"
        },
        {
          "output_type": "stream",
          "text": [
            "INFO:tensorflow:Done running local_init_op.\n"
          ],
          "name": "stdout"
        },
        {
          "output_type": "stream",
          "text": [
            "INFO:tensorflow:Done running local_init_op.\n"
          ],
          "name": "stderr"
        }
      ]
    },
    {
      "cell_type": "code",
      "metadata": {
        "id": "I8ratFluFR7r",
        "colab_type": "code",
        "colab": {
          "base_uri": "https://localhost:8080/",
          "height": 54
        },
        "outputId": "ef42c526-ba0b-406e-f1cb-4a520818dc40"
      },
      "source": [
        "predictions"
      ],
      "execution_count": 116,
      "outputs": [
        {
          "output_type": "execute_result",
          "data": {
            "text/plain": [
              "[(array([-0.0104589, -4.565531 ], dtype=float32), 'Real'),\n",
              " (array([-0.25409368, -1.4944103 ], dtype=float32), 'Real')]"
            ]
          },
          "metadata": {
            "tags": []
          },
          "execution_count": 116
        }
      ]
    },
    {
      "cell_type": "markdown",
      "metadata": {
        "id": "PsMuQrnWXtAe",
        "colab_type": "text"
      },
      "source": [
        "# **Data Analysis**"
      ]
    },
    {
      "cell_type": "markdown",
      "metadata": {
        "id": "YghPXl4Q56SB",
        "colab_type": "text"
      },
      "source": [
        "(TODO) Compare real vs fake corpus via:\n",
        "\n",
        "\n",
        "*   total #words, avg #words/news\n",
        "*   total #unique words, avg #unique words/news, \n",
        "*   total #char per news, avg #char per news\n",
        "*   total/avg unknown words? (due to abreviations, speaking language)\n",
        "*   topics, avg # top words per topic (via LDA), dictionary differences\n",
        "*   sentiment/emotion analysis\n",
        "*   style analysis ?\n"
      ]
    },
    {
      "cell_type": "markdown",
      "metadata": {
        "id": "0SoQCYTw10dd",
        "colab_type": "text"
      },
      "source": [
        "## Linguistic structure"
      ]
    },
    {
      "cell_type": "code",
      "metadata": {
        "id": "tG3ia_sH4jxc",
        "colab_type": "code",
        "colab": {}
      },
      "source": [
        "dataset_real = bert_dataset.loc[bert_dataset['class'] == 1]\n",
        "dataset_fake = bert_dataset.loc[bert_dataset['class'] == 0]"
      ],
      "execution_count": 0,
      "outputs": []
    },
    {
      "cell_type": "code",
      "metadata": {
        "id": "3b1KdulrFBKg",
        "colab_type": "code",
        "colab": {}
      },
      "source": [
        "len(dataset_fake)"
      ],
      "execution_count": 0,
      "outputs": []
    },
    {
      "cell_type": "markdown",
      "metadata": {
        "id": "843lgMat4lJd",
        "colab_type": "text"
      },
      "source": [
        "Total #words, avg #words/news"
      ]
    },
    {
      "cell_type": "code",
      "metadata": {
        "id": "vVSKj5ga-tQZ",
        "colab_type": "code",
        "colab": {}
      },
      "source": [
        "count_real = 0\n",
        "for news in X_real:\n",
        "    count_real += len(news)    \n",
        "\n",
        "count_fake = 0\n",
        "for news in X_fake:\n",
        "    count_fake += len(news)    \n",
        "\n",
        "print(\"Total number of words in real news: \",count_real)\n",
        "print(\"Total number of words in fake news: \",count_fake)\n",
        "print(\"Delta Real/Fake: \", count_real/count_fake)"
      ],
      "execution_count": 0,
      "outputs": []
    },
    {
      "cell_type": "code",
      "metadata": {
        "id": "7LIeMza7Acem",
        "colab_type": "code",
        "colab": {}
      },
      "source": [
        "avg_real = []\n",
        "for newsr in X_real:\n",
        "    avg_real.append(len(newsr))\n",
        "\n",
        "avg_fake = []\n",
        "for newsf in X_fake:\n",
        "    avg_fake.append(len(newsf))\n",
        "\n",
        "print(\"Average number of words in real news: \",mean(avg_real))\n",
        "print(\"Average number of words in fake news: \",mean(avg_fake))"
      ],
      "execution_count": 0,
      "outputs": []
    },
    {
      "cell_type": "code",
      "metadata": {
        "id": "NoHaxQQZCjOM",
        "colab_type": "code",
        "colab": {}
      },
      "source": [
        "plt.figure(figsize = (12,7))\n",
        "plt.hist(avg_fake, bins = 100, range = [0, 2000], label='Fake')\n",
        "plt.hist(avg_real, bins = 100, range = [0, 2000], alpha=0.5, label='Real')\n",
        "plt.legend(loc='upper right')\n",
        "plt.title('Distribution of number of words per news')\n",
        "plt.grid(color='gray', linestyle='-', linewidth=0.5)\n",
        "plt.show()"
      ],
      "execution_count": 0,
      "outputs": []
    },
    {
      "cell_type": "code",
      "metadata": {
        "id": "_hWo0Bg7Y4UO",
        "colab_type": "code",
        "colab": {}
      },
      "source": [
        "#Five-numbers summary for each corpus \n",
        "def five_num_summary(dataframe):\n",
        "    quartiles = np.percentile([len(x.split()) for x in dataframe[\"text\"].tolist()], [0, 25, 50, 75, 100])\n",
        "    \n",
        "    return quartiles\n",
        "\n",
        "true_summ = five_num_summary(dataset_real)\n",
        "\n",
        "print(\"Text length - Five-number summary for true news:\")\n",
        "for i in range(0, 101,25):\n",
        "    print(\"{}'th %ile: {}\".format(i, int(true_summ[i//25])))\n",
        "    \n",
        "    \n",
        "print(\"\\n\")\n",
        "\n",
        "\n",
        "fake_summ = five_num_summary(dataset_fake)\n",
        "\n",
        "print(\"Text length - Five-number summary for fake news:\")\n",
        "for i in range(0, 101,25):\n",
        "    print(\"{}'th %ile: {}\".format(i, int(fake_summ[i//25])))"
      ],
      "execution_count": 0,
      "outputs": []
    },
    {
      "cell_type": "code",
      "metadata": {
        "id": "npM57TAJW9wn",
        "colab_type": "code",
        "colab": {}
      },
      "source": [
        "#Checking examples of the shortest fake news\n",
        "X_fake_sorted = sorted(X_fake, key = len)\n",
        "print(X_fake_sorted[:5])"
      ],
      "execution_count": 0,
      "outputs": []
    },
    {
      "cell_type": "code",
      "metadata": {
        "id": "2l89DJojXg4W",
        "colab_type": "code",
        "colab": {}
      },
      "source": [
        "#Checking examples of the shortest real news\n",
        "X_real_sorted = sorted(X_real, key = len)\n",
        "print(X_real_sorted[:5])"
      ],
      "execution_count": 0,
      "outputs": []
    },
    {
      "cell_type": "markdown",
      "metadata": {
        "id": "P7kQq-8s40Z3",
        "colab_type": "text"
      },
      "source": [
        "Total #unique words, avg #unique words/news"
      ]
    },
    {
      "cell_type": "code",
      "metadata": {
        "id": "xXR1PrO-4zC1",
        "colab_type": "code",
        "colab": {}
      },
      "source": [
        "cnt_real = Counter()\n",
        "for news in X_real:\n",
        "  for word in news:\n",
        "    cnt_real[word] += 1\n",
        "\n",
        "cnt_fake = Counter()\n",
        "for news in X_fake:\n",
        "  for word in news:\n",
        "    cnt_fake[word] += 1\n",
        "\n",
        "print(\"Total unique words in real news: \",len(cnt_real))\n",
        "print(\"Total unique words in fake news: \",len(cnt_fake))"
      ],
      "execution_count": 0,
      "outputs": []
    },
    {
      "cell_type": "markdown",
      "metadata": {
        "id": "CjAORFH145u3",
        "colab_type": "text"
      },
      "source": [
        "Total #char per news, avg #char per news"
      ]
    },
    {
      "cell_type": "code",
      "metadata": {
        "id": "HG1ZAQS9ASZH",
        "colab_type": "code",
        "colab": {}
      },
      "source": [
        "#Comparison of news lengths in characters number between Real and Fake news\n",
        "plt.figure(figsize = (12,7))\n",
        "dataset_fake['text'].str.len().hist(bins = 100, range = [0, 20000])\n",
        "dataset_real['text'].str.len().hist(alpha=0.5, bins = 100, range = [0, 20000])\n",
        "plt.title('Number of characters per news')\n",
        "plt.legend(['Fake', 'Real'])\n",
        "plt.show()"
      ],
      "execution_count": 0,
      "outputs": []
    },
    {
      "cell_type": "code",
      "metadata": {
        "id": "Jw_krZc27AW7",
        "colab_type": "code",
        "colab": {}
      },
      "source": [
        "from statistics import mean\n",
        "print(\"Real mean news length (in words #): \",mean(dataset_real['text'].str.len()))\n",
        "print(\"Fake mean news length (in words #): \",mean(dataset_fake['text'].str.len()))"
      ],
      "execution_count": 0,
      "outputs": []
    },
    {
      "cell_type": "markdown",
      "metadata": {
        "id": "Y93w0_Q6-TdN",
        "colab_type": "text"
      },
      "source": [
        "## Words frequency"
      ]
    },
    {
      "cell_type": "code",
      "metadata": {
        "id": "XKzew2W-uc-m",
        "colab_type": "code",
        "colab": {}
      },
      "source": [
        "#Word Cloud on real news\n",
        "text = ''\n",
        "for news in dataset_real.text.values:\n",
        "    text += news\n",
        "wordcloud = WordCloud(\n",
        "    width = 3000,\n",
        "    height = 2000,\n",
        "    background_color = 'white',\n",
        "    stopwords = set(nltk.corpus.stopwords.words(\"english\"))).generate(text)\n",
        "fig = plt.figure(\n",
        "    figsize = (40, 30),\n",
        "    facecolor = 'k',\n",
        "    edgecolor = 'k')\n",
        "plt.imshow(wordcloud, interpolation = 'bilinear')\n",
        "plt.axis('off')\n",
        "plt.show()\n",
        "del text"
      ],
      "execution_count": 0,
      "outputs": []
    },
    {
      "cell_type": "code",
      "metadata": {
        "id": "-s4d_YQRujOU",
        "colab_type": "code",
        "colab": {}
      },
      "source": [
        "#Word Cloud on fake news\n",
        "text = ''\n",
        "for news in dataset_fake.text.values:\n",
        "    text += news\n",
        "wordcloud = WordCloud(\n",
        "    width = 3000,\n",
        "    height = 2000,\n",
        "    background_color = 'white',\n",
        "    stopwords = set(nltk.corpus.stopwords.words(\"english\"))).generate(text)\n",
        "fig = plt.figure(\n",
        "    figsize = (40, 30),\n",
        "    facecolor = 'k',\n",
        "    edgecolor = 'k')\n",
        "plt.imshow(wordcloud, interpolation = 'bilinear')\n",
        "plt.axis('off')\n",
        "plt.show()\n",
        "del text"
      ],
      "execution_count": 0,
      "outputs": []
    },
    {
      "cell_type": "code",
      "metadata": {
        "id": "thTWjMf6UUbz",
        "colab_type": "code",
        "colab": {}
      },
      "source": [
        "#Let's analyze most frequent words\n",
        "corpus_real=[word for i in X_real for word in i]\n",
        "counter_real=Counter(corpus_real)\n",
        "most_real=counter_real.most_common()\n",
        "\n",
        "x1, x2= [], []\n",
        "for word,count in most_real[:40]:\n",
        "    if (word not in stop_words and len(word) > 1):\n",
        "        x1.append(word)\n",
        "        x2.append(count)\n",
        " \n",
        "corpus_fake=[word for j in X_fake for word in j]\n",
        "counter_fake=Counter(corpus_fake)\n",
        "most_fake=counter_fake.most_common()\n",
        "\n",
        "x3, x4= [], []\n",
        "for word,count in most_fake[:40]:\n",
        "    if (word not in stop_words and len(word) > 1):\n",
        "        x3.append(word)\n",
        "        x4.append(count)\n",
        "\n",
        "fig,(ax1, ax2) = plt.subplots(1,2)\n",
        "sns.barplot(x=x2[:20],y=x1[:20],ax=ax1).set_title('Real')\n",
        "sns.barplot(x=x4[:20],y=x3[:20],ax=ax2).set_title('Fake')\n",
        "fig.tight_layout()"
      ],
      "execution_count": 0,
      "outputs": []
    },
    {
      "cell_type": "markdown",
      "metadata": {
        "id": "wYhtMYDMGdbJ",
        "colab_type": "text"
      },
      "source": [
        "Bigrams and trigrams in both classes"
      ]
    },
    {
      "cell_type": "code",
      "metadata": {
        "id": "gW2doTmu5SdN",
        "colab_type": "code",
        "colab": {}
      },
      "source": [
        "from sklearn.feature_extraction.text import CountVectorizer\n",
        "def get_top_ngram(corpus, n=None):\n",
        "    vec = CountVectorizer(stop_words='english', lowercase=True, ngram_range=(n, n)).fit(corpus)\n",
        "    bag_of_words = vec.transform(corpus)\n",
        "    sum_words = bag_of_words.sum(axis=0) \n",
        "    words_freq = [(word, sum_words[0, idx]) \n",
        "                  for word, idx in vec.vocabulary_.items()]\n",
        "    words_freq =sorted(words_freq, key = lambda x: x[1], reverse=True)\n",
        "    return words_freq[:20]\n",
        "\n",
        "top_n_bigrams_real=get_top_ngram(dataset_real['text'],2)[:20]\n",
        "x_,y_=map(list,zip(*top_n_bigrams_real))\n",
        "top_n_bigrams_fake=get_top_ngram(dataset_fake['text'],2)[:20]\n",
        "w_,z_=map(list,zip(*top_n_bigrams_fake))\n",
        "\n",
        "fig,(ax1, ax2) = plt.subplots(1,2)\n",
        "sns.barplot(x=y_,y=x_,ax=ax1).set_title('Real')\n",
        "sns.barplot(x=z_,y=w_,ax=ax2).set_title('Fake')\n",
        "fig.tight_layout()"
      ],
      "execution_count": 0,
      "outputs": []
    },
    {
      "cell_type": "markdown",
      "metadata": {
        "id": "5TSxgzkD5ICE",
        "colab_type": "text"
      },
      "source": [
        "## TF-IDF, k-means (to be continued)"
      ]
    },
    {
      "cell_type": "code",
      "metadata": {
        "id": "lO2Cqg_cCYPU",
        "colab_type": "code",
        "colab": {}
      },
      "source": [
        "#Alternative method of analyzing ngrams via TfidfVectorizer\n",
        "from sklearn.feature_extraction.text import TfidfVectorizer\n",
        "class NewTfidfVectorizer(TfidfVectorizer):\n",
        "    def _word_ngrams(self, tokens, stop_words=None):\n",
        "\n",
        "        # First get tokens without stop words\n",
        "        tokens = super(TfidfVectorizer, self)._word_ngrams(tokens, None)\n",
        "        if stop_words is not None:\n",
        "            new_tokens=[]\n",
        "            for token in tokens:\n",
        "                split_words = token.split(' ')\n",
        "\n",
        "                # Only check the first and last word for stop words\n",
        "                if split_words[0] not in stop_words and split_words[-1] not in stop_words:\n",
        "                    new_tokens.append(token)\n",
        "            return new_tokens\n",
        "\n",
        "        return tokens\n",
        "\n",
        "vectorizer = NewTfidfVectorizer(stop_words='english', ngram_range=(3,3))\n",
        "vectorizer.fit(bert_dataset[\"text\"])"
      ],
      "execution_count": 0,
      "outputs": []
    },
    {
      "cell_type": "code",
      "metadata": {
        "id": "J4ePxHZssEZJ",
        "colab_type": "code",
        "colab": {}
      },
      "source": [
        "#K-means\n",
        "#we can also pursue dimensionality reduction using LSA (I can write this code) if we want to improve further.\n",
        "X_vec = vectorizer.fit_transform(bert_dataset['text'])\n",
        "labels = bert_dataset['class']\n",
        "true_k = np.unique(labels).shape[0]\n",
        "\n",
        "km = MiniBatchKMeans(n_clusters=true_k, init='k-means++', n_init=1,init_size=1000, \n",
        "                     batch_size=1000, verbose=False)\n",
        "print(\"Clustering sparse data with %s\" % km)\n",
        "km.fit(X_vec)\n",
        "\n",
        "print(\"Homogeneity: %0.3f\" % metrics.homogeneity_score(labels, km.labels_))\n",
        "print(\"Completeness: %0.3f\" % metrics.completeness_score(labels, km.labels_))\n",
        "print(\"V-measure: %0.3f\" % metrics.v_measure_score(labels, km.labels_))\n",
        "print(\"Adjusted Rand-Index: %.3f\" % metrics.adjusted_rand_score(labels, km.labels_))\n",
        "print(\"Silhouette Coefficient: %0.3f\" % metrics.silhouette_score(X_vec, km.labels_, sample_size=1000))\n",
        "\n",
        "print()"
      ],
      "execution_count": 0,
      "outputs": []
    },
    {
      "cell_type": "markdown",
      "metadata": {
        "id": "i7wCW4KDRjrY",
        "colab_type": "text"
      },
      "source": [
        "## Topic Modeling exploration with pyLDAvis"
      ]
    },
    {
      "cell_type": "code",
      "metadata": {
        "id": "bJlGSLo1Ri_v",
        "colab_type": "code",
        "colab": {}
      },
      "source": [
        "#Tokenization and lemmatization\n",
        "from nltk.stem import PorterStemmer, WordNetLemmatizer\n",
        "\n",
        "def preprocess_news(df):\n",
        "    corpus=[]\n",
        "    stem=PorterStemmer()\n",
        "    lem=WordNetLemmatizer()\n",
        "    for news in df['text']:\n",
        "        words=[w for w in nltk.word_tokenize(news) if (w not in stop_words)]\n",
        "        \n",
        "        words=[lem.lemmatize(w) for w in words if len(w)>2]\n",
        "        \n",
        "        corpus.append(words)\n",
        "    return corpus\n",
        "\n",
        "corpus_real=preprocess_news(dataset_real)\n",
        "corpus_fake=preprocess_news(dataset_fake)"
      ],
      "execution_count": 0,
      "outputs": []
    },
    {
      "cell_type": "code",
      "metadata": {
        "id": "Z5TRVHw_SRhi",
        "colab_type": "code",
        "colab": {}
      },
      "source": [
        "#Let’s create the bag of words model using gensim\n",
        "dic_real=gensim.corpora.Dictionary(corpus_real)\n",
        "bow_corpus_real = [dic_real.doc2bow(doc_real) for doc_real in corpus_real]\n",
        "\n",
        "dic_fake=gensim.corpora.Dictionary(corpus_fake)\n",
        "bow_corpus_fake = [dic_fake.doc2bow(doc_fake) for doc_fake in corpus_fake]"
      ],
      "execution_count": 0,
      "outputs": []
    },
    {
      "cell_type": "code",
      "metadata": {
        "id": "bnxHjfmxSVjb",
        "colab_type": "code",
        "colab": {}
      },
      "source": [
        "#And finally create the LDA models\n",
        "lda_model_real = gensim.models.LdaMulticore(bow_corpus_real, \n",
        "                                   num_topics = 4, \n",
        "                                   id2word = dic_real,                                    \n",
        "                                   passes = 10,\n",
        "                                   workers = 2)\n",
        "lda_model_real.show_topics()"
      ],
      "execution_count": 0,
      "outputs": []
    },
    {
      "cell_type": "code",
      "metadata": {
        "id": "BXbSVZPjjlJj",
        "colab_type": "code",
        "colab": {}
      },
      "source": [
        "#And finally create the LDA models\n",
        "lda_model_fake = gensim.models.LdaMulticore(bow_corpus_fake, \n",
        "                                   num_topics = 4, \n",
        "                                   id2word = dic_fake,                                    \n",
        "                                   passes = 10,\n",
        "                                   workers = 2)\n",
        "lda_model_fake.show_topics()"
      ],
      "execution_count": 0,
      "outputs": []
    },
    {
      "cell_type": "code",
      "metadata": {
        "id": "MO1l_wCkRjYo",
        "colab_type": "code",
        "colab": {}
      },
      "source": [
        "%%capture\n",
        "!pip install pyLDAvis"
      ],
      "execution_count": 0,
      "outputs": []
    },
    {
      "cell_type": "code",
      "metadata": {
        "id": "janW-UYHO27Y",
        "colab_type": "code",
        "colab": {}
      },
      "source": [
        "import pyLDAvis.gensim\n",
        "pyLDAvis.enable_notebook()\n",
        "vis_real = pyLDAvis.gensim.prepare(lda_model_real, bow_corpus_real, dic_real)\n",
        "vis_real"
      ],
      "execution_count": 0,
      "outputs": []
    },
    {
      "cell_type": "code",
      "metadata": {
        "id": "h5-PlvD7jwtC",
        "colab_type": "code",
        "colab": {}
      },
      "source": [
        "import pyLDAvis.gensim\n",
        "pyLDAvis.enable_notebook()\n",
        "vis_fake = pyLDAvis.gensim.prepare(lda_model_fake, bow_corpus_fake, dic_fake)\n",
        "vis_fake"
      ],
      "execution_count": 0,
      "outputs": []
    },
    {
      "cell_type": "markdown",
      "metadata": {
        "id": "wr2qO_KRfnJc",
        "colab_type": "text"
      },
      "source": [
        "## Readibility index (using Flesch reading ease score formula)\n",
        "\n",
        "*   90-100 : Very Easy\n",
        "*   80-89 : Easy\n",
        "*   70-79 : Fairly Easy\n",
        "*   60-69 : Standard\n",
        "*   50-59 : Fairly Difficult\n",
        "*   30-49 : Difficult\n",
        "*   0-29 : Very Confusing\n",
        "\n",
        "The formula for calculating the flesch reading easiness score is given below:\n",
        "\n",
        "RE = 206.835 – (1.015 x ASL) – (84.6 x ASW)\n",
        "\n",
        "RE = Readability Ease\n",
        "\n",
        "ASL = Average Sentence Length (i.e., the number of words divided by the number of sentences)\n",
        "\n",
        "ASW = Average number of syllables per word (i.e., the number of syllables divided by the number of words)"
      ]
    },
    {
      "cell_type": "code",
      "metadata": {
        "id": "sEDUNd3AgCmj",
        "colab_type": "code",
        "colab": {}
      },
      "source": [
        "%%capture\n",
        "!pip install textstat"
      ],
      "execution_count": 0,
      "outputs": []
    },
    {
      "cell_type": "code",
      "metadata": {
        "id": "z0Lc3bPmfpo9",
        "colab_type": "code",
        "colab": {}
      },
      "source": [
        "#The analysis must be performed on the original dataset, before data preprocessing\n",
        "import textstat as ts\n",
        "\n",
        "real_news_readability = []\n",
        "fake_news_readability = []\n",
        "\n",
        "for sentence in dataset.loc[dataset['class'] == 1][\"text\"].tolist():\n",
        "    temp = ts.flesch_reading_ease(sentence)\n",
        "    real_news_readability.append(temp)\n",
        "    \n",
        "for sentence in dataset.loc[dataset['class'] == 0][\"text\"].tolist():\n",
        "    temp = ts.flesch_reading_ease(sentence)\n",
        "    fake_news_readability.append(temp)"
      ],
      "execution_count": 0,
      "outputs": []
    },
    {
      "cell_type": "code",
      "metadata": {
        "id": "KIvud74fgOjR",
        "colab_type": "code",
        "colab": {}
      },
      "source": [
        "real_readability_df = pd.Series(real_news_readability)\n",
        "fake_readability_df = pd.Series(fake_news_readability)\n",
        "\n",
        "plt.figure(figsize = (12,7))\n",
        "plt.hist(fake_readability_df, bins = 10, range = [0, 100], label = \"fake-news readability\")\n",
        "plt.hist(real_readability_df, bins = 10, range = [0, 100], alpha = 0.5, label = \"real-news readability\")\n",
        "plt.xlabel(\"Flesch readability easiness for a news article\", fontsize = 12)\n",
        "plt.ylabel(\"Number of articles with x word length\", fontsize = 12)\n",
        "plt.title(\"Class wise Flesch readability ease score distribution\", fontsize = 15)\n",
        "plt.legend()\n",
        "plt.show()"
      ],
      "execution_count": 0,
      "outputs": []
    },
    {
      "cell_type": "markdown",
      "metadata": {
        "id": "g1w9W9W7A3RN",
        "colab_type": "text"
      },
      "source": [
        "## Sentiment analysis"
      ]
    },
    {
      "cell_type": "markdown",
      "metadata": {
        "id": "BtSHJfRgOVY6",
        "colab_type": "text"
      },
      "source": [
        "With Vader library\n",
        "\n",
        "```\n",
        "Vader uses a bag of words approach (a lookup table of positive and negative words) with some simple heuristics (e.g. increasing the intensity of the sentiment if some words like “really”, “so” or “a bit” are present).`\n",
        "The advantage of this approach is that sentences containing negated positive words (e.g. “not happy”, “not good”) will still receive a negative sentence sentiment (thanks to the heuristics to flip the sentiment of the word following a negation).\n",
        "Vader is sensitive to punctuation, capitalization, degree modifiers, Preceding Tri-gram\n",
        "```\n",
        "The compound score is computed by summing the valence scores of each word in the lexicon, adjusted according to the rules, and then normalized to be between -1 (most extreme negative) and +1 (most extreme positive). This is the most useful metric if you want a single unidimensional measure of sentiment for a given sentence. Calling it a 'normalized, weighted composite score' is accurate.\n",
        "*   Positive sentiment: compound score >= 0.05\n",
        "*   Neutral sentiment: (compound score > -0.05) and (compound score < 0.05)\n",
        "*   Negative sentiment: compound score <= -0.05\n",
        "\n",
        "The pos, neu, and neg scores are ratios for proportions of text that fall in each category. These are the most useful metrics if you want multidimensional measures of sentiment for a given sentence."
      ]
    },
    {
      "cell_type": "code",
      "metadata": {
        "id": "y3R4NnFFA4We",
        "colab_type": "code",
        "outputId": "4ad06ad6-528d-4550-b62d-f85159acb974",
        "colab": {
          "base_uri": "https://localhost:8080/",
          "height": 54
        }
      },
      "source": [
        "from nltk.sentiment.vader import SentimentIntensityAnalyzer\n",
        "nltk.download('vader_lexicon')\n",
        "vader = SentimentIntensityAnalyzer()"
      ],
      "execution_count": 167,
      "outputs": [
        {
          "output_type": "stream",
          "text": [
            "[nltk_data] Downloading package vader_lexicon to /root/nltk_data...\n",
            "[nltk_data]   Package vader_lexicon is already up-to-date!\n"
          ],
          "name": "stdout"
        }
      ]
    },
    {
      "cell_type": "code",
      "metadata": {
        "id": "d5yYk-yyDBYc",
        "colab_type": "code",
        "outputId": "6cb13f2f-735b-449c-dbf1-971df4a8449b",
        "colab": {
          "base_uri": "https://localhost:8080/",
          "height": 35
        }
      },
      "source": [
        "vader.polarity_scores('this is great')"
      ],
      "execution_count": 170,
      "outputs": [
        {
          "output_type": "execute_result",
          "data": {
            "text/plain": [
              "{'compound': 0.6249, 'neg': 0.0, 'neu': 0.328, 'pos': 0.672}"
            ]
          },
          "metadata": {
            "tags": []
          },
          "execution_count": 170
        }
      ]
    },
    {
      "cell_type": "code",
      "metadata": {
        "id": "09Mn61n3e0KJ",
        "colab_type": "code",
        "colab": {}
      },
      "source": [
        "def get_vader_sent(val):\n",
        "  if val >= 0.05:\n",
        "    return \"pos\"\n",
        "  elif val <= -0.05:\n",
        "    return \"neg\"\n",
        "  else:\n",
        "    return \"neu\""
      ],
      "execution_count": 0,
      "outputs": []
    },
    {
      "cell_type": "code",
      "metadata": {
        "id": "j1HwWq89BFHA",
        "colab_type": "code",
        "outputId": "b4fc959b-5ea5-403f-bc18-39c15ebc124d",
        "colab": {
          "base_uri": "https://localhost:8080/",
          "height": 35
        }
      },
      "source": [
        "# Checking with non preprocessed data (hence including punctuation, upper case, etc.)\n",
        "vader_real = []\n",
        "sentiments_real = dataset.loc[dataset['class'] == 1][\"text\"].tolist()\n",
        "\n",
        "for i in range(len(sentiments_real)):\n",
        "  vader_real.append(vader.polarity_scores(str(sentiments_real[i])))\n",
        "\n",
        "comp = []\n",
        "pos = []\n",
        "neg = []\n",
        "neu = []\n",
        "for j in range(len(vader_real)):\n",
        "  comp.append(vader_real[j]['compound'])\n",
        "  pos.append(vader_real[j]['pos'])\n",
        "  neg.append(vader_real[j]['neg'])\n",
        "  neu.append(vader_real[j]['neu'])\n",
        "\n",
        "print(\"Compound: \",sum(comp)/len(comp), \"Positive: \",sum(pos)/len(pos),\"Neutral: \", sum(neu)/len(neu),\"Negative :\", sum(neg)/len(neg))"
      ],
      "execution_count": 163,
      "outputs": [
        {
          "output_type": "stream",
          "text": [
            "Compound:  0.05031555772539132 Positive:  0.08207653322174185 Neutral:  0.8383116659692185 Negative : 0.07960942948807359\n"
          ],
          "name": "stdout"
        }
      ]
    },
    {
      "cell_type": "code",
      "metadata": {
        "id": "srr3tn8gfHcZ",
        "colab_type": "code",
        "colab": {
          "base_uri": "https://localhost:8080/",
          "height": 35
        },
        "outputId": "d7b46962-6c56-4d78-ef6b-c9b4d142c072"
      },
      "source": [
        "sent_real = [get_vader_sent(x) for x in comp]\n",
        "sent_real[:10]"
      ],
      "execution_count": 173,
      "outputs": [
        {
          "output_type": "execute_result",
          "data": {
            "text/plain": [
              "['neg', 'neg', 'pos', 'pos', 'neg', 'neg', 'pos', 'neg', 'pos', 'neg']"
            ]
          },
          "metadata": {
            "tags": []
          },
          "execution_count": 173
        }
      ]
    },
    {
      "cell_type": "code",
      "metadata": {
        "id": "2BQOq1nHEwj1",
        "colab_type": "code",
        "outputId": "f406f85b-8d41-4376-bce9-2e03e7f0eebe",
        "colab": {
          "base_uri": "https://localhost:8080/",
          "height": 35
        }
      },
      "source": [
        "vader_fake = []\n",
        "sentiments_fake = dataset.loc[dataset['class'] == 0][\"text\"].tolist()\n",
        "\n",
        "for i in range(len(sentiments_fake)):\n",
        "  vader_fake.append(vader.polarity_scores(sentiments_fake[i]))\n",
        "\n",
        "comp_fake = []\n",
        "pos_fake = []\n",
        "neg_fake = []\n",
        "neu_fake = []\n",
        "for j in range(len(vader_fake)):\n",
        "  comp_fake.append(vader_fake[j]['compound'])\n",
        "  pos_fake.append(vader_fake[j]['pos'])\n",
        "  neg_fake.append(vader_fake[j]['neg'])\n",
        "  neu_fake.append(vader_fake[j]['neu'])\n",
        "\n",
        "print(\"Compound: \",sum(comp_fake)/len(comp_fake), \"Positive: \",sum(pos_fake)/len(pos_fake),\"Neutral: \", sum(neu_fake)/len(neu_fake),\"Negative :\", sum(neg_fake)/len(neg_fake))"
      ],
      "execution_count": 174,
      "outputs": [
        {
          "output_type": "stream",
          "text": [
            "Compound:  -0.11310644669165816 Positive:  0.09273681457588731 Neutral:  0.8056036526893928 Negative : 0.10127233894168\n"
          ],
          "name": "stdout"
        }
      ]
    },
    {
      "cell_type": "code",
      "metadata": {
        "id": "oQWOt7JqgnWW",
        "colab_type": "code",
        "colab": {
          "base_uri": "https://localhost:8080/",
          "height": 35
        },
        "outputId": "e1b5cd89-a700-4982-e716-2e08558592f6"
      },
      "source": [
        "sent_fake = [get_vader_sent(x) for x in comp_fake]\n",
        "sent_fake[:10]"
      ],
      "execution_count": 175,
      "outputs": [
        {
          "output_type": "execute_result",
          "data": {
            "text/plain": [
              "['pos', 'pos', 'pos', 'neg', 'neu', 'neg', 'pos', 'neg', 'neg', 'neg']"
            ]
          },
          "metadata": {
            "tags": []
          },
          "execution_count": 175
        }
      ]
    },
    {
      "cell_type": "code",
      "metadata": {
        "id": "4PzU8UnoN5ln",
        "colab_type": "code",
        "colab": {
          "base_uri": "https://localhost:8080/",
          "height": 290
        },
        "outputId": "f266c4d7-83d9-4e96-c3d6-1cdbd982f744"
      },
      "source": [
        "real_unique, real_count = np.unique(sent_real, return_counts=True)\n",
        "fake_unique, fake_count = np.unique(sent_fake, return_counts=True)\n",
        "vader_sent = pd.DataFrame(data={'sentiments':real_unique, 'Fake':fake_count, \"Real\":real_count})\n",
        "\n",
        "ax = vader_sent.plot.bar()\n",
        "ax.set(xticklabels = vader_sent['sentiments'])\n",
        "plt.legend(loc='upper center')\n",
        "plt.title('Sentiment distribution of news corpus')\n",
        "plt.show()"
      ],
      "execution_count": 213,
      "outputs": [
        {
          "output_type": "display_data",
          "data": {
            "image/png": "[encoded data removed]",
            "text/plain": [
              "<Figure size 432x288 with 1 Axes>"
            ]
          },
          "metadata": {
            "tags": [],
            "needs_background": "light"
          }
        }
      ]
    },
    {
      "cell_type": "code",
      "metadata": {
        "id": "_vsXZeFtRkuS",
        "colab_type": "code",
        "outputId": "a40969df-eca2-47a7-b959-4ba7ac510d35",
        "colab": {
          "base_uri": "https://localhost:8080/",
          "height": 35
        }
      },
      "source": [
        "# Checking the same with preprocessed data (without punctuation, upper case, etc.)\n",
        "vader_real = []\n",
        "sentiments_real_bert = bert_dataset.loc[bert_dataset['class'] == 1][\"text\"].tolist()\n",
        "\n",
        "for i in range(len(sentiments_real_bert)):\n",
        "  vader_real.append(vader.polarity_scores(str(sentiments_real_bert[i])))\n",
        "\n",
        "comp = []\n",
        "pos = []\n",
        "neg = []\n",
        "neu = []\n",
        "for j in range(len(vader_real)):\n",
        "  comp.append(vader_real[j]['compound'])\n",
        "  pos.append(vader_real[j]['pos'])\n",
        "  neg.append(vader_real[j]['neg'])\n",
        "  neu.append(vader_real[j]['neu'])\n",
        "\n",
        "print(\"Compound: \",sum(comp)/len(comp), \"Positive: \",sum(pos)/len(pos),\"Neutral: \", sum(neu)/len(neu),\"Negative :\", sum(neg)/len(neg))"
      ],
      "execution_count": 214,
      "outputs": [
        {
          "output_type": "stream",
          "text": [
            "Compound:  0.017348168644187045 Positive:  0.130397223655208 Neutral:  0.7414339445668986 Negative : 0.12816207850677608\n"
          ],
          "name": "stdout"
        }
      ]
    },
    {
      "cell_type": "code",
      "metadata": {
        "id": "pOuTIH-ZRywa",
        "colab_type": "code",
        "outputId": "99ad73e4-c607-4524-d2be-7db1210cb283",
        "colab": {
          "base_uri": "https://localhost:8080/",
          "height": 35
        }
      },
      "source": [
        "vader_fake = []\n",
        "sentiments_fake_bert = bert_dataset.loc[bert_dataset['class'] == 0][\"text\"].tolist()\n",
        "\n",
        "for i in range(len(sentiments_fake_bert)):\n",
        "  vader_fake.append(vader.polarity_scores(sentiments_fake_bert[i]))\n",
        "\n",
        "comp_fake = []\n",
        "pos_fake = []\n",
        "neg_fake = []\n",
        "neu_fake = []\n",
        "for j in range(len(vader_fake)):\n",
        "  comp_fake.append(vader_fake[j]['compound'])\n",
        "  pos_fake.append(vader_fake[j]['pos'])\n",
        "  neg_fake.append(vader_fake[j]['neg'])\n",
        "  neu_fake.append(vader_fake[j]['neu'])\n",
        "\n",
        "print(\"Compound: \",sum(comp_fake)/len(comp_fake), \"Positive: \",sum(pos_fake)/len(pos_fake),\"Neutral: \", sum(neu_fake)/len(neu_fake),\"Negative :\", sum(neg_fake)/len(neg_fake))"
      ],
      "execution_count": 215,
      "outputs": [
        {
          "output_type": "stream",
          "text": [
            "Compound:  -0.14078601041129327 Positive:  0.14954842189185366 Neutral:  0.6837303381325329 Negative : 0.16672353796369957\n"
          ],
          "name": "stdout"
        }
      ]
    },
    {
      "cell_type": "code",
      "metadata": {
        "id": "ULrmKrA1ns6L",
        "colab_type": "code",
        "colab": {
          "base_uri": "https://localhost:8080/",
          "height": 290
        },
        "outputId": "19be2abc-079b-4ba5-8736-077e30bad1f8"
      },
      "source": [
        "sent_bert_real = [get_vader_sent(x) for x in comp]\n",
        "sent_bert_fake = [get_vader_sent(x) for x in comp_fake]\n",
        "\n",
        "bert_real_unique, bert_real_count = np.unique(sent_bert_real, return_counts=True)\n",
        "bert_fake_unique, bert_fake_count = np.unique(sent_bert_fake, return_counts=True)\n",
        "vader_bert_sent = pd.DataFrame(data={'sentiments':bert_real_unique, 'Fake':bert_fake_count, \"Real\":bert_real_count})\n",
        "\n",
        "ax = vader_bert_sent.plot.bar()\n",
        "ax.set(xticklabels = vader_bert_sent['sentiments'])\n",
        "plt.legend(loc='upper center')\n",
        "plt.title('Sentiment distribution of news corpus')\n",
        "plt.show()"
      ],
      "execution_count": 218,
      "outputs": [
        {
          "output_type": "display_data",
          "data": {
            "image/png": "[encoded data removed]",
            "text/plain": [
              "<Figure size 432x288 with 1 Axes>"
            ]
          },
          "metadata": {
            "tags": [],
            "needs_background": "light"
          }
        }
      ]
    },
    {
      "cell_type": "code",
      "metadata": {
        "id": "FdyjDuZmWLWZ",
        "colab_type": "code",
        "outputId": "c3137fda-fa89-4179-9be8-3c7c55a614b2",
        "colab": {
          "base_uri": "https://localhost:8080/",
          "height": 35
        }
      },
      "source": [
        "vader.polarity_scores(sentiments_real[10])"
      ],
      "execution_count": 216,
      "outputs": [
        {
          "output_type": "execute_result",
          "data": {
            "text/plain": [
              "{'compound': 0.9981, 'neg': 0.076, 'neu': 0.803, 'pos': 0.12}"
            ]
          },
          "metadata": {
            "tags": []
          },
          "execution_count": 216
        }
      ]
    },
    {
      "cell_type": "markdown",
      "metadata": {
        "id": "aNm6X0GtQCos",
        "colab_type": "text"
      },
      "source": [
        "With TextBlob\n",
        "\n",
        "\n",
        "```\n",
        "TextBlob uses a bag of words classifier, but the advantage is that it includes Subjectivity Analysis too (how factual/opinionated a piece of text is).\n",
        "However, it doesn’t contain the heuristics that NLTK has, and so it won’t intensify or negate a sentence’s sentiment.\n",
        "```\n",
        "\n",
        "\n",
        "*   polarity: negative vs. positive    (-1.0 => +1.0)\n",
        "*   subjectivity: objective vs. subjective (+0.0 => +1.0)\n",
        "\n"
      ]
    },
    {
      "cell_type": "code",
      "metadata": {
        "id": "QmkoOYgQQE0L",
        "colab_type": "code",
        "outputId": "8d0ece82-93f2-4ee6-be02-9399a9d8dd31",
        "colab": {
          "base_uri": "https://localhost:8080/",
          "height": 35
        }
      },
      "source": [
        "from textblob import TextBlob\n",
        "TextBlob(sentiments_real[10]).sentiment\n"
      ],
      "execution_count": 219,
      "outputs": [
        {
          "output_type": "execute_result",
          "data": {
            "text/plain": [
              "Sentiment(polarity=0.12359053309757537, subjectivity=0.4665880129260413)"
            ]
          },
          "metadata": {
            "tags": []
          },
          "execution_count": 219
        }
      ]
    },
    {
      "cell_type": "code",
      "metadata": {
        "id": "tENhs_3_W-_u",
        "colab_type": "code",
        "outputId": "bb232645-f75d-4160-e8d4-228be6899db7",
        "colab": {
          "base_uri": "https://localhost:8080/",
          "height": 35
        }
      },
      "source": [
        "# Checking with non preprocessed data (hence including punctuation, upper case, etc.)\n",
        "pol_real = []\n",
        "subj_real = []\n",
        "\n",
        "for i in range(len(sentiments_real)):\n",
        "  pol_real.append(TextBlob(sentiments_real[i]).sentiment.polarity)\n",
        "  subj_real.append(TextBlob(sentiments_real[i]).sentiment.subjectivity)\n",
        "\n",
        "print(\"Polarity: \",mean(pol_real), \"Subjectivity: \",mean(subj_real))"
      ],
      "execution_count": 221,
      "outputs": [
        {
          "output_type": "stream",
          "text": [
            "Polarity:  0.0533483268653243 Subjectivity:  0.36118319780445135\n"
          ],
          "name": "stdout"
        }
      ]
    },
    {
      "cell_type": "code",
      "metadata": {
        "id": "QSgrImWOZPR5",
        "colab_type": "code",
        "outputId": "ea4eb771-e2bf-43ca-8df1-a30e0181a3a2",
        "colab": {
          "base_uri": "https://localhost:8080/",
          "height": 35
        }
      },
      "source": [
        "pol_fake = []\n",
        "subj_fake = []\n",
        "\n",
        "for i in range(len(sentiments_fake)):\n",
        "  pol_fake.append(TextBlob(sentiments_fake[i]).sentiment.polarity)\n",
        "  subj_fake.append(TextBlob(sentiments_fake[i]).sentiment.subjectivity)\n",
        "\n",
        "print(\"Polarity: \",mean(pol_fake), \"Subjectivity: \",mean(subj_fake))"
      ],
      "execution_count": 222,
      "outputs": [
        {
          "output_type": "stream",
          "text": [
            "Polarity:  0.05812575370127231 Subjectivity:  0.4555637341407849\n"
          ],
          "name": "stdout"
        }
      ]
    },
    {
      "cell_type": "code",
      "metadata": {
        "id": "4xsZrOH2ZgbM",
        "colab_type": "code",
        "colab": {}
      },
      "source": [
        "# Checking the same with preprocessed data (without punctuation, upper case, etc.)\n",
        "pol_real = []\n",
        "subj_real = []\n",
        "\n",
        "for i in range(len(sentiments_real_bert)):\n",
        "  pol_real.append(TextBlob(sentiments_real_bert[i]).sentiment.polarity)\n",
        "  subj_real.append(TextBlob(sentiments_real_bert[i]).sentiment.subjectivity)\n",
        "\n",
        "print(\"Polarity: \",mean(pol_real), \"Subjectivity: \",mean(subj_real))\n"
      ],
      "execution_count": 0,
      "outputs": []
    },
    {
      "cell_type": "code",
      "metadata": {
        "id": "Hi4umXqnZgm-",
        "colab_type": "code",
        "colab": {}
      },
      "source": [
        "pol_fake = []\n",
        "subj_fake = []\n",
        "\n",
        "for i in range(len(sentiments_fake_bert)):\n",
        "  pol_fake.append(TextBlob(sentiments_fake_bert[i]).sentiment.polarity)\n",
        "  subj_fake.append(TextBlob(sentiments_fake_bert[i]).sentiment.subjectivity)\n",
        "\n",
        "print(\"Polarity: \",mean(pol_fake), \"Subjectivity: \",mean(subj_fake))"
      ],
      "execution_count": 0,
      "outputs": []
    },
    {
      "cell_type": "code",
      "metadata": {
        "id": "vc1ggXb_IVGx",
        "colab_type": "code",
        "colab": {
          "base_uri": "https://localhost:8080/",
          "height": 444
        },
        "outputId": "a8893cb7-86b2-45c0-b1b1-b56ebd2767df"
      },
      "source": [
        "plt.figure(figsize = (12,7))\n",
        "plt.hist(subj_fake, bins = 100, range = [0, 1], label='Fake')\n",
        "plt.hist(subj_real, bins = 100, range = [0, 1], alpha=0.5, label='Real')\n",
        "plt.legend(loc='upper right')\n",
        "plt.title('Subjectivity distribution of news corpus')\n",
        "plt.show()"
      ],
      "execution_count": 229,
      "outputs": [
        {
          "output_type": "display_data",
          "data": {
            "image/png": "[encoded data removed]",
            "text/plain": [
              "<Figure size 864x504 with 1 Axes>"
            ]
          },
          "metadata": {
            "tags": [],
            "needs_background": "light"
          }
        }
      ]
    },
    {
      "cell_type": "markdown",
      "metadata": {
        "id": "3oMwDd6RQFbp",
        "colab_type": "text"
      },
      "source": [
        "With Fair\n",
        "\n",
        "\n",
        "```\n",
        "Flair’s sentiment classifier is based on a character-level LSTM neural network which takes sequences of letters and words into account when predicting.\n",
        "The network has learnt to take negations into account, as well as intensifiers.\n",
        "It can also predict OOV words that it has never seen before (contrary to the 2 other libraries)\n",
        "```\n",
        "\n"
      ]
    },
    {
      "cell_type": "code",
      "metadata": {
        "id": "FpgN0I5EQGep",
        "colab_type": "code",
        "colab": {}
      },
      "source": [
        "#%%capture\n",
        "#!pip3 install flair\n",
        "#import flair"
      ],
      "execution_count": 0,
      "outputs": []
    },
    {
      "cell_type": "code",
      "metadata": {
        "id": "W09e39GxWWnz",
        "colab_type": "code",
        "colab": {}
      },
      "source": [
        "#flair_sentiment = flair.models.TextClassifier.load('en-sentiment')\n",
        "#s = flair.data.Sentence(sentiments_real[10])\n",
        "#flair_sentiment.predict(s)\n",
        "#total_sentiment = s.labels\n",
        "#total_sentiment"
      ],
      "execution_count": 0,
      "outputs": []
    },
    {
      "cell_type": "markdown",
      "metadata": {
        "id": "trJZh36gXaej",
        "colab_type": "text"
      },
      "source": [
        "## Naive Bayes Text feature importance"
      ]
    },
    {
      "cell_type": "code",
      "metadata": {
        "id": "vu4SNNLGXctR",
        "colab_type": "code",
        "colab": {}
      },
      "source": [
        "NUM_FEATURES = 20\n",
        "\n",
        "# getting the indexes of the top features by class\n",
        "fake_prob_sorted = naive_bayes_model.feature_log_prob_[0, :].argsort()[::-1]\n",
        "real_prob_sorted = naive_bayes_model.feature_log_prob_[1, :].argsort()[::-1]\n",
        "\n",
        "# getting the top feature names\n",
        "fake_top_features = np.take(vectorizer.get_feature_names(), fake_prob_sorted[:NUM_FEATURES])\n",
        "real_top_features = np.take(vectorizer.get_feature_names(), real_prob_sorted[:NUM_FEATURES])\n",
        "\n",
        "# creating dictionaries for each class with the feature name and log probability\n",
        "real_dict = {k:v for k, v in zip(\n",
        "                                real_top_features, \n",
        "                                np.take(naive_bayes_model.feature_log_prob_[1, :], real_prob_sorted[:NUM_FEATURES])\n",
        "                                )\n",
        "            }\n",
        "\n",
        "fake_dict = {k:v for k, v in zip(\n",
        "                                fake_top_features, \n",
        "                                np.take(naive_bayes_model.feature_log_prob_[0, :], fake_prob_sorted[:NUM_FEATURES])\n",
        "                                )\n",
        "            }"
      ],
      "execution_count": 0,
      "outputs": []
    },
    {
      "cell_type": "code",
      "metadata": {
        "id": "LDK6GX3vXsFS",
        "colab_type": "code",
        "colab": {}
      },
      "source": [
        "# creating a dataframe using the dictionaries of top terms per class\n",
        "top_terms = pd.DataFrame.from_dict(real_dict, orient='index')\n",
        "top_terms.reset_index(inplace=True)\n",
        "top_terms.rename(columns={'index': 'term', 0: 'log_prob'}, inplace=True)\n",
        "top_terms['label'] = 'Real'\n",
        "\n",
        "# add the top terms for the fake class\n",
        "for term, log_prob in fake_dict.items():\n",
        "    top_terms = top_terms.append({'term': term, 'log_prob': log_prob, 'label': 'Fake'}, ignore_index=True)\n",
        "\n",
        "# convert log probability to odds ratio\n",
        "top_terms['odds'] = top_terms.log_prob.apply(np.exp)\n",
        "\n",
        "# sort alphabetically\n",
        "top_terms = top_terms.sort_values('term', ascending=True)\n",
        "\n",
        "top_terms.head(10)"
      ],
      "execution_count": 0,
      "outputs": []
    },
    {
      "cell_type": "code",
      "metadata": {
        "id": "tk3l6mxkXyOn",
        "colab_type": "code",
        "colab": {}
      },
      "source": [
        "# creating dictionary to be used for plotting\n",
        "top_terms[\"idx\"]=range(0,len(top_terms))\n",
        "y_map = top_terms[\"term\"][:NUM_FEATURES*2]\n",
        "#y_map = {term: y for y, term in zip(range(0, top_terms.shape[0]), top_terms.term)}\n",
        "\n",
        "plot_map = {} \n",
        "for index, row in top_terms.iterrows():\n",
        "    term = row['term']\n",
        "    if term in plot_map:\n",
        "      term = term+\" \"\n",
        "    \n",
        "    plot_map[term] = {\n",
        "        'x': row['odds'],\n",
        "        'y': row['idx'],\n",
        "#        'y': y_map[term],\n",
        "        'c': 'red' if row['label'] == 'Fake' else 'blue'\n",
        "    } "
      ],
      "execution_count": 0,
      "outputs": []
    },
    {
      "cell_type": "code",
      "metadata": {
        "id": "hxv9bd4JX0kp",
        "colab_type": "code",
        "colab": {}
      },
      "source": [
        "# plotting\n",
        "fig = plt.figure(figsize=(8, 8))\n",
        "_ = plt.scatter(\n",
        "            [value['x'] for key, value in plot_map.items()], \n",
        "            [value['y'] for key, value in plot_map.items()],\n",
        "            s=5,\n",
        "            color=[value['c'] for key, value in plot_map.items()],\n",
        ")\n",
        "\n",
        "_ = plt.scatter(\n",
        "    [0]* top_terms.shape[0],\n",
        "    [r for r in range(0, top_terms.shape[0])],\n",
        "    s=5,\n",
        "    color='grey'\n",
        ")\n",
        "\n",
        "plt.legend()\n",
        "plt.yticks(ticks=[r for r in range(0, top_terms.shape[0])], labels=y_map)\n",
        "plt.xlabel('Odds Ratio')\n",
        "plt.ylabel('Term')\n",
        "plt.title('Top Important Terms by Class')\n",
        "plt.show()"
      ],
      "execution_count": 0,
      "outputs": []
    },
    {
      "cell_type": "markdown",
      "metadata": {
        "id": "qHQycRpLZDKR",
        "colab_type": "text"
      },
      "source": [
        "## K-Means on W2V vectors"
      ]
    },
    {
      "cell_type": "code",
      "metadata": {
        "id": "2E0vK_djhiIn",
        "colab_type": "code",
        "colab": {}
      },
      "source": [
        "from sklearn.cluster import KMeans\n",
        "from sklearn.neighbors import KDTree\n",
        "from itertools import cycle\n",
        "\n",
        "def clustering_on_wordvecs(word_vectors, num_clusters):\n",
        "    # Initalize a k-means object and use it to extract centroids\n",
        "    kmeans_clustering = KMeans(n_clusters = num_clusters, init='k-means++')\n",
        "    idx = kmeans_clustering.fit_predict(word_vectors)\n",
        "    \n",
        "    return kmeans_clustering.cluster_centers_, idx\n",
        "\n",
        "def get_top_words(index2word, k, centers, wordvecs):\n",
        "    tree = KDTree(wordvecs);\n",
        "\n",
        "    #Closest points for each Cluster center is used to query the closest 20 points to it.\n",
        "    closest_points = [tree.query(np.reshape(x, (1, -1)), k=k) for x in centers]\n",
        "    closest_words_idxs = [x[1] for x in closest_points]\n",
        "\n",
        "    #Word Index is queried for each position in the above array, and added to a Dictionary.\n",
        "    closest_words = {}\n",
        "    for i in range(0, len(closest_words_idxs)):\n",
        "        closest_words['Cluster #' + str(i+1).zfill(2)] = [index2word[j] for j in closest_words_idxs[i][0]]\n",
        "\n",
        "    #A DataFrame is generated from the dictionary.\n",
        "    df = pd.DataFrame(closest_words)\n",
        "    df.index = df.index+1\n",
        "\n",
        "    return df\n",
        "\n",
        "pd.set_option('display.max_columns', None)\n",
        "pd.set_option('display.max_rows', None)\n",
        "\n",
        "\n",
        "def display_cloud(cluster_num, cmap, words_df):\n",
        "    wc = WordCloud(background_color=\"black\", max_words=2000, max_font_size=80, colormap=cmap)\n",
        "    wordcloud = wc.generate(' '.join([word for word in words_df['Cluster #' + str(cluster_num).zfill(2)]]))\n",
        "    plt.figure(cluster_num)\n",
        "    plt.imshow(wordcloud, interpolation='bilinear')\n",
        "    plt.axis(\"off\")\n",
        "#    plt.savefig('cluster_' + str(cluster_num), bbox_inches='tight')\n",
        "\n",
        "\n",
        "cmaps = cycle([\n",
        "            'flag', 'prism', 'ocean', 'gist_earth', 'terrain', 'gist_stern',\n",
        "            'gnuplot', 'gnuplot2', 'CMRmap', 'cubehelix', 'brg', 'hsv',\n",
        "            'gist_rainbow', 'rainbow', 'jet', 'nipy_spectral', 'gist_ncar'])\n",
        "\n",
        "NUM_CLUSTERS = 10\n",
        "EMBEDDING_DIM = 100"
      ],
      "execution_count": 0,
      "outputs": []
    },
    {
      "cell_type": "code",
      "metadata": {
        "id": "UJk_dITKlbNJ",
        "colab_type": "code",
        "colab": {}
      },
      "source": [
        "w2v_model_real = gensim.models.Word2Vec(sentences=X_real, size=EMBEDDING_DIM, window=5, min_count=1)\n",
        "w2v_model_fake = gensim.models.Word2Vec(sentences=X_fake, size=EMBEDDING_DIM, window=5, min_count=1)"
      ],
      "execution_count": 0,
      "outputs": []
    },
    {
      "cell_type": "markdown",
      "metadata": {
        "id": "DV3-ZOAhheeR",
        "colab_type": "text"
      },
      "source": [
        "Starting with Fake news"
      ]
    },
    {
      "cell_type": "code",
      "metadata": {
        "id": "tf9exdYeZDvb",
        "colab_type": "code",
        "colab": {}
      },
      "source": [
        "centers_fake, clusters_fake = clustering_on_wordvecs(w2v_model_fake.wv.syn0, NUM_CLUSTERS)\n",
        "centroid_map_fake = dict(zip(w2v_model_fake.wv.index2word, clusters_fake))"
      ],
      "execution_count": 0,
      "outputs": []
    },
    {
      "cell_type": "code",
      "metadata": {
        "id": "EsVrapw8Zbwu",
        "colab_type": "code",
        "colab": {}
      },
      "source": [
        "#Getting words in each cluster that are closest to the cluster center\n",
        "top_words_fake = get_top_words(w2v_model_fake.wv.index2word, 20, centers_fake, w2v_model_fake.wv.syn0)\n",
        "top_words_fake"
      ],
      "execution_count": 0,
      "outputs": []
    },
    {
      "cell_type": "code",
      "metadata": {
        "id": "CdAdK4mxaCcl",
        "colab_type": "code",
        "colab": {}
      },
      "source": [
        "#Displaying clusters via WordClouds\n",
        "for fi in range(NUM_CLUSTERS):\n",
        "    col = next(cmaps)\n",
        "    display_cloud(fi+1, col, top_words_fake)\n"
      ],
      "execution_count": 0,
      "outputs": []
    },
    {
      "cell_type": "markdown",
      "metadata": {
        "id": "14Vmosbui7rw",
        "colab_type": "text"
      },
      "source": [
        "And with Real news"
      ]
    },
    {
      "cell_type": "code",
      "metadata": {
        "id": "FW_EwVXWi85g",
        "colab_type": "code",
        "colab": {}
      },
      "source": [
        "centers_real, clusters_real = clustering_on_wordvecs(w2v_model_real.wv.syn0, NUM_CLUSTERS)\n",
        "centroid_map_real = dict(zip(w2v_model_real.wv.index2word, clusters_real))"
      ],
      "execution_count": 0,
      "outputs": []
    },
    {
      "cell_type": "code",
      "metadata": {
        "id": "CkB9i3GBgX3J",
        "colab_type": "code",
        "colab": {}
      },
      "source": [
        "#Getting words in each cluster that are closest to the cluster center\n",
        "top_words_real = get_top_words(w2v_model_real.wv.index2word, 20, centers_real, w2v_model_real.wv.syn0)\n",
        "top_words_real"
      ],
      "execution_count": 0,
      "outputs": []
    },
    {
      "cell_type": "code",
      "metadata": {
        "id": "yZdJb7ysjTDo",
        "colab_type": "code",
        "colab": {}
      },
      "source": [
        "#Displaying clusters via WordClouds\n",
        "for ri in range(NUM_CLUSTERS):\n",
        "    col = next(cmaps);\n",
        "    display_cloud(ri+1, col, top_words_real)"
      ],
      "execution_count": 0,
      "outputs": []
    },
    {
      "cell_type": "code",
      "metadata": {
        "id": "jEml4CU1jsqK",
        "colab_type": "code",
        "colab": {}
      },
      "source": [
        ""
      ],
      "execution_count": 0,
      "outputs": []
    }
  ]
}